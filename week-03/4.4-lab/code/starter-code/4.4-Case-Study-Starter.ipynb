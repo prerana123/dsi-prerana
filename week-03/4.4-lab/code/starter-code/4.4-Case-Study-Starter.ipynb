{
 "cells": [
  {
   "cell_type": "markdown",
   "metadata": {},
   "source": [
    "# Case Study\n",
    "\n",
    "You are a data scientist at a top recruiting firm. Predict job salary based on different attributes to help the company more accurately/profitably determine compensation.\n",
    "\n",
    "To start, load in the data and poke around. Try to determine the most common jobs in the data set, and use linear regression to predict the 2015 salary.\n"
   ]
  },
  {
   "cell_type": "code",
   "execution_count": null,
   "metadata": {
    "collapsed": true
   },
   "outputs": [],
   "source": [
    "# Some python imports you may find useful\n",
    "% matplotlib inline\n",
    "\n",
    "from collections import defaultdict\n",
    "import datetime\n",
    "\n",
    "from matplotlib import pyplot as plt\n",
    "import numpy as np\n",
    "import pandas as pd\n",
    "import seaborn as sns\n",
    "from sklearn import linear_model"
   ]
  },
  {
   "cell_type": "code",
   "execution_count": null,
   "metadata": {
    "collapsed": false
   },
   "outputs": [],
   "source": [
    "# Load the the salary data\n",
    "\n",
    "# Take a quick look\n",
    "df.head()"
   ]
  },
  {
   "cell_type": "markdown",
   "metadata": {},
   "source": [
    "## Exploratory Analysis\n",
    "\n",
    "Use `value_counts` to look at the distribution of job types. Pick a job type and investigate further. For example, make a histogram of salaries and compute the mean and median per year."
   ]
  },
  {
   "cell_type": "code",
   "execution_count": null,
   "metadata": {
    "collapsed": false
   },
   "outputs": [],
   "source": [
    "# Use .value_counts() on your data frame series and print the results\n",
    "\n",
    "\n",
    "\n",
    "# Pick a specific profession and select those rows.\n",
    "# How many are there?\n",
    "# Note the some jobs are specified in multiple ways\n",
    "# (all upper case and mixed case).Be sure to combine\n",
    "# the data appropriately.\n"
   ]
  },
  {
   "cell_type": "code",
   "execution_count": null,
   "metadata": {
    "collapsed": false
   },
   "outputs": [],
   "source": [
    "# Make a histogram of salaries for your chosen job -- one for each year\n"
   ]
  },
  {
   "cell_type": "markdown",
   "metadata": {},
   "source": [
    "## Fit a model and Visualize"
   ]
  },
  {
   "cell_type": "code",
   "execution_count": null,
   "metadata": {
    "collapsed": false
   },
   "outputs": [],
   "source": [
    "# Look at change over time, mean and median per year\n",
    "\n",
    "\n",
    "# Plot the mean and median versus year with `plt`\n",
    "\n"
   ]
  },
  {
   "cell_type": "code",
   "execution_count": null,
   "metadata": {
    "collapsed": false
   },
   "outputs": [],
   "source": [
    "# Fit a linear model\n",
    "\n",
    "\n",
    "# Make a prediction for the 2015 Salary with your model\n",
    "\n",
    "\n",
    "# Plot the data, the best fit line, and the prediction\n",
    "\n"
   ]
  }
 ],
 "metadata": {
  "kernelspec": {
   "display_name": "Python 2",
   "language": "python",
   "name": "python2"
  },
  "language_info": {
   "codemirror_mode": {
    "name": "ipython",
    "version": 2
   },
   "file_extension": ".py",
   "mimetype": "text/x-python",
   "name": "python",
   "nbconvert_exporter": "python",
   "pygments_lexer": "ipython2",
   "version": "2.7.11"
  }
 },
 "nbformat": 4,
 "nbformat_minor": 0
}
