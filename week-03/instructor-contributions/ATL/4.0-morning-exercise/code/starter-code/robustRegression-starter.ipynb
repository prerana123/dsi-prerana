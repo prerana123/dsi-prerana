{
 "cells": [
  {
   "cell_type": "markdown",
   "metadata": {},
   "source": [
    "# Least Mean Absolute Deviations regression\n",
    "In this exercise, we will see how using least mean absolute deviations regression (also known as \"quantile regression\") can be superior to least squares regression when there are outliers.  When statisticians talk about models which will not be totally thrown off by a few outliers, they usually call these models \"robust.\"\n",
    "### Note: Let's not do `%matplotlib inline` for this one (I wasn't able to plot the line over the data with this option)"
   ]
  },
  {
   "cell_type": "markdown",
   "metadata": {},
   "source": [
    "# First, let's make a contrived dataset\n",
    "## Make our x's and our y's\n",
    "Declare a variable `xs` and define it to be a list equal to `[0,1,2,...,9]` (hey! don't hard code that!).  Then declare `ys` and define to be a list that corresponds to the linear function, $$y = 2x$$  Defining `ys` is easy with a list comprehension."
   ]
  },
  {
   "cell_type": "code",
   "execution_count": null,
   "metadata": {
    "collapsed": false
   },
   "outputs": [],
   "source": []
  },
  {
   "cell_type": "markdown",
   "metadata": {},
   "source": [
    "## Now, let's add our outlier\n",
    "Let's add the number 10 to our `xs` and the corresponding y value that we will add to our `ys`, will be given by $$y = 3x$$ This will clearly be an outlier, since all of the other points fit perfectly on the line defined by $$y = 2x$$"
   ]
  },
  {
   "cell_type": "code",
   "execution_count": null,
   "metadata": {
    "collapsed": true
   },
   "outputs": [],
   "source": []
  },
  {
   "cell_type": "markdown",
   "metadata": {},
   "source": [
    "### Plot the data, to make sure our outlier is very \"outliery\""
   ]
  },
  {
   "cell_type": "code",
   "execution_count": 1,
   "metadata": {
    "collapsed": false
   },
   "outputs": [],
   "source": [
    "from matplotlib import pyplot as plt"
   ]
  },
  {
   "cell_type": "markdown",
   "metadata": {},
   "source": [
    "## Now, let's make a pandas DataFrame with our data\n",
    "Entitle the columns \"x\" and \"y\", and add a third column, entitled \"one\", which will just contain the number 1 (used for the intercept later)."
   ]
  },
  {
   "cell_type": "code",
   "execution_count": 2,
   "metadata": {
    "collapsed": false
   },
   "outputs": [],
   "source": [
    "import pandas as pd"
   ]
  },
  {
   "cell_type": "markdown",
   "metadata": {},
   "source": [
    "# Now let's make regression lines using ordinary least squares (ols) and quantile regression (quantreg)\n",
    "## First, ordinary least squares\n",
    "Specify the model, fit the model, save the fit's predictions, and print the summary statistics."
   ]
  },
  {
   "cell_type": "code",
   "execution_count": 3,
   "metadata": {
    "collapsed": false
   },
   "outputs": [],
   "source": [
    "import statsmodels.formula.api as smf"
   ]
  },
  {
   "cell_type": "markdown",
   "metadata": {},
   "source": [
    "### Plot the line alongside the original data"
   ]
  },
  {
   "cell_type": "code",
   "execution_count": null,
   "metadata": {
    "collapsed": false
   },
   "outputs": [],
   "source": []
  },
  {
   "cell_type": "markdown",
   "metadata": {},
   "source": [
    "## Now, quantile regression (quantreg), a.k.a. least absolute deviations\n",
    "Specify the model, fit the model, save the fit's predictions, and print the summary statistics."
   ]
  },
  {
   "cell_type": "code",
   "execution_count": null,
   "metadata": {
    "collapsed": false
   },
   "outputs": [],
   "source": []
  },
  {
   "cell_type": "markdown",
   "metadata": {},
   "source": [
    "### Plot the line alongside the original data"
   ]
  },
  {
   "cell_type": "code",
   "execution_count": null,
   "metadata": {
    "collapsed": false
   },
   "outputs": [],
   "source": []
  },
  {
   "cell_type": "markdown",
   "metadata": {},
   "source": [
    "## Much better, no?"
   ]
  },
  {
   "cell_type": "code",
   "execution_count": null,
   "metadata": {
    "collapsed": true
   },
   "outputs": [],
   "source": []
  }
 ],
 "metadata": {
  "kernelspec": {
   "display_name": "Python 2",
   "language": "python",
   "name": "python2"
  },
  "language_info": {
   "codemirror_mode": {
    "name": "ipython",
    "version": 2
   },
   "file_extension": ".py",
   "mimetype": "text/x-python",
   "name": "python",
   "nbconvert_exporter": "python",
   "pygments_lexer": "ipython2",
   "version": "2.7.11"
  }
 },
 "nbformat": 4,
 "nbformat_minor": 0
}
