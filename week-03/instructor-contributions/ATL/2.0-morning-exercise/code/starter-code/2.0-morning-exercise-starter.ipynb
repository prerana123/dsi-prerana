{
 "cells": [
  {
   "cell_type": "code",
   "execution_count": 2,
   "metadata": {
    "collapsed": true
   },
   "outputs": [],
   "source": [
    "import pandas as pd\n",
    "import numpy as np"
   ]
  },
  {
   "cell_type": "code",
   "execution_count": 3,
   "metadata": {
    "collapsed": true
   },
   "outputs": [],
   "source": [
    "def read_csv(path): return pd.read_csv( path, sep = ',' )    "
   ]
  },
  {
   "cell_type": "code",
   "execution_count": 4,
   "metadata": {
    "collapsed": false
   },
   "outputs": [],
   "source": [
    "# This dataset is a list of student attributes in a school, Hair, Eye, Sex\n",
    "# and the Freq, or the total number of students with those attributes\n",
    "\n",
    "path = \"../../assets/HairEyeColor.csv\" # relative path\n",
    "df = read_csv(path) # calls read_csv function given path"
   ]
  },
  {
   "cell_type": "code",
   "execution_count": 5,
   "metadata": {
    "collapsed": false
   },
   "outputs": [],
   "source": [
    "# What are the datatypes for the df?"
   ]
  },
  {
   "cell_type": "code",
   "execution_count": 6,
   "metadata": {
    "collapsed": false
   },
   "outputs": [],
   "source": [
    "# create a variable called columns that will have a list of all dataframe column names"
   ]
  },
  {
   "cell_type": "code",
   "execution_count": 7,
   "metadata": {
    "collapsed": false
   },
   "outputs": [],
   "source": [
    "# Drop the Column Named 'Unnamed: 0' from df\n",
    "# Hint: If your column variable is a list, you can slice by index to access elements"
   ]
  },
  {
   "cell_type": "code",
   "execution_count": 8,
   "metadata": {
    "collapsed": false
   },
   "outputs": [],
   "source": [
    "# Show that the Column 'Unnamed: 0' has actually been removed"
   ]
  },
  {
   "cell_type": "code",
   "execution_count": 9,
   "metadata": {
    "collapsed": false
   },
   "outputs": [],
   "source": [
    "# Are there any null or empty values in df? "
   ]
  },
  {
   "cell_type": "code",
   "execution_count": 10,
   "metadata": {
    "collapsed": false
   },
   "outputs": [],
   "source": [
    "# How many rows are in df? "
   ]
  },
  {
   "cell_type": "code",
   "execution_count": 11,
   "metadata": {
    "collapsed": false
   },
   "outputs": [],
   "source": [
    "# print the first 15 rows in df"
   ]
  },
  {
   "cell_type": "code",
   "execution_count": 181,
   "metadata": {
    "collapsed": false
   },
   "outputs": [],
   "source": [
    "# create a another dataframe called df1 that has the records of students with only black hair\n",
    "\n",
    "# call this dataframe df1"
   ]
  },
  {
   "cell_type": "code",
   "execution_count": 12,
   "metadata": {
    "collapsed": false
   },
   "outputs": [],
   "source": [
    "# create a another dataframe called df2\n",
    "# df2 should have have records of students with black hair and brown eyes\n",
    "# HINT:, retransform df1!\n",
    "\n",
    "# How many students have black eyes and brown hair? \n",
    "\n",
    "# HINT: Once you have df2, you can do a sum operation on any column of df2, including Freq"
   ]
  },
  {
   "cell_type": "code",
   "execution_count": 13,
   "metadata": {
    "collapsed": false
   },
   "outputs": [],
   "source": [
    "# create a another dataframe called df3\n",
    "# df3 should have have records of male students with black hair and brown eyes\n",
    "# HINT:, retransform df2!\n",
    "\n",
    "# How many blackeyed, brown hair, male students are in the class? "
   ]
  },
  {
   "cell_type": "code",
   "execution_count": 14,
   "metadata": {
    "collapsed": false
   },
   "outputs": [],
   "source": [
    "# create a another dataFrame called df4, that only filters df (NOT df1,df2,df3)\n",
    "# to get the total number of male students with black hair, brown eyes.\n",
    "# HINT: df4 = df[ (df.column1 == someVal1) & ..... & (df.columnN == someValN) ]\n",
    "# You can put multiple conditions in a dataframe by enclosing each condition in parenthesis,\n",
    "# and separating each consecutive condition with a '&' symbol.\n",
    "\n",
    "# One you have d4, print the total number of male students with black hair, brown eyes"
   ]
  },
  {
   "cell_type": "code",
   "execution_count": 15,
   "metadata": {
    "collapsed": false
   },
   "outputs": [],
   "source": [
    "# Answer the above question with a groupby and and a apply afterwards (using df)\n",
    "# HINT: df.groupby( listOfColumnssToGroupBy ).apply(someFunctionThatWillSumFreq)"
   ]
  },
  {
   "cell_type": "code",
   "execution_count": 16,
   "metadata": {
    "collapsed": false
   },
   "outputs": [],
   "source": [
    "# using df (NOT df1,df2,df3,df4), replace all males with integer value of 1, \n",
    "# and all females to integer value of 0,\n",
    "# replace the Sex Column with new Column, keep the same name 'Sex'\n",
    "# hint. df['newCol'] = df.someColumn.apply(someFunction)\n",
    "# print the first 20 rows of the new Column"
   ]
  },
  {
   "cell_type": "code",
   "execution_count": 17,
   "metadata": {
    "collapsed": false
   },
   "outputs": [],
   "source": [
    "# using df (NOT df1,df2,df3,df4) create a new column called FreqPercent \n",
    "# FreqPercent will be the correspinding percentage of students \n",
    "# with those students attributes for that record\n",
    "# HINT: someColumn = df.someColumn\n",
    "# sumOfColumn = sum( someColumn )\n",
    "# df['FreqPercent'] = someColumn.apply(someFunctionToGetFreqPercent)\n",
    "# print the first 20 rows of this new column"
   ]
  },
  {
   "cell_type": "code",
   "execution_count": 18,
   "metadata": {
    "collapsed": false
   },
   "outputs": [],
   "source": [
    "# Ensure that the sum of all FreqPercent (our new column in df) is 100%"
   ]
  },
  {
   "cell_type": "code",
   "execution_count": null,
   "metadata": {
    "collapsed": true
   },
   "outputs": [],
   "source": []
  }
 ],
 "metadata": {
  "kernelspec": {
   "display_name": "Python 2",
   "language": "python",
   "name": "python2"
  },
  "language_info": {
   "codemirror_mode": {
    "name": "ipython",
    "version": 2
   },
   "file_extension": ".py",
   "mimetype": "text/x-python",
   "name": "python",
   "nbconvert_exporter": "python",
   "pygments_lexer": "ipython2",
   "version": "2.7.11"
  }
 },
 "nbformat": 4,
 "nbformat_minor": 0
}
