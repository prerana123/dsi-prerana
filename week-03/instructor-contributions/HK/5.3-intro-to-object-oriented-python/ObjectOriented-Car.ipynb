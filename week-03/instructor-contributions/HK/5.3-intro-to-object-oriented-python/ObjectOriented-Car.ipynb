{
 "cells": [
  {
   "cell_type": "code",
   "execution_count": 170,
   "metadata": {
    "collapsed": false
   },
   "outputs": [],
   "source": [
    "class Car(object):\n",
    "\n",
    "    _doors = None\n",
    "    colour = None\n",
    "    speed = None\n",
    "    petrol = None\n",
    "    capacity = None\n",
    "\n",
    "    def __init__(self, colour=\"White with stripes\", doors=2):\n",
    "        self._doors = 4\n",
    "        self.colour = \"White\"\n",
    "        self.speed = 0.0\n",
    "        self.petrol = 0.0\n",
    "        self.capacity = 40.0\n",
    "    \n",
    "    def __str__(self):\n",
    "        return \"Colour: {}\\nDoors {}\".format(self.colour, self._doors)\n",
    "    \n",
    "\n",
    "    \n",
    "    def __repr__(self):\n",
    "        return \"Colour: {}\\nDoors {}\".format(self.colour, self._doors)\n",
    "    \n",
    "    def __cmp__(self, other):\n",
    "        # return cmp(self.doors, other.doors)\n",
    "    \n",
    "        if self._doors < other._doors:\n",
    "            return -1\n",
    "        elif self._doors == other._doors:\n",
    "            return 0\n",
    "        else:\n",
    "            return 1\n",
    "\n",
    "    def __add__(self, other):\n",
    "        return Car(colour=random.sample([self.colour, other.colour], 1),\n",
    "                   doors=random.sample([self._doors, other._doors], 1))\n",
    "        \n",
    "    \n",
    "    def petrol_gauge(self):\n",
    "        filled_perc = self.petrol/self.capacity\n",
    "        if filled_perc > .90:\n",
    "            return \"Full\"\n",
    "        elif filled_perc > .25:\n",
    "            return \"Half\"\n",
    "        elif filled_perc > .10:\n",
    "            return \"Empty\"\n",
    "        else:\n",
    "            return \"Negative!!!\"\n",
    "    \n",
    "    def fill(self, quantity = None):\n",
    "        if quantity is None:\n",
    "            self.petrol = self.capacity\n",
    "        else:\n",
    "            self.petrol = min(quantity+self.petrol, self.capacity)\n",
    "\n",
    "        return self.petrol\n",
    "            \n",
    "    \n",
    "herbie = Car(colour=\"White with stripes\", doors=2)\n",
    "    \n",
    "    "
   ]
  },
  {
   "cell_type": "code",
   "execution_count": 171,
   "metadata": {
    "collapsed": false
   },
   "outputs": [
    {
     "data": {
      "text/plain": [
       "'Negative!!!'"
      ]
     },
     "execution_count": 171,
     "metadata": {},
     "output_type": "execute_result"
    }
   ],
   "source": [
    "herbie.petrol_gauge()"
   ]
  },
  {
   "cell_type": "code",
   "execution_count": 172,
   "metadata": {
    "collapsed": false
   },
   "outputs": [
    {
     "data": {
      "text/plain": [
       "40.0"
      ]
     },
     "execution_count": 172,
     "metadata": {},
     "output_type": "execute_result"
    }
   ],
   "source": [
    "herbie.fill()"
   ]
  },
  {
   "cell_type": "code",
   "execution_count": 173,
   "metadata": {
    "collapsed": false
   },
   "outputs": [
    {
     "data": {
      "text/plain": [
       "'Full'"
      ]
     },
     "execution_count": 173,
     "metadata": {},
     "output_type": "execute_result"
    }
   ],
   "source": [
    "herbie.petrol_gauge()"
   ]
  },
  {
   "cell_type": "code",
   "execution_count": 174,
   "metadata": {
    "collapsed": false
   },
   "outputs": [
    {
     "name": "stdout",
     "output_type": "stream",
     "text": [
      "Colour: White\n",
      "Doors 4\n"
     ]
    }
   ],
   "source": [
    "print herbie"
   ]
  },
  {
   "cell_type": "code",
   "execution_count": 175,
   "metadata": {
    "collapsed": false
   },
   "outputs": [
    {
     "data": {
      "text/plain": [
       "Colour: White\n",
       "Doors 4"
      ]
     },
     "execution_count": 175,
     "metadata": {},
     "output_type": "execute_result"
    }
   ],
   "source": [
    "herbie"
   ]
  },
  {
   "cell_type": "code",
   "execution_count": 176,
   "metadata": {
    "collapsed": false
   },
   "outputs": [],
   "source": [
    "barbie = Car(colour=\"Red\")"
   ]
  },
  {
   "cell_type": "code",
   "execution_count": 177,
   "metadata": {
    "collapsed": false
   },
   "outputs": [
    {
     "data": {
      "text/plain": [
       "False"
      ]
     },
     "execution_count": 177,
     "metadata": {},
     "output_type": "execute_result"
    }
   ],
   "source": [
    "herbie < barbie"
   ]
  },
  {
   "cell_type": "code",
   "execution_count": 178,
   "metadata": {
    "collapsed": false
   },
   "outputs": [],
   "source": [
    "baby_car = herbie + barbie"
   ]
  },
  {
   "cell_type": "code",
   "execution_count": 179,
   "metadata": {
    "collapsed": false
   },
   "outputs": [
    {
     "data": {
      "text/plain": [
       "Colour: White\n",
       "Doors 4"
      ]
     },
     "execution_count": 179,
     "metadata": {},
     "output_type": "execute_result"
    }
   ],
   "source": [
    "baby_car"
   ]
  },
  {
   "cell_type": "code",
   "execution_count": 180,
   "metadata": {
    "collapsed": false
   },
   "outputs": [
    {
     "name": "stdout",
     "output_type": "stream",
     "text": [
      "Colour: White\n",
      "Doors 4\n",
      "Colour: White\n",
      "Doors 4\n",
      "Colour: White\n",
      "Doors 4\n",
      "Colour: White\n",
      "Doors 4\n",
      "Colour: White\n",
      "Doors 4\n",
      "Colour: White\n",
      "Doors 4\n",
      "Colour: White\n",
      "Doors 4\n",
      "Colour: White\n",
      "Doors 4\n",
      "Colour: White\n",
      "Doors 4\n",
      "Colour: White\n",
      "Doors 4\n"
     ]
    }
   ],
   "source": [
    "for i in range(10):\n",
    "    print herbie + barbie"
   ]
  },
  {
   "cell_type": "code",
   "execution_count": null,
   "metadata": {
    "collapsed": true
   },
   "outputs": [],
   "source": []
  },
  {
   "cell_type": "code",
   "execution_count": null,
   "metadata": {
    "collapsed": true
   },
   "outputs": [],
   "source": []
  }
 ],
 "metadata": {
  "kernelspec": {
   "display_name": "Python 2",
   "language": "python",
   "name": "python2"
  },
  "language_info": {
   "codemirror_mode": {
    "name": "ipython",
    "version": 2
   },
   "file_extension": ".py",
   "mimetype": "text/x-python",
   "name": "python",
   "nbconvert_exporter": "python",
   "pygments_lexer": "ipython2",
   "version": "2.7.11"
  }
 },
 "nbformat": 4,
 "nbformat_minor": 0
}
