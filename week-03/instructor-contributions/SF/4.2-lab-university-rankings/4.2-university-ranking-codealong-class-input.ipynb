{
 "cells": [
  {
   "cell_type": "markdown",
   "metadata": {},
   "source": [
    "# Times University ranking dataset analysis\n",
    "\n",
    "In this codealong we are going to analyze a ranking of universities using regression. Specifically, we are going to **predict the university ranking** with the provided predictors.\n",
    "\n",
    "---\n",
    "\n",
    "The information provided in the csv contains:\n",
    "\n",
    "- **world_rank** - world rank for the university. Contains rank ranges and equal ranks (eg. =94 and 201-250).\n",
    "- **university_name** - name of university.\n",
    "- **country** - country of each university.\n",
    "- **teaching** - university score for teaching (the learning environment).\n",
    "- **international** - university score international outlook (staff, students, research).\n",
    "- **research** - university score for research (volume, income and reputation).\n",
    "- **citations** - university score for citations (research influence).\n",
    "- **income** - university score for industry income (knowledge transfer).\n",
    "- **total_score** - total score for university, used to determine rank.\n",
    "- **num_students** - number of students at the university.\n",
    "- **student_staff_ratio** - Number of students divided by number of staff.\n",
    "- **international_students** - Percentage of students who are international.\n",
    "- **female_male_ratio** - Female student to Male student ratio.\n",
    "- **year** - year of the ranking (2011 to 2016 included).\n",
    "\n",
    "We are going to predict the **total score**, which directly corresponds to the ranking.\n",
    "\n",
    "---\n",
    "\n",
    "### ONLY THE DATA PATH IS PROVIDED!\n",
    "\n",
    "The analysis is up to you. This is an open ended practice. You are expected to:\n",
    "\n",
    "- Load the packages you need to do analysis\n",
    "- Perform EDA on variables of interest\n",
    "- Form a hypothesis or hypotheses on what is important for the score\n",
    "- Check your data for problems, clean and munge data into correct formats\n",
    "- Create new variables from columns if necessary\n",
    "- Perform statistical analysis with regression and describe the results\n",
    "\n",
    "---\n",
    "\n",
    "I will obviously be there in class to help, but if you do not know how to do something **I expect you to check documentation first.** I look up things in documentation all the time. \n",
    "\n",
    "**You are not expected to know how to do things by heart. Knowing how to effectively look up the answers on the internet is a critical skill for data scientists!**"
   ]
  },
  {
   "cell_type": "code",
   "execution_count": 1,
   "metadata": {
    "collapsed": true
   },
   "outputs": [],
   "source": [
    "uni_data_path = './dataset/timesData.csv'"
   ]
  },
  {
   "cell_type": "code",
   "execution_count": 2,
   "metadata": {
    "collapsed": true
   },
   "outputs": [],
   "source": [
    "import pandas as pd\n",
    "import numpy as np\n",
    "import matplotlib.pyplot as plt\n",
    "import seaborn as sns\n",
    "\n",
    "%matplotlib inline"
   ]
  },
  {
   "cell_type": "code",
   "execution_count": 3,
   "metadata": {
    "collapsed": true
   },
   "outputs": [],
   "source": [
    "unidata = pd.read_csv(uni_data_path)"
   ]
  },
  {
   "cell_type": "code",
   "execution_count": 4,
   "metadata": {
    "collapsed": false
   },
   "outputs": [
    {
     "data": {
      "text/html": [
       "<div>\n",
       "<table border=\"1\" class=\"dataframe\">\n",
       "  <thead>\n",
       "    <tr style=\"text-align: right;\">\n",
       "      <th></th>\n",
       "      <th>world_rank</th>\n",
       "      <th>university_name</th>\n",
       "      <th>country</th>\n",
       "      <th>teaching</th>\n",
       "      <th>international</th>\n",
       "      <th>research</th>\n",
       "      <th>citations</th>\n",
       "      <th>income</th>\n",
       "      <th>total_score</th>\n",
       "      <th>num_students</th>\n",
       "      <th>student_staff_ratio</th>\n",
       "      <th>international_students</th>\n",
       "      <th>female_male_ratio</th>\n",
       "      <th>year</th>\n",
       "    </tr>\n",
       "  </thead>\n",
       "  <tbody>\n",
       "    <tr>\n",
       "      <th>0</th>\n",
       "      <td>1</td>\n",
       "      <td>Harvard University</td>\n",
       "      <td>United States of America</td>\n",
       "      <td>99.7</td>\n",
       "      <td>72.4</td>\n",
       "      <td>98.7</td>\n",
       "      <td>98.8</td>\n",
       "      <td>34.5</td>\n",
       "      <td>96.1</td>\n",
       "      <td>20,152</td>\n",
       "      <td>8.9</td>\n",
       "      <td>25%</td>\n",
       "      <td>NaN</td>\n",
       "      <td>2011</td>\n",
       "    </tr>\n",
       "  </tbody>\n",
       "</table>\n",
       "</div>"
      ],
      "text/plain": [
       "  world_rank     university_name                   country  teaching  \\\n",
       "0          1  Harvard University  United States of America      99.7   \n",
       "\n",
       "  international  research  citations income total_score num_students  \\\n",
       "0          72.4      98.7       98.8   34.5        96.1       20,152   \n",
       "\n",
       "   student_staff_ratio international_students female_male_ratio  year  \n",
       "0                  8.9                    25%               NaN  2011  "
      ]
     },
     "execution_count": 4,
     "metadata": {},
     "output_type": "execute_result"
    }
   ],
   "source": [
    "unidata.head(1)"
   ]
  },
  {
   "cell_type": "code",
   "execution_count": 5,
   "metadata": {
    "collapsed": false
   },
   "outputs": [],
   "source": [
    "def converter(x):\n",
    "    try:\n",
    "        return float(x)\n",
    "    except:\n",
    "        return np.nan\n",
    "\n",
    "cols = ['international', 'income']\n",
    "\n",
    "for col in cols:\n",
    "    unidata[col] = map(converter, unidata[col].values)\n",
    "\n",
    "# unidata['total_score'] = map(converter, unidata.total_score.values)\n",
    "# unidata[cols] = map(converter, )"
   ]
  },
  {
   "cell_type": "code",
   "execution_count": 6,
   "metadata": {
    "collapsed": false
   },
   "outputs": [
    {
     "data": {
      "text/plain": [
       "array(['20,152', '2,243', '11,074', '15,596', '7,929', '18,812', '19,919',\n",
       "       '36,186', '15,060', '11,751', '38,206', '14,221', '15,128',\n",
       "       '21,424', '18,178', '41,786', '66,198', '25,055', '20,376', '11,885'], dtype=object)"
      ]
     },
     "execution_count": 6,
     "metadata": {},
     "output_type": "execute_result"
    }
   ],
   "source": [
    "unidata.num_students.values[0:20]"
   ]
  },
  {
   "cell_type": "code",
   "execution_count": 11,
   "metadata": {
    "collapsed": false
   },
   "outputs": [],
   "source": [
    "unidata['num_students'] = [str(x).replace(',','') for x in unidata['num_students'].values]"
   ]
  },
  {
   "cell_type": "code",
   "execution_count": 12,
   "metadata": {
    "collapsed": false
   },
   "outputs": [
    {
     "data": {
      "text/plain": [
       "array(['20152', '2243', '11074', '15596', '7929', '18812', '19919',\n",
       "       '36186', '15060', '11751', '38206', '14221', '15128', '21424',\n",
       "       '18178', '41786', '66198', '25055', '20376', '11885'], dtype=object)"
      ]
     },
     "execution_count": 12,
     "metadata": {},
     "output_type": "execute_result"
    }
   ],
   "source": [
    "unidata.num_students.values[0:20]"
   ]
  },
  {
   "cell_type": "code",
   "execution_count": 17,
   "metadata": {
    "collapsed": false
   },
   "outputs": [
    {
     "name": "stdout",
     "output_type": "stream",
     "text": [
      "[ nan  nan  nan  nan  nan  nan  nan  nan  nan]\n"
     ]
    }
   ],
   "source": [
    "unidata['num_students'] = map(converter, unidata['num_students'].values)\n",
    "\n"
   ]
  },
  {
   "cell_type": "code",
   "execution_count": 18,
   "metadata": {
    "collapsed": false
   },
   "outputs": [
    {
     "name": "stdout",
     "output_type": "stream",
     "text": [
      "<class 'pandas.core.frame.DataFrame'>\n",
      "RangeIndex: 2603 entries, 0 to 2602\n",
      "Data columns (total 14 columns):\n",
      "world_rank                2603 non-null object\n",
      "university_name           2603 non-null object\n",
      "country                   2603 non-null object\n",
      "teaching                  2603 non-null float64\n",
      "international             2594 non-null float64\n",
      "research                  2603 non-null float64\n",
      "citations                 2603 non-null float64\n",
      "income                    2385 non-null float64\n",
      "total_score               2603 non-null object\n",
      "num_students              3 non-null float64\n",
      "student_staff_ratio       2544 non-null float64\n",
      "international_students    2536 non-null object\n",
      "female_male_ratio         2370 non-null object\n",
      "year                      2603 non-null int64\n",
      "dtypes: float64(7), int64(1), object(6)\n",
      "memory usage: 284.8+ KB\n"
     ]
    }
   ],
   "source": []
  },
  {
   "cell_type": "code",
   "execution_count": 6,
   "metadata": {
    "collapsed": false,
    "scrolled": true
   },
   "outputs": [
    {
     "data": {
      "text/plain": [
       "world_rank                 object\n",
       "university_name            object\n",
       "country                    object\n",
       "teaching                  float64\n",
       "international             float64\n",
       "research                  float64\n",
       "citations                 float64\n",
       "income                    float64\n",
       "total_score                object\n",
       "num_students               object\n",
       "student_staff_ratio       float64\n",
       "international_students     object\n",
       "female_male_ratio          object\n",
       "year                        int64\n",
       "dtype: object"
      ]
     },
     "execution_count": 6,
     "metadata": {},
     "output_type": "execute_result"
    }
   ],
   "source": [
    "unidata.dtypes\n"
   ]
  },
  {
   "cell_type": "code",
   "execution_count": 7,
   "metadata": {
    "collapsed": false
   },
   "outputs": [
    {
     "name": "stdout",
     "output_type": "stream",
     "text": [
      "[ 34.5  83.7  87.5  64.3   nan  57.   73.5   nan  92.9   nan]\n"
     ]
    }
   ],
   "source": [
    "unidata['income']=map(converter,unidata.income.values)\n",
    "print unidata.income.values[0:10]"
   ]
  },
  {
   "cell_type": "code",
   "execution_count": 8,
   "metadata": {
    "collapsed": false
   },
   "outputs": [
    {
     "data": {
      "text/plain": [
       "array(['United States of America', 'United Kingdom', 'Switzerland',\n",
       "       'Canada', 'Hong Kong', 'Japan', 'South Korea', 'Singapore',\n",
       "       'Australia', 'China', 'France', 'Sweden', 'Germany',\n",
       "       'Republic of Ireland', 'Finland', 'Taiwan', 'South Africa',\n",
       "       'Turkey', 'Netherlands', 'Belgium', 'Denmark', 'Norway', 'Spain',\n",
       "       'New Zealand', 'Egypt', 'Austria', 'Israel', 'Brazil', 'Italy',\n",
       "       'Russian Federation', 'Greece', 'Iceland', 'Czech Republic',\n",
       "       'India', 'Poland', 'Iran', 'Portugal', 'Thailand', 'Chile',\n",
       "       'Estonia', 'Saudi Arabia', 'Mexico', 'Colombia', 'Macau', 'Morocco',\n",
       "       'Luxembourg', 'Unisted States of America', 'Cyprus',\n",
       "       'Unted Kingdom', 'Uganda', 'Malaysia', 'Lebanon', 'Romania',\n",
       "       'Slovenia', 'Pakistan', 'Hungary', 'United Arab Emirates',\n",
       "       'Belarus', 'Serbia', 'Slovakia', 'Bangladesh', 'Ghana', 'Nigeria',\n",
       "       'Indonesia', 'Jordan', 'Latvia', 'Kenya', 'Argentina', 'Qatar',\n",
       "       'Oman', 'Ukraine', 'Lithuania'], dtype=object)"
      ]
     },
     "execution_count": 8,
     "metadata": {},
     "output_type": "execute_result"
    }
   ],
   "source": [
    "unidata['country'].unique()"
   ]
  },
  {
   "cell_type": "code",
   "execution_count": 9,
   "metadata": {
    "collapsed": true
   },
   "outputs": [],
   "source": [
    "unidata['country'] = unidata['country'].map(lambda val: (val.replace('Unisted States of America', 'United States of America')))"
   ]
  },
  {
   "cell_type": "code",
   "execution_count": 10,
   "metadata": {
    "collapsed": false
   },
   "outputs": [
    {
     "ename": "TypeError",
     "evalue": "Could not convert 96.196.095.694.391.291.290.686.483.983.479.579.379.278.478.076.575.375.175.073.873.873.272.971.070.769.269.068.667.067.066.966.566.065.965.064.764.664.264.063.062.761.461.260.760.359.759.559.559.159.159.058.958.358.057.957.857.757.757.357.357.056.656.556.156.056.055.655.455.455.355.255.155.054.854.654.654.554.454.454.454.354.254.053.453.453.353.352.752.652.552.352.252.252.152.051.851.851.651.651.451.451.351.251.251.251.151.050.750.450.250.050.049.949.849.749.649.449.049.049.048.848.548.548.548.348.247.747.647.547.247.247.046.946.946.946.846.746.546.446.246.294.893.993.993.692.992.492.390.789.889.185.884.983.282.881.678.477.477.477.076.576.275.875.574.974.373.173.072.372.172.071.971.271.270.969.369.067.666.366.065.765.665.664.964.864.664.264.063.263.062.462.062.061.961.761.561.161.060.960.860.460.359.659.559.058.758.657.457.457.357.056.956.856.456.055.755.455.255.155.054.854.754.554.554.454.253.953.753.653.453.253.153.153.052.952.852.552.252.151.451.351.251.151.151.050.850.450.450.150.049.949.949.949.849.749.749.549.249.049.047.947.747.647.547.447.347.047.046.946.846.746.646.646.646.246.146.046.045.945.945.945.845.845.745.745.445.245.145.045.044.644.644.644.544.244.144.143.843.643.643.643.443.243.143.043.042.942.942.842.742.642.542.441.641.541.541.4-------------------------------------------------------------------------------------------------------------------------------------------------------------------------------------------------95.593.793.793.693.192.792.690.690.589.286.685.685.583.383.182.682.281.581.279.978.878.878.377.977.577.376.976.175.775.675.675.475.273.173.072.872.472.471.870.770.470.169.468.967.167.066.866.866.366.266.165.965.965.865.765.765.164.464.464.164.063.263.262.962.962.562.061.761.661.461.360.760.560.360.159.859.659.459.159.058.858.858.658.458.358.358.257.957.757.557.557.257.156.856.656.656.556.456.256.256.255.855.655.555.355.255.054.954.854.754.454.454.454.053.753.753.653.653.653.553.253.253.153.153.052.952.952.852.852.352.152.152.051.951.751.551.551.351.151.150.950.550.550.550.350.250.250.049.749.549.449.249.049.048.948.848.848.848.848.648.648.548.248.048.048.047.947.947.747.347.347.146.946.946.746.746.646.446.2-----------------------------------------------------------------------------------------------------------------------------------------------------------------------------------------94.993.993.993.893.092.792.389.887.587.484.583.781.079.379.279.178.377.677.176.476.073.472.472.271.671.170.869.868.468.268.167.867.767.667.567.467.465.365.265.064.564.464.263.563.563.263.263.263.162.962.562.362.061.761.359.959.959.859.859.459.259.159.059.058.858.157.757.757.256.856.756.356.156.156.155.955.955.555.355.255.054.754.654.554.153.653.552.952.952.652.652.552.452.452.452.352.352.252.052.051.951.851.851.751.751.751.651.651.651.651.251.251.151.050.850.550.550.350.350.250.150.150.049.749.649.549.549.449.249.149.049.048.948.948.748.748.548.548.448.348.047.847.547.447.447.247.046.746.746.646.646.646.646.446.346.246.246.146.046.045.945.845.845.745.645.545.445.345.345.245.245.145.045.044.944.844.844.744.644.544.344.3-----------------------------------------------------------------------------------------------------------------------------------------------------------------------------------------94.393.393.292.992.091.990.989.587.587.587.184.683.081.080.979.979.479.379.278.776.174.373.373.272.872.371.971.971.971.871.270.970.970.470.069.969.669.468.667.566.866.565.965.265.164.864.764.564.564.163.763.763.662.962.862.762.262.261.961.361.261.161.060.759.859.659.259.159.058.958.458.458.258.158.057.957.657.356.956.956.656.556.456.456.256.156.155.555.355.355.254.654.654.654.353.953.953.953.953.853.853.753.753.653.653.453.453.453.153.052.952.852.752.752.752.652.652.552.552.452.152.051.951.951.951.651.451.451.251.151.050.950.950.950.550.550.450.350.250.250.150.049.949.749.349.249.149.149.149.049.048.648.348.248.148.148.148.147.947.847.847.747.747.547.547.347.147.147.047.046.946.946.946.846.746.646.646.646.546.346.246.246.046.045.945.745.645.6-------------------------------------------------------------------------------------------------------------------------------------------------------------------------------------------------95.294.293.992.892.091.690.189.188.387.987.687.487.287.185.885.284.083.982.782.482.381.380.379.579.278.277.577.377.276.175.675.475.374.874.574.472.672.272.272.172.071.171.071.070.370.070.069.969.769.669.569.469.068.268.168.167.867.267.067.066.666.466.165.965.965.765.564.363.663.563.262.562.462.361.961.961.761.561.361.261.061.060.760.560.460.159.959.959.759.759.759.558.858.858.658.558.058.057.957.957.957.857.857.757.757.757.657.557.257.257.157.057.056.956.756.656.256.156.156.056.055.955.955.855.855.755.655.455.455.355.355.154.854.754.554.554.454.354.254.153.953.953.853.353.052.952.952.952.852.552.452.352.252.152.152.051.951.951.751.251.251.151.151.151.151.151.051.050.950.850.650.650.550.350.250.250.150.150.149.949.949.949.849.749.649.649.549.449.449.349.249.249.148.948.8---------------------------------------------------------------------------------------------------------------------------------------------------------------------------------------------------------------------------------------------------------------------------------------------------------------------------------------------------------------------------------------------------------------------------------------------------------------------------------------------------------------------------------------------------------------------------------------- to numeric",
     "output_type": "error",
     "traceback": [
      "\u001b[0;31m---------------------------------------------------------------------------\u001b[0m",
      "\u001b[0;31mTypeError\u001b[0m                                 Traceback (most recent call last)",
      "\u001b[0;32m<ipython-input-10-f489b8f9eaed>\u001b[0m in \u001b[0;36m<module>\u001b[0;34m()\u001b[0m\n\u001b[1;32m      1\u001b[0m \u001b[0;31m# sns.plot.scatter(x ='teaching', y ='world_rank', data = unidata)\u001b[0m\u001b[0;34m\u001b[0m\u001b[0;34m\u001b[0m\u001b[0m\n\u001b[0;32m----> 2\u001b[0;31m \u001b[0msns\u001b[0m\u001b[0;34m.\u001b[0m\u001b[0mregplot\u001b[0m\u001b[0;34m(\u001b[0m\u001b[0mx\u001b[0m\u001b[0;34m=\u001b[0m\u001b[0;34m\"total_score\"\u001b[0m\u001b[0;34m,\u001b[0m \u001b[0my\u001b[0m\u001b[0;34m=\u001b[0m\u001b[0;34m\"income\"\u001b[0m\u001b[0;34m,\u001b[0m \u001b[0mdata\u001b[0m\u001b[0;34m=\u001b[0m \u001b[0munidata\u001b[0m\u001b[0;34m)\u001b[0m\u001b[0;34m\u001b[0m\u001b[0m\n\u001b[0m",
      "\u001b[0;32m//anaconda/lib/python2.7/site-packages/seaborn/linearmodels.pyc\u001b[0m in \u001b[0;36mregplot\u001b[0;34m(x, y, data, x_estimator, x_bins, x_ci, scatter, fit_reg, ci, n_boot, units, order, logistic, lowess, robust, logx, x_partial, y_partial, truncate, dropna, x_jitter, y_jitter, label, color, marker, scatter_kws, line_kws, ax)\u001b[0m\n\u001b[1;32m    772\u001b[0m     \u001b[0mscatter_kws\u001b[0m\u001b[0;34m[\u001b[0m\u001b[0;34m\"marker\"\u001b[0m\u001b[0;34m]\u001b[0m \u001b[0;34m=\u001b[0m \u001b[0mmarker\u001b[0m\u001b[0;34m\u001b[0m\u001b[0m\n\u001b[1;32m    773\u001b[0m     \u001b[0mline_kws\u001b[0m \u001b[0;34m=\u001b[0m \u001b[0;34m{\u001b[0m\u001b[0;34m}\u001b[0m \u001b[0;32mif\u001b[0m \u001b[0mline_kws\u001b[0m \u001b[0;32mis\u001b[0m \u001b[0mNone\u001b[0m \u001b[0;32melse\u001b[0m \u001b[0mcopy\u001b[0m\u001b[0;34m.\u001b[0m\u001b[0mcopy\u001b[0m\u001b[0;34m(\u001b[0m\u001b[0mline_kws\u001b[0m\u001b[0;34m)\u001b[0m\u001b[0;34m\u001b[0m\u001b[0m\n\u001b[0;32m--> 774\u001b[0;31m     \u001b[0mplotter\u001b[0m\u001b[0;34m.\u001b[0m\u001b[0mplot\u001b[0m\u001b[0;34m(\u001b[0m\u001b[0max\u001b[0m\u001b[0;34m,\u001b[0m \u001b[0mscatter_kws\u001b[0m\u001b[0;34m,\u001b[0m \u001b[0mline_kws\u001b[0m\u001b[0;34m)\u001b[0m\u001b[0;34m\u001b[0m\u001b[0m\n\u001b[0m\u001b[1;32m    775\u001b[0m     \u001b[0;32mreturn\u001b[0m \u001b[0max\u001b[0m\u001b[0;34m\u001b[0m\u001b[0m\n\u001b[1;32m    776\u001b[0m \u001b[0;34m\u001b[0m\u001b[0m\n",
      "\u001b[0;32m//anaconda/lib/python2.7/site-packages/seaborn/linearmodels.pyc\u001b[0m in \u001b[0;36mplot\u001b[0;34m(self, ax, scatter_kws, line_kws)\u001b[0m\n\u001b[1;32m    308\u001b[0m         \u001b[0;31m# Use the current color cycle state as a default\u001b[0m\u001b[0;34m\u001b[0m\u001b[0;34m\u001b[0m\u001b[0m\n\u001b[1;32m    309\u001b[0m         \u001b[0;32mif\u001b[0m \u001b[0mself\u001b[0m\u001b[0;34m.\u001b[0m\u001b[0mcolor\u001b[0m \u001b[0;32mis\u001b[0m \u001b[0mNone\u001b[0m\u001b[0;34m:\u001b[0m\u001b[0;34m\u001b[0m\u001b[0m\n\u001b[0;32m--> 310\u001b[0;31m             \u001b[0mlines\u001b[0m\u001b[0;34m,\u001b[0m \u001b[0;34m=\u001b[0m \u001b[0mplt\u001b[0m\u001b[0;34m.\u001b[0m\u001b[0mplot\u001b[0m\u001b[0;34m(\u001b[0m\u001b[0mself\u001b[0m\u001b[0;34m.\u001b[0m\u001b[0mx\u001b[0m\u001b[0;34m.\u001b[0m\u001b[0mmean\u001b[0m\u001b[0;34m(\u001b[0m\u001b[0;34m)\u001b[0m\u001b[0;34m,\u001b[0m \u001b[0mself\u001b[0m\u001b[0;34m.\u001b[0m\u001b[0my\u001b[0m\u001b[0;34m.\u001b[0m\u001b[0mmean\u001b[0m\u001b[0;34m(\u001b[0m\u001b[0;34m)\u001b[0m\u001b[0;34m)\u001b[0m\u001b[0;34m\u001b[0m\u001b[0m\n\u001b[0m\u001b[1;32m    311\u001b[0m             \u001b[0mcolor\u001b[0m \u001b[0;34m=\u001b[0m \u001b[0mlines\u001b[0m\u001b[0;34m.\u001b[0m\u001b[0mget_color\u001b[0m\u001b[0;34m(\u001b[0m\u001b[0;34m)\u001b[0m\u001b[0;34m\u001b[0m\u001b[0m\n\u001b[1;32m    312\u001b[0m             \u001b[0mlines\u001b[0m\u001b[0;34m.\u001b[0m\u001b[0mremove\u001b[0m\u001b[0;34m(\u001b[0m\u001b[0;34m)\u001b[0m\u001b[0;34m\u001b[0m\u001b[0m\n",
      "\u001b[0;32m//anaconda/lib/python2.7/site-packages/pandas/core/generic.pyc\u001b[0m in \u001b[0;36mstat_func\u001b[0;34m(self, axis, skipna, level, numeric_only, **kwargs)\u001b[0m\n\u001b[1;32m   5262\u001b[0m                                       skipna=skipna)\n\u001b[1;32m   5263\u001b[0m         return self._reduce(f, name, axis=axis, skipna=skipna,\n\u001b[0;32m-> 5264\u001b[0;31m                             numeric_only=numeric_only)\n\u001b[0m\u001b[1;32m   5265\u001b[0m \u001b[0;34m\u001b[0m\u001b[0m\n\u001b[1;32m   5266\u001b[0m     \u001b[0mstat_func\u001b[0m\u001b[0;34m.\u001b[0m\u001b[0m__name__\u001b[0m \u001b[0;34m=\u001b[0m \u001b[0mname\u001b[0m\u001b[0;34m\u001b[0m\u001b[0m\n",
      "\u001b[0;32m//anaconda/lib/python2.7/site-packages/pandas/core/series.pyc\u001b[0m in \u001b[0;36m_reduce\u001b[0;34m(self, op, name, axis, skipna, numeric_only, filter_type, **kwds)\u001b[0m\n\u001b[1;32m   2259\u001b[0m                 raise NotImplementedError('Series.{0} does not implement '\n\u001b[1;32m   2260\u001b[0m                                           'numeric_only.'.format(name))\n\u001b[0;32m-> 2261\u001b[0;31m             \u001b[0;32mreturn\u001b[0m \u001b[0mop\u001b[0m\u001b[0;34m(\u001b[0m\u001b[0mdelegate\u001b[0m\u001b[0;34m,\u001b[0m \u001b[0mskipna\u001b[0m\u001b[0;34m=\u001b[0m\u001b[0mskipna\u001b[0m\u001b[0;34m,\u001b[0m \u001b[0;34m**\u001b[0m\u001b[0mkwds\u001b[0m\u001b[0;34m)\u001b[0m\u001b[0;34m\u001b[0m\u001b[0m\n\u001b[0m\u001b[1;32m   2262\u001b[0m \u001b[0;34m\u001b[0m\u001b[0m\n\u001b[1;32m   2263\u001b[0m         return delegate._reduce(op=op, name=name, axis=axis, skipna=skipna,\n",
      "\u001b[0;32m//anaconda/lib/python2.7/site-packages/pandas/core/nanops.pyc\u001b[0m in \u001b[0;36m_f\u001b[0;34m(*args, **kwargs)\u001b[0m\n\u001b[1;32m     42\u001b[0m                                     f.__name__.replace('nan', '')))\n\u001b[1;32m     43\u001b[0m             \u001b[0;32mtry\u001b[0m\u001b[0;34m:\u001b[0m\u001b[0;34m\u001b[0m\u001b[0m\n\u001b[0;32m---> 44\u001b[0;31m                 \u001b[0;32mreturn\u001b[0m \u001b[0mf\u001b[0m\u001b[0;34m(\u001b[0m\u001b[0;34m*\u001b[0m\u001b[0margs\u001b[0m\u001b[0;34m,\u001b[0m \u001b[0;34m**\u001b[0m\u001b[0mkwargs\u001b[0m\u001b[0;34m)\u001b[0m\u001b[0;34m\u001b[0m\u001b[0m\n\u001b[0m\u001b[1;32m     45\u001b[0m             \u001b[0;32mexcept\u001b[0m \u001b[0mValueError\u001b[0m \u001b[0;32mas\u001b[0m \u001b[0me\u001b[0m\u001b[0;34m:\u001b[0m\u001b[0;34m\u001b[0m\u001b[0m\n\u001b[1;32m     46\u001b[0m                 \u001b[0;31m# we want to transform an object array\u001b[0m\u001b[0;34m\u001b[0m\u001b[0;34m\u001b[0m\u001b[0m\n",
      "\u001b[0;32m//anaconda/lib/python2.7/site-packages/pandas/core/nanops.pyc\u001b[0m in \u001b[0;36mf\u001b[0;34m(values, axis, skipna, **kwds)\u001b[0m\n\u001b[1;32m    101\u001b[0m             \u001b[0;32mexcept\u001b[0m \u001b[0mException\u001b[0m\u001b[0;34m:\u001b[0m\u001b[0;34m\u001b[0m\u001b[0m\n\u001b[1;32m    102\u001b[0m                 \u001b[0;32mtry\u001b[0m\u001b[0;34m:\u001b[0m\u001b[0;34m\u001b[0m\u001b[0m\n\u001b[0;32m--> 103\u001b[0;31m                     \u001b[0mresult\u001b[0m \u001b[0;34m=\u001b[0m \u001b[0malt\u001b[0m\u001b[0;34m(\u001b[0m\u001b[0mvalues\u001b[0m\u001b[0;34m,\u001b[0m \u001b[0maxis\u001b[0m\u001b[0;34m=\u001b[0m\u001b[0maxis\u001b[0m\u001b[0;34m,\u001b[0m \u001b[0mskipna\u001b[0m\u001b[0;34m=\u001b[0m\u001b[0mskipna\u001b[0m\u001b[0;34m,\u001b[0m \u001b[0;34m**\u001b[0m\u001b[0mkwds\u001b[0m\u001b[0;34m)\u001b[0m\u001b[0;34m\u001b[0m\u001b[0m\n\u001b[0m\u001b[1;32m    104\u001b[0m                 \u001b[0;32mexcept\u001b[0m \u001b[0mValueError\u001b[0m \u001b[0;32mas\u001b[0m \u001b[0me\u001b[0m\u001b[0;34m:\u001b[0m\u001b[0;34m\u001b[0m\u001b[0m\n\u001b[1;32m    105\u001b[0m                     \u001b[0;31m# we want to transform an object array\u001b[0m\u001b[0;34m\u001b[0m\u001b[0;34m\u001b[0m\u001b[0m\n",
      "\u001b[0;32m//anaconda/lib/python2.7/site-packages/pandas/core/nanops.pyc\u001b[0m in \u001b[0;36mnanmean\u001b[0;34m(values, axis, skipna)\u001b[0m\n\u001b[1;32m    291\u001b[0m         \u001b[0mdtype_count\u001b[0m \u001b[0;34m=\u001b[0m \u001b[0mdtype\u001b[0m\u001b[0;34m\u001b[0m\u001b[0m\n\u001b[1;32m    292\u001b[0m     \u001b[0mcount\u001b[0m \u001b[0;34m=\u001b[0m \u001b[0m_get_counts\u001b[0m\u001b[0;34m(\u001b[0m\u001b[0mmask\u001b[0m\u001b[0;34m,\u001b[0m \u001b[0maxis\u001b[0m\u001b[0;34m,\u001b[0m \u001b[0mdtype\u001b[0m\u001b[0;34m=\u001b[0m\u001b[0mdtype_count\u001b[0m\u001b[0;34m)\u001b[0m\u001b[0;34m\u001b[0m\u001b[0m\n\u001b[0;32m--> 293\u001b[0;31m     \u001b[0mthe_sum\u001b[0m \u001b[0;34m=\u001b[0m \u001b[0m_ensure_numeric\u001b[0m\u001b[0;34m(\u001b[0m\u001b[0mvalues\u001b[0m\u001b[0;34m.\u001b[0m\u001b[0msum\u001b[0m\u001b[0;34m(\u001b[0m\u001b[0maxis\u001b[0m\u001b[0;34m,\u001b[0m \u001b[0mdtype\u001b[0m\u001b[0;34m=\u001b[0m\u001b[0mdtype_sum\u001b[0m\u001b[0;34m)\u001b[0m\u001b[0;34m)\u001b[0m\u001b[0;34m\u001b[0m\u001b[0m\n\u001b[0m\u001b[1;32m    294\u001b[0m \u001b[0;34m\u001b[0m\u001b[0m\n\u001b[1;32m    295\u001b[0m     \u001b[0;32mif\u001b[0m \u001b[0maxis\u001b[0m \u001b[0;32mis\u001b[0m \u001b[0;32mnot\u001b[0m \u001b[0mNone\u001b[0m \u001b[0;32mand\u001b[0m \u001b[0mgetattr\u001b[0m\u001b[0;34m(\u001b[0m\u001b[0mthe_sum\u001b[0m\u001b[0;34m,\u001b[0m \u001b[0;34m'ndim'\u001b[0m\u001b[0;34m,\u001b[0m \u001b[0mFalse\u001b[0m\u001b[0;34m)\u001b[0m\u001b[0;34m:\u001b[0m\u001b[0;34m\u001b[0m\u001b[0m\n",
      "\u001b[0;32m//anaconda/lib/python2.7/site-packages/pandas/core/nanops.pyc\u001b[0m in \u001b[0;36m_ensure_numeric\u001b[0;34m(x)\u001b[0m\n\u001b[1;32m    741\u001b[0m                 \u001b[0mx\u001b[0m \u001b[0;34m=\u001b[0m \u001b[0mcomplex\u001b[0m\u001b[0;34m(\u001b[0m\u001b[0mx\u001b[0m\u001b[0;34m)\u001b[0m\u001b[0;34m\u001b[0m\u001b[0m\n\u001b[1;32m    742\u001b[0m             \u001b[0;32mexcept\u001b[0m \u001b[0mException\u001b[0m\u001b[0;34m:\u001b[0m\u001b[0;34m\u001b[0m\u001b[0m\n\u001b[0;32m--> 743\u001b[0;31m                 \u001b[0;32mraise\u001b[0m \u001b[0mTypeError\u001b[0m\u001b[0;34m(\u001b[0m\u001b[0;34m'Could not convert %s to numeric'\u001b[0m \u001b[0;34m%\u001b[0m \u001b[0mstr\u001b[0m\u001b[0;34m(\u001b[0m\u001b[0mx\u001b[0m\u001b[0;34m)\u001b[0m\u001b[0;34m)\u001b[0m\u001b[0;34m\u001b[0m\u001b[0m\n\u001b[0m\u001b[1;32m    744\u001b[0m     \u001b[0;32mreturn\u001b[0m \u001b[0mx\u001b[0m\u001b[0;34m\u001b[0m\u001b[0m\n\u001b[1;32m    745\u001b[0m \u001b[0;34m\u001b[0m\u001b[0m\n",
      "\u001b[0;31mTypeError\u001b[0m: Could not convert 96.196.095.694.391.291.290.686.483.983.479.579.379.278.478.076.575.375.175.073.873.873.272.971.070.769.269.068.667.067.066.966.566.065.965.064.764.664.264.063.062.761.461.260.760.359.759.559.559.159.159.058.958.358.057.957.857.757.757.357.357.056.656.556.156.056.055.655.455.455.355.255.155.054.854.654.654.554.454.454.454.354.254.053.453.453.353.352.752.652.552.352.252.252.152.051.851.851.651.651.451.451.351.251.251.251.151.050.750.450.250.050.049.949.849.749.649.449.049.049.048.848.548.548.548.348.247.747.647.547.247.247.046.946.946.946.846.746.546.446.246.294.893.993.993.692.992.492.390.789.889.185.884.983.282.881.678.477.477.477.076.576.275.875.574.974.373.173.072.372.172.071.971.271.270.969.369.067.666.366.065.765.665.664.964.864.664.264.063.263.062.462.062.061.961.761.561.161.060.960.860.460.359.659.559.058.758.657.457.457.357.056.956.856.456.055.755.455.255.155.054.854.754.554.554.454.253.953.753.653.453.253.153.153.052.952.852.552.252.151.451.351.251.151.151.050.850.450.450.150.049.949.949.949.849.749.749.549.249.049.047.947.747.647.547.447.347.047.046.946.846.746.646.646.646.246.146.046.045.945.945.945.845.845.745.745.445.245.145.045.044.644.644.644.544.244.144.143.843.643.643.643.443.243.143.043.042.942.942.842.742.642.542.441.641.541.541.4-------------------------------------------------------------------------------------------------------------------------------------------------------------------------------------------------95.593.793.793.693.192.792.690.690.589.286.685.685.583.383.182.682.281.581.279.978.878.878.377.977.577.376.976.175.775.675.675.475.273.173.072.872.472.471.870.770.470.169.468.967.167.066.866.866.366.266.165.965.965.865.765.765.164.464.464.164.063.263.262.962.962.562.061.761.661.461.360.760.560.360.159.859.659.459.159.058.858.858.658.458.358.358.257.957.757.557.557.257.156.856.656.656.556.456.256.256.255.855.655.555.355.255.054.954.854.754.454.454.454.053.753.753.653.653.653.553.253.253.153.153.052.952.952.852.852.352.152.152.051.951.751.551.551.351.151.150.950.550.550.550.350.250.250.049.749.549.449.249.049.048.948.848.848.848.848.648.648.548.248.048.048.047.947.947.747.347.347.146.946.946.746.746.646.446.2-----------------------------------------------------------------------------------------------------------------------------------------------------------------------------------------94.993.993.993.893.092.792.389.887.587.484.583.781.079.379.279.178.377.677.176.476.073.472.472.271.671.170.869.868.468.268.167.867.767.667.567.467.465.365.265.064.564.464.263.563.563.263.263.263.162.962.562.362.061.761.359.959.959.859.859.459.259.159.059.058.858.157.757.757.256.856.756.356.156.156.155.955.955.555.355.255.054.754.654.554.153.653.552.952.952.652.652.552.452.452.452.352.352.252.052.051.951.851.851.751.751.751.651.651.651.651.251.251.151.050.850.550.550.350.350.250.150.150.049.749.649.549.549.449.249.149.049.048.948.948.748.748.548.548.448.348.047.847.547.447.447.247.046.746.746.646.646.646.646.446.346.246.246.146.046.045.945.845.845.745.645.545.445.345.345.245.245.145.045.044.944.844.844.744.644.544.344.3-----------------------------------------------------------------------------------------------------------------------------------------------------------------------------------------94.393.393.292.992.091.990.989.587.587.587.184.683.081.080.979.979.479.379.278.776.174.373.373.272.872.371.971.971.971.871.270.970.970.470.069.969.669.468.667.566.866.565.965.265.164.864.764.564.564.163.763.763.662.962.862.762.262.261.961.361.261.161.060.759.859.659.259.159.058.958.458.458.258.158.057.957.657.356.956.956.656.556.456.456.256.156.155.555.355.355.254.654.654.654.353.953.953.953.953.853.853.753.753.653.653.453.453.453.153.052.952.852.752.752.752.652.652.552.552.452.152.051.951.951.951.651.451.451.251.151.050.950.950.950.550.550.450.350.250.250.150.049.949.749.349.249.149.149.149.049.048.648.348.248.148.148.148.147.947.847.847.747.747.547.547.347.147.147.047.046.946.946.946.846.746.646.646.646.546.346.246.246.046.045.945.745.645.6-------------------------------------------------------------------------------------------------------------------------------------------------------------------------------------------------95.294.293.992.892.091.690.189.188.387.987.687.487.287.185.885.284.083.982.782.482.381.380.379.579.278.277.577.377.276.175.675.475.374.874.574.472.672.272.272.172.071.171.071.070.370.070.069.969.769.669.569.469.068.268.168.167.867.267.067.066.666.466.165.965.965.765.564.363.663.563.262.562.462.361.961.961.761.561.361.261.061.060.760.560.460.159.959.959.759.759.759.558.858.858.658.558.058.057.957.957.957.857.857.757.757.757.657.557.257.257.157.057.056.956.756.656.256.156.156.056.055.955.955.855.855.755.655.455.455.355.355.154.854.754.554.554.454.354.254.153.953.953.853.353.052.952.952.952.852.552.452.352.252.152.152.051.951.951.751.251.251.151.151.151.151.151.051.050.950.850.650.650.550.350.250.250.150.150.149.949.949.949.849.749.649.649.549.449.449.349.249.249.148.948.8---------------------------------------------------------------------------------------------------------------------------------------------------------------------------------------------------------------------------------------------------------------------------------------------------------------------------------------------------------------------------------------------------------------------------------------------------------------------------------------------------------------------------------------------------------------------------------------- to numeric"
     ]
    },
    {
     "data": {
      "image/png": "[encoded data removed]",
      "text/plain": [
       "<matplotlib.figure.Figure at 0x117478e10>"
      ]
     },
     "metadata": {},
     "output_type": "display_data"
    }
   ],
   "source": [
    "# sns.plot.scatter(x ='teaching', y ='world_rank', data = unidata)\n",
    "sns.regplot(x=\"total_score\", y=\"income\", data= unidata)"
   ]
  },
  {
   "cell_type": "code",
   "execution_count": 11,
   "metadata": {
    "collapsed": false
   },
   "outputs": [
    {
     "data": {
      "text/plain": [
       "2016    800\n",
       "2012    402\n",
       "2015    401\n",
       "2013    400\n",
       "2014    400\n",
       "2011    200\n",
       "Name: year, dtype: int64"
      ]
     },
     "execution_count": 11,
     "metadata": {},
     "output_type": "execute_result"
    }
   ],
   "source": [
    "year_count = unidata.year.value_counts()\n",
    "year_count"
   ]
  },
  {
   "cell_type": "code",
   "execution_count": 13,
   "metadata": {
    "collapsed": false
   },
   "outputs": [],
   "source": [
    "#mask_2016 = unidata['year'] == 2016\n",
    "#sns.regplot(x=\"total_score\", y=\"income\", data= unidata[mask_2016])"
   ]
  },
  {
   "cell_type": "code",
   "execution_count": 16,
   "metadata": {
    "collapsed": false
   },
   "outputs": [
    {
     "name": "stdout",
     "output_type": "stream",
     "text": [
      "<class 'pandas.core.frame.DataFrame'>\n",
      "RangeIndex: 2603 entries, 0 to 2602\n",
      "Data columns (total 14 columns):\n",
      "world_rank                2603 non-null object\n",
      "university_name           2603 non-null object\n",
      "country                   2603 non-null object\n",
      "teaching                  2603 non-null float64\n",
      "international             2594 non-null float64\n",
      "research                  2603 non-null float64\n",
      "citations                 2603 non-null float64\n",
      "income                    2385 non-null float64\n",
      "total_score               2603 non-null object\n",
      "num_students              2603 non-null object\n",
      "student_staff_ratio       2544 non-null float64\n",
      "international_students    2536 non-null object\n",
      "female_male_ratio         2370 non-null object\n",
      "year                      2603 non-null int64\n",
      "dtypes: float64(6), int64(1), object(7)\n",
      "memory usage: 284.8+ KB\n"
     ]
    }
   ],
   "source": [
    "unidata.info()"
   ]
  },
  {
   "cell_type": "code",
   "execution_count": 19,
   "metadata": {
    "collapsed": false
   },
   "outputs": [
    {
     "data": {
      "text/plain": [
       "array([ 96.1,  96. ,  95.6,  94.3,  94.2,  91.2,  91.1,  90.6,  89.5,\n",
       "        87.7,  86.9,  86.4,  83.9,  83.4,  82. ,  81. ,  79.5,  79.3,\n",
       "        79.2,  78.4,  78. ,  76.5,  75.9,  75.6,  75.3,  75.1,  75. ,\n",
       "        73.8,  73.2,  73. ,  72.9,  71.7,  71. ,  70.7,  69.9,  69.5,\n",
       "        69.2,  69. ,  68.6,  67. ,  66.9,  66.5,  66. ,  65.9,  65.6,\n",
       "        65.2,  65. ,  64.9,  64.7,  64.6,  64.2,  64. ,  63.9,  63. ,\n",
       "        62.8,  62.7,  62.2,  62.1,  61.6,  61.4,  61.2,  61.1,  60.7,\n",
       "        60.4,  60.3,  59.7,  59.6,  59.5,  59.1,  59. ,  58.9,  58.3,\n",
       "        58. ,  57.9,  57.8,  57.7,  57.6,  57.5,  57.3,  57.2,  57.1,\n",
       "        57. ,  56.9,  56.6,  56.5,  56.4,  56.3,  56.2,  56.1,  56. ,\n",
       "        55.6,  55.4,  55.3,  55.2,  55.1,  55. ,  54.8,  54.6,  54.5,\n",
       "        54.4,  54.3,  54.2,  54. ,  53.4,  53.3,  52.7,  52.6,  52.5,\n",
       "        52.4,  52.3,  52.2,  52.1,  52. ,  51.9,  51.8,  51.6,  51.4,\n",
       "        51.3,  51.2,  51.1,  51. ,  50.7,  50.4,  50.3,  50.2,  50.1,\n",
       "        50. ,  49.9,  49.8,  49.7,  49.6,  49.4,  49.3,  49. ,  48.8,\n",
       "        48.5,  48.3,  48.2,  47.7,  47.6,  47.5,  47.3,  47.2,  47. ,\n",
       "        46.9,  46.8,  46.7,  46.5,  46.4,  46.2,  94.8,  93.9,  93.6,\n",
       "        92.9,  92.4,  92.3,  90.7,  90.2,  89.8,  89.1,  87.5,  87.3,\n",
       "        85.8,  85. ,  84.9,  83.2,  82.8,  81.6,  80.5,  77.4,  77. ,\n",
       "        76.2,  75.8,  75.5,  74.9,  74.3,  74.2,  73.1,  72.3,  72.1,\n",
       "        72. ,  71.9,  71.2,  70.9,  70.5,  70. ,  69.3,  67.6,  66.3,\n",
       "        65.7,  64.8,  63.2,  62.4,  62. ,  61.9,  61.7,  61.5,  61. ,\n",
       "        60.9,  60.8,  58.7,  58.6,  57.4,  56.8,  55.7,  54.9,  54.7,\n",
       "        53.9,  53.7,  53.6,  53.2,  53.1,  53. ,  52.9,  52.8,  50.8,\n",
       "        49.5,  49.2,  48. ,  47.9,  47.4,  46.6,  46.1,  46. ,  45.9,\n",
       "        45.8,  45.7,  45.4,  45.2,  45.1,  45. ,  44.8,  44.6,  44.5,\n",
       "        44.2,  44.1,  43.8,  43.6,  43.4,  43.2,  43.1,  43. ,  42.9,\n",
       "        42.8,  42.7,  42.6,  42.5,  42.4,  41.6,  41.5,  41.4,   nan,\n",
       "        95.5,  93.7,  93.1,  92.7,  92.6,  90.5,  90.4,  89.2,  87.8,\n",
       "        87. ,  86.6,  85.6,  85.5,  83.3,  83.1,  82.6,  82.2,  81.5,\n",
       "        81.2,  79.9,  78.8,  78.3,  77.9,  77.5,  77.3,  76.9,  76.1,\n",
       "        75.7,  75.4,  75.2,  72.8,  72.4,  71.8,  70.4,  70.1,  69.4,\n",
       "        68.9,  67.1,  66.8,  66.2,  66.1,  65.8,  65.1,  64.4,  64.1,\n",
       "        63.8,  62.9,  62.5,  61.3,  60.5,  60.1,  59.8,  59.4,  58.8,\n",
       "        58.4,  58.2,  55.8,  55.5,  53.5,  51.7,  51.5,  50.9,  50.5,\n",
       "        48.9,  48.6,  47.1,  94.9,  93.8,  93. ,  87.4,  86.3,  85.2,\n",
       "        84.5,  83.7,  79.1,  77.6,  77.1,  76.4,  76. ,  73.4,  72.2,\n",
       "        71.6,  71.4,  71.1,  70.8,  69.8,  68.4,  68.2,  68.1,  67.8,\n",
       "        67.7,  67.5,  67.4,  67.2,  65.3,  64.5,  63.5,  63.1,  62.3,\n",
       "        59.9,  59.2,  58.1,  56.7,  55.9,  54.1,  53.8,  49.1,  48.7,\n",
       "        48.4,  47.8,  46.3,  45.6,  45.5,  45.3,  44.9,  44.7,  44.3,\n",
       "        93.3,  93.2,  92. ,  91.9,  90.9,  87.1,  84.6,  84.4,  83. ,\n",
       "        80.9,  79.4,  78.7,  73.3,  69.6,  63.7,  63.6,  48.1,  95.2,\n",
       "        92.8,  91.6,  90.1,  88.3,  87.9,  87.6,  87.2,  86.1,  84. ,\n",
       "        82.7,  82.4,  82.3,  81.3,  80.3,  78.2,  77.2,  74.8,  74.5,\n",
       "        74.4,  72.6,  70.3,  69.7,  66.6,  66.4,  65.5,  64.3,  58.5,  50.6])"
      ]
     },
     "execution_count": 19,
     "metadata": {},
     "output_type": "execute_result"
    }
   ],
   "source": [
    "unidata['total_score'] = map(converter, unidata.total_score.values)\n",
    "unidata.total_score.unique()"
   ]
  },
  {
   "cell_type": "code",
   "execution_count": 20,
   "metadata": {
    "collapsed": false
   },
   "outputs": [
    {
     "data": {
      "text/plain": [
       "<matplotlib.axes._subplots.AxesSubplot at 0x119ec7c10>"
      ]
     },
     "execution_count": 20,
     "metadata": {},
     "output_type": "execute_result"
    },
    {
     "data": {
      "image/png": "[encoded data removed]",
      "text/plain": [
       "<matplotlib.figure.Figure at 0x119e71ed0>"
      ]
     },
     "metadata": {},
     "output_type": "display_data"
    }
   ],
   "source": [
    "sns.regplot(x='teaching', y = 'total_score', data = unidata)"
   ]
  },
  {
   "cell_type": "code",
   "execution_count": 22,
   "metadata": {
    "collapsed": false
   },
   "outputs": [
    {
     "data": {
      "text/plain": [
       "<matplotlib.axes._subplots.AxesSubplot at 0x11a4a7910>"
      ]
     },
     "execution_count": 22,
     "metadata": {},
     "output_type": "execute_result"
    },
    {
     "data": {
      "image/png": "[encoded data removed]",
      "text/plain": [
       "<matplotlib.figure.Figure at 0x11a6ecc90>"
      ]
     },
     "metadata": {},
     "output_type": "display_data"
    }
   ],
   "source": [
    "sns.regplot(x='student_staff_ratio', y= 'total_score', data = unidata)"
   ]
  },
  {
   "cell_type": "code",
   "execution_count": 24,
   "metadata": {
    "collapsed": false
   },
   "outputs": [
    {
     "name": "stderr",
     "output_type": "stream",
     "text": [
      "/anaconda/lib/python2.7/site-packages/ipykernel/__main__.py:4: SettingWithCopyWarning: \n",
      "A value is trying to be set on a copy of a slice from a DataFrame\n",
      "\n",
      "See the caveats in the documentation: http://pandas.pydata.org/pandas-docs/stable/indexing.html#indexing-view-versus-copy\n",
      "/anaconda/lib/python2.7/site-packages/ipykernel/__main__.py:5: SettingWithCopyWarning: \n",
      "A value is trying to be set on a copy of a slice from a DataFrame\n",
      "\n",
      "See the caveats in the documentation: http://pandas.pydata.org/pandas-docs/stable/indexing.html#indexing-view-versus-copy\n"
     ]
    }
   ],
   "source": [
    "from sklearn import linear_model\n",
    "from sklearn.cross_validation import train_test_split\n",
    "df = unidata[['citations','research','total_score']]\n",
    "df.replace('-',np.nan,inplace=True)\n",
    "df.replace(np.inf,np.nan,inplace=True)\n",
    "df = df.dropna()\n",
    "lr = linear_model.LinearRegression()\n",
    "cols = ['citations','research']\n",
    "x = df[cols]\n",
    "y = df['total_score']\n",
    "x_train,x_test,y_train,y_test = train_test_split(x,y,test_size=.3)"
   ]
  },
  {
   "cell_type": "code",
   "execution_count": 25,
   "metadata": {
    "collapsed": false
   },
   "outputs": [
    {
     "data": {
      "text/plain": [
       "LinearRegression(copy_X=True, fit_intercept=True, n_jobs=1, normalize=False)"
      ]
     },
     "execution_count": 25,
     "metadata": {},
     "output_type": "execute_result"
    }
   ],
   "source": [
    "lr.fit(x_train,y_train)"
   ]
  },
  {
   "cell_type": "code",
   "execution_count": 26,
   "metadata": {
    "collapsed": false,
    "scrolled": true
   },
   "outputs": [
    {
     "data": {
      "text/plain": [
       "array([ 51.91309382,  52.69445836,  87.23446024,  65.51861586,\n",
       "        56.30724403,  47.67482773,  73.70628265,  62.15657003,\n",
       "        65.69928108,  53.15681435,  54.41720556,  59.21736904,\n",
       "        65.71252699,  57.76804129,  72.88718335,  57.64123315,\n",
       "        59.96270954,  55.27029309,  49.38643052,  65.82809219,\n",
       "        57.50796295,  48.47425189,  62.40453199,  91.83983913,\n",
       "        49.90487315,  62.78657191,  82.46550709,  75.31756913,\n",
       "        49.08254281,  49.37473444,  62.37119064,  57.665722  ,\n",
       "        55.49699723,  52.11042972,  70.40413569,  53.48234733,\n",
       "        91.65636318,  48.06533269,  55.09224487,  50.32691021,\n",
       "        52.46972435,  53.15080542,  69.32999833,  55.9350581 ,\n",
       "        53.17267727,  58.18158047,  45.08409872,  62.38004314,\n",
       "        45.87767485,  56.82979113,  54.09609883,  49.90632777,\n",
       "        80.96474552,  39.29509188,  50.68142398,  85.72827093,\n",
       "        54.14691862,  80.76718305,  46.05811351,  47.9776811 ,\n",
       "        58.89522798,  52.2390471 ,  55.44472282,  88.28607888,\n",
       "        74.12428093,  48.15634335,  91.9019347 ,  52.15950594,\n",
       "        61.50905688,  61.75708452,  76.23656444,  53.172871  ,\n",
       "        77.92080197,  60.08305561,  79.29194467,  52.41867799,\n",
       "        53.78781772,  50.83175231,  64.24013218,  48.24476985,\n",
       "        62.20138089,  73.45970964,  81.78726959,  56.49191521,\n",
       "        71.44951883,  46.97171392,  80.66570437,  62.68166846,\n",
       "        69.59650589,  53.96528475,  59.96329073,  66.09434034,\n",
       "        82.68555543,  54.32499968,  49.88099832,  42.9834456 ,\n",
       "        50.0065784 ,  56.01847717,  50.67938816,  75.56117052,\n",
       "        63.97746968,  82.11784285,  61.48376027,  84.72207718,\n",
       "        52.14738956,  78.35728017,  81.27079709,  87.14141375,\n",
       "        56.97582127,  48.18467727,  53.88089704,  53.86962126,\n",
       "        49.54173345,  85.74193714,  54.23980421,  57.02828941,\n",
       "        53.60818682,  56.61791558,  79.47865166,  58.02243247,\n",
       "        46.41223981,  51.30877601,  62.28699666,  76.46023128,\n",
       "        50.57025219,  60.49704793,  75.45865751,  66.83632176,\n",
       "        53.82700711,  56.25619767,  54.66442544,  89.9530317 ,\n",
       "        71.95371406,  54.25905905,  54.71863715,  78.3253606 ,\n",
       "        54.87481353,  49.59962933,  67.98780357,  55.74799649,\n",
       "        89.35136374,  91.92564863,  78.30203413,  46.56793021,\n",
       "        86.06327044,  75.13932718,  40.59951903,  47.52876475,\n",
       "        50.0505815 ,  63.66334053,  53.44054094,  49.75480422,\n",
       "        74.58809155,  55.81487293,  53.15015856,  65.76076262,\n",
       "        44.34153612,  64.97765451,  57.35585821,  43.93801181,\n",
       "        69.66881006,  49.89886422,  67.92170206,  55.64109007,\n",
       "        78.00522252,  60.22676099,  54.37119949,  56.8968613 ,\n",
       "        42.1878665 ,  47.32057337,  50.03332964,  52.85880752,\n",
       "        87.18984311,  62.38766759,  55.60729558,  51.07851905,\n",
       "        60.44480636,  58.42838005,  50.35320831,  45.63895285,\n",
       "        77.26689243,  48.51525053,  53.11161603,  52.91285834,\n",
       "        50.36131873,  57.60562942,  64.30400415,  48.61091401,\n",
       "        88.27160491,  59.95343674,  53.7568668 ,  58.45312831,\n",
       "        57.93804476,  53.1297085 ,  59.51191826,  50.98527884,\n",
       "        42.93343357,  58.606622  ,  87.01098713,  52.05673352,\n",
       "        69.19879678,  69.72247343,  52.60015098,  45.95663482,\n",
       "        61.07122258,  51.79752862,  50.34280597,  80.20208748,\n",
       "        63.76669414,  59.24024237,  43.98501938,  67.12024208,\n",
       "        73.98946089,  55.72143899,  86.93865011,  70.76989239,\n",
       "        78.01908246,  85.47003468,  64.61047602,  53.47637124,\n",
       "        67.02703471,  54.41239185,  45.48781676,  85.42803456,\n",
       "        65.00253082,  54.4905769 ,  54.40253786,  48.26686827,\n",
       "        45.77878033,  72.11270117,  61.21628407,  64.9368496 ,\n",
       "        49.57711062,  72.15789949,  69.68609477,  60.13675181,\n",
       "        46.85353172,  63.15274891,  90.19941098,  50.39646933,\n",
       "        91.54683975,  86.70151079,  53.72190993,  63.70795766,\n",
       "        55.80951087,  45.10338641,  52.10157722,  54.89610419,\n",
       "        77.33942317,  88.94884092,  52.53139962,  59.02720444,\n",
       "        68.30009064,  48.35729775,  46.56156666,  46.62039835,\n",
       "        58.64319439,  69.36556923,  51.37810856,  52.05557114,\n",
       "        40.81953454,  59.06804219,  56.83075978,  56.3279535 ,\n",
       "        49.34846918,  54.09425675,  66.41790319,  88.08431673,\n",
       "        69.89771091,  56.39525023,  45.92691196,  52.54248166,\n",
       "        74.21490413,  68.5657576 ,  52.64056843,  62.06410474,\n",
       "        45.72734651,  55.52012997,  74.36823693,  47.85429773,\n",
       "        62.44010289,  46.49624006,  68.73236916,  54.69395457,\n",
       "        90.87041149,  51.8172366 ,  50.34558387,  71.52708986,\n",
       "        50.95710582,  69.93069764,  80.26398931,  54.20924075,\n",
       "        62.5542463 ,  51.91267352,  60.90377043,  59.7687984 ,\n",
       "        53.58385886,  86.632986  ,  49.39767345,  61.21967599,\n",
       "        58.32867777,  60.24401285,  48.85952284,  46.16124055,\n",
       "        61.44615356,  58.75791899,  54.45804331,  80.41108661,\n",
       "        46.15658773,  55.23472219,  46.83844372,  56.03233711,\n",
       "        62.34385822,  64.11833149,  54.78742135,  48.60125375,\n",
       "        51.48643677,  47.707427  ,  70.24298471,  48.09744598,\n",
       "        59.08952658,  57.66798439,  52.53524468,  58.0226262 ,\n",
       "        53.15739554,  58.41309832,  75.73698919,  66.83951996,\n",
       "        41.4336735 ,  52.48604041,  49.02009263,  39.27777434,\n",
       "        76.68089366,  45.5784728 ,  66.41829065,  84.67203231,\n",
       "        45.79635728,  50.48305375,  55.53676781,  56.25858811,\n",
       "        47.45342327,  62.25724096,  65.24593848,  66.30899379,\n",
       "        43.89820839,  56.33738719,  57.76077146,  72.79232762,\n",
       "        64.1884718 ,  86.23488944,  82.43032365,  58.41852606,\n",
       "        57.63981137,  62.16581   ,  63.44652322,  49.3634915 ,\n",
       "        48.14451923,  46.81353457,  53.57177532,  64.89407456,  47.12801834])"
      ]
     },
     "execution_count": 26,
     "metadata": {},
     "output_type": "execute_result"
    }
   ],
   "source": [
    "lr.predict(x_test)"
   ]
  },
  {
   "cell_type": "code",
   "execution_count": 27,
   "metadata": {
    "collapsed": false
   },
   "outputs": [
    {
     "data": {
      "text/plain": [
       "0.961935093141014"
      ]
     },
     "execution_count": 27,
     "metadata": {},
     "output_type": "execute_result"
    }
   ],
   "source": [
    "lr.score(x_test,y_test)"
   ]
  },
  {
   "cell_type": "code",
   "execution_count": 28,
   "metadata": {
    "collapsed": false
   },
   "outputs": [
    {
     "data": {
      "text/plain": [
       "0.96292945122472562"
      ]
     },
     "execution_count": 28,
     "metadata": {},
     "output_type": "execute_result"
    }
   ],
   "source": [
    "lr.score(x_train, y_train)"
   ]
  },
  {
   "cell_type": "code",
   "execution_count": 30,
   "metadata": {
    "collapsed": false
   },
   "outputs": [
    {
     "data": {
      "text/plain": [
       "0    25%\n",
       "1    27%\n",
       "2    33%\n",
       "3    22%\n",
       "4    27%\n",
       "5    34%\n",
       "6    34%\n",
       "7    15%\n",
       "8    51%\n",
       "9    20%\n",
       "Name: international_students, dtype: object"
      ]
     },
     "execution_count": 30,
     "metadata": {},
     "output_type": "execute_result"
    }
   ],
   "source": []
  },
  {
   "cell_type": "code",
   "execution_count": 31,
   "metadata": {
    "collapsed": false
   },
   "outputs": [],
   "source": [
    "df2 = unidata[['total_score','international_students']]"
   ]
  },
  {
   "cell_type": "code",
   "execution_count": 32,
   "metadata": {
    "collapsed": false
   },
   "outputs": [
    {
     "data": {
      "text/html": [
       "<div>\n",
       "<table border=\"1\" class=\"dataframe\">\n",
       "  <thead>\n",
       "    <tr style=\"text-align: right;\">\n",
       "      <th></th>\n",
       "      <th>total_score</th>\n",
       "      <th>international_students</th>\n",
       "    </tr>\n",
       "  </thead>\n",
       "  <tbody>\n",
       "    <tr>\n",
       "      <th>0</th>\n",
       "      <td>96.1</td>\n",
       "      <td>25%</td>\n",
       "    </tr>\n",
       "    <tr>\n",
       "      <th>1</th>\n",
       "      <td>96.0</td>\n",
       "      <td>27%</td>\n",
       "    </tr>\n",
       "    <tr>\n",
       "      <th>2</th>\n",
       "      <td>95.6</td>\n",
       "      <td>33%</td>\n",
       "    </tr>\n",
       "    <tr>\n",
       "      <th>3</th>\n",
       "      <td>94.3</td>\n",
       "      <td>22%</td>\n",
       "    </tr>\n",
       "    <tr>\n",
       "      <th>4</th>\n",
       "      <td>94.2</td>\n",
       "      <td>27%</td>\n",
       "    </tr>\n",
       "  </tbody>\n",
       "</table>\n",
       "</div>"
      ],
      "text/plain": [
       "   total_score international_students\n",
       "0         96.1                    25%\n",
       "1         96.0                    27%\n",
       "2         95.6                    33%\n",
       "3         94.3                    22%\n",
       "4         94.2                    27%"
      ]
     },
     "execution_count": 32,
     "metadata": {},
     "output_type": "execute_result"
    }
   ],
   "source": [
    "df2.head()"
   ]
  },
  {
   "cell_type": "code",
   "execution_count": 33,
   "metadata": {
    "collapsed": false
   },
   "outputs": [
    {
     "name": "stderr",
     "output_type": "stream",
     "text": [
      "/anaconda/lib/python2.7/site-packages/ipykernel/__main__.py:1: SettingWithCopyWarning: \n",
      "A value is trying to be set on a copy of a slice from a DataFrame.\n",
      "Try using .loc[row_indexer,col_indexer] = value instead\n",
      "\n",
      "See the caveats in the documentation: http://pandas.pydata.org/pandas-docs/stable/indexing.html#indexing-view-versus-copy\n",
      "  if __name__ == '__main__':\n"
     ]
    }
   ],
   "source": [
    "df2['international_students'] = map(lambda x: float(str(x).replace('%','')), df2.international_students)"
   ]
  },
  {
   "cell_type": "code",
   "execution_count": 34,
   "metadata": {
    "collapsed": false
   },
   "outputs": [
    {
     "data": {
      "text/html": [
       "<div>\n",
       "<table border=\"1\" class=\"dataframe\">\n",
       "  <thead>\n",
       "    <tr style=\"text-align: right;\">\n",
       "      <th></th>\n",
       "      <th>total_score</th>\n",
       "      <th>international_students</th>\n",
       "    </tr>\n",
       "  </thead>\n",
       "  <tbody>\n",
       "    <tr>\n",
       "      <th>0</th>\n",
       "      <td>96.1</td>\n",
       "      <td>25.0</td>\n",
       "    </tr>\n",
       "    <tr>\n",
       "      <th>1</th>\n",
       "      <td>96.0</td>\n",
       "      <td>27.0</td>\n",
       "    </tr>\n",
       "    <tr>\n",
       "      <th>2</th>\n",
       "      <td>95.6</td>\n",
       "      <td>33.0</td>\n",
       "    </tr>\n",
       "    <tr>\n",
       "      <th>3</th>\n",
       "      <td>94.3</td>\n",
       "      <td>22.0</td>\n",
       "    </tr>\n",
       "    <tr>\n",
       "      <th>4</th>\n",
       "      <td>94.2</td>\n",
       "      <td>27.0</td>\n",
       "    </tr>\n",
       "  </tbody>\n",
       "</table>\n",
       "</div>"
      ],
      "text/plain": [
       "   total_score  international_students\n",
       "0         96.1                    25.0\n",
       "1         96.0                    27.0\n",
       "2         95.6                    33.0\n",
       "3         94.3                    22.0\n",
       "4         94.2                    27.0"
      ]
     },
     "execution_count": 34,
     "metadata": {},
     "output_type": "execute_result"
    }
   ],
   "source": [
    "df2.head()"
   ]
  },
  {
   "cell_type": "code",
   "execution_count": 35,
   "metadata": {
    "collapsed": false
   },
   "outputs": [
    {
     "data": {
      "text/plain": [
       "<matplotlib.axes._subplots.AxesSubplot at 0x11a488e50>"
      ]
     },
     "execution_count": 35,
     "metadata": {},
     "output_type": "execute_result"
    },
    {
     "data": {
      "image/png": "[encoded data removed]",
      "text/plain": [
       "<matplotlib.figure.Figure at 0x11a3a1150>"
      ]
     },
     "metadata": {},
     "output_type": "display_data"
    }
   ],
   "source": [
    "sns.regplot(x='international_students', y='total_score', data=df2)"
   ]
  },
  {
   "cell_type": "code",
   "execution_count": null,
   "metadata": {
    "collapsed": true
   },
   "outputs": [],
   "source": []
  }
 ],
 "metadata": {
  "kernelspec": {
   "display_name": "Python 2",
   "language": "python",
   "name": "python2"
  },
  "language_info": {
   "codemirror_mode": {
    "name": "ipython",
    "version": 2
   },
   "file_extension": ".py",
   "mimetype": "text/x-python",
   "name": "python",
   "nbconvert_exporter": "python",
   "pygments_lexer": "ipython2",
   "version": "2.7.11"
  }
 },
 "nbformat": 4,
 "nbformat_minor": 0
}
