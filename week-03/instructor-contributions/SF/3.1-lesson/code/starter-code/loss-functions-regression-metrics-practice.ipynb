{
 "cells": [
  {
   "cell_type": "markdown",
   "metadata": {},
   "source": [
    "# Practicing loss functions and regression metrics\n",
    "\n",
    "Below you will practice looking at loss functions and look at regression metrics related to these loss functions."
   ]
  },
  {
   "cell_type": "markdown",
   "metadata": {},
   "source": [
    "## 1. Load packages"
   ]
  },
  {
   "cell_type": "code",
   "execution_count": 2,
   "metadata": {
    "collapsed": true
   },
   "outputs": [],
   "source": [
    "import numpy as np\n",
    "import pandas as pd\n",
    "import statsmodels.api as sm\n",
    "from statsmodels.regression.quantile_regression import QuantReg\n",
    "\n",
    "import matplotlib as mpl\n",
    "import matplotlib.pyplot as plt\n",
    "plt.style.use('fivethirtyeight')\n",
    "\n",
    "%matplotlib inline"
   ]
  },
  {
   "cell_type": "markdown",
   "metadata": {},
   "source": [
    "## 2. Plotting functions\n",
    "\n",
    "Here are the functions from the presentation to make visualizing your regressions easier:"
   ]
  },
  {
   "cell_type": "code",
   "execution_count": 3,
   "metadata": {
    "collapsed": true
   },
   "outputs": [],
   "source": [
    "def plot_regression(x, y, model):\n",
    "    plt.figure(figsize=(10,8))\n",
    "    axes = plt.gca()\n",
    "    \n",
    "    intercept = model.params[0]\n",
    "    slope = model.params[1]\n",
    "\n",
    "    for x_, y_ in zip(x, y):    \n",
    "        plt.plot((x_, x_), (y_, x_*slope + intercept),\n",
    "                 'k-', ls='dashed', lw=1)\n",
    "        \n",
    "    plt.scatter(x, y, s=70, c='steelblue')\n",
    "    \n",
    "    x_points = np.linspace(axes.get_xlim()[0], axes.get_xlim()[1], 100)\n",
    "    \n",
    "    regline_x = x_points\n",
    "    regline_y = x_points*slope + intercept\n",
    "\n",
    "    plt.plot(regline_x, regline_y, c='darkred', lw=3.5)\n",
    "\n",
    "    plt.show()\n",
    "    \n",
    "    \n",
    "def plot_leastsq_loss(model):\n",
    "    plt.figure(figsize=(10,8))\n",
    "    \n",
    "    resids = model.resid\n",
    "    \n",
    "    resid_lim = np.max([abs(np.min(resids)), abs(np.max(resids))]) + 1\n",
    "    \n",
    "    resid_points = np.linspace(-1*resid_lim, resid_lim, 200)\n",
    "    \n",
    "    for r in resids:\n",
    "        plt.plot((r, r), (0, r**2), 'k-', ls='dashed', lw=2)\n",
    "        \n",
    "    plt.plot(resid_points, resid_points**2, c='gold', alpha=0.7)\n",
    "    \n",
    "\n",
    "def plot_residuals_ladloss(model):\n",
    "    \n",
    "    resids = model.resid\n",
    "    \n",
    "    resid_lim = np.max([abs(np.min(resids)), abs(np.max(resids))]) + 1\n",
    "    \n",
    "    resid_points = np.linspace(-1*resid_lim, resid_lim, 200)\n",
    "    \n",
    "    plt.figure(figsize=(10,8))\n",
    "    \n",
    "    for r in resids:\n",
    "        \n",
    "        plt.plot((r, r), (0, abs(r)), 'k-', ls='dashed', lw=1)\n",
    "        \n",
    "    plt.plot(resid_points, np.abs(resid_points), c='gold', alpha=0.7)\n",
    "    \n"
   ]
  },
  {
   "cell_type": "markdown",
   "metadata": {},
   "source": [
    "## 3. Load in the data from project 3\n",
    "\n",
    "Load your data from project 3"
   ]
  },
  {
   "cell_type": "code",
   "execution_count": 6,
   "metadata": {
    "collapsed": false
   },
   "outputs": [
    {
     "name": "stderr",
     "output_type": "stream",
     "text": [
      "//anaconda/lib/python2.7/site-packages/IPython/core/interactiveshell.py:2902: DtypeWarning: Columns (3) have mixed types. Specify dtype option on import or set low_memory=False.\n",
      "  interactivity=interactivity, compiler=compiler, result=result)\n"
     ]
    }
   ],
   "source": []
  },
  {
   "cell_type": "code",
   "execution_count": 7,
   "metadata": {
    "collapsed": false
   },
   "outputs": [
    {
     "data": {
      "text/html": [
       "<div>\n",
       "<table border=\"1\" class=\"dataframe\">\n",
       "  <thead>\n",
       "    <tr style=\"text-align: right;\">\n",
       "      <th></th>\n",
       "      <th>Date</th>\n",
       "      <th>Store Number</th>\n",
       "      <th>City</th>\n",
       "      <th>Zip Code</th>\n",
       "      <th>County Number</th>\n",
       "      <th>County</th>\n",
       "      <th>Category</th>\n",
       "      <th>Category Name</th>\n",
       "      <th>Vendor Number</th>\n",
       "      <th>Item Number</th>\n",
       "      <th>Item Description</th>\n",
       "      <th>Bottle Volume (ml)</th>\n",
       "      <th>State Bottle Cost</th>\n",
       "      <th>State Bottle Retail</th>\n",
       "      <th>Bottles Sold</th>\n",
       "      <th>Sale (Dollars)</th>\n",
       "      <th>Volume Sold (Liters)</th>\n",
       "      <th>Volume Sold (Gallons)</th>\n",
       "    </tr>\n",
       "  </thead>\n",
       "  <tbody>\n",
       "    <tr>\n",
       "      <th>0</th>\n",
       "      <td>03/31/2016</td>\n",
       "      <td>5029</td>\n",
       "      <td>DAVENPORT</td>\n",
       "      <td>52806</td>\n",
       "      <td>82.0</td>\n",
       "      <td>Scott</td>\n",
       "      <td>1022100.0</td>\n",
       "      <td>TEQUILA</td>\n",
       "      <td>370</td>\n",
       "      <td>87152</td>\n",
       "      <td>Avion Silver</td>\n",
       "      <td>375</td>\n",
       "      <td>$9.99</td>\n",
       "      <td>$14.99</td>\n",
       "      <td>12</td>\n",
       "      <td>$179.88</td>\n",
       "      <td>4.5</td>\n",
       "      <td>1.19</td>\n",
       "    </tr>\n",
       "    <tr>\n",
       "      <th>1</th>\n",
       "      <td>03/31/2016</td>\n",
       "      <td>5029</td>\n",
       "      <td>DAVENPORT</td>\n",
       "      <td>52806</td>\n",
       "      <td>82.0</td>\n",
       "      <td>Scott</td>\n",
       "      <td>1022100.0</td>\n",
       "      <td>TEQUILA</td>\n",
       "      <td>395</td>\n",
       "      <td>89197</td>\n",
       "      <td>Jose Cuervo Especial Reposado Tequila</td>\n",
       "      <td>1000</td>\n",
       "      <td>$12.50</td>\n",
       "      <td>$18.75</td>\n",
       "      <td>2</td>\n",
       "      <td>$37.50</td>\n",
       "      <td>2.0</td>\n",
       "      <td>0.53</td>\n",
       "    </tr>\n",
       "    <tr>\n",
       "      <th>2</th>\n",
       "      <td>03/31/2016</td>\n",
       "      <td>4959</td>\n",
       "      <td>CEDAR FALLS</td>\n",
       "      <td>50613</td>\n",
       "      <td>7.0</td>\n",
       "      <td>Black Hawk</td>\n",
       "      <td>1071100.0</td>\n",
       "      <td>AMERICAN COCKTAILS</td>\n",
       "      <td>380</td>\n",
       "      <td>63959</td>\n",
       "      <td>Uv Blue Raspberry Lemonade Pet</td>\n",
       "      <td>1750</td>\n",
       "      <td>$5.97</td>\n",
       "      <td>$8.96</td>\n",
       "      <td>6</td>\n",
       "      <td>$53.76</td>\n",
       "      <td>10.5</td>\n",
       "      <td>2.77</td>\n",
       "    </tr>\n",
       "    <tr>\n",
       "      <th>3</th>\n",
       "      <td>03/31/2016</td>\n",
       "      <td>2190</td>\n",
       "      <td>DES MOINES</td>\n",
       "      <td>50314</td>\n",
       "      <td>77.0</td>\n",
       "      <td>Polk</td>\n",
       "      <td>1031200.0</td>\n",
       "      <td>VODKA FLAVORED</td>\n",
       "      <td>205</td>\n",
       "      <td>40597</td>\n",
       "      <td>New Amsterdam Red Berry</td>\n",
       "      <td>200</td>\n",
       "      <td>$2.24</td>\n",
       "      <td>$3.36</td>\n",
       "      <td>48</td>\n",
       "      <td>$161.28</td>\n",
       "      <td>9.6</td>\n",
       "      <td>2.54</td>\n",
       "    </tr>\n",
       "    <tr>\n",
       "      <th>4</th>\n",
       "      <td>03/31/2016</td>\n",
       "      <td>5240</td>\n",
       "      <td>WEST BRANCH</td>\n",
       "      <td>52358</td>\n",
       "      <td>NaN</td>\n",
       "      <td>NaN</td>\n",
       "      <td>1081200.0</td>\n",
       "      <td>CREAM LIQUEURS</td>\n",
       "      <td>305</td>\n",
       "      <td>73055</td>\n",
       "      <td>Rumchata</td>\n",
       "      <td>750</td>\n",
       "      <td>$12.50</td>\n",
       "      <td>$18.75</td>\n",
       "      <td>6</td>\n",
       "      <td>$112.50</td>\n",
       "      <td>4.5</td>\n",
       "      <td>1.19</td>\n",
       "    </tr>\n",
       "  </tbody>\n",
       "</table>\n",
       "</div>"
      ],
      "text/plain": [
       "         Date  Store Number         City Zip Code  County Number      County  \\\n",
       "0  03/31/2016          5029    DAVENPORT    52806           82.0       Scott   \n",
       "1  03/31/2016          5029    DAVENPORT    52806           82.0       Scott   \n",
       "2  03/31/2016          4959  CEDAR FALLS    50613            7.0  Black Hawk   \n",
       "3  03/31/2016          2190   DES MOINES    50314           77.0        Polk   \n",
       "4  03/31/2016          5240  WEST BRANCH    52358            NaN         NaN   \n",
       "\n",
       "    Category       Category Name  Vendor Number  Item Number  \\\n",
       "0  1022100.0             TEQUILA            370        87152   \n",
       "1  1022100.0             TEQUILA            395        89197   \n",
       "2  1071100.0  AMERICAN COCKTAILS            380        63959   \n",
       "3  1031200.0      VODKA FLAVORED            205        40597   \n",
       "4  1081200.0      CREAM LIQUEURS            305        73055   \n",
       "\n",
       "                        Item Description  Bottle Volume (ml)  \\\n",
       "0                           Avion Silver                 375   \n",
       "1  Jose Cuervo Especial Reposado Tequila                1000   \n",
       "2         Uv Blue Raspberry Lemonade Pet                1750   \n",
       "3                New Amsterdam Red Berry                 200   \n",
       "4                               Rumchata                 750   \n",
       "\n",
       "  State Bottle Cost State Bottle Retail  Bottles Sold Sale (Dollars)  \\\n",
       "0             $9.99              $14.99            12        $179.88   \n",
       "1            $12.50              $18.75             2         $37.50   \n",
       "2             $5.97               $8.96             6         $53.76   \n",
       "3             $2.24               $3.36            48        $161.28   \n",
       "4            $12.50              $18.75             6        $112.50   \n",
       "\n",
       "   Volume Sold (Liters)  Volume Sold (Gallons)  \n",
       "0                   4.5                   1.19  \n",
       "1                   2.0                   0.53  \n",
       "2                  10.5                   2.77  \n",
       "3                   9.6                   2.54  \n",
       "4                   4.5                   1.19  "
      ]
     },
     "execution_count": 7,
     "metadata": {},
     "output_type": "execute_result"
    }
   ],
   "source": []
  },
  {
   "cell_type": "markdown",
   "metadata": {},
   "source": [
    "## 4. Choose a continuous response variable and predictor variable from the dataset\n",
    "\n",
    "If you choose columns with dollar amounts, you will need to remove the dollar signs!"
   ]
  },
  {
   "cell_type": "code",
   "execution_count": 8,
   "metadata": {
    "collapsed": true
   },
   "outputs": [],
   "source": []
  },
  {
   "cell_type": "markdown",
   "metadata": {},
   "source": [
    "## 5. Choose a small subset of the predictor and response variables you chose\n",
    "\n",
    "You can use the ```np.random.choice()``` function to get a random sample of indices. Look up how to use it!"
   ]
  },
  {
   "cell_type": "code",
   "execution_count": 14,
   "metadata": {
    "collapsed": true
   },
   "outputs": [],
   "source": []
  },
  {
   "cell_type": "markdown",
   "metadata": {},
   "source": [
    "## 6. Build a least squares regression model predicting your response from your predictors\n",
    "\n",
    "Remember to use your sample so you can plot this later!\n",
    "\n",
    "I did not provide the code to create the regression. Either look it up in the statsmodels documentation or refer to the slides so you can practice doing this yourself."
   ]
  },
  {
   "cell_type": "code",
   "execution_count": 15,
   "metadata": {
    "collapsed": false
   },
   "outputs": [
    {
     "name": "stdout",
     "output_type": "stream",
     "text": [
      "                            OLS Regression Results                            \n",
      "==============================================================================\n",
      "Dep. Variable:                      y   R-squared:                       0.151\n",
      "Model:                            OLS   Adj. R-squared:                  0.133\n",
      "Method:                 Least Squares   F-statistic:                     8.506\n",
      "Date:                Wed, 27 Apr 2016   Prob (F-statistic):            0.00537\n",
      "Time:                        07:55:26   Log-Likelihood:                -184.25\n",
      "No. Observations:                  50   AIC:                             372.5\n",
      "Df Residuals:                      48   BIC:                             376.3\n",
      "Df Model:                           1                                         \n",
      "Covariance Type:            nonrobust                                         \n",
      "==============================================================================\n",
      "                 coef    std err          t      P>|t|      [95.0% Conf. Int.]\n",
      "------------------------------------------------------------------------------\n",
      "const         16.6932      2.725      6.126      0.000        11.214    22.173\n",
      "x1            -0.7509      0.257     -2.916      0.005        -1.269    -0.233\n",
      "==============================================================================\n",
      "Omnibus:                       24.626   Durbin-Watson:                   1.602\n",
      "Prob(Omnibus):                  0.000   Jarque-Bera (JB):               40.339\n",
      "Skew:                           1.584   Prob(JB):                     1.74e-09\n",
      "Kurtosis:                       6.054   Cond. No.                         20.9\n",
      "==============================================================================\n",
      "\n",
      "Warnings:\n",
      "[1] Standard Errors assume that the covariance matrix of the errors is correctly specified.\n"
     ]
    }
   ],
   "source": []
  },
  {
   "cell_type": "markdown",
   "metadata": {},
   "source": [
    "## 7. Plot the least squares regression\n",
    "\n",
    "You can use the ```plot_regression(x, y, model)``` function provided."
   ]
  },
  {
   "cell_type": "code",
   "execution_count": 16,
   "metadata": {
    "collapsed": false
   },
   "outputs": [
    {
     "data": {
      "image/png": "[encoded data removed]",
      "text/plain": [
       "<matplotlib.figure.Figure at 0x1322a25d0>"
      ]
     },
     "metadata": {},
     "output_type": "display_data"
    }
   ],
   "source": []
  },
  {
   "cell_type": "markdown",
   "metadata": {},
   "source": [
    "## 8. Build a least absolute deviation quantreg model on the same sample"
   ]
  },
  {
   "cell_type": "code",
   "execution_count": 17,
   "metadata": {
    "collapsed": false
   },
   "outputs": [
    {
     "name": "stdout",
     "output_type": "stream",
     "text": [
      "                         QuantReg Regression Results                          \n",
      "==============================================================================\n",
      "Dep. Variable:                      y   Pseudo R-squared:              0.02361\n",
      "Model:                       QuantReg   Bandwidth:                       9.803\n",
      "Method:                 Least Squares   Sparsity:                        18.26\n",
      "Date:                Wed, 27 Apr 2016   No. Observations:                   50\n",
      "Time:                        07:58:32   Df Residuals:                       48\n",
      "                                        Df Model:                            1\n",
      "==============================================================================\n",
      "                 coef    std err          t      P>|t|      [95.0% Conf. Int.]\n",
      "------------------------------------------------------------------------------\n",
      "const          9.4166      2.528      3.725      0.001         4.334    14.499\n",
      "x1            -0.2630      0.239     -1.101      0.276        -0.743     0.217\n",
      "==============================================================================\n"
     ]
    }
   ],
   "source": []
  },
  {
   "cell_type": "markdown",
   "metadata": {},
   "source": [
    "## 9. Plot the LAD regression"
   ]
  },
  {
   "cell_type": "code",
   "execution_count": 18,
   "metadata": {
    "collapsed": false
   },
   "outputs": [
    {
     "data": {
      "image/png": "[encoded data removed]",
      "text/plain": [
       "<matplotlib.figure.Figure at 0x119f11c10>"
      ]
     },
     "metadata": {},
     "output_type": "display_data"
    }
   ],
   "source": []
  },
  {
   "cell_type": "markdown",
   "metadata": {},
   "source": [
    "## 10. Calculate the RMSE and the MAE between you response and predicted response\n",
    "\n",
    "**RMSE** is the **root mean squared error**. It is a metric for the performance of your regression related to the least squared loss. \n",
    "\n",
    "$$\\text{RMSE} = \\sqrt{\\frac{\\sum_{i}{\\left(\\hat{y}_i - y_i \\right)^2}}{n}}$$\n",
    "\n",
    "https://en.wikipedia.org/wiki/Root-mean-square_deviation\n",
    "\n",
    "**MAE** is the **mean absolute error**. It is a metric for regression performace when the loss function is the least absolute deviation.\n",
    "\n",
    "$$\\text{MAE} = \\frac{\\sum_{i}{|\\hat{y}_i - y_i |}}{n}$$\n",
    "\n",
    "https://en.wikipedia.org/wiki/Average_absolute_deviation"
   ]
  },
  {
   "cell_type": "code",
   "execution_count": 19,
   "metadata": {
    "collapsed": true
   },
   "outputs": [],
   "source": [
    "from sklearn.metrics import mean_squared_error, mean_absolute_error"
   ]
  },
  {
   "cell_type": "code",
   "execution_count": 27,
   "metadata": {
    "collapsed": false
   },
   "outputs": [
    {
     "name": "stdout",
     "output_type": "stream",
     "text": [
      "9.64191830261\n"
     ]
    }
   ],
   "source": [
    "## RMSE:"
   ]
  },
  {
   "cell_type": "code",
   "execution_count": 28,
   "metadata": {
    "collapsed": false
   },
   "outputs": [
    {
     "name": "stdout",
     "output_type": "stream",
     "text": [
      "6.26839559208\n"
     ]
    }
   ],
   "source": [
    "## MAE:"
   ]
  },
  {
   "cell_type": "markdown",
   "metadata": {},
   "source": [
    "## 11. [BONUS] What would be the loss function to find the _mode_ and why?\n",
    "\n",
    "Remember that the least squares loss minimizes:\n",
    "\n",
    "### $$\\sum_{i}{\\left(\\hat{y}_i - y_i \\right)^2}$$\n",
    "\n",
    "And the least absolute deviation loss minimizes:\n",
    "\n",
    "### $$y = \\sum_{i}{|\\hat{y}_i - y_i |^1}$$\n",
    "\n",
    "**Do you see a pattern here?**\n"
   ]
  },
  {
   "cell_type": "markdown",
   "metadata": {},
   "source": []
  },
  {
   "cell_type": "markdown",
   "metadata": {},
   "source": [
    "## 12. [BONUS] Create a quantile regression with q = 0.25 and plot it. What exactly is this regression predicting?"
   ]
  },
  {
   "cell_type": "code",
   "execution_count": null,
   "metadata": {
    "collapsed": true
   },
   "outputs": [],
   "source": []
  },
  {
   "cell_type": "code",
   "execution_count": null,
   "metadata": {
    "collapsed": true
   },
   "outputs": [],
   "source": []
  }
 ],
 "metadata": {
  "kernelspec": {
   "display_name": "Python 2",
   "language": "python",
   "name": "python2"
  },
  "language_info": {
   "codemirror_mode": {
    "name": "ipython",
    "version": 2
   },
   "file_extension": ".py",
   "mimetype": "text/x-python",
   "name": "python",
   "nbconvert_exporter": "python",
   "pygments_lexer": "ipython2",
   "version": "2.7.11"
  }
 },
 "nbformat": 4,
 "nbformat_minor": 0
}
