{
 "cells": [
  {
   "cell_type": "code",
   "execution_count": 8,
   "metadata": {
    "collapsed": false
   },
   "outputs": [
    {
     "name": "stdout",
     "output_type": "stream",
     "text": [
      "How many pounds does your suitcase weigh? 25\n",
      "There is a $25 charge for luggage that heavy.\n",
      "Thank you for your business.\n"
     ]
    }
   ],
   "source": [
    "# If the condition is true, then do the indented \n",
    "# statements. If the condition \n",
    "# is not true, then skip the indented statements.\n",
    "# use a number < 50\n",
    "\n",
    "weight = float(input(\"How many pounds does your suitcase weigh? \"))\n",
    "if weight < 50:\n",
    "        print(\"There is a $25 charge for luggage that heavy.\")\n",
    "print(\"Thank you for your business.\")"
   ]
  },
  {
   "cell_type": "code",
   "execution_count": 2,
   "metadata": {
    "collapsed": false
   },
   "outputs": [
    {
     "name": "stdout",
     "output_type": "stream",
     "text": [
      "How many pounds does your suitcase weigh? 20\n",
      "Thank you for your business.\n"
     ]
    }
   ],
   "source": [
    "# If the condition is true, then do the indented \n",
    "# statements. If the condition \n",
    "# is not true, then skip the indented statements.\n",
    "# use a number > 50\n",
    "\n",
    "weight = float(input(\"How many pounds does your suitcase weigh? \"))\n",
    "if weight > 50:\n",
    "        print(\"There is a $25 charge for luggage that heavy.\")\n",
    "print(\"Thank you for your business.\")"
   ]
  },
  {
   "cell_type": "code",
   "execution_count": 3,
   "metadata": {
    "collapsed": false
   },
   "outputs": [
    {
     "name": "stdout",
     "output_type": "stream",
     "text": [
      "What is the temperature? 85\n",
      "Wear shorts.\n",
      "Get some exercise outside.\n"
     ]
    }
   ],
   "source": [
    "# The middle four lines are an if-else statement. There \n",
    "# are two indented blocks: One, like in the simple if \n",
    "# statement, comes right after the if heading and is \n",
    "# executed when the condition in the if heading is true. \n",
    "# In the if-else form this is followed by an else: line, \n",
    "# followed by another indented block that is only executed \n",
    "# when the original condition is false. In an if-else \n",
    "# statement exactly one of two possible indented blocks is executed.\n",
    "\n",
    "temperature = float(input('What is the temperature? '))\n",
    "if temperature > 70:\n",
    "    print('Wear shorts.')\n",
    "else:\n",
    "    print('Wear long pants.')\n",
    "print('Get some exercise outside.')"
   ]
  },
  {
   "cell_type": "code",
   "execution_count": 4,
   "metadata": {
    "collapsed": false
   },
   "outputs": [
    {
     "name": "stdout",
     "output_type": "stream",
     "text": [
      "Please enter an integer: 1\n",
      "Single\n"
     ]
    }
   ],
   "source": [
    "# The if, each elif, and the final else line are all \n",
    "# aligned. There can be any number of elif lines, each \n",
    "# followed by an indented block. With this construction \n",
    "# exactly one of the indented blocks is executed. It is \n",
    "# the one corresponding to the first True condition.\n",
    "\n",
    "x = int(raw_input(\"Please enter an integer: \"))\n",
    "\n",
    "if x < 0:\n",
    "    x = 0\n",
    "    print 'Negative changed to zero'\n",
    "elif x == 0:\n",
    "    print 'Zero'\n",
    "elif x == 1:\n",
    "    print 'Single'\n",
    "else:\n",
    "    print 'More'"
   ]
  },
  {
   "cell_type": "code",
   "execution_count": 9,
   "metadata": {
    "collapsed": false
   },
   "outputs": [
    {
     "name": "stdout",
     "output_type": "stream",
     "text": [
      "cat 3\n",
      "window 6\n",
      "defenestrate 12\n"
     ]
    }
   ],
   "source": [
    "words = ['cat', 'window', 'defenestrate']\n",
    "for w in words:\n",
    "    print w, len(w)"
   ]
  },
  {
   "cell_type": "code",
   "execution_count": 6,
   "metadata": {
    "collapsed": true
   },
   "outputs": [],
   "source": [
    "def printme( str ):\n",
    "   \"This prints a passed string into this function\"\n",
    "   print str\n",
    "   return"
   ]
  },
  {
   "cell_type": "code",
   "execution_count": 7,
   "metadata": {
    "collapsed": false
   },
   "outputs": [
    {
     "name": "stdout",
     "output_type": "stream",
     "text": [
      "Beltway traffic makes my head hurt.\n",
      "It looks like a parking lot out there!\n"
     ]
    }
   ],
   "source": [
    "printme(\"Beltway traffic makes my head hurt.\")\n",
    "printme(\"It looks like a parking lot out there!\")"
   ]
  },
  {
   "cell_type": "code",
   "execution_count": null,
   "metadata": {
    "collapsed": true
   },
   "outputs": [],
   "source": []
  },
  {
   "cell_type": "code",
   "execution_count": null,
   "metadata": {
    "collapsed": true
   },
   "outputs": [],
   "source": []
  }
 ],
 "metadata": {
  "anaconda-cloud": {},
  "kernelspec": {
   "display_name": "Python [default]",
   "language": "python",
   "name": "python2"
  },
  "language_info": {
   "codemirror_mode": {
    "name": "ipython",
    "version": 2
   },
   "file_extension": ".py",
   "mimetype": "text/x-python",
   "name": "python",
   "nbconvert_exporter": "python",
   "pygments_lexer": "ipython2",
   "version": "2.7.12"
  }
 },
 "nbformat": 4,
 "nbformat_minor": 0
}
