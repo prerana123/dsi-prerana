{
 "cells": [
  {
   "cell_type": "markdown",
   "metadata": {},
   "source": [
    "# ![](https://ga-dash.s3.amazonaws.com/production/assets/logo-9f88ae6c9c3871690e33280fcf557f33.png) Exercises - Python Loops, List and Dictionaries\n",
    "\n",
    "Week 1 | Exercises"
   ]
  },
  {
   "cell_type": "markdown",
   "metadata": {},
   "source": [
    "## Exercises\n",
    "\n",
    "Using the Hong Kong District dictionary."
   ]
  },
  {
   "cell_type": "code",
   "execution_count": 1,
   "metadata": {
    "collapsed": true
   },
   "outputs": [],
   "source": [
    "population = {'Central and Western':248600,\n",
    "              'Eastern':579400,\n",
    "              'Southern':270500,\n",
    "              'Wan Chai':150400,\n",
    "              'Sham Shui Po':388300,\n",
    "              'Kowloon City':402300,\n",
    "              'Kwun Tong':639900,\n",
    "              'Wong Tai Sin':424500,\n",
    "              'Yau Tsim Mong':313600,\n",
    "              'Kwai Tsing':501900,\n",
    "              'North':303300,\n",
    "              'Sai Kung':448600,\n",
    "              'Sha Tin':648200,\n",
    "              'Tai Po':302300,\n",
    "              'Tsuen Wan':301600,\n",
    "              'Tuen Mun':489000,\n",
    "              'Yuen Long':595100\n",
    "              }"
   ]
  },
  {
   "cell_type": "markdown",
   "metadata": {},
   "source": [
    "- **What is the total population on Hong Kong?**"
   ]
  },
  {
   "cell_type": "code",
   "execution_count": 2,
   "metadata": {
    "collapsed": false
   },
   "outputs": [
    {
     "name": "stdout",
     "output_type": "stream",
     "text": [
      "Total Hong Kong population is 7007500\n"
     ]
    }
   ],
   "source": []
  },
  {
   "cell_type": "markdown",
   "metadata": {},
   "source": [
    "- **What is the total population of:**\n",
    "  - Hong Kong Island?\n",
    "        ```python\n",
    "        hong_kong_island = ['Central and Western', 'Eastern', 'Southern',\n",
    "                            'Wan Chai']\n",
    "        ```    \n",
    "  - Kowloon?\n",
    "        ```python\n",
    "        kowloon = ['Sham Shui Po','Kowloon City','Kwun Tong','Wong Tai Sin',\n",
    "                   'Yau Tsim Mong','Islands']\n",
    "        ```\n",
    "  - New Territories\n",
    "    - All the districts except those in Hong Kong Island and Kowloon"
   ]
  },
  {
   "cell_type": "code",
   "execution_count": 3,
   "metadata": {
    "collapsed": false
   },
   "outputs": [
    {
     "name": "stdout",
     "output_type": "stream",
     "text": [
      "Total Hong Kong Island population is 1248900\n",
      "Total Kowloon population is 2168600\n",
      "Total New Territories population is 3590000\n"
     ]
    }
   ],
   "source": []
  },
  {
   "cell_type": "markdown",
   "metadata": {},
   "source": [
    "- **Find the district with the highest population**"
   ]
  },
  {
   "cell_type": "code",
   "execution_count": 4,
   "metadata": {
    "collapsed": false
   },
   "outputs": [
    {
     "name": "stdout",
     "output_type": "stream",
     "text": [
      "District with the highest population is Sha Tin with 648200 people\n"
     ]
    }
   ],
   "source": []
  },
  {
   "cell_type": "markdown",
   "metadata": {},
   "source": [
    "- Find the district with the **second highest** population;\n",
    "- Find the district with the **second lowest** population;\n",
    "  - Can you devise a way to get the list of districts and population sorted by populations?"
   ]
  },
  {
   "cell_type": "code",
   "execution_count": 5,
   "metadata": {
    "collapsed": false
   },
   "outputs": [
    {
     "data": {
      "text/plain": [
       "[('Sha Tin', 648200),\n",
       " ('Kwun Tong', 639900),\n",
       " ('Yuen Long', 595100),\n",
       " ('Eastern', 579400),\n",
       " ('Kwai Tsing', 501900),\n",
       " ('Tuen Mun', 489000),\n",
       " ('Sai Kung', 448600),\n",
       " ('Wong Tai Sin', 424500),\n",
       " ('Kowloon City', 402300),\n",
       " ('Sham Shui Po', 388300),\n",
       " ('Yau Tsim Mong', 313600),\n",
       " ('North', 303300),\n",
       " ('Tai Po', 302300),\n",
       " ('Tsuen Wan', 301600),\n",
       " ('Southern', 270500),\n",
       " ('Central and Western', 248600),\n",
       " ('Wan Chai', 150400)]"
      ]
     },
     "execution_count": 5,
     "metadata": {},
     "output_type": "execute_result"
    }
   ],
   "source": []
  },
  {
   "cell_type": "code",
   "execution_count": 6,
   "metadata": {
    "collapsed": false
   },
   "outputs": [
    {
     "name": "stdout",
     "output_type": "stream",
     "text": [
      "Second highest population is Kwun Tong with 639900 people\n",
      "Second lowest population is Central and Western with 248600 people\n"
     ]
    }
   ],
   "source": []
  }
 ],
 "metadata": {
  "kernelspec": {
   "display_name": "Python 2",
   "language": "python",
   "name": "python2"
  },
  "language_info": {
   "codemirror_mode": {
    "name": "ipython",
    "version": 2
   },
   "file_extension": ".py",
   "mimetype": "text/x-python",
   "name": "python",
   "nbconvert_exporter": "python",
   "pygments_lexer": "ipython2",
   "version": "2.7.11"
  }
 },
 "nbformat": 4,
 "nbformat_minor": 0
}
