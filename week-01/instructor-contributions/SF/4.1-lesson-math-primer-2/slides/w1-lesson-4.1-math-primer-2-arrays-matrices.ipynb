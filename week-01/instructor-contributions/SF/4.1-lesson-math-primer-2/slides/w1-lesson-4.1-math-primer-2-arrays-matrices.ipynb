{
 "cells": [
  {
   "cell_type": "markdown",
   "metadata": {
    "slideshow": {
     "slide_type": "slide"
    }
   },
   "source": [
    "<img src=\"https://ga-dash.s3.amazonaws.com/production/assets/logo-9f88ae6c9c3871690e33280fcf557f33.png\" style=\"float: left; margin: 10px;\"> \n",
    "# Math Primer 2\n",
    "***\n",
    "Week 1 | Lesson 4.1\n",
    "\n",
    "### LEARNING OBJECTIVES\n",
    "*After this lesson, you will be able to:*\n",
    "- Describe a matrix and an array\n",
    "- Explain how to add and subtract arrays\n",
    "- Explain the dot product\n",
    "\n",
    "\n",
    "### STUDENT PRE-WORK\n",
    "*Before this lesson, you should already be able to understand arrays:*\n",
    "- [intro to arrays](https://www.khanacademy.org/computing/computer-programming/programming/arrays/p/intro-to-arrays#)\n",
    "\n",
    "\n"
   ]
  },
  {
   "cell_type": "markdown",
   "metadata": {
    "slideshow": {
     "slide_type": "slide"
    }
   },
   "source": [
    "### LESSON GUIDE\n",
    "| TIMING  | TYPE  | TOPIC  |\n",
    "|:-:|---|---|\n",
    "| 5 min  | [Introduction](#introduction)   | Matrices, arrays, the dot product  |\n",
    "| 20 min  | [Demo / Guided Practice](#demo)  | Matrices and arrays  |\n",
    "| 20 min  | [Demo / Guided Practice](#demo)  | Adding and subtracting arrays  |\n",
    "| 20 min  | [Demo / Guided Practice](#demo)  | The dot product  |\n",
    "| 20 min  | [Independent Practice](#ind-practice)  |  |\n",
    "| 5 min  | [Conclusion](#conclusion)  |  |\n",
    "\n",
    "---"
   ]
  },
  {
   "cell_type": "markdown",
   "metadata": {
    "slideshow": {
     "slide_type": "slide"
    }
   },
   "source": [
    "<a name=\"Why use arrays?\"></a>\n",
    "## Introduction: Why Use arrays? (5 mins)\n",
    "\n",
    "An array is a collection of related data items, called elements, associated \n",
    "with a single variable name.  **Arrays** can ease programming and offer improved performance. \n",
    "When writing an application, you are usually faced with the problem of storing and \n",
    "manipulating large collections of data. **Arrays** simplify the task of naming and \n",
    "referencing the individual items in each collection.  Using arrays can boost the \n",
    "performance of your application."
   ]
  },
  {
   "cell_type": "markdown",
   "metadata": {
    "slideshow": {
     "slide_type": "fragment"
    }
   },
   "source": [
    "**Generally, arrays for:**\n",
    "\n",
    "* Organization\n",
    "* Performance\n",
    "* Utility\n"
   ]
  },
  {
   "cell_type": "markdown",
   "metadata": {
    "slideshow": {
     "slide_type": "notes"
    }
   },
   "source": [
    "_note: Rather than iterating and processing data with for and while loops, arrays are a data structure provided by numpy that allows processing of entire datasets without iteration.  Think of the different object types.  Imagine having just one that allows us to standardize how we work with data._"
   ]
  },
  {
   "cell_type": "markdown",
   "metadata": {
    "slideshow": {
     "slide_type": "slide"
    }
   },
   "source": [
    "<a name=\"Matrices and arrays\"></a>\n",
    "## Demo / Guided Practice / Codealong: Matrices and arrays (20 mins)\n",
    "\n",
    "An array is a data structure that allows you to group several numeric or string \n",
    "variables under a single name. It may be one-dimensional list, a vector, or a\n",
    "two-dimensional table or matrix, or it may have several dimensions. **An array may \n",
    "contain either string or numeric values, but a given array may not contain both \n",
    "types of values.** \n",
    "\n",
    "<img src=\"http://40.media.tumblr.com/tumblr_lkmwqmOnAI1qhepswo1_500.jpg\" width=\"250\">\n",
    "\n",
    "_As mentioned above, a matrix is a specific type of array, that is 2D._"
   ]
  },
  {
   "cell_type": "markdown",
   "metadata": {
    "slideshow": {
     "slide_type": "slide"
    }
   },
   "source": [
    "Here's a great picture showing the difference between vectors, matrices, and arrays. \n",
    "\n",
    "![vectors, matrices, arrays](../assets/images/vectorArrayMatrix.jpg)\n",
    "\n",
    "[vectors, matrices, arrays](http://www.slideshare.net/mikeranderson/2013-1114-enter-thematrix)"
   ]
  },
  {
   "cell_type": "markdown",
   "metadata": {
    "slideshow": {
     "slide_type": "notes"
    }
   },
   "source": [
    "_note: Tensors are geometric objects that describe linear relations between geometric vectors, scalars, and other tensors_"
   ]
  },
  {
   "cell_type": "markdown",
   "metadata": {
    "slideshow": {
     "slide_type": "slide"
    }
   },
   "source": [
    "Let's use numpy to create an array. \n",
    "\n",
    "in iPython notebook type (see demo notebook [here](../code/w1-4.1-demo.ipynb)):\n",
    "```bash\n",
    "import numpy as np\n",
    "a = np.array([1, 2, 3, 4, 5])\n",
    "b = np.array([5, 4, 3, 2, 1])\n",
    "```\n",
    "You've just created your first two arrays! Since we know that matrices are simply \n",
    "a 2D array, we'll just keep keep our focus on arrays for the moment. Since there may be some\n",
    "confusion using matrices and arrays, most Python users find it easier just to stick with arrays.\n",
    "\n",
    "You can read more about the confustion between the two and some problems that arise\n",
    "[here](http://stackoverflow.com/questions/12024820/danger-of-mixing-numpy-matrix-and-array)"
   ]
  },
  {
   "cell_type": "markdown",
   "metadata": {},
   "source": [
    "## Exercize: 10mins!\n",
    "\n",
    "Pair up and create the following in a notebook:\n",
    "* 1x vector\n",
    "* 2x2 matrix\n",
    "* 3x3 matrix\n",
    "* 4x8 array"
   ]
  },
  {
   "cell_type": "markdown",
   "metadata": {
    "slideshow": {
     "slide_type": "notes"
    }
   },
   "source": [
    "Ask: What is the difference between a vector, a matrix, and an array? Is a vector an array? Is an array a vector? Is a matrix an array? Is an array a matrix?"
   ]
  },
  {
   "cell_type": "markdown",
   "metadata": {
    "slideshow": {
     "slide_type": "fragment"
    }
   },
   "source": [
    "* Check out this great explanation on [Stack Exchange](http://stackoverflow.com/questions/4151128/what-are-the-differences-between-numpy-arrays-and-matrices-which-one-should-i-u)\n",
    "\n",
    "* This one is great too! [Python For Data Ch04](https://www.safaribooksonline.com/library/view/python-for-data/9781449323592/ch04.html)\n",
    "\n",
    "* [More arrays and matrices](http://www.truebasic.com/node/1038)_\n"
   ]
  },
  {
   "cell_type": "markdown",
   "metadata": {},
   "source": [
    "<a name=\" Adding and subtracting two arrays\"></a>\n",
    "## Demo / Guided Practice / Codealong:  Adding and subtracting two arrays (20 mins)\n",
    "\n",
    "Let's take a look at the two arrays we created previously. \n",
    "```bash\n",
    "a = [1, 2, 3, 4, 5]\n",
    "b = [5, 4, 3, 2, 1]\n",
    "```\n",
    "\n",
    "How would we add them together manually?"
   ]
  },
  {
   "cell_type": "markdown",
   "metadata": {
    "slideshow": {
     "slide_type": "fragment"
    }
   },
   "source": [
    "```\n",
    "\n",
    "vector a = 1 2 3 4 5\n",
    "vector b = 5 4 3 2 1 \n",
    "           ---------\n",
    "           6 6 6 6 6\n",
    "```\n",
    "\n",
    "or:\n",
    "\n",
    "**`vector a + vector b = [1 + 5, 2 + 4, 3 + 3, 4 + 2, 5 + 1] = [6, 6, 6, 6, 6]`**\n",
    "\n"
   ]
  },
  {
   "cell_type": "markdown",
   "metadata": {
    "slideshow": {
     "slide_type": "slide"
    }
   },
   "source": [
    "Ok there's an easier way even:\n",
    "\n"
   ]
  },
  {
   "cell_type": "code",
   "execution_count": 8,
   "metadata": {
    "collapsed": false,
    "slideshow": {
     "slide_type": "fragment"
    }
   },
   "outputs": [
    {
     "data": {
      "text/plain": [
       "array([6, 6, 6, 6, 6])"
      ]
     },
     "execution_count": 8,
     "metadata": {},
     "output_type": "execute_result"
    }
   ],
   "source": [
    "import numpy as np\n",
    "\n",
    "np.add([1,2,3,4,5], [5,4,3,2,1])"
   ]
  },
  {
   "cell_type": "markdown",
   "metadata": {
    "slideshow": {
     "slide_type": "slide"
    }
   },
   "source": [
    "Conversely, subtraction works remarkably similar with:\n",
    "    \n",
    "    np.subtract(a, b)\n",
    "\n",
    "Try it out on with these vector array pairs:\n",
    "\n",
    "#### Set 1 - Add\n",
    "```\n",
    "a = [1, 2, 3, 4, 5, 6]\n",
    "b = [-6, -5, -4, -3, -2, -1]\n",
    "```    \n",
    "\n",
    "#### Set 2 - Subtract\n",
    "\n",
    "```\n",
    "a = [-1, -2, -3, -4, -5, -6]\n",
    "b = [-6, -5, -4, -3, -2, -1]\n",
    "```    \n",
    "\n",
    "#### Set 3 - Subtract\n",
    "\n",
    "```\n",
    "a = [101, 201, 33.22, -423, 5.3234, -6.234]\n",
    "b = [-601, 501.33, -113, 3.3000003, -2, -1.999999999999999]\n",
    "```    \n",
    "\n",
    "#### Set 4 - Subtract\n",
    "```\n",
    "a = [-101, -201, -33.22, 423, -5.3234, -34]\n",
    "b = [601, -501.33, 113, -3.3000003, 'l', 10.999999999999999]\n",
    "```"
   ]
  },
  {
   "cell_type": "markdown",
   "metadata": {
    "slideshow": {
     "slide_type": "slide"
    }
   },
   "source": [
    "<a name=\" The dot product\"></a>\n",
    "## Demo / Guided Practice / Codealong:  The dot product (20 mins)\n",
    "\n",
    "The dot product is one way to multiply arrays. \n",
    "The dot product is represented like [this]:\n",
    "\n",
    "![](../assets/images/dot%20product.png)\n",
    "\n",
    "Let's take a look again at the two arrays we just created above. \n",
    "```bash\n",
    "a = [1, 2, 3, 4, 5]\n",
    "b = [5, 4, 3, 2, 1]\n",
    "```\n",
    "\n",
    "\n",
    "       \n",
    "Now, let's let numpy do the work. \n",
    "in iPython notebook type:\n",
    "```bash\n",
    "np.dot(a, b)\n",
    "```\n",
    "Thanks numpy, that was easy!\n",
    "\n",
    "[dot product](http://www.maplesoft.com/support/help/maple/view.aspx?path=SignalProcessing%2FDotProduct)\n",
    "[dot product](http://tutorial.math.lamar.edu/Classes/CalcII/DotProduct.aspx)\n"
   ]
  },
  {
   "cell_type": "markdown",
   "metadata": {
    "slideshow": {
     "slide_type": "notes"
    }
   },
   "source": [
    "I see the dot product as directional multiplication. But multiplication goes beyond repeated counting: it's applying the essence of one item to another.\n",
    "\n",
    "Normal multiplication combines growth rates: \"3 x 4\" can mean \"Take your 3x growth and make it 4x larger (i.e., 12x)\". Complex multiplication lets us combine rotations. Integrals let us do piece-by-piece multiplication.\n",
    "\n",
    "A vector is \"growth in a direction\". The dot product lets us apply the directional growth of one vector to another: the result is how much we went along the original path (positive progress, negative, or zero)."
   ]
  },
  {
   "cell_type": "markdown",
   "metadata": {
    "slideshow": {
     "slide_type": "slide"
    }
   },
   "source": [
    "Using the formula for the dot product that we just learned, let's find the dot product for our \n",
    "two arrays. \n",
    "\n",
    "### How do we do this if we wrote each line out?\n"
   ]
  },
  {
   "cell_type": "markdown",
   "metadata": {
    "slideshow": {
     "slide_type": "fragment"
    }
   },
   "source": [
    "```\n",
    "1 * 5 = 5\n",
    "2 * 4 = 8\n",
    "3 * 3 = 9\n",
    "4 * 2 = 8\n",
    "5 * 1 = 5\n",
    "       --\n",
    "       35\n",
    "```"
   ]
  },
  {
   "cell_type": "markdown",
   "metadata": {
    "slideshow": {
     "slide_type": "slide"
    }
   },
   "source": [
    "<a name=\"ind-practice\"></a>\n",
    "## Independent Practice: Topic (20 minutes)\n",
    "\n",
    "- Create 2 arrays. Add them together, subtract them, and do the dot product. \n",
    "\n",
    "Bonus:\n",
    "\n",
    "- Create a 3 dimensional array\n",
    "- Create a 5 dimensional array\n",
    "\n",
    "\n"
   ]
  },
  {
   "cell_type": "markdown",
   "metadata": {
    "slideshow": {
     "slide_type": "slide"
    }
   },
   "source": [
    "<a name=\"conclusion\"></a>\n",
    "## Conclusion (5 mins)\n",
    "- What's the difference between a matrix and an array? \n",
    "- Explain how to add to arrays together, subtract them, get the dot product to a partner. "
   ]
  }
 ],
 "metadata": {
  "celltoolbar": "Slideshow",
  "kernelspec": {
   "display_name": "Python 2",
   "language": "python",
   "name": "python2"
  },
  "language_info": {
   "codemirror_mode": {
    "name": "ipython",
    "version": 2
   },
   "file_extension": ".py",
   "mimetype": "text/x-python",
   "name": "python",
   "nbconvert_exporter": "python",
   "pygments_lexer": "ipython2",
   "version": "2.7.6"
  }
 },
 "nbformat": 4,
 "nbformat_minor": 0
}
