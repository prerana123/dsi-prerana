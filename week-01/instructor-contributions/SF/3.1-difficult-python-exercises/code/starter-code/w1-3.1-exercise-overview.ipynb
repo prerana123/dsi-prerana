{
 "cells": [
  {
   "cell_type": "markdown",
   "metadata": {
    "slideshow": {
     "slide_type": "slide"
    }
   },
   "source": [
    "# 3.1: python exercises practicing functions\n",
    "\n",
    "1. Dictionaries and type checking\n",
    "2. Dictionaries, keyword arguments, enumeration\n",
    "3. Enumeration\n",
    "4. Iteration and summary statistics\n",
    "5. [Hard] Pearson correlation coefficient\n",
    "6. [Hard] Spearman rank correlation coefficient\n",
    "7. Numpy and \"Root Mean Squared Error\"\n",
    "8. Functions calling functions\n",
    "9. [Expert] Recursion\n"
   ]
  }
 ],
 "metadata": {
  "celltoolbar": "Slideshow",
  "kernelspec": {
   "display_name": "Python 2",
   "language": "python",
   "name": "python2"
  },
  "language_info": {
   "codemirror_mode": {
    "name": "ipython",
    "version": 2
   },
   "file_extension": ".py",
   "mimetype": "text/x-python",
   "name": "python",
   "nbconvert_exporter": "python",
   "pygments_lexer": "ipython2",
   "version": "2.7.11"
  }
 },
 "nbformat": 4,
 "nbformat_minor": 0
}
