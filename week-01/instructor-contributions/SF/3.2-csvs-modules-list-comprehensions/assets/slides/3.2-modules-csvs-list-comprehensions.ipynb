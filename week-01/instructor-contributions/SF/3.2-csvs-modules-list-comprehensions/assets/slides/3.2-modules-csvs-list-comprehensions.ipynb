{
 "cells": [
  {
   "cell_type": "markdown",
   "metadata": {
    "slideshow": {
     "slide_type": "slide"
    }
   },
   "source": [
    "# 3.2: Modules, \".csv\" files, and List Comprehensions\n",
    "\n",
    "- Learn about python modules, how to load and use them\n",
    "- Learn about comma separated value files and load them with python\n",
    "- Practice list comprehensions, a powerful python syntax"
   ]
  },
  {
   "cell_type": "markdown",
   "metadata": {
    "slideshow": {
     "slide_type": "slide"
    }
   },
   "source": [
    "## Intro to python modules\n",
    "\n",
    "You have likely already encountered some python modules loaded and used already. Modules essentially contain extensions to pure python, giving you powerful functions and classes (objects).\n",
    "\n",
    "We can import a module by typing **```import```** and then the module name."
   ]
  },
  {
   "cell_type": "code",
   "execution_count": 1,
   "metadata": {
    "collapsed": true,
    "slideshow": {
     "slide_type": "-"
    }
   },
   "outputs": [],
   "source": [
    "import numpy"
   ]
  },
  {
   "cell_type": "markdown",
   "metadata": {
    "slideshow": {
     "slide_type": "fragment"
    }
   },
   "source": [
    "Now we have access to numpy's functions and classes. For example we can it's **```.mean()```** function to calculate the mean instead of writing it ourselves."
   ]
  },
  {
   "cell_type": "code",
   "execution_count": 2,
   "metadata": {
    "collapsed": false,
    "slideshow": {
     "slide_type": "-"
    }
   },
   "outputs": [
    {
     "data": {
      "text/plain": [
       "3.0"
      ]
     },
     "execution_count": 2,
     "metadata": {},
     "output_type": "execute_result"
    }
   ],
   "source": [
    "numpy.mean([1,2,3,4,5])"
   ]
  },
  {
   "cell_type": "markdown",
   "metadata": {
    "slideshow": {
     "slide_type": "slide"
    }
   },
   "source": [
    "Modules can also be nicknamed, to make them easier to use with the ```as``` syntax."
   ]
  },
  {
   "cell_type": "code",
   "execution_count": 3,
   "metadata": {
    "collapsed": true,
    "slideshow": {
     "slide_type": "-"
    }
   },
   "outputs": [],
   "source": [
    "import numpy as np"
   ]
  },
  {
   "cell_type": "markdown",
   "metadata": {
    "slideshow": {
     "slide_type": "fragment"
    }
   },
   "source": [
    "And now we can shorten our previous code to get the mean."
   ]
  },
  {
   "cell_type": "code",
   "execution_count": 4,
   "metadata": {
    "collapsed": false,
    "slideshow": {
     "slide_type": "-"
    }
   },
   "outputs": [
    {
     "data": {
      "text/plain": [
       "3.0"
      ]
     },
     "execution_count": 4,
     "metadata": {},
     "output_type": "execute_result"
    }
   ],
   "source": [
    "np.mean([1,2,3,4,5])"
   ]
  },
  {
   "cell_type": "markdown",
   "metadata": {
    "slideshow": {
     "slide_type": "slide"
    }
   },
   "source": [
    "If we just want to pull out specific functions from a module, we can use the ```from``` syntax."
   ]
  },
  {
   "cell_type": "code",
   "execution_count": 5,
   "metadata": {
    "collapsed": true,
    "slideshow": {
     "slide_type": "-"
    }
   },
   "outputs": [],
   "source": [
    "from numpy import mean, median"
   ]
  },
  {
   "cell_type": "markdown",
   "metadata": {
    "slideshow": {
     "slide_type": "fragment"
    }
   },
   "source": [
    "And we can now use these functions without having to prepend ```numpy``` or ```np```."
   ]
  },
  {
   "cell_type": "code",
   "execution_count": 6,
   "metadata": {
    "collapsed": false,
    "slideshow": {
     "slide_type": "-"
    }
   },
   "outputs": [
    {
     "name": "stdout",
     "output_type": "stream",
     "text": [
      "6.85714285714\n",
      "3.0\n"
     ]
    }
   ],
   "source": [
    "print(mean([4,5,6,7,8,9,9]))\n",
    "print(median([2,5,3,7,2,3,4]))"
   ]
  },
  {
   "cell_type": "markdown",
   "metadata": {
    "slideshow": {
     "slide_type": "slide"
    }
   },
   "source": [
    "## Comma separated value files (.csv) and python\n",
    "\n",
    "Say we have a file named ```mini_data.csv```. This extension indicates that this is a **comma separated value**. These files typically contain data in rows and columns like a spreadsheet. \n",
    "\n",
    "As the name implies, the columns are separated by commas and rows are separated by newlines."
   ]
  },
  {
   "cell_type": "markdown",
   "metadata": {
    "collapsed": true,
    "slideshow": {
     "slide_type": "fragment"
    }
   },
   "source": [
    "Opened in a text editor, **```mini_data.csv```** looks like this:\n",
    "\n",
    "    column1,column2,column3\n",
    "    bird,1,2.3\n",
    "    cat,3,4.6\n",
    "    dog,120,0.001"
   ]
  },
  {
   "cell_type": "markdown",
   "metadata": {
    "slideshow": {
     "slide_type": "slide"
    }
   },
   "source": [
    "### Loading csvs\n",
    "\n",
    "To load the **```mini_data.csv```** file, we are going to introduce a few things:\n",
    "\n",
    " - the **```open()```** function\n",
    " - the **```csv```** module\n",
    " - the **```with```** syntax"
   ]
  },
  {
   "cell_type": "markdown",
   "metadata": {
    "slideshow": {
     "slide_type": "slide"
    }
   },
   "source": [
    "The block of code for loading the **```mini_data.csv```** is below. Try it out yourself! \n",
    "\n",
    "I will go over each section of the code and what it does."
   ]
  },
  {
   "cell_type": "code",
   "execution_count": 4,
   "metadata": {
    "collapsed": false,
    "slideshow": {
     "slide_type": "-"
    }
   },
   "outputs": [],
   "source": [
    "import csv\n",
    "\n",
    "mini_data_path = '../datasets/mini_data.csv'\n",
    "csv_rows = []\n",
    "\n",
    "with open(mini_data_path, 'r') as f:\n",
    "    reader = csv.reader(f)\n",
    "    for row in reader:\n",
    "        csv_rows.append(row)"
   ]
  },
  {
   "cell_type": "markdown",
   "metadata": {
    "slideshow": {
     "slide_type": "fragment"
    }
   },
   "source": [
    "- The **```csv```** module, as you might expect, has convenience functions such as **```reader()```** that help parse csv files."
   ]
  },
  {
   "cell_type": "markdown",
   "metadata": {
    "slideshow": {
     "slide_type": "fragment"
    }
   },
   "source": [
    "- **```with open(path, 'r') as f:```** indicates that we will assign an open file buffer to **```f```**. After the code in the **```with```** statement is completed, the file buffer is automatically closed."
   ]
  },
  {
   "cell_type": "code",
   "execution_count": 6,
   "metadata": {
    "collapsed": false,
    "slideshow": {
     "slide_type": "slide"
    }
   },
   "outputs": [
    {
     "name": "stdout",
     "output_type": "stream",
     "text": [
      "['column1', 'column2', 'column3']\n",
      "['bird', '1', '2.3']\n",
      "['cat', '3', '4.6']\n",
      "['dog', '120', '0.001']\n"
     ]
    }
   ],
   "source": [
    "for row in csv_rows:\n",
    "    print(row)"
   ]
  },
  {
   "cell_type": "markdown",
   "metadata": {
    "slideshow": {
     "slide_type": "fragment"
    }
   },
   "source": [
    "Printing the rows stored in **```csv_rows```**, we can see that the **```csv.reader()```** function returns the rows in lists. The reader also reads each \"cell\" as a string."
   ]
  },
  {
   "cell_type": "markdown",
   "metadata": {
    "slideshow": {
     "slide_type": "fragment"
    }
   },
   "source": [
    "Since data is very often stored in csv files, it is useful to know how to load them into python!\n",
    "\n",
    "Later we will use the **```pandas```** package to do most of the heavy lifting for this."
   ]
  },
  {
   "cell_type": "markdown",
   "metadata": {
    "slideshow": {
     "slide_type": "slide"
    }
   },
   "source": [
    "## List Comprehensions\n",
    "\n",
    "##### What are list comprehensions?\n",
    "\n",
    "List comprehensions are statements that perform some kind of operation on each element of a list. Let's start with a simple array of numbers."
   ]
  },
  {
   "cell_type": "code",
   "execution_count": 8,
   "metadata": {
    "collapsed": true,
    "slideshow": {
     "slide_type": "-"
    }
   },
   "outputs": [],
   "source": [
    "numbers = [0,1,2,3,4,5,6,7,8,9]"
   ]
  },
  {
   "cell_type": "markdown",
   "metadata": {
    "slideshow": {
     "slide_type": "slide"
    }
   },
   "source": [
    "Imagine that we want to add 1 to every element of the list. We could do this a couple of ways without the use of list comprehensions."
   ]
  },
  {
   "cell_type": "code",
   "execution_count": 10,
   "metadata": {
    "collapsed": false,
    "slideshow": {
     "slide_type": "-"
    }
   },
   "outputs": [
    {
     "name": "stdout",
     "output_type": "stream",
     "text": [
      "[1, 2, 3, 4, 5, 6, 7, 8, 9, 10]\n"
     ]
    }
   ],
   "source": [
    "nums_plus_one = []\n",
    "\n",
    "for num in numbers:\n",
    "    nums_plus_one.append(num+1)"
   ]
  },
  {
   "cell_type": "code",
   "execution_count": 11,
   "metadata": {
    "collapsed": false,
    "slideshow": {
     "slide_type": "fragment"
    }
   },
   "outputs": [
    {
     "name": "stdout",
     "output_type": "stream",
     "text": [
      "[1, 2, 3, 4, 5, 6, 7, 8, 9, 10]\n"
     ]
    }
   ],
   "source": [
    "print(nums_plus_one)"
   ]
  },
  {
   "cell_type": "markdown",
   "metadata": {
    "slideshow": {
     "slide_type": "fragment"
    }
   },
   "source": [
    "We could also use python's \"map\" with a lambda function. Map iterates over each element of a list and applies a function to it"
   ]
  },
  {
   "cell_type": "code",
   "execution_count": null,
   "metadata": {
    "collapsed": true,
    "slideshow": {
     "slide_type": "-"
    }
   },
   "outputs": [],
   "source": [
    "nums_plus_one = map(lambda x: x+1, numbers)"
   ]
  },
  {
   "cell_type": "code",
   "execution_count": null,
   "metadata": {
    "collapsed": true,
    "slideshow": {
     "slide_type": "slide"
    }
   },
   "outputs": [],
   "source": [
    "# For loop:\n",
    "for num in numbers:\n",
    "    nums_plus_one.append(num+1)\n",
    "    \n",
    "# Map & lambda\n",
    "nums_plus_one = map(lambda x: x+1, numbers)"
   ]
  },
  {
   "cell_type": "markdown",
   "metadata": {
    "slideshow": {
     "slide_type": "-"
    }
   },
   "source": [
    "These solutions each have pros and cons. The for loop is more readable and explicit (if you aren't familiar with how map and lambda works, at least), and the map with lambda is concise but arcane. "
   ]
  },
  {
   "cell_type": "markdown",
   "metadata": {
    "slideshow": {
     "slide_type": "fragment"
    }
   },
   "source": [
    "Luckily list comprehensions combine the best of both worlds."
   ]
  },
  {
   "cell_type": "code",
   "execution_count": null,
   "metadata": {
    "collapsed": true,
    "slideshow": {
     "slide_type": "-"
    }
   },
   "outputs": [],
   "source": [
    "nums_plus_one = [x+1 for x in numbers]"
   ]
  },
  {
   "cell_type": "code",
   "execution_count": 12,
   "metadata": {
    "collapsed": true,
    "slideshow": {
     "slide_type": "slide"
    }
   },
   "outputs": [],
   "source": [
    "nums_plus_one = [x+1 for x in numbers]"
   ]
  },
  {
   "cell_type": "markdown",
   "metadata": {
    "slideshow": {
     "slide_type": "-"
    }
   },
   "source": [
    "Let's go over how that works in more granular detail.\n",
    "\n",
    "- Like the map statement, nums_plus_one is assigned on the left as a new variable.\n",
    "- List comprehensions return a list, and the internal statement is wrapped in the list brackets: ```[...]```\n",
    "- Within the brackets these elements are similar to a for loop:\n",
    "  1. The **operation per element** comes first: ```x+1```\n",
    "  2. Next is the **for loop variable assignment**: ```for x```\n",
    "  3. Last comes the **list of elements to iterate over**: ```in numbers```"
   ]
  },
  {
   "cell_type": "code",
   "execution_count": 13,
   "metadata": {
    "collapsed": false,
    "slideshow": {
     "slide_type": "fragment"
    }
   },
   "outputs": [
    {
     "name": "stdout",
     "output_type": "stream",
     "text": [
      "[1, 2, 3, 4, 5, 6, 7, 8, 9, 10]\n"
     ]
    }
   ],
   "source": [
    "print(nums_plus_one)"
   ]
  },
  {
   "cell_type": "markdown",
   "metadata": {
    "slideshow": {
     "slide_type": "slide"
    }
   },
   "source": [
    "#### Conditional logic in list comprehensions\n",
    "\n",
    "List comprehensions can be extended to cover more of the functionality of a for loop than just an operation over elements. \n",
    "\n",
    "Let's say we wanted to \"binarize\" a variable based on whether the elements are greater or less than the mean over all elements. The for loop could look something like this."
   ]
  },
  {
   "cell_type": "code",
   "execution_count": 14,
   "metadata": {
    "collapsed": true,
    "slideshow": {
     "slide_type": "fragment"
    }
   },
   "outputs": [],
   "source": [
    "import numpy as np\n",
    "n = [1, 2, 7, 21, 3, 1, 62, 3, 34, 12, 73, 44, 12, 11, 9]\n",
    "n_bin = []\n",
    "n_mean = np.mean(n)\n",
    "for x in n:\n",
    "    if x >= n_mean:\n",
    "        n_bin.append(1)\n",
    "    else:\n",
    "        n_bin.append(0)"
   ]
  },
  {
   "cell_type": "code",
   "execution_count": 15,
   "metadata": {
    "collapsed": false,
    "slideshow": {
     "slide_type": "fragment"
    }
   },
   "outputs": [
    {
     "name": "stdout",
     "output_type": "stream",
     "text": [
      "[0, 0, 0, 1, 0, 0, 1, 0, 1, 0, 1, 1, 0, 0, 0]\n"
     ]
    }
   ],
   "source": [
    "print(n_bin)"
   ]
  },
  {
   "cell_type": "code",
   "execution_count": 16,
   "metadata": {
    "collapsed": true,
    "slideshow": {
     "slide_type": "slide"
    }
   },
   "outputs": [],
   "source": [
    "n = [1, 2, 7, 21, 3, 1, 62, 3, 34, 12, 73, 44, 12, 11, 9]\n",
    "n_mean = np.mean(n)\n",
    "\n",
    "n_bin = []\n",
    "for x in n:\n",
    "    if x >= n_mean:\n",
    "        n_bin.append(1)\n",
    "    else:\n",
    "        n_bin.append(0)"
   ]
  },
  {
   "cell_type": "markdown",
   "metadata": {
    "slideshow": {
     "slide_type": "-"
    }
   },
   "source": [
    "A list comprehension can do the same thing much more concisely, without losing clarity."
   ]
  },
  {
   "cell_type": "code",
   "execution_count": 17,
   "metadata": {
    "collapsed": true,
    "slideshow": {
     "slide_type": "fragment"
    }
   },
   "outputs": [],
   "source": [
    "## 2-A)\n",
    "n_bin = [1 if x >= n_mean else 0 for x in n]"
   ]
  },
  {
   "cell_type": "code",
   "execution_count": 18,
   "metadata": {
    "collapsed": false,
    "slideshow": {
     "slide_type": "fragment"
    }
   },
   "outputs": [
    {
     "name": "stdout",
     "output_type": "stream",
     "text": [
      "[0, 0, 0, 1, 0, 0, 1, 0, 1, 0, 1, 1, 0, 0, 0]\n"
     ]
    }
   ],
   "source": [
    "print(n_bin)"
   ]
  },
  {
   "cell_type": "markdown",
   "metadata": {
    "slideshow": {
     "slide_type": "slide"
    }
   },
   "source": [
    "We can even do chained conditionals! \n",
    "\n",
    "This list comprehension:\n",
    "\n",
    "- swaps 1s to 0s \n",
    "- swaps 0s to 1s\n",
    "- otherwise sets the items to none:"
   ]
  },
  {
   "cell_type": "code",
   "execution_count": 19,
   "metadata": {
    "collapsed": true,
    "slideshow": {
     "slide_type": "-"
    }
   },
   "outputs": [],
   "source": [
    "## 2-B)\n",
    "n = [0, 1, 0, 1, 2, 3, 5, 2, 1, 0]\n",
    "\n",
    "bin_or_none = [0 if x == 1 else 1 if x == 0 else None for x in n]"
   ]
  },
  {
   "cell_type": "code",
   "execution_count": 20,
   "metadata": {
    "collapsed": false,
    "slideshow": {
     "slide_type": "fragment"
    }
   },
   "outputs": [
    {
     "name": "stdout",
     "output_type": "stream",
     "text": [
      "[1, 0, 1, 0, None, None, None, None, 0, 1]\n"
     ]
    }
   ],
   "source": [
    "print(bin_or_none)"
   ]
  },
  {
   "cell_type": "markdown",
   "metadata": {
    "slideshow": {
     "slide_type": "slide"
    }
   },
   "source": [
    "### Nested list comprehensions\n",
    "\n",
    "As some of you may have suspected by now, we can even embed list comprehensions within other list comprehensions for extra power.\n",
    "\n",
    "For example, let's say we want the square and the square root for every non-negative element in a list."
   ]
  },
  {
   "cell_type": "code",
   "execution_count": 21,
   "metadata": {
    "collapsed": true,
    "slideshow": {
     "slide_type": "-"
    }
   },
   "outputs": [],
   "source": [
    "## 3-A)\n",
    "import numpy as np\n",
    "n = [0, 1, 50, -23, -1, 75, -3]"
   ]
  },
  {
   "cell_type": "code",
   "execution_count": 22,
   "metadata": {
    "collapsed": true,
    "slideshow": {
     "slide_type": "fragment"
    }
   },
   "outputs": [],
   "source": [
    "math_pairs = [[x**2, np.sqrt(x)] for x in [y for y in n if y >= 0]]"
   ]
  },
  {
   "cell_type": "code",
   "execution_count": 23,
   "metadata": {
    "collapsed": false,
    "slideshow": {
     "slide_type": "fragment"
    }
   },
   "outputs": [
    {
     "name": "stdout",
     "output_type": "stream",
     "text": [
      "[[0, 0.0], [1, 1.0], [2500, 7.0710678118654755], [5625, 8.6602540378443873]]\n"
     ]
    }
   ],
   "source": [
    "print(math_pairs)"
   ]
  },
  {
   "cell_type": "markdown",
   "metadata": {
    "slideshow": {
     "slide_type": "-"
    }
   },
   "source": [
    "Note that the ```if``` statement in the embedded list comes _after_ the ```in``` statement in this example. When your condition is meant to be a filter the conditional comes after."
   ]
  },
  {
   "cell_type": "markdown",
   "metadata": {
    "slideshow": {
     "slide_type": "slide"
    }
   },
   "source": [
    "### List comprehensions with functions\n",
    "\n",
    "We can also do operations on multiple lists. I often use the **```zip()```** and **```enumerate()```** functions in combination with list comprehensions.\n",
    "\n",
    "- **zip** goes through each element of two lists iteratively at the same time\n",
    "- **enumerate** keeps track of the index of each element of a list"
   ]
  },
  {
   "cell_type": "code",
   "execution_count": null,
   "metadata": {
    "collapsed": true,
    "slideshow": {
     "slide_type": "fragment"
    }
   },
   "outputs": [],
   "source": [
    "a = ['a','b','c','d']\n",
    "z = ['z','y','x','w']\n",
    "\n",
    "zipped = []\n",
    "for a_i, z_i in zip(a, z):\n",
    "    zipped.append([a_i, z_i])\n",
    "\n",
    "[['a', 'z'], ['b', 'y'], ['c', 'x'], ['d', 'w']]]"
   ]
  },
  {
   "cell_type": "code",
   "execution_count": null,
   "metadata": {
    "collapsed": true,
    "slideshow": {
     "slide_type": "fragment"
    }
   },
   "outputs": [],
   "source": [
    "enumerated = []\n",
    "for i, a_i in enumerate(a):\n",
    "    enumerated.append([i, a_i])\n",
    "\n",
    "[[0, 'a'], [1, 'b'], [2, 'c'], [3, 'd']]"
   ]
  },
  {
   "cell_type": "markdown",
   "metadata": {
    "slideshow": {
     "slide_type": "slide"
    }
   },
   "source": [
    "Using a list comprehension and two lists, lets:\n",
    "\n",
    "1. iterate through both lists element-by-elemnt\n",
    "2. multiply the element of the first list by the current index\n",
    "3. then divide that by the element of the second list\n",
    "\n",
    "Remember: with enumerate the index is returned first and the element second."
   ]
  },
  {
   "cell_type": "code",
   "execution_count": 24,
   "metadata": {
    "collapsed": true
   },
   "outputs": [],
   "source": [
    "## 4-C)\n",
    "list_one = [10, 15, 20, 25, 40]\n",
    "list_two = [1, 2, 3, 4, 5]"
   ]
  },
  {
   "cell_type": "code",
   "execution_count": 26,
   "metadata": {
    "collapsed": false,
    "slideshow": {
     "slide_type": "fragment"
    }
   },
   "outputs": [
    {
     "name": "stdout",
     "output_type": "stream",
     "text": [
      "[0, 7, 13, 18, 32]\n"
     ]
    }
   ],
   "source": [
    "math_comp = [(x*i)/y for i, (x, y) in enumerate(zip(list_one, list_two))]\n",
    "\n",
    "print(math_comp)"
   ]
  },
  {
   "cell_type": "markdown",
   "metadata": {
    "slideshow": {
     "slide_type": "slide"
    }
   },
   "source": [
    "## Dictionary comprehensions\n",
    "\n",
    "Comprehensions are not limited to lists. You can also use comprehensions to create dictionaries with key:value pairs.\n",
    "\n",
    "Below, for example, we can create a dictionary with the integer value of each character in a string with the string as a key."
   ]
  },
  {
   "cell_type": "code",
   "execution_count": 27,
   "metadata": {
    "collapsed": true,
    "slideshow": {
     "slide_type": "-"
    }
   },
   "outputs": [],
   "source": [
    "## 6-A)\n",
    "keys = ['dog', 'cat', 'bird', 'horse']\n",
    "\n",
    "# The ord() function returns the integer value of a string character:\n",
    "animal_dict = {k:[ord(c) for c in k] for k in keys}"
   ]
  },
  {
   "cell_type": "code",
   "execution_count": 28,
   "metadata": {
    "collapsed": false,
    "slideshow": {
     "slide_type": "fragment"
    }
   },
   "outputs": [
    {
     "name": "stdout",
     "output_type": "stream",
     "text": [
      "{'bird': [98, 105, 114, 100], 'horse': [104, 111, 114, 115, 101], 'dog': [100, 111, 103], 'cat': [99, 97, 116]}\n"
     ]
    }
   ],
   "source": [
    "print(animal_dict)"
   ]
  }
 ],
 "metadata": {
  "celltoolbar": "Slideshow",
  "kernelspec": {
   "display_name": "Python 2",
   "language": "python",
   "name": "python2"
  },
  "language_info": {
   "codemirror_mode": {
    "name": "ipython",
    "version": 2
   },
   "file_extension": ".py",
   "mimetype": "text/x-python",
   "name": "python",
   "nbconvert_exporter": "python",
   "pygments_lexer": "ipython2",
   "version": "2.7.11"
  }
 },
 "nbformat": 4,
 "nbformat_minor": 0
}
