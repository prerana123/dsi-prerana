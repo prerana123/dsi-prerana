{
 "cells": [
  {
   "cell_type": "code",
   "execution_count": 2,
   "metadata": {
    "collapsed": true
   },
   "outputs": [],
   "source": [
    "# create a function, where given an input of a list, the function will return the sample standard deviation"
   ]
  },
  {
   "cell_type": "code",
   "execution_count": 3,
   "metadata": {
    "collapsed": true
   },
   "outputs": [],
   "source": [
    "import math # use the math package for absolute value, exp, sqrt, or other special math operations\n",
    "import numpy as np # use nump for random number generation"
   ]
  },
  {
   "cell_type": "code",
   "execution_count": 4,
   "metadata": {
    "collapsed": true
   },
   "outputs": [],
   "source": [
    "# create a function called getMean(bucket), the parameter it will take will be called bucket\n",
    "# and it will be a list of integers (assume user knows how parameters must be of type List[Int])"
   ]
  },
  {
   "cell_type": "code",
   "execution_count": 5,
   "metadata": {
    "collapsed": true
   },
   "outputs": [],
   "source": [
    "# below is a function that return the sample standard deviation of a list, given the list of nums\n",
    "# called bucket, and the mean of that numbers in that bucket\n",
    "\n",
    "def getStandardDevWithForLoop(bucket,mean): \n",
    "    dfSum = 0\n",
    "    for num in bucket:\n",
    "        dfSum += (num - mean)**2\n",
    "    sampleVar = float(dfSum)/(len(bucket) - 1)\n",
    "    return math.sqrt(sampleVar) # avoid integer division by casting dfSum as a float"
   ]
  },
  {
   "cell_type": "code",
   "execution_count": 1,
   "metadata": {
    "collapsed": true
   },
   "outputs": [],
   "source": [
    "# recreate getStandardDevWithForLoop, but use map instead of a for loop\n",
    "\n",
    "def getStandardDeviationWithMap(bucket,mean): \n",
    "    #df = \n",
    "    #dfSum = \n",
    "    sampleVar = float(dfSum)/(len(bucket) - 1)\n",
    "    return math.sqrt(sampleVar)"
   ]
  },
  {
   "cell_type": "code",
   "execution_count": 16,
   "metadata": {
    "collapsed": true
   },
   "outputs": [],
   "source": [
    "#finish the assignment values in getSummaryStatistics, note  the order of operations.\n",
    "# 1. Get Mean of Bucket (use predfined functions above!)\n",
    "# 2. Get Standard Deviation (using either getStandardDeviationWithMap or getStandardDeviationWithForLoop)\n",
    "# note both functions require parameters! \n",
    "# 3. get the max number in the bucket\n",
    "# 4. get the min number in the bucket\n",
    "# 5. Get the Range\n",
    "# 6. Input values in dictionary\n",
    "\n",
    "def getSummaryStatistics(bucket):\n",
    "    \n",
    "    #mean = \n",
    "    #stdev = \n",
    "    \n",
    "    #maxNum = \n",
    "    #minNum = \n",
    "    \n",
    "    #rangeList = \n",
    "    \n",
    "    statsDictionary = { \"mean\" : # input assignment , \n",
    "                        \"stdev\": # input assignment, \n",
    "                        \"maxNum\": # input assignment, \n",
    "                        \"minNum\": # input assignment, \n",
    "                        \"range\" :  # input assignment\n",
    "                      }\n",
    "    return statsDictionary"
   ]
  },
  {
   "cell_type": "code",
   "execution_count": 17,
   "metadata": {
    "collapsed": false
   },
   "outputs": [
    {
     "name": "stdout",
     "output_type": "stream",
     "text": [
      "{'minNum': 0, 'stdev': 9.166666666666666, 'maxNum': 9, 'range': 9, 'mean': 4.5}\n"
     ]
    }
   ],
   "source": [
    "list1 = range(0,10,1)\n",
    "summaryStatistics = getSummaryStatistics(list1)\n",
    "print summaryStatistics\n",
    "# If this returns {'minNum': 0, 'stdev': 9.166666666666666, 'maxNum': 9, 'range': 9, 'mean': 4.5}\n",
    "# you are in good shape! "
   ]
  },
  {
   "cell_type": "code",
   "execution_count": 26,
   "metadata": {
    "collapsed": false
   },
   "outputs": [],
   "source": [
    "# The function below will create a list of lists, where each list number are randomly generated\n",
    "# minNumInList = minimum number to be generated in each list\n",
    "# maxNumInList = maximum number to be generated in each list\n",
    "# lenEachList = length of each list (all lists will have uniform length)\n",
    "# numOfLists = number of lists to generate\n",
    "# Note I am using np class (numpy) to to random random generation, see other methods for numpy\n",
    "\n",
    "def getRandomData(minNumInList,maxNumInList,lenEachList, numOfLists):\n",
    "    randomSets = []\n",
    "    for run in range(0, numOfLists - 1): # do something 5 times\n",
    "        randNums = np.random.randint(minNumInList,maxNumInList,lenEachList)\n",
    "        randomSets.append(randNums)\n",
    "    return randomSets"
   ]
  },
  {
   "cell_type": "code",
   "execution_count": 27,
   "metadata": {
    "collapsed": true
   },
   "outputs": [],
   "source": [
    "# get the batch mean using functional programming\n",
    "# get your random data by calling the getRandomData Function, input parameters to this function\n",
    "# use the map method on the list of lists, to get the average of each list, hint: you should have\n",
    "# getMean defined for you by this point to use in the map\n",
    "\n",
    "def getBatchMeanByForLoop():\n",
    "    # randomData = \n",
    "    # randomDataAvgs \n",
    "    # batchMean = \n",
    "    return batchMean"
   ]
  },
  {
   "cell_type": "code",
   "execution_count": null,
   "metadata": {
    "collapsed": true
   },
   "outputs": [],
   "source": [
    "# get the batch mean using looping\n",
    "# get your random data by calling the getRandomData Function, input parameters to this function\n",
    "# get your random data by calling the getRandomData Function, input parameters to this function\n",
    "# use a for loop on the list of lists, to get the average of each list, hint: you should have\n",
    "# getMean defined for you by this point to use in the forloop\n",
    "\n",
    "def getBatchMeanByMap():\n",
    "    # randomData = \n",
    "    # randomDataAvgs = []\n",
    "    # batchMean = getMean(randomDataAvgs)\n",
    "    return batchMean\n"
   ]
  }
 ],
 "metadata": {
  "kernelspec": {
   "display_name": "Python 2",
   "language": "python",
   "name": "python2"
  },
  "language_info": {
   "codemirror_mode": {
    "name": "ipython",
    "version": 2
   },
   "file_extension": ".py",
   "mimetype": "text/x-python",
   "name": "python",
   "nbconvert_exporter": "python",
   "pygments_lexer": "ipython2",
   "version": "2.7.11"
  }
 },
 "nbformat": 4,
 "nbformat_minor": 0
}
