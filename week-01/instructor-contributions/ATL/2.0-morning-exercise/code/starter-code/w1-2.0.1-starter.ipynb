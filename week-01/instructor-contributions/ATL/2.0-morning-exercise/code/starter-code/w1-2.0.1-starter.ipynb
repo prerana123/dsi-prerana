{
 "cells": [
  {
   "cell_type": "markdown",
   "metadata": {},
   "source": [
    "# Listercise\n",
    "In this exercise, we will try to transform the lists `[0, 1, 1, 'wtf', 2, 4]` and `[6, 5, 8, 7, 9]` into `[9, 8, 7, 6, 5, 4, 3, 2, 1, 0]`."
   ]
  },
  {
   "cell_type": "code",
   "execution_count": 1,
   "metadata": {
    "collapsed": true
   },
   "outputs": [],
   "source": [
    "# Here are the two lists:\n",
    "base1 = [0, 1, 1, 'wtf', 2, 4]\n",
    "base2 = [6, 5, 8, 7, 9]"
   ]
  },
  {
   "cell_type": "markdown",
   "metadata": {},
   "source": [
    "# Tools\n",
    "Remember that we have the following tools at our disposal:\n",
    "* use `.append(item)` to add item to a list\n",
    "* use `.extend([item1, item2])` to join another list to the end of the list\n",
    "* use `.insert(index, item)` to add an item to a list at an index\n",
    "* use `.remove(item)` to remove an item from a list\n",
    "* use `.sort()` to sort a list\n",
    "* use `.count(item)` to count the number of times an item appears in a list\n",
    "* use `.index(item)` to find the index of an element in a list\n",
    "* use `.pop()` to extract (and remove) the last element of a list\n",
    "* use `.reverse()` to reverse a list"
   ]
  },
  {
   "cell_type": "code",
   "execution_count": 2,
   "metadata": {
    "collapsed": false
   },
   "outputs": [],
   "source": [
    "# Here's the list we desire:\n",
    "desired = [9, 8, 7, 6, 5, 4, 3, 2, 1, 0]\n",
    "# Here's an empty list that we will perform operations upon until we get our desired list:\n",
    "toModify = []"
   ]
  },
  {
   "cell_type": "markdown",
   "metadata": {},
   "source": [
    "# GO!\n",
    "Write your code in the cell below.  Feel free to add additional cells if it helps you."
   ]
  },
  {
   "cell_type": "code",
   "execution_count": null,
   "metadata": {
    "collapsed": false
   },
   "outputs": [],
   "source": []
  },
  {
   "cell_type": "markdown",
   "metadata": {},
   "source": [
    "# Congratulations!\n",
    "When the code below runs, you get congratulated!"
   ]
  },
  {
   "cell_type": "code",
   "execution_count": null,
   "metadata": {
    "collapsed": false
   },
   "outputs": [],
   "source": [
    "if toModify == desired:\n",
    "    print(\"Congratulations! You did it!\")\n",
    "else:\n",
    "    print(\"Congratulations! You suck!\")"
   ]
  }
 ],
 "metadata": {
  "kernelspec": {
   "display_name": "Python 2",
   "language": "python",
   "name": "python2"
  },
  "language_info": {
   "codemirror_mode": {
    "name": "ipython",
    "version": 2
   },
   "file_extension": ".py",
   "mimetype": "text/x-python",
   "name": "python",
   "nbconvert_exporter": "python",
   "pygments_lexer": "ipython2",
   "version": "2.7.11"
  }
 },
 "nbformat": 4,
 "nbformat_minor": 0
}
