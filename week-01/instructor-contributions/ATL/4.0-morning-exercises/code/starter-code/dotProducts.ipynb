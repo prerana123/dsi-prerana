{
 "cells": [
  {
   "cell_type": "markdown",
   "metadata": {},
   "source": [
    "# Dot products and directions\n",
    "We talked about dot products yesterday.  A dot product between two vectors **p1** and **p2** in 3D space is (x1\\*x2 + y1\\*y2 + z1\\*z2).  We talked about how when a normalized dot product is close to +1, it means that the vectors are very similar, and when a normalized dot product is close to -1, it means that the vectors are very different.  Let's see how we can take advantage of this meaning of dot products to score how similar or different two words are."
   ]
  },
  {
   "cell_type": "markdown",
   "metadata": {},
   "source": [
    "# First, let's write a custom function to get the dot product between two vectors\n",
    "Although numpy provides a very convenient function to compute the dot product, it will be good for practice and for reinforcing your understanding of the dot product to write our own.\n",
    "\n",
    "## Call your function `myDot`"
   ]
  },
  {
   "cell_type": "code",
   "execution_count": 7,
   "metadata": {
    "collapsed": true
   },
   "outputs": [],
   "source": []
  },
  {
   "cell_type": "markdown",
   "metadata": {},
   "source": [
    "## Test your function `myDot`"
   ]
  },
  {
   "cell_type": "code",
   "execution_count": null,
   "metadata": {
    "collapsed": false
   },
   "outputs": [],
   "source": [
    "# Although we won't use numpy's dot for this exercise,\n",
    "# we will use some of its other functions and objects.\n",
    "import numpy as np\n",
    "\n",
    "# We'll make coordinates that correspond to compass directions,\n",
    "# starting east and going counterclockwise.\n",
    "E = np.array([1,0])\n",
    "NE = np.array([1,1])\n",
    "N = np.array([0,1])\n",
    "NW = np.array([-1,1])\n",
    "W = np.array([-1,0])\n",
    "SW = np.array([-1,-1])\n",
    "S = np.array([0,-1])\n",
    "SE = np.array([1,-1])\n",
    "# We'll put the directions in a list of lists.\n",
    "# You may find this convenient for testing purposes.\n",
    "compass = [\n",
    "['E', E],\n",
    "['NE', NE],\n",
    "['N', N],\n",
    "['NW', NW],\n",
    "['W', W],\n",
    "['SW', SW],\n",
    "['S', S],\n",
    "['SE', SE]\n",
    "]\n",
    "    \n",
    "# Now, test out various pairs of vectors into the myDot function,\n",
    "# and see if the values are what you would expect.\n",
    "# Remember, the more similar vectors should give greater values,\n",
    "# And the the more dissimilar vectors should give smaller values.\n",
    "\n",
    "# I would suggest writing a function called eastVersusRest\n",
    "# that utilizes a for loop to compute and printout the dot product\n",
    "# of each direction in compass with east (E).\n",
    "\n",
    "# Compare east with all other directions"
   ]
  },
  {
   "cell_type": "markdown",
   "metadata": {},
   "source": [
    "# Normalizing vectors\n",
    "## Do you notice anything unusual in the above results?\n",
    "`myDot(E,E)` returns 1.0, as does `myDot(E,NE)`.  Now, we discussed how more similar vectors give greater dot products, and what vector could be more similar to itself *than itself?!*  So why do we get the same value, 1.0, for the dot product between E and itself and the dot product between E and NE?  It's because we haven't *normalized* the vectors.\n",
    "## How to normalize a vector?\n",
    "To normalize a vector is to maintain its direction, but make its magnitude (or length) equal to 1.0.  How do we accomplish this?  Simply divide the vector by its magnitude.\n",
    "### But how do we calculate a vector's magnitude?\n",
    "The magnitude of a vector is the square root of the dot product of the vector with itself. When you have a right triangle, Pythagorean's theorem tells us that *a^2 = b^2 + c^2*, where *a* is the hypotenuse, and *b* and *c* are the \"legs\" of the right triangle.  So *a = sqrt(b^2 + c^2)*.  Now inside the square root, you have the formula for the dot product! (*b^2 + c^2 = b\\*b + c\\*c*, and these two legs are simply the two coordinates in the two dimensional space.)\n",
    "#### \"So quit your yapping, and let's calculate it!\"\n",
    "Okay, call your function `myMagnitude`, and let it take one argument, a vector of any length, and return the magnitude, which is just the square root of the dot product of the vector with itself (use `myDot`)."
   ]
  },
  {
   "cell_type": "code",
   "execution_count": 34,
   "metadata": {
    "collapsed": false
   },
   "outputs": [],
   "source": []
  },
  {
   "cell_type": "markdown",
   "metadata": {},
   "source": [
    "# Now that we have all of the ingredients, let's write `myNormalize`\n",
    "Remember that to normalize a vector, simply elementwise divide it by its magnitude.\n",
    "### NOTE: Up till now, our functions would support native Python one-dimensional `list`s and `numpy array`s, but elementwise division is not supported for Python `list`s, so let's make sure to use `numpy array`s."
   ]
  },
  {
   "cell_type": "code",
   "execution_count": null,
   "metadata": {
    "collapsed": false
   },
   "outputs": [],
   "source": []
  },
  {
   "cell_type": "markdown",
   "metadata": {},
   "source": [
    "# Now that you have the ability to normalize a vector, normalize each vector in the compass list, and see how the values of the dot products between the normalized directions compare to the original directions."
   ]
  },
  {
   "cell_type": "code",
   "execution_count": null,
   "metadata": {
    "collapsed": false
   },
   "outputs": [],
   "source": []
  },
  {
   "cell_type": "code",
   "execution_count": null,
   "metadata": {
    "collapsed": true
   },
   "outputs": [],
   "source": []
  }
 ],
 "metadata": {
  "kernelspec": {
   "display_name": "Python 2",
   "language": "python",
   "name": "python2"
  },
  "language_info": {
   "codemirror_mode": {
    "name": "ipython",
    "version": 2
   },
   "file_extension": ".py",
   "mimetype": "text/x-python",
   "name": "python",
   "nbconvert_exporter": "python",
   "pygments_lexer": "ipython2",
   "version": "2.7.11"
  }
 },
 "nbformat": 4,
 "nbformat_minor": 0
}
