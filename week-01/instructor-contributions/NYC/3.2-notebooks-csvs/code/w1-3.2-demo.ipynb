{
 "cells": [
  {
   "cell_type": "code",
   "execution_count": 12,
   "metadata": {
    "collapsed": false
   },
   "outputs": [
    {
     "name": "stdout",
     "output_type": "stream",
     "text": [
      "['Account', 'Name', 'Rep', 'Manager', 'Product', 'Quantity', 'Price', 'Status']\n",
      "['714466', 'Trantow-Barrows', 'Craig Booker', 'Debra Henley', 'CPU', '1', '30000', 'presented']\n",
      "['714466', 'Trantow-Barrows', 'Craig Booker', 'Debra Henley', 'Software', '1', '10000', 'presented']\n",
      "['714466', 'Trantow-Barrows', 'Craig Booker', 'Debra Henley', 'Maintenance', '2', '5000', 'pending']\n",
      "['737550', 'Fritsch, Russel and Anderson', 'Craig Booker', 'Debra Henley', 'CPU', '1', '35000', 'declined']\n",
      "['146832', 'Kiehn-Spinka', 'Daniel Hilton', 'Debra Henley', 'CPU', '2', '65000', 'won']\n",
      "['218895', 'Kulas Inc', 'Daniel Hilton', 'Debra Henley', 'CPU', '2', '40000', 'pending']\n",
      "['218895', 'Kulas Inc', 'Daniel Hilton', 'Debra Henley', 'Software', '1', '10000', 'presented']\n",
      "['412290', 'Jerde-Hilpert', 'John Smith', 'Debra Henley', 'Maintenance', '2', '5000', 'pending']\n",
      "['740150', 'Barton LLC', 'John Smith', 'Debra Henley', 'CPU', '1', '35000', 'declined']\n",
      "['141962', 'Herman LLC', 'Cedric Moss', 'Fred Anderson', 'CPU', '2', '65000', 'won']\n",
      "['163416', 'Purdy-Kunde', 'Cedric Moss', 'Fred Anderson', 'CPU', '1', '30000', 'presented']\n",
      "['239344', 'Stokes LLC', 'Cedric Moss', 'Fred Anderson', 'Maintenance', '1', '5000', 'pending']\n",
      "['239344', 'Stokes LLC', 'Cedric Moss', 'Fred Anderson', 'Software', '1', '10000', 'presented']\n",
      "['307599', 'Kassulke, Ondricka and Metz', 'Wendy Yule', 'Fred Anderson', 'Maintenance', '3', '7000', 'won']\n",
      "['688981', 'Keeling LLC', 'Wendy Yule', 'Fred Anderson', 'CPU', '5', '100000', 'won']\n",
      "['729833', 'Koepp Ltd', 'Wendy Yule', 'Fred Anderson', 'CPU', '2', '65000', 'declined']\n",
      "['729833', 'Koepp Ltd', 'Wendy Yule', 'Fred Anderson', 'Monitor', '2', '5000', 'presented']\n"
     ]
    }
   ],
   "source": [
    "import csv\n",
    "with open('sales.csv', 'rU') as f:\n",
    "    reader = csv.reader(f)\n",
    "    for row in reader:\n",
    "        print row"
   ]
  },
  {
   "cell_type": "code",
   "execution_count": 13,
   "metadata": {
    "collapsed": false
   },
   "outputs": [],
   "source": [
    "import csv\n",
    "b = open('writeTest.csv', 'w')\n",
    "a = csv.writer(b)\n",
    "data = [['Me', 'You'], \\\n",
    "        ['Hello', 'Goodbye'], \\\n",
    "        ['Monday', 'Friday']]\n",
    "a.writerows(data)\n",
    "b. close()"
   ]
  },
  {
   "cell_type": "code",
   "execution_count": 14,
   "metadata": {
    "collapsed": false
   },
   "outputs": [
    {
     "name": "stdout",
     "output_type": "stream",
     "text": [
      "['Me', 'You']\n",
      "['Hello', 'Goodbye']\n",
      "['Monday', 'Friday']\n"
     ]
    }
   ],
   "source": [
    "with open('writeTest.csv', 'rb') as f:\n",
    "    reader = csv.reader(f)\n",
    "    for row in reader:\n",
    "        print row"
   ]
  }
 ],
 "metadata": {
  "kernelspec": {
   "display_name": "Python 2",
   "language": "python",
   "name": "python2"
  },
  "language_info": {
   "codemirror_mode": {
    "name": "ipython",
    "version": 2
   },
   "file_extension": ".py",
   "mimetype": "text/x-python",
   "name": "python",
   "nbconvert_exporter": "python",
   "pygments_lexer": "ipython2",
   "version": "2.7.10"
  }
 },
 "nbformat": 4,
 "nbformat_minor": 0
}
