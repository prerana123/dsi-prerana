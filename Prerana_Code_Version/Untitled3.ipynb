{
 "cells": [
  {
   "cell_type": "code",
   "execution_count": null,
   "metadata": {
    "collapsed": true
   },
   "outputs": [],
   "source": [
    "import requests\n",
    "import bs4\n",
    "from bs4 import BeautifulSoup\n",
    "from __future__ import division\n",
    "import seaborn as sns\n",
    "import pandas as pd\n",
    "import numpy as np\n",
    "import matplotlib.pyplot as plt\n",
    "from sklearn.linear_model import LogisticRegression, LogisticRegressionCV\n",
    "from sklearn.cross_validation import cross_val_score, train_test_split\n",
    "from sklearn.preprocessing import scale"
   ]
  },
  {
   "cell_type": "code",
   "execution_count": 4,
   "metadata": {
    "collapsed": false,
    "scrolled": true
   },
   "outputs": [],
   "source": [
    "cityr = { \"ga\" : [\"AT\",\"AL\"], \"NY\" : [\"nj\",\"sm\"] } "
   ]
  },
  {
   "cell_type": "code",
   "execution_count": 5,
   "metadata": {
    "collapsed": false
   },
   "outputs": [
    {
     "data": {
      "text/plain": [
       "{1: ['GA', 'NC', 'SC'], 2: ['NY', 'NJ', 'CT']}"
      ]
     },
     "execution_count": 5,
     "metadata": {},
     "output_type": "execute_result"
    }
   ],
   "source": [
    "{ 1 : [\"GA\",\"NC\",\"SC\"], 2 : [\"NY\",\"NJ\",\"CT\"] } "
   ]
  },
  {
   "cell_type": "code",
   "execution_count": 6,
   "metadata": {
    "collapsed": false
   },
   "outputs": [],
   "source": [
    "\n",
    "# cityToRegion = { 1 : [\"GA\",\"NC\",\"SC\"], 2 : [\"NY\",\"PN\",\"CN\"] } \n",
    "\n",
    "# # note key is the region, and value for each key is total cities mapped to that region\n",
    "\n",
    "# # Now lets apply our transformation...\n",
    "\n",
    "# def mapCityToRegion(city):\n",
    "# \tregion, _ = filter( \n",
    "# \t\tlambda (region,cities): city in cities, cityToRegion.items() \n",
    "# \t)[0] \n",
    "\t\n",
    "# \t# filter will return [ (someRegion,citiesForRegion) ] only of length 1\n",
    "# \t# so you can grab the first element, which will be a tuple\n",
    "\t\n",
    "# \treturn region\n",
    "\n",
    "# df[\"region\"] = df.location.apply(mapCityToRegion)"
   ]
  },
  {
   "cell_type": "code",
   "execution_count": 7,
   "metadata": {
    "collapsed": false
   },
   "outputs": [
    {
     "name": "stdout",
     "output_type": "stream",
     "text": [
      "{'NY': ['nj', 'sm'], 'ga': ['AT', 'AL']}\n"
     ]
    }
   ],
   "source": [
    "print(cityr)"
   ]
  },
  {
   "cell_type": "code",
   "execution_count": 8,
   "metadata": {
    "collapsed": false
   },
   "outputs": [
    {
     "name": "stdout",
     "output_type": "stream",
     "text": [
      "([('NY', ['nj', 'sm'])], {1: ['GA', 'NC', 'SC'], 2: ['NY', 'NJ', 'CT']})\n"
     ]
    }
   ],
   "source": [
    "# def fun(ci):\n",
    "region = filter( lambda (region,cities): 'nj' in cities, cityr.items() )\n",
    "    \n",
    "#     return region\n",
    "print(region ,  _)\n"
   ]
  },
  {
   "cell_type": "code",
   "execution_count": 9,
   "metadata": {
    "collapsed": false
   },
   "outputs": [
    {
     "ename": "NameError",
     "evalue": "name 'fun' is not defined",
     "output_type": "error",
     "traceback": [
      "\u001b[0;31m---------------------------------------------------------------------------\u001b[0m",
      "\u001b[0;31mNameError\u001b[0m                                 Traceback (most recent call last)",
      "\u001b[0;32m<ipython-input-9-32c27d6ea3ec>\u001b[0m in \u001b[0;36m<module>\u001b[0;34m()\u001b[0m\n\u001b[0;32m----> 1\u001b[0;31m \u001b[0mfun\u001b[0m\u001b[0;34m(\u001b[0m\u001b[0;34m\"nj\"\u001b[0m\u001b[0;34m)\u001b[0m\u001b[0;34m\u001b[0m\u001b[0m\n\u001b[0m",
      "\u001b[0;31mNameError\u001b[0m: name 'fun' is not defined"
     ]
    }
   ],
   "source": [
    "fun(\"nj\")"
   ]
  },
  {
   "cell_type": "code",
   "execution_count": null,
   "metadata": {
    "collapsed": true
   },
   "outputs": [],
   "source": []
  },
  {
   "cell_type": "code",
   "execution_count": null,
   "metadata": {
    "collapsed": true
   },
   "outputs": [],
   "source": []
  }
 ],
 "metadata": {
  "anaconda-cloud": {},
  "kernelspec": {
   "display_name": "Python [conda root]",
   "language": "python",
   "name": "conda-root-py"
  },
  "language_info": {
   "codemirror_mode": {
    "name": "ipython",
    "version": 2
   },
   "file_extension": ".py",
   "mimetype": "text/x-python",
   "name": "python",
   "nbconvert_exporter": "python",
   "pygments_lexer": "ipython2",
   "version": "2.7.12"
  }
 },
 "nbformat": 4,
 "nbformat_minor": 1
}
