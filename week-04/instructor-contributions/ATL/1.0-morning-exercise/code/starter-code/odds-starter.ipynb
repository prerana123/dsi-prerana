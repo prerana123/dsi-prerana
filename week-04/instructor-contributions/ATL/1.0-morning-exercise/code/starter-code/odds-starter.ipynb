{
 "cells": [
  {
   "cell_type": "markdown",
   "metadata": {},
   "source": [
    "# What are the odds?\n",
    "This week, we're going to be learning about logistic regression.  In logistic regression, the concept of the odds is important, so we'll start off today working through an exercise of how to go from probabilities to odds, and back.\n",
    "\n",
    "Often, we speak in probabilities.  So, in Vegas, betters may have concluded that Argentina has a 0.8 chance of beating the USA in their Copa America meeting.  So, in the terms of probability, we say that P(success) = 0.8, and the P(failure) = 0.2 (well, it's a success if you're a Messi fan).  In the terms of odds, we say that the odds of Argentina beating the U.S.A. are $$P(1)/P(0) = 0.8/0.2 = 4 = 4/1$$ or \"4 to 1.\"  So, in Vegas, we would say that the odds are 4 to 1 that Argentina will beat the U.S.A.  The odds of the U.S.A. beating Argentina is simply the reciprocal, 1 to 4.  So if you bet \\$1 on the U.S.A., and they won, you would get \\$4 back!  While if you bet \\$1 on Argentina, and they won, you would only get \\$0.25 back.  So, clearly, the optimal betting strategy is always to bet on the underdog. (That was a joke.)\n",
    "\n",
    "# Simple program to convert probability to odds\n",
    "For practice, let's write a simple program to convert probability to odds.  So, if you call `convertToOdds(0.8, \"Argentina crushing the U.S.\")`, the function should print out \"The odds of Argentina crushing the U.S. are 4 to 1.\"  The trickiest part of this program will be making  your function print out the odds with whole numbers.  You may even have to take into account floating point imprecision."
   ]
  },
  {
   "cell_type": "code",
   "execution_count": null,
   "metadata": {
    "collapsed": true
   },
   "outputs": [],
   "source": []
  },
  {
   "cell_type": "markdown",
   "metadata": {},
   "source": []
  }
 ],
 "metadata": {
  "kernelspec": {
   "display_name": "Python 2",
   "language": "python",
   "name": "python2"
  },
  "language_info": {
   "codemirror_mode": {
    "name": "ipython",
    "version": 2
   },
   "file_extension": ".py",
   "mimetype": "text/x-python",
   "name": "python",
   "nbconvert_exporter": "python",
   "pygments_lexer": "ipython2",
   "version": "2.7.11"
  }
 },
 "nbformat": 4,
 "nbformat_minor": 0
}
