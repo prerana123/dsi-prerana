{
 "cells": [
  {
   "cell_type": "code",
   "execution_count": 811,
   "metadata": {
    "collapsed": false,
    "slideshow": {
     "slide_type": "skip"
    }
   },
   "outputs": [],
   "source": [
    "import numpy as np\n",
    "import pandas as pd\n",
    "import patsy\n",
    "\n",
    "from sklearn.metrics import classification_report, confusion_matrix, accuracy_score\n",
    "from sklearn.cross_validation import train_test_split, cross_val_score\n",
    "from sklearn.linear_model import LogisticRegression, LogisticRegressionCV\n",
    "from sklearn.grid_search import GridSearchCV\n",
    "\n",
    "from IPython.core.display import HTML, Image"
   ]
  },
  {
   "cell_type": "markdown",
   "metadata": {
    "slideshow": {
     "slide_type": "slide"
    }
   },
   "source": [
    "# Advanced Model Tuning"
   ]
  },
  {
   "cell_type": "code",
   "execution_count": 816,
   "metadata": {
    "collapsed": false,
    "hideCode": true,
    "hidePrompt": true,
    "slideshow": {
     "slide_type": "fragment"
    }
   },
   "outputs": [
    {
     "data": {
      "text/html": [
       "<img src=\"http://pix-media.s3.amazonaws.com/blog/1086/t-pain.jpg\" width=\"400\"/>"
      ],
      "text/plain": [
       "<IPython.core.display.Image object>"
      ]
     },
     "execution_count": 816,
     "metadata": {},
     "output_type": "execute_result"
    }
   ],
   "source": [
    "Image(url='http://pix-media.s3.amazonaws.com/blog/1086/t-pain.jpg', width=400)"
   ]
  },
  {
   "cell_type": "markdown",
   "metadata": {
    "slideshow": {
     "slide_type": "fragment"
    }
   },
   "source": [
    "## AKA Autotune..."
   ]
  },
  {
   "cell_type": "markdown",
   "metadata": {
    "slideshow": {
     "slide_type": "slide"
    }
   },
   "source": [
    "## AKA...<br><br>One simple trick to minimizing your loss functions!"
   ]
  },
  {
   "cell_type": "markdown",
   "metadata": {
    "slideshow": {
     "slide_type": "slide"
    }
   },
   "source": [
    "# We are going to build a model using SF crime data. It will use day, time, and district predict the crime type."
   ]
  },
  {
   "cell_type": "markdown",
   "metadata": {
    "slideshow": {
     "slide_type": "slide"
    }
   },
   "source": [
    "## Load our data set "
   ]
  },
  {
   "cell_type": "code",
   "execution_count": 809,
   "metadata": {
    "collapsed": false,
    "slideshow": {
     "slide_type": "-"
    }
   },
   "outputs": [],
   "source": [
    "sf_crime = pd.read_csv('./assets/datasets/sf_crime_train.csv')\n",
    "sf_crime = sf_crime.dropna()"
   ]
  },
  {
   "cell_type": "code",
   "execution_count": 810,
   "metadata": {
    "collapsed": false,
    "slideshow": {
     "slide_type": "-"
    }
   },
   "outputs": [
    {
     "data": {
      "text/html": [
       "<div>\n",
       "<table border=\"1\" class=\"dataframe\">\n",
       "  <thead>\n",
       "    <tr style=\"text-align: right;\">\n",
       "      <th></th>\n",
       "      <th>Dates</th>\n",
       "      <th>Category</th>\n",
       "      <th>Descript</th>\n",
       "      <th>DayOfWeek</th>\n",
       "      <th>PdDistrict</th>\n",
       "      <th>Resolution</th>\n",
       "      <th>Address</th>\n",
       "      <th>X</th>\n",
       "      <th>Y</th>\n",
       "    </tr>\n",
       "  </thead>\n",
       "  <tbody>\n",
       "    <tr>\n",
       "      <th>0</th>\n",
       "      <td>5/13/15 23:53</td>\n",
       "      <td>WARRANTS</td>\n",
       "      <td>WARRANT ARREST</td>\n",
       "      <td>Wednesday</td>\n",
       "      <td>NORTHERN</td>\n",
       "      <td>ARREST, BOOKED</td>\n",
       "      <td>OAK ST / LAGUNA ST</td>\n",
       "      <td>-122.425892</td>\n",
       "      <td>37.774599</td>\n",
       "    </tr>\n",
       "    <tr>\n",
       "      <th>1</th>\n",
       "      <td>5/13/15 23:53</td>\n",
       "      <td>OTHER OFFENSES</td>\n",
       "      <td>TRAFFIC VIOLATION ARREST</td>\n",
       "      <td>Wednesday</td>\n",
       "      <td>NORTHERN</td>\n",
       "      <td>ARREST, BOOKED</td>\n",
       "      <td>OAK ST / LAGUNA ST</td>\n",
       "      <td>-122.425892</td>\n",
       "      <td>37.774599</td>\n",
       "    </tr>\n",
       "    <tr>\n",
       "      <th>2</th>\n",
       "      <td>5/13/15 23:33</td>\n",
       "      <td>OTHER OFFENSES</td>\n",
       "      <td>TRAFFIC VIOLATION ARREST</td>\n",
       "      <td>Wednesday</td>\n",
       "      <td>NORTHERN</td>\n",
       "      <td>ARREST, BOOKED</td>\n",
       "      <td>VANNESS AV / GREENWICH ST</td>\n",
       "      <td>-122.424363</td>\n",
       "      <td>37.800414</td>\n",
       "    </tr>\n",
       "    <tr>\n",
       "      <th>3</th>\n",
       "      <td>5/13/15 23:30</td>\n",
       "      <td>LARCENY/THEFT</td>\n",
       "      <td>GRAND THEFT FROM LOCKED AUTO</td>\n",
       "      <td>Wednesday</td>\n",
       "      <td>NORTHERN</td>\n",
       "      <td>NONE</td>\n",
       "      <td>1500 Block of LOMBARD ST</td>\n",
       "      <td>-122.426995</td>\n",
       "      <td>37.800873</td>\n",
       "    </tr>\n",
       "    <tr>\n",
       "      <th>4</th>\n",
       "      <td>5/13/15 23:30</td>\n",
       "      <td>LARCENY/THEFT</td>\n",
       "      <td>GRAND THEFT FROM LOCKED AUTO</td>\n",
       "      <td>Wednesday</td>\n",
       "      <td>PARK</td>\n",
       "      <td>NONE</td>\n",
       "      <td>100 Block of BRODERICK ST</td>\n",
       "      <td>-122.438738</td>\n",
       "      <td>37.771541</td>\n",
       "    </tr>\n",
       "  </tbody>\n",
       "</table>\n",
       "</div>"
      ],
      "text/plain": [
       "           Dates        Category                      Descript  DayOfWeek  \\\n",
       "0  5/13/15 23:53        WARRANTS                WARRANT ARREST  Wednesday   \n",
       "1  5/13/15 23:53  OTHER OFFENSES      TRAFFIC VIOLATION ARREST  Wednesday   \n",
       "2  5/13/15 23:33  OTHER OFFENSES      TRAFFIC VIOLATION ARREST  Wednesday   \n",
       "3  5/13/15 23:30   LARCENY/THEFT  GRAND THEFT FROM LOCKED AUTO  Wednesday   \n",
       "4  5/13/15 23:30   LARCENY/THEFT  GRAND THEFT FROM LOCKED AUTO  Wednesday   \n",
       "\n",
       "  PdDistrict      Resolution                    Address           X          Y  \n",
       "0   NORTHERN  ARREST, BOOKED         OAK ST / LAGUNA ST -122.425892  37.774599  \n",
       "1   NORTHERN  ARREST, BOOKED         OAK ST / LAGUNA ST -122.425892  37.774599  \n",
       "2   NORTHERN  ARREST, BOOKED  VANNESS AV / GREENWICH ST -122.424363  37.800414  \n",
       "3   NORTHERN            NONE   1500 Block of LOMBARD ST -122.426995  37.800873  \n",
       "4       PARK            NONE  100 Block of BRODERICK ST -122.438738  37.771541  "
      ]
     },
     "execution_count": 810,
     "metadata": {},
     "output_type": "execute_result"
    }
   ],
   "source": [
    "sf_crime.head()"
   ]
  },
  {
   "cell_type": "markdown",
   "metadata": {
    "slideshow": {
     "slide_type": "slide"
    }
   },
   "source": [
    "## Data type conversions and transformations"
   ]
  },
  {
   "cell_type": "code",
   "execution_count": 3,
   "metadata": {
    "collapsed": true,
    "slideshow": {
     "slide_type": "-"
    }
   },
   "outputs": [],
   "source": [
    "sf_crime['Dates'] = pd.to_datetime(sf_crime.Dates)\n",
    "sf_crime_dates = pd.DatetimeIndex(sf_crime.Dates.values, dtype='datetime64[ns]', freq=None)\n",
    "\n",
    "sf_crime['hour'] = sf_crime_dates.hour\n",
    "sf_crime['month'] = sf_crime_dates.month\n",
    "sf_crime['year'] = sf_crime_dates.year"
   ]
  },
  {
   "cell_type": "markdown",
   "metadata": {
    "slideshow": {
     "slide_type": "slide"
    }
   },
   "source": [
    "## Let's see what all the listed crimes are"
   ]
  },
  {
   "cell_type": "code",
   "execution_count": 4,
   "metadata": {
    "collapsed": false,
    "slideshow": {
     "slide_type": "-"
    }
   },
   "outputs": [
    {
     "data": {
      "text/plain": [
       "array(['WARRANTS', 'OTHER OFFENSES', 'LARCENY/THEFT', 'VEHICLE THEFT',\n",
       "       'VANDALISM', 'NON-CRIMINAL', 'ROBBERY', 'ASSAULT', 'WEAPON LAWS',\n",
       "       'BURGLARY', 'SUSPICIOUS OCC', 'DRUNKENNESS',\n",
       "       'FORGERY/COUNTERFEITING', 'DRUG/NARCOTIC', 'STOLEN PROPERTY',\n",
       "       'SECONDARY CODES', 'TRESPASS', 'MISSING PERSON', 'FRAUD',\n",
       "       'KIDNAPPING', 'RUNAWAY', 'DRIVING UNDER THE INFLUENCE',\n",
       "       'SEX OFFENSES FORCIBLE', 'PROSTITUTION', 'DISORDERLY CONDUCT',\n",
       "       'ARSON', 'FAMILY OFFENSES', 'LIQUOR LAWS', 'BRIBERY',\n",
       "       'EMBEZZLEMENT', 'SUICIDE', 'LOITERING', 'SEX OFFENSES NON FORCIBLE',\n",
       "       'EXTORTION', 'GAMBLING', 'BAD CHECKS'], dtype=object)"
      ]
     },
     "execution_count": 4,
     "metadata": {},
     "output_type": "execute_result"
    }
   ],
   "source": [
    "sf_crime['Category'].unique()"
   ]
  },
  {
   "cell_type": "markdown",
   "metadata": {
    "slideshow": {
     "slide_type": "slide"
    }
   },
   "source": [
    "## Select a subsection of the listed crimes"
   ]
  },
  {
   "cell_type": "code",
   "execution_count": 5,
   "metadata": {
    "collapsed": false,
    "slideshow": {
     "slide_type": "-"
    }
   },
   "outputs": [],
   "source": [
    "subset = ['VEHICLE THEFT','BURGLARY','DRUG/NARCOTIC']\n",
    "sf_crime_sub = sf_crime[sf_crime['Category'].isin(subset)]"
   ]
  },
  {
   "cell_type": "code",
   "execution_count": 6,
   "metadata": {
    "collapsed": false,
    "scrolled": true,
    "slideshow": {
     "slide_type": "-"
    }
   },
   "outputs": [
    {
     "data": {
      "text/html": [
       "<div>\n",
       "<table border=\"1\" class=\"dataframe\">\n",
       "  <thead>\n",
       "    <tr style=\"text-align: right;\">\n",
       "      <th></th>\n",
       "      <th>Dates</th>\n",
       "      <th>Category</th>\n",
       "      <th>Descript</th>\n",
       "      <th>DayOfWeek</th>\n",
       "      <th>PdDistrict</th>\n",
       "      <th>Resolution</th>\n",
       "      <th>Address</th>\n",
       "      <th>X</th>\n",
       "      <th>Y</th>\n",
       "      <th>hour</th>\n",
       "      <th>month</th>\n",
       "      <th>year</th>\n",
       "    </tr>\n",
       "  </thead>\n",
       "  <tbody>\n",
       "    <tr>\n",
       "      <th>6</th>\n",
       "      <td>2015-05-13 23:30:00</td>\n",
       "      <td>VEHICLE THEFT</td>\n",
       "      <td>STOLEN AUTOMOBILE</td>\n",
       "      <td>Wednesday</td>\n",
       "      <td>INGLESIDE</td>\n",
       "      <td>NONE</td>\n",
       "      <td>AVALON AV / PERU AV</td>\n",
       "      <td>-122.423327</td>\n",
       "      <td>37.725138</td>\n",
       "      <td>23</td>\n",
       "      <td>5</td>\n",
       "      <td>2015</td>\n",
       "    </tr>\n",
       "    <tr>\n",
       "      <th>7</th>\n",
       "      <td>2015-05-13 23:30:00</td>\n",
       "      <td>VEHICLE THEFT</td>\n",
       "      <td>STOLEN AUTOMOBILE</td>\n",
       "      <td>Wednesday</td>\n",
       "      <td>BAYVIEW</td>\n",
       "      <td>NONE</td>\n",
       "      <td>KIRKWOOD AV / DONAHUE ST</td>\n",
       "      <td>-122.371274</td>\n",
       "      <td>37.727564</td>\n",
       "      <td>23</td>\n",
       "      <td>5</td>\n",
       "      <td>2015</td>\n",
       "    </tr>\n",
       "    <tr>\n",
       "      <th>46</th>\n",
       "      <td>2015-05-13 20:00:00</td>\n",
       "      <td>VEHICLE THEFT</td>\n",
       "      <td>STOLEN MOTORCYCLE</td>\n",
       "      <td>Wednesday</td>\n",
       "      <td>INGLESIDE</td>\n",
       "      <td>NONE</td>\n",
       "      <td>0 Block of CRESCENT AV</td>\n",
       "      <td>-122.423702</td>\n",
       "      <td>37.735233</td>\n",
       "      <td>20</td>\n",
       "      <td>5</td>\n",
       "      <td>2015</td>\n",
       "    </tr>\n",
       "    <tr>\n",
       "      <th>49</th>\n",
       "      <td>2015-05-13 19:52:00</td>\n",
       "      <td>BURGLARY</td>\n",
       "      <td>BURGLARY, VEHICLE (ARREST MADE)</td>\n",
       "      <td>Wednesday</td>\n",
       "      <td>PARK</td>\n",
       "      <td>ARREST, BOOKED</td>\n",
       "      <td>1500 Block of HAIGHT ST</td>\n",
       "      <td>-122.447761</td>\n",
       "      <td>37.769846</td>\n",
       "      <td>19</td>\n",
       "      <td>5</td>\n",
       "      <td>2015</td>\n",
       "    </tr>\n",
       "    <tr>\n",
       "      <th>59</th>\n",
       "      <td>2015-05-13 19:28:00</td>\n",
       "      <td>VEHICLE THEFT</td>\n",
       "      <td>STOLEN AND RECOVERED VEHICLE</td>\n",
       "      <td>Wednesday</td>\n",
       "      <td>CENTRAL</td>\n",
       "      <td>NONE</td>\n",
       "      <td>0 Block of SANSOME ST</td>\n",
       "      <td>-122.400720</td>\n",
       "      <td>37.790712</td>\n",
       "      <td>19</td>\n",
       "      <td>5</td>\n",
       "      <td>2015</td>\n",
       "    </tr>\n",
       "    <tr>\n",
       "      <th>60</th>\n",
       "      <td>2015-05-13 19:28:00</td>\n",
       "      <td>VEHICLE THEFT</td>\n",
       "      <td>STOLEN AUTOMOBILE</td>\n",
       "      <td>Wednesday</td>\n",
       "      <td>CENTRAL</td>\n",
       "      <td>NONE</td>\n",
       "      <td>0 Block of SANSOME ST</td>\n",
       "      <td>-122.400720</td>\n",
       "      <td>37.790712</td>\n",
       "      <td>19</td>\n",
       "      <td>5</td>\n",
       "      <td>2015</td>\n",
       "    </tr>\n",
       "    <tr>\n",
       "      <th>73</th>\n",
       "      <td>2015-05-13 19:00:00</td>\n",
       "      <td>VEHICLE THEFT</td>\n",
       "      <td>STOLEN AUTOMOBILE</td>\n",
       "      <td>Wednesday</td>\n",
       "      <td>MISSION</td>\n",
       "      <td>NONE</td>\n",
       "      <td>26TH ST / GUERRERO ST</td>\n",
       "      <td>-122.422572</td>\n",
       "      <td>37.748774</td>\n",
       "      <td>19</td>\n",
       "      <td>5</td>\n",
       "      <td>2015</td>\n",
       "    </tr>\n",
       "    <tr>\n",
       "      <th>87</th>\n",
       "      <td>2015-05-13 18:30:00</td>\n",
       "      <td>BURGLARY</td>\n",
       "      <td>BURGLARY OF RESIDENCE, ATTEMPTED FORCIBLE ENTRY</td>\n",
       "      <td>Wednesday</td>\n",
       "      <td>BAYVIEW</td>\n",
       "      <td>NONE</td>\n",
       "      <td>1300 Block of FELTON ST</td>\n",
       "      <td>-122.417938</td>\n",
       "      <td>37.726605</td>\n",
       "      <td>18</td>\n",
       "      <td>5</td>\n",
       "      <td>2015</td>\n",
       "    </tr>\n",
       "    <tr>\n",
       "      <th>97</th>\n",
       "      <td>2015-05-13 18:00:00</td>\n",
       "      <td>BURGLARY</td>\n",
       "      <td>BURGLARY OF APARTMENT HOUSE, UNLAWFUL ENTRY</td>\n",
       "      <td>Wednesday</td>\n",
       "      <td>SOUTHERN</td>\n",
       "      <td>NONE</td>\n",
       "      <td>0 Block of 6TH ST</td>\n",
       "      <td>-122.409504</td>\n",
       "      <td>37.781526</td>\n",
       "      <td>18</td>\n",
       "      <td>5</td>\n",
       "      <td>2015</td>\n",
       "    </tr>\n",
       "    <tr>\n",
       "      <th>104</th>\n",
       "      <td>2015-05-13 17:55:00</td>\n",
       "      <td>BURGLARY</td>\n",
       "      <td>BURGLARY,STORE UNDER CONSTRUCTION, UNLAWFUL ENTRY</td>\n",
       "      <td>Wednesday</td>\n",
       "      <td>SOUTHERN</td>\n",
       "      <td>ARREST, BOOKED</td>\n",
       "      <td>1200 Block of MARKET ST</td>\n",
       "      <td>-122.415449</td>\n",
       "      <td>37.778294</td>\n",
       "      <td>17</td>\n",
       "      <td>5</td>\n",
       "      <td>2015</td>\n",
       "    </tr>\n",
       "    <tr>\n",
       "      <th>107</th>\n",
       "      <td>2015-05-13 17:47:00</td>\n",
       "      <td>DRUG/NARCOTIC</td>\n",
       "      <td>POSSESSION OF NARCOTICS PARAPHERNALIA</td>\n",
       "      <td>Wednesday</td>\n",
       "      <td>BAYVIEW</td>\n",
       "      <td>NONE</td>\n",
       "      <td>0 Block of WHITFIELD CT</td>\n",
       "      <td>-122.381838</td>\n",
       "      <td>37.731104</td>\n",
       "      <td>17</td>\n",
       "      <td>5</td>\n",
       "      <td>2015</td>\n",
       "    </tr>\n",
       "    <tr>\n",
       "      <th>124</th>\n",
       "      <td>2015-05-13 17:20:00</td>\n",
       "      <td>BURGLARY</td>\n",
       "      <td>BURGLARY OF HOTEL ROOM, UNLAWFUL ENTRY</td>\n",
       "      <td>Wednesday</td>\n",
       "      <td>CENTRAL</td>\n",
       "      <td>NONE</td>\n",
       "      <td>600 Block of JONES ST</td>\n",
       "      <td>-122.413299</td>\n",
       "      <td>37.787058</td>\n",
       "      <td>17</td>\n",
       "      <td>5</td>\n",
       "      <td>2015</td>\n",
       "    </tr>\n",
       "    <tr>\n",
       "      <th>125</th>\n",
       "      <td>2015-05-13 17:12:00</td>\n",
       "      <td>DRUG/NARCOTIC</td>\n",
       "      <td>POSSESSION OF MARIJUANA</td>\n",
       "      <td>Wednesday</td>\n",
       "      <td>SOUTHERN</td>\n",
       "      <td>ARREST, BOOKED</td>\n",
       "      <td>6TH ST / NATOMA ST</td>\n",
       "      <td>-122.407693</td>\n",
       "      <td>37.780163</td>\n",
       "      <td>17</td>\n",
       "      <td>5</td>\n",
       "      <td>2015</td>\n",
       "    </tr>\n",
       "    <tr>\n",
       "      <th>129</th>\n",
       "      <td>2015-05-13 17:00:00</td>\n",
       "      <td>BURGLARY</td>\n",
       "      <td>BURGLARY,BLDG. UNDER CONSTRUCTION, UNLAWFUL ENTRY</td>\n",
       "      <td>Wednesday</td>\n",
       "      <td>NORTHERN</td>\n",
       "      <td>NONE</td>\n",
       "      <td>500 Block of GROVE ST</td>\n",
       "      <td>-122.425635</td>\n",
       "      <td>37.777439</td>\n",
       "      <td>17</td>\n",
       "      <td>5</td>\n",
       "      <td>2015</td>\n",
       "    </tr>\n",
       "    <tr>\n",
       "      <th>133</th>\n",
       "      <td>2015-05-13 17:00:00</td>\n",
       "      <td>VEHICLE THEFT</td>\n",
       "      <td>STOLEN AUTOMOBILE</td>\n",
       "      <td>Wednesday</td>\n",
       "      <td>MISSION</td>\n",
       "      <td>NONE</td>\n",
       "      <td>16TH ST / SANCHEZ ST</td>\n",
       "      <td>-122.430883</td>\n",
       "      <td>37.764373</td>\n",
       "      <td>17</td>\n",
       "      <td>5</td>\n",
       "      <td>2015</td>\n",
       "    </tr>\n",
       "    <tr>\n",
       "      <th>146</th>\n",
       "      <td>2015-05-13 16:30:00</td>\n",
       "      <td>VEHICLE THEFT</td>\n",
       "      <td>STOLEN TRUCK</td>\n",
       "      <td>Wednesday</td>\n",
       "      <td>NORTHERN</td>\n",
       "      <td>NONE</td>\n",
       "      <td>SUTTER ST / WEBSTER ST</td>\n",
       "      <td>-122.431553</td>\n",
       "      <td>37.786304</td>\n",
       "      <td>16</td>\n",
       "      <td>5</td>\n",
       "      <td>2015</td>\n",
       "    </tr>\n",
       "    <tr>\n",
       "      <th>158</th>\n",
       "      <td>2015-05-13 15:58:00</td>\n",
       "      <td>VEHICLE THEFT</td>\n",
       "      <td>STOLEN AND RECOVERED VEHICLE</td>\n",
       "      <td>Wednesday</td>\n",
       "      <td>NORTHERN</td>\n",
       "      <td>NONE</td>\n",
       "      <td>2400 Block of CALIFORNIA ST</td>\n",
       "      <td>-122.434689</td>\n",
       "      <td>37.788854</td>\n",
       "      <td>15</td>\n",
       "      <td>5</td>\n",
       "      <td>2015</td>\n",
       "    </tr>\n",
       "    <tr>\n",
       "      <th>159</th>\n",
       "      <td>2015-05-13 15:58:00</td>\n",
       "      <td>VEHICLE THEFT</td>\n",
       "      <td>STOLEN AUTOMOBILE</td>\n",
       "      <td>Wednesday</td>\n",
       "      <td>NORTHERN</td>\n",
       "      <td>NONE</td>\n",
       "      <td>2400 Block of CALIFORNIA ST</td>\n",
       "      <td>-122.434689</td>\n",
       "      <td>37.788854</td>\n",
       "      <td>15</td>\n",
       "      <td>5</td>\n",
       "      <td>2015</td>\n",
       "    </tr>\n",
       "    <tr>\n",
       "      <th>173</th>\n",
       "      <td>2015-05-13 15:00:00</td>\n",
       "      <td>VEHICLE THEFT</td>\n",
       "      <td>STOLEN TRUCK</td>\n",
       "      <td>Wednesday</td>\n",
       "      <td>NORTHERN</td>\n",
       "      <td>NONE</td>\n",
       "      <td>2000 Block of CALIFORNIA ST</td>\n",
       "      <td>-122.428088</td>\n",
       "      <td>37.789582</td>\n",
       "      <td>15</td>\n",
       "      <td>5</td>\n",
       "      <td>2015</td>\n",
       "    </tr>\n",
       "    <tr>\n",
       "      <th>181</th>\n",
       "      <td>2015-05-13 14:45:00</td>\n",
       "      <td>BURGLARY</td>\n",
       "      <td>BURGLARY, HOT PROWL, UNLAWFUL ENTRY</td>\n",
       "      <td>Wednesday</td>\n",
       "      <td>SOUTHERN</td>\n",
       "      <td>NONE</td>\n",
       "      <td>800 Block of FOLSOM ST</td>\n",
       "      <td>-122.402344</td>\n",
       "      <td>37.781167</td>\n",
       "      <td>14</td>\n",
       "      <td>5</td>\n",
       "      <td>2015</td>\n",
       "    </tr>\n",
       "    <tr>\n",
       "      <th>184</th>\n",
       "      <td>2015-05-13 14:31:00</td>\n",
       "      <td>DRUG/NARCOTIC</td>\n",
       "      <td>POSSESSION OF MARIJUANA FOR SALES</td>\n",
       "      <td>Wednesday</td>\n",
       "      <td>PARK</td>\n",
       "      <td>ARREST, BOOKED</td>\n",
       "      <td>1600 Block of HAIGHT ST</td>\n",
       "      <td>-122.449123</td>\n",
       "      <td>37.769784</td>\n",
       "      <td>14</td>\n",
       "      <td>5</td>\n",
       "      <td>2015</td>\n",
       "    </tr>\n",
       "    <tr>\n",
       "      <th>185</th>\n",
       "      <td>2015-05-13 14:31:00</td>\n",
       "      <td>DRUG/NARCOTIC</td>\n",
       "      <td>SALE OF MARIJUANA</td>\n",
       "      <td>Wednesday</td>\n",
       "      <td>PARK</td>\n",
       "      <td>ARREST, BOOKED</td>\n",
       "      <td>1600 Block of HAIGHT ST</td>\n",
       "      <td>-122.449123</td>\n",
       "      <td>37.769784</td>\n",
       "      <td>14</td>\n",
       "      <td>5</td>\n",
       "      <td>2015</td>\n",
       "    </tr>\n",
       "    <tr>\n",
       "      <th>189</th>\n",
       "      <td>2015-05-13 14:30:00</td>\n",
       "      <td>BURGLARY</td>\n",
       "      <td>BURGLARY, HOT PROWL, ATTEMPTED FORCIBLE ENTRY</td>\n",
       "      <td>Wednesday</td>\n",
       "      <td>INGLESIDE</td>\n",
       "      <td>NONE</td>\n",
       "      <td>700 Block of MIRAMAR AV</td>\n",
       "      <td>-122.458343</td>\n",
       "      <td>37.729775</td>\n",
       "      <td>14</td>\n",
       "      <td>5</td>\n",
       "      <td>2015</td>\n",
       "    </tr>\n",
       "    <tr>\n",
       "      <th>191</th>\n",
       "      <td>2015-05-13 14:30:00</td>\n",
       "      <td>VEHICLE THEFT</td>\n",
       "      <td>STOLEN AUTOMOBILE</td>\n",
       "      <td>Wednesday</td>\n",
       "      <td>RICHMOND</td>\n",
       "      <td>NONE</td>\n",
       "      <td>700 Block of 45TH AV</td>\n",
       "      <td>-122.505883</td>\n",
       "      <td>37.774369</td>\n",
       "      <td>14</td>\n",
       "      <td>5</td>\n",
       "      <td>2015</td>\n",
       "    </tr>\n",
       "    <tr>\n",
       "      <th>208</th>\n",
       "      <td>2015-05-13 14:00:00</td>\n",
       "      <td>BURGLARY</td>\n",
       "      <td>BURGLARY OF APARTMENT HOUSE, FORCIBLE ENTRY</td>\n",
       "      <td>Wednesday</td>\n",
       "      <td>INGLESIDE</td>\n",
       "      <td>NONE</td>\n",
       "      <td>100 Block of MELROSE AV</td>\n",
       "      <td>-122.445070</td>\n",
       "      <td>37.733750</td>\n",
       "      <td>14</td>\n",
       "      <td>5</td>\n",
       "      <td>2015</td>\n",
       "    </tr>\n",
       "    <tr>\n",
       "      <th>209</th>\n",
       "      <td>2015-05-13 14:00:00</td>\n",
       "      <td>VEHICLE THEFT</td>\n",
       "      <td>STOLEN AUTOMOBILE</td>\n",
       "      <td>Wednesday</td>\n",
       "      <td>INGLESIDE</td>\n",
       "      <td>NONE</td>\n",
       "      <td>100 Block of APPLETON AV</td>\n",
       "      <td>-122.423071</td>\n",
       "      <td>37.738549</td>\n",
       "      <td>14</td>\n",
       "      <td>5</td>\n",
       "      <td>2015</td>\n",
       "    </tr>\n",
       "    <tr>\n",
       "      <th>210</th>\n",
       "      <td>2015-05-13 14:00:00</td>\n",
       "      <td>BURGLARY</td>\n",
       "      <td>BURGLARY OF RESIDENCE, FORCIBLE ENTRY</td>\n",
       "      <td>Wednesday</td>\n",
       "      <td>TARAVAL</td>\n",
       "      <td>NONE</td>\n",
       "      <td>200 Block of CRESTLAKE DR</td>\n",
       "      <td>-122.484546</td>\n",
       "      <td>37.735113</td>\n",
       "      <td>14</td>\n",
       "      <td>5</td>\n",
       "      <td>2015</td>\n",
       "    </tr>\n",
       "    <tr>\n",
       "      <th>220</th>\n",
       "      <td>2015-05-13 13:19:00</td>\n",
       "      <td>DRUG/NARCOTIC</td>\n",
       "      <td>POSSESSION OF NARCOTICS PARAPHERNALIA</td>\n",
       "      <td>Wednesday</td>\n",
       "      <td>MISSION</td>\n",
       "      <td>ARREST, BOOKED</td>\n",
       "      <td>17TH ST / MISSION ST</td>\n",
       "      <td>-122.419516</td>\n",
       "      <td>37.763429</td>\n",
       "      <td>13</td>\n",
       "      <td>5</td>\n",
       "      <td>2015</td>\n",
       "    </tr>\n",
       "    <tr>\n",
       "      <th>223</th>\n",
       "      <td>2015-05-13 13:19:00</td>\n",
       "      <td>DRUG/NARCOTIC</td>\n",
       "      <td>POSSESSION OF METH-AMPHETAMINE</td>\n",
       "      <td>Wednesday</td>\n",
       "      <td>MISSION</td>\n",
       "      <td>ARREST, BOOKED</td>\n",
       "      <td>17TH ST / MISSION ST</td>\n",
       "      <td>-122.419516</td>\n",
       "      <td>37.763429</td>\n",
       "      <td>13</td>\n",
       "      <td>5</td>\n",
       "      <td>2015</td>\n",
       "    </tr>\n",
       "    <tr>\n",
       "      <th>226</th>\n",
       "      <td>2015-05-13 13:00:00</td>\n",
       "      <td>BURGLARY</td>\n",
       "      <td>BURGLARY, UNLAWFUL ENTRY</td>\n",
       "      <td>Wednesday</td>\n",
       "      <td>NORTHERN</td>\n",
       "      <td>NONE</td>\n",
       "      <td>2300 Block of FILLMORE ST</td>\n",
       "      <td>-122.434362</td>\n",
       "      <td>37.791151</td>\n",
       "      <td>13</td>\n",
       "      <td>5</td>\n",
       "      <td>2015</td>\n",
       "    </tr>\n",
       "    <tr>\n",
       "      <th>...</th>\n",
       "      <td>...</td>\n",
       "      <td>...</td>\n",
       "      <td>...</td>\n",
       "      <td>...</td>\n",
       "      <td>...</td>\n",
       "      <td>...</td>\n",
       "      <td>...</td>\n",
       "      <td>...</td>\n",
       "      <td>...</td>\n",
       "      <td>...</td>\n",
       "      <td>...</td>\n",
       "      <td>...</td>\n",
       "    </tr>\n",
       "    <tr>\n",
       "      <th>17781</th>\n",
       "      <td>2015-02-18 12:31:00</td>\n",
       "      <td>DRUG/NARCOTIC</td>\n",
       "      <td>PLANTING/CULTIVATING MARIJUANA</td>\n",
       "      <td>Wednesday</td>\n",
       "      <td>BAYVIEW</td>\n",
       "      <td>ARREST, BOOKED</td>\n",
       "      <td>1500 Block of WALLACE AV</td>\n",
       "      <td>-122.390231</td>\n",
       "      <td>37.726911</td>\n",
       "      <td>12</td>\n",
       "      <td>2</td>\n",
       "      <td>2015</td>\n",
       "    </tr>\n",
       "    <tr>\n",
       "      <th>17782</th>\n",
       "      <td>2015-02-18 12:31:00</td>\n",
       "      <td>DRUG/NARCOTIC</td>\n",
       "      <td>POSSESSION OF MARIJUANA FOR SALES</td>\n",
       "      <td>Wednesday</td>\n",
       "      <td>BAYVIEW</td>\n",
       "      <td>ARREST, BOOKED</td>\n",
       "      <td>1500 Block of WALLACE AV</td>\n",
       "      <td>-122.390231</td>\n",
       "      <td>37.726911</td>\n",
       "      <td>12</td>\n",
       "      <td>2</td>\n",
       "      <td>2015</td>\n",
       "    </tr>\n",
       "    <tr>\n",
       "      <th>17808</th>\n",
       "      <td>2015-02-18 11:15:00</td>\n",
       "      <td>VEHICLE THEFT</td>\n",
       "      <td>STOLEN AUTOMOBILE</td>\n",
       "      <td>Wednesday</td>\n",
       "      <td>INGLESIDE</td>\n",
       "      <td>NONE</td>\n",
       "      <td>LYELL ST / BOSWORTH ST</td>\n",
       "      <td>-122.431956</td>\n",
       "      <td>37.732993</td>\n",
       "      <td>11</td>\n",
       "      <td>2</td>\n",
       "      <td>2015</td>\n",
       "    </tr>\n",
       "    <tr>\n",
       "      <th>17827</th>\n",
       "      <td>2015-02-18 10:30:00</td>\n",
       "      <td>VEHICLE THEFT</td>\n",
       "      <td>STOLEN MOTORCYCLE</td>\n",
       "      <td>Wednesday</td>\n",
       "      <td>PARK</td>\n",
       "      <td>NONE</td>\n",
       "      <td>500 Block of COLE ST</td>\n",
       "      <td>-122.450379</td>\n",
       "      <td>37.770036</td>\n",
       "      <td>10</td>\n",
       "      <td>2</td>\n",
       "      <td>2015</td>\n",
       "    </tr>\n",
       "    <tr>\n",
       "      <th>17831</th>\n",
       "      <td>2015-02-18 10:10:00</td>\n",
       "      <td>VEHICLE THEFT</td>\n",
       "      <td>STOLEN AUTOMOBILE</td>\n",
       "      <td>Wednesday</td>\n",
       "      <td>INGLESIDE</td>\n",
       "      <td>NONE</td>\n",
       "      <td>EXCELSIOR AV / PARIS ST</td>\n",
       "      <td>-122.432055</td>\n",
       "      <td>37.725487</td>\n",
       "      <td>10</td>\n",
       "      <td>2</td>\n",
       "      <td>2015</td>\n",
       "    </tr>\n",
       "    <tr>\n",
       "      <th>17836</th>\n",
       "      <td>2015-02-18 10:00:00</td>\n",
       "      <td>BURGLARY</td>\n",
       "      <td>BURGLARY OF APARTMENT HOUSE, FORCIBLE ENTRY</td>\n",
       "      <td>Wednesday</td>\n",
       "      <td>INGLESIDE</td>\n",
       "      <td>NONE</td>\n",
       "      <td>1200 Block of ALEMANY BL</td>\n",
       "      <td>-122.432385</td>\n",
       "      <td>37.730340</td>\n",
       "      <td>10</td>\n",
       "      <td>2</td>\n",
       "      <td>2015</td>\n",
       "    </tr>\n",
       "    <tr>\n",
       "      <th>17848</th>\n",
       "      <td>2015-02-18 09:09:00</td>\n",
       "      <td>VEHICLE THEFT</td>\n",
       "      <td>STOLEN AUTOMOBILE</td>\n",
       "      <td>Wednesday</td>\n",
       "      <td>CENTRAL</td>\n",
       "      <td>NONE</td>\n",
       "      <td>2200 Block of STOCKTON ST</td>\n",
       "      <td>-122.410338</td>\n",
       "      <td>37.806513</td>\n",
       "      <td>9</td>\n",
       "      <td>2</td>\n",
       "      <td>2015</td>\n",
       "    </tr>\n",
       "    <tr>\n",
       "      <th>17855</th>\n",
       "      <td>2015-02-18 08:45:00</td>\n",
       "      <td>BURGLARY</td>\n",
       "      <td>BURGLARY OF APARTMENT HOUSE, UNLAWFUL ENTRY</td>\n",
       "      <td>Wednesday</td>\n",
       "      <td>CENTRAL</td>\n",
       "      <td>NONE</td>\n",
       "      <td>700 Block of POST ST</td>\n",
       "      <td>-122.414179</td>\n",
       "      <td>37.787502</td>\n",
       "      <td>8</td>\n",
       "      <td>2</td>\n",
       "      <td>2015</td>\n",
       "    </tr>\n",
       "    <tr>\n",
       "      <th>17859</th>\n",
       "      <td>2015-02-18 08:30:00</td>\n",
       "      <td>VEHICLE THEFT</td>\n",
       "      <td>STOLEN AUTOMOBILE</td>\n",
       "      <td>Wednesday</td>\n",
       "      <td>RICHMOND</td>\n",
       "      <td>NONE</td>\n",
       "      <td>PINE ST / LYON ST</td>\n",
       "      <td>-122.445209</td>\n",
       "      <td>37.786481</td>\n",
       "      <td>8</td>\n",
       "      <td>2</td>\n",
       "      <td>2015</td>\n",
       "    </tr>\n",
       "    <tr>\n",
       "      <th>17866</th>\n",
       "      <td>2015-02-18 08:00:00</td>\n",
       "      <td>VEHICLE THEFT</td>\n",
       "      <td>STOLEN AUTOMOBILE</td>\n",
       "      <td>Wednesday</td>\n",
       "      <td>BAYVIEW</td>\n",
       "      <td>NONE</td>\n",
       "      <td>300 Block of WAYLAND ST</td>\n",
       "      <td>-122.405566</td>\n",
       "      <td>37.725732</td>\n",
       "      <td>8</td>\n",
       "      <td>2</td>\n",
       "      <td>2015</td>\n",
       "    </tr>\n",
       "    <tr>\n",
       "      <th>17867</th>\n",
       "      <td>2015-02-18 08:00:00</td>\n",
       "      <td>VEHICLE THEFT</td>\n",
       "      <td>STOLEN TRUCK</td>\n",
       "      <td>Wednesday</td>\n",
       "      <td>SOUTHERN</td>\n",
       "      <td>NONE</td>\n",
       "      <td>800 Block of MISSION ST</td>\n",
       "      <td>-122.405396</td>\n",
       "      <td>37.783510</td>\n",
       "      <td>8</td>\n",
       "      <td>2</td>\n",
       "      <td>2015</td>\n",
       "    </tr>\n",
       "    <tr>\n",
       "      <th>17868</th>\n",
       "      <td>2015-02-18 08:00:00</td>\n",
       "      <td>BURGLARY</td>\n",
       "      <td>BURGLARY,STORE UNDER CONSTRUCTION, FORCIBLE ENTRY</td>\n",
       "      <td>Wednesday</td>\n",
       "      <td>SOUTHERN</td>\n",
       "      <td>NONE</td>\n",
       "      <td>0 Block of SOUTH VAN NESS AV</td>\n",
       "      <td>-122.418338</td>\n",
       "      <td>37.772664</td>\n",
       "      <td>8</td>\n",
       "      <td>2</td>\n",
       "      <td>2015</td>\n",
       "    </tr>\n",
       "    <tr>\n",
       "      <th>17874</th>\n",
       "      <td>2015-02-18 07:00:00</td>\n",
       "      <td>VEHICLE THEFT</td>\n",
       "      <td>STOLEN AUTOMOBILE</td>\n",
       "      <td>Wednesday</td>\n",
       "      <td>RICHMOND</td>\n",
       "      <td>NONE</td>\n",
       "      <td>400 Block of 18TH AV</td>\n",
       "      <td>-122.477238</td>\n",
       "      <td>37.779451</td>\n",
       "      <td>7</td>\n",
       "      <td>2</td>\n",
       "      <td>2015</td>\n",
       "    </tr>\n",
       "    <tr>\n",
       "      <th>17879</th>\n",
       "      <td>2015-02-18 06:40:00</td>\n",
       "      <td>BURGLARY</td>\n",
       "      <td>BURGLARY OF APARTMENT HOUSE, FORCIBLE ENTRY</td>\n",
       "      <td>Wednesday</td>\n",
       "      <td>NORTHERN</td>\n",
       "      <td>NONE</td>\n",
       "      <td>300 Block of LARKIN ST</td>\n",
       "      <td>-122.416980</td>\n",
       "      <td>37.780977</td>\n",
       "      <td>6</td>\n",
       "      <td>2</td>\n",
       "      <td>2015</td>\n",
       "    </tr>\n",
       "    <tr>\n",
       "      <th>17883</th>\n",
       "      <td>2015-02-18 05:20:00</td>\n",
       "      <td>BURGLARY</td>\n",
       "      <td>BURGLARY, ATTEMPTED FORCIBLE ENTRY</td>\n",
       "      <td>Wednesday</td>\n",
       "      <td>SOUTHERN</td>\n",
       "      <td>NONE</td>\n",
       "      <td>800 Block of FOLSOM ST</td>\n",
       "      <td>-122.402344</td>\n",
       "      <td>37.781167</td>\n",
       "      <td>5</td>\n",
       "      <td>2</td>\n",
       "      <td>2015</td>\n",
       "    </tr>\n",
       "    <tr>\n",
       "      <th>17893</th>\n",
       "      <td>2015-02-18 03:00:00</td>\n",
       "      <td>DRUG/NARCOTIC</td>\n",
       "      <td>POSSESSION OF MARIJUANA</td>\n",
       "      <td>Wednesday</td>\n",
       "      <td>INGLESIDE</td>\n",
       "      <td>ARREST, BOOKED</td>\n",
       "      <td>4900 Block of MISSION ST</td>\n",
       "      <td>-122.438695</td>\n",
       "      <td>37.719692</td>\n",
       "      <td>3</td>\n",
       "      <td>2</td>\n",
       "      <td>2015</td>\n",
       "    </tr>\n",
       "    <tr>\n",
       "      <th>17904</th>\n",
       "      <td>2015-02-18 02:00:00</td>\n",
       "      <td>BURGLARY</td>\n",
       "      <td>BURGLARY OF RESIDENCE, UNLAWFUL ENTRY</td>\n",
       "      <td>Wednesday</td>\n",
       "      <td>PARK</td>\n",
       "      <td>NONE</td>\n",
       "      <td>1100 Block of ASHBURY ST</td>\n",
       "      <td>-122.446726</td>\n",
       "      <td>37.763214</td>\n",
       "      <td>2</td>\n",
       "      <td>2</td>\n",
       "      <td>2015</td>\n",
       "    </tr>\n",
       "    <tr>\n",
       "      <th>17913</th>\n",
       "      <td>2015-02-18 01:00:00</td>\n",
       "      <td>VEHICLE THEFT</td>\n",
       "      <td>STOLEN TRUCK</td>\n",
       "      <td>Wednesday</td>\n",
       "      <td>INGLESIDE</td>\n",
       "      <td>NONE</td>\n",
       "      <td>SANJUAN AV / MISSION ST</td>\n",
       "      <td>-122.435312</td>\n",
       "      <td>37.724005</td>\n",
       "      <td>1</td>\n",
       "      <td>2</td>\n",
       "      <td>2015</td>\n",
       "    </tr>\n",
       "    <tr>\n",
       "      <th>17922</th>\n",
       "      <td>2015-02-18 00:16:00</td>\n",
       "      <td>BURGLARY</td>\n",
       "      <td>BURGLARY, UNLAWFUL ENTRY</td>\n",
       "      <td>Wednesday</td>\n",
       "      <td>TENDERLOIN</td>\n",
       "      <td>NONE</td>\n",
       "      <td>200 Block of OFARRELL ST</td>\n",
       "      <td>-122.408496</td>\n",
       "      <td>37.786296</td>\n",
       "      <td>0</td>\n",
       "      <td>2</td>\n",
       "      <td>2015</td>\n",
       "    </tr>\n",
       "    <tr>\n",
       "      <th>17925</th>\n",
       "      <td>2015-02-18 00:01:00</td>\n",
       "      <td>BURGLARY</td>\n",
       "      <td>BURGLARY OF STORE, FORCIBLE ENTRY</td>\n",
       "      <td>Wednesday</td>\n",
       "      <td>NORTHERN</td>\n",
       "      <td>NONE</td>\n",
       "      <td>300 Block of GROVE ST</td>\n",
       "      <td>-122.422370</td>\n",
       "      <td>37.777970</td>\n",
       "      <td>0</td>\n",
       "      <td>2</td>\n",
       "      <td>2015</td>\n",
       "    </tr>\n",
       "    <tr>\n",
       "      <th>17937</th>\n",
       "      <td>2015-02-17 22:51:00</td>\n",
       "      <td>DRUG/NARCOTIC</td>\n",
       "      <td>POSSESSION OF BASE/ROCK COCAINE FOR SALE</td>\n",
       "      <td>Tuesday</td>\n",
       "      <td>TENDERLOIN</td>\n",
       "      <td>JUVENILE BOOKED</td>\n",
       "      <td>700 Block of OFARRELL ST</td>\n",
       "      <td>-122.417085</td>\n",
       "      <td>37.785215</td>\n",
       "      <td>22</td>\n",
       "      <td>2</td>\n",
       "      <td>2015</td>\n",
       "    </tr>\n",
       "    <tr>\n",
       "      <th>17943</th>\n",
       "      <td>2015-02-17 22:30:00</td>\n",
       "      <td>VEHICLE THEFT</td>\n",
       "      <td>STOLEN AUTOMOBILE</td>\n",
       "      <td>Tuesday</td>\n",
       "      <td>BAYVIEW</td>\n",
       "      <td>NONE</td>\n",
       "      <td>900 Block of KEY AV</td>\n",
       "      <td>-122.395488</td>\n",
       "      <td>37.718577</td>\n",
       "      <td>22</td>\n",
       "      <td>2</td>\n",
       "      <td>2015</td>\n",
       "    </tr>\n",
       "    <tr>\n",
       "      <th>17945</th>\n",
       "      <td>2015-02-17 22:00:00</td>\n",
       "      <td>VEHICLE THEFT</td>\n",
       "      <td>STOLEN AUTOMOBILE</td>\n",
       "      <td>Tuesday</td>\n",
       "      <td>BAYVIEW</td>\n",
       "      <td>NONE</td>\n",
       "      <td>800 Block of JAMESTOWN AV</td>\n",
       "      <td>-122.390418</td>\n",
       "      <td>37.716506</td>\n",
       "      <td>22</td>\n",
       "      <td>2</td>\n",
       "      <td>2015</td>\n",
       "    </tr>\n",
       "    <tr>\n",
       "      <th>17946</th>\n",
       "      <td>2015-02-17 22:00:00</td>\n",
       "      <td>VEHICLE THEFT</td>\n",
       "      <td>STOLEN AUTOMOBILE</td>\n",
       "      <td>Tuesday</td>\n",
       "      <td>MISSION</td>\n",
       "      <td>NONE</td>\n",
       "      <td>1600 Block of BRYANT ST</td>\n",
       "      <td>-122.410478</td>\n",
       "      <td>37.766246</td>\n",
       "      <td>22</td>\n",
       "      <td>2</td>\n",
       "      <td>2015</td>\n",
       "    </tr>\n",
       "    <tr>\n",
       "      <th>17949</th>\n",
       "      <td>2015-02-17 22:00:00</td>\n",
       "      <td>VEHICLE THEFT</td>\n",
       "      <td>STOLEN AUTOMOBILE</td>\n",
       "      <td>Tuesday</td>\n",
       "      <td>NORTHERN</td>\n",
       "      <td>ARREST, BOOKED</td>\n",
       "      <td>200 Block of OAK ST</td>\n",
       "      <td>-122.423371</td>\n",
       "      <td>37.774867</td>\n",
       "      <td>22</td>\n",
       "      <td>2</td>\n",
       "      <td>2015</td>\n",
       "    </tr>\n",
       "    <tr>\n",
       "      <th>17959</th>\n",
       "      <td>2015-02-17 21:19:00</td>\n",
       "      <td>DRUG/NARCOTIC</td>\n",
       "      <td>POSSESSION OF NARCOTICS PARAPHERNALIA</td>\n",
       "      <td>Tuesday</td>\n",
       "      <td>TENDERLOIN</td>\n",
       "      <td>ARREST, BOOKED</td>\n",
       "      <td>100 Block of EDDY ST</td>\n",
       "      <td>-122.410135</td>\n",
       "      <td>37.784189</td>\n",
       "      <td>21</td>\n",
       "      <td>2</td>\n",
       "      <td>2015</td>\n",
       "    </tr>\n",
       "    <tr>\n",
       "      <th>17964</th>\n",
       "      <td>2015-02-17 21:00:00</td>\n",
       "      <td>VEHICLE THEFT</td>\n",
       "      <td>STOLEN MOTORCYCLE</td>\n",
       "      <td>Tuesday</td>\n",
       "      <td>PARK</td>\n",
       "      <td>NONE</td>\n",
       "      <td>500 Block of PANORAMA DR</td>\n",
       "      <td>-122.450495</td>\n",
       "      <td>37.753198</td>\n",
       "      <td>21</td>\n",
       "      <td>2</td>\n",
       "      <td>2015</td>\n",
       "    </tr>\n",
       "    <tr>\n",
       "      <th>17972</th>\n",
       "      <td>2015-02-17 21:00:00</td>\n",
       "      <td>VEHICLE THEFT</td>\n",
       "      <td>STOLEN TRUCK</td>\n",
       "      <td>Tuesday</td>\n",
       "      <td>TARAVAL</td>\n",
       "      <td>UNFOUNDED</td>\n",
       "      <td>IRVING ST / 8TH AV</td>\n",
       "      <td>-122.465245</td>\n",
       "      <td>37.764082</td>\n",
       "      <td>21</td>\n",
       "      <td>2</td>\n",
       "      <td>2015</td>\n",
       "    </tr>\n",
       "    <tr>\n",
       "      <th>17998</th>\n",
       "      <td>2015-02-17 20:00:00</td>\n",
       "      <td>BURGLARY</td>\n",
       "      <td>BURGLARY OF APARTMENT HOUSE, FORCIBLE ENTRY</td>\n",
       "      <td>Tuesday</td>\n",
       "      <td>NORTHERN</td>\n",
       "      <td>NONE</td>\n",
       "      <td>0 Block of WALLER ST</td>\n",
       "      <td>-122.424529</td>\n",
       "      <td>37.771841</td>\n",
       "      <td>20</td>\n",
       "      <td>2</td>\n",
       "      <td>2015</td>\n",
       "    </tr>\n",
       "    <tr>\n",
       "      <th>17999</th>\n",
       "      <td>2015-02-17 20:00:00</td>\n",
       "      <td>VEHICLE THEFT</td>\n",
       "      <td>STOLEN TRUCK</td>\n",
       "      <td>Tuesday</td>\n",
       "      <td>INGLESIDE</td>\n",
       "      <td>NONE</td>\n",
       "      <td>1600 Block of VALENCIA ST</td>\n",
       "      <td>-122.420006</td>\n",
       "      <td>37.745987</td>\n",
       "      <td>20</td>\n",
       "      <td>2</td>\n",
       "      <td>2015</td>\n",
       "    </tr>\n",
       "  </tbody>\n",
       "</table>\n",
       "<p>2195 rows × 12 columns</p>\n",
       "</div>"
      ],
      "text/plain": [
       "                    Dates       Category  \\\n",
       "6     2015-05-13 23:30:00  VEHICLE THEFT   \n",
       "7     2015-05-13 23:30:00  VEHICLE THEFT   \n",
       "46    2015-05-13 20:00:00  VEHICLE THEFT   \n",
       "49    2015-05-13 19:52:00       BURGLARY   \n",
       "59    2015-05-13 19:28:00  VEHICLE THEFT   \n",
       "60    2015-05-13 19:28:00  VEHICLE THEFT   \n",
       "73    2015-05-13 19:00:00  VEHICLE THEFT   \n",
       "87    2015-05-13 18:30:00       BURGLARY   \n",
       "97    2015-05-13 18:00:00       BURGLARY   \n",
       "104   2015-05-13 17:55:00       BURGLARY   \n",
       "107   2015-05-13 17:47:00  DRUG/NARCOTIC   \n",
       "124   2015-05-13 17:20:00       BURGLARY   \n",
       "125   2015-05-13 17:12:00  DRUG/NARCOTIC   \n",
       "129   2015-05-13 17:00:00       BURGLARY   \n",
       "133   2015-05-13 17:00:00  VEHICLE THEFT   \n",
       "146   2015-05-13 16:30:00  VEHICLE THEFT   \n",
       "158   2015-05-13 15:58:00  VEHICLE THEFT   \n",
       "159   2015-05-13 15:58:00  VEHICLE THEFT   \n",
       "173   2015-05-13 15:00:00  VEHICLE THEFT   \n",
       "181   2015-05-13 14:45:00       BURGLARY   \n",
       "184   2015-05-13 14:31:00  DRUG/NARCOTIC   \n",
       "185   2015-05-13 14:31:00  DRUG/NARCOTIC   \n",
       "189   2015-05-13 14:30:00       BURGLARY   \n",
       "191   2015-05-13 14:30:00  VEHICLE THEFT   \n",
       "208   2015-05-13 14:00:00       BURGLARY   \n",
       "209   2015-05-13 14:00:00  VEHICLE THEFT   \n",
       "210   2015-05-13 14:00:00       BURGLARY   \n",
       "220   2015-05-13 13:19:00  DRUG/NARCOTIC   \n",
       "223   2015-05-13 13:19:00  DRUG/NARCOTIC   \n",
       "226   2015-05-13 13:00:00       BURGLARY   \n",
       "...                   ...            ...   \n",
       "17781 2015-02-18 12:31:00  DRUG/NARCOTIC   \n",
       "17782 2015-02-18 12:31:00  DRUG/NARCOTIC   \n",
       "17808 2015-02-18 11:15:00  VEHICLE THEFT   \n",
       "17827 2015-02-18 10:30:00  VEHICLE THEFT   \n",
       "17831 2015-02-18 10:10:00  VEHICLE THEFT   \n",
       "17836 2015-02-18 10:00:00       BURGLARY   \n",
       "17848 2015-02-18 09:09:00  VEHICLE THEFT   \n",
       "17855 2015-02-18 08:45:00       BURGLARY   \n",
       "17859 2015-02-18 08:30:00  VEHICLE THEFT   \n",
       "17866 2015-02-18 08:00:00  VEHICLE THEFT   \n",
       "17867 2015-02-18 08:00:00  VEHICLE THEFT   \n",
       "17868 2015-02-18 08:00:00       BURGLARY   \n",
       "17874 2015-02-18 07:00:00  VEHICLE THEFT   \n",
       "17879 2015-02-18 06:40:00       BURGLARY   \n",
       "17883 2015-02-18 05:20:00       BURGLARY   \n",
       "17893 2015-02-18 03:00:00  DRUG/NARCOTIC   \n",
       "17904 2015-02-18 02:00:00       BURGLARY   \n",
       "17913 2015-02-18 01:00:00  VEHICLE THEFT   \n",
       "17922 2015-02-18 00:16:00       BURGLARY   \n",
       "17925 2015-02-18 00:01:00       BURGLARY   \n",
       "17937 2015-02-17 22:51:00  DRUG/NARCOTIC   \n",
       "17943 2015-02-17 22:30:00  VEHICLE THEFT   \n",
       "17945 2015-02-17 22:00:00  VEHICLE THEFT   \n",
       "17946 2015-02-17 22:00:00  VEHICLE THEFT   \n",
       "17949 2015-02-17 22:00:00  VEHICLE THEFT   \n",
       "17959 2015-02-17 21:19:00  DRUG/NARCOTIC   \n",
       "17964 2015-02-17 21:00:00  VEHICLE THEFT   \n",
       "17972 2015-02-17 21:00:00  VEHICLE THEFT   \n",
       "17998 2015-02-17 20:00:00       BURGLARY   \n",
       "17999 2015-02-17 20:00:00  VEHICLE THEFT   \n",
       "\n",
       "                                                Descript  DayOfWeek  \\\n",
       "6                                      STOLEN AUTOMOBILE  Wednesday   \n",
       "7                                      STOLEN AUTOMOBILE  Wednesday   \n",
       "46                                     STOLEN MOTORCYCLE  Wednesday   \n",
       "49                       BURGLARY, VEHICLE (ARREST MADE)  Wednesday   \n",
       "59                          STOLEN AND RECOVERED VEHICLE  Wednesday   \n",
       "60                                     STOLEN AUTOMOBILE  Wednesday   \n",
       "73                                     STOLEN AUTOMOBILE  Wednesday   \n",
       "87       BURGLARY OF RESIDENCE, ATTEMPTED FORCIBLE ENTRY  Wednesday   \n",
       "97           BURGLARY OF APARTMENT HOUSE, UNLAWFUL ENTRY  Wednesday   \n",
       "104    BURGLARY,STORE UNDER CONSTRUCTION, UNLAWFUL ENTRY  Wednesday   \n",
       "107                POSSESSION OF NARCOTICS PARAPHERNALIA  Wednesday   \n",
       "124               BURGLARY OF HOTEL ROOM, UNLAWFUL ENTRY  Wednesday   \n",
       "125                              POSSESSION OF MARIJUANA  Wednesday   \n",
       "129    BURGLARY,BLDG. UNDER CONSTRUCTION, UNLAWFUL ENTRY  Wednesday   \n",
       "133                                    STOLEN AUTOMOBILE  Wednesday   \n",
       "146                                         STOLEN TRUCK  Wednesday   \n",
       "158                         STOLEN AND RECOVERED VEHICLE  Wednesday   \n",
       "159                                    STOLEN AUTOMOBILE  Wednesday   \n",
       "173                                         STOLEN TRUCK  Wednesday   \n",
       "181                  BURGLARY, HOT PROWL, UNLAWFUL ENTRY  Wednesday   \n",
       "184                    POSSESSION OF MARIJUANA FOR SALES  Wednesday   \n",
       "185                                    SALE OF MARIJUANA  Wednesday   \n",
       "189        BURGLARY, HOT PROWL, ATTEMPTED FORCIBLE ENTRY  Wednesday   \n",
       "191                                    STOLEN AUTOMOBILE  Wednesday   \n",
       "208          BURGLARY OF APARTMENT HOUSE, FORCIBLE ENTRY  Wednesday   \n",
       "209                                    STOLEN AUTOMOBILE  Wednesday   \n",
       "210                BURGLARY OF RESIDENCE, FORCIBLE ENTRY  Wednesday   \n",
       "220                POSSESSION OF NARCOTICS PARAPHERNALIA  Wednesday   \n",
       "223                       POSSESSION OF METH-AMPHETAMINE  Wednesday   \n",
       "226                             BURGLARY, UNLAWFUL ENTRY  Wednesday   \n",
       "...                                                  ...        ...   \n",
       "17781                     PLANTING/CULTIVATING MARIJUANA  Wednesday   \n",
       "17782                  POSSESSION OF MARIJUANA FOR SALES  Wednesday   \n",
       "17808                                  STOLEN AUTOMOBILE  Wednesday   \n",
       "17827                                  STOLEN MOTORCYCLE  Wednesday   \n",
       "17831                                  STOLEN AUTOMOBILE  Wednesday   \n",
       "17836        BURGLARY OF APARTMENT HOUSE, FORCIBLE ENTRY  Wednesday   \n",
       "17848                                  STOLEN AUTOMOBILE  Wednesday   \n",
       "17855        BURGLARY OF APARTMENT HOUSE, UNLAWFUL ENTRY  Wednesday   \n",
       "17859                                  STOLEN AUTOMOBILE  Wednesday   \n",
       "17866                                  STOLEN AUTOMOBILE  Wednesday   \n",
       "17867                                       STOLEN TRUCK  Wednesday   \n",
       "17868  BURGLARY,STORE UNDER CONSTRUCTION, FORCIBLE ENTRY  Wednesday   \n",
       "17874                                  STOLEN AUTOMOBILE  Wednesday   \n",
       "17879        BURGLARY OF APARTMENT HOUSE, FORCIBLE ENTRY  Wednesday   \n",
       "17883                 BURGLARY, ATTEMPTED FORCIBLE ENTRY  Wednesday   \n",
       "17893                            POSSESSION OF MARIJUANA  Wednesday   \n",
       "17904              BURGLARY OF RESIDENCE, UNLAWFUL ENTRY  Wednesday   \n",
       "17913                                       STOLEN TRUCK  Wednesday   \n",
       "17922                           BURGLARY, UNLAWFUL ENTRY  Wednesday   \n",
       "17925                  BURGLARY OF STORE, FORCIBLE ENTRY  Wednesday   \n",
       "17937           POSSESSION OF BASE/ROCK COCAINE FOR SALE    Tuesday   \n",
       "17943                                  STOLEN AUTOMOBILE    Tuesday   \n",
       "17945                                  STOLEN AUTOMOBILE    Tuesday   \n",
       "17946                                  STOLEN AUTOMOBILE    Tuesday   \n",
       "17949                                  STOLEN AUTOMOBILE    Tuesday   \n",
       "17959              POSSESSION OF NARCOTICS PARAPHERNALIA    Tuesday   \n",
       "17964                                  STOLEN MOTORCYCLE    Tuesday   \n",
       "17972                                       STOLEN TRUCK    Tuesday   \n",
       "17998        BURGLARY OF APARTMENT HOUSE, FORCIBLE ENTRY    Tuesday   \n",
       "17999                                       STOLEN TRUCK    Tuesday   \n",
       "\n",
       "       PdDistrict       Resolution                       Address           X  \\\n",
       "6       INGLESIDE             NONE           AVALON AV / PERU AV -122.423327   \n",
       "7         BAYVIEW             NONE      KIRKWOOD AV / DONAHUE ST -122.371274   \n",
       "46      INGLESIDE             NONE        0 Block of CRESCENT AV -122.423702   \n",
       "49           PARK   ARREST, BOOKED       1500 Block of HAIGHT ST -122.447761   \n",
       "59        CENTRAL             NONE         0 Block of SANSOME ST -122.400720   \n",
       "60        CENTRAL             NONE         0 Block of SANSOME ST -122.400720   \n",
       "73        MISSION             NONE         26TH ST / GUERRERO ST -122.422572   \n",
       "87        BAYVIEW             NONE       1300 Block of FELTON ST -122.417938   \n",
       "97       SOUTHERN             NONE             0 Block of 6TH ST -122.409504   \n",
       "104      SOUTHERN   ARREST, BOOKED       1200 Block of MARKET ST -122.415449   \n",
       "107       BAYVIEW             NONE       0 Block of WHITFIELD CT -122.381838   \n",
       "124       CENTRAL             NONE         600 Block of JONES ST -122.413299   \n",
       "125      SOUTHERN   ARREST, BOOKED            6TH ST / NATOMA ST -122.407693   \n",
       "129      NORTHERN             NONE         500 Block of GROVE ST -122.425635   \n",
       "133       MISSION             NONE          16TH ST / SANCHEZ ST -122.430883   \n",
       "146      NORTHERN             NONE        SUTTER ST / WEBSTER ST -122.431553   \n",
       "158      NORTHERN             NONE   2400 Block of CALIFORNIA ST -122.434689   \n",
       "159      NORTHERN             NONE   2400 Block of CALIFORNIA ST -122.434689   \n",
       "173      NORTHERN             NONE   2000 Block of CALIFORNIA ST -122.428088   \n",
       "181      SOUTHERN             NONE        800 Block of FOLSOM ST -122.402344   \n",
       "184          PARK   ARREST, BOOKED       1600 Block of HAIGHT ST -122.449123   \n",
       "185          PARK   ARREST, BOOKED       1600 Block of HAIGHT ST -122.449123   \n",
       "189     INGLESIDE             NONE       700 Block of MIRAMAR AV -122.458343   \n",
       "191      RICHMOND             NONE          700 Block of 45TH AV -122.505883   \n",
       "208     INGLESIDE             NONE       100 Block of MELROSE AV -122.445070   \n",
       "209     INGLESIDE             NONE      100 Block of APPLETON AV -122.423071   \n",
       "210       TARAVAL             NONE     200 Block of CRESTLAKE DR -122.484546   \n",
       "220       MISSION   ARREST, BOOKED          17TH ST / MISSION ST -122.419516   \n",
       "223       MISSION   ARREST, BOOKED          17TH ST / MISSION ST -122.419516   \n",
       "226      NORTHERN             NONE     2300 Block of FILLMORE ST -122.434362   \n",
       "...           ...              ...                           ...         ...   \n",
       "17781     BAYVIEW   ARREST, BOOKED      1500 Block of WALLACE AV -122.390231   \n",
       "17782     BAYVIEW   ARREST, BOOKED      1500 Block of WALLACE AV -122.390231   \n",
       "17808   INGLESIDE             NONE        LYELL ST / BOSWORTH ST -122.431956   \n",
       "17827        PARK             NONE          500 Block of COLE ST -122.450379   \n",
       "17831   INGLESIDE             NONE       EXCELSIOR AV / PARIS ST -122.432055   \n",
       "17836   INGLESIDE             NONE      1200 Block of ALEMANY BL -122.432385   \n",
       "17848     CENTRAL             NONE     2200 Block of STOCKTON ST -122.410338   \n",
       "17855     CENTRAL             NONE          700 Block of POST ST -122.414179   \n",
       "17859    RICHMOND             NONE             PINE ST / LYON ST -122.445209   \n",
       "17866     BAYVIEW             NONE       300 Block of WAYLAND ST -122.405566   \n",
       "17867    SOUTHERN             NONE       800 Block of MISSION ST -122.405396   \n",
       "17868    SOUTHERN             NONE  0 Block of SOUTH VAN NESS AV -122.418338   \n",
       "17874    RICHMOND             NONE          400 Block of 18TH AV -122.477238   \n",
       "17879    NORTHERN             NONE        300 Block of LARKIN ST -122.416980   \n",
       "17883    SOUTHERN             NONE        800 Block of FOLSOM ST -122.402344   \n",
       "17893   INGLESIDE   ARREST, BOOKED      4900 Block of MISSION ST -122.438695   \n",
       "17904        PARK             NONE      1100 Block of ASHBURY ST -122.446726   \n",
       "17913   INGLESIDE             NONE       SANJUAN AV / MISSION ST -122.435312   \n",
       "17922  TENDERLOIN             NONE      200 Block of OFARRELL ST -122.408496   \n",
       "17925    NORTHERN             NONE         300 Block of GROVE ST -122.422370   \n",
       "17937  TENDERLOIN  JUVENILE BOOKED      700 Block of OFARRELL ST -122.417085   \n",
       "17943     BAYVIEW             NONE           900 Block of KEY AV -122.395488   \n",
       "17945     BAYVIEW             NONE     800 Block of JAMESTOWN AV -122.390418   \n",
       "17946     MISSION             NONE       1600 Block of BRYANT ST -122.410478   \n",
       "17949    NORTHERN   ARREST, BOOKED           200 Block of OAK ST -122.423371   \n",
       "17959  TENDERLOIN   ARREST, BOOKED          100 Block of EDDY ST -122.410135   \n",
       "17964        PARK             NONE      500 Block of PANORAMA DR -122.450495   \n",
       "17972     TARAVAL        UNFOUNDED            IRVING ST / 8TH AV -122.465245   \n",
       "17998    NORTHERN             NONE          0 Block of WALLER ST -122.424529   \n",
       "17999   INGLESIDE             NONE     1600 Block of VALENCIA ST -122.420006   \n",
       "\n",
       "               Y  hour  month  year  \n",
       "6      37.725138    23      5  2015  \n",
       "7      37.727564    23      5  2015  \n",
       "46     37.735233    20      5  2015  \n",
       "49     37.769846    19      5  2015  \n",
       "59     37.790712    19      5  2015  \n",
       "60     37.790712    19      5  2015  \n",
       "73     37.748774    19      5  2015  \n",
       "87     37.726605    18      5  2015  \n",
       "97     37.781526    18      5  2015  \n",
       "104    37.778294    17      5  2015  \n",
       "107    37.731104    17      5  2015  \n",
       "124    37.787058    17      5  2015  \n",
       "125    37.780163    17      5  2015  \n",
       "129    37.777439    17      5  2015  \n",
       "133    37.764373    17      5  2015  \n",
       "146    37.786304    16      5  2015  \n",
       "158    37.788854    15      5  2015  \n",
       "159    37.788854    15      5  2015  \n",
       "173    37.789582    15      5  2015  \n",
       "181    37.781167    14      5  2015  \n",
       "184    37.769784    14      5  2015  \n",
       "185    37.769784    14      5  2015  \n",
       "189    37.729775    14      5  2015  \n",
       "191    37.774369    14      5  2015  \n",
       "208    37.733750    14      5  2015  \n",
       "209    37.738549    14      5  2015  \n",
       "210    37.735113    14      5  2015  \n",
       "220    37.763429    13      5  2015  \n",
       "223    37.763429    13      5  2015  \n",
       "226    37.791151    13      5  2015  \n",
       "...          ...   ...    ...   ...  \n",
       "17781  37.726911    12      2  2015  \n",
       "17782  37.726911    12      2  2015  \n",
       "17808  37.732993    11      2  2015  \n",
       "17827  37.770036    10      2  2015  \n",
       "17831  37.725487    10      2  2015  \n",
       "17836  37.730340    10      2  2015  \n",
       "17848  37.806513     9      2  2015  \n",
       "17855  37.787502     8      2  2015  \n",
       "17859  37.786481     8      2  2015  \n",
       "17866  37.725732     8      2  2015  \n",
       "17867  37.783510     8      2  2015  \n",
       "17868  37.772664     8      2  2015  \n",
       "17874  37.779451     7      2  2015  \n",
       "17879  37.780977     6      2  2015  \n",
       "17883  37.781167     5      2  2015  \n",
       "17893  37.719692     3      2  2015  \n",
       "17904  37.763214     2      2  2015  \n",
       "17913  37.724005     1      2  2015  \n",
       "17922  37.786296     0      2  2015  \n",
       "17925  37.777970     0      2  2015  \n",
       "17937  37.785215    22      2  2015  \n",
       "17943  37.718577    22      2  2015  \n",
       "17945  37.716506    22      2  2015  \n",
       "17946  37.766246    22      2  2015  \n",
       "17949  37.774867    22      2  2015  \n",
       "17959  37.784189    21      2  2015  \n",
       "17964  37.753198    21      2  2015  \n",
       "17972  37.764082    21      2  2015  \n",
       "17998  37.771841    20      2  2015  \n",
       "17999  37.745987    20      2  2015  \n",
       "\n",
       "[2195 rows x 12 columns]"
      ]
     },
     "execution_count": 6,
     "metadata": {},
     "output_type": "execute_result"
    }
   ],
   "source": [
    "sf_crime_sub"
   ]
  },
  {
   "cell_type": "markdown",
   "metadata": {
    "slideshow": {
     "slide_type": "slide"
    }
   },
   "source": [
    "## Check the total number of districts"
   ]
  },
  {
   "cell_type": "code",
   "execution_count": 7,
   "metadata": {
    "collapsed": false,
    "slideshow": {
     "slide_type": "-"
    }
   },
   "outputs": [
    {
     "data": {
      "text/plain": [
       "array(['INGLESIDE', 'BAYVIEW', 'PARK', 'CENTRAL', 'MISSION', 'SOUTHERN',\n",
       "       'NORTHERN', 'RICHMOND', 'TARAVAL', 'TENDERLOIN'], dtype=object)"
      ]
     },
     "execution_count": 7,
     "metadata": {},
     "output_type": "execute_result"
    }
   ],
   "source": [
    "sf_crime_sub['PdDistrict'].unique()"
   ]
  },
  {
   "cell_type": "code",
   "execution_count": 8,
   "metadata": {
    "collapsed": false,
    "slideshow": {
     "slide_type": "-"
    }
   },
   "outputs": [
    {
     "data": {
      "text/plain": [
       "10"
      ]
     },
     "execution_count": 8,
     "metadata": {},
     "output_type": "execute_result"
    }
   ],
   "source": [
    "sf_crime_sub['PdDistrict'].nunique()"
   ]
  },
  {
   "cell_type": "markdown",
   "metadata": {
    "slideshow": {
     "slide_type": "slide"
    }
   },
   "source": [
    "## Set up our design matrix and target vector with Patsy"
   ]
  },
  {
   "cell_type": "markdown",
   "metadata": {
    "slideshow": {
     "slide_type": "fragment"
    }
   },
   "source": [
    "### Patsy allows us to use R-style formulas to do this "
   ]
  },
  {
   "cell_type": "code",
   "execution_count": 145,
   "metadata": {
    "collapsed": false,
    "slideshow": {
     "slide_type": "-"
    }
   },
   "outputs": [],
   "source": [
    "X = patsy.dmatrix('~ C(hour) + C(DayOfWeek) + C(PdDistrict)', sf_crime_sub)\n",
    "y = sf_crime_sub['Category'].values"
   ]
  },
  {
   "cell_type": "code",
   "execution_count": 146,
   "metadata": {
    "collapsed": false,
    "scrolled": true,
    "slideshow": {
     "slide_type": "slide"
    }
   },
   "outputs": [
    {
     "data": {
      "text/plain": [
       "array(['VEHICLE THEFT', 'VEHICLE THEFT', 'VEHICLE THEFT', ...,\n",
       "       'VEHICLE THEFT', 'BURGLARY', 'VEHICLE THEFT'], dtype=object)"
      ]
     },
     "execution_count": 146,
     "metadata": {},
     "output_type": "execute_result"
    }
   ],
   "source": [
    "y"
   ]
  },
  {
   "cell_type": "code",
   "execution_count": 147,
   "metadata": {
    "collapsed": false,
    "scrolled": true,
    "slideshow": {
     "slide_type": "fragment"
    }
   },
   "outputs": [
    {
     "data": {
      "text/plain": [
       "['Intercept',\n",
       " 'C(hour)[T.1]',\n",
       " 'C(hour)[T.2]',\n",
       " 'C(hour)[T.3]',\n",
       " 'C(hour)[T.4]',\n",
       " 'C(hour)[T.5]',\n",
       " 'C(hour)[T.6]',\n",
       " 'C(hour)[T.7]',\n",
       " 'C(hour)[T.8]',\n",
       " 'C(hour)[T.9]',\n",
       " 'C(hour)[T.10]',\n",
       " 'C(hour)[T.11]',\n",
       " 'C(hour)[T.12]',\n",
       " 'C(hour)[T.13]',\n",
       " 'C(hour)[T.14]',\n",
       " 'C(hour)[T.15]',\n",
       " 'C(hour)[T.16]',\n",
       " 'C(hour)[T.17]',\n",
       " 'C(hour)[T.18]',\n",
       " 'C(hour)[T.19]',\n",
       " 'C(hour)[T.20]',\n",
       " 'C(hour)[T.21]',\n",
       " 'C(hour)[T.22]',\n",
       " 'C(hour)[T.23]',\n",
       " 'C(DayOfWeek)[T.Monday]',\n",
       " 'C(DayOfWeek)[T.Saturday]',\n",
       " 'C(DayOfWeek)[T.Sunday]',\n",
       " 'C(DayOfWeek)[T.Thursday]',\n",
       " 'C(DayOfWeek)[T.Tuesday]',\n",
       " 'C(DayOfWeek)[T.Wednesday]',\n",
       " 'C(PdDistrict)[T.CENTRAL]',\n",
       " 'C(PdDistrict)[T.INGLESIDE]',\n",
       " 'C(PdDistrict)[T.MISSION]',\n",
       " 'C(PdDistrict)[T.NORTHERN]',\n",
       " 'C(PdDistrict)[T.PARK]',\n",
       " 'C(PdDistrict)[T.RICHMOND]',\n",
       " 'C(PdDistrict)[T.SOUTHERN]',\n",
       " 'C(PdDistrict)[T.TARAVAL]',\n",
       " 'C(PdDistrict)[T.TENDERLOIN]']"
      ]
     },
     "execution_count": 147,
     "metadata": {},
     "output_type": "execute_result"
    }
   ],
   "source": [
    "X.design_info.column_names"
   ]
  },
  {
   "cell_type": "markdown",
   "metadata": {
    "slideshow": {
     "slide_type": "slide"
    }
   },
   "source": [
    "## Let's look at our design matrix as a DataFrame"
   ]
  },
  {
   "cell_type": "code",
   "execution_count": 148,
   "metadata": {
    "collapsed": false,
    "scrolled": true,
    "slideshow": {
     "slide_type": "-"
    }
   },
   "outputs": [
    {
     "data": {
      "text/html": [
       "<div>\n",
       "<table border=\"1\" class=\"dataframe\">\n",
       "  <thead>\n",
       "    <tr style=\"text-align: right;\">\n",
       "      <th></th>\n",
       "      <th>Intercept</th>\n",
       "      <th>C(hour)[T.1]</th>\n",
       "      <th>C(hour)[T.2]</th>\n",
       "      <th>C(hour)[T.3]</th>\n",
       "      <th>C(hour)[T.4]</th>\n",
       "      <th>C(hour)[T.5]</th>\n",
       "      <th>C(hour)[T.6]</th>\n",
       "      <th>C(hour)[T.7]</th>\n",
       "      <th>C(hour)[T.8]</th>\n",
       "      <th>C(hour)[T.9]</th>\n",
       "      <th>...</th>\n",
       "      <th>C(PdDistrict)[T.CENTRAL]</th>\n",
       "      <th>C(PdDistrict)[T.INGLESIDE]</th>\n",
       "      <th>C(PdDistrict)[T.MISSION]</th>\n",
       "      <th>C(PdDistrict)[T.NORTHERN]</th>\n",
       "      <th>C(PdDistrict)[T.PARK]</th>\n",
       "      <th>C(PdDistrict)[T.RICHMOND]</th>\n",
       "      <th>C(PdDistrict)[T.SOUTHERN]</th>\n",
       "      <th>C(PdDistrict)[T.TARAVAL]</th>\n",
       "      <th>C(PdDistrict)[T.TENDERLOIN]</th>\n",
       "      <th>Target</th>\n",
       "    </tr>\n",
       "  </thead>\n",
       "  <tbody>\n",
       "    <tr>\n",
       "      <th>0</th>\n",
       "      <td>1.0</td>\n",
       "      <td>0.0</td>\n",
       "      <td>0.0</td>\n",
       "      <td>0.0</td>\n",
       "      <td>0.0</td>\n",
       "      <td>0.0</td>\n",
       "      <td>0.0</td>\n",
       "      <td>0.0</td>\n",
       "      <td>0.0</td>\n",
       "      <td>0.0</td>\n",
       "      <td>...</td>\n",
       "      <td>0.0</td>\n",
       "      <td>1.0</td>\n",
       "      <td>0.0</td>\n",
       "      <td>0.0</td>\n",
       "      <td>0.0</td>\n",
       "      <td>0.0</td>\n",
       "      <td>0.0</td>\n",
       "      <td>0.0</td>\n",
       "      <td>0.0</td>\n",
       "      <td>VEHICLE THEFT</td>\n",
       "    </tr>\n",
       "    <tr>\n",
       "      <th>1</th>\n",
       "      <td>1.0</td>\n",
       "      <td>0.0</td>\n",
       "      <td>0.0</td>\n",
       "      <td>0.0</td>\n",
       "      <td>0.0</td>\n",
       "      <td>0.0</td>\n",
       "      <td>0.0</td>\n",
       "      <td>0.0</td>\n",
       "      <td>0.0</td>\n",
       "      <td>0.0</td>\n",
       "      <td>...</td>\n",
       "      <td>0.0</td>\n",
       "      <td>0.0</td>\n",
       "      <td>0.0</td>\n",
       "      <td>0.0</td>\n",
       "      <td>0.0</td>\n",
       "      <td>0.0</td>\n",
       "      <td>0.0</td>\n",
       "      <td>0.0</td>\n",
       "      <td>0.0</td>\n",
       "      <td>VEHICLE THEFT</td>\n",
       "    </tr>\n",
       "    <tr>\n",
       "      <th>2</th>\n",
       "      <td>1.0</td>\n",
       "      <td>0.0</td>\n",
       "      <td>0.0</td>\n",
       "      <td>0.0</td>\n",
       "      <td>0.0</td>\n",
       "      <td>0.0</td>\n",
       "      <td>0.0</td>\n",
       "      <td>0.0</td>\n",
       "      <td>0.0</td>\n",
       "      <td>0.0</td>\n",
       "      <td>...</td>\n",
       "      <td>0.0</td>\n",
       "      <td>1.0</td>\n",
       "      <td>0.0</td>\n",
       "      <td>0.0</td>\n",
       "      <td>0.0</td>\n",
       "      <td>0.0</td>\n",
       "      <td>0.0</td>\n",
       "      <td>0.0</td>\n",
       "      <td>0.0</td>\n",
       "      <td>VEHICLE THEFT</td>\n",
       "    </tr>\n",
       "    <tr>\n",
       "      <th>3</th>\n",
       "      <td>1.0</td>\n",
       "      <td>0.0</td>\n",
       "      <td>0.0</td>\n",
       "      <td>0.0</td>\n",
       "      <td>0.0</td>\n",
       "      <td>0.0</td>\n",
       "      <td>0.0</td>\n",
       "      <td>0.0</td>\n",
       "      <td>0.0</td>\n",
       "      <td>0.0</td>\n",
       "      <td>...</td>\n",
       "      <td>0.0</td>\n",
       "      <td>0.0</td>\n",
       "      <td>0.0</td>\n",
       "      <td>0.0</td>\n",
       "      <td>1.0</td>\n",
       "      <td>0.0</td>\n",
       "      <td>0.0</td>\n",
       "      <td>0.0</td>\n",
       "      <td>0.0</td>\n",
       "      <td>BURGLARY</td>\n",
       "    </tr>\n",
       "    <tr>\n",
       "      <th>4</th>\n",
       "      <td>1.0</td>\n",
       "      <td>0.0</td>\n",
       "      <td>0.0</td>\n",
       "      <td>0.0</td>\n",
       "      <td>0.0</td>\n",
       "      <td>0.0</td>\n",
       "      <td>0.0</td>\n",
       "      <td>0.0</td>\n",
       "      <td>0.0</td>\n",
       "      <td>0.0</td>\n",
       "      <td>...</td>\n",
       "      <td>1.0</td>\n",
       "      <td>0.0</td>\n",
       "      <td>0.0</td>\n",
       "      <td>0.0</td>\n",
       "      <td>0.0</td>\n",
       "      <td>0.0</td>\n",
       "      <td>0.0</td>\n",
       "      <td>0.0</td>\n",
       "      <td>0.0</td>\n",
       "      <td>VEHICLE THEFT</td>\n",
       "    </tr>\n",
       "    <tr>\n",
       "      <th>5</th>\n",
       "      <td>1.0</td>\n",
       "      <td>0.0</td>\n",
       "      <td>0.0</td>\n",
       "      <td>0.0</td>\n",
       "      <td>0.0</td>\n",
       "      <td>0.0</td>\n",
       "      <td>0.0</td>\n",
       "      <td>0.0</td>\n",
       "      <td>0.0</td>\n",
       "      <td>0.0</td>\n",
       "      <td>...</td>\n",
       "      <td>1.0</td>\n",
       "      <td>0.0</td>\n",
       "      <td>0.0</td>\n",
       "      <td>0.0</td>\n",
       "      <td>0.0</td>\n",
       "      <td>0.0</td>\n",
       "      <td>0.0</td>\n",
       "      <td>0.0</td>\n",
       "      <td>0.0</td>\n",
       "      <td>VEHICLE THEFT</td>\n",
       "    </tr>\n",
       "    <tr>\n",
       "      <th>6</th>\n",
       "      <td>1.0</td>\n",
       "      <td>0.0</td>\n",
       "      <td>0.0</td>\n",
       "      <td>0.0</td>\n",
       "      <td>0.0</td>\n",
       "      <td>0.0</td>\n",
       "      <td>0.0</td>\n",
       "      <td>0.0</td>\n",
       "      <td>0.0</td>\n",
       "      <td>0.0</td>\n",
       "      <td>...</td>\n",
       "      <td>0.0</td>\n",
       "      <td>0.0</td>\n",
       "      <td>1.0</td>\n",
       "      <td>0.0</td>\n",
       "      <td>0.0</td>\n",
       "      <td>0.0</td>\n",
       "      <td>0.0</td>\n",
       "      <td>0.0</td>\n",
       "      <td>0.0</td>\n",
       "      <td>VEHICLE THEFT</td>\n",
       "    </tr>\n",
       "    <tr>\n",
       "      <th>7</th>\n",
       "      <td>1.0</td>\n",
       "      <td>0.0</td>\n",
       "      <td>0.0</td>\n",
       "      <td>0.0</td>\n",
       "      <td>0.0</td>\n",
       "      <td>0.0</td>\n",
       "      <td>0.0</td>\n",
       "      <td>0.0</td>\n",
       "      <td>0.0</td>\n",
       "      <td>0.0</td>\n",
       "      <td>...</td>\n",
       "      <td>0.0</td>\n",
       "      <td>0.0</td>\n",
       "      <td>0.0</td>\n",
       "      <td>0.0</td>\n",
       "      <td>0.0</td>\n",
       "      <td>0.0</td>\n",
       "      <td>0.0</td>\n",
       "      <td>0.0</td>\n",
       "      <td>0.0</td>\n",
       "      <td>BURGLARY</td>\n",
       "    </tr>\n",
       "    <tr>\n",
       "      <th>8</th>\n",
       "      <td>1.0</td>\n",
       "      <td>0.0</td>\n",
       "      <td>0.0</td>\n",
       "      <td>0.0</td>\n",
       "      <td>0.0</td>\n",
       "      <td>0.0</td>\n",
       "      <td>0.0</td>\n",
       "      <td>0.0</td>\n",
       "      <td>0.0</td>\n",
       "      <td>0.0</td>\n",
       "      <td>...</td>\n",
       "      <td>0.0</td>\n",
       "      <td>0.0</td>\n",
       "      <td>0.0</td>\n",
       "      <td>0.0</td>\n",
       "      <td>0.0</td>\n",
       "      <td>0.0</td>\n",
       "      <td>1.0</td>\n",
       "      <td>0.0</td>\n",
       "      <td>0.0</td>\n",
       "      <td>BURGLARY</td>\n",
       "    </tr>\n",
       "    <tr>\n",
       "      <th>9</th>\n",
       "      <td>1.0</td>\n",
       "      <td>0.0</td>\n",
       "      <td>0.0</td>\n",
       "      <td>0.0</td>\n",
       "      <td>0.0</td>\n",
       "      <td>0.0</td>\n",
       "      <td>0.0</td>\n",
       "      <td>0.0</td>\n",
       "      <td>0.0</td>\n",
       "      <td>0.0</td>\n",
       "      <td>...</td>\n",
       "      <td>0.0</td>\n",
       "      <td>0.0</td>\n",
       "      <td>0.0</td>\n",
       "      <td>0.0</td>\n",
       "      <td>0.0</td>\n",
       "      <td>0.0</td>\n",
       "      <td>1.0</td>\n",
       "      <td>0.0</td>\n",
       "      <td>0.0</td>\n",
       "      <td>BURGLARY</td>\n",
       "    </tr>\n",
       "    <tr>\n",
       "      <th>10</th>\n",
       "      <td>1.0</td>\n",
       "      <td>0.0</td>\n",
       "      <td>0.0</td>\n",
       "      <td>0.0</td>\n",
       "      <td>0.0</td>\n",
       "      <td>0.0</td>\n",
       "      <td>0.0</td>\n",
       "      <td>0.0</td>\n",
       "      <td>0.0</td>\n",
       "      <td>0.0</td>\n",
       "      <td>...</td>\n",
       "      <td>0.0</td>\n",
       "      <td>0.0</td>\n",
       "      <td>0.0</td>\n",
       "      <td>0.0</td>\n",
       "      <td>0.0</td>\n",
       "      <td>0.0</td>\n",
       "      <td>0.0</td>\n",
       "      <td>0.0</td>\n",
       "      <td>0.0</td>\n",
       "      <td>DRUG/NARCOTIC</td>\n",
       "    </tr>\n",
       "    <tr>\n",
       "      <th>11</th>\n",
       "      <td>1.0</td>\n",
       "      <td>0.0</td>\n",
       "      <td>0.0</td>\n",
       "      <td>0.0</td>\n",
       "      <td>0.0</td>\n",
       "      <td>0.0</td>\n",
       "      <td>0.0</td>\n",
       "      <td>0.0</td>\n",
       "      <td>0.0</td>\n",
       "      <td>0.0</td>\n",
       "      <td>...</td>\n",
       "      <td>1.0</td>\n",
       "      <td>0.0</td>\n",
       "      <td>0.0</td>\n",
       "      <td>0.0</td>\n",
       "      <td>0.0</td>\n",
       "      <td>0.0</td>\n",
       "      <td>0.0</td>\n",
       "      <td>0.0</td>\n",
       "      <td>0.0</td>\n",
       "      <td>BURGLARY</td>\n",
       "    </tr>\n",
       "    <tr>\n",
       "      <th>12</th>\n",
       "      <td>1.0</td>\n",
       "      <td>0.0</td>\n",
       "      <td>0.0</td>\n",
       "      <td>0.0</td>\n",
       "      <td>0.0</td>\n",
       "      <td>0.0</td>\n",
       "      <td>0.0</td>\n",
       "      <td>0.0</td>\n",
       "      <td>0.0</td>\n",
       "      <td>0.0</td>\n",
       "      <td>...</td>\n",
       "      <td>0.0</td>\n",
       "      <td>0.0</td>\n",
       "      <td>0.0</td>\n",
       "      <td>0.0</td>\n",
       "      <td>0.0</td>\n",
       "      <td>0.0</td>\n",
       "      <td>1.0</td>\n",
       "      <td>0.0</td>\n",
       "      <td>0.0</td>\n",
       "      <td>DRUG/NARCOTIC</td>\n",
       "    </tr>\n",
       "    <tr>\n",
       "      <th>13</th>\n",
       "      <td>1.0</td>\n",
       "      <td>0.0</td>\n",
       "      <td>0.0</td>\n",
       "      <td>0.0</td>\n",
       "      <td>0.0</td>\n",
       "      <td>0.0</td>\n",
       "      <td>0.0</td>\n",
       "      <td>0.0</td>\n",
       "      <td>0.0</td>\n",
       "      <td>0.0</td>\n",
       "      <td>...</td>\n",
       "      <td>0.0</td>\n",
       "      <td>0.0</td>\n",
       "      <td>0.0</td>\n",
       "      <td>1.0</td>\n",
       "      <td>0.0</td>\n",
       "      <td>0.0</td>\n",
       "      <td>0.0</td>\n",
       "      <td>0.0</td>\n",
       "      <td>0.0</td>\n",
       "      <td>BURGLARY</td>\n",
       "    </tr>\n",
       "    <tr>\n",
       "      <th>14</th>\n",
       "      <td>1.0</td>\n",
       "      <td>0.0</td>\n",
       "      <td>0.0</td>\n",
       "      <td>0.0</td>\n",
       "      <td>0.0</td>\n",
       "      <td>0.0</td>\n",
       "      <td>0.0</td>\n",
       "      <td>0.0</td>\n",
       "      <td>0.0</td>\n",
       "      <td>0.0</td>\n",
       "      <td>...</td>\n",
       "      <td>0.0</td>\n",
       "      <td>0.0</td>\n",
       "      <td>1.0</td>\n",
       "      <td>0.0</td>\n",
       "      <td>0.0</td>\n",
       "      <td>0.0</td>\n",
       "      <td>0.0</td>\n",
       "      <td>0.0</td>\n",
       "      <td>0.0</td>\n",
       "      <td>VEHICLE THEFT</td>\n",
       "    </tr>\n",
       "    <tr>\n",
       "      <th>15</th>\n",
       "      <td>1.0</td>\n",
       "      <td>0.0</td>\n",
       "      <td>0.0</td>\n",
       "      <td>0.0</td>\n",
       "      <td>0.0</td>\n",
       "      <td>0.0</td>\n",
       "      <td>0.0</td>\n",
       "      <td>0.0</td>\n",
       "      <td>0.0</td>\n",
       "      <td>0.0</td>\n",
       "      <td>...</td>\n",
       "      <td>0.0</td>\n",
       "      <td>0.0</td>\n",
       "      <td>0.0</td>\n",
       "      <td>1.0</td>\n",
       "      <td>0.0</td>\n",
       "      <td>0.0</td>\n",
       "      <td>0.0</td>\n",
       "      <td>0.0</td>\n",
       "      <td>0.0</td>\n",
       "      <td>VEHICLE THEFT</td>\n",
       "    </tr>\n",
       "    <tr>\n",
       "      <th>16</th>\n",
       "      <td>1.0</td>\n",
       "      <td>0.0</td>\n",
       "      <td>0.0</td>\n",
       "      <td>0.0</td>\n",
       "      <td>0.0</td>\n",
       "      <td>0.0</td>\n",
       "      <td>0.0</td>\n",
       "      <td>0.0</td>\n",
       "      <td>0.0</td>\n",
       "      <td>0.0</td>\n",
       "      <td>...</td>\n",
       "      <td>0.0</td>\n",
       "      <td>0.0</td>\n",
       "      <td>0.0</td>\n",
       "      <td>1.0</td>\n",
       "      <td>0.0</td>\n",
       "      <td>0.0</td>\n",
       "      <td>0.0</td>\n",
       "      <td>0.0</td>\n",
       "      <td>0.0</td>\n",
       "      <td>VEHICLE THEFT</td>\n",
       "    </tr>\n",
       "    <tr>\n",
       "      <th>17</th>\n",
       "      <td>1.0</td>\n",
       "      <td>0.0</td>\n",
       "      <td>0.0</td>\n",
       "      <td>0.0</td>\n",
       "      <td>0.0</td>\n",
       "      <td>0.0</td>\n",
       "      <td>0.0</td>\n",
       "      <td>0.0</td>\n",
       "      <td>0.0</td>\n",
       "      <td>0.0</td>\n",
       "      <td>...</td>\n",
       "      <td>0.0</td>\n",
       "      <td>0.0</td>\n",
       "      <td>0.0</td>\n",
       "      <td>1.0</td>\n",
       "      <td>0.0</td>\n",
       "      <td>0.0</td>\n",
       "      <td>0.0</td>\n",
       "      <td>0.0</td>\n",
       "      <td>0.0</td>\n",
       "      <td>VEHICLE THEFT</td>\n",
       "    </tr>\n",
       "    <tr>\n",
       "      <th>18</th>\n",
       "      <td>1.0</td>\n",
       "      <td>0.0</td>\n",
       "      <td>0.0</td>\n",
       "      <td>0.0</td>\n",
       "      <td>0.0</td>\n",
       "      <td>0.0</td>\n",
       "      <td>0.0</td>\n",
       "      <td>0.0</td>\n",
       "      <td>0.0</td>\n",
       "      <td>0.0</td>\n",
       "      <td>...</td>\n",
       "      <td>0.0</td>\n",
       "      <td>0.0</td>\n",
       "      <td>0.0</td>\n",
       "      <td>1.0</td>\n",
       "      <td>0.0</td>\n",
       "      <td>0.0</td>\n",
       "      <td>0.0</td>\n",
       "      <td>0.0</td>\n",
       "      <td>0.0</td>\n",
       "      <td>VEHICLE THEFT</td>\n",
       "    </tr>\n",
       "    <tr>\n",
       "      <th>19</th>\n",
       "      <td>1.0</td>\n",
       "      <td>0.0</td>\n",
       "      <td>0.0</td>\n",
       "      <td>0.0</td>\n",
       "      <td>0.0</td>\n",
       "      <td>0.0</td>\n",
       "      <td>0.0</td>\n",
       "      <td>0.0</td>\n",
       "      <td>0.0</td>\n",
       "      <td>0.0</td>\n",
       "      <td>...</td>\n",
       "      <td>0.0</td>\n",
       "      <td>0.0</td>\n",
       "      <td>0.0</td>\n",
       "      <td>0.0</td>\n",
       "      <td>0.0</td>\n",
       "      <td>0.0</td>\n",
       "      <td>1.0</td>\n",
       "      <td>0.0</td>\n",
       "      <td>0.0</td>\n",
       "      <td>BURGLARY</td>\n",
       "    </tr>\n",
       "    <tr>\n",
       "      <th>20</th>\n",
       "      <td>1.0</td>\n",
       "      <td>0.0</td>\n",
       "      <td>0.0</td>\n",
       "      <td>0.0</td>\n",
       "      <td>0.0</td>\n",
       "      <td>0.0</td>\n",
       "      <td>0.0</td>\n",
       "      <td>0.0</td>\n",
       "      <td>0.0</td>\n",
       "      <td>0.0</td>\n",
       "      <td>...</td>\n",
       "      <td>0.0</td>\n",
       "      <td>0.0</td>\n",
       "      <td>0.0</td>\n",
       "      <td>0.0</td>\n",
       "      <td>1.0</td>\n",
       "      <td>0.0</td>\n",
       "      <td>0.0</td>\n",
       "      <td>0.0</td>\n",
       "      <td>0.0</td>\n",
       "      <td>DRUG/NARCOTIC</td>\n",
       "    </tr>\n",
       "    <tr>\n",
       "      <th>21</th>\n",
       "      <td>1.0</td>\n",
       "      <td>0.0</td>\n",
       "      <td>0.0</td>\n",
       "      <td>0.0</td>\n",
       "      <td>0.0</td>\n",
       "      <td>0.0</td>\n",
       "      <td>0.0</td>\n",
       "      <td>0.0</td>\n",
       "      <td>0.0</td>\n",
       "      <td>0.0</td>\n",
       "      <td>...</td>\n",
       "      <td>0.0</td>\n",
       "      <td>0.0</td>\n",
       "      <td>0.0</td>\n",
       "      <td>0.0</td>\n",
       "      <td>1.0</td>\n",
       "      <td>0.0</td>\n",
       "      <td>0.0</td>\n",
       "      <td>0.0</td>\n",
       "      <td>0.0</td>\n",
       "      <td>DRUG/NARCOTIC</td>\n",
       "    </tr>\n",
       "    <tr>\n",
       "      <th>22</th>\n",
       "      <td>1.0</td>\n",
       "      <td>0.0</td>\n",
       "      <td>0.0</td>\n",
       "      <td>0.0</td>\n",
       "      <td>0.0</td>\n",
       "      <td>0.0</td>\n",
       "      <td>0.0</td>\n",
       "      <td>0.0</td>\n",
       "      <td>0.0</td>\n",
       "      <td>0.0</td>\n",
       "      <td>...</td>\n",
       "      <td>0.0</td>\n",
       "      <td>1.0</td>\n",
       "      <td>0.0</td>\n",
       "      <td>0.0</td>\n",
       "      <td>0.0</td>\n",
       "      <td>0.0</td>\n",
       "      <td>0.0</td>\n",
       "      <td>0.0</td>\n",
       "      <td>0.0</td>\n",
       "      <td>BURGLARY</td>\n",
       "    </tr>\n",
       "    <tr>\n",
       "      <th>23</th>\n",
       "      <td>1.0</td>\n",
       "      <td>0.0</td>\n",
       "      <td>0.0</td>\n",
       "      <td>0.0</td>\n",
       "      <td>0.0</td>\n",
       "      <td>0.0</td>\n",
       "      <td>0.0</td>\n",
       "      <td>0.0</td>\n",
       "      <td>0.0</td>\n",
       "      <td>0.0</td>\n",
       "      <td>...</td>\n",
       "      <td>0.0</td>\n",
       "      <td>0.0</td>\n",
       "      <td>0.0</td>\n",
       "      <td>0.0</td>\n",
       "      <td>0.0</td>\n",
       "      <td>1.0</td>\n",
       "      <td>0.0</td>\n",
       "      <td>0.0</td>\n",
       "      <td>0.0</td>\n",
       "      <td>VEHICLE THEFT</td>\n",
       "    </tr>\n",
       "    <tr>\n",
       "      <th>24</th>\n",
       "      <td>1.0</td>\n",
       "      <td>0.0</td>\n",
       "      <td>0.0</td>\n",
       "      <td>0.0</td>\n",
       "      <td>0.0</td>\n",
       "      <td>0.0</td>\n",
       "      <td>0.0</td>\n",
       "      <td>0.0</td>\n",
       "      <td>0.0</td>\n",
       "      <td>0.0</td>\n",
       "      <td>...</td>\n",
       "      <td>0.0</td>\n",
       "      <td>1.0</td>\n",
       "      <td>0.0</td>\n",
       "      <td>0.0</td>\n",
       "      <td>0.0</td>\n",
       "      <td>0.0</td>\n",
       "      <td>0.0</td>\n",
       "      <td>0.0</td>\n",
       "      <td>0.0</td>\n",
       "      <td>BURGLARY</td>\n",
       "    </tr>\n",
       "    <tr>\n",
       "      <th>25</th>\n",
       "      <td>1.0</td>\n",
       "      <td>0.0</td>\n",
       "      <td>0.0</td>\n",
       "      <td>0.0</td>\n",
       "      <td>0.0</td>\n",
       "      <td>0.0</td>\n",
       "      <td>0.0</td>\n",
       "      <td>0.0</td>\n",
       "      <td>0.0</td>\n",
       "      <td>0.0</td>\n",
       "      <td>...</td>\n",
       "      <td>0.0</td>\n",
       "      <td>1.0</td>\n",
       "      <td>0.0</td>\n",
       "      <td>0.0</td>\n",
       "      <td>0.0</td>\n",
       "      <td>0.0</td>\n",
       "      <td>0.0</td>\n",
       "      <td>0.0</td>\n",
       "      <td>0.0</td>\n",
       "      <td>VEHICLE THEFT</td>\n",
       "    </tr>\n",
       "    <tr>\n",
       "      <th>26</th>\n",
       "      <td>1.0</td>\n",
       "      <td>0.0</td>\n",
       "      <td>0.0</td>\n",
       "      <td>0.0</td>\n",
       "      <td>0.0</td>\n",
       "      <td>0.0</td>\n",
       "      <td>0.0</td>\n",
       "      <td>0.0</td>\n",
       "      <td>0.0</td>\n",
       "      <td>0.0</td>\n",
       "      <td>...</td>\n",
       "      <td>0.0</td>\n",
       "      <td>0.0</td>\n",
       "      <td>0.0</td>\n",
       "      <td>0.0</td>\n",
       "      <td>0.0</td>\n",
       "      <td>0.0</td>\n",
       "      <td>0.0</td>\n",
       "      <td>1.0</td>\n",
       "      <td>0.0</td>\n",
       "      <td>BURGLARY</td>\n",
       "    </tr>\n",
       "    <tr>\n",
       "      <th>27</th>\n",
       "      <td>1.0</td>\n",
       "      <td>0.0</td>\n",
       "      <td>0.0</td>\n",
       "      <td>0.0</td>\n",
       "      <td>0.0</td>\n",
       "      <td>0.0</td>\n",
       "      <td>0.0</td>\n",
       "      <td>0.0</td>\n",
       "      <td>0.0</td>\n",
       "      <td>0.0</td>\n",
       "      <td>...</td>\n",
       "      <td>0.0</td>\n",
       "      <td>0.0</td>\n",
       "      <td>1.0</td>\n",
       "      <td>0.0</td>\n",
       "      <td>0.0</td>\n",
       "      <td>0.0</td>\n",
       "      <td>0.0</td>\n",
       "      <td>0.0</td>\n",
       "      <td>0.0</td>\n",
       "      <td>DRUG/NARCOTIC</td>\n",
       "    </tr>\n",
       "    <tr>\n",
       "      <th>28</th>\n",
       "      <td>1.0</td>\n",
       "      <td>0.0</td>\n",
       "      <td>0.0</td>\n",
       "      <td>0.0</td>\n",
       "      <td>0.0</td>\n",
       "      <td>0.0</td>\n",
       "      <td>0.0</td>\n",
       "      <td>0.0</td>\n",
       "      <td>0.0</td>\n",
       "      <td>0.0</td>\n",
       "      <td>...</td>\n",
       "      <td>0.0</td>\n",
       "      <td>0.0</td>\n",
       "      <td>1.0</td>\n",
       "      <td>0.0</td>\n",
       "      <td>0.0</td>\n",
       "      <td>0.0</td>\n",
       "      <td>0.0</td>\n",
       "      <td>0.0</td>\n",
       "      <td>0.0</td>\n",
       "      <td>DRUG/NARCOTIC</td>\n",
       "    </tr>\n",
       "    <tr>\n",
       "      <th>29</th>\n",
       "      <td>1.0</td>\n",
       "      <td>0.0</td>\n",
       "      <td>0.0</td>\n",
       "      <td>0.0</td>\n",
       "      <td>0.0</td>\n",
       "      <td>0.0</td>\n",
       "      <td>0.0</td>\n",
       "      <td>0.0</td>\n",
       "      <td>0.0</td>\n",
       "      <td>0.0</td>\n",
       "      <td>...</td>\n",
       "      <td>0.0</td>\n",
       "      <td>0.0</td>\n",
       "      <td>0.0</td>\n",
       "      <td>1.0</td>\n",
       "      <td>0.0</td>\n",
       "      <td>0.0</td>\n",
       "      <td>0.0</td>\n",
       "      <td>0.0</td>\n",
       "      <td>0.0</td>\n",
       "      <td>BURGLARY</td>\n",
       "    </tr>\n",
       "    <tr>\n",
       "      <th>...</th>\n",
       "      <td>...</td>\n",
       "      <td>...</td>\n",
       "      <td>...</td>\n",
       "      <td>...</td>\n",
       "      <td>...</td>\n",
       "      <td>...</td>\n",
       "      <td>...</td>\n",
       "      <td>...</td>\n",
       "      <td>...</td>\n",
       "      <td>...</td>\n",
       "      <td>...</td>\n",
       "      <td>...</td>\n",
       "      <td>...</td>\n",
       "      <td>...</td>\n",
       "      <td>...</td>\n",
       "      <td>...</td>\n",
       "      <td>...</td>\n",
       "      <td>...</td>\n",
       "      <td>...</td>\n",
       "      <td>...</td>\n",
       "      <td>...</td>\n",
       "    </tr>\n",
       "    <tr>\n",
       "      <th>2165</th>\n",
       "      <td>1.0</td>\n",
       "      <td>0.0</td>\n",
       "      <td>0.0</td>\n",
       "      <td>0.0</td>\n",
       "      <td>0.0</td>\n",
       "      <td>0.0</td>\n",
       "      <td>0.0</td>\n",
       "      <td>0.0</td>\n",
       "      <td>0.0</td>\n",
       "      <td>0.0</td>\n",
       "      <td>...</td>\n",
       "      <td>0.0</td>\n",
       "      <td>0.0</td>\n",
       "      <td>0.0</td>\n",
       "      <td>0.0</td>\n",
       "      <td>0.0</td>\n",
       "      <td>0.0</td>\n",
       "      <td>0.0</td>\n",
       "      <td>0.0</td>\n",
       "      <td>0.0</td>\n",
       "      <td>DRUG/NARCOTIC</td>\n",
       "    </tr>\n",
       "    <tr>\n",
       "      <th>2166</th>\n",
       "      <td>1.0</td>\n",
       "      <td>0.0</td>\n",
       "      <td>0.0</td>\n",
       "      <td>0.0</td>\n",
       "      <td>0.0</td>\n",
       "      <td>0.0</td>\n",
       "      <td>0.0</td>\n",
       "      <td>0.0</td>\n",
       "      <td>0.0</td>\n",
       "      <td>0.0</td>\n",
       "      <td>...</td>\n",
       "      <td>0.0</td>\n",
       "      <td>0.0</td>\n",
       "      <td>0.0</td>\n",
       "      <td>0.0</td>\n",
       "      <td>0.0</td>\n",
       "      <td>0.0</td>\n",
       "      <td>0.0</td>\n",
       "      <td>0.0</td>\n",
       "      <td>0.0</td>\n",
       "      <td>DRUG/NARCOTIC</td>\n",
       "    </tr>\n",
       "    <tr>\n",
       "      <th>2167</th>\n",
       "      <td>1.0</td>\n",
       "      <td>0.0</td>\n",
       "      <td>0.0</td>\n",
       "      <td>0.0</td>\n",
       "      <td>0.0</td>\n",
       "      <td>0.0</td>\n",
       "      <td>0.0</td>\n",
       "      <td>0.0</td>\n",
       "      <td>0.0</td>\n",
       "      <td>0.0</td>\n",
       "      <td>...</td>\n",
       "      <td>0.0</td>\n",
       "      <td>1.0</td>\n",
       "      <td>0.0</td>\n",
       "      <td>0.0</td>\n",
       "      <td>0.0</td>\n",
       "      <td>0.0</td>\n",
       "      <td>0.0</td>\n",
       "      <td>0.0</td>\n",
       "      <td>0.0</td>\n",
       "      <td>VEHICLE THEFT</td>\n",
       "    </tr>\n",
       "    <tr>\n",
       "      <th>2168</th>\n",
       "      <td>1.0</td>\n",
       "      <td>0.0</td>\n",
       "      <td>0.0</td>\n",
       "      <td>0.0</td>\n",
       "      <td>0.0</td>\n",
       "      <td>0.0</td>\n",
       "      <td>0.0</td>\n",
       "      <td>0.0</td>\n",
       "      <td>0.0</td>\n",
       "      <td>0.0</td>\n",
       "      <td>...</td>\n",
       "      <td>0.0</td>\n",
       "      <td>0.0</td>\n",
       "      <td>0.0</td>\n",
       "      <td>0.0</td>\n",
       "      <td>1.0</td>\n",
       "      <td>0.0</td>\n",
       "      <td>0.0</td>\n",
       "      <td>0.0</td>\n",
       "      <td>0.0</td>\n",
       "      <td>VEHICLE THEFT</td>\n",
       "    </tr>\n",
       "    <tr>\n",
       "      <th>2169</th>\n",
       "      <td>1.0</td>\n",
       "      <td>0.0</td>\n",
       "      <td>0.0</td>\n",
       "      <td>0.0</td>\n",
       "      <td>0.0</td>\n",
       "      <td>0.0</td>\n",
       "      <td>0.0</td>\n",
       "      <td>0.0</td>\n",
       "      <td>0.0</td>\n",
       "      <td>0.0</td>\n",
       "      <td>...</td>\n",
       "      <td>0.0</td>\n",
       "      <td>1.0</td>\n",
       "      <td>0.0</td>\n",
       "      <td>0.0</td>\n",
       "      <td>0.0</td>\n",
       "      <td>0.0</td>\n",
       "      <td>0.0</td>\n",
       "      <td>0.0</td>\n",
       "      <td>0.0</td>\n",
       "      <td>VEHICLE THEFT</td>\n",
       "    </tr>\n",
       "    <tr>\n",
       "      <th>2170</th>\n",
       "      <td>1.0</td>\n",
       "      <td>0.0</td>\n",
       "      <td>0.0</td>\n",
       "      <td>0.0</td>\n",
       "      <td>0.0</td>\n",
       "      <td>0.0</td>\n",
       "      <td>0.0</td>\n",
       "      <td>0.0</td>\n",
       "      <td>0.0</td>\n",
       "      <td>0.0</td>\n",
       "      <td>...</td>\n",
       "      <td>0.0</td>\n",
       "      <td>1.0</td>\n",
       "      <td>0.0</td>\n",
       "      <td>0.0</td>\n",
       "      <td>0.0</td>\n",
       "      <td>0.0</td>\n",
       "      <td>0.0</td>\n",
       "      <td>0.0</td>\n",
       "      <td>0.0</td>\n",
       "      <td>BURGLARY</td>\n",
       "    </tr>\n",
       "    <tr>\n",
       "      <th>2171</th>\n",
       "      <td>1.0</td>\n",
       "      <td>0.0</td>\n",
       "      <td>0.0</td>\n",
       "      <td>0.0</td>\n",
       "      <td>0.0</td>\n",
       "      <td>0.0</td>\n",
       "      <td>0.0</td>\n",
       "      <td>0.0</td>\n",
       "      <td>0.0</td>\n",
       "      <td>1.0</td>\n",
       "      <td>...</td>\n",
       "      <td>1.0</td>\n",
       "      <td>0.0</td>\n",
       "      <td>0.0</td>\n",
       "      <td>0.0</td>\n",
       "      <td>0.0</td>\n",
       "      <td>0.0</td>\n",
       "      <td>0.0</td>\n",
       "      <td>0.0</td>\n",
       "      <td>0.0</td>\n",
       "      <td>VEHICLE THEFT</td>\n",
       "    </tr>\n",
       "    <tr>\n",
       "      <th>2172</th>\n",
       "      <td>1.0</td>\n",
       "      <td>0.0</td>\n",
       "      <td>0.0</td>\n",
       "      <td>0.0</td>\n",
       "      <td>0.0</td>\n",
       "      <td>0.0</td>\n",
       "      <td>0.0</td>\n",
       "      <td>0.0</td>\n",
       "      <td>1.0</td>\n",
       "      <td>0.0</td>\n",
       "      <td>...</td>\n",
       "      <td>1.0</td>\n",
       "      <td>0.0</td>\n",
       "      <td>0.0</td>\n",
       "      <td>0.0</td>\n",
       "      <td>0.0</td>\n",
       "      <td>0.0</td>\n",
       "      <td>0.0</td>\n",
       "      <td>0.0</td>\n",
       "      <td>0.0</td>\n",
       "      <td>BURGLARY</td>\n",
       "    </tr>\n",
       "    <tr>\n",
       "      <th>2173</th>\n",
       "      <td>1.0</td>\n",
       "      <td>0.0</td>\n",
       "      <td>0.0</td>\n",
       "      <td>0.0</td>\n",
       "      <td>0.0</td>\n",
       "      <td>0.0</td>\n",
       "      <td>0.0</td>\n",
       "      <td>0.0</td>\n",
       "      <td>1.0</td>\n",
       "      <td>0.0</td>\n",
       "      <td>...</td>\n",
       "      <td>0.0</td>\n",
       "      <td>0.0</td>\n",
       "      <td>0.0</td>\n",
       "      <td>0.0</td>\n",
       "      <td>0.0</td>\n",
       "      <td>1.0</td>\n",
       "      <td>0.0</td>\n",
       "      <td>0.0</td>\n",
       "      <td>0.0</td>\n",
       "      <td>VEHICLE THEFT</td>\n",
       "    </tr>\n",
       "    <tr>\n",
       "      <th>2174</th>\n",
       "      <td>1.0</td>\n",
       "      <td>0.0</td>\n",
       "      <td>0.0</td>\n",
       "      <td>0.0</td>\n",
       "      <td>0.0</td>\n",
       "      <td>0.0</td>\n",
       "      <td>0.0</td>\n",
       "      <td>0.0</td>\n",
       "      <td>1.0</td>\n",
       "      <td>0.0</td>\n",
       "      <td>...</td>\n",
       "      <td>0.0</td>\n",
       "      <td>0.0</td>\n",
       "      <td>0.0</td>\n",
       "      <td>0.0</td>\n",
       "      <td>0.0</td>\n",
       "      <td>0.0</td>\n",
       "      <td>0.0</td>\n",
       "      <td>0.0</td>\n",
       "      <td>0.0</td>\n",
       "      <td>VEHICLE THEFT</td>\n",
       "    </tr>\n",
       "    <tr>\n",
       "      <th>2175</th>\n",
       "      <td>1.0</td>\n",
       "      <td>0.0</td>\n",
       "      <td>0.0</td>\n",
       "      <td>0.0</td>\n",
       "      <td>0.0</td>\n",
       "      <td>0.0</td>\n",
       "      <td>0.0</td>\n",
       "      <td>0.0</td>\n",
       "      <td>1.0</td>\n",
       "      <td>0.0</td>\n",
       "      <td>...</td>\n",
       "      <td>0.0</td>\n",
       "      <td>0.0</td>\n",
       "      <td>0.0</td>\n",
       "      <td>0.0</td>\n",
       "      <td>0.0</td>\n",
       "      <td>0.0</td>\n",
       "      <td>1.0</td>\n",
       "      <td>0.0</td>\n",
       "      <td>0.0</td>\n",
       "      <td>VEHICLE THEFT</td>\n",
       "    </tr>\n",
       "    <tr>\n",
       "      <th>2176</th>\n",
       "      <td>1.0</td>\n",
       "      <td>0.0</td>\n",
       "      <td>0.0</td>\n",
       "      <td>0.0</td>\n",
       "      <td>0.0</td>\n",
       "      <td>0.0</td>\n",
       "      <td>0.0</td>\n",
       "      <td>0.0</td>\n",
       "      <td>1.0</td>\n",
       "      <td>0.0</td>\n",
       "      <td>...</td>\n",
       "      <td>0.0</td>\n",
       "      <td>0.0</td>\n",
       "      <td>0.0</td>\n",
       "      <td>0.0</td>\n",
       "      <td>0.0</td>\n",
       "      <td>0.0</td>\n",
       "      <td>1.0</td>\n",
       "      <td>0.0</td>\n",
       "      <td>0.0</td>\n",
       "      <td>BURGLARY</td>\n",
       "    </tr>\n",
       "    <tr>\n",
       "      <th>2177</th>\n",
       "      <td>1.0</td>\n",
       "      <td>0.0</td>\n",
       "      <td>0.0</td>\n",
       "      <td>0.0</td>\n",
       "      <td>0.0</td>\n",
       "      <td>0.0</td>\n",
       "      <td>0.0</td>\n",
       "      <td>1.0</td>\n",
       "      <td>0.0</td>\n",
       "      <td>0.0</td>\n",
       "      <td>...</td>\n",
       "      <td>0.0</td>\n",
       "      <td>0.0</td>\n",
       "      <td>0.0</td>\n",
       "      <td>0.0</td>\n",
       "      <td>0.0</td>\n",
       "      <td>1.0</td>\n",
       "      <td>0.0</td>\n",
       "      <td>0.0</td>\n",
       "      <td>0.0</td>\n",
       "      <td>VEHICLE THEFT</td>\n",
       "    </tr>\n",
       "    <tr>\n",
       "      <th>2178</th>\n",
       "      <td>1.0</td>\n",
       "      <td>0.0</td>\n",
       "      <td>0.0</td>\n",
       "      <td>0.0</td>\n",
       "      <td>0.0</td>\n",
       "      <td>0.0</td>\n",
       "      <td>1.0</td>\n",
       "      <td>0.0</td>\n",
       "      <td>0.0</td>\n",
       "      <td>0.0</td>\n",
       "      <td>...</td>\n",
       "      <td>0.0</td>\n",
       "      <td>0.0</td>\n",
       "      <td>0.0</td>\n",
       "      <td>1.0</td>\n",
       "      <td>0.0</td>\n",
       "      <td>0.0</td>\n",
       "      <td>0.0</td>\n",
       "      <td>0.0</td>\n",
       "      <td>0.0</td>\n",
       "      <td>BURGLARY</td>\n",
       "    </tr>\n",
       "    <tr>\n",
       "      <th>2179</th>\n",
       "      <td>1.0</td>\n",
       "      <td>0.0</td>\n",
       "      <td>0.0</td>\n",
       "      <td>0.0</td>\n",
       "      <td>0.0</td>\n",
       "      <td>1.0</td>\n",
       "      <td>0.0</td>\n",
       "      <td>0.0</td>\n",
       "      <td>0.0</td>\n",
       "      <td>0.0</td>\n",
       "      <td>...</td>\n",
       "      <td>0.0</td>\n",
       "      <td>0.0</td>\n",
       "      <td>0.0</td>\n",
       "      <td>0.0</td>\n",
       "      <td>0.0</td>\n",
       "      <td>0.0</td>\n",
       "      <td>1.0</td>\n",
       "      <td>0.0</td>\n",
       "      <td>0.0</td>\n",
       "      <td>BURGLARY</td>\n",
       "    </tr>\n",
       "    <tr>\n",
       "      <th>2180</th>\n",
       "      <td>1.0</td>\n",
       "      <td>0.0</td>\n",
       "      <td>0.0</td>\n",
       "      <td>1.0</td>\n",
       "      <td>0.0</td>\n",
       "      <td>0.0</td>\n",
       "      <td>0.0</td>\n",
       "      <td>0.0</td>\n",
       "      <td>0.0</td>\n",
       "      <td>0.0</td>\n",
       "      <td>...</td>\n",
       "      <td>0.0</td>\n",
       "      <td>1.0</td>\n",
       "      <td>0.0</td>\n",
       "      <td>0.0</td>\n",
       "      <td>0.0</td>\n",
       "      <td>0.0</td>\n",
       "      <td>0.0</td>\n",
       "      <td>0.0</td>\n",
       "      <td>0.0</td>\n",
       "      <td>DRUG/NARCOTIC</td>\n",
       "    </tr>\n",
       "    <tr>\n",
       "      <th>2181</th>\n",
       "      <td>1.0</td>\n",
       "      <td>0.0</td>\n",
       "      <td>1.0</td>\n",
       "      <td>0.0</td>\n",
       "      <td>0.0</td>\n",
       "      <td>0.0</td>\n",
       "      <td>0.0</td>\n",
       "      <td>0.0</td>\n",
       "      <td>0.0</td>\n",
       "      <td>0.0</td>\n",
       "      <td>...</td>\n",
       "      <td>0.0</td>\n",
       "      <td>0.0</td>\n",
       "      <td>0.0</td>\n",
       "      <td>0.0</td>\n",
       "      <td>1.0</td>\n",
       "      <td>0.0</td>\n",
       "      <td>0.0</td>\n",
       "      <td>0.0</td>\n",
       "      <td>0.0</td>\n",
       "      <td>BURGLARY</td>\n",
       "    </tr>\n",
       "    <tr>\n",
       "      <th>2182</th>\n",
       "      <td>1.0</td>\n",
       "      <td>1.0</td>\n",
       "      <td>0.0</td>\n",
       "      <td>0.0</td>\n",
       "      <td>0.0</td>\n",
       "      <td>0.0</td>\n",
       "      <td>0.0</td>\n",
       "      <td>0.0</td>\n",
       "      <td>0.0</td>\n",
       "      <td>0.0</td>\n",
       "      <td>...</td>\n",
       "      <td>0.0</td>\n",
       "      <td>1.0</td>\n",
       "      <td>0.0</td>\n",
       "      <td>0.0</td>\n",
       "      <td>0.0</td>\n",
       "      <td>0.0</td>\n",
       "      <td>0.0</td>\n",
       "      <td>0.0</td>\n",
       "      <td>0.0</td>\n",
       "      <td>VEHICLE THEFT</td>\n",
       "    </tr>\n",
       "    <tr>\n",
       "      <th>2183</th>\n",
       "      <td>1.0</td>\n",
       "      <td>0.0</td>\n",
       "      <td>0.0</td>\n",
       "      <td>0.0</td>\n",
       "      <td>0.0</td>\n",
       "      <td>0.0</td>\n",
       "      <td>0.0</td>\n",
       "      <td>0.0</td>\n",
       "      <td>0.0</td>\n",
       "      <td>0.0</td>\n",
       "      <td>...</td>\n",
       "      <td>0.0</td>\n",
       "      <td>0.0</td>\n",
       "      <td>0.0</td>\n",
       "      <td>0.0</td>\n",
       "      <td>0.0</td>\n",
       "      <td>0.0</td>\n",
       "      <td>0.0</td>\n",
       "      <td>0.0</td>\n",
       "      <td>1.0</td>\n",
       "      <td>BURGLARY</td>\n",
       "    </tr>\n",
       "    <tr>\n",
       "      <th>2184</th>\n",
       "      <td>1.0</td>\n",
       "      <td>0.0</td>\n",
       "      <td>0.0</td>\n",
       "      <td>0.0</td>\n",
       "      <td>0.0</td>\n",
       "      <td>0.0</td>\n",
       "      <td>0.0</td>\n",
       "      <td>0.0</td>\n",
       "      <td>0.0</td>\n",
       "      <td>0.0</td>\n",
       "      <td>...</td>\n",
       "      <td>0.0</td>\n",
       "      <td>0.0</td>\n",
       "      <td>0.0</td>\n",
       "      <td>1.0</td>\n",
       "      <td>0.0</td>\n",
       "      <td>0.0</td>\n",
       "      <td>0.0</td>\n",
       "      <td>0.0</td>\n",
       "      <td>0.0</td>\n",
       "      <td>BURGLARY</td>\n",
       "    </tr>\n",
       "    <tr>\n",
       "      <th>2185</th>\n",
       "      <td>1.0</td>\n",
       "      <td>0.0</td>\n",
       "      <td>0.0</td>\n",
       "      <td>0.0</td>\n",
       "      <td>0.0</td>\n",
       "      <td>0.0</td>\n",
       "      <td>0.0</td>\n",
       "      <td>0.0</td>\n",
       "      <td>0.0</td>\n",
       "      <td>0.0</td>\n",
       "      <td>...</td>\n",
       "      <td>0.0</td>\n",
       "      <td>0.0</td>\n",
       "      <td>0.0</td>\n",
       "      <td>0.0</td>\n",
       "      <td>0.0</td>\n",
       "      <td>0.0</td>\n",
       "      <td>0.0</td>\n",
       "      <td>0.0</td>\n",
       "      <td>1.0</td>\n",
       "      <td>DRUG/NARCOTIC</td>\n",
       "    </tr>\n",
       "    <tr>\n",
       "      <th>2186</th>\n",
       "      <td>1.0</td>\n",
       "      <td>0.0</td>\n",
       "      <td>0.0</td>\n",
       "      <td>0.0</td>\n",
       "      <td>0.0</td>\n",
       "      <td>0.0</td>\n",
       "      <td>0.0</td>\n",
       "      <td>0.0</td>\n",
       "      <td>0.0</td>\n",
       "      <td>0.0</td>\n",
       "      <td>...</td>\n",
       "      <td>0.0</td>\n",
       "      <td>0.0</td>\n",
       "      <td>0.0</td>\n",
       "      <td>0.0</td>\n",
       "      <td>0.0</td>\n",
       "      <td>0.0</td>\n",
       "      <td>0.0</td>\n",
       "      <td>0.0</td>\n",
       "      <td>0.0</td>\n",
       "      <td>VEHICLE THEFT</td>\n",
       "    </tr>\n",
       "    <tr>\n",
       "      <th>2187</th>\n",
       "      <td>1.0</td>\n",
       "      <td>0.0</td>\n",
       "      <td>0.0</td>\n",
       "      <td>0.0</td>\n",
       "      <td>0.0</td>\n",
       "      <td>0.0</td>\n",
       "      <td>0.0</td>\n",
       "      <td>0.0</td>\n",
       "      <td>0.0</td>\n",
       "      <td>0.0</td>\n",
       "      <td>...</td>\n",
       "      <td>0.0</td>\n",
       "      <td>0.0</td>\n",
       "      <td>0.0</td>\n",
       "      <td>0.0</td>\n",
       "      <td>0.0</td>\n",
       "      <td>0.0</td>\n",
       "      <td>0.0</td>\n",
       "      <td>0.0</td>\n",
       "      <td>0.0</td>\n",
       "      <td>VEHICLE THEFT</td>\n",
       "    </tr>\n",
       "    <tr>\n",
       "      <th>2188</th>\n",
       "      <td>1.0</td>\n",
       "      <td>0.0</td>\n",
       "      <td>0.0</td>\n",
       "      <td>0.0</td>\n",
       "      <td>0.0</td>\n",
       "      <td>0.0</td>\n",
       "      <td>0.0</td>\n",
       "      <td>0.0</td>\n",
       "      <td>0.0</td>\n",
       "      <td>0.0</td>\n",
       "      <td>...</td>\n",
       "      <td>0.0</td>\n",
       "      <td>0.0</td>\n",
       "      <td>1.0</td>\n",
       "      <td>0.0</td>\n",
       "      <td>0.0</td>\n",
       "      <td>0.0</td>\n",
       "      <td>0.0</td>\n",
       "      <td>0.0</td>\n",
       "      <td>0.0</td>\n",
       "      <td>VEHICLE THEFT</td>\n",
       "    </tr>\n",
       "    <tr>\n",
       "      <th>2189</th>\n",
       "      <td>1.0</td>\n",
       "      <td>0.0</td>\n",
       "      <td>0.0</td>\n",
       "      <td>0.0</td>\n",
       "      <td>0.0</td>\n",
       "      <td>0.0</td>\n",
       "      <td>0.0</td>\n",
       "      <td>0.0</td>\n",
       "      <td>0.0</td>\n",
       "      <td>0.0</td>\n",
       "      <td>...</td>\n",
       "      <td>0.0</td>\n",
       "      <td>0.0</td>\n",
       "      <td>0.0</td>\n",
       "      <td>1.0</td>\n",
       "      <td>0.0</td>\n",
       "      <td>0.0</td>\n",
       "      <td>0.0</td>\n",
       "      <td>0.0</td>\n",
       "      <td>0.0</td>\n",
       "      <td>VEHICLE THEFT</td>\n",
       "    </tr>\n",
       "    <tr>\n",
       "      <th>2190</th>\n",
       "      <td>1.0</td>\n",
       "      <td>0.0</td>\n",
       "      <td>0.0</td>\n",
       "      <td>0.0</td>\n",
       "      <td>0.0</td>\n",
       "      <td>0.0</td>\n",
       "      <td>0.0</td>\n",
       "      <td>0.0</td>\n",
       "      <td>0.0</td>\n",
       "      <td>0.0</td>\n",
       "      <td>...</td>\n",
       "      <td>0.0</td>\n",
       "      <td>0.0</td>\n",
       "      <td>0.0</td>\n",
       "      <td>0.0</td>\n",
       "      <td>0.0</td>\n",
       "      <td>0.0</td>\n",
       "      <td>0.0</td>\n",
       "      <td>0.0</td>\n",
       "      <td>1.0</td>\n",
       "      <td>DRUG/NARCOTIC</td>\n",
       "    </tr>\n",
       "    <tr>\n",
       "      <th>2191</th>\n",
       "      <td>1.0</td>\n",
       "      <td>0.0</td>\n",
       "      <td>0.0</td>\n",
       "      <td>0.0</td>\n",
       "      <td>0.0</td>\n",
       "      <td>0.0</td>\n",
       "      <td>0.0</td>\n",
       "      <td>0.0</td>\n",
       "      <td>0.0</td>\n",
       "      <td>0.0</td>\n",
       "      <td>...</td>\n",
       "      <td>0.0</td>\n",
       "      <td>0.0</td>\n",
       "      <td>0.0</td>\n",
       "      <td>0.0</td>\n",
       "      <td>1.0</td>\n",
       "      <td>0.0</td>\n",
       "      <td>0.0</td>\n",
       "      <td>0.0</td>\n",
       "      <td>0.0</td>\n",
       "      <td>VEHICLE THEFT</td>\n",
       "    </tr>\n",
       "    <tr>\n",
       "      <th>2192</th>\n",
       "      <td>1.0</td>\n",
       "      <td>0.0</td>\n",
       "      <td>0.0</td>\n",
       "      <td>0.0</td>\n",
       "      <td>0.0</td>\n",
       "      <td>0.0</td>\n",
       "      <td>0.0</td>\n",
       "      <td>0.0</td>\n",
       "      <td>0.0</td>\n",
       "      <td>0.0</td>\n",
       "      <td>...</td>\n",
       "      <td>0.0</td>\n",
       "      <td>0.0</td>\n",
       "      <td>0.0</td>\n",
       "      <td>0.0</td>\n",
       "      <td>0.0</td>\n",
       "      <td>0.0</td>\n",
       "      <td>0.0</td>\n",
       "      <td>1.0</td>\n",
       "      <td>0.0</td>\n",
       "      <td>VEHICLE THEFT</td>\n",
       "    </tr>\n",
       "    <tr>\n",
       "      <th>2193</th>\n",
       "      <td>1.0</td>\n",
       "      <td>0.0</td>\n",
       "      <td>0.0</td>\n",
       "      <td>0.0</td>\n",
       "      <td>0.0</td>\n",
       "      <td>0.0</td>\n",
       "      <td>0.0</td>\n",
       "      <td>0.0</td>\n",
       "      <td>0.0</td>\n",
       "      <td>0.0</td>\n",
       "      <td>...</td>\n",
       "      <td>0.0</td>\n",
       "      <td>0.0</td>\n",
       "      <td>0.0</td>\n",
       "      <td>1.0</td>\n",
       "      <td>0.0</td>\n",
       "      <td>0.0</td>\n",
       "      <td>0.0</td>\n",
       "      <td>0.0</td>\n",
       "      <td>0.0</td>\n",
       "      <td>BURGLARY</td>\n",
       "    </tr>\n",
       "    <tr>\n",
       "      <th>2194</th>\n",
       "      <td>1.0</td>\n",
       "      <td>0.0</td>\n",
       "      <td>0.0</td>\n",
       "      <td>0.0</td>\n",
       "      <td>0.0</td>\n",
       "      <td>0.0</td>\n",
       "      <td>0.0</td>\n",
       "      <td>0.0</td>\n",
       "      <td>0.0</td>\n",
       "      <td>0.0</td>\n",
       "      <td>...</td>\n",
       "      <td>0.0</td>\n",
       "      <td>1.0</td>\n",
       "      <td>0.0</td>\n",
       "      <td>0.0</td>\n",
       "      <td>0.0</td>\n",
       "      <td>0.0</td>\n",
       "      <td>0.0</td>\n",
       "      <td>0.0</td>\n",
       "      <td>0.0</td>\n",
       "      <td>VEHICLE THEFT</td>\n",
       "    </tr>\n",
       "  </tbody>\n",
       "</table>\n",
       "<p>2195 rows × 40 columns</p>\n",
       "</div>"
      ],
      "text/plain": [
       "      Intercept  C(hour)[T.1]  C(hour)[T.2]  C(hour)[T.3]  C(hour)[T.4]  \\\n",
       "0           1.0           0.0           0.0           0.0           0.0   \n",
       "1           1.0           0.0           0.0           0.0           0.0   \n",
       "2           1.0           0.0           0.0           0.0           0.0   \n",
       "3           1.0           0.0           0.0           0.0           0.0   \n",
       "4           1.0           0.0           0.0           0.0           0.0   \n",
       "5           1.0           0.0           0.0           0.0           0.0   \n",
       "6           1.0           0.0           0.0           0.0           0.0   \n",
       "7           1.0           0.0           0.0           0.0           0.0   \n",
       "8           1.0           0.0           0.0           0.0           0.0   \n",
       "9           1.0           0.0           0.0           0.0           0.0   \n",
       "10          1.0           0.0           0.0           0.0           0.0   \n",
       "11          1.0           0.0           0.0           0.0           0.0   \n",
       "12          1.0           0.0           0.0           0.0           0.0   \n",
       "13          1.0           0.0           0.0           0.0           0.0   \n",
       "14          1.0           0.0           0.0           0.0           0.0   \n",
       "15          1.0           0.0           0.0           0.0           0.0   \n",
       "16          1.0           0.0           0.0           0.0           0.0   \n",
       "17          1.0           0.0           0.0           0.0           0.0   \n",
       "18          1.0           0.0           0.0           0.0           0.0   \n",
       "19          1.0           0.0           0.0           0.0           0.0   \n",
       "20          1.0           0.0           0.0           0.0           0.0   \n",
       "21          1.0           0.0           0.0           0.0           0.0   \n",
       "22          1.0           0.0           0.0           0.0           0.0   \n",
       "23          1.0           0.0           0.0           0.0           0.0   \n",
       "24          1.0           0.0           0.0           0.0           0.0   \n",
       "25          1.0           0.0           0.0           0.0           0.0   \n",
       "26          1.0           0.0           0.0           0.0           0.0   \n",
       "27          1.0           0.0           0.0           0.0           0.0   \n",
       "28          1.0           0.0           0.0           0.0           0.0   \n",
       "29          1.0           0.0           0.0           0.0           0.0   \n",
       "...         ...           ...           ...           ...           ...   \n",
       "2165        1.0           0.0           0.0           0.0           0.0   \n",
       "2166        1.0           0.0           0.0           0.0           0.0   \n",
       "2167        1.0           0.0           0.0           0.0           0.0   \n",
       "2168        1.0           0.0           0.0           0.0           0.0   \n",
       "2169        1.0           0.0           0.0           0.0           0.0   \n",
       "2170        1.0           0.0           0.0           0.0           0.0   \n",
       "2171        1.0           0.0           0.0           0.0           0.0   \n",
       "2172        1.0           0.0           0.0           0.0           0.0   \n",
       "2173        1.0           0.0           0.0           0.0           0.0   \n",
       "2174        1.0           0.0           0.0           0.0           0.0   \n",
       "2175        1.0           0.0           0.0           0.0           0.0   \n",
       "2176        1.0           0.0           0.0           0.0           0.0   \n",
       "2177        1.0           0.0           0.0           0.0           0.0   \n",
       "2178        1.0           0.0           0.0           0.0           0.0   \n",
       "2179        1.0           0.0           0.0           0.0           0.0   \n",
       "2180        1.0           0.0           0.0           1.0           0.0   \n",
       "2181        1.0           0.0           1.0           0.0           0.0   \n",
       "2182        1.0           1.0           0.0           0.0           0.0   \n",
       "2183        1.0           0.0           0.0           0.0           0.0   \n",
       "2184        1.0           0.0           0.0           0.0           0.0   \n",
       "2185        1.0           0.0           0.0           0.0           0.0   \n",
       "2186        1.0           0.0           0.0           0.0           0.0   \n",
       "2187        1.0           0.0           0.0           0.0           0.0   \n",
       "2188        1.0           0.0           0.0           0.0           0.0   \n",
       "2189        1.0           0.0           0.0           0.0           0.0   \n",
       "2190        1.0           0.0           0.0           0.0           0.0   \n",
       "2191        1.0           0.0           0.0           0.0           0.0   \n",
       "2192        1.0           0.0           0.0           0.0           0.0   \n",
       "2193        1.0           0.0           0.0           0.0           0.0   \n",
       "2194        1.0           0.0           0.0           0.0           0.0   \n",
       "\n",
       "      C(hour)[T.5]  C(hour)[T.6]  C(hour)[T.7]  C(hour)[T.8]  C(hour)[T.9]  \\\n",
       "0              0.0           0.0           0.0           0.0           0.0   \n",
       "1              0.0           0.0           0.0           0.0           0.0   \n",
       "2              0.0           0.0           0.0           0.0           0.0   \n",
       "3              0.0           0.0           0.0           0.0           0.0   \n",
       "4              0.0           0.0           0.0           0.0           0.0   \n",
       "5              0.0           0.0           0.0           0.0           0.0   \n",
       "6              0.0           0.0           0.0           0.0           0.0   \n",
       "7              0.0           0.0           0.0           0.0           0.0   \n",
       "8              0.0           0.0           0.0           0.0           0.0   \n",
       "9              0.0           0.0           0.0           0.0           0.0   \n",
       "10             0.0           0.0           0.0           0.0           0.0   \n",
       "11             0.0           0.0           0.0           0.0           0.0   \n",
       "12             0.0           0.0           0.0           0.0           0.0   \n",
       "13             0.0           0.0           0.0           0.0           0.0   \n",
       "14             0.0           0.0           0.0           0.0           0.0   \n",
       "15             0.0           0.0           0.0           0.0           0.0   \n",
       "16             0.0           0.0           0.0           0.0           0.0   \n",
       "17             0.0           0.0           0.0           0.0           0.0   \n",
       "18             0.0           0.0           0.0           0.0           0.0   \n",
       "19             0.0           0.0           0.0           0.0           0.0   \n",
       "20             0.0           0.0           0.0           0.0           0.0   \n",
       "21             0.0           0.0           0.0           0.0           0.0   \n",
       "22             0.0           0.0           0.0           0.0           0.0   \n",
       "23             0.0           0.0           0.0           0.0           0.0   \n",
       "24             0.0           0.0           0.0           0.0           0.0   \n",
       "25             0.0           0.0           0.0           0.0           0.0   \n",
       "26             0.0           0.0           0.0           0.0           0.0   \n",
       "27             0.0           0.0           0.0           0.0           0.0   \n",
       "28             0.0           0.0           0.0           0.0           0.0   \n",
       "29             0.0           0.0           0.0           0.0           0.0   \n",
       "...            ...           ...           ...           ...           ...   \n",
       "2165           0.0           0.0           0.0           0.0           0.0   \n",
       "2166           0.0           0.0           0.0           0.0           0.0   \n",
       "2167           0.0           0.0           0.0           0.0           0.0   \n",
       "2168           0.0           0.0           0.0           0.0           0.0   \n",
       "2169           0.0           0.0           0.0           0.0           0.0   \n",
       "2170           0.0           0.0           0.0           0.0           0.0   \n",
       "2171           0.0           0.0           0.0           0.0           1.0   \n",
       "2172           0.0           0.0           0.0           1.0           0.0   \n",
       "2173           0.0           0.0           0.0           1.0           0.0   \n",
       "2174           0.0           0.0           0.0           1.0           0.0   \n",
       "2175           0.0           0.0           0.0           1.0           0.0   \n",
       "2176           0.0           0.0           0.0           1.0           0.0   \n",
       "2177           0.0           0.0           1.0           0.0           0.0   \n",
       "2178           0.0           1.0           0.0           0.0           0.0   \n",
       "2179           1.0           0.0           0.0           0.0           0.0   \n",
       "2180           0.0           0.0           0.0           0.0           0.0   \n",
       "2181           0.0           0.0           0.0           0.0           0.0   \n",
       "2182           0.0           0.0           0.0           0.0           0.0   \n",
       "2183           0.0           0.0           0.0           0.0           0.0   \n",
       "2184           0.0           0.0           0.0           0.0           0.0   \n",
       "2185           0.0           0.0           0.0           0.0           0.0   \n",
       "2186           0.0           0.0           0.0           0.0           0.0   \n",
       "2187           0.0           0.0           0.0           0.0           0.0   \n",
       "2188           0.0           0.0           0.0           0.0           0.0   \n",
       "2189           0.0           0.0           0.0           0.0           0.0   \n",
       "2190           0.0           0.0           0.0           0.0           0.0   \n",
       "2191           0.0           0.0           0.0           0.0           0.0   \n",
       "2192           0.0           0.0           0.0           0.0           0.0   \n",
       "2193           0.0           0.0           0.0           0.0           0.0   \n",
       "2194           0.0           0.0           0.0           0.0           0.0   \n",
       "\n",
       "          ...        C(PdDistrict)[T.CENTRAL]  C(PdDistrict)[T.INGLESIDE]  \\\n",
       "0         ...                             0.0                         1.0   \n",
       "1         ...                             0.0                         0.0   \n",
       "2         ...                             0.0                         1.0   \n",
       "3         ...                             0.0                         0.0   \n",
       "4         ...                             1.0                         0.0   \n",
       "5         ...                             1.0                         0.0   \n",
       "6         ...                             0.0                         0.0   \n",
       "7         ...                             0.0                         0.0   \n",
       "8         ...                             0.0                         0.0   \n",
       "9         ...                             0.0                         0.0   \n",
       "10        ...                             0.0                         0.0   \n",
       "11        ...                             1.0                         0.0   \n",
       "12        ...                             0.0                         0.0   \n",
       "13        ...                             0.0                         0.0   \n",
       "14        ...                             0.0                         0.0   \n",
       "15        ...                             0.0                         0.0   \n",
       "16        ...                             0.0                         0.0   \n",
       "17        ...                             0.0                         0.0   \n",
       "18        ...                             0.0                         0.0   \n",
       "19        ...                             0.0                         0.0   \n",
       "20        ...                             0.0                         0.0   \n",
       "21        ...                             0.0                         0.0   \n",
       "22        ...                             0.0                         1.0   \n",
       "23        ...                             0.0                         0.0   \n",
       "24        ...                             0.0                         1.0   \n",
       "25        ...                             0.0                         1.0   \n",
       "26        ...                             0.0                         0.0   \n",
       "27        ...                             0.0                         0.0   \n",
       "28        ...                             0.0                         0.0   \n",
       "29        ...                             0.0                         0.0   \n",
       "...       ...                             ...                         ...   \n",
       "2165      ...                             0.0                         0.0   \n",
       "2166      ...                             0.0                         0.0   \n",
       "2167      ...                             0.0                         1.0   \n",
       "2168      ...                             0.0                         0.0   \n",
       "2169      ...                             0.0                         1.0   \n",
       "2170      ...                             0.0                         1.0   \n",
       "2171      ...                             1.0                         0.0   \n",
       "2172      ...                             1.0                         0.0   \n",
       "2173      ...                             0.0                         0.0   \n",
       "2174      ...                             0.0                         0.0   \n",
       "2175      ...                             0.0                         0.0   \n",
       "2176      ...                             0.0                         0.0   \n",
       "2177      ...                             0.0                         0.0   \n",
       "2178      ...                             0.0                         0.0   \n",
       "2179      ...                             0.0                         0.0   \n",
       "2180      ...                             0.0                         1.0   \n",
       "2181      ...                             0.0                         0.0   \n",
       "2182      ...                             0.0                         1.0   \n",
       "2183      ...                             0.0                         0.0   \n",
       "2184      ...                             0.0                         0.0   \n",
       "2185      ...                             0.0                         0.0   \n",
       "2186      ...                             0.0                         0.0   \n",
       "2187      ...                             0.0                         0.0   \n",
       "2188      ...                             0.0                         0.0   \n",
       "2189      ...                             0.0                         0.0   \n",
       "2190      ...                             0.0                         0.0   \n",
       "2191      ...                             0.0                         0.0   \n",
       "2192      ...                             0.0                         0.0   \n",
       "2193      ...                             0.0                         0.0   \n",
       "2194      ...                             0.0                         1.0   \n",
       "\n",
       "      C(PdDistrict)[T.MISSION]  C(PdDistrict)[T.NORTHERN]  \\\n",
       "0                          0.0                        0.0   \n",
       "1                          0.0                        0.0   \n",
       "2                          0.0                        0.0   \n",
       "3                          0.0                        0.0   \n",
       "4                          0.0                        0.0   \n",
       "5                          0.0                        0.0   \n",
       "6                          1.0                        0.0   \n",
       "7                          0.0                        0.0   \n",
       "8                          0.0                        0.0   \n",
       "9                          0.0                        0.0   \n",
       "10                         0.0                        0.0   \n",
       "11                         0.0                        0.0   \n",
       "12                         0.0                        0.0   \n",
       "13                         0.0                        1.0   \n",
       "14                         1.0                        0.0   \n",
       "15                         0.0                        1.0   \n",
       "16                         0.0                        1.0   \n",
       "17                         0.0                        1.0   \n",
       "18                         0.0                        1.0   \n",
       "19                         0.0                        0.0   \n",
       "20                         0.0                        0.0   \n",
       "21                         0.0                        0.0   \n",
       "22                         0.0                        0.0   \n",
       "23                         0.0                        0.0   \n",
       "24                         0.0                        0.0   \n",
       "25                         0.0                        0.0   \n",
       "26                         0.0                        0.0   \n",
       "27                         1.0                        0.0   \n",
       "28                         1.0                        0.0   \n",
       "29                         0.0                        1.0   \n",
       "...                        ...                        ...   \n",
       "2165                       0.0                        0.0   \n",
       "2166                       0.0                        0.0   \n",
       "2167                       0.0                        0.0   \n",
       "2168                       0.0                        0.0   \n",
       "2169                       0.0                        0.0   \n",
       "2170                       0.0                        0.0   \n",
       "2171                       0.0                        0.0   \n",
       "2172                       0.0                        0.0   \n",
       "2173                       0.0                        0.0   \n",
       "2174                       0.0                        0.0   \n",
       "2175                       0.0                        0.0   \n",
       "2176                       0.0                        0.0   \n",
       "2177                       0.0                        0.0   \n",
       "2178                       0.0                        1.0   \n",
       "2179                       0.0                        0.0   \n",
       "2180                       0.0                        0.0   \n",
       "2181                       0.0                        0.0   \n",
       "2182                       0.0                        0.0   \n",
       "2183                       0.0                        0.0   \n",
       "2184                       0.0                        1.0   \n",
       "2185                       0.0                        0.0   \n",
       "2186                       0.0                        0.0   \n",
       "2187                       0.0                        0.0   \n",
       "2188                       1.0                        0.0   \n",
       "2189                       0.0                        1.0   \n",
       "2190                       0.0                        0.0   \n",
       "2191                       0.0                        0.0   \n",
       "2192                       0.0                        0.0   \n",
       "2193                       0.0                        1.0   \n",
       "2194                       0.0                        0.0   \n",
       "\n",
       "      C(PdDistrict)[T.PARK]  C(PdDistrict)[T.RICHMOND]  \\\n",
       "0                       0.0                        0.0   \n",
       "1                       0.0                        0.0   \n",
       "2                       0.0                        0.0   \n",
       "3                       1.0                        0.0   \n",
       "4                       0.0                        0.0   \n",
       "5                       0.0                        0.0   \n",
       "6                       0.0                        0.0   \n",
       "7                       0.0                        0.0   \n",
       "8                       0.0                        0.0   \n",
       "9                       0.0                        0.0   \n",
       "10                      0.0                        0.0   \n",
       "11                      0.0                        0.0   \n",
       "12                      0.0                        0.0   \n",
       "13                      0.0                        0.0   \n",
       "14                      0.0                        0.0   \n",
       "15                      0.0                        0.0   \n",
       "16                      0.0                        0.0   \n",
       "17                      0.0                        0.0   \n",
       "18                      0.0                        0.0   \n",
       "19                      0.0                        0.0   \n",
       "20                      1.0                        0.0   \n",
       "21                      1.0                        0.0   \n",
       "22                      0.0                        0.0   \n",
       "23                      0.0                        1.0   \n",
       "24                      0.0                        0.0   \n",
       "25                      0.0                        0.0   \n",
       "26                      0.0                        0.0   \n",
       "27                      0.0                        0.0   \n",
       "28                      0.0                        0.0   \n",
       "29                      0.0                        0.0   \n",
       "...                     ...                        ...   \n",
       "2165                    0.0                        0.0   \n",
       "2166                    0.0                        0.0   \n",
       "2167                    0.0                        0.0   \n",
       "2168                    1.0                        0.0   \n",
       "2169                    0.0                        0.0   \n",
       "2170                    0.0                        0.0   \n",
       "2171                    0.0                        0.0   \n",
       "2172                    0.0                        0.0   \n",
       "2173                    0.0                        1.0   \n",
       "2174                    0.0                        0.0   \n",
       "2175                    0.0                        0.0   \n",
       "2176                    0.0                        0.0   \n",
       "2177                    0.0                        1.0   \n",
       "2178                    0.0                        0.0   \n",
       "2179                    0.0                        0.0   \n",
       "2180                    0.0                        0.0   \n",
       "2181                    1.0                        0.0   \n",
       "2182                    0.0                        0.0   \n",
       "2183                    0.0                        0.0   \n",
       "2184                    0.0                        0.0   \n",
       "2185                    0.0                        0.0   \n",
       "2186                    0.0                        0.0   \n",
       "2187                    0.0                        0.0   \n",
       "2188                    0.0                        0.0   \n",
       "2189                    0.0                        0.0   \n",
       "2190                    0.0                        0.0   \n",
       "2191                    1.0                        0.0   \n",
       "2192                    0.0                        0.0   \n",
       "2193                    0.0                        0.0   \n",
       "2194                    0.0                        0.0   \n",
       "\n",
       "      C(PdDistrict)[T.SOUTHERN]  C(PdDistrict)[T.TARAVAL]  \\\n",
       "0                           0.0                       0.0   \n",
       "1                           0.0                       0.0   \n",
       "2                           0.0                       0.0   \n",
       "3                           0.0                       0.0   \n",
       "4                           0.0                       0.0   \n",
       "5                           0.0                       0.0   \n",
       "6                           0.0                       0.0   \n",
       "7                           0.0                       0.0   \n",
       "8                           1.0                       0.0   \n",
       "9                           1.0                       0.0   \n",
       "10                          0.0                       0.0   \n",
       "11                          0.0                       0.0   \n",
       "12                          1.0                       0.0   \n",
       "13                          0.0                       0.0   \n",
       "14                          0.0                       0.0   \n",
       "15                          0.0                       0.0   \n",
       "16                          0.0                       0.0   \n",
       "17                          0.0                       0.0   \n",
       "18                          0.0                       0.0   \n",
       "19                          1.0                       0.0   \n",
       "20                          0.0                       0.0   \n",
       "21                          0.0                       0.0   \n",
       "22                          0.0                       0.0   \n",
       "23                          0.0                       0.0   \n",
       "24                          0.0                       0.0   \n",
       "25                          0.0                       0.0   \n",
       "26                          0.0                       1.0   \n",
       "27                          0.0                       0.0   \n",
       "28                          0.0                       0.0   \n",
       "29                          0.0                       0.0   \n",
       "...                         ...                       ...   \n",
       "2165                        0.0                       0.0   \n",
       "2166                        0.0                       0.0   \n",
       "2167                        0.0                       0.0   \n",
       "2168                        0.0                       0.0   \n",
       "2169                        0.0                       0.0   \n",
       "2170                        0.0                       0.0   \n",
       "2171                        0.0                       0.0   \n",
       "2172                        0.0                       0.0   \n",
       "2173                        0.0                       0.0   \n",
       "2174                        0.0                       0.0   \n",
       "2175                        1.0                       0.0   \n",
       "2176                        1.0                       0.0   \n",
       "2177                        0.0                       0.0   \n",
       "2178                        0.0                       0.0   \n",
       "2179                        1.0                       0.0   \n",
       "2180                        0.0                       0.0   \n",
       "2181                        0.0                       0.0   \n",
       "2182                        0.0                       0.0   \n",
       "2183                        0.0                       0.0   \n",
       "2184                        0.0                       0.0   \n",
       "2185                        0.0                       0.0   \n",
       "2186                        0.0                       0.0   \n",
       "2187                        0.0                       0.0   \n",
       "2188                        0.0                       0.0   \n",
       "2189                        0.0                       0.0   \n",
       "2190                        0.0                       0.0   \n",
       "2191                        0.0                       0.0   \n",
       "2192                        0.0                       1.0   \n",
       "2193                        0.0                       0.0   \n",
       "2194                        0.0                       0.0   \n",
       "\n",
       "      C(PdDistrict)[T.TENDERLOIN]         Target  \n",
       "0                             0.0  VEHICLE THEFT  \n",
       "1                             0.0  VEHICLE THEFT  \n",
       "2                             0.0  VEHICLE THEFT  \n",
       "3                             0.0       BURGLARY  \n",
       "4                             0.0  VEHICLE THEFT  \n",
       "5                             0.0  VEHICLE THEFT  \n",
       "6                             0.0  VEHICLE THEFT  \n",
       "7                             0.0       BURGLARY  \n",
       "8                             0.0       BURGLARY  \n",
       "9                             0.0       BURGLARY  \n",
       "10                            0.0  DRUG/NARCOTIC  \n",
       "11                            0.0       BURGLARY  \n",
       "12                            0.0  DRUG/NARCOTIC  \n",
       "13                            0.0       BURGLARY  \n",
       "14                            0.0  VEHICLE THEFT  \n",
       "15                            0.0  VEHICLE THEFT  \n",
       "16                            0.0  VEHICLE THEFT  \n",
       "17                            0.0  VEHICLE THEFT  \n",
       "18                            0.0  VEHICLE THEFT  \n",
       "19                            0.0       BURGLARY  \n",
       "20                            0.0  DRUG/NARCOTIC  \n",
       "21                            0.0  DRUG/NARCOTIC  \n",
       "22                            0.0       BURGLARY  \n",
       "23                            0.0  VEHICLE THEFT  \n",
       "24                            0.0       BURGLARY  \n",
       "25                            0.0  VEHICLE THEFT  \n",
       "26                            0.0       BURGLARY  \n",
       "27                            0.0  DRUG/NARCOTIC  \n",
       "28                            0.0  DRUG/NARCOTIC  \n",
       "29                            0.0       BURGLARY  \n",
       "...                           ...            ...  \n",
       "2165                          0.0  DRUG/NARCOTIC  \n",
       "2166                          0.0  DRUG/NARCOTIC  \n",
       "2167                          0.0  VEHICLE THEFT  \n",
       "2168                          0.0  VEHICLE THEFT  \n",
       "2169                          0.0  VEHICLE THEFT  \n",
       "2170                          0.0       BURGLARY  \n",
       "2171                          0.0  VEHICLE THEFT  \n",
       "2172                          0.0       BURGLARY  \n",
       "2173                          0.0  VEHICLE THEFT  \n",
       "2174                          0.0  VEHICLE THEFT  \n",
       "2175                          0.0  VEHICLE THEFT  \n",
       "2176                          0.0       BURGLARY  \n",
       "2177                          0.0  VEHICLE THEFT  \n",
       "2178                          0.0       BURGLARY  \n",
       "2179                          0.0       BURGLARY  \n",
       "2180                          0.0  DRUG/NARCOTIC  \n",
       "2181                          0.0       BURGLARY  \n",
       "2182                          0.0  VEHICLE THEFT  \n",
       "2183                          1.0       BURGLARY  \n",
       "2184                          0.0       BURGLARY  \n",
       "2185                          1.0  DRUG/NARCOTIC  \n",
       "2186                          0.0  VEHICLE THEFT  \n",
       "2187                          0.0  VEHICLE THEFT  \n",
       "2188                          0.0  VEHICLE THEFT  \n",
       "2189                          0.0  VEHICLE THEFT  \n",
       "2190                          1.0  DRUG/NARCOTIC  \n",
       "2191                          0.0  VEHICLE THEFT  \n",
       "2192                          0.0  VEHICLE THEFT  \n",
       "2193                          0.0       BURGLARY  \n",
       "2194                          0.0  VEHICLE THEFT  \n",
       "\n",
       "[2195 rows x 40 columns]"
      ]
     },
     "execution_count": 148,
     "metadata": {},
     "output_type": "execute_result"
    }
   ],
   "source": [
    "pdf = pd.DataFrame(X, columns=X.design_info.column_names)\n",
    "pdf['Target'] = y\n",
    "pdf"
   ]
  },
  {
   "cell_type": "markdown",
   "metadata": {
    "slideshow": {
     "slide_type": "slide"
    }
   },
   "source": [
    "## Let's see how many districts are listed in our design matrix "
   ]
  },
  {
   "cell_type": "code",
   "execution_count": 149,
   "metadata": {
    "collapsed": false,
    "slideshow": {
     "slide_type": "-"
    }
   },
   "outputs": [
    {
     "data": {
      "text/plain": [
       "10"
      ]
     },
     "execution_count": 149,
     "metadata": {},
     "output_type": "execute_result"
    }
   ],
   "source": [
    "sf_crime_sub['PdDistrict'].nunique()"
   ]
  },
  {
   "cell_type": "code",
   "execution_count": 150,
   "metadata": {
    "collapsed": false,
    "slideshow": {
     "slide_type": "-"
    }
   },
   "outputs": [
    {
     "data": {
      "text/plain": [
       "['C(PdDistrict)[T.CENTRAL]',\n",
       " 'C(PdDistrict)[T.INGLESIDE]',\n",
       " 'C(PdDistrict)[T.MISSION]',\n",
       " 'C(PdDistrict)[T.NORTHERN]',\n",
       " 'C(PdDistrict)[T.PARK]',\n",
       " 'C(PdDistrict)[T.RICHMOND]',\n",
       " 'C(PdDistrict)[T.SOUTHERN]',\n",
       " 'C(PdDistrict)[T.TARAVAL]',\n",
       " 'C(PdDistrict)[T.TENDERLOIN]']"
      ]
     },
     "execution_count": 150,
     "metadata": {},
     "output_type": "execute_result"
    }
   ],
   "source": [
    "[x for x in pdf.columns if 'PdDistrict' in x]"
   ]
  },
  {
   "cell_type": "code",
   "execution_count": 151,
   "metadata": {
    "collapsed": false,
    "slideshow": {
     "slide_type": "-"
    }
   },
   "outputs": [
    {
     "data": {
      "text/plain": [
       "9"
      ]
     },
     "execution_count": 151,
     "metadata": {},
     "output_type": "execute_result"
    }
   ],
   "source": [
    "pd.Series([x for x in pdf.columns if 'PdDistrict' in x]).nunique()"
   ]
  },
  {
   "cell_type": "markdown",
   "metadata": {
    "slideshow": {
     "slide_type": "slide"
    }
   },
   "source": [
    "## And how many hours?"
   ]
  },
  {
   "cell_type": "code",
   "execution_count": 152,
   "metadata": {
    "collapsed": false,
    "slideshow": {
     "slide_type": "-"
    }
   },
   "outputs": [
    {
     "data": {
      "text/plain": [
       "24"
      ]
     },
     "execution_count": 152,
     "metadata": {},
     "output_type": "execute_result"
    }
   ],
   "source": [
    "sf_crime_sub['hour'].nunique()"
   ]
  },
  {
   "cell_type": "code",
   "execution_count": 153,
   "metadata": {
    "collapsed": false,
    "slideshow": {
     "slide_type": "-"
    }
   },
   "outputs": [
    {
     "data": {
      "text/plain": [
       "23"
      ]
     },
     "execution_count": 153,
     "metadata": {},
     "output_type": "execute_result"
    }
   ],
   "source": [
    "pd.Series([x for x in pdf.columns if 'hour' in x]).nunique()"
   ]
  },
  {
   "cell_type": "markdown",
   "metadata": {
    "slideshow": {
     "slide_type": "slide"
    }
   },
   "source": [
    "## Check: Why is there one less on both?"
   ]
  },
  {
   "cell_type": "markdown",
   "metadata": {
    "slideshow": {
     "slide_type": "slide"
    }
   },
   "source": [
    "## Set up our training and testing sets"
   ]
  },
  {
   "cell_type": "code",
   "execution_count": 219,
   "metadata": {
    "collapsed": false,
    "slideshow": {
     "slide_type": "fragment"
    }
   },
   "outputs": [],
   "source": [
    "X_train, X_test, y_train, y_test = train_test_split(X, y, test_size=0.33, random_state=77)"
   ]
  },
  {
   "cell_type": "markdown",
   "metadata": {
    "slideshow": {
     "slide_type": "slide"
    }
   },
   "source": [
    "## Now let's fit a standard logistic regression model"
   ]
  },
  {
   "cell_type": "code",
   "execution_count": 360,
   "metadata": {
    "collapsed": true,
    "slideshow": {
     "slide_type": "fragment"
    }
   },
   "outputs": [],
   "source": [
    "lr = LogisticRegression(solver='liblinear')"
   ]
  },
  {
   "cell_type": "code",
   "execution_count": 361,
   "metadata": {
    "collapsed": true,
    "slideshow": {
     "slide_type": "fragment"
    }
   },
   "outputs": [],
   "source": [
    "lr_model = lr.fit(X_train, y_train)"
   ]
  },
  {
   "cell_type": "markdown",
   "metadata": {
    "slideshow": {
     "slide_type": "slide"
    }
   },
   "source": [
    "### Make our predictions"
   ]
  },
  {
   "cell_type": "code",
   "execution_count": 362,
   "metadata": {
    "collapsed": true,
    "slideshow": {
     "slide_type": "-"
    }
   },
   "outputs": [],
   "source": [
    "lr_ypred = lr_model.predict(X_test)"
   ]
  },
  {
   "cell_type": "markdown",
   "metadata": {
    "slideshow": {
     "slide_type": "slide"
    }
   },
   "source": [
    "### Check our misclassifications with a confusion matrix"
   ]
  },
  {
   "cell_type": "code",
   "execution_count": 373,
   "metadata": {
    "collapsed": false,
    "slideshow": {
     "slide_type": "fragment"
    }
   },
   "outputs": [
    {
     "data": {
      "text/html": [
       "<div>\n",
       "<table border=\"1\" class=\"dataframe\">\n",
       "  <thead>\n",
       "    <tr style=\"text-align: right;\">\n",
       "      <th></th>\n",
       "      <th>BURGLARY</th>\n",
       "      <th>DRUG/NARCOTIC</th>\n",
       "      <th>VEHICLE THEFT</th>\n",
       "    </tr>\n",
       "  </thead>\n",
       "  <tbody>\n",
       "    <tr>\n",
       "      <th>BURGLARY</th>\n",
       "      <td>96</td>\n",
       "      <td>19</td>\n",
       "      <td>134</td>\n",
       "    </tr>\n",
       "    <tr>\n",
       "      <th>DRUG/NARCOTIC</th>\n",
       "      <td>45</td>\n",
       "      <td>49</td>\n",
       "      <td>76</td>\n",
       "    </tr>\n",
       "    <tr>\n",
       "      <th>VEHICLE THEFT</th>\n",
       "      <td>59</td>\n",
       "      <td>11</td>\n",
       "      <td>236</td>\n",
       "    </tr>\n",
       "  </tbody>\n",
       "</table>\n",
       "</div>"
      ],
      "text/plain": [
       "               BURGLARY  DRUG/NARCOTIC  VEHICLE THEFT\n",
       "BURGLARY             96             19            134\n",
       "DRUG/NARCOTIC        45             49             76\n",
       "VEHICLE THEFT        59             11            236"
      ]
     },
     "execution_count": 373,
     "metadata": {},
     "output_type": "execute_result"
    }
   ],
   "source": [
    "lr_cm = confusion_matrix(y_test, lr_ypred, labels=lr.classes_)\n",
    "lr_cm = pd.DataFrame(lr_cm, columns=lr.classes_, index=lr.classes_)\n",
    "lr_cm"
   ]
  },
  {
   "cell_type": "markdown",
   "metadata": {
    "slideshow": {
     "slide_type": "slide"
    }
   },
   "source": [
    "### Check our precision, recall, and f1"
   ]
  },
  {
   "cell_type": "code",
   "execution_count": 374,
   "metadata": {
    "collapsed": false,
    "slideshow": {
     "slide_type": "-"
    }
   },
   "outputs": [
    {
     "name": "stdout",
     "output_type": "stream",
     "text": [
      "             precision    recall  f1-score   support\n",
      "\n",
      "   BURGLARY       0.48      0.39      0.43       249\n",
      "DRUG/NARCOTIC       0.62      0.29      0.39       170\n",
      "VEHICLE THEFT       0.53      0.77      0.63       306\n",
      "\n",
      "avg / total       0.53      0.53      0.50       725\n",
      "\n"
     ]
    }
   ],
   "source": [
    "print(classification_report(y_test, lr_ypred, labels=lr.classes_))"
   ]
  },
  {
   "cell_type": "markdown",
   "metadata": {
    "slideshow": {
     "slide_type": "slide"
    }
   },
   "source": [
    "## Check the CV Score"
   ]
  },
  {
   "cell_type": "code",
   "execution_count": 517,
   "metadata": {
    "collapsed": false,
    "slideshow": {
     "slide_type": "-"
    }
   },
   "outputs": [
    {
     "data": {
      "text/plain": [
       "0.51530013953612797"
      ]
     },
     "execution_count": 517,
     "metadata": {},
     "output_type": "execute_result"
    }
   ],
   "source": [
    "cross_val_score(lr, X, y, cv=3).mean()"
   ]
  },
  {
   "cell_type": "markdown",
   "metadata": {
    "slideshow": {
     "slide_type": "slide"
    }
   },
   "source": [
    "## Let's now use a penalized regression - we'll use lasso (l1)"
   ]
  },
  {
   "cell_type": "code",
   "execution_count": 508,
   "metadata": {
    "collapsed": true,
    "slideshow": {
     "slide_type": "fragment"
    }
   },
   "outputs": [],
   "source": [
    "lr_l1 = LogisticRegression(C=1.5, penalty='l1', solver='liblinear')\n",
    "lr_l1_model = lr_l1.fit(X_train, y_train)"
   ]
  },
  {
   "cell_type": "code",
   "execution_count": 509,
   "metadata": {
    "collapsed": true,
    "slideshow": {
     "slide_type": "fragment"
    }
   },
   "outputs": [],
   "source": [
    "lr_l1_model = lr_l1.fit(X_train, y_train)"
   ]
  },
  {
   "cell_type": "code",
   "execution_count": 510,
   "metadata": {
    "collapsed": true,
    "slideshow": {
     "slide_type": "fragment"
    }
   },
   "outputs": [],
   "source": [
    "lr_l1_ypred = lr_l1_model.predict(X_test)"
   ]
  },
  {
   "cell_type": "markdown",
   "metadata": {
    "slideshow": {
     "slide_type": "slide"
    }
   },
   "source": [
    "## Get confusion matrix"
   ]
  },
  {
   "cell_type": "code",
   "execution_count": 505,
   "metadata": {
    "collapsed": false,
    "slideshow": {
     "slide_type": "-"
    }
   },
   "outputs": [
    {
     "data": {
      "text/html": [
       "<div>\n",
       "<table border=\"1\" class=\"dataframe\">\n",
       "  <thead>\n",
       "    <tr style=\"text-align: right;\">\n",
       "      <th></th>\n",
       "      <th>BURGLARY</th>\n",
       "      <th>DRUG/NARCOTIC</th>\n",
       "      <th>VEHICLE THEFT</th>\n",
       "    </tr>\n",
       "  </thead>\n",
       "  <tbody>\n",
       "    <tr>\n",
       "      <th>BURGLARY</th>\n",
       "      <td>98</td>\n",
       "      <td>18</td>\n",
       "      <td>133</td>\n",
       "    </tr>\n",
       "    <tr>\n",
       "      <th>DRUG/NARCOTIC</th>\n",
       "      <td>45</td>\n",
       "      <td>49</td>\n",
       "      <td>76</td>\n",
       "    </tr>\n",
       "    <tr>\n",
       "      <th>VEHICLE THEFT</th>\n",
       "      <td>58</td>\n",
       "      <td>10</td>\n",
       "      <td>238</td>\n",
       "    </tr>\n",
       "  </tbody>\n",
       "</table>\n",
       "</div>"
      ],
      "text/plain": [
       "               BURGLARY  DRUG/NARCOTIC  VEHICLE THEFT\n",
       "BURGLARY             98             18            133\n",
       "DRUG/NARCOTIC        45             49             76\n",
       "VEHICLE THEFT        58             10            238"
      ]
     },
     "execution_count": 505,
     "metadata": {},
     "output_type": "execute_result"
    }
   ],
   "source": [
    "lr_l1_cm = confusion_matrix(y_test, lr_l1_ypred, labels=lr_l1.classes_)\n",
    "lr_l1_cm = pd.DataFrame(lr_l1_cm, columns=lr_l1.classes_, index=lr_l1.classes_)\n",
    "lr_l1_cm"
   ]
  },
  {
   "cell_type": "markdown",
   "metadata": {
    "slideshow": {
     "slide_type": "slide"
    }
   },
   "source": [
    "## Get classification report"
   ]
  },
  {
   "cell_type": "code",
   "execution_count": 506,
   "metadata": {
    "collapsed": false,
    "slideshow": {
     "slide_type": "-"
    }
   },
   "outputs": [
    {
     "name": "stdout",
     "output_type": "stream",
     "text": [
      "             precision    recall  f1-score   support\n",
      "\n",
      "   BURGLARY       0.49      0.39      0.44       249\n",
      "DRUG/NARCOTIC       0.64      0.29      0.40       170\n",
      "VEHICLE THEFT       0.53      0.78      0.63       306\n",
      "\n",
      "avg / total       0.54      0.53      0.51       725\n",
      "\n"
     ]
    }
   ],
   "source": [
    "print(classification_report(y_test, lr_l1_ypred, labels=lr_l1.classes_))"
   ]
  },
  {
   "cell_type": "markdown",
   "metadata": {
    "slideshow": {
     "slide_type": "slide"
    }
   },
   "source": [
    "## Get mean cross val score"
   ]
  },
  {
   "cell_type": "code",
   "execution_count": 516,
   "metadata": {
    "collapsed": false,
    "slideshow": {
     "slide_type": "-"
    }
   },
   "outputs": [
    {
     "data": {
      "text/plain": [
       "0.51803238507243377"
      ]
     },
     "execution_count": 516,
     "metadata": {},
     "output_type": "execute_result"
    }
   ],
   "source": [
    "cross_val_score(lr_l1, X, y, cv=3).mean()"
   ]
  },
  {
   "cell_type": "markdown",
   "metadata": {
    "slideshow": {
     "slide_type": "slide"
    }
   },
   "source": [
    " ## Looks like a minimal improvement with L1 penalty at 1.5, how about other values?"
   ]
  },
  {
   "cell_type": "markdown",
   "metadata": {
    "slideshow": {
     "slide_type": "fragment"
    }
   },
   "source": [
    "## We can build a function to test this"
   ]
  },
  {
   "cell_type": "code",
   "execution_count": 569,
   "metadata": {
    "collapsed": true,
    "slideshow": {
     "slide_type": "-"
    }
   },
   "outputs": [],
   "source": [
    "def test_penalties(c_val):\n",
    "    lr_l1 = LogisticRegression(C=c_val, penalty='l1', solver='liblinear')\n",
    "    cvs = cross_val_score(lr_l1, X, y, cv=3)\n",
    "    return cvs"
   ]
  },
  {
   "cell_type": "code",
   "execution_count": 570,
   "metadata": {
    "collapsed": false,
    "slideshow": {
     "slide_type": "fragment"
    }
   },
   "outputs": [
    {
     "data": {
      "text/html": [
       "<div>\n",
       "<table border=\"1\" class=\"dataframe\">\n",
       "  <thead>\n",
       "    <tr style=\"text-align: right;\">\n",
       "      <th></th>\n",
       "      <th>c_vals</th>\n",
       "      <th>score</th>\n",
       "    </tr>\n",
       "  </thead>\n",
       "  <tbody>\n",
       "    <tr>\n",
       "      <th>0</th>\n",
       "      <td>0.001</td>\n",
       "      <td>0.333486</td>\n",
       "    </tr>\n",
       "    <tr>\n",
       "      <th>1</th>\n",
       "      <td>0.010</td>\n",
       "      <td>0.440547</td>\n",
       "    </tr>\n",
       "    <tr>\n",
       "      <th>2</th>\n",
       "      <td>0.100</td>\n",
       "      <td>0.495249</td>\n",
       "    </tr>\n",
       "    <tr>\n",
       "      <th>3</th>\n",
       "      <td>1.000</td>\n",
       "      <td>0.512573</td>\n",
       "    </tr>\n",
       "    <tr>\n",
       "      <th>4</th>\n",
       "      <td>1.500</td>\n",
       "      <td>0.518032</td>\n",
       "    </tr>\n",
       "    <tr>\n",
       "      <th>5</th>\n",
       "      <td>2.500</td>\n",
       "      <td>0.515756</td>\n",
       "    </tr>\n",
       "    <tr>\n",
       "      <th>6</th>\n",
       "      <td>5.000</td>\n",
       "      <td>0.520765</td>\n",
       "    </tr>\n",
       "    <tr>\n",
       "      <th>7</th>\n",
       "      <td>10.000</td>\n",
       "      <td>0.517118</td>\n",
       "    </tr>\n",
       "    <tr>\n",
       "      <th>8</th>\n",
       "      <td>100.000</td>\n",
       "      <td>0.514840</td>\n",
       "    </tr>\n",
       "  </tbody>\n",
       "</table>\n",
       "</div>"
      ],
      "text/plain": [
       "    c_vals     score\n",
       "0    0.001  0.333486\n",
       "1    0.010  0.440547\n",
       "2    0.100  0.495249\n",
       "3    1.000  0.512573\n",
       "4    1.500  0.518032\n",
       "5    2.500  0.515756\n",
       "6    5.000  0.520765\n",
       "7   10.000  0.517118\n",
       "8  100.000  0.514840"
      ]
     },
     "execution_count": 570,
     "metadata": {},
     "output_type": "execute_result"
    }
   ],
   "source": [
    "test_cs = pd.Series([.001, .01, .1, 1, 1.5, 2.5, 5, 10, 100]).to_frame('c_vals')\n",
    "score_frame = pd.DataFrame([test_penalties(x) for x in test_cs['c_vals']]).mean(axis=1).to_frame('score')\n",
    "\n",
    "pd.concat([test_cs, score_frame], axis=1)"
   ]
  },
  {
   "cell_type": "markdown",
   "metadata": {
    "slideshow": {
     "slide_type": "slide"
    }
   },
   "source": [
    "## Sklearn has a function that will do this for us already"
   ]
  },
  {
   "cell_type": "code",
   "execution_count": 620,
   "metadata": {
    "collapsed": false,
    "slideshow": {
     "slide_type": "-"
    }
   },
   "outputs": [],
   "source": [
    "# fit model with five folds and lasso regularization\n",
    "# use Cs=15 to test a grid of 15 distinct parameters\n",
    "# remeber: Cs describes the inverse of regularization strength\n",
    "logreg_cv = LogisticRegressionCV(Cs=20, solver='liblinear', cv=3, penalty='l1', scoring='f1')\n",
    "cv_model = logreg_cv.fit(X_train, y_train)"
   ]
  },
  {
   "cell_type": "markdown",
   "metadata": {
    "slideshow": {
     "slide_type": "slide"
    }
   },
   "source": [
    "## Find best C per class"
   ]
  },
  {
   "cell_type": "code",
   "execution_count": 621,
   "metadata": {
    "collapsed": false,
    "slideshow": {
     "slide_type": "-"
    }
   },
   "outputs": [
    {
     "name": "stdout",
     "output_type": "stream",
     "text": [
      "best C for class:\n",
      "{'BURGLARY': 0.0001, 'VEHICLE THEFT': 0.00069519279617756048, 'DRUG/NARCOTIC': 0.00026366508987303583}\n"
     ]
    }
   ],
   "source": [
    "print('best C for class:')\n",
    "best_C = {logreg_cv.classes_[i]:x for i, (x, c) in enumerate(zip(logreg_cv.Cs_, logreg_cv.classes_))}\n",
    "print(best_C)"
   ]
  },
  {
   "cell_type": "markdown",
   "metadata": {
    "slideshow": {
     "slide_type": "slide"
    }
   },
   "source": [
    "## Get the classification report for best model"
   ]
  },
  {
   "cell_type": "code",
   "execution_count": 622,
   "metadata": {
    "collapsed": false,
    "slideshow": {
     "slide_type": "-"
    }
   },
   "outputs": [
    {
     "name": "stdout",
     "output_type": "stream",
     "text": [
      "             precision    recall  f1-score   support\n",
      "\n",
      "   BURGLARY       0.48      0.40      0.44       249\n",
      "DRUG/NARCOTIC       0.69      0.25      0.36       170\n",
      "VEHICLE THEFT       0.53      0.78      0.63       306\n",
      "\n",
      "avg / total       0.55      0.53      0.50       725\n",
      "\n"
     ]
    }
   ],
   "source": [
    "print(classification_report(y_test, logreg_cv.predict(X_test)))"
   ]
  },
  {
   "cell_type": "markdown",
   "metadata": {
    "slideshow": {
     "slide_type": "slide"
    }
   },
   "source": [
    "## E1. \n",
    "\n",
    "## Using the data set (pdf), fit a model to predict between \"Burglary\" and \"Drug/Narcotic\" crimes\n",
    "## One model should use l1 and the other should use an l2 penalty\n",
    "## Make sure to use train_test_split\n",
    "## Print out a confusion matrix and a classification report for both\n",
    "## Finally, build a third model that uses LogisticRegressionCV\n",
    "## Print our a confusion matrix, classification report and the best value of C"
   ]
  },
  {
   "cell_type": "markdown",
   "metadata": {
    "slideshow": {
     "slide_type": "slide"
    }
   },
   "source": [
    "## Select the appropriate rows"
   ]
  },
  {
   "cell_type": "code",
   "execution_count": 636,
   "metadata": {
    "collapsed": false,
    "scrolled": true,
    "slideshow": {
     "slide_type": "slide"
    }
   },
   "outputs": [],
   "source": [
    "vice = pdf[pdf['Target'].isin(['BURGLARY', 'DRUG/NARCOTIC'])]"
   ]
  },
  {
   "cell_type": "code",
   "execution_count": 637,
   "metadata": {
    "collapsed": false,
    "slideshow": {
     "slide_type": "-"
    }
   },
   "outputs": [],
   "source": [
    "vice_X = vice.iloc[:,:-1].as_matrix()\n",
    "vice_y = vice.iloc[:,-1].as_matrix()"
   ]
  },
  {
   "cell_type": "markdown",
   "metadata": {
    "slideshow": {
     "slide_type": "slide"
    }
   },
   "source": [
    "## Apply tts"
   ]
  },
  {
   "cell_type": "code",
   "execution_count": 638,
   "metadata": {
    "collapsed": true,
    "slideshow": {
     "slide_type": "-"
    }
   },
   "outputs": [],
   "source": [
    "vice_X_train, vice_X_test, vice_y_train, vice_y_test =\\\n",
    "train_test_split(vice_X, vice_y, test_size=0.33, random_state=50)"
   ]
  },
  {
   "cell_type": "markdown",
   "metadata": {
    "slideshow": {
     "slide_type": "slide"
    }
   },
   "source": [
    "## Fit our 2 models"
   ]
  },
  {
   "cell_type": "code",
   "execution_count": 641,
   "metadata": {
    "collapsed": false,
    "slideshow": {
     "slide_type": "-"
    }
   },
   "outputs": [],
   "source": [
    "lr1 = LogisticRegression(penalty='l1')\n",
    "lr2 = LogisticRegression(penalty='l2')\n",
    "\n",
    "lr1_model = lr1.fit(vice_X_train, vice_y_train)\n",
    "lr2_model = lr2.fit(vice_X_train, vice_y_train)"
   ]
  },
  {
   "cell_type": "markdown",
   "metadata": {
    "slideshow": {
     "slide_type": "slide"
    }
   },
   "source": [
    "## Use our fitted models to make predictions"
   ]
  },
  {
   "cell_type": "code",
   "execution_count": 642,
   "metadata": {
    "collapsed": true,
    "slideshow": {
     "slide_type": "-"
    }
   },
   "outputs": [],
   "source": [
    "vice_y1_pred = lr1.predict(vice_X_test)\n",
    "vice_y2_pred = lr2.predict(vice_X_test)"
   ]
  },
  {
   "cell_type": "markdown",
   "metadata": {
    "slideshow": {
     "slide_type": "slide"
    }
   },
   "source": [
    "## Get our confusion matrices"
   ]
  },
  {
   "cell_type": "code",
   "execution_count": 645,
   "metadata": {
    "collapsed": false,
    "slideshow": {
     "slide_type": "-"
    }
   },
   "outputs": [],
   "source": [
    "cm1 = confusion_matrix(vice_y_test, vice_y1_pred, labels=lr1.classes_)\n",
    "cm1 = pd.DataFrame(cm1, columns=lr1.classes_, index=lr1.classes_)\n",
    "\n",
    "cm2 = confusion_matrix(vice_y_test, vice_y2_pred, labels=lr2.classes_)\n",
    "cm2 = pd.DataFrame(cm2, columns=lr2.classes_, index=lr2.classes_)"
   ]
  },
  {
   "cell_type": "markdown",
   "metadata": {
    "slideshow": {
     "slide_type": "slide"
    }
   },
   "source": [
    "## L1 confusion matrix"
   ]
  },
  {
   "cell_type": "code",
   "execution_count": 647,
   "metadata": {
    "collapsed": false,
    "slideshow": {
     "slide_type": "-"
    }
   },
   "outputs": [
    {
     "data": {
      "text/html": [
       "<div>\n",
       "<table border=\"1\" class=\"dataframe\">\n",
       "  <thead>\n",
       "    <tr style=\"text-align: right;\">\n",
       "      <th></th>\n",
       "      <th>BURGLARY</th>\n",
       "      <th>DRUG/NARCOTIC</th>\n",
       "    </tr>\n",
       "  </thead>\n",
       "  <tbody>\n",
       "    <tr>\n",
       "      <th>BURGLARY</th>\n",
       "      <td>217</td>\n",
       "      <td>34</td>\n",
       "    </tr>\n",
       "    <tr>\n",
       "      <th>DRUG/NARCOTIC</th>\n",
       "      <td>89</td>\n",
       "      <td>66</td>\n",
       "    </tr>\n",
       "  </tbody>\n",
       "</table>\n",
       "</div>"
      ],
      "text/plain": [
       "               BURGLARY  DRUG/NARCOTIC\n",
       "BURGLARY            217             34\n",
       "DRUG/NARCOTIC        89             66"
      ]
     },
     "execution_count": 647,
     "metadata": {},
     "output_type": "execute_result"
    }
   ],
   "source": [
    "cm1"
   ]
  },
  {
   "cell_type": "markdown",
   "metadata": {
    "slideshow": {
     "slide_type": "slide"
    }
   },
   "source": [
    "## L2 matrix"
   ]
  },
  {
   "cell_type": "code",
   "execution_count": 648,
   "metadata": {
    "collapsed": false,
    "slideshow": {
     "slide_type": "-"
    }
   },
   "outputs": [
    {
     "data": {
      "text/html": [
       "<div>\n",
       "<table border=\"1\" class=\"dataframe\">\n",
       "  <thead>\n",
       "    <tr style=\"text-align: right;\">\n",
       "      <th></th>\n",
       "      <th>BURGLARY</th>\n",
       "      <th>DRUG/NARCOTIC</th>\n",
       "    </tr>\n",
       "  </thead>\n",
       "  <tbody>\n",
       "    <tr>\n",
       "      <th>BURGLARY</th>\n",
       "      <td>210</td>\n",
       "      <td>41</td>\n",
       "    </tr>\n",
       "    <tr>\n",
       "      <th>DRUG/NARCOTIC</th>\n",
       "      <td>84</td>\n",
       "      <td>71</td>\n",
       "    </tr>\n",
       "  </tbody>\n",
       "</table>\n",
       "</div>"
      ],
      "text/plain": [
       "               BURGLARY  DRUG/NARCOTIC\n",
       "BURGLARY            210             41\n",
       "DRUG/NARCOTIC        84             71"
      ]
     },
     "execution_count": 648,
     "metadata": {},
     "output_type": "execute_result"
    }
   ],
   "source": [
    "cm2"
   ]
  },
  {
   "cell_type": "markdown",
   "metadata": {
    "slideshow": {
     "slide_type": "slide"
    }
   },
   "source": [
    "## L1 model classification report"
   ]
  },
  {
   "cell_type": "code",
   "execution_count": 818,
   "metadata": {
    "collapsed": false,
    "slideshow": {
     "slide_type": "-"
    }
   },
   "outputs": [
    {
     "name": "stdout",
     "output_type": "stream",
     "text": [
      "             precision    recall  f1-score   support\n",
      "\n",
      "   BURGLARY       0.71      0.86      0.78       251\n",
      "DRUG/NARCOTIC       0.66      0.43      0.52       155\n",
      "\n",
      "avg / total       0.69      0.70      0.68       406\n",
      "\n"
     ]
    }
   ],
   "source": [
    "print(classification_report(vice_y_test, vice_y1_pred, labels=lr2.classes_))"
   ]
  },
  {
   "cell_type": "markdown",
   "metadata": {
    "slideshow": {
     "slide_type": "slide"
    }
   },
   "source": [
    "## L2 classification report"
   ]
  },
  {
   "cell_type": "code",
   "execution_count": 817,
   "metadata": {
    "collapsed": false
   },
   "outputs": [
    {
     "name": "stdout",
     "output_type": "stream",
     "text": [
      "             precision    recall  f1-score   support\n",
      "\n",
      "   BURGLARY       0.71      0.84      0.77       251\n",
      "DRUG/NARCOTIC       0.63      0.46      0.53       155\n",
      "\n",
      "avg / total       0.68      0.69      0.68       406\n",
      "\n"
     ]
    }
   ],
   "source": [
    "print(classification_report(vice_y_test, vice_y2_pred, labels=lr1.classes_))"
   ]
  },
  {
   "cell_type": "markdown",
   "metadata": {
    "slideshow": {
     "slide_type": "slide"
    }
   },
   "source": [
    "## Now using LRCV"
   ]
  },
  {
   "cell_type": "code",
   "execution_count": 666,
   "metadata": {
    "collapsed": true
   },
   "outputs": [],
   "source": [
    "lrcv = LogisticRegressionCV(penalty='l1', solver='liblinear')"
   ]
  },
  {
   "cell_type": "code",
   "execution_count": 667,
   "metadata": {
    "collapsed": false
   },
   "outputs": [],
   "source": [
    "lrcv_model = lrcv.fit(vice_X_train, vice_y_train)"
   ]
  },
  {
   "cell_type": "code",
   "execution_count": 668,
   "metadata": {
    "collapsed": true
   },
   "outputs": [],
   "source": [
    "lrcv_ypred = lrcv_model.predict(vice_X_test)"
   ]
  },
  {
   "cell_type": "markdown",
   "metadata": {},
   "source": [
    "## Get our best C"
   ]
  },
  {
   "cell_type": "code",
   "execution_count": 669,
   "metadata": {
    "collapsed": false,
    "slideshow": {
     "slide_type": "-"
    }
   },
   "outputs": [
    {
     "data": {
      "text/plain": [
       "array([ 0.35938137])"
      ]
     },
     "execution_count": 669,
     "metadata": {},
     "output_type": "execute_result"
    }
   ],
   "source": [
    "lrcv_model.C_"
   ]
  },
  {
   "cell_type": "markdown",
   "metadata": {
    "slideshow": {
     "slide_type": "slide"
    }
   },
   "source": [
    "## Our confusion matrix"
   ]
  },
  {
   "cell_type": "code",
   "execution_count": 675,
   "metadata": {
    "collapsed": false,
    "slideshow": {
     "slide_type": "-"
    }
   },
   "outputs": [
    {
     "data": {
      "text/html": [
       "<div>\n",
       "<table border=\"1\" class=\"dataframe\">\n",
       "  <thead>\n",
       "    <tr style=\"text-align: right;\">\n",
       "      <th></th>\n",
       "      <th>BURGLARY</th>\n",
       "      <th>DRUG/NARCOTIC</th>\n",
       "    </tr>\n",
       "  </thead>\n",
       "  <tbody>\n",
       "    <tr>\n",
       "      <th>BURGLARY</th>\n",
       "      <td>225</td>\n",
       "      <td>26</td>\n",
       "    </tr>\n",
       "    <tr>\n",
       "      <th>DRUG/NARCOTIC</th>\n",
       "      <td>95</td>\n",
       "      <td>60</td>\n",
       "    </tr>\n",
       "  </tbody>\n",
       "</table>\n",
       "</div>"
      ],
      "text/plain": [
       "               BURGLARY  DRUG/NARCOTIC\n",
       "BURGLARY            225             26\n",
       "DRUG/NARCOTIC        95             60"
      ]
     },
     "execution_count": 675,
     "metadata": {},
     "output_type": "execute_result"
    }
   ],
   "source": [
    "lrcv_cm = confusion_matrix(vice_y_test, lrcv_ypred, labels=lrcv.classes_)\n",
    "lrcv_cm = pd.DataFrame(lrcv_cm, columns=lrcv.classes_, index=lrcv.classes_)\n",
    "lrcv_cm"
   ]
  },
  {
   "cell_type": "markdown",
   "metadata": {
    "slideshow": {
     "slide_type": "slide"
    }
   },
   "source": [
    "## Our classification report"
   ]
  },
  {
   "cell_type": "code",
   "execution_count": 676,
   "metadata": {
    "collapsed": false,
    "slideshow": {
     "slide_type": "-"
    }
   },
   "outputs": [
    {
     "name": "stdout",
     "output_type": "stream",
     "text": [
      "             precision    recall  f1-score   support\n",
      "\n",
      "   BURGLARY       0.70      0.90      0.79       251\n",
      "DRUG/NARCOTIC       0.70      0.39      0.50       155\n",
      "\n",
      "avg / total       0.70      0.70      0.68       406\n",
      "\n"
     ]
    }
   ],
   "source": [
    "print(classification_report(vice_y_test, lrcv_ypred, labels=lrcv.classes_))"
   ]
  },
  {
   "cell_type": "markdown",
   "metadata": {
    "slideshow": {
     "slide_type": "slide"
    }
   },
   "source": [
    "## Introducing GridSearchCV"
   ]
  },
  {
   "cell_type": "markdown",
   "metadata": {
    "slideshow": {
     "slide_type": "slide"
    }
   },
   "source": [
    "## To start we'll select a model and penalties and some hyperparameters \n",
    "## Then will pass those to GridSearchCV"
   ]
  },
  {
   "cell_type": "code",
   "execution_count": 735,
   "metadata": {
    "collapsed": false,
    "slideshow": {
     "slide_type": "slide"
    }
   },
   "outputs": [
    {
     "data": {
      "text/plain": [
       "GridSearchCV(cv=15, error_score='raise',\n",
       "       estimator=LogisticRegression(C=1.0, class_weight=None, dual=False, fit_intercept=True,\n",
       "          intercept_scaling=1, max_iter=100, multi_class='ovr', n_jobs=1,\n",
       "          penalty='l2', random_state=None, solver='liblinear', tol=0.0001,\n",
       "          verbose=0, warm_start=False),\n",
       "       fit_params={}, iid=True, n_jobs=1,\n",
       "       param_grid={'penalty': ['l1', 'l2'], 'C': [0.0001, 0.001, 0.01, 0.1, 0.15, 0.25, 0.275, 0.33, 0.5, 0.66, 0.75, 1.0, 2.5, 5.0, 10.0, 100.0, 1000.0]},\n",
       "       pre_dispatch='2*n_jobs', refit=True, scoring=None, verbose=False)"
      ]
     },
     "execution_count": 735,
     "metadata": {},
     "output_type": "execute_result"
    }
   ],
   "source": [
    "logreg = LogisticRegression(solver='liblinear')\n",
    "C_vals = [0.0001, 0.001, 0.01, 0.1, .15, .25, .275, .33, 0.5, .66, 0.75, 1.0, 2.5, 5.0, 10.0, 100.0, 1000.0]\n",
    "penalties = ['l1','l2']\n",
    "\n",
    "gs = GridSearchCV(logreg, {'penalty': penalties, 'C': C_vals}, verbose=False, cv=15)\n",
    "gs.fit(X, y)"
   ]
  },
  {
   "cell_type": "markdown",
   "metadata": {
    "slideshow": {
     "slide_type": "slide"
    }
   },
   "source": [
    "## Now let's find the best parameters"
   ]
  },
  {
   "cell_type": "code",
   "execution_count": 736,
   "metadata": {
    "collapsed": false,
    "slideshow": {
     "slide_type": "-"
    }
   },
   "outputs": [
    {
     "data": {
      "text/plain": [
       "{'C': 0.1, 'penalty': 'l2'}"
      ]
     },
     "execution_count": 736,
     "metadata": {},
     "output_type": "execute_result"
    }
   ],
   "source": [
    "gs.best_params_"
   ]
  },
  {
   "cell_type": "markdown",
   "metadata": {
    "slideshow": {
     "slide_type": "slide"
    }
   },
   "source": [
    "## Use this parameter to .fit, .predict, and print a classification_report for our X and Y"
   ]
  },
  {
   "cell_type": "code",
   "execution_count": 737,
   "metadata": {
    "collapsed": false
   },
   "outputs": [],
   "source": [
    "logreg = LogisticRegression(C=gs.best_params_['C'], penalty=gs.best_params_['penalty'])\n",
    "cv_model = logreg.fit(vice_X_train, vice_y_train)"
   ]
  },
  {
   "cell_type": "code",
   "execution_count": 738,
   "metadata": {
    "collapsed": true
   },
   "outputs": [],
   "source": [
    "cv_pred = cv_model.predict(vice_X_test)"
   ]
  },
  {
   "cell_type": "markdown",
   "metadata": {
    "slideshow": {
     "slide_type": "slide"
    }
   },
   "source": [
    "## Now let's check our stats..."
   ]
  },
  {
   "cell_type": "code",
   "execution_count": 739,
   "metadata": {
    "collapsed": true,
    "slideshow": {
     "slide_type": "-"
    }
   },
   "outputs": [],
   "source": [
    "cm3 = confusion_matrix(vice_y_test, cv_pred, labels=logreg.classes_)\n",
    "cm3 = pd.DataFrame(cm3, columns=logreg.classes_, index=logreg.classes_)"
   ]
  },
  {
   "cell_type": "code",
   "execution_count": 740,
   "metadata": {
    "collapsed": false,
    "slideshow": {
     "slide_type": "-"
    }
   },
   "outputs": [
    {
     "data": {
      "text/html": [
       "<div>\n",
       "<table border=\"1\" class=\"dataframe\">\n",
       "  <thead>\n",
       "    <tr style=\"text-align: right;\">\n",
       "      <th></th>\n",
       "      <th>BURGLARY</th>\n",
       "      <th>DRUG/NARCOTIC</th>\n",
       "    </tr>\n",
       "  </thead>\n",
       "  <tbody>\n",
       "    <tr>\n",
       "      <th>BURGLARY</th>\n",
       "      <td>227</td>\n",
       "      <td>24</td>\n",
       "    </tr>\n",
       "    <tr>\n",
       "      <th>DRUG/NARCOTIC</th>\n",
       "      <td>95</td>\n",
       "      <td>60</td>\n",
       "    </tr>\n",
       "  </tbody>\n",
       "</table>\n",
       "</div>"
      ],
      "text/plain": [
       "               BURGLARY  DRUG/NARCOTIC\n",
       "BURGLARY            227             24\n",
       "DRUG/NARCOTIC        95             60"
      ]
     },
     "execution_count": 740,
     "metadata": {},
     "output_type": "execute_result"
    }
   ],
   "source": [
    "cm3"
   ]
  },
  {
   "cell_type": "code",
   "execution_count": 741,
   "metadata": {
    "collapsed": false,
    "slideshow": {
     "slide_type": "slide"
    }
   },
   "outputs": [
    {
     "name": "stdout",
     "output_type": "stream",
     "text": [
      "             precision    recall  f1-score   support\n",
      "\n",
      "   BURGLARY       0.70      0.90      0.79       251\n",
      "DRUG/NARCOTIC       0.71      0.39      0.50       155\n",
      "\n",
      "avg / total       0.71      0.71      0.68       406\n",
      "\n"
     ]
    }
   ],
   "source": [
    "print(classification_report(vice_y_test, cv_pred, labels=logreg.classes_))"
   ]
  },
  {
   "cell_type": "markdown",
   "metadata": {
    "slideshow": {
     "slide_type": "slide"
    }
   },
   "source": [
    "## Independent Practice\n",
    "\n",
    "## Use GridSearchCV with knn on the iris data set\n",
    "## Use train_test_split with a test size of .66\n",
    "## Set a parameter diction with the number of neighbors and one other parameter\n",
    "## Get your best estimator and print out a classification report"
   ]
  },
  {
   "cell_type": "markdown",
   "metadata": {
    "slideshow": {
     "slide_type": "slide"
    }
   },
   "source": [
    "## First, we load our data"
   ]
  },
  {
   "cell_type": "code",
   "execution_count": 745,
   "metadata": {
    "collapsed": false,
    "slideshow": {
     "slide_type": "-"
    }
   },
   "outputs": [],
   "source": [
    "from sklearn.datasets import load_iris\n",
    "iris = load_iris()"
   ]
  },
  {
   "cell_type": "markdown",
   "metadata": {
    "slideshow": {
     "slide_type": "slide"
    }
   },
   "source": [
    "## Set our X matrix and y vector"
   ]
  },
  {
   "cell_type": "code",
   "execution_count": 762,
   "metadata": {
    "collapsed": false,
    "slideshow": {
     "slide_type": "-"
    }
   },
   "outputs": [],
   "source": [
    "X = iris.data\n",
    "y = iris.target"
   ]
  },
  {
   "cell_type": "markdown",
   "metadata": {
    "slideshow": {
     "slide_type": "slide"
    }
   },
   "source": [
    "## Train test split our data"
   ]
  },
  {
   "cell_type": "code",
   "execution_count": 795,
   "metadata": {
    "collapsed": false
   },
   "outputs": [],
   "source": [
    "X_train, X_test, y_train, y_test = train_test_split(X, y, test_size=.66)"
   ]
  },
  {
   "cell_type": "markdown",
   "metadata": {
    "slideshow": {
     "slide_type": "slide"
    }
   },
   "source": [
    "## Next we set up our possible params and choose a model"
   ]
  },
  {
   "cell_type": "code",
   "execution_count": 796,
   "metadata": {
    "collapsed": false,
    "slideshow": {
     "slide_type": "-"
    }
   },
   "outputs": [],
   "source": [
    "from sklearn.neighbors import KNeighborsClassifier"
   ]
  },
  {
   "cell_type": "code",
   "execution_count": 797,
   "metadata": {
    "collapsed": true
   },
   "outputs": [],
   "source": [
    "knn = KNeighborsClassifier()"
   ]
  },
  {
   "cell_type": "code",
   "execution_count": 798,
   "metadata": {
    "collapsed": true
   },
   "outputs": [],
   "source": [
    "param_dict = dict(n_neighbors=range(1, 31), weights=['uniform', 'distance'])"
   ]
  },
  {
   "cell_type": "markdown",
   "metadata": {
    "slideshow": {
     "slide_type": "slide"
    }
   },
   "source": [
    "## These are then passed into GridSearchCV and fit"
   ]
  },
  {
   "cell_type": "code",
   "execution_count": 799,
   "metadata": {
    "collapsed": true
   },
   "outputs": [],
   "source": [
    "gscv = GridSearchCV(knn, param_dict, scoring='accuracy')"
   ]
  },
  {
   "cell_type": "code",
   "execution_count": 800,
   "metadata": {
    "collapsed": false
   },
   "outputs": [],
   "source": [
    "gscv_model = gscv.fit(X_train, y_train)"
   ]
  },
  {
   "cell_type": "markdown",
   "metadata": {
    "slideshow": {
     "slide_type": "slide"
    }
   },
   "source": [
    "## Let's see our best model"
   ]
  },
  {
   "cell_type": "code",
   "execution_count": 801,
   "metadata": {
    "collapsed": false
   },
   "outputs": [
    {
     "data": {
      "text/plain": [
       "KNeighborsClassifier(algorithm='auto', leaf_size=30, metric='minkowski',\n",
       "           metric_params=None, n_jobs=1, n_neighbors=6, p=2,\n",
       "           weights='uniform')"
      ]
     },
     "execution_count": 801,
     "metadata": {},
     "output_type": "execute_result"
    }
   ],
   "source": [
    "gscv_model.best_estimator_"
   ]
  },
  {
   "cell_type": "markdown",
   "metadata": {
    "slideshow": {
     "slide_type": "-"
    }
   },
   "source": [
    "## We could actually call fit on this model as it is a model object"
   ]
  },
  {
   "cell_type": "markdown",
   "metadata": {
    "slideshow": {
     "slide_type": "slide"
    }
   },
   "source": [
    "## Can also just retrieve the params"
   ]
  },
  {
   "cell_type": "code",
   "execution_count": 802,
   "metadata": {
    "collapsed": false,
    "slideshow": {
     "slide_type": "-"
    }
   },
   "outputs": [
    {
     "data": {
      "text/plain": [
       "{'n_neighbors': 6, 'weights': 'uniform'}"
      ]
     },
     "execution_count": 802,
     "metadata": {},
     "output_type": "execute_result"
    }
   ],
   "source": [
    "gscv.best_params_"
   ]
  },
  {
   "cell_type": "markdown",
   "metadata": {
    "slideshow": {
     "slide_type": "slide"
    }
   },
   "source": [
    "## Using the gridsearched params we can get predictions"
   ]
  },
  {
   "cell_type": "code",
   "execution_count": 803,
   "metadata": {
    "collapsed": true
   },
   "outputs": [],
   "source": [
    "gscv_ypred = gscv.predict(X_test)"
   ]
  },
  {
   "cell_type": "markdown",
   "metadata": {
    "slideshow": {
     "slide_type": "slide"
    }
   },
   "source": [
    "## Now get our reports"
   ]
  },
  {
   "cell_type": "code",
   "execution_count": 804,
   "metadata": {
    "collapsed": false
   },
   "outputs": [
    {
     "name": "stdout",
     "output_type": "stream",
     "text": [
      "             precision    recall  f1-score   support\n",
      "\n",
      "          0       1.00      1.00      1.00        32\n",
      "          1       0.89      0.97      0.93        35\n",
      "          2       0.97      0.88      0.92        32\n",
      "\n",
      "avg / total       0.95      0.95      0.95        99\n",
      "\n"
     ]
    }
   ],
   "source": [
    "print(classification_report(y_test, gscv_ypred))"
   ]
  },
  {
   "cell_type": "code",
   "execution_count": 805,
   "metadata": {
    "collapsed": false,
    "slideshow": {
     "slide_type": "slide"
    }
   },
   "outputs": [
    {
     "data": {
      "text/plain": [
       "{'algorithm': 'auto',\n",
       " 'leaf_size': 30,\n",
       " 'metric': 'minkowski',\n",
       " 'metric_params': None,\n",
       " 'n_jobs': 1,\n",
       " 'n_neighbors': 6,\n",
       " 'p': 2,\n",
       " 'weights': 'uniform'}"
      ]
     },
     "execution_count": 805,
     "metadata": {},
     "output_type": "execute_result"
    }
   ],
   "source": [
    "gscv_model.best_estimator_.get_params()"
   ]
  },
  {
   "cell_type": "code",
   "execution_count": null,
   "metadata": {
    "collapsed": true
   },
   "outputs": [],
   "source": []
  }
 ],
 "metadata": {
  "celltoolbar": "Slideshow",
  "kernelspec": {
   "display_name": "Python 2",
   "language": "python",
   "name": "python2"
  },
  "language_info": {
   "codemirror_mode": {
    "name": "ipython",
    "version": 2
   },
   "file_extension": ".py",
   "mimetype": "text/x-python",
   "name": "python",
   "nbconvert_exporter": "python",
   "pygments_lexer": "ipython2",
   "version": "2.7.11"
  }
 },
 "nbformat": 4,
 "nbformat_minor": 0
}
