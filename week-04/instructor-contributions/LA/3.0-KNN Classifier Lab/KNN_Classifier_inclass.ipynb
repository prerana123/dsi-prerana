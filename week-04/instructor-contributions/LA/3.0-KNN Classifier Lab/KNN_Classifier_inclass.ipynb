{
 "cells": [
  {
   "cell_type": "code",
   "execution_count": 1,
   "metadata": {
    "collapsed": true
   },
   "outputs": [],
   "source": [
    "import math\n",
    "import sys\n",
    "import csv\n",
    "import pandas as pd\n",
    "\n",
    "from collections import Counter"
   ]
  },
  {
   "cell_type": "code",
   "execution_count": 2,
   "metadata": {
    "collapsed": true
   },
   "outputs": [],
   "source": [
    "#Path to file used in this script\n",
    "ATHLETES_FILE = './datasets/athletes.csv'"
   ]
  },
  {
   "cell_type": "code",
   "execution_count": 3,
   "metadata": {
    "collapsed": true
   },
   "outputs": [],
   "source": [
    "# Original column indices\n",
    "AGE_COL    = 2\n",
    "HEIGHT_COL = 3\n",
    "WEIGHT_COL = 4\n",
    "GENDER_COL = 5\n",
    "SPORT_COL  = 12\n",
    "EVENTS_COL = 13\n",
    "\n",
    "# Added-on scaled column indices \n",
    "#   (assumes events were condensed into a single column)\n",
    "SCALED_AGE_COL = 14\n",
    "SCALED_HEIGHT_COL = 15\n",
    "SCALED_WEIGHT_COL = 16\n",
    "\n",
    "# These column indices define a point\n",
    "POINT_COLS = [AGE_COL, HEIGHT_COL, WEIGHT_COL]\n",
    "SCALED_POINT_COLS = [SCALED_AGE_COL, SCALED_HEIGHT_COL, SCALED_WEIGHT_COL]"
   ]
  },
  {
   "cell_type": "code",
   "execution_count": 4,
   "metadata": {
    "collapsed": false
   },
   "outputs": [],
   "source": [
    "def load_athletes_lazy(filename): \n",
    "    \n",
    "    df = pd.read_csv(filename)\n",
    "    df[['age', 'height', 'weight']]\n",
    "    \n",
    "    return df"
   ]
  },
  {
   "cell_type": "code",
   "execution_count": 5,
   "metadata": {
    "collapsed": true
   },
   "outputs": [],
   "source": [
    "def get_input():\n",
    "    \"\"\"\n",
    "    Prompts user for an age, height, and weight.\n",
    "    \"\"\"\n",
    "\n",
    "    age = input(\"Age (years)? \")\n",
    "    height = input(\"Height (cm)? \")\n",
    "    weight = input(\"Weight (kg)? \")\n",
    "\n",
    "    return (age, height, weight)"
   ]
  },
  {
   "cell_type": "code",
   "execution_count": 6,
   "metadata": {
    "collapsed": true
   },
   "outputs": [],
   "source": [
    "def load_athletes(filename):\n",
    "    \"\"\"\n",
    "    Loads athlete data from 'filename' into a list of tuples.\n",
    "    Returns a list of tuples of each athlete's attributes, where\n",
    "      the last element of each tuple is a list of events the athlete\n",
    "      competed in.\n",
    "      (age, height, weight) \n",
    "    The header line is skipped, and rows are removed if missing a value\n",
    "      for the age, height, or weight.\n",
    "    For example:\n",
    "    [...,\n",
    "     ['Zhaoxu Zhang', \"People's Republic of China\", \n",
    "      '24', '221', '110', 'M', '11/18/1987', \n",
    "      '', '0', '0', '0', '0', \n",
    "      'Basketball', [\"Men's Basketball\"]],\n",
    "     ...\n",
    "    ]\n",
    "    \"\"\"\n",
    "    #Testing approach to account errors\n",
    "    assert(type(filename) == str and len(filename) > 0)\n",
    "\n",
    "    athletes = []\n",
    "\n",
    "    #read in data with csv module\n",
    "    with open(filename, 'r') as fin:\n",
    "        \n",
    "        reader = csv.reader(fin)\n",
    "        \n",
    "        next(reader)            # Skip the header\n",
    "         \n",
    "        # Places all athletes into a list\n",
    "        athletes = list(reader)\n",
    "        \n",
    "        # Remove rows with empty age/height/weight\n",
    "        # NOTE: Could alternatively replace empty values with the column mean\n",
    "        athletes = [row for row in athletes if (all(field != '' for field in row[2:5]))]\n",
    "\n",
    "        # Place all events in one list in column 'EVENTS_COL'\n",
    "        athletes = [row[:EVENTS_COL] + [row[EVENTS_COL:]] for row in athletes]\n",
    "\n",
    "        print athletes[0]\n",
    "\n",
    "    return athletes"
   ]
  },
  {
   "cell_type": "code",
   "execution_count": 7,
   "metadata": {
    "collapsed": false
   },
   "outputs": [],
   "source": [
    "def dist(x, y):\n",
    "    \"\"\" \n",
    "    Euclidean distance between vectors x and y. \n",
    "    Each element of x and y must be numeric or a numeric string.\n",
    "    Requires that len(x) == len(y).\n",
    "    For example: \n",
    "        (age, height, weight) \n",
    "        dist((0, 0, 0), (0, 5, 0)) == 5.0\n",
    "        dist((1, 1, 1), (2, 2, 2)) == 1.7320508075688772\n",
    "        dist(('1', '1', '1'), ('2', '2', '2')) == 1.7320508075688772\n",
    "    \"\"\"\n",
    "    #testing \n",
    "    assert(len(x) == len(y))\n",
    "    \n",
    "    sq_distances = ((float(x[index]) - float(y[index]))**2 for index in range(len(x)))\n",
    "    \n",
    "    return math.sqrt(sum(sq_distances)) \n",
    "\n",
    "#print dist((0, 0, 0), (0, 5, 0))"
   ]
  },
  {
   "cell_type": "code",
   "execution_count": 8,
   "metadata": {
    "collapsed": false
   },
   "outputs": [],
   "source": [
    "def nearest_athletes(point, athletes, k = 1):\n",
    "    \"\"\"\n",
    "    Returns the 'k' athletes closest to 'point'.\n",
    "    Sorts the athletes based on distance to 'point', then return the closest.\n",
    "    \"\"\"\n",
    "    \n",
    "    # calculate the distance between test_point with every athlete\n",
    "    # sort the list of distances\n",
    "    \n",
    "    nearest = sorted(athletes, key=lambda athlete: dist(point, athlete[2:5]))\n",
    "    \n",
    "    return nearest[:k]\n"
   ]
  },
  {
   "cell_type": "code",
   "execution_count": 9,
   "metadata": {
    "collapsed": true
   },
   "outputs": [],
   "source": [
    "def most_common_event(athletes):\n",
    "    \"\"\"\n",
    "    Returns the most frequently occuring event in all 'athletes'.\n",
    "    Consider using Counter.\n",
    "    \"\"\"\n",
    "    events_list = []\n",
    "    \n",
    "    for event in athletes:\n",
    "        events_list.append(event[EVENTS_COL][0])\n",
    "    \n",
    "    events_count = Counter(events_list)\n",
    "\n",
    "    return events_count.most_common(1)[0][0]\n"
   ]
  },
  {
   "cell_type": "code",
   "execution_count": 10,
   "metadata": {
    "collapsed": false
   },
   "outputs": [],
   "source": [
    "# for event in athletes[:3]:\n",
    "# print event[EVENTS_COL][0]\n",
    "    \n",
    "#print athletes[0][EVENTS_COL]\n",
    "\n",
    "# events = Counter(event[-1] for athlete in athletes for event in athletes[0][EVENTS_COL])\n",
    "# events"
   ]
  },
  {
   "cell_type": "code",
   "execution_count": 11,
   "metadata": {
    "collapsed": true
   },
   "outputs": [],
   "source": [
    "#MAIN IMPLEMENTATION AREA"
   ]
  },
  {
   "cell_type": "code",
   "execution_count": 12,
   "metadata": {
    "collapsed": false
   },
   "outputs": [
    {
     "name": "stdout",
     "output_type": "stream",
     "text": [
      "['Lamusi A', \"People's Republic of China\", '23', '170', '60', 'M', '6/2/1989', 'NEIMONGGOL (CHN)', '0', '0', '0', '0', 'Judo', [\"Men's -60kg\"]]\n"
     ]
    }
   ],
   "source": [
    "# load in the file, prints the first record as a sample\n",
    "athletes = load_athletes(ATHLETES_FILE)"
   ]
  },
  {
   "cell_type": "code",
   "execution_count": 18,
   "metadata": {
    "collapsed": false
   },
   "outputs": [
    {
     "name": "stdout",
     "output_type": "stream",
     "text": [
      "TEST POINT:  (24, 150, 65)\n"
     ]
    }
   ],
   "source": [
    "#add any test point that you want\n",
    "test_point = (24, 150, 65) #age, height cm, weight kg\n",
    "print \"TEST POINT: \", test_point"
   ]
  },
  {
   "cell_type": "code",
   "execution_count": 19,
   "metadata": {
    "collapsed": false
   },
   "outputs": [
    {
     "name": "stdout",
     "output_type": "stream",
     "text": [
      "NEAREST ATHLETE(S):  [['Jillian Tyler', 'Canada', '23', '152', '65', 'F', '9/5/1988', 'DIDSBURY (CAN)', '0', '0', '0', '0', 'Swimming', [\"Women's 100m Breaststroke\"]], ['Ogho-Oghene Egwero', 'Nigeria', '23', '152', '64', 'M', '11/26/1988', 'EGBO', '0', '0', '0', '0', 'Athletics', [\"Men's 100m\"]], ['Lisa Dahlkvist', 'Sweden', '25', '147', '68', 'F', '2/6/1987', '', '0', '0', '0', '0', 'Football', [\"Women's Football\"]], ['Mira Suhonen', 'Finland', '27', '153', '63', 'F', '7/9/1985', 'KUORTANE (FIN)', '0', '0', '0', '0', 'Shooting', [\"Women's 10m Air Pistol\"]], ['Geraldine Lee', 'Singapore', '25', '154', '62', 'F', '6/19/1987', '', '0', '0', '0', '0', 'Canoe Sprint', [\"Women's Kayak Single (K1) 200m, Women's Kayak Single (K1) 500m\"]]]\n",
      "('RECOMMENDED EVENT: ', \"Women's 100m Breaststroke\")\n"
     ]
    }
   ],
   "source": [
    "#Perform KNN\n",
    "nearest = nearest_athletes(test_point, athletes, k=5)\n",
    "\n",
    "print \"NEAREST ATHLETE(S): \", nearest\n",
    "\n",
    "# Find the most common event of the nearest athletes\n",
    "event = most_common_event(nearest)\n",
    "print(\"RECOMMENDED EVENT: \", event)"
   ]
  },
  {
   "cell_type": "code",
   "execution_count": null,
   "metadata": {
    "collapsed": true
   },
   "outputs": [],
   "source": []
  }
 ],
 "metadata": {
  "kernelspec": {
   "display_name": "Python 2",
   "language": "python",
   "name": "python2"
  },
  "language_info": {
   "codemirror_mode": {
    "name": "ipython",
    "version": 2
   },
   "file_extension": ".py",
   "mimetype": "text/x-python",
   "name": "python",
   "nbconvert_exporter": "python",
   "pygments_lexer": "ipython2",
   "version": "2.7.5"
  }
 },
 "nbformat": 4,
 "nbformat_minor": 0
}
