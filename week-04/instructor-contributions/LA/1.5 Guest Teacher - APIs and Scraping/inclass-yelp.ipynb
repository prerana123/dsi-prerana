{
 "cells": [
  {
   "cell_type": "code",
   "execution_count": 1,
   "metadata": {
    "collapsed": true
   },
   "outputs": [],
   "source": [
    "import requests\n",
    "from bs4 import BeautifulSoup"
   ]
  },
  {
   "cell_type": "code",
   "execution_count": 2,
   "metadata": {
    "collapsed": true
   },
   "outputs": [],
   "source": [
    "YELP_URL = 'http://www.yelp.com/biz/general-assembly-santa-monica-santa-monica'\n",
    "r = requests.get(YELP_URL)"
   ]
  },
  {
   "cell_type": "code",
   "execution_count": 33,
   "metadata": {
    "collapsed": false
   },
   "outputs": [],
   "source": [
    "bs = BeautifulSoup(r.text, \"lxml\")\n",
    "\n",
    "pages = []   # all pages scraped\n",
    "page = {}    # scraped details for a given page"
   ]
  },
  {
   "cell_type": "code",
   "execution_count": 34,
   "metadata": {
    "collapsed": false
   },
   "outputs": [],
   "source": [
    "title_tag = bs.select('h1.biz-page-title')\n",
    "title = title_tag[0].text.strip()\n",
    "page['title'] = title"
   ]
  },
  {
   "cell_type": "code",
   "execution_count": 35,
   "metadata": {
    "collapsed": false
   },
   "outputs": [],
   "source": [
    "review_tags = bs.select('p[itemprop=\"description\"]')\n",
    "\n",
    "page['reviews'] = []\n",
    "for review_tag in review_tags:\n",
    "    page['reviews'].append(review_tag.get_text())"
   ]
  },
  {
   "cell_type": "code",
   "execution_count": 24,
   "metadata": {
    "collapsed": false
   },
   "outputs": [
    {
     "data": {
      "text/plain": [
       "4.55"
      ]
     },
     "execution_count": 24,
     "metadata": {},
     "output_type": "execute_result"
    }
   ],
   "source": [
    "# All meta tags with attribute itemprop=\"ratingValue\"\n",
    "#   which are descendents of div tags with class review-list\n",
    "user_ratings = bs.select('div.review-list meta[itemprop=\"ratingValue\"]')\n",
    "\n",
    "# Test if avg rating is similar to the overall rating (4.5)\n",
    "all_ratings = [float(x.attrs['content']) for x in user_ratings]\n",
    "sum(all_ratings) / len(all_ratings)"
   ]
  },
  {
   "cell_type": "code",
   "execution_count": null,
   "metadata": {
    "collapsed": true
   },
   "outputs": [],
   "source": [
    "dan@danwilhelm.com"
   ]
  }
 ],
 "metadata": {
  "kernelspec": {
   "display_name": "Python 3",
   "language": "python",
   "name": "python3"
  },
  "language_info": {
   "codemirror_mode": {
    "name": "ipython",
    "version": 3
   },
   "file_extension": ".py",
   "mimetype": "text/x-python",
   "name": "python",
   "nbconvert_exporter": "python",
   "pygments_lexer": "ipython3",
   "version": "3.5.1"
  }
 },
 "nbformat": 4,
 "nbformat_minor": 0
}
