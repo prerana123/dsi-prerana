{
 "cells": [
  {
   "cell_type": "code",
   "execution_count": 1,
   "metadata": {
    "collapsed": true
   },
   "outputs": [],
   "source": [
    "# JSONView Chrome extension\n",
    "import requests\n",
    "import csv"
   ]
  },
  {
   "cell_type": "code",
   "execution_count": 4,
   "metadata": {
    "collapsed": false
   },
   "outputs": [
    {
     "data": {
      "text/plain": [
       "[[{'attributionText': 'from The American Heritage® Dictionary of the English Language, 4th Edition',\n",
       "   'citations': [],\n",
       "   'exampleUses': [],\n",
       "   'labels': [],\n",
       "   'partOfSpeech': 'noun',\n",
       "   'relatedWords': [],\n",
       "   'score': 0.0,\n",
       "   'sequence': '0',\n",
       "   'sourceDictionary': 'ahd-legacy',\n",
       "   'text': 'A piece of furniture consisting of a seat, legs, back, and often arms, designed to accommodate one person.',\n",
       "   'textProns': [],\n",
       "   'word': 'chair'},\n",
       "  {'attributionText': 'from The American Heritage® Dictionary of the English Language, 4th Edition',\n",
       "   'citations': [],\n",
       "   'exampleUses': [],\n",
       "   'labels': [],\n",
       "   'partOfSpeech': 'noun',\n",
       "   'relatedWords': [],\n",
       "   'score': 0.0,\n",
       "   'sequence': '1',\n",
       "   'sourceDictionary': 'ahd-legacy',\n",
       "   'text': 'A seat of office, authority, or dignity, such as that of a bishop.',\n",
       "   'textProns': [],\n",
       "   'word': 'chair'},\n",
       "  {'attributionText': 'from The American Heritage® Dictionary of the English Language, 4th Edition',\n",
       "   'citations': [],\n",
       "   'exampleUses': [],\n",
       "   'labels': [],\n",
       "   'partOfSpeech': 'noun',\n",
       "   'relatedWords': [],\n",
       "   'score': 0.0,\n",
       "   'sequence': '2',\n",
       "   'sourceDictionary': 'ahd-legacy',\n",
       "   'text': 'An office or position of authority, such as a professorship.',\n",
       "   'textProns': [],\n",
       "   'word': 'chair'},\n",
       "  {'attributionText': 'from The American Heritage® Dictionary of the English Language, 4th Edition',\n",
       "   'citations': [],\n",
       "   'exampleUses': [],\n",
       "   'labels': [],\n",
       "   'partOfSpeech': 'noun',\n",
       "   'relatedWords': [],\n",
       "   'score': 0.0,\n",
       "   'sequence': '3',\n",
       "   'sourceDictionary': 'ahd-legacy',\n",
       "   'text': 'A person who holds an office or a position of authority, such as one who presides over a meeting or administers a department of instruction at a college; a chairperson.',\n",
       "   'textProns': [],\n",
       "   'word': 'chair'},\n",
       "  {'attributionText': 'from The American Heritage® Dictionary of the English Language, 4th Edition',\n",
       "   'citations': [],\n",
       "   'exampleUses': [],\n",
       "   'labels': [],\n",
       "   'partOfSpeech': 'noun',\n",
       "   'relatedWords': [],\n",
       "   'score': 0.0,\n",
       "   'sequence': '4',\n",
       "   'sourceDictionary': 'ahd-legacy',\n",
       "   'text': 'The position of a player in an orchestra.',\n",
       "   'textProns': [],\n",
       "   'word': 'chair'},\n",
       "  {'attributionText': 'from The American Heritage® Dictionary of the English Language, 4th Edition',\n",
       "   'citations': [],\n",
       "   'exampleUses': [],\n",
       "   'labels': [],\n",
       "   'partOfSpeech': 'noun',\n",
       "   'relatedWords': [],\n",
       "   'score': 0.0,\n",
       "   'sequence': '5',\n",
       "   'sourceDictionary': 'ahd-legacy',\n",
       "   'text': 'Slang   The electric chair.',\n",
       "   'textProns': [],\n",
       "   'word': 'chair'},\n",
       "  {'attributionText': 'from The American Heritage® Dictionary of the English Language, 4th Edition',\n",
       "   'citations': [],\n",
       "   'exampleUses': [],\n",
       "   'labels': [],\n",
       "   'partOfSpeech': 'noun',\n",
       "   'relatedWords': [],\n",
       "   'score': 0.0,\n",
       "   'sequence': '6',\n",
       "   'sourceDictionary': 'ahd-legacy',\n",
       "   'text': 'A seat carried about on poles; a sedan chair.',\n",
       "   'textProns': [],\n",
       "   'word': 'chair'},\n",
       "  {'attributionText': 'from The American Heritage® Dictionary of the English Language, 4th Edition',\n",
       "   'citations': [],\n",
       "   'exampleUses': [],\n",
       "   'labels': [],\n",
       "   'partOfSpeech': 'noun',\n",
       "   'relatedWords': [],\n",
       "   'score': 0.0,\n",
       "   'sequence': '7',\n",
       "   'sourceDictionary': 'ahd-legacy',\n",
       "   'text': 'Any of several devices that serve to support or secure, such as a metal block that supports and holds railroad track in position.',\n",
       "   'textProns': [],\n",
       "   'word': 'chair'},\n",
       "  {'attributionText': 'from The American Heritage® Dictionary of the English Language, 4th Edition',\n",
       "   'citations': [],\n",
       "   'exampleUses': [],\n",
       "   'labels': [],\n",
       "   'partOfSpeech': 'verb-transitive',\n",
       "   'relatedWords': [],\n",
       "   'score': 0.0,\n",
       "   'sequence': '8',\n",
       "   'sourceDictionary': 'ahd-legacy',\n",
       "   'text': 'To install in a position of authority, especially as a presiding officer.',\n",
       "   'textProns': [],\n",
       "   'word': 'chair'},\n",
       "  {'attributionText': 'from The American Heritage® Dictionary of the English Language, 4th Edition',\n",
       "   'citations': [],\n",
       "   'exampleUses': [],\n",
       "   'labels': [],\n",
       "   'partOfSpeech': 'verb-transitive',\n",
       "   'relatedWords': [],\n",
       "   'score': 0.0,\n",
       "   'sequence': '9',\n",
       "   'sourceDictionary': 'ahd-legacy',\n",
       "   'text': 'To preside over as chairperson:  chair a meeting. ',\n",
       "   'textProns': [],\n",
       "   'word': 'chair'}],\n",
       " [{'attributionText': 'from The American Heritage® Dictionary of the English Language, 4th Edition',\n",
       "   'citations': [],\n",
       "   'exampleUses': [],\n",
       "   'labels': [],\n",
       "   'partOfSpeech': 'noun',\n",
       "   'relatedWords': [],\n",
       "   'score': 0.0,\n",
       "   'sequence': '0',\n",
       "   'sourceDictionary': 'ahd-legacy',\n",
       "   'text': 'Any of several treelike Asian herbs of the genus Musa, especially M. acuminata, having a terminal crown of large, entire leaves and a hanging cluster of fruits.',\n",
       "   'textProns': [],\n",
       "   'word': 'banana'},\n",
       "  {'attributionText': 'from The American Heritage® Dictionary of the English Language, 4th Edition',\n",
       "   'citations': [],\n",
       "   'exampleUses': [],\n",
       "   'labels': [],\n",
       "   'partOfSpeech': 'noun',\n",
       "   'relatedWords': [],\n",
       "   'score': 0.0,\n",
       "   'sequence': '1',\n",
       "   'sourceDictionary': 'ahd-legacy',\n",
       "   'text': 'The elongated, edible fruit of these plants, having a thick yellowish to reddish skin and white, aromatic, seedless pulp.',\n",
       "   'textProns': [],\n",
       "   'word': 'banana'}],\n",
       " [{'attributionText': 'from The American Heritage® Dictionary of the English Language, 4th Edition',\n",
       "   'citations': [],\n",
       "   'exampleUses': [],\n",
       "   'labels': [],\n",
       "   'partOfSpeech': 'noun',\n",
       "   'relatedWords': [],\n",
       "   'score': 0.0,\n",
       "   'sequence': '0',\n",
       "   'sourceDictionary': 'ahd-legacy',\n",
       "   'text': 'A device that computes, especially a programmable electronic machine that performs high-speed mathematical or logical operations or that assembles, stores, correlates, or otherwise processes information.',\n",
       "   'textProns': [],\n",
       "   'word': 'computer'},\n",
       "  {'attributionText': 'from The American Heritage® Dictionary of the English Language, 4th Edition',\n",
       "   'citations': [],\n",
       "   'exampleUses': [],\n",
       "   'labels': [],\n",
       "   'partOfSpeech': 'noun',\n",
       "   'relatedWords': [],\n",
       "   'score': 0.0,\n",
       "   'sequence': '1',\n",
       "   'sourceDictionary': 'ahd-legacy',\n",
       "   'text': 'One who computes.',\n",
       "   'textProns': [],\n",
       "   'word': 'computer'}]]"
      ]
     },
     "execution_count": 4,
     "metadata": {},
     "output_type": "execute_result"
    }
   ],
   "source": [
    "WORDNIK_URL = 'http://api.wordnik.com/v4/word.json/'\n",
    "END_URL = '/definitions?limit=200&includeRelated=true&useCanonical=false&includeTags=false&api_key=a2a73e7b926c924fad7001ca3111acd55af2ffabf50eb4ae5'\n",
    "\n",
    "words = ['chair', 'banana', 'computer']\n",
    "\n",
    "# Example of getting three definitions at once!\n",
    "defs = []\n",
    "for x in words:\n",
    "    r = requests.get(WORDNIK_URL + x + END_URL)\n",
    "    defs.append(r.json())\n",
    "    # DELAY HERE\n",
    "\n",
    "defs"
   ]
  },
  {
   "cell_type": "code",
   "execution_count": 5,
   "metadata": {
    "collapsed": false
   },
   "outputs": [],
   "source": [
    "# At this point, r refers to the 'computer' word\n",
    "# Convert JSON string to Python objects\n",
    "definitions = r.json()"
   ]
  },
  {
   "cell_type": "code",
   "execution_count": 6,
   "metadata": {
    "collapsed": false
   },
   "outputs": [
    {
     "data": {
      "text/plain": [
       "'A device that computes, especially a programmable electronic machine that performs high-speed mathematical or logical operations or that assembles, stores, correlates, or otherwise processes information.'"
      ]
     },
     "execution_count": 6,
     "metadata": {},
     "output_type": "execute_result"
    }
   ],
   "source": [
    "definitions[0]['text']"
   ]
  },
  {
   "cell_type": "code",
   "execution_count": 7,
   "metadata": {
    "collapsed": true
   },
   "outputs": [],
   "source": [
    "import csv\n",
    "\n",
    "# Write definitions to csv file\n",
    "fout = open('defs.csv', 'w')\n",
    "writer = csv.DictWriter(fout, fieldnames=definitions[0].keys())\n",
    "writer.writeheader()\n",
    "writer.writerows(definitions)"
   ]
  },
  {
   "cell_type": "code",
   "execution_count": 8,
   "metadata": {
    "collapsed": false
   },
   "outputs": [
    {
     "data": {
      "text/html": [
       "<div>\n",
       "<table border=\"1\" class=\"dataframe\">\n",
       "  <thead>\n",
       "    <tr style=\"text-align: right;\">\n",
       "      <th></th>\n",
       "      <th>score</th>\n",
       "      <th>word</th>\n",
       "      <th>citations</th>\n",
       "      <th>relatedWords</th>\n",
       "      <th>sequence</th>\n",
       "      <th>partOfSpeech</th>\n",
       "      <th>labels</th>\n",
       "      <th>exampleUses</th>\n",
       "      <th>sourceDictionary</th>\n",
       "      <th>textProns</th>\n",
       "      <th>text</th>\n",
       "      <th>attributionText</th>\n",
       "    </tr>\n",
       "  </thead>\n",
       "  <tbody>\n",
       "    <tr>\n",
       "      <th>0</th>\n",
       "      <td>0.0</td>\n",
       "      <td>computer</td>\n",
       "      <td>[]</td>\n",
       "      <td>[]</td>\n",
       "      <td>0</td>\n",
       "      <td>noun</td>\n",
       "      <td>[]</td>\n",
       "      <td>[]</td>\n",
       "      <td>ahd-legacy</td>\n",
       "      <td>[]</td>\n",
       "      <td>A device that computes, especially a programma...</td>\n",
       "      <td>from The American Heritage® Dictionary of the ...</td>\n",
       "    </tr>\n",
       "    <tr>\n",
       "      <th>1</th>\n",
       "      <td>0.0</td>\n",
       "      <td>computer</td>\n",
       "      <td>[]</td>\n",
       "      <td>[]</td>\n",
       "      <td>1</td>\n",
       "      <td>noun</td>\n",
       "      <td>[]</td>\n",
       "      <td>[]</td>\n",
       "      <td>ahd-legacy</td>\n",
       "      <td>[]</td>\n",
       "      <td>One who computes.</td>\n",
       "      <td>from The American Heritage® Dictionary of the ...</td>\n",
       "    </tr>\n",
       "  </tbody>\n",
       "</table>\n",
       "</div>"
      ],
      "text/plain": [
       "   score      word citations relatedWords sequence partOfSpeech labels  \\\n",
       "0    0.0  computer        []           []        0         noun     []   \n",
       "1    0.0  computer        []           []        1         noun     []   \n",
       "\n",
       "  exampleUses sourceDictionary textProns  \\\n",
       "0          []       ahd-legacy        []   \n",
       "1          []       ahd-legacy        []   \n",
       "\n",
       "                                                text  \\\n",
       "0  A device that computes, especially a programma...   \n",
       "1                                  One who computes.   \n",
       "\n",
       "                                     attributionText  \n",
       "0  from The American Heritage® Dictionary of the ...  \n",
       "1  from The American Heritage® Dictionary of the ...  "
      ]
     },
     "execution_count": 8,
     "metadata": {},
     "output_type": "execute_result"
    }
   ],
   "source": [
    "import pandas as pd\n",
    "\n",
    "# Write definitions to DataFrame\n",
    "df = pd.DataFrame(data=definitions, \n",
    "                  columns=definitions[0].keys())\n",
    "df"
   ]
  },
  {
   "cell_type": "code",
   "execution_count": 21,
   "metadata": {
    "collapsed": false
   },
   "outputs": [
    {
     "name": "stdout",
     "output_type": "stream",
     "text": [
      "+ A piece of furniture consisting of a seat, legs, back, and often arms, designed to accommodate one person.\n",
      "+ A seat of office, authority, or dignity, such as that of a bishop.\n",
      "+ An office or position of authority, such as a professorship.\n",
      "+ A person who holds an office or a position of authority, such as one who presides over a meeting or administers a department of instruction at a college; a chairperson.\n",
      "+ The position of a player in an orchestra.\n",
      "+ Slang   The electric chair.\n",
      "+ A seat carried about on poles; a sedan chair.\n",
      "+ Any of several devices that serve to support or secure, such as a metal block that supports and holds railroad track in position.\n",
      "+ To install in a position of authority, especially as a presiding officer.\n",
      "+ To preside over as chairperson:  chair a meeting. \n"
     ]
    }
   ],
   "source": [
    "# List all definitions\n",
    "for definition in definitions:\n",
    "    print('+', definition['text'])"
   ]
  },
  {
   "cell_type": "code",
   "execution_count": null,
   "metadata": {
    "collapsed": true
   },
   "outputs": [],
   "source": []
  }
 ],
 "metadata": {
  "kernelspec": {
   "display_name": "Python 3",
   "language": "python",
   "name": "python3"
  },
  "language_info": {
   "codemirror_mode": {
    "name": "ipython",
    "version": 3
   },
   "file_extension": ".py",
   "mimetype": "text/x-python",
   "name": "python",
   "nbconvert_exporter": "python",
   "pygments_lexer": "ipython3",
   "version": "3.5.1"
  }
 },
 "nbformat": 4,
 "nbformat_minor": 0
}
