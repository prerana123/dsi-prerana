{
 "cells": [
  {
   "cell_type": "markdown",
   "metadata": {},
   "source": [
    "# Comprehensive week 4 practice\n",
    "\n",
    "This week you've learned about:\n",
    "\n",
    "- Classification vs. regression\n",
    "    - Predicting class labels\n",
    "    - Predicted probability vs. predicted mean for target/dependent variables\n",
    "- Categorical vs. continuous variables\n",
    "    - Dummy coding representation in the X matrix\n",
    "- The kNN classification algorithm\n",
    "    - How choice of neighbors affects the bias-variance tradeoff\n",
    "- The logistic regression algorithm\n",
    "    - The logit/logistic link function\n",
    "    - How logistic regression can still use the least squares loss function via the link function\n",
    "    - Pros/Cons of logistic regression vs. kNN\n",
    "- Validation of classifiers using cross-validation\n",
    "- Benefits of predictor normalization\n",
    "- How classification metrics differ from regression\n",
    "    - Confusion matrices (TP, FP, TN, FN)\n",
    "    - ROC curves\n",
    "    - How changing predicted probability thresholds change confusion matrices\n",
    "    - How context and goals inform your choice of threshold\n",
    "- Regularization\n",
    "    - How Lasso and Ridge change the least squared loss function\n",
    "    - How regularization affects the bias-variance tradeoff\n",
    "    - How to tune your regularization with cross-validation and gridsearching\n",
    "    - How context of the problem informs which regularization to use (if any!)\n",
    "    - Pros/cons to choice of Ridge or Lasso\n",
    "   \n",
    "---\n",
    "\n",
    "### Now it's time to put it all together\n",
    "\n",
    "As a class we're going to go through the process of classifying spam in a dataset with a wide variety of predictors. You will need to go through the full process.\n",
    "\n",
    "The data has been pre-cleaned, so no need to go through that part of the process. We have been practicing that enough and I want you to focus on the new things we learned this week.\n",
    "\n",
    "Given the thing's you've learned above, go through the process of classifying the **`is_spam`** column with some or all of the provided predictors!\n",
    "\n",
    "The dataset path is provided for you in the cell below:"
   ]
  },
  {
   "cell_type": "code",
   "execution_count": 1,
   "metadata": {
    "collapsed": true
   },
   "outputs": [],
   "source": [
    "spam_path = '../assets/datasets/spam_modified.csv'"
   ]
  },
  {
   "cell_type": "markdown",
   "metadata": {},
   "source": [
    "---\n",
    "\n",
    "### Step 1: Load packages and spam dataset"
   ]
  },
  {
   "cell_type": "code",
   "execution_count": null,
   "metadata": {
    "collapsed": true
   },
   "outputs": [],
   "source": []
  }
 ],
 "metadata": {
  "kernelspec": {
   "display_name": "Python 2",
   "language": "python",
   "name": "python2"
  },
  "language_info": {
   "codemirror_mode": {
    "name": "ipython",
    "version": 2
   },
   "file_extension": ".py",
   "mimetype": "text/x-python",
   "name": "python",
   "nbconvert_exporter": "python",
   "pygments_lexer": "ipython2",
   "version": "2.7.11"
  }
 },
 "nbformat": 4,
 "nbformat_minor": 0
}
