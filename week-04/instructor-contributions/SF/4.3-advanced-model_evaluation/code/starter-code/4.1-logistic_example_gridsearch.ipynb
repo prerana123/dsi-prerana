{
 "cells": [
  {
   "cell_type": "markdown",
   "metadata": {},
   "source": [
    "The data dictionary for this dataset is located here:\n",
    "\n",
    "http://archive.ics.uci.edu/ml/machine-learning-databases/voting-records/house-votes-84.names"
   ]
  },
  {
   "cell_type": "code",
   "execution_count": 152,
   "metadata": {
    "collapsed": true
   },
   "outputs": [],
   "source": [
    "import pandas as pd, numpy as np\n",
    "from patsy import dmatrices, dmatrix, demo_data\n",
    "\n",
    "from sklearn import linear_model, decomposition, datasets\n",
    "from sklearn.pipeline import Pipeline\n",
    "from sklearn.grid_search import GridSearchCV\n",
    "from sklearn.cross_validation import train_test_split\n",
    "from sklearn.metrics import classification_report"
   ]
  },
  {
   "cell_type": "code",
   "execution_count": 82,
   "metadata": {
    "collapsed": false
   },
   "outputs": [],
   "source": [
    "columns = [\n",
    "    \"class\", \n",
    "    \"handicapped_infants\", \n",
    "    \"water_project_cost\", \n",
    "    \"adoption_of_the_budget_resolution\", \n",
    "    \"physician_fee_freeze\",\n",
    "    \"el_salvador_aid\",\n",
    "    \"religious_groups_in_schools\",\n",
    "    \"anti_satellite_test_ban\",\n",
    "    \"aid_to_nicaraguan_contras\",\n",
    "    \"mx_missile\",\n",
    "    \"immigration\",\n",
    "    \"synfuels_corporation_cutback\",\n",
    "    \"education_spending\",\n",
    "    \"superfund_right_to_sue\",\n",
    "    \"crime\",\n",
    "    \"duty_free_exports\",\n",
    "    \"export_administration_act_south_africa\"\n",
    "]\n",
    "\n",
    "csv_url = \"http://archive.ics.uci.edu/ml/machine-learning-databases/voting-records/house-votes-84.data\"\n",
    "house_df = pd.read_csv(csv_url, names = columns)\n",
    "house_df['class'] = house_df['class'].map(lambda value: 0 if value == \"republican\" else 1 )"
   ]
  },
  {
   "cell_type": "markdown",
   "metadata": {},
   "source": [
    "## Quick Data Cleaning\n",
    "This is usually a bad idea to ffill this much but there isn't too much missing data."
   ]
  },
  {
   "cell_type": "code",
   "execution_count": 46,
   "metadata": {
    "collapsed": false
   },
   "outputs": [],
   "source": [
    "house_df.replace('?', np.nan, inplace=True)\n",
    "house_df.ffill(inplace=True)"
   ]
  },
  {
   "cell_type": "markdown",
   "metadata": {},
   "source": [
    "### Setup Patsy to Use All Variables as Predictors\n",
    "This is mainly a convience to avoid typing all the variables out."
   ]
  },
  {
   "cell_type": "code",
   "execution_count": 83,
   "metadata": {
    "collapsed": false
   },
   "outputs": [
    {
     "data": {
      "text/plain": [
       "'C(adoption_of_the_budget_resolution) + C(aid_to_nicaraguan_contras) + C(anti_satellite_test_ban) + C(crime) + C(duty_free_exports) + C(education_spending) + C(el_salvador_aid) + C(export_administration_act_south_africa) + C(handicapped_infants) + C(immigration) + C(mx_missile) + C(physician_fee_freeze) + C(religious_groups_in_schools) + C(superfund_right_to_sue) + C(synfuels_corporation_cutback) + C(water_project_cost)'"
      ]
     },
     "execution_count": 83,
     "metadata": {},
     "output_type": "execute_result"
    }
   ],
   "source": [
    "all_columns = \"C(\" + \") + C(\".join(house_df.columns - [\"class\"]) + ')' # We remove class becuase that's our predictor!\n",
    "all_columns"
   ]
  },
  {
   "cell_type": "code",
   "execution_count": 91,
   "metadata": {
    "collapsed": false
   },
   "outputs": [
    {
     "data": {
      "text/plain": [
       "'~ C(adoption_of_the_budget_resolution) + C(aid_to_nicaraguan_contras) + C(anti_satellite_test_ban) + C(crime) + C(duty_free_exports) + C(education_spending) + C(el_salvador_aid) + C(export_administration_act_south_africa) + C(handicapped_infants) + C(immigration) + C(mx_missile) + C(physician_fee_freeze) + C(religious_groups_in_schools) + C(superfund_right_to_sue) + C(synfuels_corporation_cutback) + C(water_project_cost)'"
      ]
     },
     "execution_count": 91,
     "metadata": {},
     "output_type": "execute_result"
    }
   ],
   "source": [
    "formula = str(\"~ \" + all_columns)\n",
    "formula"
   ]
  },
  {
   "cell_type": "markdown",
   "metadata": {},
   "source": [
    "## Use Our Patsy Forumula to Encode our Data"
   ]
  },
  {
   "cell_type": "code",
   "execution_count": 110,
   "metadata": {
    "collapsed": false
   },
   "outputs": [],
   "source": [
    "X = dmatrix(formula, house_df)  # Encoded variables / predictors\n",
    "y = house_df['class']           # Target / response"
   ]
  },
  {
   "cell_type": "markdown",
   "metadata": {},
   "source": [
    "## Setup Logistic Regression"
   ]
  },
  {
   "cell_type": "code",
   "execution_count": 111,
   "metadata": {
    "collapsed": false
   },
   "outputs": [],
   "source": [
    "logistic = linear_model.LogisticRegression()"
   ]
  },
  {
   "cell_type": "markdown",
   "metadata": {},
   "source": [
    "## Define Search Parameters\n",
    "\n",
    "Full list of parameters here:\n",
    "\n",
    "http://scikit-learn.org/stable/modules/generated/sklearn.linear_model.LogisticRegression.html"
   ]
  },
  {
   "cell_type": "code",
   "execution_count": 176,
   "metadata": {
    "collapsed": false
   },
   "outputs": [],
   "source": [
    "Cs = np.logspace(0.0, 5.0, 20)\n",
    "\n",
    "search_parameters = {\n",
    "    \"penalty\":             ['l1','l2'],   # Used to specify the norm used in the penalization.\n",
    "    \"C\":                   Cs,  # Regularization paramter\n",
    "    # \"dual\":                [True, False], # Dual or primal formulation. Dual formulation is only implemented for l2 penalty with liblinear solver. Prefer dual=False when n_samples > n_features\n",
    "    \"fit_intercept\":       [False, True], # Specifies if a constant (a.k.a. bias or intercept) should be added to the decision function.\n",
    "    \"class_weight\":        [None, \"balanced\"], # The “balanced” mode uses the values of y to automatically adjust weights inversely proportional to class frequencies in the input data as n_samples / (n_classes * np.bincount(y))\n",
    "    \"intercept_scaling\":   [2, 1],        # Useful only if solver is liblinear. when self.fit_intercept is True, instance vector x becomes [x, self.intercept_scaling], i.e. a “synthetic” feature with constant value equals to intercept_scaling is appended to the instance vector. \n",
    "    \"solver\":              ['liblinear'],\n",
    "    \"warm_start\":          [False, True]\n",
    "}\n",
    "\n",
    "estimator = GridSearchCV(logistic, search_parameters)"
   ]
  },
  {
   "cell_type": "markdown",
   "metadata": {},
   "source": [
    "## Test Train Split"
   ]
  },
  {
   "cell_type": "code",
   "execution_count": 177,
   "metadata": {
    "collapsed": true
   },
   "outputs": [],
   "source": [
    "X_train, X_test, y_train, y_test = train_test_split(X, y, test_size=0.33, random_state=42)"
   ]
  },
  {
   "cell_type": "code",
   "execution_count": 178,
   "metadata": {
    "collapsed": false
   },
   "outputs": [
    {
     "data": {
      "text/plain": [
       "GridSearchCV(cv=None, error_score='raise',\n",
       "       estimator=LogisticRegression(C=1.0, class_weight=None, dual=False, fit_intercept=True,\n",
       "          intercept_scaling=1, max_iter=100, multi_class='ovr', n_jobs=1,\n",
       "          penalty='l2', random_state=None, solver='liblinear', tol=0.0001,\n",
       "          verbose=0, warm_start=False),\n",
       "       fit_params={}, iid=True, n_jobs=1,\n",
       "       param_grid={'warm_start': [False, True], 'C': array([  1.00000e+00,   1.83298e+00,   3.35982e+00,   6.15848e+00,\n",
       "         1.12884e+01,   2.06914e+01,   3.79269e+01,   6.95193e+01,\n",
       "         1.27427e+02,   2.33572e+02,   4.28133e+02,   7.84760e+02,\n",
       "         1.43845e+03,   2.63665e+03,   4.83293e+03,  ...near'], 'fit_intercept': [False, True], 'penalty': ['l1', 'l2'], 'class_weight': [None, 'balanced']},\n",
       "       pre_dispatch='2*n_jobs', refit=True, scoring=None, verbose=0)"
      ]
     },
     "execution_count": 178,
     "metadata": {},
     "output_type": "execute_result"
    }
   ],
   "source": [
    "estimator.fit(X_train, y_train)"
   ]
  },
  {
   "cell_type": "markdown",
   "metadata": {},
   "source": [
    "## GridSearch Estimator Report"
   ]
  },
  {
   "cell_type": "code",
   "execution_count": 164,
   "metadata": {
    "collapsed": false
   },
   "outputs": [
    {
     "name": "stdout",
     "output_type": "stream",
     "text": [
      "Best C / Regularization Param: 2.5\n",
      "Best Params: {'warm_start': False, 'C': 2.5, 'intercept_scaling': 2, 'fit_intercept': False, 'solver': 'liblinear', 'penalty': 'l1', 'class_weight': None}\n",
      "Best Score: 0.962199312715\n"
     ]
    }
   ],
   "source": [
    "print \"Best C / Regularization Param:\", estimator.best_estimator_.C # This estimator.best_estimator_ object has many great reporting metrics\n",
    "print \"Best Params:\", estimator.best_params_\n",
    "print \"Best Score:\", estimator.best_score_"
   ]
  },
  {
   "cell_type": "code",
   "execution_count": 165,
   "metadata": {
    "collapsed": false
   },
   "outputs": [
    {
     "name": "stdout",
     "output_type": "stream",
     "text": [
      "             precision    recall  f1-score   support\n",
      "\n",
      " Republican       0.98      0.98      0.98        47\n",
      "   Democrat       0.99      0.99      0.99        97\n",
      "\n",
      "avg / total       0.99      0.99      0.99       144\n",
      "\n"
     ]
    }
   ],
   "source": [
    "y_true, y_pred = y_test, estimator.predict(X_test)\n",
    "print classification_report(y_true, y_pred, target_names=[\"Republican\", \"Democrat\"])\n"
   ]
  },
  {
   "cell_type": "code",
   "execution_count": null,
   "metadata": {
    "collapsed": true
   },
   "outputs": [],
   "source": []
  }
 ],
 "metadata": {
  "kernelspec": {
   "display_name": "Python 2",
   "language": "python",
   "name": "python2"
  },
  "language_info": {
   "codemirror_mode": {
    "name": "ipython",
    "version": 2
   },
   "file_extension": ".py",
   "mimetype": "text/x-python",
   "name": "python",
   "nbconvert_exporter": "python",
   "pygments_lexer": "ipython2",
   "version": "2.7.9"
  },
  "widgets": {
   "state": {},
   "version": "1.1.0"
  }
 },
 "nbformat": 4,
 "nbformat_minor": 0
}
