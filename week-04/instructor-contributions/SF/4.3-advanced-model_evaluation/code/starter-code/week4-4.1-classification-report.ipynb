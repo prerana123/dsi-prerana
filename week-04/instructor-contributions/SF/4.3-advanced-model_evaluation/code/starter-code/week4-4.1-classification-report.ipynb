{
 "cells": [
  {
   "cell_type": "code",
   "execution_count": 108,
   "metadata": {
    "collapsed": false
   },
   "outputs": [
    {
     "name": "stdout",
     "output_type": "stream",
     "text": [
      "             precision    recall  f1-score   support\n",
      "\n",
      "     benign       0.67      0.67      0.67         3\n",
      "  malignant       0.83      0.83      0.83         6\n",
      "\n",
      "avg / total       0.78      0.78      0.78         9\n",
      "\n"
     ]
    }
   ],
   "source": [
    "from sklearn.metrics import classification_report\n",
    "\n",
    "# 0 means benign, 1 means malignant\n",
    "target    = [0, 1, 1, 0, 1, 0, 1, 1, 1]\n",
    "\n",
    "#Prediction Results from a Machine Leaning Model\n",
    "predicted = [0, 0, 1, 1, 1, 0, 1, 1, 1]\n",
    "\n",
    "# Label the Classifiers\n",
    "target_names = ['benign', 'malignant']\n",
    "\n",
    "#Print Classification Report\n",
    "print(classification_report(target, predicted, target_names=target_names))\n"
   ]
  },
  {
   "cell_type": "code",
   "execution_count": 38,
   "metadata": {
    "collapsed": true
   },
   "outputs": [],
   "source": [
    "from __future__ import print_function\n",
    "from ipywidgets import interact, interactive, fixed\n",
    "import ipywidgets as widgets\n",
    "from ipywidgets import *"
   ]
  },
  {
   "cell_type": "code",
   "execution_count": 21,
   "metadata": {
    "collapsed": true
   },
   "outputs": [],
   "source": [
    "def f(x):\n",
    "    return x"
   ]
  },
  {
   "cell_type": "code",
   "execution_count": 22,
   "metadata": {
    "collapsed": false
   },
   "outputs": [
    {
     "data": {
      "text/plain": [
       "10"
      ]
     },
     "metadata": {},
     "output_type": "display_data"
    },
    {
     "data": {
      "text/plain": [
       "<function __main__.f>"
      ]
     },
     "execution_count": 22,
     "metadata": {},
     "output_type": "execute_result"
    }
   ],
   "source": [
    "interact(f, x=10)"
   ]
  },
  {
   "cell_type": "code",
   "execution_count": 39,
   "metadata": {
    "collapsed": false
   },
   "outputs": [],
   "source": [
    "from ipywidgets import *"
   ]
  },
  {
   "cell_type": "code",
   "execution_count": 106,
   "metadata": {
    "collapsed": false
   },
   "outputs": [],
   "source": [
    "def test(x):\n",
    "    \n",
    "    target = [1,1,1,1,1,1,1,1,1,1,1,1,1,0,0,0,0,0,0,0,0,0,0,0,0,0,0,0,0,0]\n",
    "    predicted = ([1] * x) + ([0] * (30-x))\n",
    "    \n",
    "    print(\"Target   \", target)\n",
    "    print(\"Predicted\", predicted)\n",
    "    \n",
    "    # Label the Classifiers\n",
    "    target_names = ['benign', 'malignant']\n",
    "\n",
    "    #Print Classification Report\n",
    "    print(classification_report(target, predicted, target_names=target_names))\n",
    "    \n",
    "    return\n",
    "\n",
    "# IntSlider?"
   ]
  },
  {
   "cell_type": "code",
   "execution_count": 107,
   "metadata": {
    "collapsed": false
   },
   "outputs": [
    {
     "name": "stdout",
     "output_type": "stream",
     "text": [
      "Target    [1, 1, 1, 1, 1, 1, 1, 1, 1, 1, 1, 1, 1, 0, 0, 0, 0, 0, 0, 0, 0, 0, 0, 0, 0, 0, 0, 0, 0, 0]\n",
      "Predicted [1, 1, 1, 1, 1, 1, 1, 1, 1, 1, 1, 1, 1, 0, 0, 0, 0, 0, 0, 0, 0, 0, 0, 0, 0, 0, 0, 0, 0, 0]\n",
      "             precision    recall  f1-score   support\n",
      "\n",
      "     benign       1.00      1.00      1.00        17\n",
      "  malignant       1.00      1.00      1.00        13\n",
      "\n",
      "avg / total       1.00      1.00      1.00        30\n",
      "\n"
     ]
    }
   ],
   "source": [
    "interact(test, x=10, i=IntSlider(min=1, max=30, step=1));"
   ]
  },
  {
   "cell_type": "markdown",
   "metadata": {},
   "source": [
    "Each of the columns indicate an important metric for evaluating classification model performance.\n",
    "\n",
    "|   |   |\n",
    "|---|---|\n",
    "|**precision** | Ability of the classifier to avoid labeling a class as a member of another class. <br><br> `Precision = True Positives / (True Positives + False Positives)`<br><br>_A precision score of 1 indicates that the classifier never mistakenly classified the current class as another class.  precision score of 0 would mean that the classifier misclassified every instance of the current class_ |\n",
    "|**recall**    | is the ability of the classifier to correctly identify the current class. <br><br>`Recall = True Positives / (True Positives + False Negatives)`<br><br>A recall of 1 indicates that the classifier correctly predicted all observations.  0 means the classifier predicted all observations of the current class incorrectly.|\n",
    "|**f1-score** | is the harmonic mean of the precision and recall. The harmonic mean is used here rather than the more conventional arithmetic mean because the harmonic mean is more appropriate for averaging rates. <br><br>`F1-Score = 2 * (Precision * Recall) / (Precision + Recall)` <br><br>_The f1-score's best value is 1 and worst value is 0, like the precision and recall scores. It is a useful metric for taking into account both measures at once._ |\n",
    "|**support** | is simply the number of observations of the labelled class.|"
   ]
  },
  {
   "cell_type": "code",
   "execution_count": null,
   "metadata": {
    "collapsed": true
   },
   "outputs": [],
   "source": []
  }
 ],
 "metadata": {
  "kernelspec": {
   "display_name": "Python 2",
   "language": "python",
   "name": "python2"
  },
  "language_info": {
   "codemirror_mode": {
    "name": "ipython",
    "version": 2
   },
   "file_extension": ".py",
   "mimetype": "text/x-python",
   "name": "python",
   "nbconvert_exporter": "python",
   "pygments_lexer": "ipython2",
   "version": "2.7.9"
  },
  "widgets": {
   "state": {
    "009cc9d624a8499394caef58beb05dfa": {
     "views": []
    },
    "0225e9ead6e44714878932c3193937e9": {
     "views": []
    },
    "02d5c3891cdb4c8eb91b73b64d3170b4": {
     "views": []
    },
    "05200577dbcb44c4a155e88c421cf24e": {
     "views": []
    },
    "05ab5bf3cee04d7dbb34671b0ddad79a": {
     "views": []
    },
    "096ae203b80746d4a289b672762af9b8": {
     "views": []
    },
    "0c8110a63d2b41b484c0761e3c02d044": {
     "views": []
    },
    "0e01c074926749ccbc84a7a2e2e26fb9": {
     "views": []
    },
    "0f18e65f17af463dbf6553af8f385592": {
     "views": []
    },
    "0fa1702892d446ab863e57773fdfe8fa": {
     "views": []
    },
    "0fe57a9cd151455b815803613493fa6a": {
     "views": []
    },
    "1075bd94c1d8494cb017623823d4be10": {
     "views": []
    },
    "11c9bb1a313143cea9787ce27d24152d": {
     "views": [
      {
       "cell": {
        "cell_type": "code",
        "execution_count": 47,
        "metadata": {
         "collapsed": false,
         "trusted": true
        },
        "outputs": [],
        "source": "\nfrom traitlets import link\na = FloatText()\nb = IntSlider()\ndisplay(a,b)\n\nmylink = link((a, 'value'), (b, 'value'))"
       },
       "cell_index": 6,
       "root": true
      }
     ]
    },
    "17af16becbd5416e8c6c8e4f251ecf1e": {
     "views": []
    },
    "182ea91a8599413a995d26eaf8e8b56e": {
     "views": []
    },
    "1cd58de9ef9f4fe2b850fb7483bd4127": {
     "views": []
    },
    "1d6ceca5c2704846988ab0545905302b": {
     "views": []
    },
    "1e02ee1a35ce49dea12060e1852519b7": {
     "views": []
    },
    "200da225b6d74f0e951e5309070d2ad0": {
     "views": []
    },
    "228e90ad3bea4eecaf57f0278744932f": {
     "views": []
    },
    "22c16d7d44aa47e0af493107b777b99a": {
     "views": []
    },
    "23d4bb2b46a342cebbe6fdb92fc488fa": {
     "views": []
    },
    "24b10bff51634390b8693d0c076b4296": {
     "views": []
    },
    "262d405860834053a64ee5617e42ac9c": {
     "views": []
    },
    "2679e83939ba4fb289ca360eab6a6d97": {
     "views": []
    },
    "26f4542de2524bc0ab9c57a67d59c77f": {
     "views": []
    },
    "29c5e5b021ed452abfacac841b7699c9": {
     "views": []
    },
    "29dc63df17174798b751feb6f81afd4d": {
     "views": []
    },
    "2f01eb735b88474a996b39338f8020c1": {
     "views": []
    },
    "3412b65f2f3e4473b7f8d04160178386": {
     "views": []
    },
    "346c80e7211a41fd94af035b56a6dcb0": {
     "views": []
    },
    "3580d31909254852b8fc7724b290d4d1": {
     "views": []
    },
    "3689688bebb44483a25b40b300ba7ff8": {
     "views": []
    },
    "386447eaa78d499297ad666c11f5b178": {
     "views": []
    },
    "39feb4cb0a68472aa02f2ea05fbebb06": {
     "views": []
    },
    "3b5328a19de04e339f96755e3b52d7bb": {
     "views": []
    },
    "3bcbcea8499f4ffea779231de51e8251": {
     "views": []
    },
    "3cb441aae1954c7aab5506c7f68a2e63": {
     "views": []
    },
    "3e81ebd7e328483b9f949748801e9b20": {
     "views": []
    },
    "3f1ec340df5141d8a1c12847375bac65": {
     "views": []
    },
    "3fc31dda9838466dbe56a5394c9e995f": {
     "views": []
    },
    "3fcbb02c15b5455a9a15844fbf1c26ef": {
     "views": []
    },
    "4048c0b41f7d44ad885382df4c1447cf": {
     "views": []
    },
    "40b1e101f36f45b7ae9ee2b24dc25d60": {
     "views": []
    },
    "4160de00ba4f46b18d85dee10bc279d6": {
     "views": []
    },
    "421856f12c48461f953aba523d850cb8": {
     "views": []
    },
    "4276b05af3084c34976003625c07fe0f": {
     "views": []
    },
    "42f8637e92d64a2da76a271525033449": {
     "views": []
    },
    "44c02822d74a4560a8ef454b06f0ecf6": {
     "views": []
    },
    "44c1d90e452f4bd89cb8b5cd16afd838": {
     "views": []
    },
    "44f3b71d57164873bbc20b49e51a9e7a": {
     "views": []
    },
    "459611075749431f996cfc882acec86d": {
     "views": []
    },
    "4657c718082f4247b28c1d6a59445641": {
     "views": []
    },
    "470a49222e214db887b7c022ef436ab8": {
     "views": []
    },
    "4c906cc04bc74657afd955e1a41a5df2": {
     "views": []
    },
    "4d6cdb7700f345769dcb80f44f78060e": {
     "views": []
    },
    "4de116f22a06413ca55e5ba56fca5f89": {
     "views": []
    },
    "4f2cecd6d3c94b8c9d0797ef6b3a656c": {
     "views": []
    },
    "504676ba610f44af8c810155bf2c6ec9": {
     "views": []
    },
    "5117fad36b8242c789fa102785cf26ad": {
     "views": []
    },
    "51786b91ca8141c988839bb74197ce97": {
     "views": []
    },
    "51f5e9381c28436286b753bfd05a38ef": {
     "views": []
    },
    "52a2b0aa3afb455da4d818109ecfb977": {
     "views": []
    },
    "5332ab31bc74452994caf8b2d82d47c0": {
     "views": []
    },
    "54e2f8e2c7434f9ba1a24dbc5bea9729": {
     "views": []
    },
    "56fcddd9fb4848eca756a373b8db222a": {
     "views": []
    },
    "5aaab6239dcc4c69bf856c2d3cec98c0": {
     "views": []
    },
    "5b9e84c9df384a5f80b37d13deefcc76": {
     "views": []
    },
    "5ca20932d4fe4e87a41b2f1e6dde5e7a": {
     "views": []
    },
    "5fb1b51d7c31449b98a27f373a0f5b1f": {
     "views": []
    },
    "6339010122354121b0149ee4e5a0a8cf": {
     "views": []
    },
    "66a302682c5d45debf26714d0e8dab28": {
     "views": [
      {
       "cell": {
        "cell_type": "code",
        "execution_count": 107,
        "metadata": {
         "collapsed": false,
         "trusted": true
        },
        "outputs": [
         {
          "name": "stdout",
          "output_type": "stream",
          "text": "Target    [1, 1, 1, 1, 1, 1, 1, 1, 1, 1, 1, 1, 1, 0, 0, 0, 0, 0, 0, 0, 0, 0, 0, 0, 0, 0, 0, 0, 0, 0]\nPredicted [1, 1, 1, 1, 1, 1, 1, 1, 1, 1, 1, 1, 1, 0, 0, 0, 0, 0, 0, 0, 0, 0, 0, 0, 0, 0, 0, 0, 0, 0]\n             precision    recall  f1-score   support\n\n     benign       1.00      1.00      1.00        17\n  malignant       1.00      1.00      1.00        13\n\navg / total       1.00      1.00      1.00        30\n\n"
         }
        ],
        "source": "interact(test, x=10, i=IntSlider(min=1, max=30, step=1));"
       },
       "cell_index": 6,
       "root": true
      }
     ]
    },
    "6943a0b426324e079764c15c9c05c3d1": {
     "views": []
    },
    "6964379e5ad54f6db4070e75c6bef91b": {
     "views": []
    },
    "69f35b33a32c4524a2c5819b42478a6e": {
     "views": []
    },
    "6a8f2089eae242dfa715285e42903694": {
     "views": []
    },
    "6b66ca5dc7304d81b040165795067599": {
     "views": []
    },
    "6d8be7c530c94a9d836c9f124529548f": {
     "views": []
    },
    "6da8e11ac07e445894990e694b18278b": {
     "views": []
    },
    "6e47a458742946479e7922b657be83a5": {
     "views": []
    },
    "6eac047898784c99b7a911e310e3a6ca": {
     "views": []
    },
    "6f857d5f64e842af9d346ae511b91c2b": {
     "views": []
    },
    "6f8690c6fcb44ae49db50a98ca1d1bd7": {
     "views": []
    },
    "700a5b3a81774494a406306a3cb38127": {
     "views": []
    },
    "700b0b716aa745b9892636b1d226f72b": {
     "views": []
    },
    "72ed0b4d9335427eaa0ede0f999541b8": {
     "views": []
    },
    "7353dd2fb1d74c709b35badb1a3f5a93": {
     "views": []
    },
    "7386fd7d9fb1446683281a302f7b36d9": {
     "views": []
    },
    "73c3cc92024249bc9b387f7444fcc5f3": {
     "views": []
    },
    "74fe73e9cd56437eb1f02e037b64b04d": {
     "views": []
    },
    "77ff468b29d940cdb83242614d3921bc": {
     "views": []
    },
    "78351fdebbf24c0ba9a7842cbd6a6c9c": {
     "views": []
    },
    "78463457dd0743e79c5ea8fcff3d10bd": {
     "views": []
    },
    "78710083257b460bb997638d9876e358": {
     "views": []
    },
    "78f31ad774394555af65b63bc6383a43": {
     "views": []
    },
    "79028ac69ed845e79f4304a6f9172150": {
     "views": []
    },
    "796f0484974740fdb4adb58559b38a29": {
     "views": []
    },
    "7a54439c6b094d91a7c66e27960f3be8": {
     "views": []
    },
    "7a5e915f3ac24bdc9045e0bcc61c6580": {
     "views": []
    },
    "7fd543641d6e40ca8e3cf3a67af2ff2f": {
     "views": []
    },
    "80052193fd024565a8f0c21f77af7832": {
     "views": []
    },
    "80ebd249f0394d3f9b6bd0d99c6f4a8f": {
     "views": []
    },
    "81dfd388d7364b77b30df8abb6ff64a1": {
     "views": []
    },
    "837b490e0681459a8ed906429d0294fb": {
     "views": []
    },
    "872827946b654d8990eecbfea8f7dd51": {
     "views": []
    },
    "876926eaf81544ac9e7c692bf830c2ca": {
     "views": []
    },
    "8918673046584fdd87bfdb66bd3fbb09": {
     "views": []
    },
    "8997b104da6f42a1b4063a1de4c7dd02": {
     "views": []
    },
    "8a8d733e22bb4afaac3b817711b4d757": {
     "views": []
    },
    "8b84bd717e4841139d7ca0876054d124": {
     "views": []
    },
    "8be06f36c7e14cbbbca8f4cb5ebbd37c": {
     "views": []
    },
    "8bf4f274412c412d9e5aef66ec482162": {
     "views": []
    },
    "8c498d1636e64abdaf8e2f93e5593215": {
     "views": []
    },
    "8c99112cd82d48e5a2b7c3c4b7506021": {
     "views": []
    },
    "8ef7aeacd49e4055ba4cd8e4f8c341eb": {
     "views": []
    },
    "918fad56245547cebcc77b7c55c2cb14": {
     "views": []
    },
    "9223e6d8d1314cc985b61b88dcc2da82": {
     "views": []
    },
    "9341a2f3c58a47edac89a671c9db0bc9": {
     "views": []
    },
    "938f8b4b634d4a5b9f6d35c63c227fa8": {
     "views": []
    },
    "94fb620df68f421a986ff3a98d59b67c": {
     "views": []
    },
    "96d38d98a8c7435bb648bd899352e641": {
     "views": []
    },
    "974e32bca2d949f08cb8c6d769bbe32b": {
     "views": []
    },
    "97b7b4004e5840e192e69b70bc65eb77": {
     "views": []
    },
    "99419db668014e028d022cdfcfb5f580": {
     "views": []
    },
    "9eab587383704b5b9176b9da5d8bd17f": {
     "views": []
    },
    "9fcde285a9ae484da1c25f79c287458b": {
     "views": []
    },
    "a3feaffa1f4e4070946d3fc21553414e": {
     "views": []
    },
    "a46b8782f204419c9617f597d48a07f6": {
     "views": []
    },
    "a6b2f7f6b2c941d6ac15847ca60b2d46": {
     "views": []
    },
    "a7a95fa079d948a6afeefbe96e795b35": {
     "views": []
    },
    "a7c0e28f74a54b7e952517e1ce9788d7": {
     "views": []
    },
    "aa282353cde94a4eb81c7d0cc56a0cac": {
     "views": []
    },
    "aa48caf7eb164edb855f1ed87bcb720e": {
     "views": []
    },
    "ab1963905e8442e3a874b5afe89559ff": {
     "views": []
    },
    "acc48818b273415b8f2bc148f0fe64d2": {
     "views": []
    },
    "ad9a9091d5c54322adacf28b0babdc52": {
     "views": []
    },
    "ae98aad8e81d45cbb6fd4375979ab5cc": {
     "views": []
    },
    "aeab90d2e47749ee8c4221a5c8c64e9a": {
     "views": []
    },
    "b0e5fdea325f4f5d8b32937288eeecab": {
     "views": []
    },
    "b176ce62e3294bfc9e7c2cc20803a742": {
     "views": []
    },
    "b1c2934f438d484db51f78aee39cc285": {
     "views": []
    },
    "b36ddff459db46d4b5e1b4642358c4e1": {
     "views": []
    },
    "b3dfea79344f4764a2b5dbf1a71473fd": {
     "views": []
    },
    "b3f2ab4f4ac54bdbadf530ad17b5c8fb": {
     "views": []
    },
    "b5dc7483b56c4669a27c66d144ec0cf9": {
     "views": []
    },
    "b8624efb7f4e45c7b2770d91e41fc23a": {
     "views": []
    },
    "b8eb8b12244145cda36cff3660eb757d": {
     "views": []
    },
    "bbe7fb22353f42a58ab71ffdc19cf53a": {
     "views": []
    },
    "bc37e5ebcacd4caaa630a83d3a544337": {
     "views": []
    },
    "bc650c6a0da74f28bcb7990acbbd1341": {
     "views": []
    },
    "bf627e11c0b04948b2e05c1b29400a2d": {
     "views": [
      {
       "cell": {
        "cell_type": "code",
        "execution_count": 47,
        "metadata": {
         "collapsed": false,
         "trusted": true
        },
        "outputs": [],
        "source": "\nfrom traitlets import link\na = FloatText()\nb = IntSlider()\ndisplay(a,b)\n\nmylink = link((a, 'value'), (b, 'value'))"
       },
       "cell_index": 6,
       "root": true
      }
     ]
    },
    "bfae8569e030442597b0b2136359021c": {
     "views": []
    },
    "c119c20f4af44119ab470e3683e8bd8c": {
     "views": []
    },
    "c18c3e8c30b24e72b284c8a00ff6c861": {
     "views": []
    },
    "c2184c8559c746b4a9a0a181507dc2c3": {
     "views": []
    },
    "c61ea1602d8a4879a85ca78f89b33bb9": {
     "views": []
    },
    "c626131a60a5432b8ae12942f3cdc8bb": {
     "views": []
    },
    "c6d591af6bcf43d9a36873c00eb61dab": {
     "views": []
    },
    "c6ed44d60d2a4212b4d438a18abf0007": {
     "views": []
    },
    "c8c26e5eabf84b669f7a9f91b03511ae": {
     "views": []
    },
    "c9928f749eeb49de9955169f52984836": {
     "views": []
    },
    "cae43d9a46314b2697abb87ce8d668e8": {
     "views": []
    },
    "cc586723719a4058900bc2476e8dfac4": {
     "views": []
    },
    "cd5db16c9e0e406884ae912a62c372ea": {
     "views": []
    },
    "d094836744bd4816990734192cd355ef": {
     "views": []
    },
    "d4dc8586271d43749e455615c8e32c6f": {
     "views": []
    },
    "d58602cc352f438a92320080768371cc": {
     "views": []
    },
    "d5c11a55d3244478836e49c6d59af9a2": {
     "views": []
    },
    "d61517ff514e429c9f8fa6d5c11c7392": {
     "views": []
    },
    "d6c1f6c9203d4898ba3307265e4ecbb1": {
     "views": []
    },
    "d6d557d2eb3f46bb8a233246296354c9": {
     "views": []
    },
    "d7ba8afc24994705a2314ed208dc42d0": {
     "views": []
    },
    "d98110253faa4fd58e67bcb26aaa2969": {
     "views": []
    },
    "dc7d5eb5b77a4902b7469a32976e6316": {
     "views": []
    },
    "dd22e71821ff4416ae61664e37d7b0c2": {
     "views": []
    },
    "ddffa9100164482b9259263b757f3039": {
     "views": []
    },
    "e13abbec961945c9ab008f2c0a7cc49c": {
     "views": []
    },
    "e14e61c17d9647afb4176f9bdc059722": {
     "views": []
    },
    "e1fd7bf6f9054a17b5c018ac1debe815": {
     "views": []
    },
    "e23cc605ab5f4d2097db067a21c0b1ca": {
     "views": []
    },
    "e3b879101f5e47d2bd7c7251c0093c35": {
     "views": []
    },
    "e46ec9cbaab9443bbc6bc1efecc7ff39": {
     "views": []
    },
    "e4eb6d56178842a492dbdda05c50e744": {
     "views": []
    },
    "e7a8e43477904a3ab02461dd7ddf7fa1": {
     "views": []
    },
    "e873e5f3487645c093f49a9a815be126": {
     "views": []
    },
    "e968bc7772d04780a90d04da9fa0fd60": {
     "views": []
    },
    "ec3535d24c2f4dceb59c3e66c8a3ed78": {
     "views": []
    },
    "ed894f225e014577866051724a0c5af6": {
     "views": []
    },
    "ee1de004b9f84545ac4d11cdb9a55b25": {
     "views": []
    },
    "f013067cf1e647e19bb47240c746560d": {
     "views": []
    },
    "f05401c22bf946ebb27e382ea4c6ae5c": {
     "views": []
    },
    "f5c3a786e8ab4c5d8988367622506d14": {
     "views": []
    },
    "fd7fc78cc47f4753b925b86cf50f4b77": {
     "views": []
    },
    "fdca62ca85ab42b2aa507d9fd4510ea3": {
     "views": []
    },
    "fde09097aee343ee8d3f9d31bf8b18eb": {
     "views": []
    },
    "fe1f451c15f14cd1a85a722dc59f60e7": {
     "views": []
    }
   },
   "version": "1.1.0"
  }
 },
 "nbformat": 4,
 "nbformat_minor": 0
}
