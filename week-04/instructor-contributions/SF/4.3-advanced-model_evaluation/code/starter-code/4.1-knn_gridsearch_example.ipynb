{
 "cells": [
  {
   "cell_type": "markdown",
   "metadata": {},
   "source": [
    "## KNN GridSearch Example\n",
    "\n",
    "While GridSearch can work with most sklearn models, we will try it out on KNN to start with iris dataset."
   ]
  },
  {
   "cell_type": "code",
   "execution_count": 8,
   "metadata": {
    "collapsed": true
   },
   "outputs": [],
   "source": [
    "import numpy as np\n",
    "\n",
    "# Load gridsearch\n",
    "from sklearn import svm, grid_search, datasets\n",
    "from sklearn.neighbors import KNeighborsClassifier\n",
    "\n",
    "# Load iris\n",
    "iris_data = datasets.load_iris()"
   ]
  },
  {
   "cell_type": "code",
   "execution_count": 31,
   "metadata": {
    "collapsed": true
   },
   "outputs": [],
   "source": [
    "# Setup our GridSearch Parmaters\n",
    "search_parameters = {\n",
    "    'n_neighbors':  [3,50], \n",
    "    'weights':      (\"uniform\", \"distance\"),\n",
    "    'algorithm':    (\"ball_tree\", \"kd_tree\", \"brute\", \"auto\"),\n",
    "    'p':            [1,2]\n",
    "}"
   ]
  },
  {
   "cell_type": "code",
   "execution_count": 32,
   "metadata": {
    "collapsed": false
   },
   "outputs": [
    {
     "data": {
      "text/plain": [
       "GridSearchCV(cv=None, error_score='raise',\n",
       "       estimator=KNeighborsClassifier(algorithm='auto', leaf_size=30, metric='minkowski',\n",
       "           metric_params=None, n_jobs=1, n_neighbors=5, p=2,\n",
       "           weights='uniform'),\n",
       "       fit_params={}, iid=True, n_jobs=1,\n",
       "       param_grid={'n_neighbors': [3, 50], 'weights': ('uniform', 'distance'), 'algorithm': ('ball_tree', 'kd_tree', 'brute', 'auto'), 'p': [1, 2]},\n",
       "       pre_dispatch='2*n_jobs', refit=True, scoring=None, verbose=0)"
      ]
     },
     "execution_count": 32,
     "metadata": {},
     "output_type": "execute_result"
    }
   ],
   "source": [
    "### Intialize KNN \n",
    "knn = KNeighborsClassifier()\n",
    "\n",
    "# Intialize GridSearchCV\n",
    "clf = grid_search.GridSearchCV(knn, search_parameters)\n",
    "\n",
    "# Fit our training data\n",
    "clf.fit(iris.data, iris.target)\n"
   ]
  },
  {
   "cell_type": "markdown",
   "metadata": {},
   "source": [
    "## At this point, GridSearch has:\n",
    "- Performed all of the permutations upon all instances of potential parameters\n",
    "- Building a model for each set of unqiue parameters\n",
    "- Sets the class attributes for best params, score, and estimator object for further evaluation"
   ]
  },
  {
   "cell_type": "code",
   "execution_count": 33,
   "metadata": {
    "collapsed": false
   },
   "outputs": [
    {
     "name": "stdout",
     "output_type": "stream",
     "text": [
      "Best Estimator: 3\n",
      "Best Params: {'n_neighbors': 3, 'weights': 'uniform', 'algorithm': 'ball_tree', 'p': 2}\n",
      "Best Score: 0.98\n"
     ]
    }
   ],
   "source": [
    "print \"Best Estimator:\", clf.best_estimator_.n_neighbors\n",
    "print \"Best Params:\", clf.best_params_\n",
    "print \"Best Score:\", clf.best_score_"
   ]
  },
  {
   "cell_type": "markdown",
   "metadata": {},
   "source": [
    "## Keep in mind\n",
    "\n",
    "- This is a small dataset\n",
    "- It's the minimum number of steps to perform this function\n",
    "- We're not cross-validating (which you should!)"
   ]
  }
 ],
 "metadata": {
  "kernelspec": {
   "display_name": "Python 2",
   "language": "python",
   "name": "python2"
  },
  "language_info": {
   "codemirror_mode": {
    "name": "ipython",
    "version": 2
   },
   "file_extension": ".py",
   "mimetype": "text/x-python",
   "name": "python",
   "nbconvert_exporter": "python",
   "pygments_lexer": "ipython2",
   "version": "2.7.9"
  }
 },
 "nbformat": 4,
 "nbformat_minor": 0
}
