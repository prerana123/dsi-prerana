{
 "cells": [
  {
   "cell_type": "markdown",
   "metadata": {
    "slideshow": {
     "slide_type": "slide"
    }
   },
   "source": [
    "<img src=\"https://ga-dash.s3.amazonaws.com/production/assets/logo-9f88ae6c9c3871690e33280fcf557f33.png\" style=\"float: left; margin: 10px\">\n",
    "# Advanced Model Evaluation\n",
    "---\n",
    "Week 4 | Lesson 4.1\n",
    "\n",
    "### LEARNING OBJECTIVES\n",
    "*After this lesson, you will be able to:*\n",
    "- Review Initial EDA Strategies\n",
    "- Review Classification Metrics\n",
    "- Intuition Behind GridSearch \n",
    "- Implement GridSearch"
   ]
  },
  {
   "cell_type": "markdown",
   "metadata": {
    "slideshow": {
     "slide_type": "slide"
    }
   },
   "source": [
    "### LESSON GUIDE\n",
    "| TIMING  | TYPE  | TOPIC  |\n",
    "|:-:|---|---|\n",
    "| 5 min  | [Opening](#opening)  | Review  |\n",
    "| 10 min  | [Introduction](#introduction)   | Introduction to gridsearch  |\n",
    "| 15 min  | [Demo](#demo)  | Multinomial logistic regression  |\n",
    "| 25 min  | [Guided Practice](#guided-practice)  | Gridsearch with multinomial logistic modeling on crime data |\n",
    "| 25 min  | [Independent Practice](#ind-practice)  | Classification metrics  |\n",
    "| 5 min  | [Conclusion](#conclusion)  | Gridsearch and multinomial logistic  |"
   ]
  },
  {
   "cell_type": "markdown",
   "metadata": {
    "slideshow": {
     "slide_type": "slide"
    }
   },
   "source": [
    "## (5 Mins) First time looking at a dataset:  What do we do?"
   ]
  },
  {
   "cell_type": "markdown",
   "metadata": {
    "slideshow": {
     "slide_type": "slide"
    }
   },
   "source": [
    "<a name=\"introduction\"></a>\n",
    "## Prolog to Gridsearch (10 mins)\n",
    "\n",
    "When doing exploratory analysis and starting to think about model selection, we have a few good starting points.\n",
    "\n",
    "* Looking at coeficient matrices\n",
    "* Selecting features (variables) to use in our models\n",
    "* Considering parameters that might work, in a broad sense\n",
    "* Validation strategy\n",
    "\n",
    "A **correlation matrix** is used to investigate the **dependence between multiple variables at the same time**. The result is a table containing the correlation coefficients between each variable and the others. **This is ideal for feature selection when deciding which features to use in a predictive model.**\n",
    "\n",
    "NumPy has an easy to use method, as does Pandas, to perform correlation analysis. Let's [review the code](../code/starter-code/week4-4.1-breast-cancer-coefficients.ipynb) for performing a Pearson correlation coefficient matrix on the Breast Cancer Dataset."
   ]
  },
  {
   "cell_type": "markdown",
   "metadata": {
    "slideshow": {
     "slide_type": "slide"
    }
   },
   "source": [
    "_note:  Anyone use Gridsearch before?_"
   ]
  },
  {
   "cell_type": "markdown",
   "metadata": {
    "slideshow": {
     "slide_type": "slide"
    }
   },
   "source": [
    "## Intro to Gridsearch\n",
    "\n",
    "What is \"gridsearch\"? Gridsearch is the process of searching for the optimal set of tuning parameters for a model. It searches across values of parameters and uses cross-validation to evaluate the effect. It's called gridsearch because the idea is that there is a \"grid\" of parameters that are iteratively searched.\n",
    "\n"
   ]
  },
  {
   "cell_type": "markdown",
   "metadata": {
    "slideshow": {
     "slide_type": "slide"
    }
   },
   "source": [
    "### A Hypothetical Example\n",
    "\n",
    "Consider these **KNearest Neighbors** parameters:\n",
    "\n",
    "| Parameter | Potential Values |\n",
    "| --- | ---|\n",
    "| **n_neighbors** | int range 1-150 |\n",
    "| **weights** | strs:  \"uniform\", \"distance\" or user defined function |\n",
    "| **algorithm** | strs: \"ball_tree\", \"kd_tree\", \"brute\", \"auto\" |\n",
    "| **leaf_size** | int range 0-150 | \n",
    "| **metric** | str: \"minkowski\" or DistanceObject type |\n",
    "| **p** | int: 1=manhattan_distance, 2= euclidean_distance |\n",
    "\n",
    "```python\n",
    "from sklearn import neighbors\n",
    "\n",
    "# Search - 1\n",
    "neighbors.KNeighborsClassifier(n_neighbors=1, weights=\"uniform\", algorithm=\"ball_tree\", leaf_size=30, etc...)\n",
    "# Search - 2\n",
    "neighbors.KNeighborsClassifier(n_neighbors=2, weights=\"uniform\", algorithm=\"ball_tree\", leaf_size=30, etc...)\n",
    "# Search - 3\n",
    "neighbors.KNeighborsClassifier(n_neighbors=3, weights=\"uniform\", algorithm=\"ball_tree\", leaf_size=30, etc...)\n",
    "...\n",
    "... ** chunk chunk chunk -- hours later **\n",
    "...\n",
    "# Search - 300,000+\n",
    "neighbors.KNeighborsClassifier(n_neighbors=150, weights=\"distance\", algorithm=\"auto\", leaf_size=150, etc...)\n",
    "```"
   ]
  },
  {
   "cell_type": "markdown",
   "metadata": {
    "slideshow": {
     "slide_type": "slide"
    }
   },
   "source": [
    "<a name=\"demo\"></a>\n",
    "## Demo: Multinomial logistic regression (15 mins)\n",
    "\n",
    "Review [KNN GridSearch Example](../code/starter-code/4.1-knn_gridsearch_example.ipynb) and [Classification Report](../code/starter-code/week4-4.1-classification-report.ipynb) techniques for use in independent practice and project work.\n"
   ]
  },
  {
   "cell_type": "markdown",
   "metadata": {
    "slideshow": {
     "slide_type": "slide"
    }
   },
   "source": [
    "## Guided Practice: Gridsearch with logistic modeling on poltical data (15-25 mins)\n",
    "Let's continue to practice these techniques on familiar concepts we've been building on using logistic regression.  This practice will demonstrate a full featured end-to-end implementation with GridSearch and logistic regression to predict a binomial response.\n",
    "\n",
    "[Logistic GridSearch with Test Train Split](../code/starter-code/4.1-logistic_example_gridsearch.ipynb)\n"
   ]
  },
  {
   "cell_type": "markdown",
   "metadata": {
    "slideshow": {
     "slide_type": "fragment"
    }
   },
   "source": [
    "<a name=\"guided-practice\"></a>\n",
    "## (Optional) Guided Practice: Gridsearch with multinomial logistic modeling on crime data (25 mins)\n",
    "\n",
    "So far, we have been using logistic regression for binary problems where there are only two class labels. As you might have suspected or read in the documentation, logistic regression can be extended to dependent variables with multiple classes.\n",
    "\n",
    "We are using the gridsearch in conjunction with multinomial logistic to optimize a model that predicts the category (type) of crime based on various features captured by San Francisco police departments.\n",
    "\n",
    "> Note: Switch to Jupyter notebook here\n",
    "\n",
    "[Multinomial logistic regression starter](../code/starter-code/gridsearch-multinomial-logistic-starter.ipynb)"
   ]
  },
  {
   "cell_type": "markdown",
   "metadata": {
    "slideshow": {
     "slide_type": "slide"
    }
   },
   "source": [
    "<a name=\"ind-practice\"></a>\n",
    "## Independent Practice: Classification Metrics (25 minutes)\n",
    "\n",
    "Use the [Wisconsin Breast Cancer Dataset](../../3.1-classification_visualization_with_tableau/assets/datasets/) (wdbc.csv) to practice GridSearch and classification reporting learned today.\n",
    "\n",
    "- Create a new notebook\n",
    "- Load the datset\n",
    "- Setup test / train split\n",
    "- Implement GridSearch\n",
    "  - Try 2-3+ parameters\n",
    "  - Plug your own ranged parameters (ie: ['option1', 'option2', 'option3', etc] or range(2,50,2))\n",
    "  - Multiple choices parameters are defined with lists or tuples\n",
    "- Use classification reporting\n",
    "\n",
    "** Bonus **\n",
    "- Use same evaluation tasks with another dataset with categorical predictors using KNN\n"
   ]
  },
  {
   "cell_type": "markdown",
   "metadata": {
    "slideshow": {
     "slide_type": "slide"
    }
   },
   "source": [
    "<a name=\"conclusion\"></a>\n",
    "## Conclusion (5 mins)\n",
    "- Review independent practice deliverable(s)\n",
    "- Recap GridSearch"
   ]
  }
 ],
 "metadata": {
  "celltoolbar": "Slideshow",
  "kernelspec": {
   "display_name": "Python 2",
   "language": "python",
   "name": "python2"
  },
  "language_info": {
   "codemirror_mode": {
    "name": "ipython",
    "version": 2
   },
   "file_extension": ".py",
   "mimetype": "text/x-python",
   "name": "python",
   "nbconvert_exporter": "python",
   "pygments_lexer": "ipython2",
   "version": "2.7.9"
  }
 },
 "nbformat": 4,
 "nbformat_minor": 0
}
