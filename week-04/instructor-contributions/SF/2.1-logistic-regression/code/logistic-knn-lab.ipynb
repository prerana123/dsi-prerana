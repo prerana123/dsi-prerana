{
 "cells": [
  {
   "cell_type": "markdown",
   "metadata": {},
   "source": [
    "# Compare logistic regression and kNN\n",
    "\n",
    "This is an open-ended lab.\n",
    "\n",
    "You should:\n",
    "\n",
    "- Load in the wine dataset (create target, concatenate, normalize predictors)\n",
    "- Do EDA on predictors\n",
    "- Select predictors of interest\n",
    "- Load KNeighborsClassifier and LogisticRegression from sklearn\n",
    "- Compare performance between the two using stratified cross-validation\n",
    "- [Optional bonus] Plot the results of kNN vs. Logistic regression using the plotting functions I wrote yesterday and today. You may have to modify the functions to work for you."
   ]
  },
  {
   "cell_type": "code",
   "execution_count": null,
   "metadata": {
    "collapsed": true
   },
   "outputs": [],
   "source": []
  }
 ],
 "metadata": {
  "kernelspec": {
   "display_name": "Python 2",
   "language": "python",
   "name": "python2"
  },
  "language_info": {
   "codemirror_mode": {
    "name": "ipython",
    "version": 2
   },
   "file_extension": ".py",
   "mimetype": "text/x-python",
   "name": "python",
   "nbconvert_exporter": "python",
   "pygments_lexer": "ipython2",
   "version": "2.7.11"
  }
 },
 "nbformat": 4,
 "nbformat_minor": 0
}
