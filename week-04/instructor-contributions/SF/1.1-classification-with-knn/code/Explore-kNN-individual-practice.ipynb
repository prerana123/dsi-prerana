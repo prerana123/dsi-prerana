{
 "cells": [
  {
   "cell_type": "markdown",
   "metadata": {},
   "source": [
    "# Individual practice with kNN\n",
    "\n",
    "In this exercise, load up one of these datasets:\n",
    "\n",
    "* Wisconsin breast cancer data\n",
    "* Affairs data\n",
    "* Project 3 data\n",
    "\n",
    "---\n",
    "\n",
    "You will be exploring the kNN algorithm with the data. This is an open-ended practice, in the sense that you will choose a target variable and predictors that you're interested in.\n",
    "\n",
    "There are some general guidelines for things to do below. But it is up to you if you want to follow them.\n",
    "\n",
    "[Feel free to borrow my matplotlib kNN boundary plotting code from the lecture, since it would be a pain to code up yourself.]\n",
    "\n",
    "---"
   ]
  },
  {
   "cell_type": "markdown",
   "metadata": {},
   "source": [
    "## 1. Load data and packages"
   ]
  },
  {
   "cell_type": "code",
   "execution_count": null,
   "metadata": {
    "collapsed": true
   },
   "outputs": [],
   "source": []
  },
  {
   "cell_type": "markdown",
   "metadata": {},
   "source": [
    "## 2. Pick predictors and target of interest"
   ]
  },
  {
   "cell_type": "code",
   "execution_count": null,
   "metadata": {
    "collapsed": true
   },
   "outputs": [],
   "source": []
  },
  {
   "cell_type": "markdown",
   "metadata": {},
   "source": [
    "## 3. Do exploratory data analysis with metrics (correlation, etc.) and plotting"
   ]
  },
  {
   "cell_type": "code",
   "execution_count": null,
   "metadata": {
    "collapsed": true
   },
   "outputs": [],
   "source": []
  },
  {
   "cell_type": "markdown",
   "metadata": {},
   "source": [
    "## 4. Make X and Y cross-validation folds\n",
    "\n",
    "BONUS: Use StratifiedKFold"
   ]
  },
  {
   "cell_type": "code",
   "execution_count": null,
   "metadata": {
    "collapsed": true
   },
   "outputs": [],
   "source": []
  },
  {
   "cell_type": "markdown",
   "metadata": {},
   "source": [
    "## 5. Create the kNN classifier from sklearn"
   ]
  },
  {
   "cell_type": "code",
   "execution_count": null,
   "metadata": {
    "collapsed": true
   },
   "outputs": [],
   "source": []
  },
  {
   "cell_type": "markdown",
   "metadata": {},
   "source": [
    "## 6. Cross-validate accuracy\n",
    "\n",
    "Try out:\n",
    "\n",
    "* weights='uniform' and weights='distance'\n",
    "* 3 different values for k"
   ]
  },
  {
   "cell_type": "code",
   "execution_count": null,
   "metadata": {
    "collapsed": true
   },
   "outputs": [],
   "source": []
  },
  {
   "cell_type": "markdown",
   "metadata": {},
   "source": [
    "## 7. Plot out data points and boundary for neighbors\n",
    "\n",
    "This will require you to choose just 2 predictors and a target variable.\n",
    "\n",
    "Please feel free to borrow my plotting code! If you want, walk through the code and get an understanding for how it works, and you can of course ask me to explain in more detail."
   ]
  },
  {
   "cell_type": "code",
   "execution_count": null,
   "metadata": {
    "collapsed": true
   },
   "outputs": [],
   "source": []
  }
 ],
 "metadata": {
  "kernelspec": {
   "display_name": "Python 2",
   "language": "python",
   "name": "python2"
  },
  "language_info": {
   "codemirror_mode": {
    "name": "ipython",
    "version": 2
   },
   "file_extension": ".py",
   "mimetype": "text/x-python",
   "name": "python",
   "nbconvert_exporter": "python",
   "pygments_lexer": "ipython2",
   "version": "2.7.11"
  }
 },
 "nbformat": 4,
 "nbformat_minor": 0
}
