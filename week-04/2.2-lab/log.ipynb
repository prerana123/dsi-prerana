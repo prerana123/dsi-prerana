{
 "cells": [
  {
   "cell_type": "code",
   "execution_count": 77,
   "metadata": {
    "collapsed": false
   },
   "outputs": [],
   "source": [
    "from sklearn.linear_model import LogisticRegression\n",
    "import numpy as np\n",
    "\n",
    "# Set up fake X and Y\n",
    "X = np.random.randn(100,3)\n",
    "Y = np.random.binomial(1, 0.5, 100) #  with one trials \n",
    "\n",
    "logreg = LogisticRegression() #classifier\n",
    "logreg.fit(X, Y)#fit data\n",
    "\n",
    "# coefficients:\n",
    "logreg.coef_ \n",
    "\n",
    "X_new = np.random.randn(2, 3)\n",
    "\n",
    "# predict class:\n",
    "y_pred = logreg.predict(X_new)\n",
    "\n",
    "\n",
    "# predicted probability:\n",
    "y_pp = logreg.predict_proba(X_new)"
   ]
  },
  {
   "cell_type": "code",
   "execution_count": 78,
   "metadata": {
    "collapsed": false
   },
   "outputs": [
    {
     "data": {
      "text/plain": [
       "array([1, 1])"
      ]
     },
     "execution_count": 78,
     "metadata": {},
     "output_type": "execute_result"
    }
   ],
   "source": [
    "#  X[0:1]\n",
    "# print(Y[0:5],X[0:5])\n",
    "# print(logreg.coef_ )\n",
    "y_pred\n",
    "\n",
    "# y_pp\n"
   ]
  },
  {
   "cell_type": "code",
   "execution_count": 80,
   "metadata": {
    "collapsed": true
   },
   "outputs": [],
   "source": [
    "import numpy as np\n",
    "import pandas as pd\n",
    "from sklearn.cross_validation import train_test_split\n",
    "from sklearn.linear_model import LogisticRegression\n",
    "\n",
    "X_train, X_test, Y_train, Y_test = train_test_split(X, Y, test_size=0.33)\n",
    "\n",
    "logreg = LogisticRegression()\n",
    "logreg.fit(X_train, Y_train)\n",
    "Y_pred = logreg.predict(X_test)"
   ]
  },
  {
   "cell_type": "code",
   "execution_count": 86,
   "metadata": {
    "collapsed": false
   },
   "outputs": [
    {
     "ename": "SyntaxError",
     "evalue": "invalid syntax (<ipython-input-86-3e6921ac8e84>, line 4)",
     "output_type": "error",
     "traceback": [
      "\u001b[0;36m  File \u001b[0;32m\"<ipython-input-86-3e6921ac8e84>\"\u001b[0;36m, line \u001b[0;32m4\u001b[0m\n\u001b[0;31m    [[168  31]\u001b[0m\n\u001b[0m            ^\u001b[0m\n\u001b[0;31mSyntaxError\u001b[0m\u001b[0;31m:\u001b[0m invalid syntax\n"
     ]
    }
   ],
   "source": [
    " from sklearn.metrics import confusion_matrix\n",
    "confusion = np.array(confusion_matrix(Y_test, Y_pred))\n",
    " print(confusion)\n",
    "[[168  31]\n",
    "[ 46  85]]\n",
    "\n",
    "  # calculate true positives, the number of 1s correctly predicted to be 1\n",
    "TP = confusion[0,0]\n",
    "\n",
    "  # calculate false positives, the number of 0s incorrectly predicted to be 1\n",
    "FP  = confusion[1,0]\n",
    "\n",
    "  # calculate true negatives, the number of 0s correctly predicted to be 0\n",
    "TN = confusion[1,1]\n",
    "\n",
    "  # calculate false negatives, the number of 1s incorrectly predicted to be 0\n",
    "FN = confusion[0,1]"
   ]
  },
  {
   "cell_type": "code",
   "execution_count": 96,
   "metadata": {
    "collapsed": false
   },
   "outputs": [
    {
     "name": "stdout",
     "output_type": "stream",
     "text": [
      "[[ 7  9]\n",
      " [ 7 10]]\n"
     ]
    }
   ],
   "source": [
    "from sklearn.metrics import confusion_matrix\n",
    "\n",
    "confusion = np.array(confusion_matrix(Y_test, Y_pred))\n",
    "print(confusion)\n",
    "# [[168 31]\n",
    "#  [46 85]]\n",
    "\n",
    "\n",
    "\n",
    "  # calculate true positives, the number of 1s correctly predicted to be 1\n",
    "TP = confusion[0,0]\n",
    "\n",
    "  # calculate false positives, the number of 0s incorrectly predicted to be 1\n",
    "FP  = confusion[1,0]\n",
    "\n",
    "  # calculate true negatives, the number of 0s correctly predicted to be 0\n",
    "TN = confusion[1,1]\n",
    "\n",
    "  # calculate false negatives, the number of 1s incorrectly predicted to be 0\n",
    "FN = confusion[0,1]"
   ]
  },
  {
   "cell_type": "code",
   "execution_count": null,
   "metadata": {
    "collapsed": true
   },
   "outputs": [],
   "source": []
  }
 ],
 "metadata": {
  "anaconda-cloud": {},
  "kernelspec": {
   "display_name": "Python [conda root]",
   "language": "python",
   "name": "conda-root-py"
  },
  "language_info": {
   "codemirror_mode": {
    "name": "ipython",
    "version": 2
   },
   "file_extension": ".py",
   "mimetype": "text/x-python",
   "name": "python",
   "nbconvert_exporter": "python",
   "pygments_lexer": "ipython2",
   "version": "2.7.12"
  }
 },
 "nbformat": 4,
 "nbformat_minor": 1
}
