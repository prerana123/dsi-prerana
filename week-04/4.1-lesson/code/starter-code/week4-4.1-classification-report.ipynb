{
 "cells": [
  {
   "cell_type": "code",
   "execution_count": 1,
   "metadata": {
    "collapsed": false
   },
   "outputs": [
    {
     "name": "stdout",
     "output_type": "stream",
     "text": [
      "             precision    recall  f1-score   support\n",
      "\n",
      "     benign       0.67      0.67      0.67         3\n",
      "  malignant       0.83      0.83      0.83         6\n",
      "\n",
      "avg / total       0.78      0.78      0.78         9\n",
      "\n"
     ]
    }
   ],
   "source": [
    "from sklearn.metrics import classification_report\n",
    "\n",
    "# 0 means benign, 1 means malignant\n",
    "target    = [0, 1, 1, 0, 1, 0, 1, 1, 1]\n",
    "\n",
    "#Prediction Results from a Machine Leaning Model\n",
    "predicted = [0, 0, 1, 1, 1, 0, 1, 1, 1]\n",
    "\n",
    "# Label the Classifiers\n",
    "target_names = ['benign', 'malignant']\n",
    "\n",
    "#Print Classification Report\n",
    "print(classification_report(target, predicted, target_names=target_names))\n"
   ]
  },
  {
   "cell_type": "code",
   "execution_count": null,
   "metadata": {
    "collapsed": true
   },
   "outputs": [],
   "source": []
  }
 ],
 "metadata": {
  "anaconda-cloud": {},
  "kernelspec": {
   "display_name": "Python [conda root]",
   "language": "python",
   "name": "conda-root-py"
  },
  "language_info": {
   "codemirror_mode": {
    "name": "ipython",
    "version": 2
   },
   "file_extension": ".py",
   "mimetype": "text/x-python",
   "name": "python",
   "nbconvert_exporter": "python",
   "pygments_lexer": "ipython2",
   "version": "2.7.12"
  }
 },
 "nbformat": 4,
 "nbformat_minor": 0
}
