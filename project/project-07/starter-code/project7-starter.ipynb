{
    "cells": [
        {
            "cell_type": "markdown",
            "metadata": {
                "id": "d21ca30e-294e-4146-8e4f-a5c331f7a36e",
                "focus": true
            },
            "source": [
                "### Project 7 \n",
                "\n",
                "In this project, you will implement the the clustering techniques that you've learned this week. \n",
                "\n",
                "#### Step 1: Load the python libraries that you will need for this project "
            ]
        },
        {
            "cell_type": "code",
            "execution_count": null,
            "metadata": {
                "collapsed": true,
                "id": "78c3bb3f-f513-437b-94f8-bc363b6e7a8b",
                "focus": false
            },
            "outputs": [],
            "source": [
                "import pandas as pd \n",
                "import matplotlib as plt\n",
                "import numpy as np\n",
                "import sklearn as sk \n",
                "import psycopg2 as psy"
            ]
        },
        {
            "cell_type": "markdown",
            "metadata": {
                "id": "2c6f52ae-e694-463c-87d8-1974726c2e7a",
                "focus": false
            },
            "source": [
                "#### Step 2: Examine your data "
            ]
        },
        {
            "cell_type": "code",
            "execution_count": null,
            "metadata": {
                "collapsed": true,
                "id": "0f64db5a-e176-46a1-a10b-8c7db09437bc",
                "focus": false
            },
            "outputs": [],
            "source": [
                "df_raw = pd.read_csv(\"airport_cancellations.csv\")\n",
                "df = df_raw.dropna() \n",
                "print df.head()"
            ]
        },
        {
            "cell_type": "markdown",
            "metadata": {
                "id": "3690c265-ac0f-484d-ac79-f42da341e4cd",
                "focus": false
            },
            "source": [
                "### Intro: Write a problem statement / aim for this project"
            ]
        },
        {
            "cell_type": "markdown",
            "metadata": {
                "id": "58297e17-aa21-4d1d-a46b-a36a4b92aac7",
                "focus": false
            },
            "source": [
                "We want to understand the behavior of flight cancellations\n",
                "Answer: "
            ]
        },
        {
            "cell_type": "markdown",
            "metadata": {
                "id": "a3cccc0e-8531-4dfe-bb23-8c632aa7404e",
                "focus": false
            },
            "source": [
                "### Part 1: Create a PostgreSQL database "
            ]
        },
        {
            "cell_type": "markdown",
            "metadata": {
                "id": "b51ca850-aa85-43e1-b7cd-627af62f5fe8",
                "focus": false
            },
            "source": [
                "#### 1. Let's create a database where we can house our airport data"
            ]
        },
        {
            "cell_type": "code",
            "execution_count": null,
            "metadata": {
                "collapsed": true,
                "id": "5d1b5e84-b49a-4bad-b961-abcb8e6f2751",
                "focus": false
            },
            "outputs": [],
            "source": [
                "postgres -D /usr/local/pgsql/data >logfile 2>&1 \n",
                "createdb mydb"
            ]
        },
        {
            "cell_type": "markdown",
            "metadata": {
                "id": "b40e2d2b-5535-42c6-94d6-083b3e428b14",
                "focus": false
            },
            "source": [
                "Load our csv files into tables"
            ]
        },
        {
            "cell_type": "code",
            "execution_count": null,
            "metadata": {
                "collapsed": true,
                "id": "5cb41423-7467-4005-964c-9b423c3af977",
                "focus": false
            },
            "outputs": [],
            "source": []
        },
        {
            "cell_type": "markdown",
            "metadata": {
                "id": "a0ca5023-4860-4d86-ae40-218d120ece17",
                "focus": false
            },
            "source": [
                "Join airport_cancellations.csv and airports.csv into one table"
            ]
        },
        {
            "cell_type": "code",
            "execution_count": null,
            "metadata": {
                "collapsed": true,
                "id": "0192b97c-b99f-498b-b64b-f857451b5218",
                "focus": false
            },
            "outputs": [],
            "source": []
        },
        {
            "cell_type": "markdown",
            "metadata": {
                "id": "a5fa5f85-1cd6-4ab6-b936-93e9c951e1b7",
                "focus": false
            },
            "source": [
                "Query the database for our intial data"
            ]
        },
        {
            "cell_type": "code",
            "execution_count": null,
            "metadata": {
                "collapsed": true,
                "id": "385da01a-0b74-47bc-9757-447e46fa194a",
                "focus": false
            },
            "outputs": [],
            "source": [
                "cur = conn.cursor()\n",
                "cur.execute(\"\"\"SELECT * FROM mydb\"\"\")\n",
                "ap = cur.fetchall()\n",
                "print ap"
            ]
        },
        {
            "cell_type": "markdown",
            "metadata": {
                "id": "0b511b59-41ea-478f-bf2d-7e392dc9edaa",
                "focus": false
            },
            "source": [
                "#### 1.2 What are the risks and assumptions of our data? "
            ]
        },
        {
            "cell_type": "markdown",
            "metadata": {
                "id": "0936ff6a-6919-4436-9fc1-d6ef90d5ba9e",
                "focus": false
            },
            "source": []
        },
        {
            "cell_type": "markdown",
            "metadata": {
                "id": "e97b4707-0f0e-4f6a-90ab-fbb634c2305d",
                "focus": false
            },
            "source": [
                "### Part 2: Exploratory Data Analysis"
            ]
        },
        {
            "cell_type": "markdown",
            "metadata": {
                "id": "6be9cf88-1b92-4360-b424-a495d5e2d4ba",
                "focus": false
            },
            "source": [
                "#### 2.1 Plot and Describe the Data"
            ]
        },
        {
            "cell_type": "code",
            "execution_count": null,
            "metadata": {
                "collapsed": true,
                "id": "41ff90a9-0d50-4a8e-97c4-fe429fffc1f7",
                "focus": false
            },
            "outputs": [],
            "source": [
                "ap.head()\n",
                "ap.describe()\n"
            ]
        },
        {
            "cell_type": "markdown",
            "metadata": {
                "id": "3d12188d-3aa9-4d47-a0e8-b5d6e8f071de",
                "focus": false
            },
            "source": [
                "#### Are there any unique values? "
            ]
        },
        {
            "cell_type": "code",
            "execution_count": null,
            "metadata": {
                "collapsed": true,
                "id": "d76cfc84-4d16-4f6f-aca8-3dc77d3b8f5c",
                "focus": false
            },
            "outputs": [],
            "source": []
        },
        {
            "cell_type": "markdown",
            "metadata": {
                "id": "e2ddc27c-94d6-4ab1-95ef-1093bb2726b0",
                "focus": false
            },
            "source": [
                "### Part 3: Data Mining"
            ]
        },
        {
            "cell_type": "markdown",
            "metadata": {
                "id": "a746fd8c-fdb0-45c3-9e17-ad4c89360055",
                "focus": false
            },
            "source": [
                "#### 3.1 Create Dummy Variables"
            ]
        },
        {
            "cell_type": "code",
            "execution_count": null,
            "metadata": {
                "collapsed": true,
                "id": "eae97f78-3695-4777-91c5-f282dfd26e96",
                "focus": false
            },
            "outputs": [],
            "source": []
        },
        {
            "cell_type": "markdown",
            "metadata": {
                "id": "c9b12f39-5410-42d7-aff9-859c0b2ccb70",
                "focus": false
            },
            "source": [
                "#### 3.2 Format and Clean the Data"
            ]
        },
        {
            "cell_type": "code",
            "execution_count": null,
            "metadata": {
                "collapsed": true,
                "id": "c2f083d5-edf1-4380-a245-13c77315daa7",
                "focus": false
            },
            "outputs": [],
            "source": []
        },
        {
            "cell_type": "markdown",
            "metadata": {
                "id": "27db8e3b-27d2-4420-bbab-1ddbba3dc3e5",
                "focus": false
            },
            "source": [
                "### Part 4: Define the Data"
            ]
        },
        {
            "cell_type": "markdown",
            "metadata": {
                "id": "9bcb3ba6-8c35-470c-a821-47d7ba6a32f2",
                "focus": false
            },
            "source": [
                "#### 4.1 Confirm that the dataset has a normal distribution. How can you tell? "
            ]
        },
        {
            "cell_type": "code",
            "execution_count": null,
            "metadata": {
                "collapsed": true,
                "id": "9c365cbd-7b6d-46bf-b4e4-b0e2e7bd5ff6",
                "focus": false
            },
            "outputs": [],
            "source": []
        },
        {
            "cell_type": "markdown",
            "metadata": {
                "id": "17457da4-1175-4348-b10a-99f41f7a24dd",
                "focus": false
            },
            "source": [
                "#### 4.2 Find correlations in the data"
            ]
        },
        {
            "cell_type": "code",
            "execution_count": null,
            "metadata": {
                "collapsed": true,
                "id": "78003f34-c0d8-40f6-bafe-e0892df3f1ca",
                "focus": false
            },
            "outputs": [],
            "source": []
        },
        {
            "cell_type": "markdown",
            "metadata": {
                "id": "886b49bf-d7fa-41b0-b94c-740345580d88",
                "focus": false
            },
            "source": [
                "#### 4.3 What is the value of understanding correlations before PCA? "
            ]
        },
        {
            "cell_type": "markdown",
            "metadata": {
                "id": "192df272-c2b1-46da-bcfa-c2b02d7445a8",
                "focus": false
            },
            "source": [
                "Answer: "
            ]
        },
        {
            "cell_type": "markdown",
            "metadata": {
                "id": "904cda18-4a60-4b05-8502-139beb44c1f0",
                "focus": false
            },
            "source": [
                "#### 4.4 Validate your findings using statistical analysis"
            ]
        },
        {
            "cell_type": "code",
            "execution_count": null,
            "metadata": {
                "collapsed": true,
                "id": "d2f5bd48-a2c8-4511-b3c6-fcb4889db4a7",
                "focus": false
            },
            "outputs": [],
            "source": []
        },
        {
            "cell_type": "markdown",
            "metadata": {
                "id": "87689b59-fda0-4a07-a9d3-95936deaf8ee",
                "focus": false
            },
            "source": [
                "#### 4.5 How can you improve your overall analysis? "
            ]
        },
        {
            "cell_type": "markdown",
            "metadata": {
                "id": "000bc40d-e033-4621-82a4-e09717947fb3",
                "focus": false
            },
            "source": [
                "Answer: "
            ]
        },
        {
            "cell_type": "markdown",
            "metadata": {
                "id": "cea5d879-f180-448a-bd50-b30b2b7d6d28",
                "focus": false
            },
            "source": [
                "### Part 5: Perform a PCA and Present Findings"
            ]
        },
        {
            "cell_type": "markdown",
            "metadata": {
                "id": "27c1212c-3490-45ff-a6da-501075f3eee5",
                "focus": false
            },
            "source": [
                "#### 5.1 Conduct the PCA"
            ]
        },
        {
            "cell_type": "code",
            "execution_count": null,
            "metadata": {
                "collapsed": true,
                "id": "a8e7ac46-ba4f-47a8-99f8-b67a7f7e108e",
                "focus": false
            },
            "outputs": [],
            "source": [
                "# Create a clean data frame \n",
                "ap1 = ap[['airport','year','departure cancellations','arrival cancellations']]\n",
                "print ap1.head()"
            ]
        },
        {
            "cell_type": "code",
            "execution_count": null,
            "metadata": {
                "collapsed": true,
                "id": "98fd6a42-89e0-4621-a70d-1e2c8c4bb975",
                "focus": false
            },
            "outputs": [],
            "source": []
        },
        {
            "cell_type": "markdown",
            "metadata": {
                "id": "023d9120-1eb3-4f20-b083-5a8fa1605f06",
                "focus": false
            },
            "source": [
                "#### 5.2 Write an analysis plan of your findings "
            ]
        },
        {
            "cell_type": "markdown",
            "metadata": {
                "id": "dc0ce0b7-c246-4d76-a01d-88fa0d37fe95",
                "focus": false
            },
            "source": [
                "Create a writeup on the interpretation of findings including an executive summary with conclusions and next steps"
            ]
        },
        {
            "cell_type": "markdown",
            "metadata": {
                "id": "140af42e-0757-400e-ae39-0410a54d2581",
                "focus": false
            },
            "source": []
        },
        {
            "cell_type": "markdown",
            "metadata": {
                "id": "8e08640c-4901-4724-9805-32c518521b2f",
                "focus": false
            },
            "source": [
                "### Part 6: Copy your Database to AWS "
            ]
        },
        {
            "cell_type": "markdown",
            "metadata": {
                "id": "bf5d7088-46cd-4c47-9fcc-c1fd200cd164",
                "focus": false
            },
            "source": [
                "Make sure to properly document all of the features of your dataset"
            ]
        },
        {
            "cell_type": "code",
            "execution_count": null,
            "metadata": {
                "collapsed": true,
                "id": "d181acff-8a70-40e9-8e39-fdc2b95550a2",
                "focus": false
            },
            "outputs": [],
            "source": []
        },
        {
            "cell_type": "markdown",
            "metadata": {
                "id": "63387c7b-3c90-4732-808c-298225e1c0fb",
                "focus": false
            },
            "source": [
                "### Bonus: Create a 3-Dimensional Plot of your new dataset with PCA applied"
            ]
        },
        {
            "cell_type": "code",
            "execution_count": null,
            "metadata": {
                "collapsed": true,
                "id": "b6fece51-aa23-4572-8d1d-c9c83701899d",
                "focus": false
            },
            "outputs": [],
            "source": []
        }
    ],
    "metadata": {
        "kernelspec": {
            "display_name": "Python 3",
            "language": "python",
            "name": "python3"
        },
        "language_info": {
            "codemirror_mode": {
                "name": "ipython",
                "version": 3
            },
            "file_extension": ".py",
            "mimetype": "text/x-python",
            "name": "python",
            "nbconvert_exporter": "python",
            "pygments_lexer": "ipython3",
            "version": "3.5.1"
        }
    },
    "nbformat": 4,
    "nbformat_minor": 0
}