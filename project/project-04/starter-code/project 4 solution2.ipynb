{
 "cells": [
  {
   "cell_type": "markdown",
   "metadata": {
    "focus": false,
    "id": "cc166dbc-d723-4076-8dd8-a290d911dc9b"
   },
   "source": [
    "# Project 4: Web Scraping Indeed.com & Predicting Salaries"
   ]
  },
  {
   "cell_type": "markdown",
   "metadata": {
    "focus": false,
    "id": "59b0deac-55d6-4908-8dee-ce68611486f0"
   },
   "source": [
    "In Project 4, we practice two major skills: collecting data via  web scraping and building a binary predictor with Logistic Regression.\n",
    "\n",
    "We will collect salary information on data science jobs in a variety of markets. Using location, title, and job summary, we'll predict the salary of the job. For job posting sites, this is extraordinarily useful. While most listings DO NOT come with salary information (as you will see in this exercise), extrapolating expected salary can help guide negotiations.\n",
    "\n",
    "Normally, we can use regression for this task; however, we will convert this problem into classification and use Logistic Regression.\n",
    "\n",
    "- Q: Why would we want this to be a classification problem?\n",
    "- A: While more precision may be better, there is a fair amount of natural variance in job salaries - predicting a range be may be useful.\n",
    "\n",
    "Section one focuses on scraping Indeed.com; then we use listings with salary information to build a model and predict additional salaries."
   ]
  },
  {
   "cell_type": "markdown",
   "metadata": {
    "focus": false,
    "id": "1321e3c4-2105-428e-9b1b-6d958453ef1d"
   },
   "source": [
    "### Scraping job listings from Indeed.com"
   ]
  },
  {
   "cell_type": "markdown",
   "metadata": {
    "focus": false,
    "id": "9d959074-bf26-4000-b0da-11273e253776"
   },
   "source": [
    "Scrape job listings from Indeed.com using BeautifulSoup. Luckily, Indeed.com is a simple text page where we can easily find relevant entries. First, look at the source of an Indeed.com page: (http://www.indeed.com/jobs?q=data+scientist+%2420%2C000&l=New+York&start=10\")\n",
    "\n",
    "Notice, each job listing is underneath a `div` tag with a class name of `result`. We can use BeautifulSoup to extract."
   ]
  },
  {
   "cell_type": "markdown",
   "metadata": {
    "focus": false,
    "id": "d9f7b5d1-b227-4bda-a87b-1606b62fb60b"
   },
   "source": [
    "#### Setup a request (using `requests`) to the URL below. Use BeautifulSoup to parse the page and extract all results (HINT: Look for div tags with class name result)\n",
    "\n",
    "The URL here has many query parameters\n",
    "\n",
    "- `q` for the job search\n",
    "- This is followed by \"+20,000\" to return results with salaries (or expected salaries >$20,000)\n",
    "- `l` for a location \n",
    "- `start` for what result number to start on"
   ]
  },
  {
   "cell_type": "code",
   "execution_count": null,
   "metadata": {
    "collapsed": true
   },
   "outputs": [],
   "source": [
    "URL = \"http://www.indeed.com/jobs?q=data+scientist&l=Atlanta%2C+GA\""
   ]
  },
  {
   "cell_type": "code",
   "execution_count": 1,
   "metadata": {
    "collapsed": true,
    "focus": false,
    "id": "78446809-fa02-48df-b60f-cbeda175a498"
   },
   "outputs": [],
   "source": [
    "import requests\n",
    "import bs4\n",
    "from bs4 import BeautifulSoup\n",
    "from __future__ import division\n",
    "import seaborn as sns\n",
    "import pandas as pd\n",
    "import numpy as np\n",
    "import matplotlib.pyplot as plt\n",
    "from sklearn.linear_model import LogisticRegression, LogisticRegressionCV\n",
    "from sklearn.cross_validation import cross_val_score, train_test_split\n",
    "from sklearn.preprocessing import scale"
   ]
  },
  {
   "cell_type": "code",
   "execution_count": null,
   "metadata": {
    "collapsed": false,
    "focus": false,
    "id": "c8846f3e-42a5-4714-9784-fb5d6a28524b"
   },
   "outputs": [],
   "source": [
    "# read site in soup\n",
    "r = requests.get(URL)\n",
    "soup = BeautifulSoup(r.content, \"lxml\")\n",
    "\n",
    "# Append to the full set of results\n",
    "results = soup.findAll('div', { \"class\" : \"result\" })\n"
   ]
  },
  {
   "cell_type": "markdown",
   "metadata": {
    "focus": false,
    "id": "963bb376-7746-43ce-98ec-ea4162f7ead6"
   },
   "source": [
    "Let's look at one result more closely. A single `result` looks like\n",
    "\n",
    "```\n",
    "<div class=\" row result\" data-jk=\"2480d203f7e97210\" data-tn-component=\"organicJob\" id=\"p_2480d203f7e97210\" itemscope=\"\" itemtype=\"http://schema.org/JobPosting\">\n",
    "<h2 class=\"jobtitle\" id=\"jl_2480d203f7e97210\">\n",
    "<a class=\"turnstileLink\" data-tn-element=\"jobTitle\" onmousedown=\"return rclk(this,jobmap[0],1);\" rel=\"nofollow\" target=\"_blank\" title=\"AVP/Quantitative Analyst\">AVP/Quantitative Analyst</a>\n",
    "</h2>\n",
    "<span class=\"company\" itemprop=\"hiringOrganization\" itemtype=\"http://schema.org/Organization\">\n",
    "<span itemprop=\"name\">\n",
    "<a href=\"/cmp/Alliancebernstein?from=SERP&amp;campaignid=serp-linkcompanyname&amp;fromjk=2480d203f7e97210&amp;jcid=b374f2a780e04789\" target=\"_blank\">\n",
    "    AllianceBernstein</a></span>\n",
    "</span>\n",
    "<tr>\n",
    "<td class=\"snip\">\n",
    "<nobr>$117,500 - $127,500 a year</nobr>\n",
    "<div>\n",
    "<span class=\"summary\" itemprop=\"description\">\n",
    "C onduct quantitative and statistical research as well as portfolio management for various investment portfolios. Collaborate with Quantitative Analysts and</span>\n",
    "</div>\n",
    "</div>\n",
    "</td>\n",
    "</tr>\n",
    "</table>\n",
    "</div>\n",
    "```\n",
    "\n",
    "While this has some of the more verbose elements removed, we can see that there is some structure to the above:\n",
    "- The salary is available in a `nobr` element inside of a `td` element with `class='snip`.\n",
    "- The title of a job is in a link with class set to `jobtitle` and a `data-tn-element=\"jobTitle`.  \n",
    "- The location is set in a `span` with `class='location'`. \n",
    "- The company is set in a `span` with `class='company'`. "
   ]
  },
  {
   "cell_type": "markdown",
   "metadata": {
    "focus": false,
    "id": "27b6ffb9-b42f-4298-b07a-10e3bab030cd"
   },
   "source": [
    "### Write 4 functions to extract each item: location, company, job, and salary.\n",
    "\n",
    "example: \n",
    "```python\n",
    "def extract_location_from_result(result):\n",
    "    return result.find ...\n",
    "```\n",
    "\n",
    "- Make sure these functions are robust and can handle cases where the data/field may not be available\n",
    "- Test the functions on the results above"
   ]
  },
  {
   "cell_type": "code",
   "execution_count": null,
   "metadata": {
    "collapsed": true,
    "focus": false,
    "id": "f4b0755f-42e1-438f-89fc-131a60b781cd"
   },
   "outputs": [],
   "source": [
    "# get text\n",
    "def extract_text(el):\n",
    "    if el:\n",
    "        return el.text.strip()\n",
    "    else:\n",
    "        return ''\n",
    "        \n",
    "# company\n",
    "def get_company_from_result(result):\n",
    "    return extract_text(result.find('span', {'class' : 'company'}))\n",
    "\n",
    "# location\n",
    "def get_location_from_result(result):\n",
    "    return extract_text(result.find('span', {'class' : 'location'}))\n",
    "\n",
    "\n",
    "\n",
    "# summary\n",
    "def get_summary_from_result(result):\n",
    "    return extract_text(result.find('span', {'class' : 'summary'}))\n",
    "\n",
    "\n",
    "\n",
    "# title\n",
    "def get_title_from_result(result):\n",
    "    return extract_text(result.find('a', {'data-tn-element' : 'jobTitle'}))\n",
    "\n",
    "\n",
    "\n",
    "# get salary if exists\n",
    "def get_salary_from_result(result):\n",
    "    salary_table = result.find('td', {'class' : 'snip'})\n",
    "    if salary_table:\n",
    "        snip = salary_table.find('nobr')\n",
    "        if snip:\n",
    "            return snip.text.strip()   \n",
    "    return None"
   ]
  },
  {
   "cell_type": "markdown",
   "metadata": {
    "focus": false,
    "id": "dc1d32a3-b13c-4919-8723-ce50dbc7660f"
   },
   "source": [
    "Now, to scale up our scraping, we need to accumulate more results. We can do this by examining the URL above.\n",
    "\n",
    "- \"http://www.indeed.com/jobs?q=data+scientist+%2420%2C000&l=New+York&start=10\"\n",
    "\n",
    "There are two query parameters here we can alter to collect more results: the `l=New+York` and the `start=10`. The first controls the location of the results (so we can try different city). The second controls where in the results to start and gives 10 results (so we can keep incrementing this by 10 to move further within the list)."
   ]
  },
  {
   "cell_type": "markdown",
   "metadata": {
    "focus": false,
    "id": "10eb5902-4727-4947-a167-2531aa12a427"
   },
   "source": [
    "#### Use the functions you wrote above to parse out the 4 fields - location, title, company and salary. Create a dataframe from the results with those 4 columns."
   ]
  },
  {
   "cell_type": "code",
   "execution_count": null,
   "metadata": {
    "collapsed": false,
    "focus": false,
    "id": "20a34e35-a4db-44eb-8490-9903f8bcf406"
   },
   "outputs": [],
   "source": [
    "# specify city\n",
    "YOUR_CITY = ['Atlanta','Newark','Dallas','New+York','Houston', 'Boston','Connecticut',\"San+Francisco\",'Seattle','Cleveland','Tampa','Miami']"
   ]
  },
  {
   "cell_type": "code",
   "execution_count": null,
   "metadata": {
    "collapsed": false,
    "focus": false,
    "id": "b02e2931-4d5a-4e1e-9504-c6ccaaf84bed"
   },
   "outputs": [],
   "source": [
    "#create template URL and max number of results (pages) to pull\n",
    "# url_template = \"http://www.indeed.com/jobs?q=data+scientist+%2420%2C000&l={}&start={}\"\n",
    "# df =pd.DataFrame()\n",
    "# # for loop to pull data with bs4\n",
    "# for city in YOUR_CITY :\n",
    "#     for start in range(1,500,10):\n",
    "#         r = requests.get(url_template.format(city,start))\n",
    "#         # Grab the results from the request (as above)\n",
    "#         soup = BeautifulSoup(r.content)\n",
    "#         # Append to the full set of results\n",
    "#         results += soup.findAll('div', { \"class\" : \"result\" })\n",
    "\n",
    "# for element in  range(len(results)):\n",
    "#     company = get_company_from_result(results[element])\n",
    "#     location =get_location_from_result(results[element])\n",
    "#     summary=get_summary_from_result(results[element])\n",
    "#     title=get_title_from_result(results[element])\n",
    "#     salary=get_salary_from_result(results[element])\n",
    "# #     df = df.append({\"Location\":location,\"Summary\":summary,\"Title\":title,\"Salary\":salary},ignore_index = True)\n",
    "#     df = df.append({\"Company\":company,\"Location\":location,\"Title\":title,\"Salary\":salary,\"Summary\":summary},ignore_index = True)\n",
    "# df  "
   ]
  },
  {
   "cell_type": "code",
   "execution_count": null,
   "metadata": {
    "collapsed": false
   },
   "outputs": [],
   "source": [
    "df.head(2)"
   ]
  },
  {
   "cell_type": "code",
   "execution_count": null,
   "metadata": {
    "collapsed": false
   },
   "outputs": [],
   "source": [
    "# for drop the null values\n",
    "df1 = df.dropna()\n",
    "df1.shape"
   ]
  },
  {
   "cell_type": "code",
   "execution_count": null,
   "metadata": {
    "collapsed": false
   },
   "outputs": [],
   "source": [
    "# drop the duplicates\n",
    "df2 = df1.drop_duplicates()\n",
    "df2.shape"
   ]
  },
  {
   "cell_type": "code",
   "execution_count": null,
   "metadata": {
    "collapsed": false
   },
   "outputs": [],
   "source": [
    "df2"
   ]
  },
  {
   "cell_type": "markdown",
   "metadata": {
    "focus": false,
    "id": "27584c3f-f552-40a2-842a-0681b1fd6265"
   },
   "source": [
    "#### Complete the following code to collect results from multiple cities and start points. \n",
    "- Enter your city below to add it to the search\n",
    "- Remember to convert your salary to U.S. Dollars to match the other cities if the currency is different"
   ]
  },
  {
   "cell_type": "markdown",
   "metadata": {
    "focus": false,
    "id": "faac26dc-392a-4f90-a397-144a070702cb"
   },
   "source": [
    "Lastly, we need to clean up salary data. \n",
    "\n",
    "1. Only a small number of the scraped results have salary information - only these will be used for modeling.\n",
    "1. Some of the salaries are not yearly but hourly or weekly, these will not be useful to us for now\n",
    "1. Some of the entries may be duplicated\n",
    "1. The salaries are given as text and usually with ranges.\n",
    "\n",
    "#### Find the entries with annual salary entries, by filtering the entries without salaries or salaries that are not yearly (filter those that refer to hour or week). Also, remove duplicate entries"
   ]
  },
  {
   "cell_type": "code",
   "execution_count": null,
   "metadata": {
    "collapsed": false,
    "focus": false,
    "id": "58ff72c5-eef2-4a86-93ac-22f84ed9b752"
   },
   "outputs": [],
   "source": [
    "# Filter to only the rows that have salary entries\n",
    "\n",
    "# Remove duplicates\n",
    "\n",
    "# Filter out salary entries referring to week, hour or month\n",
    "df2 = df2[~(df2.Salary.astype('str').str.contains('hour'))]\n",
    "df2 = df2[~(df2.Salary.astype('str').str.contains('month'))]\n",
    "df2 = df2[~(df2.Salary.astype('str').str.contains('week'))]\n",
    "\n",
    "df2.shape"
   ]
  },
  {
   "cell_type": "code",
   "execution_count": null,
   "metadata": {
    "collapsed": false
   },
   "outputs": [],
   "source": [
    "df2"
   ]
  },
  {
   "cell_type": "markdown",
   "metadata": {
    "focus": false,
    "id": "e1f58de9-78a7-49c1-b1ff-145a8f983790"
   },
   "source": [
    " Write a function that takes a salary string and converts it to a number, averaging a salary range if necessary"
   ]
  },
  {
   "cell_type": "code",
   "execution_count": null,
   "metadata": {
    "collapsed": true
   },
   "outputs": [],
   "source": [
    "# for getting average salary"
   ]
  },
  {
   "cell_type": "code",
   "execution_count": null,
   "metadata": {
    "collapsed": true,
    "focus": false,
    "id": "f2eaea83-8f84-48d3-af17-037538d06601"
   },
   "outputs": [],
   "source": [
    "import re\n",
    "import numpy as np\n",
    "def extract_salary_average(salary_string):\n",
    "    regex = r'\\$([0-9]+,[0-9]+)'   \n",
    "    matches = re.findall(regex, salary_string)\n",
    "    return np.mean([float(salary.replace(',', '')) for salary in matches ])\n",
    "    return matches"
   ]
  },
  {
   "cell_type": "code",
   "execution_count": null,
   "metadata": {
    "collapsed": false
   },
   "outputs": [],
   "source": [
    "\n",
    "l1 = []\n",
    "for i in df2[\"Salary\"]:\n",
    "    a = extract_salary_average(i)\n",
    "    l1.append(a)\n",
    "    \n",
    "len(l1 ) \n",
    "df2[\"Salary\"] = l1"
   ]
  },
  {
   "cell_type": "code",
   "execution_count": null,
   "metadata": {
    "collapsed": true
   },
   "outputs": [],
   "source": [
    "df2[\"Salary\"] = df2[\"Salary\"].astype(float)"
   ]
  },
  {
   "cell_type": "code",
   "execution_count": null,
   "metadata": {
    "collapsed": false
   },
   "outputs": [],
   "source": [
    "# median salary from salary column.\n",
    "median_Salary = df2[\"Salary\"].median()"
   ]
  },
  {
   "cell_type": "code",
   "execution_count": null,
   "metadata": {
    "collapsed": false
   },
   "outputs": [],
   "source": [
    "type(median_Salary)"
   ]
  },
  {
   "cell_type": "code",
   "execution_count": null,
   "metadata": {
    "collapsed": false
   },
   "outputs": [],
   "source": [
    "df2[\"Salary_class\"] = df2[\"Salary\"].map(lambda x: 1 if x>=median_Salary else 0)"
   ]
  },
  {
   "cell_type": "code",
   "execution_count": null,
   "metadata": {
    "collapsed": false,
    "focus": false,
    "id": "5d66eb8a-a032-43f7-8e87-8f37612c2ce5",
    "scrolled": true
   },
   "outputs": [],
   "source": [
    "# save scraped results as a CSV for Tableau/external viz\n",
    "df2.to_csv('indeed salary_file', encoding='utf-8')"
   ]
  },
  {
   "cell_type": "code",
   "execution_count": 2,
   "metadata": {
    "collapsed": false
   },
   "outputs": [],
   "source": [
    "# load the file\n",
    "salary_Data = pd.read_csv(\"indeed salary_file\")"
   ]
  },
  {
   "cell_type": "code",
   "execution_count": 3,
   "metadata": {
    "collapsed": false
   },
   "outputs": [
    {
     "data": {
      "text/plain": [
       "(175, 7)"
      ]
     },
     "execution_count": 3,
     "metadata": {},
     "output_type": "execute_result"
    }
   ],
   "source": [
    "salary_Data.shape"
   ]
  },
  {
   "cell_type": "markdown",
   "metadata": {
    "focus": false,
    "id": "c3ed6de7-8fe0-4cf4-abbd-abb2a188e05b"
   },
   "source": [
    "#### We want to predict a binary variable - whether the salary was low or high. Compute the median salary and create a new binary variable that is true when the salary is high (above the median)"
   ]
  },
  {
   "cell_type": "markdown",
   "metadata": {
    "focus": false,
    "id": "6e8a5a1c-1580-4845-a9b6-482bc00c73cd"
   },
   "source": [
    "## Predicting salaries using Logistic Regression"
   ]
  },
  {
   "cell_type": "code",
   "execution_count": 4,
   "metadata": {
    "collapsed": false
   },
   "outputs": [],
   "source": [
    "del salary_Data[\"Unnamed: 0\"]"
   ]
  },
  {
   "cell_type": "code",
   "execution_count": 5,
   "metadata": {
    "collapsed": false
   },
   "outputs": [
    {
     "data": {
      "text/html": [
       "<div>\n",
       "<table border=\"1\" class=\"dataframe\">\n",
       "  <thead>\n",
       "    <tr style=\"text-align: right;\">\n",
       "      <th></th>\n",
       "      <th>Company</th>\n",
       "      <th>Location</th>\n",
       "      <th>Salary</th>\n",
       "      <th>Summary</th>\n",
       "      <th>Title</th>\n",
       "      <th>Salary_class</th>\n",
       "      <th>City</th>\n",
       "      <th>State</th>\n",
       "    </tr>\n",
       "  </thead>\n",
       "  <tbody>\n",
       "    <tr>\n",
       "      <th>0</th>\n",
       "      <td>Centers for Disease Control and Prevention</td>\n",
       "      <td>Atlanta, GA</td>\n",
       "      <td>101553.5</td>\n",
       "      <td>Whether we are protecting the American people ...</td>\n",
       "      <td>Statistician (Health)</td>\n",
       "      <td>1</td>\n",
       "      <td>Atlanta</td>\n",
       "      <td>GA</td>\n",
       "    </tr>\n",
       "    <tr>\n",
       "      <th>1</th>\n",
       "      <td>Centers for Disease Control and Prevention</td>\n",
       "      <td>Atlanta, GA</td>\n",
       "      <td>85399.0</td>\n",
       "      <td>Identify and apply analytical methods, techniq...</td>\n",
       "      <td>Behavioral Scientist</td>\n",
       "      <td>0</td>\n",
       "      <td>Atlanta</td>\n",
       "      <td>GA</td>\n",
       "    </tr>\n",
       "  </tbody>\n",
       "</table>\n",
       "</div>"
      ],
      "text/plain": [
       "                                      Company     Location    Salary  \\\n",
       "0  Centers for Disease Control and Prevention  Atlanta, GA  101553.5   \n",
       "1  Centers for Disease Control and Prevention  Atlanta, GA   85399.0   \n",
       "\n",
       "                                             Summary                  Title  \\\n",
       "0  Whether we are protecting the American people ...  Statistician (Health)   \n",
       "1  Identify and apply analytical methods, techniq...   Behavioral Scientist   \n",
       "\n",
       "   Salary_class     City State  \n",
       "0             1  Atlanta    GA  \n",
       "1             0  Atlanta    GA  "
      ]
     },
     "execution_count": 5,
     "metadata": {},
     "output_type": "execute_result"
    }
   ],
   "source": [
    "# for creating new column as city and state\n",
    "l3 =[]\n",
    "l4 = []\n",
    "for i in salary_Data[\"Location\"]:\n",
    "    city , state = i.split(\", \")\n",
    "    l3.append(city)\n",
    "    l4.append(state)\n",
    "salary_Data[\"City\"] = l3\n",
    "salary_Data[\"State\"] = l4\n",
    "\n",
    "\n",
    "salary_Data.head(2)"
   ]
  },
  {
   "cell_type": "code",
   "execution_count": 6,
   "metadata": {
    "collapsed": false,
    "focus": false,
    "id": "634ab7c1-c76f-4b04-a36e-5ff3cb1f9eb2"
   },
   "outputs": [
    {
     "data": {
      "text/plain": [
       "Company          object\n",
       "Location         object\n",
       "Salary          float64\n",
       "Summary          object\n",
       "Title            object\n",
       "Salary_class      int64\n",
       "City             object\n",
       "State            object\n",
       "dtype: object"
      ]
     },
     "execution_count": 6,
     "metadata": {},
     "output_type": "execute_result"
    }
   ],
   "source": [
    "# Load in the the data of scraped salaries \n",
    "\n",
    "salary_Data.head()\n",
    "salary_Data.dtypes"
   ]
  },
  {
   "cell_type": "code",
   "execution_count": 7,
   "metadata": {
    "collapsed": false,
    "focus": false,
    "id": "073e3f3e-21bc-4ab7-ae2e-272be0a409cc"
   },
   "outputs": [
    {
     "data": {
      "text/html": [
       "<div>\n",
       "<table border=\"1\" class=\"dataframe\">\n",
       "  <thead>\n",
       "    <tr style=\"text-align: right;\">\n",
       "      <th></th>\n",
       "      <th>Company</th>\n",
       "      <th>Location</th>\n",
       "      <th>Salary</th>\n",
       "      <th>Summary</th>\n",
       "      <th>Title</th>\n",
       "      <th>Salary_class</th>\n",
       "      <th>City</th>\n",
       "      <th>State</th>\n",
       "    </tr>\n",
       "  </thead>\n",
       "  <tbody>\n",
       "    <tr>\n",
       "      <th>0</th>\n",
       "      <td>Centers for Disease Control and Prevention</td>\n",
       "      <td>Atlanta, GA</td>\n",
       "      <td>101553.5</td>\n",
       "      <td>Whether we are protecting the American people ...</td>\n",
       "      <td>Statistician (Health)</td>\n",
       "      <td>1</td>\n",
       "      <td>Atlanta</td>\n",
       "      <td>GA</td>\n",
       "    </tr>\n",
       "    <tr>\n",
       "      <th>1</th>\n",
       "      <td>Centers for Disease Control and Prevention</td>\n",
       "      <td>Atlanta, GA</td>\n",
       "      <td>85399.0</td>\n",
       "      <td>Identify and apply analytical methods, techniq...</td>\n",
       "      <td>Behavioral Scientist</td>\n",
       "      <td>0</td>\n",
       "      <td>Atlanta</td>\n",
       "      <td>GA</td>\n",
       "    </tr>\n",
       "  </tbody>\n",
       "</table>\n",
       "</div>"
      ],
      "text/plain": [
       "                                      Company     Location    Salary  \\\n",
       "0  Centers for Disease Control and Prevention  Atlanta, GA  101553.5   \n",
       "1  Centers for Disease Control and Prevention  Atlanta, GA   85399.0   \n",
       "\n",
       "                                             Summary                  Title  \\\n",
       "0  Whether we are protecting the American people ...  Statistician (Health)   \n",
       "1  Identify and apply analytical methods, techniq...   Behavioral Scientist   \n",
       "\n",
       "   Salary_class     City State  \n",
       "0             1  Atlanta    GA  \n",
       "1             0  Atlanta    GA  "
      ]
     },
     "execution_count": 7,
     "metadata": {},
     "output_type": "execute_result"
    }
   ],
   "source": [
    "# for state like GA,NJ.\n",
    "salary_Data['State']= salary_Data[\"State\"].str[:2]\n",
    "salary_Data.head(2)"
   ]
  },
  {
   "cell_type": "raw",
   "metadata": {
    "focus": false,
    "id": "3c7ec3d2-87a0-4290-9d83-a6f4a9ae7e9c"
   },
   "source": [
    "# Q: What is the baseline accuracy for this model?"
   ]
  },
  {
   "cell_type": "markdown",
   "metadata": {
    "collapsed": true,
    "focus": false,
    "id": "987666b2-d8e6-4715-b499-c9d314fb70ce"
   },
   "source": [
    "It is 50% if we guess randomly, half the salaries will be below the median and half will be above."
   ]
  },
  {
   "cell_type": "markdown",
   "metadata": {
    "focus": false,
    "id": "ea7e00cb-9956-44ec-b585-7b95f4d6284c"
   },
   "source": [
    "#### Create a Logistic Regression model to predict High/Low salary using statsmodel. Start by ONLY using the location as a feature. Display the coefficients and write a short summary of what they mean."
   ]
  },
  {
   "cell_type": "code",
   "execution_count": 8,
   "metadata": {
    "collapsed": false
   },
   "outputs": [],
   "source": [
    "salary_Data[\"State\"] = salary_Data[\"State\"].astype(\"category\")\n",
    "\n"
   ]
  },
  {
   "cell_type": "code",
   "execution_count": 9,
   "metadata": {
    "collapsed": false
   },
   "outputs": [
    {
     "data": {
      "text/html": [
       "<div>\n",
       "<table border=\"1\" class=\"dataframe\">\n",
       "  <thead>\n",
       "    <tr style=\"text-align: right;\">\n",
       "      <th></th>\n",
       "      <th>CA</th>\n",
       "      <th>CT</th>\n",
       "      <th>FL</th>\n",
       "      <th>GA</th>\n",
       "      <th>MA</th>\n",
       "      <th>NJ</th>\n",
       "      <th>NY</th>\n",
       "      <th>OH</th>\n",
       "      <th>TX</th>\n",
       "      <th>WA</th>\n",
       "    </tr>\n",
       "  </thead>\n",
       "  <tbody>\n",
       "    <tr>\n",
       "      <th>0</th>\n",
       "      <td>0.0</td>\n",
       "      <td>0.0</td>\n",
       "      <td>0.0</td>\n",
       "      <td>1.0</td>\n",
       "      <td>0.0</td>\n",
       "      <td>0.0</td>\n",
       "      <td>0.0</td>\n",
       "      <td>0.0</td>\n",
       "      <td>0.0</td>\n",
       "      <td>0.0</td>\n",
       "    </tr>\n",
       "    <tr>\n",
       "      <th>1</th>\n",
       "      <td>0.0</td>\n",
       "      <td>0.0</td>\n",
       "      <td>0.0</td>\n",
       "      <td>1.0</td>\n",
       "      <td>0.0</td>\n",
       "      <td>0.0</td>\n",
       "      <td>0.0</td>\n",
       "      <td>0.0</td>\n",
       "      <td>0.0</td>\n",
       "      <td>0.0</td>\n",
       "    </tr>\n",
       "    <tr>\n",
       "      <th>2</th>\n",
       "      <td>0.0</td>\n",
       "      <td>0.0</td>\n",
       "      <td>0.0</td>\n",
       "      <td>1.0</td>\n",
       "      <td>0.0</td>\n",
       "      <td>0.0</td>\n",
       "      <td>0.0</td>\n",
       "      <td>0.0</td>\n",
       "      <td>0.0</td>\n",
       "      <td>0.0</td>\n",
       "    </tr>\n",
       "  </tbody>\n",
       "</table>\n",
       "</div>"
      ],
      "text/plain": [
       "    CA   CT   FL   GA   MA   NJ   NY   OH   TX   WA\n",
       "0  0.0  0.0  0.0  1.0  0.0  0.0  0.0  0.0  0.0  0.0\n",
       "1  0.0  0.0  0.0  1.0  0.0  0.0  0.0  0.0  0.0  0.0\n",
       "2  0.0  0.0  0.0  1.0  0.0  0.0  0.0  0.0  0.0  0.0"
      ]
     },
     "execution_count": 9,
     "metadata": {},
     "output_type": "execute_result"
    }
   ],
   "source": [
    "\n",
    "dummies = pd.get_dummies(salary_Data['State'])\n",
    "dummies[0:3]"
   ]
  },
  {
   "cell_type": "code",
   "execution_count": 10,
   "metadata": {
    "collapsed": false
   },
   "outputs": [
    {
     "data": {
      "text/html": [
       "<div>\n",
       "<table border=\"1\" class=\"dataframe\">\n",
       "  <thead>\n",
       "    <tr style=\"text-align: right;\">\n",
       "      <th></th>\n",
       "      <th>Company</th>\n",
       "      <th>Location</th>\n",
       "      <th>Salary</th>\n",
       "      <th>Summary</th>\n",
       "      <th>Title</th>\n",
       "      <th>Salary_class</th>\n",
       "      <th>City</th>\n",
       "      <th>State</th>\n",
       "      <th>CA</th>\n",
       "      <th>CT</th>\n",
       "      <th>FL</th>\n",
       "      <th>GA</th>\n",
       "      <th>MA</th>\n",
       "      <th>NJ</th>\n",
       "      <th>NY</th>\n",
       "      <th>OH</th>\n",
       "      <th>TX</th>\n",
       "      <th>WA</th>\n",
       "    </tr>\n",
       "  </thead>\n",
       "  <tbody>\n",
       "    <tr>\n",
       "      <th>0</th>\n",
       "      <td>Centers for Disease Control and Prevention</td>\n",
       "      <td>Atlanta, GA</td>\n",
       "      <td>101553.5</td>\n",
       "      <td>Whether we are protecting the American people ...</td>\n",
       "      <td>Statistician (Health)</td>\n",
       "      <td>1</td>\n",
       "      <td>Atlanta</td>\n",
       "      <td>GA</td>\n",
       "      <td>0.0</td>\n",
       "      <td>0.0</td>\n",
       "      <td>0.0</td>\n",
       "      <td>1.0</td>\n",
       "      <td>0.0</td>\n",
       "      <td>0.0</td>\n",
       "      <td>0.0</td>\n",
       "      <td>0.0</td>\n",
       "      <td>0.0</td>\n",
       "      <td>0.0</td>\n",
       "    </tr>\n",
       "    <tr>\n",
       "      <th>1</th>\n",
       "      <td>Centers for Disease Control and Prevention</td>\n",
       "      <td>Atlanta, GA</td>\n",
       "      <td>85399.0</td>\n",
       "      <td>Identify and apply analytical methods, techniq...</td>\n",
       "      <td>Behavioral Scientist</td>\n",
       "      <td>0</td>\n",
       "      <td>Atlanta</td>\n",
       "      <td>GA</td>\n",
       "      <td>0.0</td>\n",
       "      <td>0.0</td>\n",
       "      <td>0.0</td>\n",
       "      <td>1.0</td>\n",
       "      <td>0.0</td>\n",
       "      <td>0.0</td>\n",
       "      <td>0.0</td>\n",
       "      <td>0.0</td>\n",
       "      <td>0.0</td>\n",
       "      <td>0.0</td>\n",
       "    </tr>\n",
       "  </tbody>\n",
       "</table>\n",
       "</div>"
      ],
      "text/plain": [
       "                                      Company     Location    Salary  \\\n",
       "0  Centers for Disease Control and Prevention  Atlanta, GA  101553.5   \n",
       "1  Centers for Disease Control and Prevention  Atlanta, GA   85399.0   \n",
       "\n",
       "                                             Summary                  Title  \\\n",
       "0  Whether we are protecting the American people ...  Statistician (Health)   \n",
       "1  Identify and apply analytical methods, techniq...   Behavioral Scientist   \n",
       "\n",
       "   Salary_class     City State   CA   CT   FL   GA   MA   NJ   NY   OH   TX  \\\n",
       "0             1  Atlanta    GA  0.0  0.0  0.0  1.0  0.0  0.0  0.0  0.0  0.0   \n",
       "1             0  Atlanta    GA  0.0  0.0  0.0  1.0  0.0  0.0  0.0  0.0  0.0   \n",
       "\n",
       "    WA  \n",
       "0  0.0  \n",
       "1  0.0  "
      ]
     },
     "execution_count": 10,
     "metadata": {},
     "output_type": "execute_result"
    }
   ],
   "source": [
    "salary_Data1 = pd.concat([salary_Data,dummies], axis=1)\n",
    "salary_Data1.head(2)"
   ]
  },
  {
   "cell_type": "code",
   "execution_count": 11,
   "metadata": {
    "collapsed": false,
    "scrolled": true
   },
   "outputs": [
    {
     "data": {
      "text/plain": [
       "NY    55\n",
       "MA    23\n",
       "CA    23\n",
       "FL    18\n",
       "GA    16\n",
       "TX    14\n",
       "WA    11\n",
       "NJ     7\n",
       "CT     6\n",
       "OH     2\n",
       "Name: State, dtype: int64"
      ]
     },
     "execution_count": 11,
     "metadata": {},
     "output_type": "execute_result"
    }
   ],
   "source": [
    "salary_Data1[\"State\"].value_counts()"
   ]
  },
  {
   "cell_type": "code",
   "execution_count": 12,
   "metadata": {
    "collapsed": false
   },
   "outputs": [
    {
     "data": {
      "text/html": [
       "<div>\n",
       "<table border=\"1\" class=\"dataframe\">\n",
       "  <thead>\n",
       "    <tr style=\"text-align: right;\">\n",
       "      <th>State</th>\n",
       "      <th>CA</th>\n",
       "      <th>CT</th>\n",
       "      <th>FL</th>\n",
       "      <th>GA</th>\n",
       "      <th>MA</th>\n",
       "      <th>NJ</th>\n",
       "      <th>NY</th>\n",
       "      <th>OH</th>\n",
       "      <th>TX</th>\n",
       "      <th>WA</th>\n",
       "    </tr>\n",
       "    <tr>\n",
       "      <th>salary_Data1</th>\n",
       "      <th></th>\n",
       "      <th></th>\n",
       "      <th></th>\n",
       "      <th></th>\n",
       "      <th></th>\n",
       "      <th></th>\n",
       "      <th></th>\n",
       "      <th></th>\n",
       "      <th></th>\n",
       "      <th></th>\n",
       "    </tr>\n",
       "  </thead>\n",
       "  <tbody>\n",
       "    <tr>\n",
       "      <th>0</th>\n",
       "      <td>2</td>\n",
       "      <td>4</td>\n",
       "      <td>15</td>\n",
       "      <td>11</td>\n",
       "      <td>8</td>\n",
       "      <td>3</td>\n",
       "      <td>21</td>\n",
       "      <td>2</td>\n",
       "      <td>10</td>\n",
       "      <td>5</td>\n",
       "    </tr>\n",
       "    <tr>\n",
       "      <th>1</th>\n",
       "      <td>21</td>\n",
       "      <td>2</td>\n",
       "      <td>3</td>\n",
       "      <td>5</td>\n",
       "      <td>15</td>\n",
       "      <td>4</td>\n",
       "      <td>34</td>\n",
       "      <td>0</td>\n",
       "      <td>4</td>\n",
       "      <td>6</td>\n",
       "    </tr>\n",
       "  </tbody>\n",
       "</table>\n",
       "</div>"
      ],
      "text/plain": [
       "State         CA  CT  FL  GA  MA  NJ  NY  OH  TX  WA\n",
       "salary_Data1                                        \n",
       "0              2   4  15  11   8   3  21   2  10   5\n",
       "1             21   2   3   5  15   4  34   0   4   6"
      ]
     },
     "execution_count": 12,
     "metadata": {},
     "output_type": "execute_result"
    }
   ],
   "source": [
    "pd.crosstab(salary_Data1[\"Salary_class\"], salary_Data1[\"State\"], rownames=[\"salary_Data1\"])"
   ]
  },
  {
   "cell_type": "code",
   "execution_count": 13,
   "metadata": {
    "collapsed": false
   },
   "outputs": [
    {
     "data": {
      "text/plain": [
       "<matplotlib.axes._subplots.AxesSubplot at 0x115883c90>"
      ]
     },
     "execution_count": 13,
     "metadata": {},
     "output_type": "execute_result"
    },
    {
     "data": {
      "image/png": "[encoded data removed]",
      "text/plain": [
       "<matplotlib.figure.Figure at 0x11579de10>"
      ]
     },
     "metadata": {},
     "output_type": "display_data"
    }
   ],
   "source": [
    "import seaborn as sns\n",
    "import matplotlib.pyplot as plt \n",
    "\n",
    "%matplotlib inline\n",
    "\n",
    "sns.heatmap(salary_Data1.corr())\n",
    "\n"
   ]
  },
  {
   "cell_type": "code",
   "execution_count": 14,
   "metadata": {
    "collapsed": false
   },
   "outputs": [
    {
     "data": {
      "text/html": [
       "<div>\n",
       "<table border=\"1\" class=\"dataframe\">\n",
       "  <thead>\n",
       "    <tr style=\"text-align: right;\">\n",
       "      <th></th>\n",
       "      <th>Company</th>\n",
       "      <th>Location</th>\n",
       "      <th>Salary</th>\n",
       "      <th>Summary</th>\n",
       "      <th>Title</th>\n",
       "      <th>Salary_class</th>\n",
       "      <th>City</th>\n",
       "      <th>State</th>\n",
       "      <th>CA</th>\n",
       "      <th>CT</th>\n",
       "      <th>FL</th>\n",
       "      <th>GA</th>\n",
       "      <th>MA</th>\n",
       "      <th>NJ</th>\n",
       "      <th>NY</th>\n",
       "      <th>OH</th>\n",
       "      <th>TX</th>\n",
       "      <th>WA</th>\n",
       "    </tr>\n",
       "  </thead>\n",
       "  <tbody>\n",
       "    <tr>\n",
       "      <th>0</th>\n",
       "      <td>Centers for Disease Control and Prevention</td>\n",
       "      <td>Atlanta, GA</td>\n",
       "      <td>101553.5</td>\n",
       "      <td>Whether we are protecting the American people ...</td>\n",
       "      <td>Statistician (Health)</td>\n",
       "      <td>1</td>\n",
       "      <td>Atlanta</td>\n",
       "      <td>GA</td>\n",
       "      <td>0.0</td>\n",
       "      <td>0.0</td>\n",
       "      <td>0.0</td>\n",
       "      <td>1.0</td>\n",
       "      <td>0.0</td>\n",
       "      <td>0.0</td>\n",
       "      <td>0.0</td>\n",
       "      <td>0.0</td>\n",
       "      <td>0.0</td>\n",
       "      <td>0.0</td>\n",
       "    </tr>\n",
       "  </tbody>\n",
       "</table>\n",
       "</div>"
      ],
      "text/plain": [
       "                                      Company     Location    Salary  \\\n",
       "0  Centers for Disease Control and Prevention  Atlanta, GA  101553.5   \n",
       "\n",
       "                                             Summary                  Title  \\\n",
       "0  Whether we are protecting the American people ...  Statistician (Health)   \n",
       "\n",
       "   Salary_class     City State   CA   CT   FL   GA   MA   NJ   NY   OH   TX  \\\n",
       "0             1  Atlanta    GA  0.0  0.0  0.0  1.0  0.0  0.0  0.0  0.0  0.0   \n",
       "\n",
       "    WA  \n",
       "0  0.0  "
      ]
     },
     "execution_count": 14,
     "metadata": {},
     "output_type": "execute_result"
    }
   ],
   "source": [
    "salary_Data1.head(1)"
   ]
  },
  {
   "cell_type": "code",
   "execution_count": null,
   "metadata": {
    "collapsed": false
   },
   "outputs": [],
   "source": []
  },
  {
   "cell_type": "code",
   "execution_count": 15,
   "metadata": {
    "collapsed": false,
    "scrolled": true
   },
   "outputs": [
    {
     "data": {
      "text/html": [
       "<div>\n",
       "<table border=\"1\" class=\"dataframe\">\n",
       "  <thead>\n",
       "    <tr style=\"text-align: right;\">\n",
       "      <th></th>\n",
       "      <th>Salary</th>\n",
       "      <th>Salary_class</th>\n",
       "      <th>CA</th>\n",
       "      <th>CT</th>\n",
       "      <th>FL</th>\n",
       "      <th>GA</th>\n",
       "      <th>MA</th>\n",
       "      <th>NJ</th>\n",
       "      <th>NY</th>\n",
       "      <th>OH</th>\n",
       "      <th>TX</th>\n",
       "      <th>WA</th>\n",
       "    </tr>\n",
       "  </thead>\n",
       "  <tbody>\n",
       "    <tr>\n",
       "      <th>Salary</th>\n",
       "      <td>1.000000</td>\n",
       "      <td>0.803389</td>\n",
       "      <td>0.360878</td>\n",
       "      <td>-0.066840</td>\n",
       "      <td>-0.312096</td>\n",
       "      <td>-0.160344</td>\n",
       "      <td>-0.022103</td>\n",
       "      <td>-0.061988</td>\n",
       "      <td>0.170964</td>\n",
       "      <td>-0.105259</td>\n",
       "      <td>-0.031760</td>\n",
       "      <td>-0.035822</td>\n",
       "    </tr>\n",
       "    <tr>\n",
       "      <th>Salary_class</th>\n",
       "      <td>0.803389</td>\n",
       "      <td>1.000000</td>\n",
       "      <td>0.293256</td>\n",
       "      <td>-0.077017</td>\n",
       "      <td>-0.251581</td>\n",
       "      <td>-0.142918</td>\n",
       "      <td>0.089741</td>\n",
       "      <td>0.014036</td>\n",
       "      <td>0.110031</td>\n",
       "      <td>-0.115828</td>\n",
       "      <td>-0.148695</td>\n",
       "      <td>0.004317</td>\n",
       "    </tr>\n",
       "    <tr>\n",
       "      <th>CA</th>\n",
       "      <td>0.360878</td>\n",
       "      <td>0.293256</td>\n",
       "      <td>1.000000</td>\n",
       "      <td>-0.073295</td>\n",
       "      <td>-0.131713</td>\n",
       "      <td>-0.123397</td>\n",
       "      <td>-0.151316</td>\n",
       "      <td>-0.079403</td>\n",
       "      <td>-0.263350</td>\n",
       "      <td>-0.041825</td>\n",
       "      <td>-0.114708</td>\n",
       "      <td>-0.100743</td>\n",
       "    </tr>\n",
       "    <tr>\n",
       "      <th>CT</th>\n",
       "      <td>-0.066840</td>\n",
       "      <td>-0.077017</td>\n",
       "      <td>-0.073295</td>\n",
       "      <td>1.000000</td>\n",
       "      <td>-0.063800</td>\n",
       "      <td>-0.059771</td>\n",
       "      <td>-0.073295</td>\n",
       "      <td>-0.038462</td>\n",
       "      <td>-0.127562</td>\n",
       "      <td>-0.020259</td>\n",
       "      <td>-0.055563</td>\n",
       "      <td>-0.048799</td>\n",
       "    </tr>\n",
       "    <tr>\n",
       "      <th>FL</th>\n",
       "      <td>-0.312096</td>\n",
       "      <td>-0.251581</td>\n",
       "      <td>-0.131713</td>\n",
       "      <td>-0.063800</td>\n",
       "      <td>1.000000</td>\n",
       "      <td>-0.107411</td>\n",
       "      <td>-0.131713</td>\n",
       "      <td>-0.069116</td>\n",
       "      <td>-0.229233</td>\n",
       "      <td>-0.036406</td>\n",
       "      <td>-0.099848</td>\n",
       "      <td>-0.087692</td>\n",
       "    </tr>\n",
       "    <tr>\n",
       "      <th>GA</th>\n",
       "      <td>-0.160344</td>\n",
       "      <td>-0.142918</td>\n",
       "      <td>-0.123397</td>\n",
       "      <td>-0.059771</td>\n",
       "      <td>-0.107411</td>\n",
       "      <td>1.000000</td>\n",
       "      <td>-0.123397</td>\n",
       "      <td>-0.064752</td>\n",
       "      <td>-0.214759</td>\n",
       "      <td>-0.034108</td>\n",
       "      <td>-0.093543</td>\n",
       "      <td>-0.082155</td>\n",
       "    </tr>\n",
       "    <tr>\n",
       "      <th>MA</th>\n",
       "      <td>-0.022103</td>\n",
       "      <td>0.089741</td>\n",
       "      <td>-0.151316</td>\n",
       "      <td>-0.073295</td>\n",
       "      <td>-0.131713</td>\n",
       "      <td>-0.123397</td>\n",
       "      <td>1.000000</td>\n",
       "      <td>-0.079403</td>\n",
       "      <td>-0.263350</td>\n",
       "      <td>-0.041825</td>\n",
       "      <td>-0.114708</td>\n",
       "      <td>-0.100743</td>\n",
       "    </tr>\n",
       "    <tr>\n",
       "      <th>NJ</th>\n",
       "      <td>-0.061988</td>\n",
       "      <td>0.014036</td>\n",
       "      <td>-0.079403</td>\n",
       "      <td>-0.038462</td>\n",
       "      <td>-0.069116</td>\n",
       "      <td>-0.064752</td>\n",
       "      <td>-0.079403</td>\n",
       "      <td>1.000000</td>\n",
       "      <td>-0.138193</td>\n",
       "      <td>-0.021948</td>\n",
       "      <td>-0.060193</td>\n",
       "      <td>-0.052865</td>\n",
       "    </tr>\n",
       "    <tr>\n",
       "      <th>NY</th>\n",
       "      <td>0.170964</td>\n",
       "      <td>0.110031</td>\n",
       "      <td>-0.263350</td>\n",
       "      <td>-0.127562</td>\n",
       "      <td>-0.229233</td>\n",
       "      <td>-0.214759</td>\n",
       "      <td>-0.263350</td>\n",
       "      <td>-0.138193</td>\n",
       "      <td>1.000000</td>\n",
       "      <td>-0.072792</td>\n",
       "      <td>-0.199637</td>\n",
       "      <td>-0.175334</td>\n",
       "    </tr>\n",
       "    <tr>\n",
       "      <th>OH</th>\n",
       "      <td>-0.105259</td>\n",
       "      <td>-0.115828</td>\n",
       "      <td>-0.041825</td>\n",
       "      <td>-0.020259</td>\n",
       "      <td>-0.036406</td>\n",
       "      <td>-0.034108</td>\n",
       "      <td>-0.041825</td>\n",
       "      <td>-0.021948</td>\n",
       "      <td>-0.072792</td>\n",
       "      <td>1.000000</td>\n",
       "      <td>-0.031706</td>\n",
       "      <td>-0.027846</td>\n",
       "    </tr>\n",
       "    <tr>\n",
       "      <th>TX</th>\n",
       "      <td>-0.031760</td>\n",
       "      <td>-0.148695</td>\n",
       "      <td>-0.114708</td>\n",
       "      <td>-0.055563</td>\n",
       "      <td>-0.099848</td>\n",
       "      <td>-0.093543</td>\n",
       "      <td>-0.114708</td>\n",
       "      <td>-0.060193</td>\n",
       "      <td>-0.199637</td>\n",
       "      <td>-0.031706</td>\n",
       "      <td>1.000000</td>\n",
       "      <td>-0.076370</td>\n",
       "    </tr>\n",
       "    <tr>\n",
       "      <th>WA</th>\n",
       "      <td>-0.035822</td>\n",
       "      <td>0.004317</td>\n",
       "      <td>-0.100743</td>\n",
       "      <td>-0.048799</td>\n",
       "      <td>-0.087692</td>\n",
       "      <td>-0.082155</td>\n",
       "      <td>-0.100743</td>\n",
       "      <td>-0.052865</td>\n",
       "      <td>-0.175334</td>\n",
       "      <td>-0.027846</td>\n",
       "      <td>-0.076370</td>\n",
       "      <td>1.000000</td>\n",
       "    </tr>\n",
       "  </tbody>\n",
       "</table>\n",
       "</div>"
      ],
      "text/plain": [
       "                Salary  Salary_class        CA        CT        FL        GA  \\\n",
       "Salary        1.000000      0.803389  0.360878 -0.066840 -0.312096 -0.160344   \n",
       "Salary_class  0.803389      1.000000  0.293256 -0.077017 -0.251581 -0.142918   \n",
       "CA            0.360878      0.293256  1.000000 -0.073295 -0.131713 -0.123397   \n",
       "CT           -0.066840     -0.077017 -0.073295  1.000000 -0.063800 -0.059771   \n",
       "FL           -0.312096     -0.251581 -0.131713 -0.063800  1.000000 -0.107411   \n",
       "GA           -0.160344     -0.142918 -0.123397 -0.059771 -0.107411  1.000000   \n",
       "MA           -0.022103      0.089741 -0.151316 -0.073295 -0.131713 -0.123397   \n",
       "NJ           -0.061988      0.014036 -0.079403 -0.038462 -0.069116 -0.064752   \n",
       "NY            0.170964      0.110031 -0.263350 -0.127562 -0.229233 -0.214759   \n",
       "OH           -0.105259     -0.115828 -0.041825 -0.020259 -0.036406 -0.034108   \n",
       "TX           -0.031760     -0.148695 -0.114708 -0.055563 -0.099848 -0.093543   \n",
       "WA           -0.035822      0.004317 -0.100743 -0.048799 -0.087692 -0.082155   \n",
       "\n",
       "                    MA        NJ        NY        OH        TX        WA  \n",
       "Salary       -0.022103 -0.061988  0.170964 -0.105259 -0.031760 -0.035822  \n",
       "Salary_class  0.089741  0.014036  0.110031 -0.115828 -0.148695  0.004317  \n",
       "CA           -0.151316 -0.079403 -0.263350 -0.041825 -0.114708 -0.100743  \n",
       "CT           -0.073295 -0.038462 -0.127562 -0.020259 -0.055563 -0.048799  \n",
       "FL           -0.131713 -0.069116 -0.229233 -0.036406 -0.099848 -0.087692  \n",
       "GA           -0.123397 -0.064752 -0.214759 -0.034108 -0.093543 -0.082155  \n",
       "MA            1.000000 -0.079403 -0.263350 -0.041825 -0.114708 -0.100743  \n",
       "NJ           -0.079403  1.000000 -0.138193 -0.021948 -0.060193 -0.052865  \n",
       "NY           -0.263350 -0.138193  1.000000 -0.072792 -0.199637 -0.175334  \n",
       "OH           -0.041825 -0.021948 -0.072792  1.000000 -0.031706 -0.027846  \n",
       "TX           -0.114708 -0.060193 -0.199637 -0.031706  1.000000 -0.076370  \n",
       "WA           -0.100743 -0.052865 -0.175334 -0.027846 -0.076370  1.000000  "
      ]
     },
     "execution_count": 15,
     "metadata": {},
     "output_type": "execute_result"
    }
   ],
   "source": [
    "salary_Data1.corr()"
   ]
  },
  {
   "cell_type": "code",
   "execution_count": 16,
   "metadata": {
    "collapsed": false
   },
   "outputs": [
    {
     "name": "stdout",
     "output_type": "stream",
     "text": [
      "Optimization terminated successfully.\n",
      "         Current function value: 0.578132\n",
      "         Iterations 6\n"
     ]
    },
    {
     "data": {
      "text/html": [
       "<table class=\"simpletable\">\n",
       "<caption>Logit Regression Results</caption>\n",
       "<tr>\n",
       "  <th>Dep. Variable:</th>         <td>Y</td>        <th>  No. Observations:  </th>  <td>   175</td>  \n",
       "</tr>\n",
       "<tr>\n",
       "  <th>Model:</th>               <td>Logit</td>      <th>  Df Residuals:      </th>  <td>   166</td>  \n",
       "</tr>\n",
       "<tr>\n",
       "  <th>Method:</th>               <td>MLE</td>       <th>  Df Model:          </th>  <td>     8</td>  \n",
       "</tr>\n",
       "<tr>\n",
       "  <th>Date:</th>          <td>Tue, 22 Nov 2016</td> <th>  Pseudo R-squ.:     </th>  <td>0.1626</td>  \n",
       "</tr>\n",
       "<tr>\n",
       "  <th>Time:</th>              <td>07:52:03</td>     <th>  Log-Likelihood:    </th> <td> -101.17</td> \n",
       "</tr>\n",
       "<tr>\n",
       "  <th>converged:</th>           <td>True</td>       <th>  LL-Null:           </th> <td> -120.82</td> \n",
       "</tr>\n",
       "<tr>\n",
       "  <th> </th>                      <td> </td>        <th>  LLR p-value:       </th> <td>4.345e-06</td>\n",
       "</tr>\n",
       "</table>\n",
       "<table class=\"simpletable\">\n",
       "<tr>\n",
       "      <td></td>         <th>coef</th>     <th>std err</th>      <th>z</th>      <th>P>|z|</th> <th>[95.0% Conf. Int.]</th> \n",
       "</tr>\n",
       "<tr>\n",
       "  <th>Intercept</th> <td>   -1.7346</td> <td>    0.626</td> <td>   -2.770</td> <td> 0.006</td> <td>   -2.962    -0.507</td>\n",
       "</tr>\n",
       "<tr>\n",
       "  <th>MA</th>        <td>    2.3632</td> <td>    0.764</td> <td>    3.093</td> <td> 0.002</td> <td>    0.866     3.861</td>\n",
       "</tr>\n",
       "<tr>\n",
       "  <th>NY</th>        <td>    2.2164</td> <td>    0.685</td> <td>    3.236</td> <td> 0.001</td> <td>    0.874     3.559</td>\n",
       "</tr>\n",
       "<tr>\n",
       "  <th>NJ</th>        <td>    2.0223</td> <td>    0.988</td> <td>    2.048</td> <td> 0.041</td> <td>    0.086     3.958</td>\n",
       "</tr>\n",
       "<tr>\n",
       "  <th>WA</th>        <td>    1.9169</td> <td>    0.871</td> <td>    2.201</td> <td> 0.028</td> <td>    0.210     3.624</td>\n",
       "</tr>\n",
       "<tr>\n",
       "  <th>CA</th>        <td>    4.0860</td> <td>    0.969</td> <td>    4.215</td> <td> 0.000</td> <td>    2.186     5.986</td>\n",
       "</tr>\n",
       "<tr>\n",
       "  <th>CT</th>        <td>    1.0415</td> <td>    1.069</td> <td>    0.974</td> <td> 0.330</td> <td>   -1.053     3.136</td>\n",
       "</tr>\n",
       "<tr>\n",
       "  <th>TX</th>        <td>    0.8183</td> <td>    0.861</td> <td>    0.950</td> <td> 0.342</td> <td>   -0.870     2.507</td>\n",
       "</tr>\n",
       "<tr>\n",
       "  <th>GA</th>        <td>    0.9461</td> <td>    0.826</td> <td>    1.145</td> <td> 0.252</td> <td>   -0.674     2.566</td>\n",
       "</tr>\n",
       "</table>"
      ],
      "text/plain": [
       "<class 'statsmodels.iolib.summary.Summary'>\n",
       "\"\"\"\n",
       "                           Logit Regression Results                           \n",
       "==============================================================================\n",
       "Dep. Variable:                      Y   No. Observations:                  175\n",
       "Model:                          Logit   Df Residuals:                      166\n",
       "Method:                           MLE   Df Model:                            8\n",
       "Date:                Tue, 22 Nov 2016   Pseudo R-squ.:                  0.1626\n",
       "Time:                        07:52:03   Log-Likelihood:                -101.17\n",
       "converged:                       True   LL-Null:                       -120.82\n",
       "                                        LLR p-value:                 4.345e-06\n",
       "==============================================================================\n",
       "                 coef    std err          z      P>|z|      [95.0% Conf. Int.]\n",
       "------------------------------------------------------------------------------\n",
       "Intercept     -1.7346      0.626     -2.770      0.006        -2.962    -0.507\n",
       "MA             2.3632      0.764      3.093      0.002         0.866     3.861\n",
       "NY             2.2164      0.685      3.236      0.001         0.874     3.559\n",
       "NJ             2.0223      0.988      2.048      0.041         0.086     3.958\n",
       "WA             1.9169      0.871      2.201      0.028         0.210     3.624\n",
       "CA             4.0860      0.969      4.215      0.000         2.186     5.986\n",
       "CT             1.0415      1.069      0.974      0.330        -1.053     3.136\n",
       "TX             0.8183      0.861      0.950      0.342        -0.870     2.507\n",
       "GA             0.9461      0.826      1.145      0.252        -0.674     2.566\n",
       "==============================================================================\n",
       "\"\"\""
      ]
     },
     "execution_count": 16,
     "metadata": {},
     "output_type": "execute_result"
    }
   ],
   "source": [
    "import statsmodels.formula.api as sm\n",
    "Y = salary_Data1[\"Salary_class\"]\n",
    "model = sm.logit(\"Y~MA+NY+NJ+WA+CA+CT+TX+GA\",data = salary_Data1).fit()\n",
    "model.summary()"
   ]
  },
  {
   "cell_type": "markdown",
   "metadata": {},
   "source": [
    "after analyzing  coefficients we got to know that State of CA is highely correlated with maximum probability of getting a median or above incomes.  and in State of TX the probability is low.  \n"
   ]
  },
  {
   "cell_type": "markdown",
   "metadata": {
    "focus": false,
    "id": "1ecd7811-d200-44bc-942f-4beb76d2689c"
   },
   "source": [
    "#### Create a few new variables in your dataframe to represent interesting features of a job title.\n",
    "- For example, create a feature that represents whether 'Senior' or 'Manager' is in the title \n",
    "- Then build a new Logistic Regression model with these features. Do they add any value? \n"
   ]
  },
  {
   "cell_type": "code",
   "execution_count": 17,
   "metadata": {
    "collapsed": false,
    "focus": false,
    "id": "b847f46e-1626-4340-86fb-08dea8c31a84",
    "scrolled": false
   },
   "outputs": [
    {
     "data": {
      "text/html": [
       "<div>\n",
       "<table border=\"1\" class=\"dataframe\">\n",
       "  <thead>\n",
       "    <tr style=\"text-align: right;\">\n",
       "      <th></th>\n",
       "      <th>Company</th>\n",
       "      <th>Location</th>\n",
       "      <th>Salary</th>\n",
       "      <th>Summary</th>\n",
       "      <th>Title</th>\n",
       "      <th>Salary_class</th>\n",
       "      <th>City</th>\n",
       "      <th>State</th>\n",
       "      <th>CA</th>\n",
       "      <th>CT</th>\n",
       "      <th>...</th>\n",
       "      <th>MA</th>\n",
       "      <th>NJ</th>\n",
       "      <th>NY</th>\n",
       "      <th>OH</th>\n",
       "      <th>TX</th>\n",
       "      <th>WA</th>\n",
       "      <th>is_senior</th>\n",
       "      <th>is_manager</th>\n",
       "      <th>is_dir</th>\n",
       "      <th>is_Analyst</th>\n",
       "    </tr>\n",
       "  </thead>\n",
       "  <tbody>\n",
       "    <tr>\n",
       "      <th>0</th>\n",
       "      <td>Centers for Disease Control and Prevention</td>\n",
       "      <td>Atlanta, GA</td>\n",
       "      <td>101553.5</td>\n",
       "      <td>Whether we are protecting the American people ...</td>\n",
       "      <td>Statistician (Health)</td>\n",
       "      <td>1</td>\n",
       "      <td>Atlanta</td>\n",
       "      <td>GA</td>\n",
       "      <td>0.0</td>\n",
       "      <td>0.0</td>\n",
       "      <td>...</td>\n",
       "      <td>0.0</td>\n",
       "      <td>0.0</td>\n",
       "      <td>0.0</td>\n",
       "      <td>0.0</td>\n",
       "      <td>0.0</td>\n",
       "      <td>0.0</td>\n",
       "      <td>0</td>\n",
       "      <td>0</td>\n",
       "      <td>0</td>\n",
       "      <td>0</td>\n",
       "    </tr>\n",
       "    <tr>\n",
       "      <th>1</th>\n",
       "      <td>Centers for Disease Control and Prevention</td>\n",
       "      <td>Atlanta, GA</td>\n",
       "      <td>85399.0</td>\n",
       "      <td>Identify and apply analytical methods, techniq...</td>\n",
       "      <td>Behavioral Scientist</td>\n",
       "      <td>0</td>\n",
       "      <td>Atlanta</td>\n",
       "      <td>GA</td>\n",
       "      <td>0.0</td>\n",
       "      <td>0.0</td>\n",
       "      <td>...</td>\n",
       "      <td>0.0</td>\n",
       "      <td>0.0</td>\n",
       "      <td>0.0</td>\n",
       "      <td>0.0</td>\n",
       "      <td>0.0</td>\n",
       "      <td>0.0</td>\n",
       "      <td>0</td>\n",
       "      <td>0</td>\n",
       "      <td>0</td>\n",
       "      <td>0</td>\n",
       "    </tr>\n",
       "  </tbody>\n",
       "</table>\n",
       "<p>2 rows × 22 columns</p>\n",
       "</div>"
      ],
      "text/plain": [
       "                                      Company     Location    Salary  \\\n",
       "0  Centers for Disease Control and Prevention  Atlanta, GA  101553.5   \n",
       "1  Centers for Disease Control and Prevention  Atlanta, GA   85399.0   \n",
       "\n",
       "                                             Summary                  Title  \\\n",
       "0  Whether we are protecting the American people ...  Statistician (Health)   \n",
       "1  Identify and apply analytical methods, techniq...   Behavioral Scientist   \n",
       "\n",
       "   Salary_class     City State   CA   CT     ...       MA   NJ   NY   OH   TX  \\\n",
       "0             1  Atlanta    GA  0.0  0.0     ...      0.0  0.0  0.0  0.0  0.0   \n",
       "1             0  Atlanta    GA  0.0  0.0     ...      0.0  0.0  0.0  0.0  0.0   \n",
       "\n",
       "    WA  is_senior  is_manager  is_dir  is_Analyst  \n",
       "0  0.0          0           0       0           0  \n",
       "1  0.0          0           0       0           0  \n",
       "\n",
       "[2 rows x 22 columns]"
      ]
     },
     "execution_count": 17,
     "metadata": {},
     "output_type": "execute_result"
    }
   ],
   "source": [
    "#Created 4 new columns for designation (Sr,Mgr,Dir and analyst)\n",
    "salary_Data1['is_senior'] = salary_Data1['Title'].str.contains('Senior|Lead|Sr.',case=False).astype(int)\n",
    "salary_Data1['is_manager'] = salary_Data1['Title'].str.contains('Manager',case=False).astype(int)\n",
    "salary_Data1['is_dir'] = salary_Data1['Title'].str.contains('Director',case=False).astype(int)\n",
    "salary_Data1['is_Analyst'] = salary_Data1['Title'].str.contains('Analyst',case=False).astype(int)\n",
    "\n",
    "salary_Data1.head(2)\n"
   ]
  },
  {
   "cell_type": "code",
   "execution_count": 18,
   "metadata": {
    "collapsed": false
   },
   "outputs": [
    {
     "data": {
      "text/plain": [
       "<matplotlib.axes._subplots.AxesSubplot at 0x1187d38d0>"
      ]
     },
     "execution_count": 18,
     "metadata": {},
     "output_type": "execute_result"
    },
    {
     "data": {
      "image/png": "[encoded data removed]",
      "text/plain": [
       "<matplotlib.figure.Figure at 0x1187d3250>"
      ]
     },
     "metadata": {},
     "output_type": "display_data"
    }
   ],
   "source": [
    "import matplotlib.pyplot as plt\n",
    " \n",
    "import matplotlib.pyplot as plt\n",
    "import numpy as np\n",
    "import pandas as pd\n",
    "%matplotlib inline\n",
    "\n",
    "# Seaborn is a nice package for plotting, but you have to use pip to install\n",
    "import seaborn as sns\n",
    "\n",
    "from sklearn.neighbors import KNeighborsClassifier\n",
    "from sklearn.cross_validation import cross_val_score\n",
    "sns.heatmap(salary_Data1.corr())"
   ]
  },
  {
   "cell_type": "code",
   "execution_count": 19,
   "metadata": {
    "collapsed": false,
    "scrolled": true
   },
   "outputs": [
    {
     "data": {
      "text/html": [
       "<div>\n",
       "<table border=\"1\" class=\"dataframe\">\n",
       "  <thead>\n",
       "    <tr style=\"text-align: right;\">\n",
       "      <th></th>\n",
       "      <th>Salary</th>\n",
       "      <th>Salary_class</th>\n",
       "      <th>CA</th>\n",
       "      <th>CT</th>\n",
       "      <th>FL</th>\n",
       "      <th>GA</th>\n",
       "      <th>MA</th>\n",
       "      <th>NJ</th>\n",
       "      <th>NY</th>\n",
       "      <th>OH</th>\n",
       "      <th>TX</th>\n",
       "      <th>WA</th>\n",
       "      <th>is_senior</th>\n",
       "      <th>is_manager</th>\n",
       "      <th>is_dir</th>\n",
       "      <th>is_Analyst</th>\n",
       "    </tr>\n",
       "  </thead>\n",
       "  <tbody>\n",
       "    <tr>\n",
       "      <th>count</th>\n",
       "      <td>175.000000</td>\n",
       "      <td>175.000000</td>\n",
       "      <td>175.000000</td>\n",
       "      <td>175.000000</td>\n",
       "      <td>175.000000</td>\n",
       "      <td>175.000000</td>\n",
       "      <td>175.000000</td>\n",
       "      <td>175.000000</td>\n",
       "      <td>175.000000</td>\n",
       "      <td>175.000000</td>\n",
       "      <td>175.000000</td>\n",
       "      <td>175.000000</td>\n",
       "      <td>175.000000</td>\n",
       "      <td>175.000000</td>\n",
       "      <td>175.000000</td>\n",
       "      <td>175.000000</td>\n",
       "    </tr>\n",
       "    <tr>\n",
       "      <th>mean</th>\n",
       "      <td>108781.040000</td>\n",
       "      <td>0.537143</td>\n",
       "      <td>0.131429</td>\n",
       "      <td>0.034286</td>\n",
       "      <td>0.102857</td>\n",
       "      <td>0.091429</td>\n",
       "      <td>0.131429</td>\n",
       "      <td>0.040000</td>\n",
       "      <td>0.314286</td>\n",
       "      <td>0.011429</td>\n",
       "      <td>0.080000</td>\n",
       "      <td>0.062857</td>\n",
       "      <td>0.222857</td>\n",
       "      <td>0.040000</td>\n",
       "      <td>0.040000</td>\n",
       "      <td>0.297143</td>\n",
       "    </tr>\n",
       "    <tr>\n",
       "      <th>std</th>\n",
       "      <td>44850.133029</td>\n",
       "      <td>0.500049</td>\n",
       "      <td>0.338838</td>\n",
       "      <td>0.182484</td>\n",
       "      <td>0.304644</td>\n",
       "      <td>0.289045</td>\n",
       "      <td>0.338838</td>\n",
       "      <td>0.196521</td>\n",
       "      <td>0.465563</td>\n",
       "      <td>0.106597</td>\n",
       "      <td>0.272072</td>\n",
       "      <td>0.243402</td>\n",
       "      <td>0.417357</td>\n",
       "      <td>0.196521</td>\n",
       "      <td>0.196521</td>\n",
       "      <td>0.458311</td>\n",
       "    </tr>\n",
       "    <tr>\n",
       "      <th>min</th>\n",
       "      <td>24000.000000</td>\n",
       "      <td>0.000000</td>\n",
       "      <td>0.000000</td>\n",
       "      <td>0.000000</td>\n",
       "      <td>0.000000</td>\n",
       "      <td>0.000000</td>\n",
       "      <td>0.000000</td>\n",
       "      <td>0.000000</td>\n",
       "      <td>0.000000</td>\n",
       "      <td>0.000000</td>\n",
       "      <td>0.000000</td>\n",
       "      <td>0.000000</td>\n",
       "      <td>0.000000</td>\n",
       "      <td>0.000000</td>\n",
       "      <td>0.000000</td>\n",
       "      <td>0.000000</td>\n",
       "    </tr>\n",
       "    <tr>\n",
       "      <th>25%</th>\n",
       "      <td>75200.000000</td>\n",
       "      <td>0.000000</td>\n",
       "      <td>0.000000</td>\n",
       "      <td>0.000000</td>\n",
       "      <td>0.000000</td>\n",
       "      <td>0.000000</td>\n",
       "      <td>0.000000</td>\n",
       "      <td>0.000000</td>\n",
       "      <td>0.000000</td>\n",
       "      <td>0.000000</td>\n",
       "      <td>0.000000</td>\n",
       "      <td>0.000000</td>\n",
       "      <td>0.000000</td>\n",
       "      <td>0.000000</td>\n",
       "      <td>0.000000</td>\n",
       "      <td>0.000000</td>\n",
       "    </tr>\n",
       "    <tr>\n",
       "      <th>50%</th>\n",
       "      <td>100000.000000</td>\n",
       "      <td>1.000000</td>\n",
       "      <td>0.000000</td>\n",
       "      <td>0.000000</td>\n",
       "      <td>0.000000</td>\n",
       "      <td>0.000000</td>\n",
       "      <td>0.000000</td>\n",
       "      <td>0.000000</td>\n",
       "      <td>0.000000</td>\n",
       "      <td>0.000000</td>\n",
       "      <td>0.000000</td>\n",
       "      <td>0.000000</td>\n",
       "      <td>0.000000</td>\n",
       "      <td>0.000000</td>\n",
       "      <td>0.000000</td>\n",
       "      <td>0.000000</td>\n",
       "    </tr>\n",
       "    <tr>\n",
       "      <th>75%</th>\n",
       "      <td>145000.000000</td>\n",
       "      <td>1.000000</td>\n",
       "      <td>0.000000</td>\n",
       "      <td>0.000000</td>\n",
       "      <td>0.000000</td>\n",
       "      <td>0.000000</td>\n",
       "      <td>0.000000</td>\n",
       "      <td>0.000000</td>\n",
       "      <td>1.000000</td>\n",
       "      <td>0.000000</td>\n",
       "      <td>0.000000</td>\n",
       "      <td>0.000000</td>\n",
       "      <td>0.000000</td>\n",
       "      <td>0.000000</td>\n",
       "      <td>0.000000</td>\n",
       "      <td>1.000000</td>\n",
       "    </tr>\n",
       "    <tr>\n",
       "      <th>max</th>\n",
       "      <td>250000.000000</td>\n",
       "      <td>1.000000</td>\n",
       "      <td>1.000000</td>\n",
       "      <td>1.000000</td>\n",
       "      <td>1.000000</td>\n",
       "      <td>1.000000</td>\n",
       "      <td>1.000000</td>\n",
       "      <td>1.000000</td>\n",
       "      <td>1.000000</td>\n",
       "      <td>1.000000</td>\n",
       "      <td>1.000000</td>\n",
       "      <td>1.000000</td>\n",
       "      <td>1.000000</td>\n",
       "      <td>1.000000</td>\n",
       "      <td>1.000000</td>\n",
       "      <td>1.000000</td>\n",
       "    </tr>\n",
       "  </tbody>\n",
       "</table>\n",
       "</div>"
      ],
      "text/plain": [
       "              Salary  Salary_class          CA          CT          FL  \\\n",
       "count     175.000000    175.000000  175.000000  175.000000  175.000000   \n",
       "mean   108781.040000      0.537143    0.131429    0.034286    0.102857   \n",
       "std     44850.133029      0.500049    0.338838    0.182484    0.304644   \n",
       "min     24000.000000      0.000000    0.000000    0.000000    0.000000   \n",
       "25%     75200.000000      0.000000    0.000000    0.000000    0.000000   \n",
       "50%    100000.000000      1.000000    0.000000    0.000000    0.000000   \n",
       "75%    145000.000000      1.000000    0.000000    0.000000    0.000000   \n",
       "max    250000.000000      1.000000    1.000000    1.000000    1.000000   \n",
       "\n",
       "               GA          MA          NJ          NY          OH          TX  \\\n",
       "count  175.000000  175.000000  175.000000  175.000000  175.000000  175.000000   \n",
       "mean     0.091429    0.131429    0.040000    0.314286    0.011429    0.080000   \n",
       "std      0.289045    0.338838    0.196521    0.465563    0.106597    0.272072   \n",
       "min      0.000000    0.000000    0.000000    0.000000    0.000000    0.000000   \n",
       "25%      0.000000    0.000000    0.000000    0.000000    0.000000    0.000000   \n",
       "50%      0.000000    0.000000    0.000000    0.000000    0.000000    0.000000   \n",
       "75%      0.000000    0.000000    0.000000    1.000000    0.000000    0.000000   \n",
       "max      1.000000    1.000000    1.000000    1.000000    1.000000    1.000000   \n",
       "\n",
       "               WA   is_senior  is_manager      is_dir  is_Analyst  \n",
       "count  175.000000  175.000000  175.000000  175.000000  175.000000  \n",
       "mean     0.062857    0.222857    0.040000    0.040000    0.297143  \n",
       "std      0.243402    0.417357    0.196521    0.196521    0.458311  \n",
       "min      0.000000    0.000000    0.000000    0.000000    0.000000  \n",
       "25%      0.000000    0.000000    0.000000    0.000000    0.000000  \n",
       "50%      0.000000    0.000000    0.000000    0.000000    0.000000  \n",
       "75%      0.000000    0.000000    0.000000    0.000000    1.000000  \n",
       "max      1.000000    1.000000    1.000000    1.000000    1.000000  "
      ]
     },
     "execution_count": 19,
     "metadata": {},
     "output_type": "execute_result"
    }
   ],
   "source": [
    "salary_Data1.describe()"
   ]
  },
  {
   "cell_type": "code",
   "execution_count": 20,
   "metadata": {
    "collapsed": false,
    "scrolled": true
   },
   "outputs": [
    {
     "data": {
      "image/png": "[encoded data removed]",
      "text/plain": [
       "<matplotlib.figure.Figure at 0x11892ab10>"
      ]
     },
     "metadata": {},
     "output_type": "display_data"
    }
   ],
   "source": [
    "# plot for Salary counts\n",
    "salary_Data1[\"Salary\"].value_counts().plot(kind='bar',figsize = (20,10))\n",
    "plt.show()"
   ]
  },
  {
   "cell_type": "markdown",
   "metadata": {
    "focus": false,
    "id": "7ca5cfdd-958c-4199-aafa-3d3f6c5ba3c4"
   },
   "source": [
    "#### Rebuild this model with scikit-learn.\n",
    "- You can either create the dummy features manually or use the `dmatrix` function from `patsy`\n",
    "- Remember to scale the feature variables as well!\n"
   ]
  },
  {
   "cell_type": "code",
   "execution_count": 21,
   "metadata": {
    "collapsed": false,
    "focus": false,
    "id": "c75a97f1-f30c-48b3-97cb-eaf7d525c734"
   },
   "outputs": [
    {
     "data": {
      "text/plain": [
       "array([[ 0.85818613,  2.34605505, -0.80307276, -0.84198899,  1.49067943,\n",
       "         1.058102  ,  1.41052216,  0.92078205,  2.88049323,  0.10085295]])"
      ]
     },
     "execution_count": 21,
     "metadata": {},
     "output_type": "execute_result"
    }
   ],
   "source": [
    "# Using Logistic Regression model \n",
    "\n",
    "from sklearn.linear_model import LogisticRegression\n",
    "\n",
    "X = salary_Data1[['is_senior','is_dir','is_Analyst','is_manager',\"MA\",\"NJ\",\"NY\",\"WA\",\"CA\",\"GA\"]]\n",
    "Y = salary_Data1[\"Salary_class\"]\n",
    "logreg = LogisticRegression(random_state=77,C=5)\n",
    "logreg.fit(X, Y)\n",
    "Y_pred1 = logreg.predict(X)\n",
    "ypro = logreg.predict_proba(X)\n",
    "\n",
    "logreg.coef_\n",
    " "
   ]
  },
  {
   "cell_type": "markdown",
   "metadata": {
    "focus": false,
    "id": "1e6c6902-2b4a-49f0-b4c7-935a26577d22"
   },
   "source": [
    "#### Use cross-validation in scikit-learn to evaluate the model above. \n",
    "- Evaluate the accuracy, AUC, precision and recall of the model. \n",
    "- Discuss the differences and explain when you want a high-recall or a high-precision model in this scenario."
   ]
  },
  {
   "cell_type": "code",
   "execution_count": 22,
   "metadata": {
    "collapsed": false,
    "focus": false,
    "id": "3667427c-6534-4dcd-8770-f492b0e3a39e",
    "scrolled": true
   },
   "outputs": [],
   "source": [
    "#Using Train test validation method to build our model\n",
    "from sklearn.cross_validation import cross_val_score\n",
    "\n",
    "\n",
    "X_train, X_test, Y_train, Y_test = train_test_split(X, Y, test_size=0.33,random_state=50)\n",
    "logreg_cv =  LogisticRegressionCV(cv=5,Cs=5,random_state=50)\n",
    "logreg_cv.fit(X_train,Y_train)\n",
    "#score = logreg_cv()\n",
    "Y_pred = logreg_cv.predict(X_test)\n",
    "ypro = logreg_cv.predict_proba(X_test)\n",
    "Y_score = logreg_cv.decision_function(X_test)\n"
   ]
  },
  {
   "cell_type": "code",
   "execution_count": 23,
   "metadata": {
    "collapsed": false
   },
   "outputs": [
    {
     "data": {
      "text/plain": [
       "array([[ 1.27403883,  4.03450148, -0.51837218, -0.40514778,  1.91833259,\n",
       "         2.8500842 ,  2.0156119 ,  1.53261865,  6.71847004,  1.11888557]])"
      ]
     },
     "execution_count": 23,
     "metadata": {},
     "output_type": "execute_result"
    }
   ],
   "source": [
    "logreg_cv.coef_"
   ]
  },
  {
   "cell_type": "code",
   "execution_count": 24,
   "metadata": {
    "collapsed": false,
    "scrolled": true
   },
   "outputs": [
    {
     "data": {
      "text/html": [
       "<div>\n",
       "<table border=\"1\" class=\"dataframe\">\n",
       "  <thead>\n",
       "    <tr style=\"text-align: right;\">\n",
       "      <th></th>\n",
       "      <th>predicted_High</th>\n",
       "      <th>predicted_Low</th>\n",
       "    </tr>\n",
       "  </thead>\n",
       "  <tbody>\n",
       "    <tr>\n",
       "      <th>High_Salary</th>\n",
       "      <td>18</td>\n",
       "      <td>6</td>\n",
       "    </tr>\n",
       "    <tr>\n",
       "      <th>Low_salary</th>\n",
       "      <td>7</td>\n",
       "      <td>27</td>\n",
       "    </tr>\n",
       "  </tbody>\n",
       "</table>\n",
       "</div>"
      ],
      "text/plain": [
       "             predicted_High  predicted_Low\n",
       "High_Salary              18              6\n",
       "Low_salary                7             27"
      ]
     },
     "execution_count": 24,
     "metadata": {},
     "output_type": "execute_result"
    }
   ],
   "source": [
    "# Creating confusion matrix\n",
    "from sklearn.metrics import confusion_matrix\n",
    "conmat = np.array(confusion_matrix(Y_test, Y_pred))\n",
    "confusion = pd.DataFrame(conmat, index=['High_Salary', 'Low_salary'],\n",
    "                         columns=['predicted_High', 'predicted_Low'])\n",
    "confusion"
   ]
  },
  {
   "cell_type": "code",
   "execution_count": 25,
   "metadata": {
    "collapsed": false
   },
   "outputs": [
    {
     "name": "stdout",
     "output_type": "stream",
     "text": [
      "[('True Positives', 18), ('False Positives', 7), ('True Negatives', 27), ('False Negatives', 6)]\n"
     ]
    }
   ],
   "source": [
    "# Identifying and printing True Positive Rate, False Positive rate  etc...\n",
    "TP = confusion.ix['High_Salary', 'predicted_High']\n",
    "FP = confusion.ix['Low_salary', 'predicted_High']\n",
    "TN = confusion.ix['Low_salary', 'predicted_Low']\n",
    "FN = confusion.ix['High_Salary', 'predicted_Low']\n",
    "print(zip(['True Positives','False Positives','True Negatives','False Negatives'],\n",
    "         [TP, FP, TN, FN]))"
   ]
  },
  {
   "cell_type": "code",
   "execution_count": 26,
   "metadata": {
    "collapsed": false
   },
   "outputs": [
    {
     "name": "stdout",
     "output_type": "stream",
     "text": [
      "Accuracy 0.775862068966\n",
      "             precision    recall  f1-score   support\n",
      "\n",
      "          0       0.72      0.75      0.73        24\n",
      "          1       0.82      0.79      0.81        34\n",
      "\n",
      "avg / total       0.78      0.78      0.78        58\n",
      "\n"
     ]
    }
   ],
   "source": [
    "from sklearn.metrics import classification_report\n",
    "from sklearn.metrics import accuracy_score\n",
    "acc = accuracy_score(Y_test, Y_pred)\n",
    "print \"Accuracy\" , acc\n",
    "cls_rep = classification_report(Y_test, Y_pred)\n",
    "print(cls_rep)"
   ]
  },
  {
   "cell_type": "markdown",
   "metadata": {
    "focus": false,
    "id": "4263b1c0-bfde-42bf-ab45-71c7cd798835"
   },
   "source": [
    "### Compare L1 and L2 regularization for this logistic regression model. What effect does this have on the coefficients learned?"
   ]
  },
  {
   "cell_type": "code",
   "execution_count": 27,
   "metadata": {
    "collapsed": false,
    "scrolled": true
   },
   "outputs": [
    {
     "name": "stdout",
     "output_type": "stream",
     "text": [
      "****************************************************************************\n",
      "Accuracy for L2 :-  0.775862068966\n",
      "****************************************************************************\n",
      "Classification Report of Cross Validation  with L2:-\n",
      "****************************************************************************\n",
      "             precision    recall  f1-score   support\n",
      "\n",
      "          0       0.71      0.71      0.71        24\n",
      "          1       0.79      0.79      0.79        34\n",
      "\n",
      "avg / total       0.76      0.76      0.76        58\n",
      "\n",
      "****************************************************************************\n",
      "Y Score  :-\n",
      "[-0.44637883 -0.86014191  0.33383252  1.46152938 -0.47990907  0.11434913\n",
      "  1.46152938  2.21214288  1.46152938  1.08444602]\n"
     ]
    }
   ],
   "source": [
    "# Building L2,L1 Regularization and comparing results\n",
    "model_l2 = LogisticRegression(penalty = 'l2', C =1)\n",
    "model_l2.fit(X_train,Y_train)\n",
    "Y_predl2 = model_l2.predict(X_test)\n",
    "yprol2 = model_l2.predict_proba(X_test)\n",
    "accl2 = accuracy_score(Y_test, Y_pred)\n",
    "Y_scorel2 = model_l2.decision_function(X_test)\n",
    "# print \"Accuracy for L2 :- \" ,acc\n",
    "# cls_rep = classification_report(Y_test, Y_pred)\n",
    "# print(cls_rep)\n",
    "\n",
    "print \"****************************************************************************\"\n",
    "print \"Accuracy for L2 :- \" ,accl2\n",
    "cls_rep = classification_report(Y_test, Y_predl2)\n",
    "print \"****************************************************************************\"\n",
    "print \"Classification Report of Cross Validation  with L2:-\" \n",
    "print \"****************************************************************************\"\n",
    "print(cls_rep)\n",
    "print \"****************************************************************************\"\n",
    "print \"Y Score  :-\" \n",
    "print(Y_scorel2[0:10])\n",
    "\n"
   ]
  },
  {
   "cell_type": "code",
   "execution_count": 40,
   "metadata": {
    "collapsed": false
   },
   "outputs": [
    {
     "data": {
      "text/plain": [
       "array([[ 0.75061351,  0.80284026, -0.74663257, -0.10080797,  0.56470889,\n",
       "         0.72602985,  0.78419228,  0.33685042,  1.91188914, -0.02954931]])"
      ]
     },
     "execution_count": 40,
     "metadata": {},
     "output_type": "execute_result"
    }
   ],
   "source": [
    "model_l2.coef_"
   ]
  },
  {
   "cell_type": "code",
   "execution_count": 28,
   "metadata": {
    "collapsed": false,
    "focus": false,
    "id": "2e7d6a29-a515-468a-9953-9d73a0f81de0"
   },
   "outputs": [
    {
     "name": "stdout",
     "output_type": "stream",
     "text": [
      "****************************************************************************\n",
      "Accuracy for L1 :-  0.775862068966\n",
      "****************************************************************************\n",
      "Classification Report of Cross Validation  with L1 :-\n",
      "****************************************************************************\n",
      "             precision    recall  f1-score   support\n",
      "\n",
      "          0       0.70      0.79      0.75        24\n",
      "          1       0.84      0.76      0.80        34\n",
      "\n",
      "avg / total       0.78      0.78      0.78        58\n",
      "\n",
      "****************************************************************************\n",
      "Y Score  :-\n",
      "[-0.40699377 -1.05056852  0.32924135  2.2275347  -0.32116645  0.01573271\n",
      "  2.2275347   2.87110944  2.2275347   0.97281609]\n"
     ]
    }
   ],
   "source": [
    "# L1 Regularizition\n",
    "model_l1 = LogisticRegression(penalty = 'l1', C=1)\n",
    "model_l1.fit(X_train,Y_train)\n",
    "Y_predl1 = model_l1.predict(X_test)\n",
    "yprol1 = model_l1.predict_proba(X_test)\n",
    "Y_scorel1 =model_l1.decision_function(X_test)\n",
    "accl1 = accuracy_score(Y_test, Y_pred)\n",
    "print \"****************************************************************************\"\n",
    "print \"Accuracy for L1 :- \" ,accl1\n",
    "cls_rep = classification_report(Y_test, Y_predl1)\n",
    "print \"****************************************************************************\"\n",
    "print \"Classification Report of Cross Validation  with L1 :-\" \n",
    "print \"****************************************************************************\"\n",
    "print(cls_rep)\n",
    "print \"****************************************************************************\"\n",
    "print \"Y Score  :-\" \n",
    "print(Y_scorel1[0:10])\n",
    "\n",
    "#for metric in ['accuracy', 'precision', 'recall', 'roc_auc']:\n",
    "    "
   ]
  },
  {
   "cell_type": "code",
   "execution_count": 39,
   "metadata": {
    "collapsed": false
   },
   "outputs": [
    {
     "data": {
      "text/plain": [
       "array([[ 0.64357474,  0.51065231, -0.72940207,  0.        ,  0.33689916,\n",
       "         0.32114417,  0.6504078 ,  0.        ,  2.54870115,  0.        ]])"
      ]
     },
     "execution_count": 39,
     "metadata": {},
     "output_type": "execute_result"
    }
   ],
   "source": [
    "model_l1.coef_"
   ]
  },
  {
   "cell_type": "markdown",
   "metadata": {},
   "source": [
    "After the comparison of L1 and  L2 regularization we got to know accuracy score is high in L1. "
   ]
  },
  {
   "cell_type": "code",
   "execution_count": 43,
   "metadata": {
    "collapsed": false
   },
   "outputs": [
    {
     "data": {
      "image/png": "[encoded data removed]",
      "text/plain": [
       "<matplotlib.figure.Figure at 0x11aeaab10>"
      ]
     },
     "metadata": {},
     "output_type": "display_data"
    }
   ],
   "source": [
    "# ROC Curve\n",
    "from sklearn.metrics import classification_report, confusion_matrix, accuracy_score,metrics,auc\n",
    "FPR,TPR,thresholds  = metrics.roc_curve(Y_test,yprol1[:,1])\n",
    "ROC_AUC = auc(FPR,TPR)\n",
    "\n",
    "#print(ypro)\n",
    "plt.figure(figsize=[8,8])\n",
    "plt.plot(FPR,TPR)\n",
    "\n",
    "plt.xlabel('FPR(1-Specificity)')\n",
    "plt.ylabel('TPR(Sensitivity)')\n",
    "plt.grid(True)\n",
    "plt.show()"
   ]
  },
  {
   "cell_type": "markdown",
   "metadata": {},
   "source": [
    "Accuracy is measured by the area under the ROC curve. An area of 1 represents a perfect test; an area of .5 represents Guess work\n",
    "as per above curve Accuracy of model is 75%. L1 Model Accuracy truns out to be better then L2"
   ]
  },
  {
   "cell_type": "code",
   "execution_count": null,
   "metadata": {
    "collapsed": false
   },
   "outputs": [],
   "source": [
    "# Finding Best Parameters\n",
    "from sklearn.grid_search import GridSearchCV\n",
    "logreg = LogisticRegression()\n",
    "C_vals = [0.0001, 0.001, 0.01, 0.1, 0.5, 0.75, 1.0, 2.5, 5.0, 10.0, 100.0, 1000.0]\n",
    "penalties = ['l1','l2']\n",
    "\n",
    "gs = GridSearchCV(logreg, {'penalty' :penalties, 'C' : C_vals}, verbose=True, cv=5, scoring=\"accuracy\",n_jobs=-1)"
   ]
  },
  {
   "cell_type": "code",
   "execution_count": null,
   "metadata": {
    "collapsed": false,
    "scrolled": false
   },
   "outputs": [],
   "source": [
    "gs.fit(X,Y)\n",
    "gs.best_params_"
   ]
  },
  {
   "cell_type": "code",
   "execution_count": null,
   "metadata": {
    "collapsed": true
   },
   "outputs": [],
   "source": [
    "#according to GridSearch best perameters are C': 0.5, 'penalty': 'l1 use this perameter in our model"
   ]
  },
  {
   "cell_type": "code",
   "execution_count": null,
   "metadata": {
    "collapsed": false
   },
   "outputs": [],
   "source": [
    "model_l1 = LogisticRegression(penalty = 'l1', C=.5)\n",
    "model_l1.fit(X_train,Y_train)\n",
    "score = cross_val_score\n",
    "Y_pred = model_l1.predict(X_test)\n",
    "ypro = model_l1.predict_proba(X_test)\n",
    "Y_scorel1 = logreg_cv.decision_function(X_test)\n",
    "acc = accuracy_score(Y_test, Y_pred)\n",
    "print \"Accuracy Score with cross validation L1 :-\", acc\n",
    "cls_rep = classification_report(Y_test, Y_pred)\n",
    "print \"****************************************************************************\"\n",
    "print \"Classification Report of Cross Validation with L1 :-\" \n",
    "print \"****************************************************************************\"\n",
    "print(cls_rep)\n",
    "print \"****************************************************************************\"\n",
    "print \"Y Score  :-\" \n",
    "print(Y_scorel1[0:10])"
   ]
  },
  {
   "cell_type": "markdown",
   "metadata": {},
   "source": [
    "# Tableau Story of Average Salary Per State."
   ]
  },
  {
   "cell_type": "code",
   "execution_count": null,
   "metadata": {
    "collapsed": false
   },
   "outputs": [],
   "source": [
    "%%html\n",
    "<div class='tableauPlaceholder' id='viz1479781530744' style='position: relative'><noscript><a href='#'><img alt='Data Analysis of Datascience Job Across USA and there average salaries for each states. ' src='https:&#47;&#47;public.tableau.com&#47;static&#47;images&#47;Av&#47;AverageSalaryMap&#47;Story1&#47;1_rss.png' style='border: none' /></a></noscript><object class='tableauViz'  style='display:none;'><param name='host_url' value='https%3A%2F%2Fpublic.tableau.com%2F' /> <param name='site_root' value='' /><param name='name' value='AverageSalaryMap&#47;Story1' /><param name='tabs' value='no' /><param name='toolbar' value='yes' /><param name='static_image' value='https:&#47;&#47;public.tableau.com&#47;static&#47;images&#47;Av&#47;AverageSalaryMap&#47;Story1&#47;1.png' /> <param name='animate_transition' value='yes' /><param name='display_static_image' value='yes' /><param name='display_spinner' value='yes' /><param name='display_overlay' value='yes' /><param name='display_count' value='yes' /></object></div>                <script type='text/javascript'>                    var divElement = document.getElementById('viz1479781530744');                    var vizElement = divElement.getElementsByTagName('object')[0];                    vizElement.style.width='1020px';vizElement.style.height='1033px';                    var scriptElement = document.createElement('script');                    scriptElement.src = 'https://public.tableau.com/javascripts/api/viz_v1.js';                    vizElement.parentNode.insertBefore(scriptElement, vizElement);                </script>"
   ]
  },
  {
   "cell_type": "markdown",
   "metadata": {},
   "source": [
    "Blog Post:- "
   ]
  },
  {
   "cell_type": "markdown",
   "metadata": {},
   "source": [
    "https://preranashrivastava.wordpress.com/2016/11/22/collecting-data-by-scraping-a-website-and-building-a-binary-predictor-with-logistic-regression"
   ]
  },
  {
   "cell_type": "markdown",
   "metadata": {
    "focus": true,
    "id": "82f16f60-6c8b-4376-b3ec-b8ec61a0cde7"
   },
   "source": [
    "#### Optional: Continue to incorporate other text features from the title or summary that you believe will predict the salary and examine their coefficients. Take ~100 scraped entries with salaries. Convert them to use with your model and predict the salary. Which entries have the highest predicted salaries?"
   ]
  },
  {
   "cell_type": "markdown",
   "metadata": {
    "focus": false,
    "id": "3f242a55-4518-4c95-ae90-6888c68077d3"
   },
   "source": [
    "# Bonus Section: Use Count Vectorizer from scikit-learn to create features from the text summaries. \n",
    "- Examine using count or binary features in the model\n",
    "- Re-evaluate the logistic regression model using these. Does this improve the model performance? \n",
    "- What text features are most valuable? "
   ]
  },
  {
   "cell_type": "code",
   "execution_count": null,
   "metadata": {
    "collapsed": false,
    "focus": false,
    "id": "757205dc-443d-4754-9d23-e591e0921c02"
   },
   "outputs": [],
   "source": [
    "# from sklearn.feature_extraction.text import CountVectorizer\n",
    "\n",
    "# vectorizer = CountVectorizer()\n",
    "# X = vectorizer.fit_transform()\n",
    "\n",
    "# for metric in ['accuracy', 'precision', 'recall', 'roc_auc']:\n",
    "#     scores = cross_val_score(model, X_scaled, y, cv=3, scoring=metric)\n",
    "#     print(metric, scores.mean(), scores.std())"
   ]
  },
  {
   "cell_type": "code",
   "execution_count": null,
   "metadata": {
    "collapsed": false,
    "focus": false,
    "id": "f44df3c1-cf82-4271-8660-fdd0052097b6"
   },
   "outputs": [],
   "source": [
    "# model.fit(X_scaled, y)\n",
    "\n",
    "# df = pd.DataFrame({'features' : vectorizer.get_feature_names(), 'coef': model.coef_[0,:]})\n",
    "# df.sort_values('coef', ascending=False, inplace=True)"
   ]
  },
  {
   "cell_type": "code",
   "execution_count": null,
   "metadata": {
    "collapsed": false,
    "focus": false,
    "id": "e182bbe4-2a72-4e75-a3e8-c117688cb8a6"
   },
   "outputs": [],
   "source": [
    "# df.head()"
   ]
  },
  {
   "cell_type": "code",
   "execution_count": null,
   "metadata": {
    "collapsed": false,
    "focus": false,
    "id": "a15ef8ea-3130-4c08-a165-ac34d2a8d829"
   },
   "outputs": [],
   "source": [
    "# df.tail()"
   ]
  },
  {
   "cell_type": "code",
   "execution_count": null,
   "metadata": {
    "collapsed": false,
    "focus": false,
    "id": "b8a13337-0cde-4117-a928-ffae14661453"
   },
   "outputs": [],
   "source": [
    "# # retest L1 and L2 regularization\n",
    "# from sklearn.linear_model import LogisticRegressionCV\n",
    "\n",
    "# model = LogisticRegressionCV()\n"
   ]
  },
  {
   "cell_type": "markdown",
   "metadata": {
    "collapsed": true,
    "focus": false,
    "id": "936cd752-6b3f-450f-bfb6-1659c6e71539"
   },
   "source": [
    "Score: | /24\n",
    "------|-------\n",
    "Identify: Problem Statement and Hypothesis | \n",
    "Acquire: Import Data using BeautifulSoup| \n",
    "Parse: Clean and Organize Data| \n",
    "Model: Perform Logistic Regression| \n",
    "Evaluate: Logistic Regression Results\t|\n",
    "Present: Blog Report with Findings and Recommendations\t\t| \n",
    "Interactive Tableau visualizations | \n",
    "Regularization |\n",
    "Bonus: Countvectorizer  | "
   ]
  }
 ],
 "metadata": {
  "anaconda-cloud": {},
  "kernelspec": {
   "display_name": "Python [default]",
   "language": "python",
   "name": "python2"
  },
  "language_info": {
   "codemirror_mode": {
    "name": "ipython",
    "version": 2
   },
   "file_extension": ".py",
   "mimetype": "text/x-python",
   "name": "python",
   "nbconvert_exporter": "python",
   "pygments_lexer": "ipython2",
   "version": "2.7.12"
  }
 },
 "nbformat": 4,
 "nbformat_minor": 0
}
