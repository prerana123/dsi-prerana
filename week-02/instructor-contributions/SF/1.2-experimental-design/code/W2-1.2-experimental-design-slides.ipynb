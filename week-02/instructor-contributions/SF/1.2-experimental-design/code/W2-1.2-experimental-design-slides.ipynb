{
 "cells": [
  {
   "cell_type": "markdown",
   "metadata": {
    "slideshow": {
     "slide_type": "slide"
    }
   },
   "source": [
    "# 1.2 Experimental design\n",
    "\n",
    "Knowledge of experimental design is a big part of what separates a data scientist from an analyist or engineer at a company. This is what puts the \"scientist\" in data scientist.\n",
    "\n"
   ]
  },
  {
   "cell_type": "markdown",
   "metadata": {
    "slideshow": {
     "slide_type": "fragment"
    }
   },
   "source": [
    "Data scientists need to know how to think about, propose, construct, and analyze experiments. Proper design of experiments is crucial to the success of most companies."
   ]
  },
  {
   "cell_type": "markdown",
   "metadata": {
    "slideshow": {
     "slide_type": "fragment"
    }
   },
   "source": [
    "This lecture is about the process that come before the statistical analysis, and why it is just as important, if not more so!"
   ]
  },
  {
   "cell_type": "markdown",
   "metadata": {
    "slideshow": {
     "slide_type": "slide"
    }
   },
   "source": [
    "## The \"hypothesis\"\n",
    "\n",
    "All scientists must design experiments to test their hypotheses about the world. \n",
    "\n",
    "In the classic academic setting, for example, this could mean coming up with a hypothesis about which area of the brain activates when people see pictures of celebrities vs. strangers. \n"
   ]
  },
  {
   "cell_type": "markdown",
   "metadata": {
    "slideshow": {
     "slide_type": "fragment"
    }
   },
   "source": [
    "The hypothesis is the formally defined question that the experiment is constructed to answer. In this case, the hypothesis could be: \n",
    "\n",
    "**\"There is greater activation in the prefrontal cortex when people view images of celebrities relative to when they view images of strangers.\"**"
   ]
  },
  {
   "cell_type": "markdown",
   "metadata": {
    "slideshow": {
     "slide_type": "slide"
    }
   },
   "source": [
    "## Hypotheses in a business setting\n",
    "\n",
    "Hypothesis testing is not limited to the academic setting. It happens all the time in the business world and properly carrying it out is critical to the success of most companies.\n",
    "\n",
    "Consider the following hypotheses."
   ]
  },
  {
   "cell_type": "markdown",
   "metadata": {
    "slideshow": {
     "slide_type": "fragment"
    }
   },
   "source": [
    "- If our product was smaller, women would pay more to purchase it."
   ]
  },
  {
   "cell_type": "markdown",
   "metadata": {
    "slideshow": {
     "slide_type": "fragment"
    }
   },
   "source": [
    "- Version \"C\" of our landing page is unfriendly and people are less likely to click through than on version \"A\" or \"B\". "
   ]
  },
  {
   "cell_type": "markdown",
   "metadata": {
    "slideshow": {
     "slide_type": "fragment"
    }
   },
   "source": [
    "- Splitting this app into multiple versions with tiered pricing and functionality will result in higher revenue."
   ]
  },
  {
   "cell_type": "markdown",
   "metadata": {
    "slideshow": {
     "slide_type": "slide"
    }
   },
   "source": [
    "## Answering hypotheses\n",
    "\n",
    "Hypotheses have corresponding questions. The first hypothesis from the previous slide, for example, corresponds to the question \"Does gender affect the likelihood of purchasing our product?\"\n",
    "\n",
    "This may seem trivial, but it is critical to correctly frame and specify your hypothesis and the question that you are going to answer. \n",
    "\n",
    "If the hypothesis is too broad or the question is not specific enough, it is less possible to come up with a feasible test. "
   ]
  },
  {
   "cell_type": "markdown",
   "metadata": {
    "slideshow": {
     "slide_type": "slide"
    }
   },
   "source": [
    "## Framing and setting expectations for a test\n",
    "\n",
    "A big difference between the academic world and the business world is that in a professional setting hypothesis testing will be much more time-constrained."
   ]
  },
  {
   "cell_type": "markdown",
   "metadata": {
    "slideshow": {
     "slide_type": "fragment"
    }
   },
   "source": [
    "The **SMART** criteria, while not originally devised with experimental design in mind, are useful for remembering good practices:\n",
    "\n",
    "1. **Specific**\n",
    "2. **Measurable**\n",
    "3. **Achievable**\n",
    "4. **Relevant**\n",
    "5. **Time/Cost Limited**"
   ]
  },
  {
   "cell_type": "markdown",
   "metadata": {
    "slideshow": {
     "slide_type": "slide"
    }
   },
   "source": [
    "### 1. Be specific\n",
    "\n",
    "All hypotheses have corresponding questions.\n",
    "\n",
    "**Hypothesis**: If our product was smaller, women would pay more to purchase it."
   ]
  },
  {
   "cell_type": "markdown",
   "metadata": {
    "slideshow": {
     "slide_type": "fragment"
    }
   },
   "source": [
    "**Question**: Does a smaller product size increase the percieved value of the product among women?\n",
    "\n",
    "The more specific the question (and hypothesis) is, the better. When questions are specific:\n",
    "\n",
    "1. Tests are easier to construct\n",
    "2. Tests are more likely to be viable/feasible\n",
    "3. A test is more likely to answer the question\n",
    "4. There will be fewer pitfalls in the statistical analysis of the test\n"
   ]
  },
  {
   "cell_type": "markdown",
   "metadata": {
    "slideshow": {
     "slide_type": "slide"
    }
   },
   "source": [
    "### 2. Ensure the question is measurable\n",
    "\n",
    "Without specific and **pre-determined metrics** to evaluate a test, you will not be able to draw conclusions or answer your question. \n",
    "\n",
    "Take the question from before:\n",
    "\n",
    "\"Does a smaller product size increase the percieved value of the product among women?\"\n",
    "\n",
    "Imagine we have a smaller version of the product ready. How could we effectively measure this to answer the question?"
   ]
  },
  {
   "cell_type": "markdown",
   "metadata": {
    "slideshow": {
     "slide_type": "fragment"
    }
   },
   "source": [
    "**Why is it important to decide on the metric of success before the experiment begins?**"
   ]
  },
  {
   "cell_type": "markdown",
   "metadata": {
    "slideshow": {
     "slide_type": "slide"
    }
   },
   "source": [
    "### Ensure a test is achievable\n",
    "\n",
    "You could have the best idea for an experiment in the world, but if it is going to take 5 years to carry out the test it is unlikely anyone will sign off on it.\n",
    "\n",
    "Say, for example, you believed that the smaller version of your product would result in women buying the product for $5 more, but in this scenario the smaller version does not exist. The engineering team says it would take at least a year and significant manpower for them to prototype the device. This test is not reasonably achieveable."
   ]
  },
  {
   "cell_type": "markdown",
   "metadata": {
    "slideshow": {
     "slide_type": "fragment"
    }
   },
   "source": [
    "**How could you modify your hypothesis, question, or plan to make the test achievable?**"
   ]
  },
  {
   "cell_type": "markdown",
   "metadata": {
    "slideshow": {
     "slide_type": "slide"
    }
   },
   "source": [
    "### Ensure a test is relevant\n",
    "\n",
    "Imagine now that women currently comprise only 1% of people currently purchasing your product. Is answering the question of increased product value for women still relevant to the success of the company?"
   ]
  },
  {
   "cell_type": "markdown",
   "metadata": {
    "slideshow": {
     "slide_type": "fragment"
    }
   },
   "source": [
    "**What might you change about your hypothesis, question, and test to make it more relevant?**"
   ]
  },
  {
   "cell_type": "markdown",
   "metadata": {
    "slideshow": {
     "slide_type": "slide"
    }
   },
   "source": [
    "### Time-box and limit cost ahead of time\n",
    "\n",
    "If you do not specify at the beginning exactly how much time and resources you are willing to spend on your experiment, then it is easy to end up wasting time and money when things don't go smoothly.\n"
   ]
  },
  {
   "cell_type": "markdown",
   "metadata": {
    "slideshow": {
     "slide_type": "fragment"
    }
   },
   "source": [
    "**What would you specify happens ahead of time for the scenario where you reach the end of time or resources without completing the experiment?**"
   ]
  },
  {
   "cell_type": "markdown",
   "metadata": {
    "slideshow": {
     "slide_type": "slide"
    }
   },
   "source": [
    "## Important experimental concepts\n",
    "\n",
    "**Reproducibility** is necessary for the validity of an experiment. A reproducable experiement essentially means that the steps carried out by the experimenters can be repeated and achieve the same results. Obviously, this is not always possible when one is iterating on a product over time, but it is important to prioritize clarity of the process and documentation."
   ]
  },
  {
   "cell_type": "markdown",
   "metadata": {
    "slideshow": {
     "slide_type": "fragment"
    }
   },
   "source": [
    "**Randomization** is important for avoiding biased results. If you were running a split test, for example, you would randomly assign people into arm A and arm B rather than assigning females into arm A and males into arm B. "
   ]
  },
  {
   "cell_type": "markdown",
   "metadata": {
    "slideshow": {
     "slide_type": "fragment"
    }
   },
   "source": [
    "**Control conditions** ensure that you are comparing the \"experimental condition\" in your experiment to an existing baseline. From the example above, you would want to compare the smaller product to the original sized product, not the smaller product to a new bigger version of the product."
   ]
  }
 ],
 "metadata": {
  "celltoolbar": "Slideshow",
  "kernelspec": {
   "display_name": "Python 2",
   "language": "python",
   "name": "python2"
  },
  "language_info": {
   "codemirror_mode": {
    "name": "ipython",
    "version": 2
   },
   "file_extension": ".py",
   "mimetype": "text/x-python",
   "name": "python",
   "nbconvert_exporter": "python",
   "pygments_lexer": "ipython2",
   "version": "2.7.11"
  }
 },
 "nbformat": 4,
 "nbformat_minor": 0
}
