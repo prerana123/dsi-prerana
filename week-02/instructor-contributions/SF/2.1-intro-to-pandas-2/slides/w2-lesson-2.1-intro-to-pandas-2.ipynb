{
 "cells": [
  {
   "cell_type": "markdown",
   "metadata": {
    "slideshow": {
     "slide_type": "slide"
    }
   },
   "source": [
    "<img src=\"https://ga-dash.s3.amazonaws.com/production/assets/logo-9f88ae6c9c3871690e33280fcf557f33.png\" style=\"float: left; margin: 15px;\">\n",
    "\n",
    "# Intro to Pandas 2\n",
    "\n",
    "***\n",
    "\n",
    "Week 2 | Lesson 2.1\n",
    "\n",
    "### LEARNING OBJECTIVES\n",
    "*After this lesson, you will be able to:*\n",
    "- Perform boolean indexing on dataframes\n",
    "- Perform math functions using pandas.Series functions"
   ]
  },
  {
   "cell_type": "markdown",
   "metadata": {
    "slideshow": {
     "slide_type": "slide"
    }
   },
   "source": [
    "### LESSON GUIDE\n",
    "| TIMING  | TYPE  | TOPIC  |\n",
    "|:-:|---|---|\n",
    "| 15 min  | [Introduction](#introduction)   | Series and DataFrame data types |\n",
    "| 25 min  | [Demo / Guided Practice](#demo)  | pd.Series  |\n",
    "| 25 min  | [Demo / Guided Practice](#demo)  | Boolean indexing  |\n",
    "| 20 min  | [Independent Practice](#ind-practice)  |   |\n",
    "| 5 min  | [Conclusion](#conclusion)  |  |\n",
    "\n",
    "---"
   ]
  },
  {
   "cell_type": "markdown",
   "metadata": {
    "slideshow": {
     "slide_type": "slide"
    }
   },
   "source": [
    "## Partner or group - What is a DataFrame and how is it useful? (3-5 mins)"
   ]
  },
  {
   "cell_type": "markdown",
   "metadata": {
    "slideshow": {
     "slide_type": "slide"
    }
   },
   "source": [
    "- A DataFrame is a 2-dimensional labeled data structure with columns of potentially different types. You can think of it like a spreadsheet or SQL table, or a dict of Series objects. It is generally the most commonly used pandas object. "
   ]
  },
  {
   "cell_type": "markdown",
   "metadata": {
    "slideshow": {
     "slide_type": "slide"
    }
   },
   "source": [
    "![](http://image.slidesharecdn.com/2013-11-14-20enterthematrix-131207071455-phpapp02/95/enter-the-matrix-10-638.jpg)"
   ]
  },
  {
   "cell_type": "markdown",
   "metadata": {
    "slideshow": {
     "slide_type": "notes"
    }
   },
   "source": [
    "Remember this?"
   ]
  },
  {
   "cell_type": "markdown",
   "metadata": {
    "slideshow": {
     "slide_type": "notes"
    }
   },
   "source": [
    "_note: A series is a fundamental building block inside of a DataFrame.  A perfect time time to draw a dataframe._"
   ]
  },
  {
   "cell_type": "markdown",
   "metadata": {
    "slideshow": {
     "slide_type": "slide"
    }
   },
   "source": [
    "<a name=\"Series and DataFrame data types\"></a>\n",
    "## Introduction: Series and DataFrame data types (10 mins)\n",
    "\n",
    "- Series is a one-dimensional labeled array capable of holding any data type (integers, strings, \n",
    "floating point numbers, Python objects, etc.). The axis labels are collectively referred to as \n",
    "the index. The basic method to create a Series is to call:\n",
    "\n",
    "```Python\n",
    "s = pd.Series(data, index=index)\n",
    "```\n",
    "\n",
    "- Here, data can be many different things:\n",
    "    - a Python dict\n",
    "    - an ndarray\n",
    "    - a scalar value (like 5)\n",
    "    - lists / tuples / sets\n",
    "    - another dataframe\n",
    "\n",
    "- The passed index is a list of _row axis_ labels. "
   ]
  },
  {
   "cell_type": "markdown",
   "metadata": {
    "slideshow": {
     "slide_type": "notes"
    }
   },
   "source": [
    "Generally speaking, the index parameter is *optional*.  If you don't specify one, Pandas will select appropriate defaults for you."
   ]
  },
  {
   "cell_type": "markdown",
   "metadata": {
    "slideshow": {
     "slide_type": "slide"
    }
   },
   "source": [
    "### Valid Types of Input\n",
    "\n",
    "- Like Series, DataFrame accepts many different kinds of input:\n",
    "    - Dict of 1D ndarrays, lists, dicts, or Series\n",
    "    - 2-D numpy.ndarray\n",
    "    - Structured or record ndarray\n",
    "    - A Series\n",
    "    - Another DataFrame"
   ]
  },
  {
   "cell_type": "markdown",
   "metadata": {
    "slideshow": {
     "slide_type": "slide"
    }
   },
   "source": [
    "### The \"Index\" as Variable Labels\n",
    "\n",
    "- Along with the data, you can optionally pass index (row labels) and columns (column labels) arguments. \n",
    "\n",
    "- If you pass an index and / or columns, you are guaranteeing the index and / or columns of the resulting DataFrame.\n"
   ]
  },
  {
   "cell_type": "markdown",
   "metadata": {
    "slideshow": {
     "slide_type": "slide"
    }
   },
   "source": [
    "### Without \"Index\" Parameter\n",
    "\n",
    "If axis labels are not passed, they will be constructed from the input data based on common sense rules.\n",
    "\n",
    "Without an index parameter, Pandas will apply indexes if your input data is a dictionary with string keys values, and list data format rows.\n",
    "\n",
    "[Pandas Documentation: Series and Dataframes](http://pandas.pydata.org/pandas-docs/stable/dsintro.html)\n"
   ]
  },
  {
   "cell_type": "markdown",
   "metadata": {
    "slideshow": {
     "slide_type": "slide"
    }
   },
   "source": [
    "### But how does this work!?\n",
    "\n",
    "I'm glad that you asked!"
   ]
  },
  {
   "cell_type": "markdown",
   "metadata": {
    "slideshow": {
     "slide_type": "slide"
    }
   },
   "source": [
    "Here is how a dictionary turns into a DataFrame, when there are **`string`** keys having **`list`** values."
   ]
  },
  {
   "cell_type": "code",
   "execution_count": 34,
   "metadata": {
    "collapsed": false,
    "slideshow": {
     "slide_type": "-"
    }
   },
   "outputs": [
    {
     "data": {
      "text/html": [
       "<div>\n",
       "<table border=\"1\" class=\"dataframe\">\n",
       "  <thead>\n",
       "    <tr style=\"text-align: right;\">\n",
       "      <th></th>\n",
       "      <th>animal</th>\n",
       "      <th>first</th>\n",
       "      <th>last</th>\n",
       "    </tr>\n",
       "  </thead>\n",
       "  <tbody>\n",
       "    <tr>\n",
       "      <th>0</th>\n",
       "      <td>doge</td>\n",
       "      <td>Pat</td>\n",
       "      <td>Kat</td>\n",
       "    </tr>\n",
       "    <tr>\n",
       "      <th>1</th>\n",
       "      <td>cuthulu</td>\n",
       "      <td>Betsy</td>\n",
       "      <td>Reynolds</td>\n",
       "    </tr>\n",
       "    <tr>\n",
       "      <th>2</th>\n",
       "      <td>zebra</td>\n",
       "      <td>Frank</td>\n",
       "      <td>Spinelli</td>\n",
       "    </tr>\n",
       "  </tbody>\n",
       "</table>\n",
       "</div>"
      ],
      "text/plain": [
       "    animal  first      last\n",
       "0     doge    Pat       Kat\n",
       "1  cuthulu  Betsy  Reynolds\n",
       "2    zebra  Frank  Spinelli"
      ]
     },
     "execution_count": 34,
     "metadata": {},
     "output_type": "execute_result"
    }
   ],
   "source": [
    "test_data = {\n",
    "    \"animal\": [\"doge\", \"cuthulu\", \"zebra\"],\n",
    "    \"first\": [\"Pat\", \"Betsy\", \"Frank\"],\n",
    "    \"last\": [\"Kat\", \"Reynolds\", \"Spinelli\"]\n",
    "}\n",
    "pd.DataFrame(test_data)"
   ]
  },
  {
   "cell_type": "markdown",
   "metadata": {
    "slideshow": {
     "slide_type": "slide"
    }
   },
   "source": [
    "### How about with explicitly set indexes?"
   ]
  },
  {
   "cell_type": "code",
   "execution_count": 36,
   "metadata": {
    "collapsed": false
   },
   "outputs": [
    {
     "data": {
      "text/html": [
       "<div>\n",
       "<table border=\"1\" class=\"dataframe\">\n",
       "  <thead>\n",
       "    <tr style=\"text-align: right;\">\n",
       "      <th></th>\n",
       "      <th>animal</th>\n",
       "      <th>first</th>\n",
       "      <th>last</th>\n",
       "    </tr>\n",
       "  </thead>\n",
       "  <tbody>\n",
       "    <tr>\n",
       "      <th>Animal A</th>\n",
       "      <td>doge</td>\n",
       "      <td>Pat</td>\n",
       "      <td>Kat</td>\n",
       "    </tr>\n",
       "    <tr>\n",
       "      <th>Animal A</th>\n",
       "      <td>cuthulu</td>\n",
       "      <td>Betsy</td>\n",
       "      <td>Reynolds</td>\n",
       "    </tr>\n",
       "    <tr>\n",
       "      <th>Animal C</th>\n",
       "      <td>zebra</td>\n",
       "      <td>Frank</td>\n",
       "      <td>Spinelli</td>\n",
       "    </tr>\n",
       "  </tbody>\n",
       "</table>\n",
       "</div>"
      ],
      "text/plain": [
       "           animal  first      last\n",
       "Animal A     doge    Pat       Kat\n",
       "Animal A  cuthulu  Betsy  Reynolds\n",
       "Animal C    zebra  Frank  Spinelli"
      ]
     },
     "execution_count": 36,
     "metadata": {},
     "output_type": "execute_result"
    }
   ],
   "source": [
    "test_data = {\n",
    "    \"animal\": [\"doge\", \"cuthulu\", \"zebra\"],\n",
    "    \"first\": [\"Pat\", \"Betsy\", \"Frank\"],\n",
    "    \"last\": [\"Kat\", \"Reynolds\", \"Spinelli\"]\n",
    "}\n",
    "pd.DataFrame(test_data, index=[\"Animal A\", \"Animal B\", \"Animal C\"])"
   ]
  },
  {
   "cell_type": "markdown",
   "metadata": {
    "slideshow": {
     "slide_type": "slide"
    }
   },
   "source": [
    "Indexes can also be created when we aggregate data or create DataFrames from database resources.  The index can be thought of as a \"primary key\" in a sense if you are familliar with relational database conventions.  We will go over this in the future but it's a helpful concept to relate to if you are already familliar with database systems.\n",
    "\n",
    "Also when we talk about joins later, this will be helpful to read a little bit on.\n",
    "\n",
    "[RDBMS Key Primer](http://rdbms.opengrass.net/2_Database%20Design/2.1_TermsOfReference/2.1.2_Keys.html)"
   ]
  },
  {
   "cell_type": "markdown",
   "metadata": {
    "slideshow": {
     "slide_type": "notes"
    }
   },
   "source": [
    "_note: Draw in the blanks exercize.._"
   ]
  },
  {
   "cell_type": "markdown",
   "metadata": {
    "slideshow": {
     "slide_type": "slide"
    }
   },
   "source": [
    "**Check:** What are some differences between Series and DataFrame?"
   ]
  },
  {
   "cell_type": "markdown",
   "metadata": {
    "slideshow": {
     "slide_type": "slide"
    }
   },
   "source": [
    "<a name=\"pd.Series\"></a>\n",
    "## Demo / Guided Practice: pd.Series + pd.DataFrame (25 mins)\n",
    "\n",
    "We will demonstrate a few ways \"series\" and DataFrame work.  Let's create a series and see what pandas.Series can do. \n",
    "\n",
    "[demo code](.../code/W2%20L2.1%20pandas.Series%20and%20Boolean%20indexing%20demo%20code.ipynb)"
   ]
  },
  {
   "cell_type": "code",
   "execution_count": 44,
   "metadata": {
    "collapsed": false,
    "slideshow": {
     "slide_type": "slide"
    }
   },
   "outputs": [
    {
     "data": {
      "text/plain": [
       "a    1.045319\n",
       "b   -1.073112\n",
       "c   -0.565589\n",
       "d   -1.120363\n",
       "e   -0.225803\n",
       "f    0.314843\n",
       "g   -1.125301\n",
       "dtype: float64"
      ]
     },
     "execution_count": 44,
     "metadata": {},
     "output_type": "execute_result"
    }
   ],
   "source": [
    "import pandas as pd\n",
    "import numpy as np\n",
    "s = pd.Series(np.random.randn(7), index=['a', 'b', 'c', 'd', 'e', 'f', 'g'])  \n",
    "s"
   ]
  },
  {
   "cell_type": "markdown",
   "metadata": {
    "slideshow": {
     "slide_type": "slide"
    }
   },
   "source": [
    "Now we have a series of 5 random numbers. Let's try out the same things we did with a data frame back in W2 L1.1. First, let's look at the series head!"
   ]
  },
  {
   "cell_type": "code",
   "execution_count": 26,
   "metadata": {
    "collapsed": false,
    "scrolled": true,
    "slideshow": {
     "slide_type": "slide"
    }
   },
   "outputs": [
    {
     "data": {
      "text/plain": [
       "a   -1.529895\n",
       "b   -0.527542\n",
       "c    0.773901\n",
       "d   -1.512357\n",
       "e    1.244268\n",
       "dtype: float64"
      ]
     },
     "execution_count": 26,
     "metadata": {},
     "output_type": "execute_result"
    }
   ],
   "source": [
    "pd.Series.head(s)"
   ]
  },
  {
   "cell_type": "markdown",
   "metadata": {
    "slideshow": {
     "slide_type": "slide"
    }
   },
   "source": [
    "### Another way to do this:"
   ]
  },
  {
   "cell_type": "code",
   "execution_count": 45,
   "metadata": {
    "collapsed": false,
    "slideshow": {
     "slide_type": "-"
    }
   },
   "outputs": [
    {
     "data": {
      "text/plain": [
       "a    1.045319\n",
       "b   -1.073112\n",
       "c   -0.565589\n",
       "d   -1.120363\n",
       "e   -0.225803\n",
       "dtype: float64"
      ]
     },
     "execution_count": 45,
     "metadata": {},
     "output_type": "execute_result"
    }
   ],
   "source": [
    "s.head(5)"
   ]
  },
  {
   "cell_type": "markdown",
   "metadata": {
    "slideshow": {
     "slide_type": "slide"
    }
   },
   "source": [
    "### Let's look at the tail. "
   ]
  },
  {
   "cell_type": "code",
   "execution_count": 46,
   "metadata": {
    "collapsed": false,
    "slideshow": {
     "slide_type": "slide"
    }
   },
   "outputs": [
    {
     "data": {
      "text/plain": [
       "e   -0.225803\n",
       "f    0.314843\n",
       "g   -1.125301\n",
       "dtype: float64"
      ]
     },
     "execution_count": 46,
     "metadata": {},
     "output_type": "execute_result"
    }
   ],
   "source": [
    "s.tail(3) # you can pass any N as the paramter to .head() or .tail()"
   ]
  },
  {
   "cell_type": "markdown",
   "metadata": {
    "slideshow": {
     "slide_type": "slide"
    }
   },
   "source": [
    "### Summary Statistics\n"
   ]
  },
  {
   "cell_type": "code",
   "execution_count": 47,
   "metadata": {
    "collapsed": false,
    "scrolled": true
   },
   "outputs": [
    {
     "data": {
      "text/plain": [
       "count    7.000000\n",
       "mean    -0.392858\n",
       "std      0.832208\n",
       "min     -1.125301\n",
       "25%     -1.096738\n",
       "50%     -0.565589\n",
       "75%      0.044520\n",
       "max      1.045319\n",
       "dtype: float64"
      ]
     },
     "execution_count": 47,
     "metadata": {},
     "output_type": "execute_result"
    }
   ],
   "source": [
    "s.describe()"
   ]
  },
  {
   "cell_type": "markdown",
   "metadata": {
    "slideshow": {
     "slide_type": "slide"
    }
   },
   "source": [
    "### Pandas Objects are Also Valid Dataframe Input\n",
    "\n",
    "You can also put these summary stats in a dataframe to make them easier to read in a notebook."
   ]
  },
  {
   "cell_type": "code",
   "execution_count": 98,
   "metadata": {
    "collapsed": false
   },
   "outputs": [
    {
     "data": {
      "text/html": [
       "<div>\n",
       "<table border=\"1\" class=\"dataframe\">\n",
       "  <thead>\n",
       "    <tr style=\"text-align: right;\">\n",
       "      <th></th>\n",
       "      <th>count</th>\n",
       "      <th>mean</th>\n",
       "      <th>std</th>\n",
       "      <th>min</th>\n",
       "      <th>25%</th>\n",
       "      <th>50%</th>\n",
       "      <th>75%</th>\n",
       "      <th>max</th>\n",
       "    </tr>\n",
       "  </thead>\n",
       "  <tbody>\n",
       "    <tr>\n",
       "      <th>0</th>\n",
       "      <td>7.0</td>\n",
       "      <td>3.308035</td>\n",
       "      <td>2.000712</td>\n",
       "      <td>0.481453</td>\n",
       "      <td>1.970794</td>\n",
       "      <td>2.969603</td>\n",
       "      <td>4.934352</td>\n",
       "      <td>5.894897</td>\n",
       "    </tr>\n",
       "  </tbody>\n",
       "</table>\n",
       "</div>"
      ],
      "text/plain": [
       "   count      mean       std       min       25%       50%       75%       max\n",
       "0    7.0  3.308035  2.000712  0.481453  1.970794  2.969603  4.934352  5.894897"
      ]
     },
     "execution_count": 98,
     "metadata": {},
     "output_type": "execute_result"
    }
   ],
   "source": [
    "pd.DataFrame(s.describe()).T  # notice the dataframe input is s.describe()!"
   ]
  },
  {
   "cell_type": "markdown",
   "metadata": {
    "slideshow": {
     "slide_type": "slide"
    }
   },
   "source": [
    "## Slicing / Selecting Data\n",
    "\n",
    "This deserves it's own section, but as a more serious \"by the way this is how it works\", you have a few ways to select data from your DataFrame.\n",
    "\n",
    "- From the DataFrame directly between the brackets my_df['my_attribute']\n",
    "- From DataFrame attributes that are generated\n",
    "  - df.loc[row_label_index]\n",
    "  - df.iloc[row_int_index]\n",
    "  - df.ix[mixed_index]"
   ]
  },
  {
   "cell_type": "markdown",
   "metadata": {
    "slideshow": {
     "slide_type": "slide"
    }
   },
   "source": [
    "### df.loc[row_label_index] - Select row by index label\n",
    "\n",
    "Allowed inputs are:\n",
    "\n",
    " - A single label, e.g. 'a'\n",
    " - A list or array of labels ['a', 'b', 'c']\n",
    " - A slice object with labels 'a':'f', (note that contrary to usual python slices, both the start and the stop are included!)\n",
    " - A boolean array"
   ]
  },
  {
   "cell_type": "code",
   "execution_count": 31,
   "metadata": {
    "collapsed": false,
    "slideshow": {
     "slide_type": "slide"
    }
   },
   "outputs": [
    {
     "data": {
      "text/plain": [
       "c    0.773901\n",
       "d   -1.512357\n",
       "e    1.244268\n",
       "f    0.494825\n",
       "g    0.475300\n",
       "dtype: float64"
      ]
     },
     "execution_count": 31,
     "metadata": {},
     "output_type": "execute_result"
    }
   ],
   "source": [
    "s.loc['c':]\n",
    "# s.loc['b':]    # Everythign from b onwards"
   ]
  },
  {
   "cell_type": "code",
   "execution_count": 56,
   "metadata": {
    "collapsed": false,
    "slideshow": {
     "slide_type": "slide"
    }
   },
   "outputs": [
    {
     "data": {
      "text/plain": [
       "d   -1.120363\n",
       "e   -0.225803\n",
       "f    0.314843\n",
       "dtype: float64"
      ]
     },
     "execution_count": 56,
     "metadata": {},
     "output_type": "execute_result"
    }
   ],
   "source": [
    "s.loc['d':'f'] # Everything between d and f, including d and f"
   ]
  },
  {
   "cell_type": "markdown",
   "metadata": {
    "slideshow": {
     "slide_type": "fragment"
    }
   },
   "source": [
    "**Check**: How would you select just 'd'?"
   ]
  },
  {
   "cell_type": "markdown",
   "metadata": {
    "slideshow": {
     "slide_type": "slide"
    }
   },
   "source": [
    "### Slicing By Rows\n",
    "\n",
    "You can also slice rows.  This example will return rows 1-3."
   ]
  },
  {
   "cell_type": "code",
   "execution_count": 32,
   "metadata": {
    "collapsed": false
   },
   "outputs": [
    {
     "data": {
      "text/plain": [
       "a   -1.529895\n",
       "b   -0.527542\n",
       "c    0.773901\n",
       "dtype: float64"
      ]
     },
     "execution_count": 32,
     "metadata": {},
     "output_type": "execute_result"
    }
   ],
   "source": [
    "s[:3]"
   ]
  },
  {
   "cell_type": "markdown",
   "metadata": {
    "slideshow": {
     "slide_type": "slide"
    }
   },
   "source": [
    "_**Check:** How would you select just 'd'?_"
   ]
  },
  {
   "cell_type": "markdown",
   "metadata": {
    "slideshow": {
     "slide_type": "slide"
    }
   },
   "source": [
    "### df.iloc[row_int_index] - select rows by int index\n",
    "\n",
    ".iloc is primarily integer position based (from 0 to length-1 of the axis), but may also be used with a boolean array. \n",
    "\n",
    "Allowed inputs are:\n",
    "\n",
    "- An integer e.g. 5\n",
    "- A list or array of integers [4, 3, 0]\n",
    "- A slice object with ints 1:7\n",
    "- A boolean array\n",
    "\n",
    "[See more at Selection by Position](http://pandas.pydata.org/pandas-docs/stable/indexing.html#indexing-integer)"
   ]
  },
  {
   "cell_type": "code",
   "execution_count": 99,
   "metadata": {
    "collapsed": false,
    "slideshow": {
     "slide_type": "slide"
    }
   },
   "outputs": [
    {
     "data": {
      "text/html": [
       "<div>\n",
       "<table border=\"1\" class=\"dataframe\">\n",
       "  <thead>\n",
       "    <tr style=\"text-align: right;\">\n",
       "      <th></th>\n",
       "      <th>a</th>\n",
       "      <th>b</th>\n",
       "      <th>c</th>\n",
       "      <th>d</th>\n",
       "      <th>e</th>\n",
       "    </tr>\n",
       "  </thead>\n",
       "  <tbody>\n",
       "    <tr>\n",
       "      <th>mon</th>\n",
       "      <td>0.920124</td>\n",
       "      <td>0.351298</td>\n",
       "      <td>0.387303</td>\n",
       "      <td>0.363990</td>\n",
       "      <td>0.605138</td>\n",
       "    </tr>\n",
       "    <tr>\n",
       "      <th>tues</th>\n",
       "      <td>0.558624</td>\n",
       "      <td>0.974105</td>\n",
       "      <td>0.548083</td>\n",
       "      <td>0.860303</td>\n",
       "      <td>0.515214</td>\n",
       "    </tr>\n",
       "    <tr>\n",
       "      <th>wed</th>\n",
       "      <td>0.202879</td>\n",
       "      <td>0.109727</td>\n",
       "      <td>0.636985</td>\n",
       "      <td>0.297341</td>\n",
       "      <td>0.059578</td>\n",
       "    </tr>\n",
       "    <tr>\n",
       "      <th>thurs</th>\n",
       "      <td>0.215928</td>\n",
       "      <td>0.182747</td>\n",
       "      <td>0.746509</td>\n",
       "      <td>0.676826</td>\n",
       "      <td>0.598339</td>\n",
       "    </tr>\n",
       "  </tbody>\n",
       "</table>\n",
       "</div>"
      ],
      "text/plain": [
       "              a         b         c         d         e\n",
       "mon    0.920124  0.351298  0.387303  0.363990  0.605138\n",
       "tues   0.558624  0.974105  0.548083  0.860303  0.515214\n",
       "wed    0.202879  0.109727  0.636985  0.297341  0.059578\n",
       "thurs  0.215928  0.182747  0.746509  0.676826  0.598339"
      ]
     },
     "execution_count": 99,
     "metadata": {},
     "output_type": "execute_result"
    }
   ],
   "source": [
    "column_labels = ['a', 'b', 'c', 'd', 'e']\n",
    "row_index = ['mon', 'tues', 'wed', 'thurs', 'fri', 'sat', 'sun']\n",
    "df = pd.DataFrame(np.random.rand(7,5), index=row_index, columns=column_labels)\n",
    "df.head(4)"
   ]
  },
  {
   "cell_type": "markdown",
   "metadata": {
    "slideshow": {
     "slide_type": "fragment"
    }
   },
   "source": [
    "Selecting row \"thurs\" alone?"
   ]
  },
  {
   "cell_type": "code",
   "execution_count": 100,
   "metadata": {
    "collapsed": false,
    "slideshow": {
     "slide_type": "slide"
    }
   },
   "outputs": [
    {
     "data": {
      "text/plain": [
       "a    0.215928\n",
       "b    0.182747\n",
       "c    0.746509\n",
       "d    0.676826\n",
       "e    0.598339\n",
       "Name: thurs, dtype: float64"
      ]
     },
     "execution_count": 100,
     "metadata": {},
     "output_type": "execute_result"
    }
   ],
   "source": [
    "df.iloc[3]"
   ]
  },
  {
   "cell_type": "markdown",
   "metadata": {
    "slideshow": {
     "slide_type": "slide"
    }
   },
   "source": [
    "How about row with indexes 'a', 'c', and 'e' **ONLY**?"
   ]
  },
  {
   "cell_type": "code",
   "execution_count": null,
   "metadata": {
    "collapsed": false
   },
   "outputs": [],
   "source": [
    "# Try solution here"
   ]
  },
  {
   "cell_type": "markdown",
   "metadata": {
    "slideshow": {
     "slide_type": "slide"
    }
   },
   "source": [
    "<a name=\"Boolean indexing\"></a>\n",
    "## Demo / Guided Practice: Boolean indexing (25 mins)\n",
    "\n",
    "Another common operation is the use of boolean vectors to filter the data. The operators \n",
    "are: | for or, & for and, and ~ for not. These must be grouped by using parentheses.\n",
    "\n",
    "Let's create another series and use pandas to do some Boolean indexing. \n",
    "\n",
    "In iPython notebook type: \n",
    "```Python\n",
    "s = pd.Series(range(-3, 4))\n",
    "s\n",
    "```\n",
    "\n",
    "Find the values that are > 0. \n",
    "```Python\n",
    "s[s > 0]\n",
    "```\n",
    "\n",
    "Find the values that are < -1 or > 0.5\n",
    "```Python\n",
    "s[(s < -1) | (s > 0.5)]\n",
    "```\n",
    "\n",
    "Find the values that are not < 0.\n",
    "```Python\n",
    "s[~(s < 0)]\n",
    "```\n",
    "\n",
    "[boolean indexing](http://pandas.pydata.org/pandas-docs/stable/indexing.html#slicing-ranges)"
   ]
  },
  {
   "cell_type": "markdown",
   "metadata": {
    "slideshow": {
     "slide_type": "slide"
    }
   },
   "source": [
    "**Check:** How would you find all the numbers that are < 2? "
   ]
  },
  {
   "cell_type": "markdown",
   "metadata": {
    "slideshow": {
     "slide_type": "slide"
    }
   },
   "source": [
    "<a name=\"ind-practice\"></a>\n",
    "## Independent Practice: (25 minutes)\n",
    "- Create a series\n",
    "- Look at the head, tail, and summary stats\n",
    "- Select series values by index\n",
    "  - Single value\n",
    "  - Multiple value\n",
    "- Using Boolean indexing find values that are < than another value\n",
    "- Using Boolean indexing find values that are > than another value\n",
    "- Using Boolean indexing find values that are < than another value and > another value\n",
    "\n",
    "Bonus:  Create a DataFrame with at least 5 rows\n",
    "\n",
    "- Slice for certain rows\n",
    "  - Single row by label and index\n",
    "  - Multiple row range by label and index\n",
    "  - Single row series + multi-value range\n",
    "      - labeled index\n",
    "      - int index"
   ]
  },
  {
   "cell_type": "markdown",
   "metadata": {
    "slideshow": {
     "slide_type": "slide"
    }
   },
   "source": [
    "<a name=\"conclusion\"></a>\n",
    "## Conclusion (5 mins)\n",
    "We very briefly used data frames in W2 L1.1. In this lesson we learned more about them and also\n",
    "about series. What are some differences between series and dataframes? "
   ]
  }
 ],
 "metadata": {
  "celltoolbar": "Slideshow",
  "kernelspec": {
   "display_name": "Python 2",
   "language": "python",
   "name": "python2"
  },
  "language_info": {
   "codemirror_mode": {
    "name": "ipython",
    "version": 2
   },
   "file_extension": ".py",
   "mimetype": "text/x-python",
   "name": "python",
   "nbconvert_exporter": "python",
   "pygments_lexer": "ipython2",
   "version": "2.7.6"
  }
 },
 "nbformat": 4,
 "nbformat_minor": 0
}
