{
 "cells": [
  {
   "cell_type": "markdown",
   "metadata": {},
   "source": [
    "# Today: EDA GROUPS!\n",
    "\n",
    "Choose a team, and then spend some time looking at data.  We want you to explore the data using the techniques we learned this far including:\n",
    "\n",
    "- Grouping / subsetting / segmentation\n",
    "- Summary statistics\n",
    "    - Histograms\n",
    "    - Plotting\n",
    "- Slicing\n",
    "- Cleaning data\n",
    "    - assessing proper types\n",
    "    - expected values\n",
    "    - object converstion\n",
    "   \n",
    "\n",
    "At the end of our exploratory analysis, each group will be giving a 10 minute presentation on their findings to the rest of class.\n"
   ]
  },
  {
   "cell_type": "code",
   "execution_count": 2,
   "metadata": {
    "collapsed": false
   },
   "outputs": [],
   "source": [
    "import pandas as pd, numpy as np, seaborn as sns\n",
    "\n",
    "%matplotlib inline"
   ]
  },
  {
   "cell_type": "markdown",
   "metadata": {},
   "source": [
    "## Team Alpha Drone\n",
    "\n",
    "Since the API from `api.dronestre.am` provides data on drone strikes in near real time, this **might** be useful to hold President Obama accountable to his promise of reducing drone strikes.  Your mission, is to explore drone strike data, doing any accomanying research with your analysis, and report back any good summary statistics.\n",
    "\n",
    "Also, we would like to know:\n",
    " - Is this a good source of data?\n",
    "     - Why / why not?\n",
    "     \n",
    "*Politics aside -- let's keep it to what is measurable in our dataset.  This isn't meant to prove or disprove anything.  It's a **fun** dataset to look at moreso than a motivator of political discourse.*"
   ]
  },
  {
   "cell_type": "code",
   "execution_count": 15,
   "metadata": {
    "collapsed": false
   },
   "outputs": [],
   "source": [
    "# First we need to fetch some data using Python requests from API\n",
    "# Read more about Python requests:\n",
    "# http://docs.python-requests.org/en/master/user/quickstart/\n",
    "\n",
    "import requests\n",
    "\n",
    "response = requests.get(\"http://api.dronestre.am/data\")\n",
    "json_data = response.json()\n",
    "drone_df = pd.DataFrame(json_data['strike'])"
   ]
  },
  {
   "cell_type": "code",
   "execution_count": 20,
   "metadata": {
    "collapsed": false
   },
   "outputs": [
    {
     "data": {
      "text/html": [
       "<div>\n",
       "<table border=\"1\" class=\"dataframe\">\n",
       "  <thead>\n",
       "    <tr style=\"text-align: right;\">\n",
       "      <th></th>\n",
       "      <th>_id</th>\n",
       "      <th>articles</th>\n",
       "      <th>bij_link</th>\n",
       "      <th>bij_summary_short</th>\n",
       "      <th>bureau_id</th>\n",
       "      <th>children</th>\n",
       "      <th>civilians</th>\n",
       "      <th>country</th>\n",
       "      <th>date</th>\n",
       "      <th>deaths</th>\n",
       "      <th>...</th>\n",
       "      <th>injuries</th>\n",
       "      <th>lat</th>\n",
       "      <th>location</th>\n",
       "      <th>lon</th>\n",
       "      <th>names</th>\n",
       "      <th>narrative</th>\n",
       "      <th>number</th>\n",
       "      <th>target</th>\n",
       "      <th>town</th>\n",
       "      <th>tweet_id</th>\n",
       "    </tr>\n",
       "  </thead>\n",
       "  <tbody>\n",
       "    <tr>\n",
       "      <th>0</th>\n",
       "      <td>55c79e711cbee48856a30886</td>\n",
       "      <td>[]</td>\n",
       "      <td>http://www.thebureauinvestigates.com/2012/03/2...</td>\n",
       "      <td>In the first known US targeted assassination u...</td>\n",
       "      <td>YEM001</td>\n",
       "      <td></td>\n",
       "      <td>0</td>\n",
       "      <td>Yemen</td>\n",
       "      <td>2002-11-03T00:00:00.000Z</td>\n",
       "      <td>6</td>\n",
       "      <td>...</td>\n",
       "      <td></td>\n",
       "      <td>15.47467</td>\n",
       "      <td>Marib Province</td>\n",
       "      <td>45.322755</td>\n",
       "      <td>[Qa'id Salim Sinan al-Harithi, Abu Ahmad al-Hi...</td>\n",
       "      <td>In the first known US targeted assassination u...</td>\n",
       "      <td>1</td>\n",
       "      <td></td>\n",
       "      <td></td>\n",
       "      <td>278544689483890688</td>\n",
       "    </tr>\n",
       "  </tbody>\n",
       "</table>\n",
       "<p>1 rows × 22 columns</p>\n",
       "</div>"
      ],
      "text/plain": [
       "                        _id articles  \\\n",
       "0  55c79e711cbee48856a30886       []   \n",
       "\n",
       "                                            bij_link  \\\n",
       "0  http://www.thebureauinvestigates.com/2012/03/2...   \n",
       "\n",
       "                                   bij_summary_short bureau_id children  \\\n",
       "0  In the first known US targeted assassination u...    YEM001            \n",
       "\n",
       "  civilians country                      date deaths         ...          \\\n",
       "0         0   Yemen  2002-11-03T00:00:00.000Z      6         ...           \n",
       "\n",
       "  injuries       lat        location        lon  \\\n",
       "0           15.47467  Marib Province  45.322755   \n",
       "\n",
       "                                               names  \\\n",
       "0  [Qa'id Salim Sinan al-Harithi, Abu Ahmad al-Hi...   \n",
       "\n",
       "                                           narrative number target  town  \\\n",
       "0  In the first known US targeted assassination u...      1                \n",
       "\n",
       "             tweet_id  \n",
       "0  278544689483890688  \n",
       "\n",
       "[1 rows x 22 columns]"
      ]
     },
     "execution_count": 20,
     "metadata": {},
     "output_type": "execute_result"
    }
   ],
   "source": [
    "drone_df.head(1)"
   ]
  },
  {
   "cell_type": "markdown",
   "metadata": {},
   "source": [
    "## Team Popcorn\n",
    "\n",
    "You're a force to be reckoned with when you `read_csv` into your `movie_df` dataframe.  You are team \"Popcorn\".  It would be nice to know:\n",
    "\n",
    " - Which movies remained in the top 10 the longest\n",
    " - Which movies were good investments?\n",
    " \n",
    " Bonus:\n",
    " - Do any holidays impact sales performance or position?\n",
    "\n",
    "\n",
    "_[There's a data dictionary available!](http://www.amstat.org/publications/jse/v17n1/datasets.mclaren.html)_"
   ]
  },
  {
   "cell_type": "code",
   "execution_count": 59,
   "metadata": {
    "collapsed": false
   },
   "outputs": [
    {
     "data": {
      "text/html": [
       "<div>\n",
       "<table border=\"1\" class=\"dataframe\">\n",
       "  <thead>\n",
       "    <tr style=\"text-align: right;\">\n",
       "      <th></th>\n",
       "      <th>NUMBER</th>\n",
       "      <th>MOVIE</th>\n",
       "      <th>WEEK_NUM</th>\n",
       "      <th>WEEKEND_PER_THEATER</th>\n",
       "      <th>WEEKEND_DATE</th>\n",
       "    </tr>\n",
       "  </thead>\n",
       "  <tbody>\n",
       "    <tr>\n",
       "      <th>0</th>\n",
       "      <td>1.0</td>\n",
       "      <td>A Beautiful Mind</td>\n",
       "      <td>1.0</td>\n",
       "      <td>701.0</td>\n",
       "      <td>12/21/01</td>\n",
       "    </tr>\n",
       "    <tr>\n",
       "      <th>1</th>\n",
       "      <td>1.0</td>\n",
       "      <td>A Beautiful Mind</td>\n",
       "      <td>2.0</td>\n",
       "      <td>14820.0</td>\n",
       "      <td>12/28/01</td>\n",
       "    </tr>\n",
       "    <tr>\n",
       "      <th>2</th>\n",
       "      <td>1.0</td>\n",
       "      <td>A Beautiful Mind</td>\n",
       "      <td>3.0</td>\n",
       "      <td>8940.0</td>\n",
       "      <td>1/4/02</td>\n",
       "    </tr>\n",
       "    <tr>\n",
       "      <th>3</th>\n",
       "      <td>1.0</td>\n",
       "      <td>A Beautiful Mind</td>\n",
       "      <td>4.0</td>\n",
       "      <td>6850.0</td>\n",
       "      <td>1/11/02</td>\n",
       "    </tr>\n",
       "    <tr>\n",
       "      <th>4</th>\n",
       "      <td>1.0</td>\n",
       "      <td>A Beautiful Mind</td>\n",
       "      <td>5.0</td>\n",
       "      <td>5280.0</td>\n",
       "      <td>1/18/02</td>\n",
       "    </tr>\n",
       "  </tbody>\n",
       "</table>\n",
       "</div>"
      ],
      "text/plain": [
       "   NUMBER             MOVIE  WEEK_NUM  WEEKEND_PER_THEATER WEEKEND_DATE\n",
       "0     1.0  A Beautiful Mind       1.0                701.0     12/21/01\n",
       "1     1.0  A Beautiful Mind       2.0              14820.0     12/28/01\n",
       "2     1.0  A Beautiful Mind       3.0               8940.0       1/4/02\n",
       "3     1.0  A Beautiful Mind       4.0               6850.0      1/11/02\n",
       "4     1.0  A Beautiful Mind       5.0               5280.0      1/18/02"
      ]
     },
     "execution_count": 59,
     "metadata": {},
     "output_type": "execute_result"
    }
   ],
   "source": [
    "movie_df = pd.read_csv(\"../assets/data/movie_weekend.csv\")\n",
    "movie_df.head(5)"
   ]
  },
  {
   "cell_type": "markdown",
   "metadata": {},
   "source": [
    "## Team Titanic\n",
    "\n",
    "Known for it's honesty, the Titanic dataset is a very common dataset for doing classification prediction of fatalities.  For our challenge, why don't we try to focus on the latent characteristics. \n",
    "\n",
    "For the record, this is how much know:\n",
    "\n",
    "![](http://www.glencoe.com/sec/math/studytools/books/0-07-829631-5/images/IQ02-003W-8228662.gif)\n",
    "\n",
    "Certainly there is a better story to tell.\n",
    "\n",
    "**Bonus**\n",
    " - Can you pull out titles (ie: Mr., Miss, Mrs) from the feature \"Name\" and assign it to a new variable? We think there could be something interesting to look at in aggregate based on titles!"
   ]
  },
  {
   "cell_type": "code",
   "execution_count": 61,
   "metadata": {
    "collapsed": false
   },
   "outputs": [
    {
     "data": {
      "text/html": [
       "<div>\n",
       "<table border=\"1\" class=\"dataframe\">\n",
       "  <thead>\n",
       "    <tr style=\"text-align: right;\">\n",
       "      <th></th>\n",
       "      <th>PassengerId</th>\n",
       "      <th>Survived</th>\n",
       "      <th>Pclass</th>\n",
       "      <th>Name</th>\n",
       "      <th>Sex</th>\n",
       "      <th>Age</th>\n",
       "      <th>SibSp</th>\n",
       "      <th>Parch</th>\n",
       "      <th>Ticket</th>\n",
       "      <th>Fare</th>\n",
       "      <th>Cabin</th>\n",
       "      <th>Embarked</th>\n",
       "    </tr>\n",
       "  </thead>\n",
       "  <tbody>\n",
       "    <tr>\n",
       "      <th>0</th>\n",
       "      <td>1</td>\n",
       "      <td>0</td>\n",
       "      <td>3</td>\n",
       "      <td>Braund, Mr. Owen Harris</td>\n",
       "      <td>male</td>\n",
       "      <td>22.0</td>\n",
       "      <td>1</td>\n",
       "      <td>0</td>\n",
       "      <td>A/5 21171</td>\n",
       "      <td>7.2500</td>\n",
       "      <td>NaN</td>\n",
       "      <td>S</td>\n",
       "    </tr>\n",
       "    <tr>\n",
       "      <th>1</th>\n",
       "      <td>2</td>\n",
       "      <td>1</td>\n",
       "      <td>1</td>\n",
       "      <td>Cumings, Mrs. John Bradley (Florence Briggs Th...</td>\n",
       "      <td>female</td>\n",
       "      <td>38.0</td>\n",
       "      <td>1</td>\n",
       "      <td>0</td>\n",
       "      <td>PC 17599</td>\n",
       "      <td>71.2833</td>\n",
       "      <td>C85</td>\n",
       "      <td>C</td>\n",
       "    </tr>\n",
       "    <tr>\n",
       "      <th>2</th>\n",
       "      <td>3</td>\n",
       "      <td>1</td>\n",
       "      <td>3</td>\n",
       "      <td>Heikkinen, Miss. Laina</td>\n",
       "      <td>female</td>\n",
       "      <td>26.0</td>\n",
       "      <td>0</td>\n",
       "      <td>0</td>\n",
       "      <td>STON/O2. 3101282</td>\n",
       "      <td>7.9250</td>\n",
       "      <td>NaN</td>\n",
       "      <td>S</td>\n",
       "    </tr>\n",
       "  </tbody>\n",
       "</table>\n",
       "</div>"
      ],
      "text/plain": [
       "   PassengerId  Survived  Pclass  \\\n",
       "0            1         0       3   \n",
       "1            2         1       1   \n",
       "2            3         1       3   \n",
       "\n",
       "                                                Name     Sex   Age  SibSp  \\\n",
       "0                            Braund, Mr. Owen Harris    male  22.0      1   \n",
       "1  Cumings, Mrs. John Bradley (Florence Briggs Th...  female  38.0      1   \n",
       "2                             Heikkinen, Miss. Laina  female  26.0      0   \n",
       "\n",
       "   Parch            Ticket     Fare Cabin Embarked  \n",
       "0      0         A/5 21171   7.2500   NaN        S  \n",
       "1      0          PC 17599  71.2833   C85        C  \n",
       "2      0  STON/O2. 3101282   7.9250   NaN        S  "
      ]
     },
     "execution_count": 61,
     "metadata": {},
     "output_type": "execute_result"
    }
   ],
   "source": [
    "titanic_df = pd.read_csv(\"../assets/data/titanic.csv\")\n",
    "titanic_df.head(3)"
   ]
  },
  {
   "cell_type": "code",
   "execution_count": null,
   "metadata": {
    "collapsed": true
   },
   "outputs": [],
   "source": []
  }
 ],
 "metadata": {
  "kernelspec": {
   "display_name": "Python 2",
   "language": "python",
   "name": "python2"
  },
  "language_info": {
   "codemirror_mode": {
    "name": "ipython",
    "version": 2
   },
   "file_extension": ".py",
   "mimetype": "text/x-python",
   "name": "python",
   "nbconvert_exporter": "python",
   "pygments_lexer": "ipython2",
   "version": "2.7.6"
  }
 },
 "nbformat": 4,
 "nbformat_minor": 0
}
