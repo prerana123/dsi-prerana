{
 "cells": [
  {
   "cell_type": "code",
   "execution_count": 15,
   "metadata": {
    "collapsed": true
   },
   "outputs": [],
   "source": [
    "import numpy as np\n",
    "\n",
    "def list_comprehender():\n",
    "    counter = 0\n",
    "    for i in range(5):\n",
    "        counter += 1\n",
    "        print 'Counter 1:', counter\n",
    "        \n",
    "        counter_for_j = 0\n",
    "        for j in range(10, 20, 2):\n",
    "            print 'Counter 2', counter_for_j\n",
    "            counter_for_j += 1\n",
    "    \n"
   ]
  },
  {
   "cell_type": "code",
   "execution_count": 16,
   "metadata": {
    "collapsed": false
   },
   "outputs": [
    {
     "name": "stdout",
     "output_type": "stream",
     "text": [
      "Counter 1: 1\n",
      "Counter 2 0\n",
      "Counter 2 1\n",
      "Counter 2 2\n",
      "Counter 2 3\n",
      "Counter 2 4\n",
      "Counter 1: 2\n",
      "Counter 2 0\n",
      "Counter 2 1\n",
      "Counter 2 2\n",
      "Counter 2 3\n",
      "Counter 2 4\n",
      "Counter 1: 3\n",
      "Counter 2 0\n",
      "Counter 2 1\n",
      "Counter 2 2\n",
      "Counter 2 3\n",
      "Counter 2 4\n",
      "Counter 1: 4\n",
      "Counter 2 0\n",
      "Counter 2 1\n",
      "Counter 2 2\n",
      "Counter 2 3\n",
      "Counter 2 4\n",
      "Counter 1: 5\n",
      "Counter 2 0\n",
      "Counter 2 1\n",
      "Counter 2 2\n",
      "Counter 2 3\n",
      "Counter 2 4\n"
     ]
    }
   ],
   "source": [
    "list_comprehender()"
   ]
  },
  {
   "cell_type": "code",
   "execution_count": 8,
   "metadata": {
    "collapsed": false
   },
   "outputs": [
    {
     "name": "stdout",
     "output_type": "stream",
     "text": [
      "None\n"
     ]
    }
   ],
   "source": [
    "print(var)"
   ]
  },
  {
   "cell_type": "code",
   "execution_count": 9,
   "metadata": {
    "collapsed": true
   },
   "outputs": [],
   "source": [
    "var"
   ]
  },
  {
   "cell_type": "code",
   "execution_count": null,
   "metadata": {
    "collapsed": true
   },
   "outputs": [],
   "source": []
  }
 ],
 "metadata": {
  "kernelspec": {
   "display_name": "Python 2",
   "language": "python",
   "name": "python2"
  },
  "language_info": {
   "codemirror_mode": {
    "name": "ipython",
    "version": 2
   },
   "file_extension": ".py",
   "mimetype": "text/x-python",
   "name": "python",
   "nbconvert_exporter": "python",
   "pygments_lexer": "ipython2",
   "version": "2.7.11"
  }
 },
 "nbformat": 4,
 "nbformat_minor": 0
}
