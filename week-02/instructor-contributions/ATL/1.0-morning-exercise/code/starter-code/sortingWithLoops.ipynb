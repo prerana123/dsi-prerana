{
 "cells": [
  {
   "cell_type": "markdown",
   "metadata": {},
   "source": [
    "# Sorting a list using `for` and `while` loops\n",
    "In order to get practice with the various methods for looping in Python, let's define functions that take as an input a list of elements, and gives as an output the sorted list of those elements."
   ]
  },
  {
   "cell_type": "code",
   "execution_count": 37,
   "metadata": {
    "collapsed": true
   },
   "outputs": [],
   "source": [
    "unsortedList = ['c', 'b', 'a', 'd']"
   ]
  },
  {
   "cell_type": "markdown",
   "metadata": {},
   "source": [
    "# First, let's try it with a `for` loop"
   ]
  },
  {
   "cell_type": "code",
   "execution_count": 26,
   "metadata": {
    "collapsed": false
   },
   "outputs": [],
   "source": [
    "def sortFor(myList):\n",
    "    for i in range(len(myList)):\n",
    "        for j in range(len(myList)-1):\n",
    "            print myList\n",
    "            if (myList[j] > myList[j+1]):\n",
    "                jTemp = myList[j]\n",
    "                myList[j] = myList[j+1]\n",
    "                myList[j+1] = jTemp\n",
    "    return myList"
   ]
  },
  {
   "cell_type": "markdown",
   "metadata": {},
   "source": [
    "# Now, let's try it with a `while` loop\n",
    "## Simple `while` loop sort \n",
    "First, try it with a `while` loop that is a very simple alteration of the nested `for` loop above."
   ]
  },
  {
   "cell_type": "code",
   "execution_count": null,
   "metadata": {
    "collapsed": false
   },
   "outputs": [],
   "source": []
  },
  {
   "cell_type": "markdown",
   "metadata": {},
   "source": [
    "## Challenge `while` loop sort\n",
    "Now, let's try a different approach with a `while` loop.  This approach will not use nested while loops.  It will utilize a function called `isSorted` and the mod operator, `%`.  (Remember, the `%` gives you the remainder, so `101 % 2` returns `1`).\n",
    "### Write the function `isSorted`\n",
    "First, write a function called `isSorted` which takes a list as an argument and returns `True` if the list is in ascending order and `False` otherwise.  This function could use a `while` loop or a `for` loop."
   ]
  },
  {
   "cell_type": "code",
   "execution_count": null,
   "metadata": {
    "collapsed": false
   },
   "outputs": [],
   "source": []
  },
  {
   "cell_type": "markdown",
   "metadata": {},
   "source": [
    "### Now write the sorting function\n",
    "Try writing a function to sort a list using a `while` loop, the `isSorted` function, and `%` (mod).  Note: do not use a nested `while` loop!"
   ]
  },
  {
   "cell_type": "code",
   "execution_count": null,
   "metadata": {
    "collapsed": false
   },
   "outputs": [],
   "source": []
  },
  {
   "cell_type": "code",
   "execution_count": null,
   "metadata": {
    "collapsed": true
   },
   "outputs": [],
   "source": []
  }
 ],
 "metadata": {
  "kernelspec": {
   "display_name": "Python 2",
   "language": "python",
   "name": "python2"
  },
  "language_info": {
   "codemirror_mode": {
    "name": "ipython",
    "version": 2
   },
   "file_extension": ".py",
   "mimetype": "text/x-python",
   "name": "python",
   "nbconvert_exporter": "python",
   "pygments_lexer": "ipython2",
   "version": "2.7.11"
  }
 },
 "nbformat": 4,
 "nbformat_minor": 0
}
