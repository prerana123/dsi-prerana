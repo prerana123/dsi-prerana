{
 "cells": [
  {
   "cell_type": "code",
   "execution_count": null,
   "metadata": {
    "collapsed": true
   },
   "outputs": [],
   "source": [
    "myList1 = range(0,100)"
   ]
  },
  {
   "cell_type": "code",
   "execution_count": null,
   "metadata": {
    "collapsed": false
   },
   "outputs": [],
   "source": [
    "# below is an example of list comprehension being used in a function\n",
    "# that takes a constant integer (c) as a parameter and list of integers\n",
    "# called myList1\n",
    "# note similar to map(lambda x: c*x,myList1), but simpler! \n",
    "\n",
    "def ntimesSet(c,myList1):\n",
    "    return [c*x for x in myList1]\n",
    "print ntimesSet(2,myList1)"
   ]
  },
  {
   "cell_type": "code",
   "execution_count": null,
   "metadata": {
    "collapsed": false
   },
   "outputs": [],
   "source": [
    "# write a function that will take 3 parameters a list\n",
    "# someList which will be a list of integers\n",
    "# c which will be an integer\n",
    "# n which will be an integer\n",
    "# filter out values greater than n in someList using list comprehension\n",
    "# and then multiply each value in the remaining array by c\n",
    "\n",
    "import numpy as np\n",
    "list1 = np.random.randint(0,100,40)\n",
    "\n",
    "# do not manually check list by index for np.nan, \n",
    "# use list1 as your testcase\n",
    "\n",
    "#print filterAndMultiplyList(someList = list1, c = 2, n = 50)"
   ]
  },
  {
   "cell_type": "code",
   "execution_count": null,
   "metadata": {
    "collapsed": false
   },
   "outputs": [],
   "source": [
    "# this function which will only return even numbers in list \n",
    "# using list comprehension\n",
    "# function will take one parameter called nums which is a list of integers\n",
    "# function will return only the even numbers from the original parameter nums\n",
    "\n",
    "#evenNums = getEvenNums(myList1)"
   ]
  },
  {
   "cell_type": "code",
   "execution_count": null,
   "metadata": {
    "collapsed": false
   },
   "outputs": [],
   "source": [
    "# get all the oddNums in the list, given now that you have all evenNums\n",
    "# using list comprehension "
   ]
  },
  {
   "cell_type": "code",
   "execution_count": null,
   "metadata": {
    "collapsed": false
   },
   "outputs": [],
   "source": [
    "# write a function that will return a probability given two parameters\n",
    "# one parameter called x (events matched) and the other n (total events)\n",
    "\n",
    "# calculate the probability that if I randomly select a number in myList1\n",
    "# that number will be even, use your getProbability function for your final\n",
    "# call your final probability probabilityEvenNum\n",
    "\n",
    "\n",
    "#print \"Probability of select even num is {}%\".format(probabilityEvenNum)"
   ]
  },
  {
   "cell_type": "code",
   "execution_count": null,
   "metadata": {
    "collapsed": false
   },
   "outputs": [],
   "source": [
    "# get the probability of randomly selecting an odd number, now that you\n",
    "# have probabilityEvenNum defined, get the probability of getting an odd number\n",
    "# WITHOUT using list comprehension, NOR any type of looping. \n",
    "# HINT: X = {a,b}. P(X = a) + P(X = b) = 1\n",
    "\n",
    "#print \"Probability of select even num is {}%\".format(probOddNums)"
   ]
  },
  {
   "cell_type": "code",
   "execution_count": null,
   "metadata": {
    "collapsed": false
   },
   "outputs": [],
   "source": [
    "# write a function called getCumalativeProb which takes in two parameters.\n",
    "# first parameter is called nums. And you can assume will be a of integers\n",
    "# second parameter is called q, and will be an integer as well\n",
    "# the function will return the P( x > q ) or that if a number is randomly\n",
    "# selected from that list it will be greater than q\n",
    "# HINT: use list comprehension to filter through list\n",
    "# P( X > n ) = 1 - P( X <= n )\n",
    "\n",
    "#set1 = range(0,100)\n",
    "#getCumalativeProb(set1,20)"
   ]
  },
  {
   "cell_type": "code",
   "execution_count": null,
   "metadata": {
    "collapsed": true
   },
   "outputs": [],
   "source": []
  },
  {
   "cell_type": "code",
   "execution_count": null,
   "metadata": {
    "collapsed": true
   },
   "outputs": [],
   "source": []
  }
 ],
 "metadata": {
  "kernelspec": {
   "display_name": "Python 2",
   "language": "python",
   "name": "python2"
  },
  "language_info": {
   "codemirror_mode": {
    "name": "ipython",
    "version": 2
   },
   "file_extension": ".py",
   "mimetype": "text/x-python",
   "name": "python",
   "nbconvert_exporter": "python",
   "pygments_lexer": "ipython2",
   "version": "2.7.11"
  }
 },
 "nbformat": 4,
 "nbformat_minor": 0
}
