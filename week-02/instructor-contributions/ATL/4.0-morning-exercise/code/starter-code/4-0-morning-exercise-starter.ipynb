{
 "cells": [
  {
   "cell_type": "code",
   "execution_count": 73,
   "metadata": {
    "collapsed": true
   },
   "outputs": [],
   "source": [
    "import pandas as pd\n",
    "import numpy as np\n",
    "import matplotlib.pyplot as plt\n",
    "\n",
    "# this allows plots to appear directly in the notebook\n",
    "%matplotlib inline"
   ]
  },
  {
   "cell_type": "code",
   "execution_count": 74,
   "metadata": {
    "collapsed": true
   },
   "outputs": [],
   "source": [
    "path = 'http://www-bcf.usc.edu/~gareth/ISL/Advertising.csv'\n",
    "df = pd.read_csv(path, index_col=0)\n",
    "\n",
    "# The dataset describes advertising dollars spend in each venue (TV, Radio, Newspaper)\n",
    "# and the corresponding Sales"
   ]
  },
  {
   "cell_type": "code",
   "execution_count": 75,
   "metadata": {
    "collapsed": false
   },
   "outputs": [],
   "source": [
    "# Print out the dataframe schema (data dictionary)"
   ]
  },
  {
   "cell_type": "code",
   "execution_count": 76,
   "metadata": {
    "collapsed": false
   },
   "outputs": [],
   "source": [
    "# Are there any null values? If so, should we filter out, all, or some? "
   ]
  },
  {
   "cell_type": "code",
   "execution_count": 77,
   "metadata": {
    "collapsed": false
   },
   "outputs": [],
   "source": [
    "# Print out summary statistics of the dataframe"
   ]
  },
  {
   "cell_type": "code",
   "execution_count": 78,
   "metadata": {
    "collapsed": false
   },
   "outputs": [],
   "source": [
    "# show the first 10 rows of the dataframe"
   ]
  },
  {
   "cell_type": "code",
   "execution_count": 79,
   "metadata": {
    "collapsed": false
   },
   "outputs": [],
   "source": [
    "# how many rows in the dataframe, if you did filter or did not filter?\n",
    "# Do not use count!. Hint. Look into shape on a dataframe object"
   ]
  },
  {
   "cell_type": "code",
   "execution_count": 80,
   "metadata": {
    "collapsed": false
   },
   "outputs": [],
   "source": [
    "# What was the sum of all Sales when spent on Radio was greater than or equal to 10K? "
   ]
  },
  {
   "cell_type": "code",
   "execution_count": 81,
   "metadata": {
    "collapsed": false
   },
   "outputs": [],
   "source": [
    "# create a fourth column in the dataFrame, called All, that symbolizes all advertising dollars spent\n",
    "# You must use an apply. i.e. df['All'] = df.apply(someFunction, axis = 1)\n",
    "# When you do axis = 1 you tell it to map line by line instead of column through the entire df"
   ]
  },
  {
   "cell_type": "code",
   "execution_count": 82,
   "metadata": {
    "collapsed": false
   },
   "outputs": [],
   "source": [
    "# Create 4 Scatter Plots\n",
    "\n",
    "# 1. TV Spend Vs Sales (x = TV Spend, y = Sales)\n",
    "# 2. Radio Spend Vs Sales ( x = Radio Spend, y = Sales )\n",
    "# 3. Newspaper Spend Vs Sales ( x = Newspaper Spend, y = Sales )\n",
    "# 4. All Advertisting Spend Vs. Sales ( x = All Advertising Spend, y = Sales )\n",
    "# HINT: fig, axs = plt.subplots(1, 4, sharey=True), and then use df.plot 4 times\n",
    "# with correct x and y labels and ax labels.\n",
    "\n",
    "# What Conclusions can you make? i.e. more advertising dollars spent in TV, increases sales\n",
    "# More than Radio Sales? "
   ]
  },
  {
   "cell_type": "code",
   "execution_count": null,
   "metadata": {
    "collapsed": true
   },
   "outputs": [],
   "source": []
  }
 ],
 "metadata": {
  "kernelspec": {
   "display_name": "Python 2",
   "language": "python",
   "name": "python2"
  },
  "language_info": {
   "codemirror_mode": {
    "name": "ipython",
    "version": 2
   },
   "file_extension": ".py",
   "mimetype": "text/x-python",
   "name": "python",
   "nbconvert_exporter": "python",
   "pygments_lexer": "ipython2",
   "version": "2.7.11"
  }
 },
 "nbformat": 4,
 "nbformat_minor": 0
}
