{
 "cells": [
  {
   "cell_type": "code",
   "execution_count": 1,
   "metadata": {
    "collapsed": true
   },
   "outputs": [],
   "source": [
    "import pandas as pd\n",
    "import numpy as np\n",
    "%matplotlib inline"
   ]
  },
  {
   "cell_type": "code",
   "execution_count": 2,
   "metadata": {
    "collapsed": true
   },
   "outputs": [],
   "source": [
    "df = pd.read_csv('../assets/datasets/sleeping-alone-data.csv')"
   ]
  },
  {
   "cell_type": "code",
   "execution_count": 5,
   "metadata": {
    "collapsed": false
   },
   "outputs": [],
   "source": [
    "df.rename(columns={'When both you and your partner are at home, how often do you sleep in separate beds?':'SleepAlone'}, \n",
    "          inplace=True)"
   ]
  },
  {
   "cell_type": "code",
   "execution_count": 6,
   "metadata": {
    "collapsed": false
   },
   "outputs": [
    {
     "data": {
      "text/html": [
       "<div>\n",
       "<table border=\"1\" class=\"dataframe\">\n",
       "  <thead>\n",
       "    <tr style=\"text-align: right;\">\n",
       "      <th></th>\n",
       "      <th>StartDate</th>\n",
       "      <th>EndDate</th>\n",
       "      <th>Which of the following best describes your current relationship status?</th>\n",
       "      <th>How long have you been in your current relationship? If you are not currently in a relationship, please answer according to your last relationship.</th>\n",
       "      <th>SleepAlone</th>\n",
       "      <th>When you're not sleeping in the same bed as your partner, where do you typically sleep?</th>\n",
       "      <th>Unnamed: 6</th>\n",
       "      <th>When you're not sleeping in the same bed, where does your partner typically sleep?</th>\n",
       "      <th>Unnamed: 8</th>\n",
       "      <th>What are the reasons that you sleep in separate beds? Please select all that apply.</th>\n",
       "      <th>...</th>\n",
       "      <th>To what extent do you agree with the following statement: \"sleeping in separate beds helps us to stay together.\"</th>\n",
       "      <th>To what extent do you agree with the following statement: \"we sleep better when we sleep in separate beds.\"</th>\n",
       "      <th>To what extent do you agree with the following statement:�_\"our sex life has improved as a result of sleeping in separate beds.\"�_</th>\n",
       "      <th>Which of the following best describes your current occupation?</th>\n",
       "      <th>Unnamed: 25</th>\n",
       "      <th>Gender</th>\n",
       "      <th>Age</th>\n",
       "      <th>Household Income</th>\n",
       "      <th>Education</th>\n",
       "      <th>Location (Census Region)</th>\n",
       "    </tr>\n",
       "  </thead>\n",
       "  <tbody>\n",
       "    <tr>\n",
       "      <th>1</th>\n",
       "      <td>7/10/14 18:37</td>\n",
       "      <td>7/10/14 18:39</td>\n",
       "      <td>Single, but cohabiting with a significant other</td>\n",
       "      <td>1-5 years</td>\n",
       "      <td>Once a year or less</td>\n",
       "      <td>On the couch/chair</td>\n",
       "      <td>NaN</td>\n",
       "      <td>My partner sleeps in our shared bed, I'm the o...</td>\n",
       "      <td>NaN</td>\n",
       "      <td>NaN</td>\n",
       "      <td>...</td>\n",
       "      <td>Strongly disagree</td>\n",
       "      <td>Somewhat agree</td>\n",
       "      <td>Strongly disagree</td>\n",
       "      <td>Other (please specify)</td>\n",
       "      <td>Student</td>\n",
       "      <td>Male</td>\n",
       "      <td>18-29</td>\n",
       "      <td>$0 - $24,999</td>\n",
       "      <td>Some college or Associate degree</td>\n",
       "      <td>Pacific</td>\n",
       "    </tr>\n",
       "    <tr>\n",
       "      <th>2</th>\n",
       "      <td>7/10/14 15:54</td>\n",
       "      <td>7/10/14 15:56</td>\n",
       "      <td>Single, but cohabiting with a significant other</td>\n",
       "      <td>1-5 years</td>\n",
       "      <td>A few times per month</td>\n",
       "      <td>I sleep in our shared bed, my partner is the o...</td>\n",
       "      <td>NaN</td>\n",
       "      <td>Separate bedroom</td>\n",
       "      <td>NaN</td>\n",
       "      <td>One of us snores</td>\n",
       "      <td>...</td>\n",
       "      <td>Somewhat agree</td>\n",
       "      <td>Strongly agree</td>\n",
       "      <td>Strongly disagree</td>\n",
       "      <td>Healthcare Support Occupations</td>\n",
       "      <td>NaN</td>\n",
       "      <td>Male</td>\n",
       "      <td>18-29</td>\n",
       "      <td>NaN</td>\n",
       "      <td>Bachelor degree</td>\n",
       "      <td>South Atlantic</td>\n",
       "    </tr>\n",
       "    <tr>\n",
       "      <th>3</th>\n",
       "      <td>7/10/14 15:44</td>\n",
       "      <td>7/10/14 15:49</td>\n",
       "      <td>Married</td>\n",
       "      <td>1-5 years</td>\n",
       "      <td>Never</td>\n",
       "      <td>NaN</td>\n",
       "      <td>NaN</td>\n",
       "      <td>NaN</td>\n",
       "      <td>NaN</td>\n",
       "      <td>NaN</td>\n",
       "      <td>...</td>\n",
       "      <td>NaN</td>\n",
       "      <td>NaN</td>\n",
       "      <td>NaN</td>\n",
       "      <td>Legal Occupations</td>\n",
       "      <td>NaN</td>\n",
       "      <td>Male</td>\n",
       "      <td>18-29</td>\n",
       "      <td>$150,000+</td>\n",
       "      <td>Graduate degree</td>\n",
       "      <td>South Atlantic</td>\n",
       "    </tr>\n",
       "    <tr>\n",
       "      <th>4</th>\n",
       "      <td>7/10/14 13:47</td>\n",
       "      <td>7/10/14 13:47</td>\n",
       "      <td>Married</td>\n",
       "      <td>1-5 years</td>\n",
       "      <td>Never</td>\n",
       "      <td>NaN</td>\n",
       "      <td>NaN</td>\n",
       "      <td>NaN</td>\n",
       "      <td>NaN</td>\n",
       "      <td>NaN</td>\n",
       "      <td>...</td>\n",
       "      <td>NaN</td>\n",
       "      <td>NaN</td>\n",
       "      <td>NaN</td>\n",
       "      <td>Life, Physical, and Social Science Occupations</td>\n",
       "      <td>NaN</td>\n",
       "      <td>Male</td>\n",
       "      <td>18-29</td>\n",
       "      <td>$25,000 - $49,999</td>\n",
       "      <td>Bachelor degree</td>\n",
       "      <td>Middle Atlantic</td>\n",
       "    </tr>\n",
       "    <tr>\n",
       "      <th>5</th>\n",
       "      <td>7/10/14 13:13</td>\n",
       "      <td>7/10/14 13:14</td>\n",
       "      <td>Married</td>\n",
       "      <td>1-5 years</td>\n",
       "      <td>Never</td>\n",
       "      <td>NaN</td>\n",
       "      <td>NaN</td>\n",
       "      <td>NaN</td>\n",
       "      <td>NaN</td>\n",
       "      <td>NaN</td>\n",
       "      <td>...</td>\n",
       "      <td>NaN</td>\n",
       "      <td>NaN</td>\n",
       "      <td>NaN</td>\n",
       "      <td>Office and Administrative Support Occupations</td>\n",
       "      <td>NaN</td>\n",
       "      <td>Male</td>\n",
       "      <td>18-29</td>\n",
       "      <td>$100,000 - $149,999</td>\n",
       "      <td>Graduate degree</td>\n",
       "      <td>South Atlantic</td>\n",
       "    </tr>\n",
       "  </tbody>\n",
       "</table>\n",
       "<p>5 rows × 31 columns</p>\n",
       "</div>"
      ],
      "text/plain": [
       "       StartDate        EndDate  \\\n",
       "1  7/10/14 18:37  7/10/14 18:39   \n",
       "2  7/10/14 15:54  7/10/14 15:56   \n",
       "3  7/10/14 15:44  7/10/14 15:49   \n",
       "4  7/10/14 13:47  7/10/14 13:47   \n",
       "5  7/10/14 13:13  7/10/14 13:14   \n",
       "\n",
       "  Which of the following best describes your current relationship status?  \\\n",
       "1    Single, but cohabiting with a significant other                        \n",
       "2    Single, but cohabiting with a significant other                        \n",
       "3                                            Married                        \n",
       "4                                            Married                        \n",
       "5                                            Married                        \n",
       "\n",
       "  How long have you been in your current relationship? If you are not currently in a relationship, please answer according to your last relationship.  \\\n",
       "1                                          1-5 years                                                                                                    \n",
       "2                                          1-5 years                                                                                                    \n",
       "3                                          1-5 years                                                                                                    \n",
       "4                                          1-5 years                                                                                                    \n",
       "5                                          1-5 years                                                                                                    \n",
       "\n",
       "              SleepAlone  \\\n",
       "1    Once a year or less   \n",
       "2  A few times per month   \n",
       "3                  Never   \n",
       "4                  Never   \n",
       "5                  Never   \n",
       "\n",
       "  When you're not sleeping in the same bed as your partner, where do you typically sleep?  \\\n",
       "1                                 On the couch/chair                                        \n",
       "2  I sleep in our shared bed, my partner is the o...                                        \n",
       "3                                                NaN                                        \n",
       "4                                                NaN                                        \n",
       "5                                                NaN                                        \n",
       "\n",
       "  Unnamed: 6  \\\n",
       "1        NaN   \n",
       "2        NaN   \n",
       "3        NaN   \n",
       "4        NaN   \n",
       "5        NaN   \n",
       "\n",
       "  When you're not sleeping in the same bed, where does your partner typically sleep?  \\\n",
       "1  My partner sleeps in our shared bed, I'm the o...                                   \n",
       "2                                   Separate bedroom                                   \n",
       "3                                                NaN                                   \n",
       "4                                                NaN                                   \n",
       "5                                                NaN                                   \n",
       "\n",
       "  Unnamed: 8  \\\n",
       "1        NaN   \n",
       "2        NaN   \n",
       "3        NaN   \n",
       "4        NaN   \n",
       "5        NaN   \n",
       "\n",
       "  What are the reasons that you sleep in separate beds? Please select all that apply.  \\\n",
       "1                                                NaN                                    \n",
       "2                                   One of us snores                                    \n",
       "3                                                NaN                                    \n",
       "4                                                NaN                                    \n",
       "5                                                NaN                                    \n",
       "\n",
       "            ...             \\\n",
       "1           ...              \n",
       "2           ...              \n",
       "3           ...              \n",
       "4           ...              \n",
       "5           ...              \n",
       "\n",
       "  To what extent do you agree with the following statement: \"sleeping in separate beds helps us to stay together.\"  \\\n",
       "1                                  Strongly disagree                                                                 \n",
       "2                                     Somewhat agree                                                                 \n",
       "3                                                NaN                                                                 \n",
       "4                                                NaN                                                                 \n",
       "5                                                NaN                                                                 \n",
       "\n",
       "  To what extent do you agree with the following statement: \"we sleep better when we sleep in separate beds.\"  \\\n",
       "1                                     Somewhat agree                                                            \n",
       "2                                     Strongly agree                                                            \n",
       "3                                                NaN                                                            \n",
       "4                                                NaN                                                            \n",
       "5                                                NaN                                                            \n",
       "\n",
       "  To what extent do you agree with the following statement:�_\"our sex life has improved as a result of sleeping in separate beds.\"�_  \\\n",
       "1                                  Strongly disagree                                                                                   \n",
       "2                                  Strongly disagree                                                                                   \n",
       "3                                                NaN                                                                                   \n",
       "4                                                NaN                                                                                   \n",
       "5                                                NaN                                                                                   \n",
       "\n",
       "  Which of the following best describes your current occupation? Unnamed: 25  \\\n",
       "1                             Other (please specify)                 Student   \n",
       "2                     Healthcare Support Occupations                     NaN   \n",
       "3                                  Legal Occupations                     NaN   \n",
       "4     Life, Physical, and Social Science Occupations                     NaN   \n",
       "5      Office and Administrative Support Occupations                     NaN   \n",
       "\n",
       "  Gender    Age     Household Income                         Education  \\\n",
       "1   Male  18-29         $0 - $24,999  Some college or Associate degree   \n",
       "2   Male  18-29                  NaN                   Bachelor degree   \n",
       "3   Male  18-29            $150,000+                   Graduate degree   \n",
       "4   Male  18-29    $25,000 - $49,999                   Bachelor degree   \n",
       "5   Male  18-29  $100,000 - $149,999                   Graduate degree   \n",
       "\n",
       "  Location (Census Region)  \n",
       "1                  Pacific  \n",
       "2           South Atlantic  \n",
       "3           South Atlantic  \n",
       "4          Middle Atlantic  \n",
       "5           South Atlantic  \n",
       "\n",
       "[5 rows x 31 columns]"
      ]
     },
     "execution_count": 6,
     "metadata": {},
     "output_type": "execute_result"
    }
   ],
   "source": [
    "df.responses = df.iloc[0]\n",
    "df = df.iloc[1:]\n",
    "df.head()"
   ]
  },
  {
   "cell_type": "code",
   "execution_count": 11,
   "metadata": {
    "collapsed": false
   },
   "outputs": [],
   "source": [
    "groups = df.groupby(by=\"SleepAlone\")"
   ]
  },
  {
   "cell_type": "code",
   "execution_count": 15,
   "metadata": {
    "collapsed": false
   },
   "outputs": [
    {
     "name": "stdout",
     "output_type": "stream",
     "text": [
      "[A few times per month]\t<class 'pandas.core.frame.DataFrame'>\n",
      "[A few times per week]\t<class 'pandas.core.frame.DataFrame'>\n",
      "[Every night]\t<class 'pandas.core.frame.DataFrame'>\n",
      "[Never]\t<class 'pandas.core.frame.DataFrame'>\n",
      "[Once a month or less]\t<class 'pandas.core.frame.DataFrame'>\n",
      "[Once a year or less]\t<class 'pandas.core.frame.DataFrame'>\n"
     ]
    }
   ],
   "source": [
    "for name, group in groups:\n",
    "    print \"[{}]\\t{}\".format(name, type(group))"
   ]
  },
  {
   "cell_type": "code",
   "execution_count": 17,
   "metadata": {
    "collapsed": false
   },
   "outputs": [
    {
     "data": {
      "text/plain": [
       "SleepAlone             Age  \n",
       "A few times per month  30-44     23\n",
       "                       45-60     19\n",
       "                       > 60      12\n",
       "                       18-29      4\n",
       "A few times per week   30-44     21\n",
       "                       45-60     12\n",
       "                       > 60       9\n",
       "                       18-29      2\n",
       "Every night            > 60      61\n",
       "                       45-60     44\n",
       "                       30-44     26\n",
       "                       18-29      6\n",
       "Never                  45-60    165\n",
       "                       > 60     155\n",
       "                       30-44    142\n",
       "                       18-29     77\n",
       "Once a month or less   30-44     36\n",
       "                       45-60     29\n",
       "                       18-29     18\n",
       "                       > 60      13\n",
       "Once a year or less    45-60     43\n",
       "                       30-44     40\n",
       "                       > 60      33\n",
       "                       18-29     15\n",
       "Name: Age, dtype: int64"
      ]
     },
     "execution_count": 17,
     "metadata": {},
     "output_type": "execute_result"
    }
   ],
   "source": [
    "groups.Age.value_counts()"
   ]
  },
  {
   "cell_type": "code",
   "execution_count": 38,
   "metadata": {
    "collapsed": false
   },
   "outputs": [
    {
     "data": {
      "text/html": [
       "<div>\n",
       "<table border=\"1\" class=\"dataframe\">\n",
       "  <thead>\n",
       "    <tr style=\"text-align: right;\">\n",
       "      <th>Age</th>\n",
       "      <th>18-29</th>\n",
       "      <th>30-44</th>\n",
       "      <th>45-60</th>\n",
       "      <th>&gt; 60</th>\n",
       "    </tr>\n",
       "    <tr>\n",
       "      <th>SleepAlone</th>\n",
       "      <th></th>\n",
       "      <th></th>\n",
       "      <th></th>\n",
       "      <th></th>\n",
       "    </tr>\n",
       "  </thead>\n",
       "  <tbody>\n",
       "    <tr>\n",
       "      <th>A few times per month</th>\n",
       "      <td>4</td>\n",
       "      <td>23</td>\n",
       "      <td>19</td>\n",
       "      <td>12</td>\n",
       "    </tr>\n",
       "    <tr>\n",
       "      <th>A few times per week</th>\n",
       "      <td>2</td>\n",
       "      <td>21</td>\n",
       "      <td>12</td>\n",
       "      <td>9</td>\n",
       "    </tr>\n",
       "    <tr>\n",
       "      <th>Every night</th>\n",
       "      <td>6</td>\n",
       "      <td>26</td>\n",
       "      <td>44</td>\n",
       "      <td>61</td>\n",
       "    </tr>\n",
       "    <tr>\n",
       "      <th>Never</th>\n",
       "      <td>77</td>\n",
       "      <td>142</td>\n",
       "      <td>165</td>\n",
       "      <td>155</td>\n",
       "    </tr>\n",
       "    <tr>\n",
       "      <th>Once a month or less</th>\n",
       "      <td>18</td>\n",
       "      <td>36</td>\n",
       "      <td>29</td>\n",
       "      <td>13</td>\n",
       "    </tr>\n",
       "    <tr>\n",
       "      <th>Once a year or less</th>\n",
       "      <td>15</td>\n",
       "      <td>40</td>\n",
       "      <td>43</td>\n",
       "      <td>33</td>\n",
       "    </tr>\n",
       "  </tbody>\n",
       "</table>\n",
       "</div>"
      ],
      "text/plain": [
       "Age                    18-29  30-44  45-60  > 60\n",
       "SleepAlone                                      \n",
       "A few times per month      4     23     19    12\n",
       "A few times per week       2     21     12     9\n",
       "Every night                6     26     44    61\n",
       "Never                     77    142    165   155\n",
       "Once a month or less      18     36     29    13\n",
       "Once a year or less       15     40     43    33"
      ]
     },
     "execution_count": 38,
     "metadata": {},
     "output_type": "execute_result"
    }
   ],
   "source": [
    "unstacked_groups = groups.Age.value_counts().unstack()\n",
    "unstacked_groups"
   ]
  },
  {
   "cell_type": "code",
   "execution_count": 39,
   "metadata": {
    "collapsed": false
   },
   "outputs": [
    {
     "data": {
      "text/plain": [
       "SleepAlone             Age  \n",
       "A few times per month  18-29      4\n",
       "                       30-44     23\n",
       "                       45-60     19\n",
       "                       > 60      12\n",
       "A few times per week   18-29      2\n",
       "                       30-44     21\n",
       "                       45-60     12\n",
       "                       > 60       9\n",
       "Every night            18-29      6\n",
       "                       30-44     26\n",
       "                       45-60     44\n",
       "                       > 60      61\n",
       "Never                  18-29     77\n",
       "                       30-44    142\n",
       "                       45-60    165\n",
       "                       > 60     155\n",
       "Once a month or less   18-29     18\n",
       "                       30-44     36\n",
       "                       45-60     29\n",
       "                       > 60      13\n",
       "Once a year or less    18-29     15\n",
       "                       30-44     40\n",
       "                       45-60     43\n",
       "                       > 60      33\n",
       "dtype: int64"
      ]
     },
     "execution_count": 39,
     "metadata": {},
     "output_type": "execute_result"
    }
   ],
   "source": [
    "stacked_again = unstacked_groups.stack()\n",
    "stacked_again"
   ]
  },
  {
   "cell_type": "code",
   "execution_count": 21,
   "metadata": {
    "collapsed": false
   },
   "outputs": [
    {
     "data": {
      "text/plain": [
       "<matplotlib.axes._subplots.AxesSubplot at 0x113435c50>"
      ]
     },
     "execution_count": 21,
     "metadata": {},
     "output_type": "execute_result"
    },
    {
     "data": {
      "image/png": "[encoded data removed]",
      "text/plain": [
       "<matplotlib.figure.Figure at 0x1134409d0>"
      ]
     },
     "metadata": {},
     "output_type": "display_data"
    }
   ],
   "source": [
    "groups.Age.value_counts().unstack().plot.bar(stacked=True)"
   ]
  },
  {
   "cell_type": "code",
   "execution_count": 22,
   "metadata": {
    "collapsed": false
   },
   "outputs": [
    {
     "data": {
      "text/html": [
       "<div>\n",
       "<table border=\"1\" class=\"dataframe\">\n",
       "  <thead>\n",
       "    <tr style=\"text-align: right;\">\n",
       "      <th>Age</th>\n",
       "      <th>18-29</th>\n",
       "      <th>30-44</th>\n",
       "      <th>45-60</th>\n",
       "      <th>&gt; 60</th>\n",
       "    </tr>\n",
       "    <tr>\n",
       "      <th>SleepAlone</th>\n",
       "      <th></th>\n",
       "      <th></th>\n",
       "      <th></th>\n",
       "      <th></th>\n",
       "    </tr>\n",
       "  </thead>\n",
       "  <tbody>\n",
       "    <tr>\n",
       "      <th>A few times per month</th>\n",
       "      <td>0.068966</td>\n",
       "      <td>0.396552</td>\n",
       "      <td>0.327586</td>\n",
       "      <td>0.206897</td>\n",
       "    </tr>\n",
       "    <tr>\n",
       "      <th>A few times per week</th>\n",
       "      <td>0.045455</td>\n",
       "      <td>0.477273</td>\n",
       "      <td>0.272727</td>\n",
       "      <td>0.204545</td>\n",
       "    </tr>\n",
       "    <tr>\n",
       "      <th>Every night</th>\n",
       "      <td>0.043796</td>\n",
       "      <td>0.189781</td>\n",
       "      <td>0.321168</td>\n",
       "      <td>0.445255</td>\n",
       "    </tr>\n",
       "    <tr>\n",
       "      <th>Never</th>\n",
       "      <td>0.142857</td>\n",
       "      <td>0.263451</td>\n",
       "      <td>0.306122</td>\n",
       "      <td>0.287570</td>\n",
       "    </tr>\n",
       "    <tr>\n",
       "      <th>Once a month or less</th>\n",
       "      <td>0.187500</td>\n",
       "      <td>0.375000</td>\n",
       "      <td>0.302083</td>\n",
       "      <td>0.135417</td>\n",
       "    </tr>\n",
       "    <tr>\n",
       "      <th>Once a year or less</th>\n",
       "      <td>0.114504</td>\n",
       "      <td>0.305344</td>\n",
       "      <td>0.328244</td>\n",
       "      <td>0.251908</td>\n",
       "    </tr>\n",
       "  </tbody>\n",
       "</table>\n",
       "</div>"
      ],
      "text/plain": [
       "Age                       18-29     30-44     45-60      > 60\n",
       "SleepAlone                                                   \n",
       "A few times per month  0.068966  0.396552  0.327586  0.206897\n",
       "A few times per week   0.045455  0.477273  0.272727  0.204545\n",
       "Every night            0.043796  0.189781  0.321168  0.445255\n",
       "Never                  0.142857  0.263451  0.306122  0.287570\n",
       "Once a month or less   0.187500  0.375000  0.302083  0.135417\n",
       "Once a year or less    0.114504  0.305344  0.328244  0.251908"
      ]
     },
     "execution_count": 22,
     "metadata": {},
     "output_type": "execute_result"
    }
   ],
   "source": [
    "percAge = groups.Age.value_counts()/groups.Age.count()\n",
    "percAge.unstack()"
   ]
  },
  {
   "cell_type": "code",
   "execution_count": 27,
   "metadata": {
    "collapsed": false
   },
   "outputs": [
    {
     "data": {
      "text/plain": [
       "<matplotlib.axes._subplots.AxesSubplot at 0x113ce3fd0>"
      ]
     },
     "execution_count": 27,
     "metadata": {},
     "output_type": "execute_result"
    },
    {
     "data": {
      "image/png": "[encoded data removed]",
      "text/plain": [
       "<matplotlib.figure.Figure at 0x113a87950>"
      ]
     },
     "metadata": {},
     "output_type": "display_data"
    }
   ],
   "source": [
    "percAge.unstack().plot(kind='bar', stacked=True, figsize=(15,15))"
   ]
  },
  {
   "cell_type": "code",
   "execution_count": null,
   "metadata": {
    "collapsed": true
   },
   "outputs": [],
   "source": []
  }
 ],
 "metadata": {
  "kernelspec": {
   "display_name": "Python 2",
   "language": "python",
   "name": "python2"
  },
  "language_info": {
   "codemirror_mode": {
    "name": "ipython",
    "version": 2
   },
   "file_extension": ".py",
   "mimetype": "text/x-python",
   "name": "python",
   "nbconvert_exporter": "python",
   "pygments_lexer": "ipython2",
   "version": "2.7.11"
  }
 },
 "nbformat": 4,
 "nbformat_minor": 0
}
