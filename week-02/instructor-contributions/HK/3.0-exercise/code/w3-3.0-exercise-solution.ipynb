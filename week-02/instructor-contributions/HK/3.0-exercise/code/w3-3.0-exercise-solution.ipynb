{
 "cells": [
  {
   "cell_type": "code",
   "execution_count": 23,
   "metadata": {
    "collapsed": true
   },
   "outputs": [],
   "source": [
    "import pandas as pd\n",
    "import numpy as np\n",
    "from matplotlib import pyplot as plt\n",
    "%matplotlib inline"
   ]
  },
  {
   "cell_type": "code",
   "execution_count": 2,
   "metadata": {
    "collapsed": true
   },
   "outputs": [],
   "source": [
    "# df = pd.read_csv('https://raw.githubusercontent.com/fivethirtyeight/data/master/sleeping-alone-data/sleeping-alone-data.csv')\n",
    "df = pd.read_csv('../assets/datasets/sleeping-alone-data.csv')"
   ]
  },
  {
   "cell_type": "code",
   "execution_count": 3,
   "metadata": {
    "collapsed": false
   },
   "outputs": [
    {
     "data": {
      "text/plain": [
       "Index([u'StartDate', u'EndDate',\n",
       "       u'Which of the following best describes your current relationship status?',\n",
       "       u'How long have you been in your current relationship? If you are not currently in a relationship, please answer according to your last relationship.',\n",
       "       u'When both you and your partner are at home, how often do you sleep in separate beds?',\n",
       "       u'When you're not sleeping in the same bed as your partner, where do you typically sleep?',\n",
       "       u'Unnamed: 6',\n",
       "       u'When you're not sleeping in the same bed, where does your partner typically sleep?',\n",
       "       u'Unnamed: 8',\n",
       "       u'What are the reasons that you sleep in separate beds? Please select all that apply.',\n",
       "       u'Unnamed: 10', u'Unnamed: 11', u'Unnamed: 12', u'Unnamed: 13',\n",
       "       u'Unnamed: 14', u'Unnamed: 15', u'Unnamed: 16', u'Unnamed: 17',\n",
       "       u'Unnamed: 18', u'Unnamed: 19',\n",
       "       u'When was the first time you slept in separate beds?',\n",
       "       u'To what extent do you agree with the following statement: \"sleeping in separate beds helps us to stay together.\"',\n",
       "       u'To what extent do you agree with the following statement: \"we sleep better when we sleep in separate beds.\"',\n",
       "       u'To what extent do you agree with the following statement:�_\"our sex life has improved as a result of sleeping in separate beds.\"�_',\n",
       "       u'Which of the following best describes your current occupation?',\n",
       "       u'Unnamed: 25', u'Gender', u'Age', u'Household Income', u'Education',\n",
       "       u'Location (Census Region)'],\n",
       "      dtype='object')"
      ]
     },
     "execution_count": 3,
     "metadata": {},
     "output_type": "execute_result"
    }
   ],
   "source": [
    "df.columns"
   ]
  },
  {
   "cell_type": "code",
   "execution_count": 4,
   "metadata": {
    "collapsed": false
   },
   "outputs": [
    {
     "data": {
      "text/html": [
       "<div>\n",
       "<table border=\"1\" class=\"dataframe\">\n",
       "  <thead>\n",
       "    <tr style=\"text-align: right;\">\n",
       "      <th></th>\n",
       "      <th>StartDate</th>\n",
       "      <th>EndDate</th>\n",
       "      <th>Which of the following best describes your current relationship status?</th>\n",
       "      <th>How long have you been in your current relationship? If you are not currently in a relationship, please answer according to your last relationship.</th>\n",
       "      <th>When both you and your partner are at home, how often do you sleep in separate beds?</th>\n",
       "      <th>When you're not sleeping in the same bed as your partner, where do you typically sleep?</th>\n",
       "      <th>Unnamed: 6</th>\n",
       "      <th>When you're not sleeping in the same bed, where does your partner typically sleep?</th>\n",
       "      <th>Unnamed: 8</th>\n",
       "      <th>What are the reasons that you sleep in separate beds? Please select all that apply.</th>\n",
       "      <th>...</th>\n",
       "      <th>To what extent do you agree with the following statement: \"sleeping in separate beds helps us to stay together.\"</th>\n",
       "      <th>To what extent do you agree with the following statement: \"we sleep better when we sleep in separate beds.\"</th>\n",
       "      <th>To what extent do you agree with the following statement:�_\"our sex life has improved as a result of sleeping in separate beds.\"�_</th>\n",
       "      <th>Which of the following best describes your current occupation?</th>\n",
       "      <th>Unnamed: 25</th>\n",
       "      <th>Gender</th>\n",
       "      <th>Age</th>\n",
       "      <th>Household Income</th>\n",
       "      <th>Education</th>\n",
       "      <th>Location (Census Region)</th>\n",
       "    </tr>\n",
       "  </thead>\n",
       "  <tbody>\n",
       "    <tr>\n",
       "      <th>0</th>\n",
       "      <td>NaN</td>\n",
       "      <td>NaN</td>\n",
       "      <td>Response</td>\n",
       "      <td>Response</td>\n",
       "      <td>Response</td>\n",
       "      <td>Response</td>\n",
       "      <td>Other (please specify)</td>\n",
       "      <td>Response</td>\n",
       "      <td>Other (please specify)</td>\n",
       "      <td>One of us snores</td>\n",
       "      <td>...</td>\n",
       "      <td>Response</td>\n",
       "      <td>Response</td>\n",
       "      <td>Response</td>\n",
       "      <td>Response</td>\n",
       "      <td>Other (please specify)</td>\n",
       "      <td>Response</td>\n",
       "      <td>Response</td>\n",
       "      <td>Response</td>\n",
       "      <td>Response</td>\n",
       "      <td>Response</td>\n",
       "    </tr>\n",
       "    <tr>\n",
       "      <th>1</th>\n",
       "      <td>7/10/14 18:37</td>\n",
       "      <td>7/10/14 18:39</td>\n",
       "      <td>Single, but cohabiting with a significant other</td>\n",
       "      <td>1-5 years</td>\n",
       "      <td>Once a year or less</td>\n",
       "      <td>On the couch/chair</td>\n",
       "      <td>NaN</td>\n",
       "      <td>My partner sleeps in our shared bed, I'm the o...</td>\n",
       "      <td>NaN</td>\n",
       "      <td>NaN</td>\n",
       "      <td>...</td>\n",
       "      <td>Strongly disagree</td>\n",
       "      <td>Somewhat agree</td>\n",
       "      <td>Strongly disagree</td>\n",
       "      <td>Other (please specify)</td>\n",
       "      <td>Student</td>\n",
       "      <td>Male</td>\n",
       "      <td>18-29</td>\n",
       "      <td>$0 - $24,999</td>\n",
       "      <td>Some college or Associate degree</td>\n",
       "      <td>Pacific</td>\n",
       "    </tr>\n",
       "    <tr>\n",
       "      <th>2</th>\n",
       "      <td>7/10/14 15:54</td>\n",
       "      <td>7/10/14 15:56</td>\n",
       "      <td>Single, but cohabiting with a significant other</td>\n",
       "      <td>1-5 years</td>\n",
       "      <td>A few times per month</td>\n",
       "      <td>I sleep in our shared bed, my partner is the o...</td>\n",
       "      <td>NaN</td>\n",
       "      <td>Separate bedroom</td>\n",
       "      <td>NaN</td>\n",
       "      <td>One of us snores</td>\n",
       "      <td>...</td>\n",
       "      <td>Somewhat agree</td>\n",
       "      <td>Strongly agree</td>\n",
       "      <td>Strongly disagree</td>\n",
       "      <td>Healthcare Support Occupations</td>\n",
       "      <td>NaN</td>\n",
       "      <td>Male</td>\n",
       "      <td>18-29</td>\n",
       "      <td>NaN</td>\n",
       "      <td>Bachelor degree</td>\n",
       "      <td>South Atlantic</td>\n",
       "    </tr>\n",
       "    <tr>\n",
       "      <th>3</th>\n",
       "      <td>7/10/14 15:44</td>\n",
       "      <td>7/10/14 15:49</td>\n",
       "      <td>Married</td>\n",
       "      <td>1-5 years</td>\n",
       "      <td>Never</td>\n",
       "      <td>NaN</td>\n",
       "      <td>NaN</td>\n",
       "      <td>NaN</td>\n",
       "      <td>NaN</td>\n",
       "      <td>NaN</td>\n",
       "      <td>...</td>\n",
       "      <td>NaN</td>\n",
       "      <td>NaN</td>\n",
       "      <td>NaN</td>\n",
       "      <td>Legal Occupations</td>\n",
       "      <td>NaN</td>\n",
       "      <td>Male</td>\n",
       "      <td>18-29</td>\n",
       "      <td>$150,000+</td>\n",
       "      <td>Graduate degree</td>\n",
       "      <td>South Atlantic</td>\n",
       "    </tr>\n",
       "    <tr>\n",
       "      <th>4</th>\n",
       "      <td>7/10/14 13:47</td>\n",
       "      <td>7/10/14 13:47</td>\n",
       "      <td>Married</td>\n",
       "      <td>1-5 years</td>\n",
       "      <td>Never</td>\n",
       "      <td>NaN</td>\n",
       "      <td>NaN</td>\n",
       "      <td>NaN</td>\n",
       "      <td>NaN</td>\n",
       "      <td>NaN</td>\n",
       "      <td>...</td>\n",
       "      <td>NaN</td>\n",
       "      <td>NaN</td>\n",
       "      <td>NaN</td>\n",
       "      <td>Life, Physical, and Social Science Occupations</td>\n",
       "      <td>NaN</td>\n",
       "      <td>Male</td>\n",
       "      <td>18-29</td>\n",
       "      <td>$25,000 - $49,999</td>\n",
       "      <td>Bachelor degree</td>\n",
       "      <td>Middle Atlantic</td>\n",
       "    </tr>\n",
       "  </tbody>\n",
       "</table>\n",
       "<p>5 rows × 31 columns</p>\n",
       "</div>"
      ],
      "text/plain": [
       "       StartDate        EndDate  \\\n",
       "0            NaN            NaN   \n",
       "1  7/10/14 18:37  7/10/14 18:39   \n",
       "2  7/10/14 15:54  7/10/14 15:56   \n",
       "3  7/10/14 15:44  7/10/14 15:49   \n",
       "4  7/10/14 13:47  7/10/14 13:47   \n",
       "\n",
       "  Which of the following best describes your current relationship status?  \\\n",
       "0                                           Response                        \n",
       "1    Single, but cohabiting with a significant other                        \n",
       "2    Single, but cohabiting with a significant other                        \n",
       "3                                            Married                        \n",
       "4                                            Married                        \n",
       "\n",
       "  How long have you been in your current relationship? If you are not currently in a relationship, please answer according to your last relationship.  \\\n",
       "0                                           Response                                                                                                    \n",
       "1                                          1-5 years                                                                                                    \n",
       "2                                          1-5 years                                                                                                    \n",
       "3                                          1-5 years                                                                                                    \n",
       "4                                          1-5 years                                                                                                    \n",
       "\n",
       "  When both you and your partner are at home, how often do you sleep in separate beds?  \\\n",
       "0                                           Response                                     \n",
       "1                                Once a year or less                                     \n",
       "2                              A few times per month                                     \n",
       "3                                              Never                                     \n",
       "4                                              Never                                     \n",
       "\n",
       "  When you're not sleeping in the same bed as your partner, where do you typically sleep?  \\\n",
       "0                                           Response                                        \n",
       "1                                 On the couch/chair                                        \n",
       "2  I sleep in our shared bed, my partner is the o...                                        \n",
       "3                                                NaN                                        \n",
       "4                                                NaN                                        \n",
       "\n",
       "               Unnamed: 6  \\\n",
       "0  Other (please specify)   \n",
       "1                     NaN   \n",
       "2                     NaN   \n",
       "3                     NaN   \n",
       "4                     NaN   \n",
       "\n",
       "  When you're not sleeping in the same bed, where does your partner typically sleep?  \\\n",
       "0                                           Response                                   \n",
       "1  My partner sleeps in our shared bed, I'm the o...                                   \n",
       "2                                   Separate bedroom                                   \n",
       "3                                                NaN                                   \n",
       "4                                                NaN                                   \n",
       "\n",
       "               Unnamed: 8  \\\n",
       "0  Other (please specify)   \n",
       "1                     NaN   \n",
       "2                     NaN   \n",
       "3                     NaN   \n",
       "4                     NaN   \n",
       "\n",
       "  What are the reasons that you sleep in separate beds? Please select all that apply.  \\\n",
       "0                                   One of us snores                                    \n",
       "1                                                NaN                                    \n",
       "2                                   One of us snores                                    \n",
       "3                                                NaN                                    \n",
       "4                                                NaN                                    \n",
       "\n",
       "            ...             \\\n",
       "0           ...              \n",
       "1           ...              \n",
       "2           ...              \n",
       "3           ...              \n",
       "4           ...              \n",
       "\n",
       "  To what extent do you agree with the following statement: \"sleeping in separate beds helps us to stay together.\"  \\\n",
       "0                                           Response                                                                 \n",
       "1                                  Strongly disagree                                                                 \n",
       "2                                     Somewhat agree                                                                 \n",
       "3                                                NaN                                                                 \n",
       "4                                                NaN                                                                 \n",
       "\n",
       "  To what extent do you agree with the following statement: \"we sleep better when we sleep in separate beds.\"  \\\n",
       "0                                           Response                                                            \n",
       "1                                     Somewhat agree                                                            \n",
       "2                                     Strongly agree                                                            \n",
       "3                                                NaN                                                            \n",
       "4                                                NaN                                                            \n",
       "\n",
       "  To what extent do you agree with the following statement:�_\"our sex life has improved as a result of sleeping in separate beds.\"�_  \\\n",
       "0                                           Response                                                                                   \n",
       "1                                  Strongly disagree                                                                                   \n",
       "2                                  Strongly disagree                                                                                   \n",
       "3                                                NaN                                                                                   \n",
       "4                                                NaN                                                                                   \n",
       "\n",
       "  Which of the following best describes your current occupation?  \\\n",
       "0                                           Response               \n",
       "1                             Other (please specify)               \n",
       "2                     Healthcare Support Occupations               \n",
       "3                                  Legal Occupations               \n",
       "4     Life, Physical, and Social Science Occupations               \n",
       "\n",
       "              Unnamed: 25    Gender       Age   Household Income  \\\n",
       "0  Other (please specify)  Response  Response           Response   \n",
       "1                 Student      Male     18-29       $0 - $24,999   \n",
       "2                     NaN      Male     18-29                NaN   \n",
       "3                     NaN      Male     18-29          $150,000+   \n",
       "4                     NaN      Male     18-29  $25,000 - $49,999   \n",
       "\n",
       "                          Education Location (Census Region)  \n",
       "0                          Response                 Response  \n",
       "1  Some college or Associate degree                  Pacific  \n",
       "2                   Bachelor degree           South Atlantic  \n",
       "3                   Graduate degree           South Atlantic  \n",
       "4                   Bachelor degree          Middle Atlantic  \n",
       "\n",
       "[5 rows x 31 columns]"
      ]
     },
     "execution_count": 4,
     "metadata": {},
     "output_type": "execute_result"
    }
   ],
   "source": [
    "df.head()"
   ]
  },
  {
   "cell_type": "code",
   "execution_count": 5,
   "metadata": {
    "collapsed": false
   },
   "outputs": [
    {
     "data": {
      "text/html": [
       "<div>\n",
       "<table border=\"1\" class=\"dataframe\">\n",
       "  <thead>\n",
       "    <tr style=\"text-align: right;\">\n",
       "      <th></th>\n",
       "      <th>StartDate</th>\n",
       "      <th>EndDate</th>\n",
       "      <th>Which of the following best describes your current relationship status?</th>\n",
       "      <th>How long have you been in your current relationship? If you are not currently in a relationship, please answer according to your last relationship.</th>\n",
       "      <th>When both you and your partner are at home, how often do you sleep in separate beds?</th>\n",
       "      <th>When you're not sleeping in the same bed as your partner, where do you typically sleep?</th>\n",
       "      <th>Unnamed: 6</th>\n",
       "      <th>When you're not sleeping in the same bed, where does your partner typically sleep?</th>\n",
       "      <th>Unnamed: 8</th>\n",
       "      <th>What are the reasons that you sleep in separate beds? Please select all that apply.</th>\n",
       "      <th>...</th>\n",
       "      <th>To what extent do you agree with the following statement: \"sleeping in separate beds helps us to stay together.\"</th>\n",
       "      <th>To what extent do you agree with the following statement: \"we sleep better when we sleep in separate beds.\"</th>\n",
       "      <th>To what extent do you agree with the following statement:�_\"our sex life has improved as a result of sleeping in separate beds.\"�_</th>\n",
       "      <th>Which of the following best describes your current occupation?</th>\n",
       "      <th>Unnamed: 25</th>\n",
       "      <th>Gender</th>\n",
       "      <th>Age</th>\n",
       "      <th>Household Income</th>\n",
       "      <th>Education</th>\n",
       "      <th>Location (Census Region)</th>\n",
       "    </tr>\n",
       "  </thead>\n",
       "  <tbody>\n",
       "    <tr>\n",
       "      <th>1</th>\n",
       "      <td>7/10/14 18:37</td>\n",
       "      <td>7/10/14 18:39</td>\n",
       "      <td>Single, but cohabiting with a significant other</td>\n",
       "      <td>1-5 years</td>\n",
       "      <td>Once a year or less</td>\n",
       "      <td>On the couch/chair</td>\n",
       "      <td>NaN</td>\n",
       "      <td>My partner sleeps in our shared bed, I'm the o...</td>\n",
       "      <td>NaN</td>\n",
       "      <td>NaN</td>\n",
       "      <td>...</td>\n",
       "      <td>Strongly disagree</td>\n",
       "      <td>Somewhat agree</td>\n",
       "      <td>Strongly disagree</td>\n",
       "      <td>Other (please specify)</td>\n",
       "      <td>Student</td>\n",
       "      <td>Male</td>\n",
       "      <td>18-29</td>\n",
       "      <td>$0 - $24,999</td>\n",
       "      <td>Some college or Associate degree</td>\n",
       "      <td>Pacific</td>\n",
       "    </tr>\n",
       "    <tr>\n",
       "      <th>2</th>\n",
       "      <td>7/10/14 15:54</td>\n",
       "      <td>7/10/14 15:56</td>\n",
       "      <td>Single, but cohabiting with a significant other</td>\n",
       "      <td>1-5 years</td>\n",
       "      <td>A few times per month</td>\n",
       "      <td>I sleep in our shared bed, my partner is the o...</td>\n",
       "      <td>NaN</td>\n",
       "      <td>Separate bedroom</td>\n",
       "      <td>NaN</td>\n",
       "      <td>One of us snores</td>\n",
       "      <td>...</td>\n",
       "      <td>Somewhat agree</td>\n",
       "      <td>Strongly agree</td>\n",
       "      <td>Strongly disagree</td>\n",
       "      <td>Healthcare Support Occupations</td>\n",
       "      <td>NaN</td>\n",
       "      <td>Male</td>\n",
       "      <td>18-29</td>\n",
       "      <td>NaN</td>\n",
       "      <td>Bachelor degree</td>\n",
       "      <td>South Atlantic</td>\n",
       "    </tr>\n",
       "    <tr>\n",
       "      <th>3</th>\n",
       "      <td>7/10/14 15:44</td>\n",
       "      <td>7/10/14 15:49</td>\n",
       "      <td>Married</td>\n",
       "      <td>1-5 years</td>\n",
       "      <td>Never</td>\n",
       "      <td>NaN</td>\n",
       "      <td>NaN</td>\n",
       "      <td>NaN</td>\n",
       "      <td>NaN</td>\n",
       "      <td>NaN</td>\n",
       "      <td>...</td>\n",
       "      <td>NaN</td>\n",
       "      <td>NaN</td>\n",
       "      <td>NaN</td>\n",
       "      <td>Legal Occupations</td>\n",
       "      <td>NaN</td>\n",
       "      <td>Male</td>\n",
       "      <td>18-29</td>\n",
       "      <td>$150,000+</td>\n",
       "      <td>Graduate degree</td>\n",
       "      <td>South Atlantic</td>\n",
       "    </tr>\n",
       "    <tr>\n",
       "      <th>4</th>\n",
       "      <td>7/10/14 13:47</td>\n",
       "      <td>7/10/14 13:47</td>\n",
       "      <td>Married</td>\n",
       "      <td>1-5 years</td>\n",
       "      <td>Never</td>\n",
       "      <td>NaN</td>\n",
       "      <td>NaN</td>\n",
       "      <td>NaN</td>\n",
       "      <td>NaN</td>\n",
       "      <td>NaN</td>\n",
       "      <td>...</td>\n",
       "      <td>NaN</td>\n",
       "      <td>NaN</td>\n",
       "      <td>NaN</td>\n",
       "      <td>Life, Physical, and Social Science Occupations</td>\n",
       "      <td>NaN</td>\n",
       "      <td>Male</td>\n",
       "      <td>18-29</td>\n",
       "      <td>$25,000 - $49,999</td>\n",
       "      <td>Bachelor degree</td>\n",
       "      <td>Middle Atlantic</td>\n",
       "    </tr>\n",
       "    <tr>\n",
       "      <th>5</th>\n",
       "      <td>7/10/14 13:13</td>\n",
       "      <td>7/10/14 13:14</td>\n",
       "      <td>Married</td>\n",
       "      <td>1-5 years</td>\n",
       "      <td>Never</td>\n",
       "      <td>NaN</td>\n",
       "      <td>NaN</td>\n",
       "      <td>NaN</td>\n",
       "      <td>NaN</td>\n",
       "      <td>NaN</td>\n",
       "      <td>...</td>\n",
       "      <td>NaN</td>\n",
       "      <td>NaN</td>\n",
       "      <td>NaN</td>\n",
       "      <td>Office and Administrative Support Occupations</td>\n",
       "      <td>NaN</td>\n",
       "      <td>Male</td>\n",
       "      <td>18-29</td>\n",
       "      <td>$100,000 - $149,999</td>\n",
       "      <td>Graduate degree</td>\n",
       "      <td>South Atlantic</td>\n",
       "    </tr>\n",
       "  </tbody>\n",
       "</table>\n",
       "<p>5 rows × 31 columns</p>\n",
       "</div>"
      ],
      "text/plain": [
       "       StartDate        EndDate  \\\n",
       "1  7/10/14 18:37  7/10/14 18:39   \n",
       "2  7/10/14 15:54  7/10/14 15:56   \n",
       "3  7/10/14 15:44  7/10/14 15:49   \n",
       "4  7/10/14 13:47  7/10/14 13:47   \n",
       "5  7/10/14 13:13  7/10/14 13:14   \n",
       "\n",
       "  Which of the following best describes your current relationship status?  \\\n",
       "1    Single, but cohabiting with a significant other                        \n",
       "2    Single, but cohabiting with a significant other                        \n",
       "3                                            Married                        \n",
       "4                                            Married                        \n",
       "5                                            Married                        \n",
       "\n",
       "  How long have you been in your current relationship? If you are not currently in a relationship, please answer according to your last relationship.  \\\n",
       "1                                          1-5 years                                                                                                    \n",
       "2                                          1-5 years                                                                                                    \n",
       "3                                          1-5 years                                                                                                    \n",
       "4                                          1-5 years                                                                                                    \n",
       "5                                          1-5 years                                                                                                    \n",
       "\n",
       "  When both you and your partner are at home, how often do you sleep in separate beds?  \\\n",
       "1                                Once a year or less                                     \n",
       "2                              A few times per month                                     \n",
       "3                                              Never                                     \n",
       "4                                              Never                                     \n",
       "5                                              Never                                     \n",
       "\n",
       "  When you're not sleeping in the same bed as your partner, where do you typically sleep?  \\\n",
       "1                                 On the couch/chair                                        \n",
       "2  I sleep in our shared bed, my partner is the o...                                        \n",
       "3                                                NaN                                        \n",
       "4                                                NaN                                        \n",
       "5                                                NaN                                        \n",
       "\n",
       "  Unnamed: 6  \\\n",
       "1        NaN   \n",
       "2        NaN   \n",
       "3        NaN   \n",
       "4        NaN   \n",
       "5        NaN   \n",
       "\n",
       "  When you're not sleeping in the same bed, where does your partner typically sleep?  \\\n",
       "1  My partner sleeps in our shared bed, I'm the o...                                   \n",
       "2                                   Separate bedroom                                   \n",
       "3                                                NaN                                   \n",
       "4                                                NaN                                   \n",
       "5                                                NaN                                   \n",
       "\n",
       "  Unnamed: 8  \\\n",
       "1        NaN   \n",
       "2        NaN   \n",
       "3        NaN   \n",
       "4        NaN   \n",
       "5        NaN   \n",
       "\n",
       "  What are the reasons that you sleep in separate beds? Please select all that apply.  \\\n",
       "1                                                NaN                                    \n",
       "2                                   One of us snores                                    \n",
       "3                                                NaN                                    \n",
       "4                                                NaN                                    \n",
       "5                                                NaN                                    \n",
       "\n",
       "            ...             \\\n",
       "1           ...              \n",
       "2           ...              \n",
       "3           ...              \n",
       "4           ...              \n",
       "5           ...              \n",
       "\n",
       "  To what extent do you agree with the following statement: \"sleeping in separate beds helps us to stay together.\"  \\\n",
       "1                                  Strongly disagree                                                                 \n",
       "2                                     Somewhat agree                                                                 \n",
       "3                                                NaN                                                                 \n",
       "4                                                NaN                                                                 \n",
       "5                                                NaN                                                                 \n",
       "\n",
       "  To what extent do you agree with the following statement: \"we sleep better when we sleep in separate beds.\"  \\\n",
       "1                                     Somewhat agree                                                            \n",
       "2                                     Strongly agree                                                            \n",
       "3                                                NaN                                                            \n",
       "4                                                NaN                                                            \n",
       "5                                                NaN                                                            \n",
       "\n",
       "  To what extent do you agree with the following statement:�_\"our sex life has improved as a result of sleeping in separate beds.\"�_  \\\n",
       "1                                  Strongly disagree                                                                                   \n",
       "2                                  Strongly disagree                                                                                   \n",
       "3                                                NaN                                                                                   \n",
       "4                                                NaN                                                                                   \n",
       "5                                                NaN                                                                                   \n",
       "\n",
       "  Which of the following best describes your current occupation? Unnamed: 25  \\\n",
       "1                             Other (please specify)                 Student   \n",
       "2                     Healthcare Support Occupations                     NaN   \n",
       "3                                  Legal Occupations                     NaN   \n",
       "4     Life, Physical, and Social Science Occupations                     NaN   \n",
       "5      Office and Administrative Support Occupations                     NaN   \n",
       "\n",
       "  Gender    Age     Household Income                         Education  \\\n",
       "1   Male  18-29         $0 - $24,999  Some college or Associate degree   \n",
       "2   Male  18-29                  NaN                   Bachelor degree   \n",
       "3   Male  18-29            $150,000+                   Graduate degree   \n",
       "4   Male  18-29    $25,000 - $49,999                   Bachelor degree   \n",
       "5   Male  18-29  $100,000 - $149,999                   Graduate degree   \n",
       "\n",
       "  Location (Census Region)  \n",
       "1                  Pacific  \n",
       "2           South Atlantic  \n",
       "3           South Atlantic  \n",
       "4          Middle Atlantic  \n",
       "5           South Atlantic  \n",
       "\n",
       "[5 rows x 31 columns]"
      ]
     },
     "execution_count": 5,
     "metadata": {},
     "output_type": "execute_result"
    }
   ],
   "source": [
    "responses = df.iloc[0]\n",
    "df = df.iloc[1:]\n",
    "df.head()"
   ]
  },
  {
   "cell_type": "code",
   "execution_count": 10,
   "metadata": {
    "collapsed": false
   },
   "outputs": [
    {
     "name": "stdout",
     "output_type": "stream",
     "text": [
      "['Once a year or less' 'A few times per month' 'Never' 'Every night'\n",
      " 'Once a month or less' 'A few times per week' nan]\n",
      "Never                    586\n",
      "Every night              147\n",
      "Once a year or less      137\n",
      "Once a month or less     101\n",
      "A few times per month     62\n",
      "A few times per week      46\n",
      "Name: When both you and your partner are at home, how often do you sleep in separate beds?, dtype: int64\n",
      "Number of NaN 14\n"
     ]
    }
   ],
   "source": [
    "sleep_alone = df.iloc[:,4]\n",
    "sleep_alone\n",
    "print sleep_alone.unique()\n",
    "print sleep_alone.value_counts()\n",
    "print \"Number of NaN\", sleep_alone.isnull().sum()"
   ]
  },
  {
   "cell_type": "code",
   "execution_count": 12,
   "metadata": {
    "collapsed": false
   },
   "outputs": [
    {
     "name": "stdout",
     "output_type": "stream",
     "text": [
      "['18-29' nan '45-60' '> 60' '30-44']\n",
      "45-60    312\n",
      "30-44    288\n",
      "> 60     283\n",
      "18-29    122\n",
      "Name: Age, dtype: int64\n"
     ]
    },
    {
     "data": {
      "text/plain": [
       "<matplotlib.axes._subplots.AxesSubplot at 0x112120850>"
      ]
     },
     "execution_count": 12,
     "metadata": {},
     "output_type": "execute_result"
    },
    {
     "data": {
      "image/png": "[encoded data removed]",
      "text/plain": [
       "<matplotlib.figure.Figure at 0x112120a50>"
      ]
     },
     "metadata": {},
     "output_type": "display_data"
    }
   ],
   "source": [
    "age = df.Age\n",
    "print age.unique()\n",
    "print age.value_counts()\n",
    "age.value_counts().sort_index().plot()"
   ]
  },
  {
   "cell_type": "code",
   "execution_count": 13,
   "metadata": {
    "collapsed": false
   },
   "outputs": [
    {
     "name": "stdout",
     "output_type": "stream",
     "text": [
      "['$0 - $24,999' nan '$150,000+' '$25,000 - $49,999' '$100,000 - $149,999'\n",
      " '$50,000 - $99,999']\n",
      "$50,000 - $99,999      314\n",
      "$100,000 - $149,999    226\n",
      "$150,000+              126\n",
      "$25,000 - $49,999       99\n",
      "$0 - $24,999            45\n",
      "Name: Household Income, dtype: int64\n"
     ]
    }
   ],
   "source": [
    "income = df[\"Household Income\"]\n",
    "print income.unique()\n",
    "print income.value_counts()"
   ]
  },
  {
   "cell_type": "code",
   "execution_count": 18,
   "metadata": {
    "collapsed": false
   },
   "outputs": [
    {
     "data": {
      "text/plain": [
       "$50,000 - $99,999      0.379953\n",
       "$100,000 - $149,999    0.277389\n",
       "$150,000+              0.156177\n",
       "$25,000 - $49,999      0.125874\n",
       "$0 - $24,999           0.060606\n",
       "Name: Household Income, dtype: float64"
      ]
     },
     "execution_count": 18,
     "metadata": {},
     "output_type": "execute_result"
    }
   ],
   "source": [
    "vc = income[sleep_alone == \"Never\"].value_counts()\n",
    "vc/vc.sum()"
   ]
  },
  {
   "cell_type": "code",
   "execution_count": 19,
   "metadata": {
    "collapsed": false
   },
   "outputs": [
    {
     "data": {
      "text/plain": [
       "$50,000 - $99,999      0.378378\n",
       "$100,000 - $149,999    0.288288\n",
       "$25,000 - $49,999      0.153153\n",
       "$150,000+              0.144144\n",
       "$0 - $24,999           0.036036\n",
       "Name: Household Income, dtype: float64"
      ]
     },
     "execution_count": 19,
     "metadata": {},
     "output_type": "execute_result"
    }
   ],
   "source": [
    "vc = income[sleep_alone == \"Every night\"].value_counts()\n",
    "vc/vc.sum()"
   ]
  },
  {
   "cell_type": "code",
   "execution_count": 30,
   "metadata": {
    "collapsed": false
   },
   "outputs": [
    {
     "name": "stdout",
     "output_type": "stream",
     "text": [
      "45-60    165\n",
      "> 60     155\n",
      "30-44    142\n",
      "18-29     77\n",
      "Name: Age, dtype: int64\n"
     ]
    },
    {
     "data": {
      "image/png": "[encoded data removed]",
      "text/plain": [
       "<matplotlib.figure.Figure at 0x1133c6b50>"
      ]
     },
     "metadata": {},
     "output_type": "display_data"
    },
    {
     "name": "stdout",
     "output_type": "stream",
     "text": [
      "> 60     61\n",
      "45-60    44\n",
      "30-44    26\n",
      "18-29     6\n",
      "Name: Age, dtype: int64\n"
     ]
    },
    {
     "data": {
      "image/png": "[encoded data removed]",
      "text/plain": [
       "<matplotlib.figure.Figure at 0x113848590>"
      ]
     },
     "metadata": {},
     "output_type": "display_data"
    },
    {
     "data": {
      "text/plain": [
       "<matplotlib.axes._subplots.AxesSubplot at 0x113870990>"
      ]
     },
     "execution_count": 30,
     "metadata": {},
     "output_type": "execute_result"
    },
    {
     "data": {
      "image/png": "[encoded data removed]",
      "text/plain": [
       "<matplotlib.figure.Figure at 0x113aa3750>"
      ]
     },
     "metadata": {},
     "output_type": "display_data"
    }
   ],
   "source": [
    "vc = age[sleep_alone == \"Never\"].value_counts()\n",
    "vc1 = vc/vc.sum()\n",
    "print vc\n",
    "vc.sort_index().plot(kind='bar')\n",
    "plt.show()\n",
    "vc = age[sleep_alone == \"Every night\"].value_counts()\n",
    "vc2 = vc/vc.sum()\n",
    "print vc\n",
    "vc.sort_index().plot(kind='bar')\n",
    "plt.show()\n",
    "\n",
    "(vc2-vc1).plot.bar()"
   ]
  },
  {
   "cell_type": "code",
   "execution_count": 26,
   "metadata": {
    "collapsed": false
   },
   "outputs": [
    {
     "data": {
      "text/plain": [
       "1       18-29\n",
       "2       18-29\n",
       "3       18-29\n",
       "4       18-29\n",
       "5       18-29\n",
       "6       18-29\n",
       "7         NaN\n",
       "8         NaN\n",
       "9       45-60\n",
       "10       > 60\n",
       "11      18-29\n",
       "12      30-44\n",
       "13      30-44\n",
       "14      30-44\n",
       "15      30-44\n",
       "16      30-44\n",
       "17      30-44\n",
       "18      30-44\n",
       "19      30-44\n",
       "20      30-44\n",
       "21      18-29\n",
       "22      30-44\n",
       "23      30-44\n",
       "24      30-44\n",
       "25      18-29\n",
       "26      30-44\n",
       "27      30-44\n",
       "28      18-29\n",
       "29      30-44\n",
       "30      30-44\n",
       "        ...  \n",
       "1064    18-29\n",
       "1065     > 60\n",
       "1066     > 60\n",
       "1067    45-60\n",
       "1068    30-44\n",
       "1069    30-44\n",
       "1070    45-60\n",
       "1071    45-60\n",
       "1072    18-29\n",
       "1073     > 60\n",
       "1074    45-60\n",
       "1075    45-60\n",
       "1076    30-44\n",
       "1077    45-60\n",
       "1078     > 60\n",
       "1079    45-60\n",
       "1080    30-44\n",
       "1081     > 60\n",
       "1082    45-60\n",
       "1083      NaN\n",
       "1084    45-60\n",
       "1085    30-44\n",
       "1086    30-44\n",
       "1087    30-44\n",
       "1088    18-29\n",
       "1089    30-44\n",
       "1090     > 60\n",
       "1091    30-44\n",
       "1092     > 60\n",
       "1093    45-60\n",
       "Name: Age, dtype: object"
      ]
     },
     "execution_count": 26,
     "metadata": {},
     "output_type": "execute_result"
    }
   ],
   "source": [
    "age"
   ]
  },
  {
   "cell_type": "code",
   "execution_count": 28,
   "metadata": {
    "collapsed": false
   },
   "outputs": [
    {
     "data": {
      "text/plain": [
       "1       23.5\n",
       "2       23.5\n",
       "3       23.5\n",
       "4       23.5\n",
       "5       23.5\n",
       "6       23.5\n",
       "7        NaN\n",
       "8        NaN\n",
       "9       52.5\n",
       "10      70.0\n",
       "11      23.5\n",
       "12      37.0\n",
       "13      37.0\n",
       "14      37.0\n",
       "15      37.0\n",
       "16      37.0\n",
       "17      37.0\n",
       "18      37.0\n",
       "19      37.0\n",
       "20      37.0\n",
       "21      23.5\n",
       "22      37.0\n",
       "23      37.0\n",
       "24      37.0\n",
       "25      23.5\n",
       "26      37.0\n",
       "27      37.0\n",
       "28      23.5\n",
       "29      37.0\n",
       "30      37.0\n",
       "        ... \n",
       "1064    23.5\n",
       "1065    70.0\n",
       "1066    70.0\n",
       "1067    52.5\n",
       "1068    37.0\n",
       "1069    37.0\n",
       "1070    52.5\n",
       "1071    52.5\n",
       "1072    23.5\n",
       "1073    70.0\n",
       "1074    52.5\n",
       "1075    52.5\n",
       "1076    37.0\n",
       "1077    52.5\n",
       "1078    70.0\n",
       "1079    52.5\n",
       "1080    37.0\n",
       "1081    70.0\n",
       "1082    52.5\n",
       "1083     NaN\n",
       "1084    52.5\n",
       "1085    37.0\n",
       "1086    37.0\n",
       "1087    37.0\n",
       "1088    23.5\n",
       "1089    37.0\n",
       "1090    70.0\n",
       "1091    37.0\n",
       "1092    70.0\n",
       "1093    52.5\n",
       "dtype: float64"
      ]
     },
     "execution_count": 28,
     "metadata": {},
     "output_type": "execute_result"
    }
   ],
   "source": [
    "age_min_max = age.str.replace('> 60','60-80').str.split('-', expand=True).astype(float)\n",
    "age_mean = age_min_max.mean(axis=1)\n",
    "age_mean"
   ]
  },
  {
   "cell_type": "code",
   "execution_count": 29,
   "metadata": {
    "collapsed": false
   },
   "outputs": [
    {
     "name": "stdout",
     "output_type": "stream",
     "text": [
      "49.306122449\n",
      "56.0802919708\n"
     ]
    }
   ],
   "source": [
    "print age_mean[sleep_alone == \"Never\"].mean()\n",
    "print age_mean[sleep_alone == \"Every night\"].mean()"
   ]
  },
  {
   "cell_type": "code",
   "execution_count": null,
   "metadata": {
    "collapsed": true
   },
   "outputs": [],
   "source": []
  }
 ],
 "metadata": {
  "kernelspec": {
   "display_name": "Python 2",
   "language": "python",
   "name": "python2"
  },
  "language_info": {
   "codemirror_mode": {
    "name": "ipython",
    "version": 2
   },
   "file_extension": ".py",
   "mimetype": "text/x-python",
   "name": "python",
   "nbconvert_exporter": "python",
   "pygments_lexer": "ipython2",
   "version": "2.7.11"
  }
 },
 "nbformat": 4,
 "nbformat_minor": 0
}
