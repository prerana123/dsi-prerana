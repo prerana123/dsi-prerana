{
 "cells": [
  {
   "cell_type": "markdown",
   "metadata": {},
   "source": [
    "---\n",
    "title: Logistic Regression Lab\n",
    "type: lab\n",
    "duration: \"1:25\"\n",
    "creator:\n",
    "    name: Francesco Mosconi\n",
    "    city: SF\n",
    "---"
   ]
  },
  {
   "cell_type": "markdown",
   "metadata": {},
   "source": [
    "# ![](https://ga-dash.s3.amazonaws.com/production/assets/logo-9f88ae6c9c3871690e33280fcf557f33.png) Logistic Regression Lab\n",
    "\n",
    "Run LR with SKLearn using pipelines. Tune model.\n",
    "\n",
    "## Introduction\n",
    "\n",
    "In this lab you will combine the feature extraction pipeline that you created in the previous lab with an estimator in order to generate a classification prediction.\n",
    "\n",
    "## Exercise\n",
    "\n",
    "#### Requirements\n",
    "\n",
    "1. Build Pipeline\n",
    "2. Train the model\n",
    "3. Evaluate the model accuracy\n",
    "4. Improve the model\n",
    "5. Assess the tuned model\n",
    "\n",
    "**Bonus**\n",
    "- experiment with other scoring functions\n",
    "\n",
    "#### Starter code\n",
    "\n",
    "[Starter code](./assets/datasets/starter-code/starter-code-2_4.ipynb)\n",
    "\n",
    ">[Solution code](./assets/datasets/solution-code/solution-code-2_4.ipynb)\n",
    "\n",
    "## Additional Resources\n",
    "\n",
    "- [Scikit Learn metrics](http://scikit-learn.org/stable/modules/classes.html#module-sklearn.metrics)\n",
    "- [Scikit Learn pipelines](http://scikit-learn.org/stable/modules/pipeline.html)"
   ]
  },
  {
   "cell_type": "code",
   "execution_count": null,
   "metadata": {
    "collapsed": true
   },
   "outputs": [],
   "source": []
  }
 ],
 "metadata": {
  "kernelspec": {
   "display_name": "Python 2",
   "language": "python",
   "name": "python2"
  },
  "language_info": {
   "codemirror_mode": {
    "name": "ipython",
    "version": 2
   },
   "file_extension": ".py",
   "mimetype": "text/x-python",
   "name": "python",
   "nbconvert_exporter": "python",
   "pygments_lexer": "ipython2",
   "version": "2.7.11"
  }
 },
 "nbformat": 4,
 "nbformat_minor": 0
}
