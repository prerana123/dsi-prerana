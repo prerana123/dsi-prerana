{
 "cells": [
  {
   "cell_type": "markdown",
   "metadata": {},
   "source": [
    "---\n",
    "title: Project Pipeline\n",
    "type: lab\n",
    "duration: \"1:25\"\n",
    "creator:\n",
    "    name: Francesco Mosconi\n",
    "    city: SF\n",
    "---"
   ]
  },
  {
   "cell_type": "markdown",
   "metadata": {},
   "source": [
    "# ![](https://ga-dash.s3.amazonaws.com/production/assets/logo-9f88ae6c9c3871690e33280fcf557f33.png) Project Pipeline\n",
    "\n",
    "Setup pre-processing / pipelines for Project 5\n",
    "\n",
    "\n",
    "## Introduction\n",
    "\n",
    "> ***Note:*** _This can be a pair programming activity or done independently._\n",
    "\n",
    "In this lab you will practice being organized about your data processing steps and documenting each step well so the process is super clear and reproducible.\n",
    "\n",
    "In particular we will use create pipelines for data processing on the [Titanic dataset]('../../assets/datasets/train.csv').\n",
    "\n",
    "The dataset is a list of passengers. The second column of the dataset is a “label” for each person indicating whether that person survived (1) or did not survive (0). Here is the Kaggle page with more information on the dataset:\n",
    "\n",
    "http://www.kaggle.com/c/titanic-gettingStarted/data\n",
    "\n",
    "As a first step load the data in a pandas dataframe.\n",
    "\n",
    "## Exercise\n",
    "\n",
    "#### Requirements\n",
    "\n",
    "- Import the data\n",
    "- Impute missing data\n",
    "- Deal with categorical variables\n",
    "- Deal with boolean features\n",
    "- Deal with scale\n",
    "- Combine features\n",
    "\n",
    "**Bonus:**\n",
    "- Family feature\n",
    "\n",
    "#### Starter code\n",
    "\n",
    "> [Solution code](./assets/code/solution-code/solution-code-2_3.ipynb)\n",
    "\n",
    "[Starter code](./assets/code/starter-code/starter-code-2_3.ipynb)\n",
    "\n",
    "\n",
    "## Additional Resources\n",
    "\n",
    "- [Scikit Learn Pipelines Documentation](http://scikit-learn.org/stable/modules/pipeline.html#pipeline)"
   ]
  }
 ],
 "metadata": {
  "kernelspec": {
   "display_name": "Python 2",
   "language": "python",
   "name": "python2"
  },
  "language_info": {
   "codemirror_mode": {
    "name": "ipython",
    "version": 2
   },
   "file_extension": ".py",
   "mimetype": "text/x-python",
   "name": "python",
   "nbconvert_exporter": "python",
   "pygments_lexer": "ipython2",
   "version": "2.7.11"
  }
 },
 "nbformat": 4,
 "nbformat_minor": 0
}
