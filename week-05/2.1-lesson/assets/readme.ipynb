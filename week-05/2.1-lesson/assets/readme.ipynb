{
 "cells": [
  {
   "cell_type": "markdown",
   "metadata": {},
   "source": [
    "---\n",
    "title: Classification case studies\n",
    "duration: \"1:25\"\n",
    "creator:\n",
    "    name: Francesco Mosconi\n",
    "    city: SF\n",
    "---"
   ]
  },
  {
   "cell_type": "markdown",
   "metadata": {},
   "source": [
    "# ![](https://ga-dash.s3.amazonaws.com/production/assets/logo-9f88ae6c9c3871690e33280fcf557f33.png) Classification case studies\n",
    "Week 5 | Lesson 2.1"
   ]
  },
  {
   "cell_type": "markdown",
   "metadata": {},
   "source": [
    "### LEARNING OBJECTIVES\n",
    "*After this lesson, you will be able to:*\n",
    "- walk through realworld dataset case studies\n",
    "- map out the analytics/data science workflow used\n",
    "- discuss pros/cons of the methods involved"
   ]
  },
  {
   "cell_type": "markdown",
   "metadata": {},
   "source": [
    "### STUDENT PRE-WORK\n",
    "*Before this lesson, you should already be able to:*\n",
    "- perform EDA\n",
    "- perform classification\n",
    "- demonstrate proficiency with basic SQL syntax"
   ]
  },
  {
   "cell_type": "markdown",
   "metadata": {},
   "source": [
    "### INSTRUCTOR PREP\n",
    "*Before this lesson, instructors will need to:*\n",
    "- Read in / Review any dataset(s) & starter/solution code\n",
    "- Generate a brief slide deck\n",
    "- Prepare any specific materials\n",
    "- Provide students with additional resources"
   ]
  },
  {
   "cell_type": "markdown",
   "metadata": {},
   "source": [
    "### LESSON GUIDE\n",
    "| TIMING  | TYPE  | TOPIC  |\n",
    "|:-:|---|---|\n",
    "| 10 mins | [Opening](#opening) | Opening |\n",
    "| 25 mins | [Case](#case_1) | Default of Credit Card clients |\n",
    "| 25 mins | [Case](#case_2) | Chronic Kidney Disease |\n",
    "| 25 mins | [Case](#case_3) | Student Alcohol Consumption |\n",
    "| 5 mins | [Conclusion](#conclusion) | Conclusion |"
   ]
  },
  {
   "cell_type": "markdown",
   "metadata": {},
   "source": [
    "<a name=\"opening\"></a>\n",
    "## Opening (10 mins)\n",
    "In this class we will review several case studies in order to demonstrate how messy real data can be.\n",
    "\n",
    "**Check:** Can anyone explain what steps are involved in data cleaning and preparation?\n",
    "\n",
    "> Answer:\n",
    "Answers can include any of the following:\n",
    "- filling missing data\n",
    "- normalization\n",
    "- scaling\n",
    "\n",
    "**Check:** Can anyone explain what classification is and how it is performed? What methods have we learnt so far?\n",
    "\n",
    "> Answer:\n",
    "- KNN\n",
    "- Logistic Regression"
   ]
  },
  {
   "cell_type": "markdown",
   "metadata": {},
   "source": [
    "<a name=\"case_1\"></a>\n",
    "## Default of Credit Card clients (25 mins)\n",
    "\n",
    "Our first case is a study on the default of Credit Card Clients performed by Yeh et al. in 2009. The data Can be found in the UCI dataset repository.\n",
    "\n",
    "For this lesson you will be working in pairs. Take 10 minutes to have a look at the paper and the dataset below.\n",
    "\n",
    "[Credit Cards](http://archive.ics.uci.edu/ml/datasets/default+of+credit+card+clients)\n",
    "\n",
    "[Dataset]('./assets/datasets/default of credit card clients.xls')\n",
    "\n",
    "[Paper]('./assets/DefaultCreditCardClients_yeh_2009.pdf)\n",
    "\n",
    "See if you can answer the following questions:\n",
    "- What is the goal of the study? (hint: this is usually described in the abstract)\n",
    "> Compare the predictive accuracy of probability of default among six data mining methods.\n",
    "\n",
    "- What is the target variable (hint: look at the website and dataset)\n",
    "> a binary variable – default payment (Yes = 1, No = 0)\n",
    "\n",
    "- What models do they compare? (hint: although you have not yet seen all of them, try to grasp the differences)\n",
    "- How do they judge the goodness of a model? Do they use accuracy? if not, what do they use?\n",
    "> the study uses area ratio, instead of the error rate, to examine the classification accuracy among the six data mining techniques.\n",
    "\n",
    "- What validation method do they use? Simple train/test split? Cross Validation?\n",
    "> Train/test split\n",
    "\n",
    "- **Bonus:** Which model performs best?\n",
    "> Neural Networks"
   ]
  },
  {
   "cell_type": "markdown",
   "metadata": {},
   "source": [
    "## Chronic Kidney Disease (25 mins)\n",
    "\n",
    "Our second case study is an example of a poorly written study. Many papers have been written about the Chronic Kidney Disease Dataset on UCI. The one we've chose is particulary simple and not very good in quality. See if you can come up with observations on how to improve it.\n",
    "\n",
    "Spend 10 minutes to review the paper and the dataset, then answer the questions below.\n",
    "\n",
    "[Chronic Kidney Disease](http://archive.ics.uci.edu/ml/datasets/Chronic_Kidney_Disease)\n",
    "\n",
    "[Dataset](./assets/datasets/chronic_kidney_disease_full.csv)\n",
    "\n",
    "[Paper](./assets/Chronic Kidney Disease.pdf)\n",
    "\n",
    "Discuss:\n",
    "- What is the goal of the study? (hint: this is usually described in the abstract)\n",
    "> Compare KNN and SVM\n",
    "\n",
    "- What is the target variable (hint: look at the website and dataset)\n",
    "> binary variable\n",
    "\n",
    "- What models do they compare? (hint: although you have not yet seen all of them, try to grasp the differences)\n",
    "> KNN and SVM\n",
    "\n",
    "- How do they judge the goodness of a model? Do they use accuracy? if not, what do they use?\n",
    "> Accuracy, Precision, Recall, F1-score\n",
    "\n",
    "- What validation method do they use? Simple train/test split? Cross Validation?\n",
    "> Train/test\n",
    "\n",
    "- How could the paper be improved? Consider:\n",
    "    - is the text well organized?\n",
    "    - are the methods clear?\n",
    "    - are the results clear?\n",
    "    - are the graphs easy to understand?\n"
   ]
  },
  {
   "cell_type": "markdown",
   "metadata": {},
   "source": [
    "<a name=\"case_3\"></a>\n",
    "## Student Alcohol Consumption (25 mins)\n",
    "\n",
    "Our third case study is an investigation on alchool consumption amongst high school students performed by Pagnotta et al. Change pairs again, then take about 10 minutes to review the paper and datasets provided below.\n",
    "\n",
    "[Student Alcohol Consumption](http://archive.ics.uci.edu/ml/datasets/STUDENT+ALCOHOL+CONSUMPTION)\n",
    "\n",
    "[Dataset1](./assets/datasets/student-mat.csv)\n",
    "\n",
    "[Dataset2](./assets/datasets/student-mat.csv)\n",
    "\n",
    "[Paper](./assets/STUDENT ALCOHOL CONSUMPTION.pdf)\n",
    "\n",
    "Discuss:\n",
    "- What is the goal of the study? (hint: this is usually described in the abstract)\n",
    "> Predict the alchool consumption of hig school students\n",
    "\n",
    "- What is the target variable (hint: look at the website and dataset)\n",
    "> categorical variable with 5 classes (1 very low - 5 very high)\n",
    "\n",
    "- What models do they compare? (hint: although you have not yet seen all of them, try to grasp the differences)\n",
    "> Decision trees and Random forests\n",
    "\n",
    "- How do they judge the goodness of a model? Do they use accuracy? if not, what do they use?\n",
    "> Accuracy\n",
    "\n",
    "- What validation method do they use? Simple train/test split? Cross Validation?\n",
    "> Cross Validation\n",
    "\n",
    "- Do they have missing data? Which pre-processing techniques do they use?\n",
    "> They check and there is no missing data."
   ]
  },
  {
   "cell_type": "markdown",
   "metadata": {},
   "source": [
    "<a name=\"conclusion\"></a>\n",
    "## Conclusion (5 mins)\n",
    "We have reviewed few classification studies and explored the issues of data preparation, model building and model selection."
   ]
  },
  {
   "cell_type": "markdown",
   "metadata": {},
   "source": [
    "***\n",
    "\n",
    "### ADDITIONAL RESOURCES\n",
    "\n",
    "- [UCI Datasets](http://archive.ics.uci.edu/ml/datasets.html)"
   ]
  }
 ],
 "metadata": {
  "kernelspec": {
   "display_name": "Python 2",
   "language": "python",
   "name": "python2"
  },
  "language_info": {
   "codemirror_mode": {
    "name": "ipython",
    "version": 2
   },
   "file_extension": ".py",
   "mimetype": "text/x-python",
   "name": "python",
   "nbconvert_exporter": "python",
   "pygments_lexer": "ipython2",
   "version": "2.7.11"
  }
 },
 "nbformat": 4,
 "nbformat_minor": 0
}
