{
 "cells": [
  {
   "cell_type": "markdown",
   "metadata": {},
   "source": [
    "# Local Postgresql Database Lab\n",
    "\n",
    "In this lab we will practice adding and removing data from a local Postgresql database. We will:\n",
    "\n",
    "- Walk through instructions on how to set up and configure a local postgresql server\n",
    "- Create a database and a table using SQL and CRUD data in/from that table.\n",
    "- Learn how to copy data from a CSV file into this local database\n",
    "- Practice our SQL with a practice assignment."
   ]
  },
  {
   "cell_type": "markdown",
   "metadata": {},
   "source": [
    "## 1. Install PostgreSQL Locally\n",
    "\n",
    "You should have already taken care of this in the Installfest, but just in case, [here](http://www.postgresql.org/download/) are the instructions for the most common platforms."
   ]
  },
  {
   "cell_type": "markdown",
   "metadata": {},
   "source": [
    "## 2. Launch and connect to a local PostgreSQL server\n",
    "\n",
    "Now that you've installed PostgreSQL locally, practice connecting with the following methods:\n",
    "\n",
    "- [Postico](https://eggerapps.at/postico/docs/v1.0.6/)\n",
    "- Command-line (psql)\n",
    "- Sqlalchemy + Pandas\n",
    "- Ipython-notebook using the ipython-sql extension\n",
    "\n",
    "**Check:** List the existing databases, there should be none, right?\n",
    "> not true, there are some default databases from postgres\n",
    "\n",
    "**Check:** If there are databases, check the tables' contents."
   ]
  },
  {
   "cell_type": "code",
   "execution_count": 1,
   "metadata": {
    "collapsed": false
   },
   "outputs": [
    {
     "data": {
      "text/html": [
       "<div>\n",
       "<table border=\"1\" class=\"dataframe\">\n",
       "  <thead>\n",
       "    <tr style=\"text-align: right;\">\n",
       "      <th></th>\n",
       "      <th>table_catalog</th>\n",
       "      <th>table_schema</th>\n",
       "      <th>table_name</th>\n",
       "      <th>table_type</th>\n",
       "      <th>self_referencing_column_name</th>\n",
       "      <th>reference_generation</th>\n",
       "      <th>user_defined_type_catalog</th>\n",
       "      <th>user_defined_type_schema</th>\n",
       "      <th>user_defined_type_name</th>\n",
       "      <th>is_insertable_into</th>\n",
       "      <th>is_typed</th>\n",
       "      <th>commit_action</th>\n",
       "    </tr>\n",
       "  </thead>\n",
       "  <tbody>\n",
       "    <tr>\n",
       "      <th>0</th>\n",
       "      <td>prerana</td>\n",
       "      <td>pg_catalog</td>\n",
       "      <td>pg_statistic</td>\n",
       "      <td>BASE TABLE</td>\n",
       "      <td>None</td>\n",
       "      <td>None</td>\n",
       "      <td>None</td>\n",
       "      <td>None</td>\n",
       "      <td>None</td>\n",
       "      <td>YES</td>\n",
       "      <td>NO</td>\n",
       "      <td>None</td>\n",
       "    </tr>\n",
       "    <tr>\n",
       "      <th>1</th>\n",
       "      <td>prerana</td>\n",
       "      <td>pg_catalog</td>\n",
       "      <td>pg_type</td>\n",
       "      <td>BASE TABLE</td>\n",
       "      <td>None</td>\n",
       "      <td>None</td>\n",
       "      <td>None</td>\n",
       "      <td>None</td>\n",
       "      <td>None</td>\n",
       "      <td>YES</td>\n",
       "      <td>NO</td>\n",
       "      <td>None</td>\n",
       "    </tr>\n",
       "    <tr>\n",
       "      <th>2</th>\n",
       "      <td>prerana</td>\n",
       "      <td>pg_catalog</td>\n",
       "      <td>pg_authid</td>\n",
       "      <td>BASE TABLE</td>\n",
       "      <td>None</td>\n",
       "      <td>None</td>\n",
       "      <td>None</td>\n",
       "      <td>None</td>\n",
       "      <td>None</td>\n",
       "      <td>YES</td>\n",
       "      <td>NO</td>\n",
       "      <td>None</td>\n",
       "    </tr>\n",
       "  </tbody>\n",
       "</table>\n",
       "</div>"
      ],
      "text/plain": [
       "  table_catalog table_schema    table_name  table_type  \\\n",
       "0       prerana   pg_catalog  pg_statistic  BASE TABLE   \n",
       "1       prerana   pg_catalog       pg_type  BASE TABLE   \n",
       "2       prerana   pg_catalog     pg_authid  BASE TABLE   \n",
       "\n",
       "  self_referencing_column_name reference_generation user_defined_type_catalog  \\\n",
       "0                         None                 None                      None   \n",
       "1                         None                 None                      None   \n",
       "2                         None                 None                      None   \n",
       "\n",
       "  user_defined_type_schema user_defined_type_name is_insertable_into is_typed  \\\n",
       "0                     None                   None                YES       NO   \n",
       "1                     None                   None                YES       NO   \n",
       "2                     None                   None                YES       NO   \n",
       "\n",
       "  commit_action  \n",
       "0          None  \n",
       "1          None  \n",
       "2          None  "
      ]
     },
     "execution_count": 1,
     "metadata": {},
     "output_type": "execute_result"
    }
   ],
   "source": [
    "#- from sqlalchemy\n",
    "from sqlalchemy import create_engine\n",
    "import pandas as pd\n",
    "engine = create_engine('postgresql://localhost:5432')\n",
    "pd.read_sql(\"SELECT * FROM information_schema.tables LIMIT 3;\", engine)"
   ]
  },
  {
   "cell_type": "code",
   "execution_count": 12,
   "metadata": {
    "collapsed": false
   },
   "outputs": [
    {
     "name": "stdout",
     "output_type": "stream",
     "text": [
      "The sql extension is already loaded. To reload it, use:\n",
      "  %reload_ext sql\n"
     ]
    }
   ],
   "source": [
    "# - the ipython-notebook using the ipython-sql extension\n",
    "%load_ext sql"
   ]
  },
  {
   "cell_type": "code",
   "execution_count": 13,
   "metadata": {
    "collapsed": false
   },
   "outputs": [
    {
     "name": "stdout",
     "output_type": "stream",
     "text": [
      "3 rows affected.\n"
     ]
    },
    {
     "data": {
      "text/html": [
       "<table>\n",
       "    <tr>\n",
       "        <th>table_catalog</th>\n",
       "        <th>table_schema</th>\n",
       "        <th>table_name</th>\n",
       "        <th>table_type</th>\n",
       "        <th>self_referencing_column_name</th>\n",
       "        <th>reference_generation</th>\n",
       "        <th>user_defined_type_catalog</th>\n",
       "        <th>user_defined_type_schema</th>\n",
       "        <th>user_defined_type_name</th>\n",
       "        <th>is_insertable_into</th>\n",
       "        <th>is_typed</th>\n",
       "        <th>commit_action</th>\n",
       "    </tr>\n",
       "    <tr>\n",
       "        <td>prerana</td>\n",
       "        <td>pg_catalog</td>\n",
       "        <td>pg_statistic</td>\n",
       "        <td>BASE TABLE</td>\n",
       "        <td>None</td>\n",
       "        <td>None</td>\n",
       "        <td>None</td>\n",
       "        <td>None</td>\n",
       "        <td>None</td>\n",
       "        <td>YES</td>\n",
       "        <td>NO</td>\n",
       "        <td>None</td>\n",
       "    </tr>\n",
       "    <tr>\n",
       "        <td>prerana</td>\n",
       "        <td>pg_catalog</td>\n",
       "        <td>pg_type</td>\n",
       "        <td>BASE TABLE</td>\n",
       "        <td>None</td>\n",
       "        <td>None</td>\n",
       "        <td>None</td>\n",
       "        <td>None</td>\n",
       "        <td>None</td>\n",
       "        <td>YES</td>\n",
       "        <td>NO</td>\n",
       "        <td>None</td>\n",
       "    </tr>\n",
       "    <tr>\n",
       "        <td>prerana</td>\n",
       "        <td>pg_catalog</td>\n",
       "        <td>pg_authid</td>\n",
       "        <td>BASE TABLE</td>\n",
       "        <td>None</td>\n",
       "        <td>None</td>\n",
       "        <td>None</td>\n",
       "        <td>None</td>\n",
       "        <td>None</td>\n",
       "        <td>YES</td>\n",
       "        <td>NO</td>\n",
       "        <td>None</td>\n",
       "    </tr>\n",
       "</table>"
      ],
      "text/plain": [
       "[(u'prerana', u'pg_catalog', u'pg_statistic', u'BASE TABLE', None, None, None, None, None, u'YES', u'NO', None),\n",
       " (u'prerana', u'pg_catalog', u'pg_type', u'BASE TABLE', None, None, None, None, None, u'YES', u'NO', None),\n",
       " (u'prerana', u'pg_catalog', u'pg_authid', u'BASE TABLE', None, None, None, None, None, u'YES', u'NO', None)]"
      ]
     },
     "execution_count": 13,
     "metadata": {},
     "output_type": "execute_result"
    }
   ],
   "source": [
    "%%sql postgresql://localhost:5432\n",
    "\n",
    "SELECT * FROM information_schema.tables LIMIT 3;"
   ]
  },
  {
   "cell_type": "markdown",
   "metadata": {},
   "source": [
    "## 3. Create DB\n",
    "Once you are connected to your local Postgresql server, create a new database. Call it `lab33`.\n",
    "\n",
    "Practice creating and deleting the database with the following methods:\n",
    "\n",
    "- Postico\n",
    "- Command-line:\n",
    ">     create database lab33\n",
    ">     drop database lab33\n",
    "\n",
    "- Sqlalchemy\n",
    "- Ipython-notebook using the ipython-sql extension\n",
    "\n",
    "**Check:** If you create a DB in Postico, do you see it from the command-line?\n",
    "> Yes\n",
    "\n",
    "**Check:** What does this tell us about multiple connections to the same db?\n",
    "> Multiple users/connections are possible and the data is consistent. Postgres is relational -> ACID."
   ]
  },
  {
   "cell_type": "code",
   "execution_count": 14,
   "metadata": {
    "collapsed": false
   },
   "outputs": [],
   "source": [
    "# sqlalchemy\n",
    "# conn = engine.connect()\n",
    "# conn.execute(\"commit\")\n",
    "# conn.execute(\"create database lab33\")\n",
    "# conn.close()"
   ]
  },
  {
   "cell_type": "code",
   "execution_count": 15,
   "metadata": {
    "collapsed": false
   },
   "outputs": [
    {
     "name": "stdout",
     "output_type": "stream",
     "text": [
      "(psycopg2.ProgrammingError) database \"lab33\" already exists\n",
      " [SQL: 'create database lab33']\n"
     ]
    }
   ],
   "source": [
    "%%sql\n",
    "create database lab33\n"
   ]
  },
  {
   "cell_type": "markdown",
   "metadata": {},
   "source": [
    "## 4. CRUD (Create, Read, Update, and Delete)\n",
    "\n",
    "In lesson 1.1 you learned how to add and remove data from sqlite. Let's review that on our local PostgreSQL installation."
   ]
  },
  {
   "cell_type": "markdown",
   "metadata": {},
   "source": [
    "### 4.a: Creating Tables and Adding Columns\n",
    "\n",
    "1. Create an table called `table1` with a single column `field1` containing an INTEGER PRIMARY KEY. Practice doing this with any of the methods above.\n",
    "- Add a few more columns to `table1`:\n",
    "    - field2 VARCHAR(16)\n",
    "    - field3 REAL\n",
    "    - field4 TEXT\n",
    "check [the doc](http://www.postgresql.org/docs/9.3/static/datatype.html) for more info on data types supported by postgresql.\n",
    "- Check tables and schemas using command line or postico"
   ]
  },
  {
   "cell_type": "code",
   "execution_count": 16,
   "metadata": {
    "collapsed": false
   },
   "outputs": [
    {
     "name": "stdout",
     "output_type": "stream",
     "text": [
      "(psycopg2.ProgrammingError) relation \"table1\" already exists\n",
      " [SQL: 'CREATE TABLE table1 (field1 INTEGER PRIMARY KEY);']\n"
     ]
    }
   ],
   "source": [
    "%%sql postgresql://localhost:5432/lab33\n",
    "\n",
    "CREATE TABLE table1 (field1 INTEGER PRIMARY KEY);"
   ]
  },
  {
   "cell_type": "code",
   "execution_count": 20,
   "metadata": {
    "collapsed": false
   },
   "outputs": [
    {
     "name": "stdout",
     "output_type": "stream",
     "text": [
      "(psycopg2.ProgrammingError) column \"field2\" of relation \"table1\" already exists\n",
      " [SQL: 'ALTER TABLE table1 ADD COLUMN field2 VARCHAR(16);']\n"
     ]
    }
   ],
   "source": [
    "%%sql \n",
    "ALTER TABLE table1 ADD COLUMN field2 VARCHAR(16);\n",
    "ALTER TABLE table1 ADD COLUMN field3 REAL;\n",
    "ALTER TABLE table1 ADD COLUMN field4 TEXT;\n",
    "select * from table1;"
   ]
  },
  {
   "cell_type": "code",
   "execution_count": 21,
   "metadata": {
    "collapsed": false
   },
   "outputs": [
    {
     "name": "stdout",
     "output_type": "stream",
     "text": [
      "0 rows affected.\n"
     ]
    },
    {
     "data": {
      "text/html": [
       "<table>\n",
       "    <tr>\n",
       "        <th>field1</th>\n",
       "        <th>field2</th>\n",
       "        <th>field3</th>\n",
       "        <th>field4</th>\n",
       "    </tr>\n",
       "</table>"
      ],
      "text/plain": [
       "[]"
      ]
     },
     "execution_count": 21,
     "metadata": {},
     "output_type": "execute_result"
    }
   ],
   "source": [
    "%%sql\n",
    "select * from table1;"
   ]
  },
  {
   "cell_type": "markdown",
   "metadata": {},
   "source": [
    "### 4.b: Add Data\n",
    "\n",
    "Add some data to `table1`:\n",
    "\n",
    "|field1|field2|field3|field4|\n",
    "|----|\n",
    "|1|'Henry James'|42|'75 Mission Street, San Francisco, CA'|\n",
    "|2|'Carol James'|40|'75 Mission Street, San Francisco, CA'|\n",
    "|3|'Jesse James'|12|'75 Mission Street, San Francisco, CA'|"
   ]
  },
  {
   "cell_type": "code",
   "execution_count": 23,
   "metadata": {
    "collapsed": false
   },
   "outputs": [
    {
     "name": "stdout",
     "output_type": "stream",
     "text": [
      "1 rows affected.\n",
      "1 rows affected.\n",
      "1 rows affected.\n"
     ]
    },
    {
     "data": {
      "text/plain": [
       "[]"
      ]
     },
     "execution_count": 23,
     "metadata": {},
     "output_type": "execute_result"
    }
   ],
   "source": [
    "%%sql\n",
    "INSERT INTO table1 VALUES (1, 'Henry James', 42, '75 Mission Street, San Francisco, CA');\n",
    "INSERT INTO table1 VALUES (2, 'Carol James', 40, '75 Mission Street, San Francisco, CA');\n",
    "INSERT INTO table1 VALUES (3, 'Jesse James', 12, '75 Mission Street, San Francisco, CA');\n"
   ]
  },
  {
   "cell_type": "markdown",
   "metadata": {},
   "source": [
    "### 4.c: Read Data\n",
    "Read the content of the table,"
   ]
  },
  {
   "cell_type": "code",
   "execution_count": 25,
   "metadata": {
    "collapsed": false
   },
   "outputs": [
    {
     "name": "stdout",
     "output_type": "stream",
     "text": [
      "3 rows affected.\n"
     ]
    },
    {
     "data": {
      "text/html": [
       "<table>\n",
       "    <tr>\n",
       "        <th>field1</th>\n",
       "        <th>field2</th>\n",
       "        <th>field3</th>\n",
       "        <th>field4</th>\n",
       "    </tr>\n",
       "    <tr>\n",
       "        <td>1</td>\n",
       "        <td>Henry James</td>\n",
       "        <td>42.0</td>\n",
       "        <td>75 Mission Street, San Francisco, CA</td>\n",
       "    </tr>\n",
       "    <tr>\n",
       "        <td>2</td>\n",
       "        <td>Carol James</td>\n",
       "        <td>40.0</td>\n",
       "        <td>75 Mission Street, San Francisco, CA</td>\n",
       "    </tr>\n",
       "    <tr>\n",
       "        <td>3</td>\n",
       "        <td>Jesse James</td>\n",
       "        <td>12.0</td>\n",
       "        <td>75 Mission Street, San Francisco, CA</td>\n",
       "    </tr>\n",
       "</table>"
      ],
      "text/plain": [
       "[(1, u'Henry James', 42.0, u'75 Mission Street, San Francisco, CA'),\n",
       " (2, u'Carol James', 40.0, u'75 Mission Street, San Francisco, CA'),\n",
       " (3, u'Jesse James', 12.0, u'75 Mission Street, San Francisco, CA')]"
      ]
     },
     "execution_count": 25,
     "metadata": {},
     "output_type": "execute_result"
    }
   ],
   "source": [
    "%%sql\n",
    "select * from table1;"
   ]
  },
  {
   "cell_type": "markdown",
   "metadata": {},
   "source": [
    "### 4.d: Update Records\n",
    "Suppose we need to update an existing record with new data - e.g. maybe `Jesse James` is only 9. Use the update command to do this."
   ]
  },
  {
   "cell_type": "code",
   "execution_count": 26,
   "metadata": {
    "collapsed": false
   },
   "outputs": [
    {
     "name": "stdout",
     "output_type": "stream",
     "text": [
      "1 rows affected.\n",
      "3 rows affected.\n"
     ]
    },
    {
     "data": {
      "text/html": [
       "<table>\n",
       "    <tr>\n",
       "        <th>field1</th>\n",
       "        <th>field2</th>\n",
       "        <th>field3</th>\n",
       "        <th>field4</th>\n",
       "    </tr>\n",
       "    <tr>\n",
       "        <td>1</td>\n",
       "        <td>Henry James</td>\n",
       "        <td>42.0</td>\n",
       "        <td>75 Mission Street, San Francisco, CA</td>\n",
       "    </tr>\n",
       "    <tr>\n",
       "        <td>2</td>\n",
       "        <td>Carol James</td>\n",
       "        <td>40.0</td>\n",
       "        <td>75 Mission Street, San Francisco, CA</td>\n",
       "    </tr>\n",
       "    <tr>\n",
       "        <td>3</td>\n",
       "        <td>Jesse James</td>\n",
       "        <td>9.0</td>\n",
       "        <td>75 Mission Street, San Francisco, CA</td>\n",
       "    </tr>\n",
       "</table>"
      ],
      "text/plain": [
       "[(1, u'Henry James', 42.0, u'75 Mission Street, San Francisco, CA'),\n",
       " (2, u'Carol James', 40.0, u'75 Mission Street, San Francisco, CA'),\n",
       " (3, u'Jesse James', 9.0, u'75 Mission Street, San Francisco, CA')]"
      ]
     },
     "execution_count": 26,
     "metadata": {},
     "output_type": "execute_result"
    }
   ],
   "source": [
    "%%sql\n",
    "UPDATE table1 SET field3=9 WHERE field1=3;\n",
    "select * from table1;"
   ]
  },
  {
   "cell_type": "markdown",
   "metadata": {},
   "source": [
    "### 4.e: Remove Records\n",
    "To remove records use the DELETE command. Delete the entry for anyone matching `Jesse`."
   ]
  },
  {
   "cell_type": "code",
   "execution_count": 30,
   "metadata": {
    "collapsed": false
   },
   "outputs": [
    {
     "name": "stdout",
     "output_type": "stream",
     "text": [
      "1 rows affected.\n",
      "2 rows affected.\n"
     ]
    },
    {
     "data": {
      "text/html": [
       "<table>\n",
       "    <tr>\n",
       "        <th>field1</th>\n",
       "        <th>field2</th>\n",
       "        <th>field3</th>\n",
       "        <th>field4</th>\n",
       "    </tr>\n",
       "    <tr>\n",
       "        <td>1</td>\n",
       "        <td>Henry James</td>\n",
       "        <td>42.0</td>\n",
       "        <td>75 Mission Street, San Francisco, CA</td>\n",
       "    </tr>\n",
       "    <tr>\n",
       "        <td>2</td>\n",
       "        <td>Carol James</td>\n",
       "        <td>40.0</td>\n",
       "        <td>75 Mission Street, San Francisco, CA</td>\n",
       "    </tr>\n",
       "</table>"
      ],
      "text/plain": [
       "[(1, u'Henry James', 42.0, u'75 Mission Street, San Francisco, CA'),\n",
       " (2, u'Carol James', 40.0, u'75 Mission Street, San Francisco, CA')]"
      ]
     },
     "execution_count": 30,
     "metadata": {},
     "output_type": "execute_result"
    }
   ],
   "source": [
    "%%sql\n",
    "DELETE FROM table1 WHERE field2 like '%Jesse%';\n",
    "select * from table1;"
   ]
  },
  {
   "cell_type": "markdown",
   "metadata": {},
   "source": [
    "## 5. Data from CSV\n",
    "\n",
    "Copy CSV data from a local file into a local PostgreSQL database. We will use a [dataset](../../assets/datasets/Eviction_Notices.csv) pulled from the SF open data website. It contains a set of eviction notices issued in San Francisco.\n",
    "\n",
    "Open the data in a text editor and have a look at it."
   ]
  },
  {
   "cell_type": "markdown",
   "metadata": {},
   "source": [
    "### 5.a: Simple Import\n",
    "\n",
    "Read [this post](http://stackoverflow.com/questions/2987433/how-to-import-csv-file-data-into-a-postgresql-table) to learn how you can import data from CSV to PostgreSQL.\n",
    "\n",
    "Notice that you have to decide the type for each column. Let's keep it simple and import everything as a string of text for now.\n",
    "\n",
    "- Create a table called `evictions_simple` and import the data as varchar.\n",
    "- Check that everything worked fine by loading a few lines from the table.\n",
    "- Try some simple queries:\n",
    "    - count how many evictions are due to non_payments\n",
    "    - list the 3 most recent evictions\n",
    "\n",
    "\n",
    "**Hint:** A good practice when you create a new table is to always drop it first, in case it already exists.\n",
    "\n",
    "**Check:** Did you avoid importing the header as a record?"
   ]
  },
  {
   "cell_type": "code",
   "execution_count": 31,
   "metadata": {
    "collapsed": false
   },
   "outputs": [
    {
     "name": "stdout",
     "output_type": "stream",
     "text": [
      "Done.\n",
      "Done.\n",
      "(psycopg2.OperationalError) could not open file \"../../assets/datasets/Eviction_Notices.csv\" for reading: No such file or directory\n",
      " [SQL: \"COPY evictions_simple FROM '../../assets/datasets/Eviction_Notices.csv' DELIMITER ',' CSV HEADER;\"]\n"
     ]
    }
   ],
   "source": [
    "%%sql\n",
    "DROP TABLE IF EXISTS evictions_simple;\n",
    "CREATE TABLE evictions_simple\n",
    "(eviction_id varchar,\n",
    " address varchar,\n",
    " city varchar,\n",
    " state varchar,\n",
    " zip varchar,\n",
    " file_date varchar,\n",
    " non_payment varchar,\n",
    " breach varchar,\n",
    " nuisance varchar,\n",
    " illegal_use varchar,\n",
    " failure_to_sign_renewal varchar,\n",
    " access_denial varchar,\n",
    " unapproved_subtenant varchar,\n",
    " owner_move_in varchar,\n",
    " demolition varchar,\n",
    " capital_improvement varchar,\n",
    " substantial_rehab varchar,\n",
    " ellis_act_withdrawal varchar,\n",
    " condo_conversion varchar,\n",
    " roommate_same_unit varchar,\n",
    " other_cause varchar,\n",
    " late_payments varchar,\n",
    " lead_remediation varchar,\n",
    " development varchar,\n",
    " good_samaritan_ends varchar,\n",
    " constraints varchar,\n",
    " constraints_date varchar,\n",
    " supervisor_district varchar,\n",
    " neighborhood varchar,\n",
    " client_location varchar);\n",
    "\n",
    "\n",
    "COPY evictions_simple FROM '../../assets/datasets/Eviction_Notices.csv' DELIMITER ',' CSV HEADER;"
   ]
  },
  {
   "cell_type": "code",
   "execution_count": 32,
   "metadata": {
    "collapsed": false
   },
   "outputs": [
    {
     "name": "stdout",
     "output_type": "stream",
     "text": [
      "0 rows affected.\n"
     ]
    },
    {
     "data": {
      "text/html": [
       "<table>\n",
       "    <tr>\n",
       "        <th>eviction_id</th>\n",
       "        <th>address</th>\n",
       "        <th>city</th>\n",
       "        <th>state</th>\n",
       "        <th>zip</th>\n",
       "        <th>file_date</th>\n",
       "        <th>non_payment</th>\n",
       "        <th>breach</th>\n",
       "        <th>nuisance</th>\n",
       "        <th>illegal_use</th>\n",
       "        <th>failure_to_sign_renewal</th>\n",
       "        <th>access_denial</th>\n",
       "        <th>unapproved_subtenant</th>\n",
       "        <th>owner_move_in</th>\n",
       "        <th>demolition</th>\n",
       "        <th>capital_improvement</th>\n",
       "        <th>substantial_rehab</th>\n",
       "        <th>ellis_act_withdrawal</th>\n",
       "        <th>condo_conversion</th>\n",
       "        <th>roommate_same_unit</th>\n",
       "        <th>other_cause</th>\n",
       "        <th>late_payments</th>\n",
       "        <th>lead_remediation</th>\n",
       "        <th>development</th>\n",
       "        <th>good_samaritan_ends</th>\n",
       "        <th>constraints</th>\n",
       "        <th>constraints_date</th>\n",
       "        <th>supervisor_district</th>\n",
       "        <th>neighborhood</th>\n",
       "        <th>client_location</th>\n",
       "    </tr>\n",
       "</table>"
      ],
      "text/plain": [
       "[]"
      ]
     },
     "execution_count": 32,
     "metadata": {},
     "output_type": "execute_result"
    }
   ],
   "source": [
    "%%sql\n",
    "select * from evictions_simple limit 3;"
   ]
  },
  {
   "cell_type": "code",
   "execution_count": 33,
   "metadata": {
    "collapsed": false
   },
   "outputs": [
    {
     "name": "stdout",
     "output_type": "stream",
     "text": [
      "1 rows affected.\n"
     ]
    },
    {
     "data": {
      "text/html": [
       "<table>\n",
       "    <tr>\n",
       "        <th>count</th>\n",
       "    </tr>\n",
       "    <tr>\n",
       "        <td>0</td>\n",
       "    </tr>\n",
       "</table>"
      ],
      "text/plain": [
       "[(0L,)]"
      ]
     },
     "execution_count": 33,
     "metadata": {},
     "output_type": "execute_result"
    }
   ],
   "source": [
    "%%sql\n",
    "select count(*) from evictions_simple\n",
    "where non_payment = 'true';"
   ]
  },
  {
   "cell_type": "code",
   "execution_count": 34,
   "metadata": {
    "collapsed": false
   },
   "outputs": [
    {
     "name": "stdout",
     "output_type": "stream",
     "text": [
      "0 rows affected.\n"
     ]
    },
    {
     "data": {
      "text/html": [
       "<table>\n",
       "    <tr>\n",
       "        <th>eviction_id</th>\n",
       "        <th>address</th>\n",
       "        <th>city</th>\n",
       "        <th>state</th>\n",
       "        <th>zip</th>\n",
       "        <th>file_date</th>\n",
       "        <th>non_payment</th>\n",
       "        <th>breach</th>\n",
       "        <th>nuisance</th>\n",
       "        <th>illegal_use</th>\n",
       "        <th>failure_to_sign_renewal</th>\n",
       "        <th>access_denial</th>\n",
       "        <th>unapproved_subtenant</th>\n",
       "        <th>owner_move_in</th>\n",
       "        <th>demolition</th>\n",
       "        <th>capital_improvement</th>\n",
       "        <th>substantial_rehab</th>\n",
       "        <th>ellis_act_withdrawal</th>\n",
       "        <th>condo_conversion</th>\n",
       "        <th>roommate_same_unit</th>\n",
       "        <th>other_cause</th>\n",
       "        <th>late_payments</th>\n",
       "        <th>lead_remediation</th>\n",
       "        <th>development</th>\n",
       "        <th>good_samaritan_ends</th>\n",
       "        <th>constraints</th>\n",
       "        <th>constraints_date</th>\n",
       "        <th>supervisor_district</th>\n",
       "        <th>neighborhood</th>\n",
       "        <th>client_location</th>\n",
       "    </tr>\n",
       "</table>"
      ],
      "text/plain": [
       "[]"
      ]
     },
     "execution_count": 34,
     "metadata": {},
     "output_type": "execute_result"
    }
   ],
   "source": [
    "%%sql\n",
    "select * from evictions_simple\n",
    "order by file_date desc\n",
    "limit 3;"
   ]
  },
  {
   "cell_type": "markdown",
   "metadata": {},
   "source": [
    "### 5.b: Data Cleaning and Import\n",
    "\n",
    "If you've executed the last query correctly (most recent evictions), you'll have noticed that the dates are not correctly understood. This is because we were sloppy and imported the data as string for all fields.\n",
    "\n",
    "Let's see what data types we would ideally like to have for each column.\n",
    "\n",
    "[Here are data types](http://www.tutorialspoint.com/postgresql/postgresql_data_types.htm)\n",
    "\n",
    "- Discuss in pairs each column and then let's summarize together. Which data type would you choose for each field?\n",
    "- Repeat the import to a new table called `evictions`. Notice that line 31494 may throw an error. Why is that?\n",
    "> There are two ` characters that do not belong.\n",
    "- Repeat the query for the 3 most recent evictions. Does it work now?"
   ]
  },
  {
   "cell_type": "code",
   "execution_count": 58,
   "metadata": {
    "collapsed": false
   },
   "outputs": [
    {
     "name": "stdout",
     "output_type": "stream",
     "text": [
      "Done.\n",
      "Done.\n",
      "(psycopg2.OperationalError) could not open file \"/assets/datasets/Eviction_Notices.csv\" for reading: No such file or directory\n",
      " [SQL: \"COPY evictions FROM '/assets/datasets/Eviction_Notices.csv' DELIMITER ',' CSV HEADER;\"]\n"
     ]
    }
   ],
   "source": [
    "%%sql\n",
    "DROP TABLE IF EXISTS evictions;\n",
    "CREATE TABLE evictions\n",
    "(eviction_id varchar,\n",
    " address varchar,\n",
    " city varchar,\n",
    " state char(2),\n",
    " zip char(5),\n",
    " file_date date,\n",
    " non_payment boolean,\n",
    " breach boolean,\n",
    " nuisance boolean,\n",
    " illegal_use boolean,\n",
    " failure_to_sign_renewal boolean,\n",
    " access_denial boolean,\n",
    " unapproved_subtenant boolean,\n",
    " owner_move_in boolean,\n",
    " demolition boolean,\n",
    " capital_improvement boolean,\n",
    " substantial_rehab boolean,\n",
    " ellis_act_withdrawal boolean,\n",
    " condo_conversion boolean,\n",
    " roommate_same_unit boolean,\n",
    " other_cause boolean,\n",
    " late_payments boolean,\n",
    " lead_remediation boolean,\n",
    " development boolean,\n",
    " good_samaritan_ends boolean,\n",
    " constraints boolean,\n",
    " constraints_date date,\n",
    " supervisor_district integer,\n",
    " neighborhood varchar,\n",
    " client_location varchar);\n",
    "\n",
    "\n",
    "COPY evictions FROM '/assets/datasets/Eviction_Notices.csv' DELIMITER ',' CSV HEADER;"
   ]
  },
  {
   "cell_type": "code",
   "execution_count": 55,
   "metadata": {
    "collapsed": false
   },
   "outputs": [
    {
     "name": "stdout",
     "output_type": "stream",
     "text": [
      "0 rows affected.\n"
     ]
    },
    {
     "data": {
      "text/html": [
       "<table>\n",
       "    <tr>\n",
       "        <th>eviction_id</th>\n",
       "        <th>address</th>\n",
       "        <th>city</th>\n",
       "        <th>state</th>\n",
       "        <th>zip</th>\n",
       "        <th>file_date</th>\n",
       "        <th>non_payment</th>\n",
       "        <th>breach</th>\n",
       "        <th>nuisance</th>\n",
       "        <th>illegal_use</th>\n",
       "        <th>failure_to_sign_renewal</th>\n",
       "        <th>access_denial</th>\n",
       "        <th>unapproved_subtenant</th>\n",
       "        <th>owner_move_in</th>\n",
       "        <th>demolition</th>\n",
       "        <th>capital_improvement</th>\n",
       "        <th>substantial_rehab</th>\n",
       "        <th>ellis_act_withdrawal</th>\n",
       "        <th>condo_conversion</th>\n",
       "        <th>roommate_same_unit</th>\n",
       "        <th>other_cause</th>\n",
       "        <th>late_payments</th>\n",
       "        <th>lead_remediation</th>\n",
       "        <th>development</th>\n",
       "        <th>good_samaritan_ends</th>\n",
       "        <th>constraints</th>\n",
       "        <th>constraints_date</th>\n",
       "        <th>supervisor_district</th>\n",
       "        <th>neighborhood</th>\n",
       "        <th>client_location</th>\n",
       "    </tr>\n",
       "</table>"
      ],
      "text/plain": [
       "[]"
      ]
     },
     "execution_count": 55,
     "metadata": {},
     "output_type": "execute_result"
    }
   ],
   "source": [
    "%%sql\n",
    "select * from evictions\n",
    "order by file_date desc\n",
    "limit 3;"
   ]
  },
  {
   "cell_type": "markdown",
   "metadata": {},
   "source": [
    "## 6. Queries\n",
    "\n",
    "Now that we have imported the data with correct data types, let's query the `evictions` table and find out a few things about SF and evictions.\n",
    "\n",
    "Questions:\n",
    "- How many neighborhoods are there in SF? List them alphabetically\n",
    "- How many supervisor districts? \n",
    "- How many unique zip codes?\n",
    "    - Are there any bad data in these? how many?\n",
    "- What are the top 5 causes of eviction?"
   ]
  },
  {
   "cell_type": "markdown",
   "metadata": {},
   "source": [
    "### 6.a: How many neighborhoods are there in SF? List them alphabetically."
   ]
  },
  {
   "cell_type": "code",
   "execution_count": 37,
   "metadata": {
    "collapsed": false
   },
   "outputs": [
    {
     "name": "stdout",
     "output_type": "stream",
     "text": [
      "1 rows affected.\n"
     ]
    },
    {
     "data": {
      "text/html": [
       "<table>\n",
       "    <tr>\n",
       "        <th>count</th>\n",
       "    </tr>\n",
       "    <tr>\n",
       "        <td>0</td>\n",
       "    </tr>\n",
       "</table>"
      ],
      "text/plain": [
       "[(0L,)]"
      ]
     },
     "execution_count": 37,
     "metadata": {},
     "output_type": "execute_result"
    }
   ],
   "source": [
    "%%sql\n",
    "select count(distinct neighborhood) from evictions;"
   ]
  },
  {
   "cell_type": "code",
   "execution_count": 38,
   "metadata": {
    "collapsed": false
   },
   "outputs": [
    {
     "name": "stdout",
     "output_type": "stream",
     "text": [
      "0 rows affected.\n"
     ]
    },
    {
     "data": {
      "text/html": [
       "<table>\n",
       "    <tr>\n",
       "        <th>neighborhood</th>\n",
       "    </tr>\n",
       "</table>"
      ],
      "text/plain": [
       "[]"
      ]
     },
     "execution_count": 38,
     "metadata": {},
     "output_type": "execute_result"
    }
   ],
   "source": [
    "%%sql\n",
    "select distinct neighborhood from evictions\n",
    "order by neighborhood;"
   ]
  },
  {
   "cell_type": "markdown",
   "metadata": {},
   "source": [
    "### 6.b: How many supervisor districts?"
   ]
  },
  {
   "cell_type": "code",
   "execution_count": 39,
   "metadata": {
    "collapsed": false
   },
   "outputs": [
    {
     "name": "stdout",
     "output_type": "stream",
     "text": [
      "0 rows affected.\n"
     ]
    },
    {
     "data": {
      "text/html": [
       "<table>\n",
       "    <tr>\n",
       "        <th>supervisor_district</th>\n",
       "    </tr>\n",
       "</table>"
      ],
      "text/plain": [
       "[]"
      ]
     },
     "execution_count": 39,
     "metadata": {},
     "output_type": "execute_result"
    }
   ],
   "source": [
    "%%sql\n",
    "select distinct supervisor_district from evictions\n",
    "order by supervisor_district;"
   ]
  },
  {
   "cell_type": "markdown",
   "metadata": {},
   "source": [
    "### 6.c how many unique zip codes?\n",
    "\n",
    "Are there any bad data in these?"
   ]
  },
  {
   "cell_type": "code",
   "execution_count": 40,
   "metadata": {
    "collapsed": false
   },
   "outputs": [
    {
     "name": "stdout",
     "output_type": "stream",
     "text": [
      "0 rows affected.\n"
     ]
    },
    {
     "data": {
      "text/html": [
       "<table>\n",
       "    <tr>\n",
       "        <th>zip</th>\n",
       "    </tr>\n",
       "</table>"
      ],
      "text/plain": [
       "[]"
      ]
     },
     "execution_count": 40,
     "metadata": {},
     "output_type": "execute_result"
    }
   ],
   "source": [
    "%%sql\n",
    "select distinct zip from evictions\n",
    "order by zip;"
   ]
  },
  {
   "cell_type": "markdown",
   "metadata": {},
   "source": [
    "### 6.d: What are the top 5 causes of eviction?\n",
    "\n",
    "You may find it easier to answer this question using pandas."
   ]
  },
  {
   "cell_type": "code",
   "execution_count": 41,
   "metadata": {
    "collapsed": false
   },
   "outputs": [],
   "source": [
    "engine = create_engine('postgresql://localhost:5432/lab33')\n",
    "evictions = pd.read_sql(\"SELECT * FROM evictions;\", engine)"
   ]
  },
  {
   "cell_type": "code",
   "execution_count": 42,
   "metadata": {
    "collapsed": true
   },
   "outputs": [],
   "source": [
    "cause_list = [\"non_payment\",\n",
    "              \"breach\",\n",
    "              \"nuisance\",\n",
    "              \"illegal_use\",\n",
    "              \"failure_to_sign_renewal\",\n",
    "              \"access_denial\",\n",
    "              \"unapproved_subtenant\",\n",
    "              \"owner_move_in\",\n",
    "              \"demolition\",\n",
    "              \"capital_improvement\",\n",
    "              \"substantial_rehab\",\n",
    "              \"ellis_act_withdrawal\",\n",
    "              \"condo_conversion\",\n",
    "              \"roommate_same_unit\",\n",
    "              \"other_cause\",\n",
    "              \"late_payments\",\n",
    "              \"lead_remediation\",\n",
    "              \"development\",\n",
    "              \"good_samaritan_ends\"]"
   ]
  },
  {
   "cell_type": "code",
   "execution_count": 43,
   "metadata": {
    "collapsed": false
   },
   "outputs": [
    {
     "data": {
      "text/plain": [
       "good_samaritan_ends        0.0\n",
       "demolition                 0.0\n",
       "breach                     0.0\n",
       "nuisance                   0.0\n",
       "illegal_use                0.0\n",
       "failure_to_sign_renewal    0.0\n",
       "access_denial              0.0\n",
       "unapproved_subtenant       0.0\n",
       "owner_move_in              0.0\n",
       "capital_improvement        0.0\n",
       "development                0.0\n",
       "substantial_rehab          0.0\n",
       "ellis_act_withdrawal       0.0\n",
       "condo_conversion           0.0\n",
       "roommate_same_unit         0.0\n",
       "other_cause                0.0\n",
       "late_payments              0.0\n",
       "lead_remediation           0.0\n",
       "non_payment                0.0\n",
       "dtype: float64"
      ]
     },
     "execution_count": 43,
     "metadata": {},
     "output_type": "execute_result"
    }
   ],
   "source": [
    "evictions[cause_list].sum().sort_values(ascending = False)"
   ]
  },
  {
   "cell_type": "markdown",
   "metadata": {},
   "source": [
    "## Bonus\n",
    "- Let's count the number of evictions for each year\n",
    "    - How has the number varied?\n",
    "    - Can you compare this with the nasdaq index? (use the DataReader module in Pandas to get the data)\n"
   ]
  },
  {
   "cell_type": "code",
   "execution_count": 44,
   "metadata": {
    "collapsed": false
   },
   "outputs": [
    {
     "name": "stdout",
     "output_type": "stream",
     "text": [
      "<class 'pandas.core.frame.DataFrame'>\n",
      "Index: 0 entries\n",
      "Data columns (total 30 columns):\n",
      "eviction_id                0 non-null object\n",
      "address                    0 non-null object\n",
      "city                       0 non-null object\n",
      "state                      0 non-null object\n",
      "zip                        0 non-null object\n",
      "file_date                  0 non-null object\n",
      "non_payment                0 non-null object\n",
      "breach                     0 non-null object\n",
      "nuisance                   0 non-null object\n",
      "illegal_use                0 non-null object\n",
      "failure_to_sign_renewal    0 non-null object\n",
      "access_denial              0 non-null object\n",
      "unapproved_subtenant       0 non-null object\n",
      "owner_move_in              0 non-null object\n",
      "demolition                 0 non-null object\n",
      "capital_improvement        0 non-null object\n",
      "substantial_rehab          0 non-null object\n",
      "ellis_act_withdrawal       0 non-null object\n",
      "condo_conversion           0 non-null object\n",
      "roommate_same_unit         0 non-null object\n",
      "other_cause                0 non-null object\n",
      "late_payments              0 non-null object\n",
      "lead_remediation           0 non-null object\n",
      "development                0 non-null object\n",
      "good_samaritan_ends        0 non-null object\n",
      "constraints                0 non-null object\n",
      "constraints_date           0 non-null object\n",
      "supervisor_district        0 non-null object\n",
      "neighborhood               0 non-null object\n",
      "client_location            0 non-null object\n",
      "dtypes: object(30)\n",
      "memory usage: 0.0+ bytes\n"
     ]
    }
   ],
   "source": [
    "evictions.info()"
   ]
  },
  {
   "cell_type": "code",
   "execution_count": null,
   "metadata": {
    "collapsed": false
   },
   "outputs": [],
   "source": [
    "%%sql\n",
    "select extract(year from file_date) as yyyy,\n",
    "       count(eviction_id) as evictions\n",
    "from evictions\n",
    "group by 1\n",
    "order by 1"
   ]
  },
  {
   "cell_type": "code",
   "execution_count": null,
   "metadata": {
    "collapsed": false
   },
   "outputs": [],
   "source": [
    "evictions_by_year = _.DataFrame()"
   ]
  },
  {
   "cell_type": "code",
   "execution_count": null,
   "metadata": {
    "collapsed": false
   },
   "outputs": [],
   "source": [
    "evictions_by_year =evictions_by_year.set_index('yyyy')"
   ]
  },
  {
   "cell_type": "code",
   "execution_count": null,
   "metadata": {
    "collapsed": true
   },
   "outputs": [],
   "source": [
    "%matplotlib inline\n",
    "import matplotlib.pyplot as plt"
   ]
  },
  {
   "cell_type": "code",
   "execution_count": null,
   "metadata": {
    "collapsed": false
   },
   "outputs": [],
   "source": [
    "evictions_by_year"
   ]
  },
  {
   "cell_type": "code",
   "execution_count": null,
   "metadata": {
    "collapsed": false
   },
   "outputs": [],
   "source": [
    "evictions_by_year.plot()"
   ]
  },
  {
   "cell_type": "code",
   "execution_count": null,
   "metadata": {
    "collapsed": false
   },
   "outputs": [],
   "source": [
    "from pandas.io.data import DataReader\n",
    "import datetime"
   ]
  },
  {
   "cell_type": "code",
   "execution_count": null,
   "metadata": {
    "collapsed": false
   },
   "outputs": [],
   "source": [
    "nasdaq = DataReader(\"NASDAQ:NDAQ\", \"google\", start=datetime.datetime(1990, 1, 1))"
   ]
  },
  {
   "cell_type": "code",
   "execution_count": null,
   "metadata": {
    "collapsed": false
   },
   "outputs": [],
   "source": [
    "nasdaq['Close'].plot()"
   ]
  },
  {
   "cell_type": "code",
   "execution_count": null,
   "metadata": {
    "collapsed": false
   },
   "outputs": [],
   "source": [
    "nasdaq_year_avg = nasdaq['Close'].groupby(pd.TimeGrouper('A')).mean()\n",
    "nasdaq_year_avg"
   ]
  },
  {
   "cell_type": "code",
   "execution_count": null,
   "metadata": {
    "collapsed": false
   },
   "outputs": [],
   "source": [
    "nasdaq_year_avg.index = evictions_by_year.loc[2002:].index"
   ]
  },
  {
   "cell_type": "code",
   "execution_count": null,
   "metadata": {
    "collapsed": false
   },
   "outputs": [],
   "source": [
    "evictions_by_year['nasdaq'] = nasdaq_year_avg"
   ]
  },
  {
   "cell_type": "code",
   "execution_count": null,
   "metadata": {
    "collapsed": false
   },
   "outputs": [],
   "source": [
    "evictions_by_year['evictions'].plot()\n",
    "evictions_by_year['nasdaq'].plot(secondary_y=True)"
   ]
  }
 ],
 "metadata": {
  "anaconda-cloud": {},
  "kernelspec": {
   "display_name": "Python [default]",
   "language": "python",
   "name": "python2"
  },
  "language_info": {
   "codemirror_mode": {
    "name": "ipython",
    "version": 2
   },
   "file_extension": ".py",
   "mimetype": "text/x-python",
   "name": "python",
   "nbconvert_exporter": "python",
   "pygments_lexer": "ipython2",
   "version": "2.7.12"
  }
 },
 "nbformat": 4,
 "nbformat_minor": 0
}
