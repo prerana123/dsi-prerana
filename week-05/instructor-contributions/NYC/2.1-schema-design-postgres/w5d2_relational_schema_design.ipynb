{
 "cells": [
  {
   "cell_type": "markdown",
   "metadata": {
    "slideshow": {
     "slide_type": "slide"
    }
   },
   "source": [
    "# ![](https://ga-dash.s3.amazonaws.com/production/assets/logo-9f88ae6c9c3871690e33280fcf557f33.png) Relational schema design\n",
    "Week 5 | Lesson 2.1"
   ]
  },
  {
   "cell_type": "markdown",
   "metadata": {},
   "source": [
    "## A brief overview of relational schema design (20 mins)\n",
    "\n",
    "- Schema design objectives\n",
    "- Common considerations\n",
    "    - Purpose, data, tables\n",
    "    - Primary keys\n",
    "    - Attribute types\n",
    "    - Table relations\n",
    "- Normalization\n",
    "    - 1NF; 2NF; 3NF\n",
    "    - Occasionally, denormalization"
   ]
  },
  {
   "cell_type": "markdown",
   "metadata": {
    "slideshow": {
     "slide_type": "slide"
    }
   },
   "source": [
    "## Learning objectives\n",
    "\n",
    "- Explain principles of relational schema design\n",
    "- Recognize violations of normal form\n",
    "- Fit flat dataset to table schema in postgres or sqlite"
   ]
  },
  {
   "cell_type": "markdown",
   "metadata": {
    "slideshow": {
     "slide_type": "slide"
    }
   },
   "source": [
    "## Design objectives\n",
    "\n",
    "- No redundancy\n",
    "- Integrity ensured\n"
   ]
  },
  {
   "cell_type": "markdown",
   "metadata": {
    "slideshow": {
     "slide_type": "fragment"
    }
   },
   "source": [
    "## Consider\n",
    "\n",
    "- Your data and their purpose\n",
    "- Your tables\n",
    "- Your primary keys\n",
    "- Your types\n",
    "- Your table relations\n",
    "- Normalization\n",
    "- ... and perhaps denormalization"
   ]
  },
  {
   "cell_type": "markdown",
   "metadata": {
    "slideshow": {
     "slide_type": "slide"
    }
   },
   "source": [
    "## Purpose, data, tables\n",
    "\n",
    "How will you use the database? What data go in it?\n",
    "\n",
    "As a first pass, split up tables by subject."
   ]
  },
  {
   "cell_type": "markdown",
   "metadata": {
    "slideshow": {
     "slide_type": "fragment"
    }
   },
   "source": [
    "### Primary keys\n",
    "\n",
    "Specify column(s) in each table to be a primary key. Remember, these should be:\n",
    "    - Unique\n",
    "    - Non-null\n",
    "    - Permanent\n",
    "    \n",
    "Sometimes a \"factless\" PK is safest."
   ]
  },
  {
   "cell_type": "markdown",
   "metadata": {
    "slideshow": {
     "slide_type": "slide"
    }
   },
   "source": [
    "### Attribute types\n",
    "\n",
    "Choose these to preserve integrity and increase efficiency."
   ]
  },
  {
   "cell_type": "markdown",
   "metadata": {
    "slideshow": {
     "slide_type": "slide"
    }
   },
   "source": [
    "## Table relations\n",
    "\n",
    "One-to-many:\n",
    "\n",
    "![One-to-many example](./assets/images/one_to_many.svg)\n",
    " \n",
    "E.g. one company to many jobs\n",
    "\n",
    "\n"
   ]
  },
  {
   "cell_type": "markdown",
   "metadata": {
    "slideshow": {
     "slide_type": "slide"
    }
   },
   "source": [
    "Many-to-many:\n",
    "\n",
    "![Many-to-many example](./assets/images/many_to_many.svg)\n",
    "    \n",
    "E.g. Jobs to requirements\n"
   ]
  },
  {
   "cell_type": "markdown",
   "metadata": {
    "slideshow": {
     "slide_type": "slide"
    }
   },
   "source": [
    "One-to-one:\n",
    "\n",
    "![One-to-one example](./assets/images/one_to_one.svg)\n",
    "\n",
    "E.g. Jobs to job-specific info\n",
    "\n",
    "> Check: what are examples of one-to-many, many-to-many, and one-to-one relations in an ecommerce context?"
   ]
  },
  {
   "cell_type": "markdown",
   "metadata": {
    "slideshow": {
     "slide_type": "slide"
    }
   },
   "source": [
    "## Normalization\n",
    "\n",
    "First Normal Form (1NF): Atomic values - no domain has sets as elements. I.e. cells have single values, not repeating values.\n",
    "\n",
    "Example violation:\n",
    "\n",
    "![1NF violation example](./assets/images/1nf_violation.svg)\n",
    "\n",
    "\n",
    "\n",
    "Consequence is that values are of the same and correct type for each attribute."
   ]
  },
  {
   "cell_type": "markdown",
   "metadata": {
    "slideshow": {
     "slide_type": "slide"
    }
   },
   "source": [
    "\n",
    "2NF: 1NF, and non-key columns are **functionally dependent** on the full primary key, and not on any subset of it. If:\n",
    "\n",
    "$$ \\forall t,u \\in R:$$\n",
    "$$t[A_1, ..., A_n] = u[A_1, ..., A_n] \\implies t[B_1, ..., B_n] = u[B_1, ..., B_m]$$\n",
    "\n",
    "Then A determines B, that is B is functionally dependent on A:\n",
    "\n",
    "$$A_1, ..., A_n \\rightarrow B_1, ..., B_m$$\n",
    "\n",
    "Example violation:\n",
    "\n",
    "![2NF violation example](./assets/images/2nf_violation.svg)\n",
    "\n",
    "With this violation, you could change a portion of the primary key (e.g. '1' -> '3') and now have different keys referencing different rows: a problem with data integrity."
   ]
  },
  {
   "cell_type": "markdown",
   "metadata": {
    "slideshow": {
     "slide_type": "slide"
    }
   },
   "source": [
    "3NF: 2NF, and non-key columns are functionally dependent **only** on the primary key.\n",
    "\n",
    "![3NF violation example](./assets/images/3nf_violation.svg)\n",
    "\n",
    "This again risks inconsistency if some records change but not others.\n",
    "\n",
    "> Check: can you normalize your ecommerce database example?"
   ]
  },
  {
   "cell_type": "markdown",
   "metadata": {
    "slideshow": {
     "slide_type": "slide"
    }
   },
   "source": [
    "## Denormalization\n",
    "\n",
    "After all that work, one may want to violate the normal forms in order to optimize queries. (For example, have to JOIN many tables may slow performance.) This is a rich topic \n",
    "outside our current scope."
   ]
  },
  {
   "cell_type": "markdown",
   "metadata": {
    "slideshow": {
     "slide_type": "slide"
    }
   },
   "source": [
    "## Exercise:\n",
    "- Postgres or sqlite database creation\n",
    "- Data exploration \n",
    "- Design schema with >= 2 tables\n",
    "- Create table, import [CSV](./assets/datasets/Eviction_Notices.csv)\n",
    "- Create new table(s), copy relevant columns"
   ]
  },
  {
   "cell_type": "markdown",
   "metadata": {
    "slideshow": {
     "slide_type": "slide"
    }
   },
   "source": [
    "## Some starter code...\n",
    "\n",
    "`$psql lab33`\n",
    "\n",
    "``DROP TABLE IF EXISTS evictions_simple;\n",
    "CREATE TABLE evictions_simple\n",
    "(eviction_id varchar,\n",
    " address varchar,\n",
    " city varchar,\n",
    " state varchar,\n",
    " zip varchar,\n",
    " file_date varchar,\n",
    " non_payment varchar,\n",
    " breach varchar,\n",
    " nuisance varchar,\n",
    " illegal_use varchar,\n",
    " failure_to_sign_renewal varchar,\n",
    " access_denial varchar,\n",
    " unapproved_subtenant varchar,\n",
    " owner_move_in varchar,\n",
    " demolition varchar,\n",
    " capital_improvement varchar,\n",
    " substantial_rehab varchar,\n",
    " ellis_act_withdrawal varchar,\n",
    " condo_conversion varchar,\n",
    " roommate_same_unit varchar,\n",
    " other_cause varchar,\n",
    " late_payments varchar,\n",
    " lead_remediation varchar,\n",
    " development varchar,\n",
    " good_samaritan_ends varchar,\n",
    " constraints varchar,\n",
    " constraints_date varchar,\n",
    " supervisor_district varchar,\n",
    " neighborhood varchar,\n",
    " client_location varchar);\n",
    "``\n",
    "\n",
    "``COPY evictions_simple FROM '../../assets/datasets/Eviction_Notices.csv' DELIMITER ',' CSV HEADER;``"
   ]
  },
  {
   "cell_type": "markdown",
   "metadata": {
    "slideshow": {
     "slide_type": "skip"
    }
   },
   "source": [
    "### Possible solution code:\n",
    "\n",
    "> Start by recasting the attributes into more appropriate types. Then, as a toy example, let's make a separate table with the neighborhood | supervisor_district values.\n",
    "\n",
    "\n",
    "`COPY evictions_simple FROM '/Users/your_account/DSI-NYC-1/curriculum/week-05/2.1-schema-design-postgres/assets/datasets/Eviction_Notices.csv' DELIMITER ',' CSV HEADER;\n",
    "\n",
    "SELECT DISTINCT neighborhood, supervisor_district INTO sd_geo FROM evictions_simple;\n",
    "\n",
    "ALTER TABLE sd_geo ADD COLUMN geo_id SERIAL PRIMARY KEY;\n",
    "\n",
    "ALTER TABLE evictions_simple ADD COLUMN geo_id INTEGER;\n",
    "\n",
    "UPDATE evictions_simple SET geo_id = sd_geo.geo_id FROM sd_geo WHERE evictions_simple.neighborhood = sd_geo.neighborhood AND evictions_simple.supervisor_district = sd_geo.supervisor_district;\n",
    "\n",
    "ALTER TABLE evictions_simple DROP supervisor_district;\n",
    "\n",
    "ALTER TABLE evictions_simple DROP neighborhood;`"
   ]
  }
 ],
 "metadata": {
  "celltoolbar": "Slideshow",
  "kernelspec": {
   "display_name": "Python 2",
   "language": "python",
   "name": "python2"
  },
  "language_info": {
   "codemirror_mode": {
    "name": "ipython",
    "version": 2
   },
   "file_extension": ".py",
   "mimetype": "text/x-python",
   "name": "python",
   "nbconvert_exporter": "python",
   "pygments_lexer": "ipython2",
   "version": "2.7.11"
  }
 },
 "nbformat": 4,
 "nbformat_minor": 0
}
