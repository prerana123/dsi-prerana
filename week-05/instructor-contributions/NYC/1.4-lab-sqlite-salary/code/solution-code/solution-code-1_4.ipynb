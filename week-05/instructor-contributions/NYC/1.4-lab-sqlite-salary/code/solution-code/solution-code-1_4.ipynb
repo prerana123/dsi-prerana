{
 "cells": [
  {
   "cell_type": "markdown",
   "metadata": {},
   "source": [
    "# Demographic income\n",
    "\n",
    "The dataset contains a set of demographic attributes for people in the US.\n",
    "\n",
    "[Adult UCI Dataset](http://archive.ics.uci.edu/ml/datasets/Adult)\n",
    "\n",
    "You have to build a model to predict whether their salary is higher or lower than 50K."
   ]
  },
  {
   "cell_type": "markdown",
   "metadata": {},
   "source": [
    "## 1. Data exploration\n",
    "\n",
    "The data is contained in the database file: `../../assets/datasets/adult.sqlite`\n",
    "\n",
    "Load the data into a Pandas Dataframe"
   ]
  },
  {
   "cell_type": "code",
   "execution_count": null,
   "metadata": {
    "collapsed": false
   },
   "outputs": [],
   "source": [
    "import pandas as pd\n",
    "import numpy as np\n",
    "%matplotlib inline\n",
    "import matplotlib.pyplot as plt\n",
    "\n",
    "import sqlite3\n",
    "conn = sqlite3.connect('../../assets/datasets/adult.sqlite')\n",
    "c = conn.cursor()\n",
    "df = pd.read_sql(\"SELECT * FROM adult;\", conn)"
   ]
  },
  {
   "cell_type": "markdown",
   "metadata": {},
   "source": [
    "### 1 Missing values\n",
    "\n",
    "Are there any missing values?\n",
    "How will you deal with them?\n",
    "\n",
    "Discuss this with your classmate and decide on a strategy for imputation"
   ]
  },
  {
   "cell_type": "code",
   "execution_count": null,
   "metadata": {
    "collapsed": false
   },
   "outputs": [],
   "source": [
    "df.info()"
   ]
  },
  {
   "cell_type": "code",
   "execution_count": null,
   "metadata": {
    "collapsed": false
   },
   "outputs": [],
   "source": [
    "# fill the n.a with ???\n",
    "df = df.fillna('???')"
   ]
  },
  {
   "cell_type": "markdown",
   "metadata": {},
   "source": [
    "> Other possible strategies:\n",
    "- fill with media value\n",
    "- sample values out of the column distribution\n",
    "- build a model that predicts the missing values from the other columns"
   ]
  },
  {
   "cell_type": "markdown",
   "metadata": {},
   "source": [
    "## 2. Target\n",
    "\n",
    "Salary is separated in 2 classes '<=50K' and '>50K'.\n",
    "\n",
    "Create a new boolean variable called target that is True for salary >50K and False otherwise"
   ]
  },
  {
   "cell_type": "code",
   "execution_count": null,
   "metadata": {
    "collapsed": true
   },
   "outputs": [],
   "source": [
    "target = df.salary != '<=50K'"
   ]
  },
  {
   "cell_type": "markdown",
   "metadata": {},
   "source": [
    "### 3 Features\n",
    "\n",
    "The dataset contains many features.\n",
    "\n",
    "- Are they numerical?\n",
    "- Are they categorical?"
   ]
  },
  {
   "cell_type": "markdown",
   "metadata": {},
   "source": [
    "> Some and some"
   ]
  },
  {
   "cell_type": "markdown",
   "metadata": {},
   "source": [
    "### 3.a Age distribution\n",
    "\n",
    "What is the distribution of age? How does age correlate with the outcome variable?\n",
    "\n",
    "- Plot a histogram of the age column\n",
    "- Separate by target variable and plot the age distribution for the 2 classes"
   ]
  },
  {
   "cell_type": "code",
   "execution_count": null,
   "metadata": {
    "collapsed": false
   },
   "outputs": [],
   "source": [
    "plt.figure(figsize = (10,5))\n",
    "plt.subplot(121)\n",
    "df.age.plot(kind='hist', alpha = 0.3)\n",
    "plt.xlabel('Age')\n",
    "\n",
    "plt.subplot(122)\n",
    "df[~target].age.plot(kind='hist', alpha = 0.3)\n",
    "df[target].age.plot(kind='hist', alpha = 0.3)\n",
    "plt.legend(['<=50K', '>50K'])\n",
    "plt.xlabel('Age')"
   ]
  },
  {
   "cell_type": "markdown",
   "metadata": {},
   "source": [
    "The only thing that is clearly visible is that there are many more young people in the low income class."
   ]
  },
  {
   "cell_type": "markdown",
   "metadata": {},
   "source": [
    "### 3.b Categorical Features Distributions\n",
    "\n",
    "Investigate the relation of each categorical feature with the salary class:\n",
    "\n",
    "- workclass\n",
    "- education\n",
    "- marital-status\n",
    "- occupation\n",
    "- relationship\n",
    "- race\n",
    "- sex\n",
    "\n",
    "Use a bar-chart to visualize the relative frequency of each of the  elements in the group.\n",
    "Use two colors to distinguish between the low and high salary class.\n",
    "\n",
    "For which features is there significant difference in ratios?"
   ]
  },
  {
   "cell_type": "code",
   "execution_count": null,
   "metadata": {
    "collapsed": false
   },
   "outputs": [],
   "source": [
    "catcols = [u'workclass', u'education', u'marital-status',\n",
    "           u'occupation', u'relationship', u'race', u'sex']\n",
    "\n",
    "for c in catcols:\n",
    "    plt.figure()\n",
    "    (df.loc[~target,c].value_counts() / df.loc[~target,c].count()).plot(kind='bar', alpha = 0.4, color = 'blue')\n",
    "    (df.loc[target,c].value_counts() / df.loc[target,c].count()).plot(kind='bar', alpha = 0.4, color = 'green')\n",
    "    plt.legend(['<=50K', '>50K'])\n",
    "    plt.title(c)\n"
   ]
  },
  {
   "cell_type": "markdown",
   "metadata": {},
   "source": [
    "### 3.c Other numerical features distribution\n",
    "\n",
    "Like you did for age, investigate the distribution of other numerical features for the 2 classes."
   ]
  },
  {
   "cell_type": "code",
   "execution_count": null,
   "metadata": {
    "collapsed": false
   },
   "outputs": [],
   "source": [
    "def do_plot_hist(feat):\n",
    "    plt.figure(figsize = (10,5))\n",
    "    plt.subplot(121)\n",
    "    df[feat].plot(kind='hist', alpha = 0.3, normed = True)\n",
    "    plt.xlabel(feat.capitalize())\n",
    "    plt.title(feat.capitalize() + ' Distribution, whole set')\n",
    "\n",
    "    plt.subplot(122)\n",
    "    df[~target][feat].plot(kind='hist', alpha = 0.3, normed = True)\n",
    "    df[target][feat].plot(kind='hist', alpha = 0.3, normed = True)\n",
    "    plt.legend(['<=50K', '>50K'])\n",
    "    plt.xlabel(feat.capitalize())\n",
    "    plt.title(feat.capitalize() + ' Distribution, per target')\n",
    "\n",
    "for c in [u'fnlwgt', u'education-num', u'capital-gain',\n",
    "          u'capital-loss', u'hours-per-week']:\n",
    "    do_plot_hist(c)"
   ]
  },
  {
   "cell_type": "markdown",
   "metadata": {},
   "source": [
    "## 4. Dummy Columns\n",
    "\n",
    "Scikit-Learn models require features with numerical values. In order to use all the categorical features in our model, we need to encode them into numbers. The way of doing this called 1-Hot Encoding, or dummy column creation.\n",
    "Both Pandas and Scikit Learn offer an interface to do this. Please feel free to choose whichever you prefer.\n",
    "\n",
    "Example:\n",
    "\n",
    "|Categorical Feature|Dummy_A|Dummy_B|Dummy_C|\n",
    "|---|---|---|---|\n",
    "|A|1|0|0|\n",
    "|B|0|1|0|\n",
    "|B|0|1|0|\n",
    "|C|0|0|1|\n",
    "|A|1|0|0|\n",
    "|C|0|0|1|\n",
    "|B|0|1|0|\n",
    "\n",
    "- [One Hot Encoder](http://scikit-learn.org/stable/modules/generated/sklearn.preprocessing.OneHotEncoder.html)\n",
    "- [Get Dummies](http://pandas.pydata.org/pandas-docs/stable/generated/pandas.get_dummies.html)\n"
   ]
  },
  {
   "cell_type": "code",
   "execution_count": null,
   "metadata": {
    "collapsed": true
   },
   "outputs": [],
   "source": [
    "dummies = pd.get_dummies(df[['workclass','education','marital-status',\n",
    "                             'occupation','relationship','race','sex',\n",
    "                             'native-country']])"
   ]
  },
  {
   "cell_type": "markdown",
   "metadata": {},
   "source": [
    "## 5. Numerical Features normalization\n",
    "\n",
    "Numerical Features may have different scales. This can be a problem in some cases, so we can try to normalize using a scaler.\n",
    "\n",
    "Use a scaler from Scikit-learn Preprocessing to rescale the numerical features.\n",
    "\n",
    "[Scikit-Learn Preprocessing](http://scikit-learn.org/stable/modules/preprocessing.html)\n",
    "\n",
    "Discuss within your team about pros/cons of each scaler."
   ]
  },
  {
   "cell_type": "code",
   "execution_count": null,
   "metadata": {
    "collapsed": false
   },
   "outputs": [],
   "source": [
    "ncols = ['age', 'fnlwgt', 'education-num',\n",
    "         'capital-gain', 'capital-loss', 'hours-per-week']\n",
    "\n",
    "numerical = df[ncols]\n",
    "\n",
    "from sklearn.preprocessing import MinMaxScaler\n",
    "\n",
    "mms = MinMaxScaler()\n",
    "ns = mms.fit_transform(numerical)\n",
    "scaled_cols = ['scaled_'+s for s in ncols]\n",
    "numerical_scaled = pd.DataFrame(ns, columns = scaled_cols)"
   ]
  },
  {
   "cell_type": "code",
   "execution_count": null,
   "metadata": {
    "collapsed": false
   },
   "outputs": [],
   "source": [
    "numerical_scaled.head()"
   ]
  },
  {
   "cell_type": "markdown",
   "metadata": {},
   "source": [
    "## 6. Combine Features\n",
    "\n",
    "Combine the dummy features and the scaled feature into a single dataset called `X`.\n",
    "\n",
    "Rename the target variable `y`.\n",
    "\n",
    "What's the accuracy score of a benchmark model? What's the simplest model you could build?"
   ]
  },
  {
   "cell_type": "code",
   "execution_count": null,
   "metadata": {
    "collapsed": false
   },
   "outputs": [],
   "source": [
    "X = pd.concat([dummies, numerical_scaled], axis=1)\n",
    "y = df.salary == '>50K'\n",
    "\n",
    "y.value_counts()/len(y)"
   ]
  },
  {
   "cell_type": "markdown",
   "metadata": {},
   "source": [
    "> Saying everyone is in the <=50K class has a 76% accuracy"
   ]
  },
  {
   "cell_type": "markdown",
   "metadata": {
    "collapsed": false
   },
   "source": [
    "## 7. Build and evaluate model\n",
    "\n",
    "Build a model using KNN or Logistic regression.\n",
    "\n",
    "Split your data into train and test subset using the following line:\n",
    "\n",
    "    from sklearn.cross_validation import train_test_split\n",
    "    X_train, X_test, y_train, y_test = train_test_split(X, y, test_size=0.33, random_state=42)\n",
    "    \n",
    "1. Evaluate the `accuracy_score` of your model.\n",
    "- Display the confusion matrix and the classification report\n",
    "- Try to improve the model by tuning the parameters. For example:\n",
    "    - KNN: Change the number of Neighbors\n",
    "    - LogisticRegression: Change the strength of the regularization\n",
    "    \n",
    "Discuss and compare your best model with other teams\n"
   ]
  },
  {
   "cell_type": "code",
   "execution_count": null,
   "metadata": {
    "collapsed": true
   },
   "outputs": [],
   "source": [
    "from sklearn.neighbors import KNeighborsClassifier\n",
    "from sklearn.linear_model import LogisticRegression"
   ]
  },
  {
   "cell_type": "code",
   "execution_count": null,
   "metadata": {
    "collapsed": true
   },
   "outputs": [],
   "source": [
    "clf = KNeighborsClassifier(5)"
   ]
  },
  {
   "cell_type": "code",
   "execution_count": null,
   "metadata": {
    "collapsed": true
   },
   "outputs": [],
   "source": [
    "from sklearn.cross_validation import cross_val_score"
   ]
  },
  {
   "cell_type": "code",
   "execution_count": null,
   "metadata": {
    "collapsed": false
   },
   "outputs": [],
   "source": [
    "# May take a few minutes to run\n",
    "cross_val_score(KNeighborsClassifier(5), X, y)"
   ]
  },
  {
   "cell_type": "code",
   "execution_count": null,
   "metadata": {
    "collapsed": false
   },
   "outputs": [],
   "source": [
    "cross_val_score(LogisticRegression(), X, y)"
   ]
  },
  {
   "cell_type": "code",
   "execution_count": null,
   "metadata": {
    "collapsed": true
   },
   "outputs": [],
   "source": [
    "from sklearn.cross_validation import train_test_split\n",
    "from sklearn.metrics import confusion_matrix, classification_report"
   ]
  },
  {
   "cell_type": "code",
   "execution_count": null,
   "metadata": {
    "collapsed": false
   },
   "outputs": [],
   "source": [
    "X_train, X_test, y_train, y_test = train_test_split(X, y, test_size=0.33, random_state=42)"
   ]
  },
  {
   "cell_type": "code",
   "execution_count": null,
   "metadata": {
    "collapsed": true
   },
   "outputs": [],
   "source": [
    "lr = LogisticRegression(C=100.0, class_weight='balanced')"
   ]
  },
  {
   "cell_type": "code",
   "execution_count": null,
   "metadata": {
    "collapsed": false
   },
   "outputs": [],
   "source": [
    "lr.fit(X_train, y_train)"
   ]
  },
  {
   "cell_type": "code",
   "execution_count": null,
   "metadata": {
    "collapsed": true
   },
   "outputs": [],
   "source": [
    "y_pred = lr.predict(X_test)"
   ]
  },
  {
   "cell_type": "code",
   "execution_count": null,
   "metadata": {
    "collapsed": false
   },
   "outputs": [],
   "source": [
    "print classification_report(y_test, y_pred)"
   ]
  },
  {
   "cell_type": "code",
   "execution_count": null,
   "metadata": {
    "collapsed": false
   },
   "outputs": [],
   "source": [
    "confusion_matrix(y_test, y_pred)"
   ]
  },
  {
   "cell_type": "code",
   "execution_count": null,
   "metadata": {
    "collapsed": true
   },
   "outputs": [],
   "source": [
    "from sklearn.grid_search import GridSearchCV"
   ]
  },
  {
   "cell_type": "code",
   "execution_count": null,
   "metadata": {
    "collapsed": true
   },
   "outputs": [],
   "source": [
    "clf = GridSearchCV(LogisticRegression(class_weight='balanced'),\n",
    "                   {\"C\":[0.01,0.1,1.0,10.0,100.0]},\n",
    "                   n_jobs=-1\n",
    "                  )"
   ]
  },
  {
   "cell_type": "code",
   "execution_count": null,
   "metadata": {
    "collapsed": false
   },
   "outputs": [],
   "source": [
    "clf.fit(X, y)"
   ]
  },
  {
   "cell_type": "code",
   "execution_count": null,
   "metadata": {
    "collapsed": false
   },
   "outputs": [],
   "source": [
    "clf.best_estimator_"
   ]
  },
  {
   "cell_type": "code",
   "execution_count": null,
   "metadata": {
    "collapsed": false
   },
   "outputs": [],
   "source": [
    "clf.best_params_"
   ]
  },
  {
   "cell_type": "code",
   "execution_count": null,
   "metadata": {
    "collapsed": true
   },
   "outputs": [],
   "source": []
  }
 ],
 "metadata": {
  "kernelspec": {
   "display_name": "Python 2",
   "language": "python",
   "name": "python2"
  },
  "language_info": {
   "codemirror_mode": {
    "name": "ipython",
    "version": 2
   },
   "file_extension": ".py",
   "mimetype": "text/x-python",
   "name": "python",
   "nbconvert_exporter": "python",
   "pygments_lexer": "ipython2",
   "version": "2.7.11"
  }
 },
 "nbformat": 4,
 "nbformat_minor": 0
}
