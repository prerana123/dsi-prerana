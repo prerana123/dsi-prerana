{
 "cells": [
  {
   "cell_type": "markdown",
   "metadata": {},
   "source": [
    "---\n",
    "title: Feature Selection Lab\n",
    "type: lab\n",
    "duration: \"1:25\"\n",
    "creator:\n",
    "    name: Francesco Mosconi\n",
    "    city: SF\n",
    "---"
   ]
  },
  {
   "cell_type": "markdown",
   "metadata": {},
   "source": [
    "# ![](https://ga-dash.s3.amazonaws.com/production/assets/logo-9f88ae6c9c3871690e33280fcf557f33.png) Feature Selection Lab"
   ]
  },
  {
   "cell_type": "markdown",
   "metadata": {},
   "source": [
    "## Introduction\n",
    "\n",
    "In this lab we will improve upon the analysis of the titanic dataset including feature selection and regularization steps."
   ]
  },
  {
   "cell_type": "markdown",
   "metadata": {},
   "source": [
    "## Exercise\n",
    "\n",
    "#### Requirements\n",
    "\n",
    "1 Column names\n",
    "- Kbest feature selection\n",
    "- Recursive feature elimination\n",
    "- Logistic regression coefficients\n",
    "- compare feature sets\n",
    "\n",
    "**Bonus:**\n",
    "\n",
    "- Plot the Logistic Regression coefficients\n",
    "\n",
    "#### Starter code\n",
    "\n",
    "[Starter code](./code/starter-code/starter-code-4_2.ipynb)\n",
    ">[Solution code](./code/solution-code/solution-code-4_2.ipynb)\n",
    "\n",
    "#### Deliverable\n",
    "\n",
    "![Coefficients plot](./assets/images/coefficients.png)"
   ]
  },
  {
   "cell_type": "markdown",
   "metadata": {},
   "source": [
    "## Additional Resources\n",
    "\n",
    "- [Scikit Learn Feature Selection](http://scikit-learn.org/stable/modules/feature_selection.html)\n",
    "- [Logistic Regression](http://scikit-learn.org/stable/modules/generated/sklearn.linear_model.LogisticRegression.html)\n"
   ]
  }
 ],
 "metadata": {
  "kernelspec": {
   "display_name": "Python 2",
   "language": "python",
   "name": "python2"
  },
  "language_info": {
   "codemirror_mode": {
    "name": "ipython",
    "version": 2
   },
   "file_extension": ".py",
   "mimetype": "text/x-python",
   "name": "python",
   "nbconvert_exporter": "python",
   "pygments_lexer": "ipython2",
   "version": "2.7.11"
  }
 },
 "nbformat": 4,
 "nbformat_minor": 0
}
