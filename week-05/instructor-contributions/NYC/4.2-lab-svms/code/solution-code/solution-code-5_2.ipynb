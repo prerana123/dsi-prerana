{
 "cells": [
  {
   "cell_type": "markdown",
   "metadata": {},
   "source": [
    "# Support Vector Machines Lab"
   ]
  },
  {
   "cell_type": "markdown",
   "metadata": {},
   "source": [
    "In this lab we will explore several datasets with SVMs. The assets folder contains several datasets (in order of complexity):\n",
    "\n",
    "- Breast cancer\n",
    "- Spambase\n",
    "- Car evaluation\n",
    "- Mushroom\n",
    "\n",
    "For each of these a `.names` file is provided with details on the origin of data."
   ]
  },
  {
   "cell_type": "code",
   "execution_count": 1,
   "metadata": {
    "collapsed": false
   },
   "outputs": [],
   "source": [
    "import numpy as np\n",
    "import pandas as pd\n",
    "%matplotlib inline\n",
    "import matplotlib.pyplot as plt"
   ]
  },
  {
   "cell_type": "markdown",
   "metadata": {},
   "source": [
    "# Exercise 1: Breast Cancer\n",
    "\n",
    "\n",
    "\n",
    "## 1.a: Load the Data\n",
    "Use `pandas.read_csv` to load the data and assess the following:\n",
    "- Are there any missing values? (how are they encoded? do we impute them?)\n",
    "- Are the features categorical or numerical?\n",
    "- Are the values normalized?\n",
    "- How many classes are there in the target?\n",
    "\n",
    "Perform what's necessary to get to a point where you have a feature matrix `X` and a target vector `y`, both with only numerical entries."
   ]
  },
  {
   "cell_type": "code",
   "execution_count": 2,
   "metadata": {
    "collapsed": false
   },
   "outputs": [
    {
     "name": "stdout",
     "output_type": "stream",
     "text": [
      "<class 'pandas.core.frame.DataFrame'>\n",
      "Int64Index: 699 entries, 0 to 698\n",
      "Data columns (total 11 columns):\n",
      "Sample_code_number             699 non-null int64\n",
      "Clump_Thickness                699 non-null int64\n",
      "Uniformity_of_Cell_Size        699 non-null int64\n",
      "Uniformity_of_Cell_Shape       699 non-null int64\n",
      "Marginal_Adhesion              699 non-null int64\n",
      "Single_Epithelial_Cell_Size    699 non-null int64\n",
      "Bare_Nuclei                    683 non-null float64\n",
      "Bland_Chromatin                699 non-null int64\n",
      "Normal_Nucleoli                699 non-null int64\n",
      "Mitoses                        699 non-null int64\n",
      "Class                          699 non-null int64\n",
      "dtypes: float64(1), int64(10)\n",
      "memory usage: 65.5 KB\n"
     ]
    }
   ],
   "source": [
    "df = pd.read_csv('../../assets/datasets/breast_cancer.csv', na_values='?')\n",
    "df.info()"
   ]
  },
  {
   "cell_type": "code",
   "execution_count": 3,
   "metadata": {
    "collapsed": false
   },
   "outputs": [
    {
     "data": {
      "text/plain": [
       "<matplotlib.axes._subplots.AxesSubplot at 0x112d03790>"
      ]
     },
     "execution_count": 3,
     "metadata": {},
     "output_type": "execute_result"
    },
    {
     "data": {
      "image/png": "[encoded data removed]",
      "text/plain": [
       "<matplotlib.figure.Figure at 0x10482ecd0>"
      ]
     },
     "metadata": {},
     "output_type": "display_data"
    }
   ],
   "source": [
    "# 16 missing values in Bare_Nuclei\n",
    "# replacing with mean not justified because distribution is very skewed:\n",
    "df['Bare_Nuclei'].hist()"
   ]
  },
  {
   "cell_type": "code",
   "execution_count": 4,
   "metadata": {
    "collapsed": false
   },
   "outputs": [
    {
     "data": {
      "text/plain": [
       "2    14\n",
       "4     2\n",
       "Name: Class, dtype: int64"
      ]
     },
     "execution_count": 4,
     "metadata": {},
     "output_type": "execute_result"
    }
   ],
   "source": [
    "# which class are the missing values?\n",
    "df.ix[df['Bare_Nuclei'].isnull()]['Class'].value_counts()"
   ]
  },
  {
   "cell_type": "code",
   "execution_count": 5,
   "metadata": {
    "collapsed": true
   },
   "outputs": [],
   "source": [
    "# mostly benign, I'll drop them (it's the majority class)\n",
    "df = df.dropna().astype(int)"
   ]
  },
  {
   "cell_type": "code",
   "execution_count": 6,
   "metadata": {
    "collapsed": false
   },
   "outputs": [
    {
     "name": "stdout",
     "output_type": "stream",
     "text": [
      "<class 'pandas.core.frame.DataFrame'>\n",
      "Int64Index: 683 entries, 0 to 698\n",
      "Data columns (total 11 columns):\n",
      "Sample_code_number             683 non-null int64\n",
      "Clump_Thickness                683 non-null int64\n",
      "Uniformity_of_Cell_Size        683 non-null int64\n",
      "Uniformity_of_Cell_Shape       683 non-null int64\n",
      "Marginal_Adhesion              683 non-null int64\n",
      "Single_Epithelial_Cell_Size    683 non-null int64\n",
      "Bare_Nuclei                    683 non-null int64\n",
      "Bland_Chromatin                683 non-null int64\n",
      "Normal_Nucleoli                683 non-null int64\n",
      "Mitoses                        683 non-null int64\n",
      "Class                          683 non-null int64\n",
      "dtypes: int64(11)\n",
      "memory usage: 64.0 KB\n"
     ]
    }
   ],
   "source": [
    "df.info()"
   ]
  },
  {
   "cell_type": "code",
   "execution_count": 7,
   "metadata": {
    "collapsed": false
   },
   "outputs": [],
   "source": [
    "X = df.drop(['Sample_code_number', 'Class'], axis = 1)\n",
    "y = df['Class'] == 4"
   ]
  },
  {
   "cell_type": "code",
   "execution_count": 8,
   "metadata": {
    "collapsed": true
   },
   "outputs": [],
   "source": [
    "# data all has the same 1-10 scale so don't normalize"
   ]
  },
  {
   "cell_type": "markdown",
   "metadata": {},
   "source": [
    "## 1.b: Model Building\n",
    "\n",
    "- What's the baseline for the accuracy?\n",
    "- Initialize and train a linear svm. What's the average accuracy score with a 3-fold cross validation?\n",
    "- Repeat using an rbf classifier. Compare the scores. Which one is better?\n",
    "- Are your features normalized? if not, try normalizing and repeat the test. Does the score improve?\n",
    "- What's the best model?\n",
    "- Print a confusion matrix and classification report for your best model using:\n",
    "        train_test_split(X, y, stratify=y, test_size=0.33, random_state=42)\n",
    "\n",
    "**Check:** To decide which model is best, look at the average cross validation score. Are the scores significantly different from one another?"
   ]
  },
  {
   "cell_type": "code",
   "execution_count": 9,
   "metadata": {
    "collapsed": false
   },
   "outputs": [
    {
     "data": {
      "text/plain": [
       "False    0.650073\n",
       "True     0.349927\n",
       "Name: Class, dtype: float64"
      ]
     },
     "execution_count": 9,
     "metadata": {},
     "output_type": "execute_result"
    }
   ],
   "source": [
    "#baseline => 65%\n",
    "y.value_counts() / len(y)"
   ]
  },
  {
   "cell_type": "code",
   "execution_count": 10,
   "metadata": {
    "collapsed": false
   },
   "outputs": [
    {
     "name": "stdout",
     "output_type": "stream",
     "text": [
      "SVC(C=1.0, cache_size=200, class_weight=None, coef0=0.0,\n",
      "  decision_function_shape=None, degree=3, gamma='auto', kernel='linear',\n",
      "  max_iter=-1, probability=False, random_state=None, shrinking=True,\n",
      "  tol=0.001, verbose=False)\n",
      "Average score: 0.965+/-0.0179\n"
     ]
    }
   ],
   "source": [
    "from sklearn.svm import SVC\n",
    "from sklearn.cross_validation import cross_val_score\n",
    "\n",
    "all_scores = []\n",
    "model = SVC(kernel='linear')\n",
    "\n",
    "def do_cv(model, X, y, cv):\n",
    "    scores = cross_val_score(model, X, y, cv=cv)\n",
    "    print model\n",
    "    sm = scores.mean()\n",
    "    ss = scores.std()\n",
    "    res = (sm, ss)\n",
    "    print \"Average score: {:0.3}+/-{:0.3}\".format(*res)\n",
    "    return res\n",
    "\n",
    "all_scores.append(do_cv(model, X, y, 3))"
   ]
  },
  {
   "cell_type": "code",
   "execution_count": 11,
   "metadata": {
    "collapsed": false
   },
   "outputs": [
    {
     "name": "stdout",
     "output_type": "stream",
     "text": [
      "SVC(C=1.0, cache_size=200, class_weight=None, coef0=0.0,\n",
      "  decision_function_shape=None, degree=3, gamma='auto', kernel='rbf',\n",
      "  max_iter=-1, probability=False, random_state=None, shrinking=True,\n",
      "  tol=0.001, verbose=False)\n",
      "Average score: 0.958+/-0.0251\n"
     ]
    }
   ],
   "source": [
    "model = SVC(kernel='rbf')\n",
    "all_scores.append(do_cv(model, X, y, 3))"
   ]
  },
  {
   "cell_type": "code",
   "execution_count": 12,
   "metadata": {
    "collapsed": false
   },
   "outputs": [
    {
     "name": "stdout",
     "output_type": "stream",
     "text": [
      "Pipeline(steps=[('standardscaler', StandardScaler(copy=True, with_mean=True, with_std=True)), ('svc', SVC(C=1.0, cache_size=200, class_weight=None, coef0=0.0,\n",
      "  decision_function_shape=None, degree=3, gamma='auto', kernel='linear',\n",
      "  max_iter=-1, probability=False, random_state=None, shrinking=True,\n",
      "  tol=0.001, verbose=False))])\n",
      "Average score: 0.966+/-0.0161\n"
     ]
    }
   ],
   "source": [
    "from sklearn.preprocessing import StandardScaler\n",
    "from sklearn.pipeline import make_pipeline\n",
    "\n",
    "model = make_pipeline(StandardScaler(), SVC(kernel='linear'))\n",
    "all_scores.append(do_cv(model, X, y, 3))"
   ]
  },
  {
   "cell_type": "code",
   "execution_count": 13,
   "metadata": {
    "collapsed": false
   },
   "outputs": [
    {
     "name": "stdout",
     "output_type": "stream",
     "text": [
      "Pipeline(steps=[('standardscaler', StandardScaler(copy=True, with_mean=True, with_std=True)), ('svc', SVC(C=1.0, cache_size=200, class_weight=None, coef0=0.0,\n",
      "  decision_function_shape=None, degree=3, gamma='auto', kernel='rbf',\n",
      "  max_iter=-1, probability=False, random_state=None, shrinking=True,\n",
      "  tol=0.001, verbose=False))])\n",
      "Average score: 0.968+/-0.018\n"
     ]
    }
   ],
   "source": [
    "model = make_pipeline(StandardScaler(), SVC(kernel='rbf'))\n",
    "all_scores.append(do_cv(model, X, y, 3))"
   ]
  },
  {
   "cell_type": "code",
   "execution_count": 14,
   "metadata": {
    "collapsed": false
   },
   "outputs": [
    {
     "data": {
      "text/plain": [
       "(0.9, 1)"
      ]
     },
     "execution_count": 14,
     "metadata": {},
     "output_type": "execute_result"
    },
    {
     "data": {
      "image/png": "[encoded data removed]",
      "text/plain": [
       "<matplotlib.figure.Figure at 0x11ae309d0>"
      ]
     },
     "metadata": {},
     "output_type": "display_data"
    }
   ],
   "source": [
    "plt.bar(xrange(4),\n",
    "        [m[0] for m in all_scores],\n",
    "        yerr=[m[1] for m in all_scores],\n",
    "        alpha = 0.5)\n",
    "plt.ylim(0.9,1)"
   ]
  },
  {
   "cell_type": "code",
   "execution_count": 15,
   "metadata": {
    "collapsed": false
   },
   "outputs": [],
   "source": [
    "from sklearn.metrics import confusion_matrix, classification_report\n",
    "\n",
    "def print_cm_cr(y_true, y_pred, names):\n",
    "    \"\"\"prints the confusion matrix and the classification report\"\"\"\n",
    "    cm = confusion_matrix(y_true, y_pred)\n",
    "    cols = ['pred_' + c for c in names]\n",
    "    dfcm = pd.DataFrame(cm, columns = cols, index = names)\n",
    "    print dfcm\n",
    "    print\n",
    "    print classification_report(y_true, y_pred)"
   ]
  },
  {
   "cell_type": "code",
   "execution_count": 16,
   "metadata": {
    "collapsed": false,
    "scrolled": true
   },
   "outputs": [],
   "source": [
    "from sklearn.cross_validation import train_test_split"
   ]
  },
  {
   "cell_type": "code",
   "execution_count": 17,
   "metadata": {
    "collapsed": true
   },
   "outputs": [],
   "source": [
    "model = make_pipeline(StandardScaler(), SVC(kernel='rbf'))"
   ]
  },
  {
   "cell_type": "code",
   "execution_count": 18,
   "metadata": {
    "collapsed": false
   },
   "outputs": [
    {
     "name": "stdout",
     "output_type": "stream",
     "text": [
      "        pred_benign  pred_cancer\n",
      "benign          142            5\n",
      "cancer            3           76\n",
      "\n",
      "             precision    recall  f1-score   support\n",
      "\n",
      "      False       0.98      0.97      0.97       147\n",
      "       True       0.94      0.96      0.95        79\n",
      "\n",
      "avg / total       0.96      0.96      0.96       226\n",
      "\n"
     ]
    }
   ],
   "source": [
    "def do_cm_cr(model, X, y, names):\n",
    "    X_train, X_test, y_train, y_test = train_test_split(X, y, stratify=y, test_size=0.33, random_state=42)\n",
    "    model.fit(X_train, y_train)\n",
    "    y_pred = model.predict(X_test)\n",
    "    print_cm_cr(y_test, y_pred, names)\n",
    "\n",
    "do_cm_cr(model, X, y, ['benign', 'cancer'])"
   ]
  },
  {
   "cell_type": "markdown",
   "metadata": {},
   "source": [
    "**Check:** Are there more false positives or false negatives? Is this good or bad?\n",
    "\n",
    "> Answer:\n",
    "More false negatives is bad from the point of view of the patient and good from the point of view of the insurance company. Viceversa otherwise."
   ]
  },
  {
   "cell_type": "markdown",
   "metadata": {},
   "source": [
    "## 1.c: feature selection\n",
    "\n",
    "Use any of the strategies offered by `sklearn` to select the most important features.\n",
    "\n",
    "Repeat the cross validation with only those 5 features. Does the score change?"
   ]
  },
  {
   "cell_type": "code",
   "execution_count": 19,
   "metadata": {
    "collapsed": false
   },
   "outputs": [],
   "source": [
    "from sklearn.feature_selection import SelectKBest, chi2"
   ]
  },
  {
   "cell_type": "code",
   "execution_count": 20,
   "metadata": {
    "collapsed": false
   },
   "outputs": [],
   "source": [
    "def do_k_best(X, y, k=5):\n",
    "    selector = SelectKBest(chi2, k=k)\n",
    "    selected_data = selector.fit_transform(X, y)\n",
    "    selected_columns = X.columns[selector.get_support()]\n",
    "    X_new = pd.DataFrame(selected_data, columns=selected_columns)\n",
    "    return X_new\n",
    "\n"
   ]
  },
  {
   "cell_type": "code",
   "execution_count": 21,
   "metadata": {
    "collapsed": false
   },
   "outputs": [
    {
     "name": "stdout",
     "output_type": "stream",
     "text": [
      "        pred_benign  pred_cancer\n",
      "benign          142            5\n",
      "cancer            4           75\n",
      "\n",
      "             precision    recall  f1-score   support\n",
      "\n",
      "      False       0.97      0.97      0.97       147\n",
      "       True       0.94      0.95      0.94        79\n",
      "\n",
      "avg / total       0.96      0.96      0.96       226\n",
      "\n"
     ]
    }
   ],
   "source": [
    "X_new = do_k_best(X, y, 5)\n",
    "do_cm_cr(model, X_new, y, ['benign', 'cancer'])"
   ]
  },
  {
   "cell_type": "markdown",
   "metadata": {},
   "source": [
    "almost the same result, with only 5 features!"
   ]
  },
  {
   "cell_type": "markdown",
   "metadata": {},
   "source": [
    "## 1.d: Learning Curves\n",
    "\n",
    "Learning curves are useful to study the behavior of training and test errors as a function of the number of datapoints available.\n",
    "\n",
    "- Plot learning curves for train sizes between 10% and 100% (use StratifiedKFold with 5 folds as cross validation)\n",
    "- What can you say about the dataset? do you need more data or do you need a better model?"
   ]
  },
  {
   "cell_type": "code",
   "execution_count": 22,
   "metadata": {
    "collapsed": false
   },
   "outputs": [
    {
     "data": {
      "text/html": [
       "\n",
       "\n",
       "    <script type=\"text/javascript\">\n",
       "      \n",
       "      (function(global) {\n",
       "        function now() {\n",
       "          return new Date();\n",
       "        }\n",
       "      \n",
       "        if (typeof (window._bokeh_onload_callbacks) === \"undefined\") {\n",
       "          window._bokeh_onload_callbacks = [];\n",
       "        }\n",
       "      \n",
       "        function run_callbacks() {\n",
       "          window._bokeh_onload_callbacks.forEach(function(callback) { callback() });\n",
       "          delete window._bokeh_onload_callbacks\n",
       "          console.info(\"Bokeh: all callbacks have finished\");\n",
       "        }\n",
       "      \n",
       "        function load_libs(js_urls, callback) {\n",
       "          window._bokeh_onload_callbacks.push(callback);\n",
       "          if (window._bokeh_is_loading > 0) {\n",
       "            console.log(\"Bokeh: BokehJS is being loaded, scheduling callback at\", now());\n",
       "            return null;\n",
       "          }\n",
       "          if (js_urls == null || js_urls.length === 0) {\n",
       "            run_callbacks();\n",
       "            return null;\n",
       "          }\n",
       "          console.log(\"Bokeh: BokehJS not loaded, scheduling load and callback at\", now());\n",
       "          window._bokeh_is_loading = js_urls.length;\n",
       "          for (var i = 0; i < js_urls.length; i++) {\n",
       "            var url = js_urls[i];\n",
       "            var s = document.createElement('script');\n",
       "            s.src = url;\n",
       "            s.async = false;\n",
       "            s.onreadystatechange = s.onload = function() {\n",
       "              window._bokeh_is_loading--;\n",
       "              if (window._bokeh_is_loading === 0) {\n",
       "                console.log(\"Bokeh: all BokehJS libraries loaded\");\n",
       "                run_callbacks()\n",
       "              }\n",
       "            };\n",
       "            s.onerror = function() {\n",
       "              console.warn(\"failed to load library \" + url);\n",
       "            };\n",
       "            console.log(\"Bokeh: injecting script tag for BokehJS library: \", url);\n",
       "            document.getElementsByTagName(\"head\")[0].appendChild(s);\n",
       "          }\n",
       "        };var js_urls = ['https://cdn.pydata.org/bokeh/release/bokeh-0.11.0.min.js', 'https://cdn.pydata.org/bokeh/release/bokeh-widgets-0.11.0.min.js', 'https://cdn.pydata.org/bokeh/release/bokeh-compiler-0.11.0.min.js'];\n",
       "      \n",
       "        var inline_js = [\n",
       "          function(Bokeh) {\n",
       "            Bokeh.set_log_level(\"info\");\n",
       "          },\n",
       "          function(Bokeh) {\n",
       "            console.log(\"Bokeh: injecting CSS: https://cdn.pydata.org/bokeh/release/bokeh-0.11.0.min.css\");\n",
       "            Bokeh.embed.inject_css(\"https://cdn.pydata.org/bokeh/release/bokeh-0.11.0.min.css\");\n",
       "            console.log(\"Bokeh: injecting CSS: https://cdn.pydata.org/bokeh/release/bokeh-widgets-0.11.0.min.css\");\n",
       "            Bokeh.embed.inject_css(\"https://cdn.pydata.org/bokeh/release/bokeh-widgets-0.11.0.min.css\");\n",
       "          }\n",
       "        ];\n",
       "      \n",
       "        function run_inline_js() {\n",
       "          for (var i = 0; i < inline_js.length; i++) {\n",
       "            inline_js[i](window.Bokeh);\n",
       "          }\n",
       "        }\n",
       "      \n",
       "        if (window._bokeh_is_loading === 0) {\n",
       "          console.log(\"Bokeh: BokehJS loaded, going straight to plotting\");\n",
       "          run_inline_js();\n",
       "        } else {\n",
       "          load_libs(js_urls, function() {\n",
       "            console.log(\"Bokeh: BokehJS plotting callback run at\", now());\n",
       "            run_inline_js();\n",
       "          });\n",
       "        }\n",
       "      }(this));\n",
       "    </script>\n",
       "    <div>\n",
       "        <a href=\"http://bokeh.pydata.org\" target=\"_blank\" class=\"bk-logo bk-logo-small bk-logo-notebook\"></a>\n",
       "        <span>BokehJS successfully loaded.</span>\n",
       "    </div>"
      ]
     },
     "metadata": {},
     "output_type": "display_data"
    },
    {
     "data": {
      "text/html": [
       "\n",
       "\n",
       "    <div class=\"plotdiv\" id=\"b9f2388c-0b54-4d58-9ffc-93f4a3eae4f0\"></div>\n",
       "<script type=\"text/javascript\">\n",
       "  \n",
       "  (function(global) {\n",
       "    function now() {\n",
       "      return new Date();\n",
       "    }\n",
       "  \n",
       "    if (typeof (window._bokeh_onload_callbacks) === \"undefined\") {\n",
       "      window._bokeh_onload_callbacks = [];\n",
       "    }\n",
       "  \n",
       "    function run_callbacks() {\n",
       "      window._bokeh_onload_callbacks.forEach(function(callback) { callback() });\n",
       "      delete window._bokeh_onload_callbacks\n",
       "      console.info(\"Bokeh: all callbacks have finished\");\n",
       "    }\n",
       "  \n",
       "    function load_libs(js_urls, callback) {\n",
       "      window._bokeh_onload_callbacks.push(callback);\n",
       "      if (window._bokeh_is_loading > 0) {\n",
       "        console.log(\"Bokeh: BokehJS is being loaded, scheduling callback at\", now());\n",
       "        return null;\n",
       "      }\n",
       "      if (js_urls == null || js_urls.length === 0) {\n",
       "        run_callbacks();\n",
       "        return null;\n",
       "      }\n",
       "      console.log(\"Bokeh: BokehJS not loaded, scheduling load and callback at\", now());\n",
       "      window._bokeh_is_loading = js_urls.length;\n",
       "      for (var i = 0; i < js_urls.length; i++) {\n",
       "        var url = js_urls[i];\n",
       "        var s = document.createElement('script');\n",
       "        s.src = url;\n",
       "        s.async = false;\n",
       "        s.onreadystatechange = s.onload = function() {\n",
       "          window._bokeh_is_loading--;\n",
       "          if (window._bokeh_is_loading === 0) {\n",
       "            console.log(\"Bokeh: all BokehJS libraries loaded\");\n",
       "            run_callbacks()\n",
       "          }\n",
       "        };\n",
       "        s.onerror = function() {\n",
       "          console.warn(\"failed to load library \" + url);\n",
       "        };\n",
       "        console.log(\"Bokeh: injecting script tag for BokehJS library: \", url);\n",
       "        document.getElementsByTagName(\"head\")[0].appendChild(s);\n",
       "      }\n",
       "    };var element = document.getElementById(\"b9f2388c-0b54-4d58-9ffc-93f4a3eae4f0\");\n",
       "    if (element == null) {\n",
       "      console.log(\"Bokeh: ERROR: autoload.js configured with elementid 'b9f2388c-0b54-4d58-9ffc-93f4a3eae4f0' but no matching script tag was found. \")\n",
       "      return false;\n",
       "    }var js_urls = [];\n",
       "  \n",
       "    var inline_js = [\n",
       "      function(Bokeh) {\n",
       "        Bokeh.$(function() {\n",
       "            var docs_json = {\"42a83fc1-2987-40df-adc1-68ae5dbd0eb4\": {\"version\": \"0.11.0\", \"roots\": {\"root_ids\": [\"e72cd7ae-499c-45d7-9258-58511a421948\"], \"references\": [{\"attributes\": {\"plot\": {\"subtype\": \"Figure\", \"type\": \"Plot\", \"id\": \"e72cd7ae-499c-45d7-9258-58511a421948\"}, \"legends\": [[\"Train Scores\", [{\"type\": \"GlyphRenderer\", \"id\": \"68cf24c8-7a2b-4fd1-8950-2859af9af747\"}]], [\"Test Scores\", [{\"type\": \"GlyphRenderer\", \"id\": \"3768f201-a11b-4ab4-b287-c0b044404d5a\"}]]]}, \"type\": \"Legend\", \"id\": \"000b0f8a-1979-4429-92e9-988788d4d50c\"}, {\"attributes\": {\"line_color\": {\"value\": \"#1f77b4\"}, \"line_alpha\": {\"value\": 0.1}, \"y\": {\"field\": \"y\"}, \"x\": {\"field\": \"x\"}}, \"type\": \"Line\", \"id\": \"03b40656-5625-4a79-adfc-3cba89544b8c\"}, {\"attributes\": {\"plot\": {\"subtype\": \"Figure\", \"type\": \"Plot\", \"id\": \"e72cd7ae-499c-45d7-9258-58511a421948\"}}, \"type\": \"ResetTool\", \"id\": \"151e9a58-ed25-4d4b-a750-64bee26628e5\"}, {\"attributes\": {}, \"type\": \"BasicTicker\", \"id\": \"78da3ca7-d9ed-48af-b8cf-4bdf43b96586\"}, {\"attributes\": {\"plot\": {\"subtype\": \"Figure\", \"type\": \"Plot\", \"id\": \"e72cd7ae-499c-45d7-9258-58511a421948\"}}, \"type\": \"WheelZoomTool\", \"id\": \"9edfb679-b14a-4aa4-b1b7-10361f7a001f\"}, {\"attributes\": {}, \"type\": \"BasicTicker\", \"id\": \"128b9ba0-8439-43cb-81bc-73e42653f0b5\"}, {\"attributes\": {\"x_range\": {\"type\": \"DataRange1d\", \"id\": \"b688ee6d-44c4-4ec2-aec1-8a02120425bd\"}, \"title\": \"Learning Curve\", \"y_range\": {\"type\": \"Range1d\", \"id\": \"d9d5c495-e844-4ee1-aa32-91f46bacc6dc\"}, \"renderers\": [{\"type\": \"LinearAxis\", \"id\": \"19e72879-9e17-4d2b-b269-416643b1736a\"}, {\"type\": \"Grid\", \"id\": \"a57758e1-b32a-4d0d-9a9a-2e0a407509b2\"}, {\"type\": \"LinearAxis\", \"id\": \"dc8d1ef4-f363-4543-a0ee-0f62d647bf8d\"}, {\"type\": \"Grid\", \"id\": \"98a9384c-a84b-497b-bfdd-d2dc4fcb8625\"}, {\"type\": \"BoxAnnotation\", \"id\": \"1b671489-2feb-4578-ab10-22fc6b5ab57e\"}, {\"type\": \"Legend\", \"id\": \"000b0f8a-1979-4429-92e9-988788d4d50c\"}, {\"type\": \"GlyphRenderer\", \"id\": \"68cf24c8-7a2b-4fd1-8950-2859af9af747\"}, {\"type\": \"GlyphRenderer\", \"id\": \"3768f201-a11b-4ab4-b287-c0b044404d5a\"}], \"below\": [{\"type\": \"LinearAxis\", \"id\": \"19e72879-9e17-4d2b-b269-416643b1736a\"}], \"tool_events\": {\"type\": \"ToolEvents\", \"id\": \"d56eede6-e611-471d-9360-fb6694909f3f\"}, \"tools\": [{\"type\": \"PanTool\", \"id\": \"0acf49ee-09e8-4d39-ac3f-9a548fbaa200\"}, {\"type\": \"WheelZoomTool\", \"id\": \"9edfb679-b14a-4aa4-b1b7-10361f7a001f\"}, {\"type\": \"BoxZoomTool\", \"id\": \"876bcd32-777e-414a-9110-8cd96ed7ef57\"}, {\"type\": \"PreviewSaveTool\", \"id\": \"a00918a3-d914-4a51-b4b5-640ca577e1c3\"}, {\"type\": \"ResizeTool\", \"id\": \"8fe20940-0cd6-46cc-a5b3-913c1de7464b\"}, {\"type\": \"ResetTool\", \"id\": \"151e9a58-ed25-4d4b-a750-64bee26628e5\"}, {\"type\": \"HelpTool\", \"id\": \"a573f129-5346-46cb-93ea-ae9a747180e8\"}], \"left\": [{\"type\": \"LinearAxis\", \"id\": \"dc8d1ef4-f363-4543-a0ee-0f62d647bf8d\"}]}, \"type\": \"Plot\", \"id\": \"e72cd7ae-499c-45d7-9258-58511a421948\", \"subtype\": \"Figure\"}, {\"attributes\": {\"line_color\": {\"value\": \"black\"}, \"line_alpha\": {\"value\": 1.0}, \"render_mode\": \"css\", \"bottom_units\": \"screen\", \"level\": \"overlay\", \"top_units\": \"screen\", \"fill_alpha\": {\"value\": 0.5}, \"plot\": null, \"left_units\": \"screen\", \"line_dash\": [4, 4], \"line_width\": {\"value\": 2}, \"right_units\": \"screen\", \"fill_color\": {\"value\": \"lightgrey\"}}, \"type\": \"BoxAnnotation\", \"id\": \"1b671489-2feb-4578-ab10-22fc6b5ab57e\"}, {\"attributes\": {\"plot\": {\"subtype\": \"Figure\", \"type\": \"Plot\", \"id\": \"e72cd7ae-499c-45d7-9258-58511a421948\"}, \"formatter\": {\"type\": \"BasicTickFormatter\", \"id\": \"5341d089-19e7-4c90-bfcb-046bc2283f55\"}, \"ticker\": {\"type\": \"BasicTicker\", \"id\": \"128b9ba0-8439-43cb-81bc-73e42653f0b5\"}}, \"type\": \"LinearAxis\", \"id\": \"dc8d1ef4-f363-4543-a0ee-0f62d647bf8d\"}, {\"attributes\": {\"plot\": {\"subtype\": \"Figure\", \"type\": \"Plot\", \"id\": \"e72cd7ae-499c-45d7-9258-58511a421948\"}, \"formatter\": {\"type\": \"BasicTickFormatter\", \"id\": \"ee2a2365-9401-446e-bbe1-1b4bddf35f1b\"}, \"ticker\": {\"type\": \"BasicTicker\", \"id\": \"78da3ca7-d9ed-48af-b8cf-4bdf43b96586\"}}, \"type\": \"LinearAxis\", \"id\": \"19e72879-9e17-4d2b-b269-416643b1736a\"}, {\"attributes\": {\"plot\": {\"subtype\": \"Figure\", \"type\": \"Plot\", \"id\": \"e72cd7ae-499c-45d7-9258-58511a421948\"}, \"ticker\": {\"type\": \"BasicTicker\", \"id\": \"78da3ca7-d9ed-48af-b8cf-4bdf43b96586\"}}, \"type\": \"Grid\", \"id\": \"a57758e1-b32a-4d0d-9a9a-2e0a407509b2\"}, {\"attributes\": {\"line_color\": {\"value\": \"blue\"}, \"x\": {\"field\": \"x\"}, \"y\": {\"field\": \"y\"}}, \"type\": \"Line\", \"id\": \"c36af39f-52bd-4545-86c3-8fa5b53ee5ce\"}, {\"attributes\": {\"plot\": {\"subtype\": \"Figure\", \"type\": \"Plot\", \"id\": \"e72cd7ae-499c-45d7-9258-58511a421948\"}}, \"type\": \"HelpTool\", \"id\": \"a573f129-5346-46cb-93ea-ae9a747180e8\"}, {\"attributes\": {\"plot\": {\"subtype\": \"Figure\", \"type\": \"Plot\", \"id\": \"e72cd7ae-499c-45d7-9258-58511a421948\"}, \"overlay\": {\"type\": \"BoxAnnotation\", \"id\": \"1b671489-2feb-4578-ab10-22fc6b5ab57e\"}}, \"type\": \"BoxZoomTool\", \"id\": \"876bcd32-777e-414a-9110-8cd96ed7ef57\"}, {\"attributes\": {}, \"type\": \"BasicTickFormatter\", \"id\": \"ee2a2365-9401-446e-bbe1-1b4bddf35f1b\"}, {\"attributes\": {\"plot\": {\"subtype\": \"Figure\", \"type\": \"Plot\", \"id\": \"e72cd7ae-499c-45d7-9258-58511a421948\"}}, \"type\": \"PanTool\", \"id\": \"0acf49ee-09e8-4d39-ac3f-9a548fbaa200\"}, {\"attributes\": {\"callback\": null, \"start\": 0.9}, \"type\": \"Range1d\", \"id\": \"d9d5c495-e844-4ee1-aa32-91f46bacc6dc\"}, {\"attributes\": {\"nonselection_glyph\": {\"type\": \"Line\", \"id\": \"20be6c1d-8895-4c1e-a448-9028e207e57d\"}, \"data_source\": {\"type\": \"ColumnDataSource\", \"id\": \"821b69ea-2653-4fbd-8172-4cae600ddbea\"}, \"selection_glyph\": null, \"hover_glyph\": null, \"glyph\": {\"type\": \"Line\", \"id\": \"c36af39f-52bd-4545-86c3-8fa5b53ee5ce\"}}, \"type\": \"GlyphRenderer\", \"id\": \"3768f201-a11b-4ab4-b287-c0b044404d5a\"}, {\"attributes\": {\"plot\": {\"subtype\": \"Figure\", \"type\": \"Plot\", \"id\": \"e72cd7ae-499c-45d7-9258-58511a421948\"}, \"ticker\": {\"type\": \"BasicTicker\", \"id\": \"128b9ba0-8439-43cb-81bc-73e42653f0b5\"}, \"dimension\": 1}, \"type\": \"Grid\", \"id\": \"98a9384c-a84b-497b-bfdd-d2dc4fcb8625\"}, {\"attributes\": {}, \"type\": \"ToolEvents\", \"id\": \"d56eede6-e611-471d-9360-fb6694909f3f\"}, {\"attributes\": {\"callback\": null, \"column_names\": [\"y\", \"x\"], \"data\": {\"y\": [0.9663152203298189, 0.9677534468775345, 0.9677750743444176, 0.9662935928629359, 0.969213300892133, 0.9677534468775345, 0.9662935928629359, 0.9662935928629359, 0.9662935928629359, 0.9662935928629359], \"x\": [54, 109, 163, 218, 273, 327, 382, 436, 491, 546]}}, \"type\": \"ColumnDataSource\", \"id\": \"821b69ea-2653-4fbd-8172-4cae600ddbea\"}, {\"attributes\": {\"callback\": null, \"column_names\": [\"y\", \"x\"], \"data\": {\"y\": [0.9703703703703704, 0.98348623853211, 0.9803680981595093, 0.9706422018348624, 0.9663003663003662, 0.9669724770642201, 0.968062827225131, 0.9701834862385322, 0.9739307535641547, 0.9758241758241757], \"x\": [54, 109, 163, 218, 273, 327, 382, 436, 491, 546]}}, \"type\": \"ColumnDataSource\", \"id\": \"bfbc15b3-f768-46c2-b4aa-ddd3909fe288\"}, {\"attributes\": {\"plot\": {\"subtype\": \"Figure\", \"type\": \"Plot\", \"id\": \"e72cd7ae-499c-45d7-9258-58511a421948\"}}, \"type\": \"PreviewSaveTool\", \"id\": \"a00918a3-d914-4a51-b4b5-640ca577e1c3\"}, {\"attributes\": {\"nonselection_glyph\": {\"type\": \"Line\", \"id\": \"03b40656-5625-4a79-adfc-3cba89544b8c\"}, \"data_source\": {\"type\": \"ColumnDataSource\", \"id\": \"bfbc15b3-f768-46c2-b4aa-ddd3909fe288\"}, \"selection_glyph\": null, \"hover_glyph\": null, \"glyph\": {\"type\": \"Line\", \"id\": \"d4c87882-fd7d-46ca-9026-a3bc851de03b\"}}, \"type\": \"GlyphRenderer\", \"id\": \"68cf24c8-7a2b-4fd1-8950-2859af9af747\"}, {\"attributes\": {\"callback\": null}, \"type\": \"DataRange1d\", \"id\": \"b688ee6d-44c4-4ec2-aec1-8a02120425bd\"}, {\"attributes\": {\"plot\": {\"subtype\": \"Figure\", \"type\": \"Plot\", \"id\": \"e72cd7ae-499c-45d7-9258-58511a421948\"}}, \"type\": \"ResizeTool\", \"id\": \"8fe20940-0cd6-46cc-a5b3-913c1de7464b\"}, {\"attributes\": {\"line_color\": {\"value\": \"red\"}, \"x\": {\"field\": \"x\"}, \"y\": {\"field\": \"y\"}}, \"type\": \"Line\", \"id\": \"d4c87882-fd7d-46ca-9026-a3bc851de03b\"}, {\"attributes\": {\"line_color\": {\"value\": \"#1f77b4\"}, \"line_alpha\": {\"value\": 0.1}, \"y\": {\"field\": \"y\"}, \"x\": {\"field\": \"x\"}}, \"type\": \"Line\", \"id\": \"20be6c1d-8895-4c1e-a448-9028e207e57d\"}, {\"attributes\": {}, \"type\": \"BasicTickFormatter\", \"id\": \"5341d089-19e7-4c90-bfcb-046bc2283f55\"}]}, \"title\": \"Bokeh Application\"}};\n",
       "            var render_items = [{\"notebook_comms_target\": \"760818a3-8f7e-4067-a884-6326765eae62\", \"docid\": \"42a83fc1-2987-40df-adc1-68ae5dbd0eb4\", \"elementid\": \"b9f2388c-0b54-4d58-9ffc-93f4a3eae4f0\", \"modelid\": \"e72cd7ae-499c-45d7-9258-58511a421948\"}];\n",
       "            \n",
       "            Bokeh.embed.embed_items(docs_json, render_items);\n",
       "        });\n",
       "      },\n",
       "      function(Bokeh) {\n",
       "      }\n",
       "    ];\n",
       "  \n",
       "    function run_inline_js() {\n",
       "      for (var i = 0; i < inline_js.length; i++) {\n",
       "        inline_js[i](window.Bokeh);\n",
       "      }\n",
       "    }\n",
       "  \n",
       "    if (window._bokeh_is_loading === 0) {\n",
       "      console.log(\"Bokeh: BokehJS loaded, going straight to plotting\");\n",
       "      run_inline_js();\n",
       "    } else {\n",
       "      load_libs(js_urls, function() {\n",
       "        console.log(\"Bokeh: BokehJS plotting callback run at\", now());\n",
       "        run_inline_js();\n",
       "      });\n",
       "    }\n",
       "  }(this));\n",
       "</script>"
      ]
     },
     "metadata": {},
     "output_type": "display_data"
    }
   ],
   "source": [
    "from sklearn.learning_curve import learning_curve\n",
    "from sklearn.cross_validation import StratifiedKFold\n",
    "from bokeh.plotting import figure, output_notebook, show\n",
    "output_notebook()\n",
    "\n",
    "def do_learning_curve(model, X, y, sizes=np.linspace(0.1, 1.0, 10), y_range=(0.9,1)):\n",
    "    sizes, tr_scores, te_scores = learning_curve(model,\n",
    "                                                 X,\n",
    "                                                 y,\n",
    "                                                 train_sizes=sizes,\n",
    "                                                 cv = StratifiedKFold(y, n_folds=5, shuffle=True, random_state=0),\n",
    "                                                 n_jobs=-1)\n",
    "    # Create our base figure\n",
    "    p = figure(title='Learning Curve',y_range=y_range)\n",
    "\n",
    "    # Create our Training score line\n",
    "    p.line(x=sizes,\n",
    "           y=tr_scores.mean(axis=1),\n",
    "           color='red',\n",
    "           legend=\"Train Scores\")\n",
    "\n",
    "    #Create our Testing score line\n",
    "    p.line(x=sizes,\n",
    "           y=te_scores.mean(axis=1),\n",
    "           color='blue',\n",
    "           legend= \"Test Scores\")\n",
    "\n",
    "    #Move our legend around\n",
    "    p.legend.location = \"top_right\"\n",
    "\n",
    "    # Render the plot!!\n",
    "    show(p)\n",
    "    \n",
    "do_learning_curve(model, X, y)"
   ]
  },
  {
   "cell_type": "markdown",
   "metadata": {},
   "source": [
    "##  1.e: Grid search\n",
    "\n",
    "Use the grid_search function to explore different kernels and values for the `C` parameter.\n",
    "\n",
    "- Can you improve on your best previous score?\n",
    "- Print the best parameters and the best score"
   ]
  },
  {
   "cell_type": "code",
   "execution_count": 23,
   "metadata": {
    "collapsed": false
   },
   "outputs": [],
   "source": [
    "from sklearn import grid_search\n",
    "\n",
    "parameters = {'svc__kernel':('linear', 'rbf'), 'svc__C':[0.01, 0.1, 1, 10, 100]}\n",
    "pipe = make_pipeline(StandardScaler(), SVC())\n",
    "\n",
    "def do_grid_search(input_model, X, y, parameters):\n",
    "    model = grid_search.GridSearchCV(input_model, parameters, cv=StratifiedKFold(y, 5), n_jobs=-1)\n",
    "    model.fit(X, y)\n",
    "    print \"Best Params:\", model.best_params_\n",
    "    print \"Best Score:\", model.best_score_\n",
    "    return model.best_estimator_"
   ]
  },
  {
   "cell_type": "code",
   "execution_count": 24,
   "metadata": {
    "collapsed": false
   },
   "outputs": [
    {
     "name": "stdout",
     "output_type": "stream",
     "text": [
      "Best Params: {'svc__kernel': 'linear', 'svc__C': 0.01}\n",
      "Best Score: 0.96925329429\n"
     ]
    }
   ],
   "source": [
    "best_model = do_grid_search(model, X, y, parameters)"
   ]
  },
  {
   "cell_type": "code",
   "execution_count": 25,
   "metadata": {
    "collapsed": false
   },
   "outputs": [
    {
     "data": {
      "text/plain": [
       "Pipeline(steps=[('standardscaler', StandardScaler(copy=True, with_mean=True, with_std=True)), ('svc', SVC(C=0.01, cache_size=200, class_weight=None, coef0=0.0,\n",
       "  decision_function_shape=None, degree=3, gamma='auto', kernel='linear',\n",
       "  max_iter=-1, probability=False, random_state=None, shrinking=True,\n",
       "  tol=0.001, verbose=False))])"
      ]
     },
     "execution_count": 25,
     "metadata": {},
     "output_type": "execute_result"
    }
   ],
   "source": [
    "best_model"
   ]
  },
  {
   "cell_type": "code",
   "execution_count": 26,
   "metadata": {
    "collapsed": false
   },
   "outputs": [
    {
     "data": {
      "text/plain": [
       "Pipeline(steps=[('standardscaler', StandardScaler(copy=True, with_mean=True, with_std=True)), ('svc', SVC(C=1.0, cache_size=200, class_weight=None, coef0=0.0,\n",
       "  decision_function_shape=None, degree=3, gamma='auto', kernel='rbf',\n",
       "  max_iter=-1, probability=False, random_state=None, shrinking=True,\n",
       "  tol=0.001, verbose=False))])"
      ]
     },
     "execution_count": 26,
     "metadata": {},
     "output_type": "execute_result"
    }
   ],
   "source": [
    "model"
   ]
  },
  {
   "cell_type": "markdown",
   "metadata": {},
   "source": [
    "# Exercise 2\n",
    "Now that you've completed steps 1.a through 1.e it's time to tackle some harder datasets. But before we do that, let's encapsulate a few things into functions so that it's easier to repeat the analysis.\n",
    "\n",
    "## 2.a: Cross Validation\n",
    "Implement a function `do_cv(model, X, y, cv)` that does the following:\n",
    "- Calculates the cross validation scores\n",
    "- Prints the model\n",
    "- Prints and returns the mean and the standard deviation of the cross validation scores\n",
    "\n",
    "> Answer: see above\n",
    "\n",
    "## 2.b: Confusion Matrix and Classification report\n",
    "Implement a function `do_cm_cr(model, X, y, names)` that automates the following:\n",
    "- Split the data using `train_test_split(X, y, stratify=y, test_size=0.33, random_state=42)`\n",
    "- Fit the model\n",
    "- Prints confusion matrix and classification report in a nice format\n",
    "\n",
    "**Hint:** names is the list of target classes\n",
    "\n",
    "> Answer: see above\n",
    "\n",
    "## 2.c: Learning Curves\n",
    "Implement a function `do_learning_curve(model, X, y, sizes)` that automates drawing the learning curves:\n",
    "- Allow for sizes input\n",
    "- Use 5-fold StratifiedKFold cross validation\n",
    "\n",
    "> Answer: see above\n",
    "\n",
    "## 2.d Grid Search\n",
    "Implement a function `do_grid_search(model, parameters)` that automates the grid search by doing:\n",
    "- Calculate grid search\n",
    "- Print best parameters\n",
    "- Print best score\n",
    "- Return best estimator\n",
    "\n",
    "\n",
    "> Answer: see above"
   ]
  },
  {
   "cell_type": "markdown",
   "metadata": {},
   "source": [
    "# Exercise 3\n",
    "Using the functions above, analyze the Spambase dataset.\n",
    "\n",
    "Notice that now you have many more features. Focus your attention on step C => feature selection\n",
    "\n",
    "- Load the data and get to X, y\n",
    "- Select the 15 best features\n",
    "- Perform grid search to determine best model\n",
    "- Display learning curves"
   ]
  },
  {
   "cell_type": "code",
   "execution_count": 27,
   "metadata": {
    "collapsed": false
   },
   "outputs": [
    {
     "name": "stdout",
     "output_type": "stream",
     "text": [
      "<class 'pandas.core.frame.DataFrame'>\n",
      "Int64Index: 4601 entries, 0 to 4600\n",
      "Data columns (total 58 columns):\n",
      "word_freq_make                4601 non-null float64\n",
      "word_freq_address             4601 non-null float64\n",
      "word_freq_all                 4601 non-null float64\n",
      "word_freq_3d                  4601 non-null float64\n",
      "word_freq_our                 4601 non-null float64\n",
      "word_freq_over                4601 non-null float64\n",
      "word_freq_remove              4601 non-null float64\n",
      "word_freq_internet            4601 non-null float64\n",
      "word_freq_order               4601 non-null float64\n",
      "word_freq_mail                4601 non-null float64\n",
      "word_freq_receive             4601 non-null float64\n",
      "word_freq_will                4601 non-null float64\n",
      "word_freq_people              4601 non-null float64\n",
      "word_freq_report              4601 non-null float64\n",
      "word_freq_addresses           4601 non-null float64\n",
      "word_freq_free                4601 non-null float64\n",
      "word_freq_business            4601 non-null float64\n",
      "word_freq_email               4601 non-null float64\n",
      "word_freq_you                 4601 non-null float64\n",
      "word_freq_credit              4601 non-null float64\n",
      "word_freq_your                4601 non-null float64\n",
      "word_freq_font                4601 non-null float64\n",
      "word_freq_000                 4601 non-null float64\n",
      "word_freq_money               4601 non-null float64\n",
      "word_freq_hp                  4601 non-null float64\n",
      "word_freq_hpl                 4601 non-null float64\n",
      "word_freq_george              4601 non-null float64\n",
      "word_freq_650                 4601 non-null float64\n",
      "word_freq_lab                 4601 non-null float64\n",
      "word_freq_labs                4601 non-null float64\n",
      "word_freq_telnet              4601 non-null float64\n",
      "word_freq_857                 4601 non-null float64\n",
      "word_freq_data                4601 non-null float64\n",
      "word_freq_415                 4601 non-null float64\n",
      "word_freq_85                  4601 non-null float64\n",
      "word_freq_technology          4601 non-null float64\n",
      "word_freq_1999                4601 non-null float64\n",
      "word_freq_parts               4601 non-null float64\n",
      "word_freq_pm                  4601 non-null float64\n",
      "word_freq_direct              4601 non-null float64\n",
      "word_freq_cs                  4601 non-null float64\n",
      "word_freq_meeting             4601 non-null float64\n",
      "word_freq_original            4601 non-null float64\n",
      "word_freq_project             4601 non-null float64\n",
      "word_freq_re                  4601 non-null float64\n",
      "word_freq_edu                 4601 non-null float64\n",
      "word_freq_table               4601 non-null float64\n",
      "word_freq_conference          4601 non-null float64\n",
      "char_freq_;                   4601 non-null float64\n",
      "char_freq_(                   4601 non-null float64\n",
      "char_freq_[                   4601 non-null float64\n",
      "char_freq_!                   4601 non-null float64\n",
      "char_freq_$                   4601 non-null float64\n",
      "char_freq_#                   4601 non-null float64\n",
      "capital_run_length_average    4601 non-null float64\n",
      "capital_run_length_longest    4601 non-null int64\n",
      "capital_run_length_total      4601 non-null int64\n",
      "class                         4601 non-null int64\n",
      "dtypes: float64(55), int64(3)\n",
      "memory usage: 2.1 MB\n"
     ]
    }
   ],
   "source": [
    "df = pd.read_csv('../../assets/datasets/spambase.csv')\n",
    "df.info()"
   ]
  },
  {
   "cell_type": "code",
   "execution_count": 28,
   "metadata": {
    "collapsed": false
   },
   "outputs": [
    {
     "name": "stdout",
     "output_type": "stream",
     "text": [
      "      pred_ham  pred_spam\n",
      "ham        879         41\n",
      "spam        74        525\n",
      "\n",
      "             precision    recall  f1-score   support\n",
      "\n",
      "          0       0.92      0.96      0.94       920\n",
      "          1       0.93      0.88      0.90       599\n",
      "\n",
      "avg / total       0.92      0.92      0.92      1519\n",
      "\n"
     ]
    }
   ],
   "source": [
    "X = df.drop('class', axis=1)\n",
    "y = df['class']\n",
    "do_cm_cr(model, X, y, ['ham', 'spam'])"
   ]
  },
  {
   "cell_type": "code",
   "execution_count": 30,
   "metadata": {
    "collapsed": false
   },
   "outputs": [
    {
     "name": "stdout",
     "output_type": "stream",
     "text": [
      "      pred_ham  pred_spam\n",
      "ham        869         51\n",
      "spam        94        505\n",
      "\n",
      "             precision    recall  f1-score   support\n",
      "\n",
      "          0       0.90      0.94      0.92       920\n",
      "          1       0.91      0.84      0.87       599\n",
      "\n",
      "avg / total       0.90      0.90      0.90      1519\n",
      "\n"
     ]
    }
   ],
   "source": [
    "# select the 15 best features\n",
    "X_new = do_k_best(X, y, 15)\n",
    "do_cm_cr(model, X_new, y, ['ham', 'spam'])"
   ]
  },
  {
   "cell_type": "code",
   "execution_count": 31,
   "metadata": {
    "collapsed": false
   },
   "outputs": [
    {
     "name": "stdout",
     "output_type": "stream",
     "text": [
      "Best Params: {'svc__kernel': 'rbf', 'svc__C': 10}\n",
      "Best Score: 0.901543142795\n"
     ]
    },
    {
     "data": {
      "text/plain": [
       "Pipeline(steps=[('standardscaler', StandardScaler(copy=True, with_mean=True, with_std=True)), ('svc', SVC(C=10, cache_size=200, class_weight=None, coef0=0.0,\n",
       "  decision_function_shape=None, degree=3, gamma='auto', kernel='rbf',\n",
       "  max_iter=-1, probability=False, random_state=None, shrinking=True,\n",
       "  tol=0.001, verbose=False))])"
      ]
     },
     "execution_count": 31,
     "metadata": {},
     "output_type": "execute_result"
    }
   ],
   "source": [
    "# perform grid search to determine best model\n",
    "parameters = {'svc__kernel':('linear', 'rbf'), 'svc__C':[0.01, 0.1, 1.0, 10, 100]}\n",
    "pipe = make_pipeline(StandardScaler(), SVC())\n",
    "best_model = do_grid_search(pipe, X_new, y, parameters)\n",
    "best_model"
   ]
  },
  {
   "cell_type": "code",
   "execution_count": 37,
   "metadata": {
    "collapsed": false
   },
   "outputs": [
    {
     "data": {
      "text/html": [
       "\n",
       "\n",
       "    <div class=\"plotdiv\" id=\"e69d72fd-b37e-455d-810f-3a659bfe4d59\"></div>\n",
       "<script type=\"text/javascript\">\n",
       "  \n",
       "  (function(global) {\n",
       "    function now() {\n",
       "      return new Date();\n",
       "    }\n",
       "  \n",
       "    if (typeof (window._bokeh_onload_callbacks) === \"undefined\") {\n",
       "      window._bokeh_onload_callbacks = [];\n",
       "    }\n",
       "  \n",
       "    function run_callbacks() {\n",
       "      window._bokeh_onload_callbacks.forEach(function(callback) { callback() });\n",
       "      delete window._bokeh_onload_callbacks\n",
       "      console.info(\"Bokeh: all callbacks have finished\");\n",
       "    }\n",
       "  \n",
       "    function load_libs(js_urls, callback) {\n",
       "      window._bokeh_onload_callbacks.push(callback);\n",
       "      if (window._bokeh_is_loading > 0) {\n",
       "        console.log(\"Bokeh: BokehJS is being loaded, scheduling callback at\", now());\n",
       "        return null;\n",
       "      }\n",
       "      if (js_urls == null || js_urls.length === 0) {\n",
       "        run_callbacks();\n",
       "        return null;\n",
       "      }\n",
       "      console.log(\"Bokeh: BokehJS not loaded, scheduling load and callback at\", now());\n",
       "      window._bokeh_is_loading = js_urls.length;\n",
       "      for (var i = 0; i < js_urls.length; i++) {\n",
       "        var url = js_urls[i];\n",
       "        var s = document.createElement('script');\n",
       "        s.src = url;\n",
       "        s.async = false;\n",
       "        s.onreadystatechange = s.onload = function() {\n",
       "          window._bokeh_is_loading--;\n",
       "          if (window._bokeh_is_loading === 0) {\n",
       "            console.log(\"Bokeh: all BokehJS libraries loaded\");\n",
       "            run_callbacks()\n",
       "          }\n",
       "        };\n",
       "        s.onerror = function() {\n",
       "          console.warn(\"failed to load library \" + url);\n",
       "        };\n",
       "        console.log(\"Bokeh: injecting script tag for BokehJS library: \", url);\n",
       "        document.getElementsByTagName(\"head\")[0].appendChild(s);\n",
       "      }\n",
       "    };var element = document.getElementById(\"e69d72fd-b37e-455d-810f-3a659bfe4d59\");\n",
       "    if (element == null) {\n",
       "      console.log(\"Bokeh: ERROR: autoload.js configured with elementid 'e69d72fd-b37e-455d-810f-3a659bfe4d59' but no matching script tag was found. \")\n",
       "      return false;\n",
       "    }var js_urls = [];\n",
       "  \n",
       "    var inline_js = [\n",
       "      function(Bokeh) {\n",
       "        Bokeh.$(function() {\n",
       "            var docs_json = {\"c5f88601-bb84-4a00-8e28-654f7d5dbb90\": {\"version\": \"0.11.0\", \"roots\": {\"root_ids\": [\"e72cd7ae-499c-45d7-9258-58511a421948\", \"17cce26a-79da-4ea0-8bab-e4065977bcd8\", \"381fce6c-a852-4279-bc7b-68774fd8c229\", \"308aab56-89f9-42ba-b72f-048376f0cdcd\"], \"references\": [{\"attributes\": {\"plot\": {\"subtype\": \"Figure\", \"type\": \"Plot\", \"id\": \"381fce6c-a852-4279-bc7b-68774fd8c229\"}}, \"type\": \"PanTool\", \"id\": \"75272535-f226-4821-a134-4f692caf7895\"}, {\"attributes\": {\"callback\": null, \"column_names\": [\"y\", \"x\"], \"data\": {\"y\": [0.4792479669753863, 0.8570073924945565, 0.8904691522556145, 0.8993758262946908, 0.9111111898761696], \"x\": [1472, 2024, 2576, 3128, 3680]}}, \"type\": \"ColumnDataSource\", \"id\": \"8d515698-c35f-4148-be83-c138062e0f6f\"}, {\"attributes\": {\"plot\": {\"subtype\": \"Figure\", \"type\": \"Plot\", \"id\": \"17cce26a-79da-4ea0-8bab-e4065977bcd8\"}, \"ticker\": {\"type\": \"BasicTicker\", \"id\": \"97a6cc0e-89ba-4d34-9e7d-a766af6033c8\"}, \"dimension\": 1}, \"type\": \"Grid\", \"id\": \"c9a2a226-7673-413b-a8ed-5cb0aaf482a7\"}, {\"attributes\": {\"line_color\": {\"value\": \"red\"}, \"x\": {\"field\": \"x\"}, \"y\": {\"field\": \"y\"}}, \"type\": \"Line\", \"id\": \"e08294c7-0f0c-41af-98f1-e4876c54a7b0\"}, {\"attributes\": {\"plot\": {\"subtype\": \"Figure\", \"type\": \"Plot\", \"id\": \"381fce6c-a852-4279-bc7b-68774fd8c229\"}}, \"type\": \"HelpTool\", \"id\": \"4cce5b1f-d7ad-48d4-bcf3-377e153c39f3\"}, {\"attributes\": {}, \"type\": \"BasicTickFormatter\", \"id\": \"8c13e02b-90c8-473b-bc6b-9f2c4631c326\"}, {\"attributes\": {\"callback\": null, \"column_names\": [\"y\", \"x\"], \"data\": {\"y\": [0.9431521739130435, 0.9240869565217391, 0.9282608695652174, 0.9306832298136646, 0.9206521739130435], \"x\": [1840, 2300, 2760, 3220, 3680]}}, \"type\": \"ColumnDataSource\", \"id\": \"b0c19dc4-8332-4fc6-a75f-50ba1bdaf829\"}, {\"attributes\": {\"plot\": {\"subtype\": \"Figure\", \"type\": \"Plot\", \"id\": \"381fce6c-a852-4279-bc7b-68774fd8c229\"}, \"ticker\": {\"type\": \"BasicTicker\", \"id\": \"83822fb1-990c-461f-97d2-b07d6f2cacb5\"}, \"dimension\": 1}, \"type\": \"Grid\", \"id\": \"b895f14b-6cd6-45a8-9096-0540ee39664b\"}, {\"attributes\": {}, \"type\": \"BasicTicker\", \"id\": \"78da3ca7-d9ed-48af-b8cf-4bdf43b96586\"}, {\"attributes\": {\"plot\": {\"subtype\": \"Figure\", \"type\": \"Plot\", \"id\": \"308aab56-89f9-42ba-b72f-048376f0cdcd\"}, \"ticker\": {\"type\": \"BasicTicker\", \"id\": \"602d1f14-35cd-46dc-9d75-f449bd9b1eec\"}}, \"type\": \"Grid\", \"id\": \"e11fe54d-9e17-4e33-b333-297c4721c38f\"}, {\"attributes\": {\"plot\": {\"subtype\": \"Figure\", \"type\": \"Plot\", \"id\": \"17cce26a-79da-4ea0-8bab-e4065977bcd8\"}, \"ticker\": {\"type\": \"BasicTicker\", \"id\": \"fbdbbb82-b4f8-4f04-841b-498044b7f564\"}}, \"type\": \"Grid\", \"id\": \"197fb179-0933-4b81-8db3-8693db178f01\"}, {\"attributes\": {\"line_color\": {\"value\": \"black\"}, \"line_alpha\": {\"value\": 1.0}, \"render_mode\": \"css\", \"bottom_units\": \"screen\", \"level\": \"overlay\", \"top_units\": \"screen\", \"fill_alpha\": {\"value\": 0.5}, \"plot\": null, \"left_units\": \"screen\", \"line_dash\": [4, 4], \"line_width\": {\"value\": 2}, \"right_units\": \"screen\", \"fill_color\": {\"value\": \"lightgrey\"}}, \"type\": \"BoxAnnotation\", \"id\": \"1b671489-2feb-4578-ab10-22fc6b5ab57e\"}, {\"attributes\": {}, \"type\": \"BasicTicker\", \"id\": \"9267b331-e237-4f53-9b95-9b26a386c38d\"}, {\"attributes\": {\"plot\": {\"subtype\": \"Figure\", \"type\": \"Plot\", \"id\": \"e72cd7ae-499c-45d7-9258-58511a421948\"}, \"formatter\": {\"type\": \"BasicTickFormatter\", \"id\": \"ee2a2365-9401-446e-bbe1-1b4bddf35f1b\"}, \"ticker\": {\"type\": \"BasicTicker\", \"id\": \"78da3ca7-d9ed-48af-b8cf-4bdf43b96586\"}}, \"type\": \"LinearAxis\", \"id\": \"19e72879-9e17-4d2b-b269-416643b1736a\"}, {\"attributes\": {\"plot\": {\"subtype\": \"Figure\", \"type\": \"Plot\", \"id\": \"e72cd7ae-499c-45d7-9258-58511a421948\"}, \"ticker\": {\"type\": \"BasicTicker\", \"id\": \"78da3ca7-d9ed-48af-b8cf-4bdf43b96586\"}}, \"type\": \"Grid\", \"id\": \"a57758e1-b32a-4d0d-9a9a-2e0a407509b2\"}, {\"attributes\": {\"plot\": {\"subtype\": \"Figure\", \"type\": \"Plot\", \"id\": \"308aab56-89f9-42ba-b72f-048376f0cdcd\"}}, \"type\": \"WheelZoomTool\", \"id\": \"dfda713b-7a7f-4dcd-95f3-b2e90c2dfdb3\"}, {\"attributes\": {\"nonselection_glyph\": {\"type\": \"Line\", \"id\": \"8f8e1e6b-5318-4391-9beb-577d5f39bad0\"}, \"data_source\": {\"type\": \"ColumnDataSource\", \"id\": \"65d4bcc1-7e3e-41ac-97c7-de44516b7b06\"}, \"selection_glyph\": null, \"hover_glyph\": null, \"glyph\": {\"type\": \"Line\", \"id\": \"54ddb34d-b721-4662-a3d3-b058476d2cce\"}}, \"type\": \"GlyphRenderer\", \"id\": \"8cac6fb0-7ad7-42ac-91db-77ef875ee0b2\"}, {\"attributes\": {}, \"type\": \"ToolEvents\", \"id\": \"3d848bb6-e3e0-43e7-95a3-ed8ffdec4cb5\"}, {\"attributes\": {\"callback\": null, \"column_names\": [\"y\", \"x\"], \"data\": {\"y\": [0.8085326187767234, 0.8754778774549592, 0.8952489310597012, 0.9017664245822596, 0.9111111898761696], \"x\": [1840, 2300, 2760, 3220, 3680]}}, \"type\": \"ColumnDataSource\", \"id\": \"65d4bcc1-7e3e-41ac-97c7-de44516b7b06\"}, {\"attributes\": {\"plot\": {\"subtype\": \"Figure\", \"type\": \"Plot\", \"id\": \"17cce26a-79da-4ea0-8bab-e4065977bcd8\"}, \"overlay\": {\"type\": \"BoxAnnotation\", \"id\": \"fec25c73-bf5d-48d1-ab43-29b249752ef0\"}}, \"type\": \"BoxZoomTool\", \"id\": \"1f40ce4d-8a81-4ac0-b46b-67582af1710a\"}, {\"attributes\": {\"nonselection_glyph\": {\"type\": \"Line\", \"id\": \"a4f2c49c-1d43-46f2-a8a0-da2145754911\"}, \"data_source\": {\"type\": \"ColumnDataSource\", \"id\": \"a19ffbdf-a501-4a85-9f64-863cf0702621\"}, \"selection_glyph\": null, \"hover_glyph\": null, \"glyph\": {\"type\": \"Line\", \"id\": \"e4a2fbd7-702c-445e-9bf0-f9c256a79cf3\"}}, \"type\": \"GlyphRenderer\", \"id\": \"455ba4e0-4527-4707-b259-32814ef3571d\"}, {\"attributes\": {\"plot\": {\"subtype\": \"Figure\", \"type\": \"Plot\", \"id\": \"308aab56-89f9-42ba-b72f-048376f0cdcd\"}}, \"type\": \"ResizeTool\", \"id\": \"91ca8f86-954a-4433-b418-ea6cbb61e855\"}, {\"attributes\": {\"nonselection_glyph\": {\"type\": \"Line\", \"id\": \"20be6c1d-8895-4c1e-a448-9028e207e57d\"}, \"data_source\": {\"type\": \"ColumnDataSource\", \"id\": \"821b69ea-2653-4fbd-8172-4cae600ddbea\"}, \"selection_glyph\": null, \"hover_glyph\": null, \"glyph\": {\"type\": \"Line\", \"id\": \"c36af39f-52bd-4545-86c3-8fa5b53ee5ce\"}}, \"type\": \"GlyphRenderer\", \"id\": \"3768f201-a11b-4ab4-b287-c0b044404d5a\"}, {\"attributes\": {\"plot\": {\"subtype\": \"Figure\", \"type\": \"Plot\", \"id\": \"e72cd7ae-499c-45d7-9258-58511a421948\"}, \"ticker\": {\"type\": \"BasicTicker\", \"id\": \"128b9ba0-8439-43cb-81bc-73e42653f0b5\"}, \"dimension\": 1}, \"type\": \"Grid\", \"id\": \"98a9384c-a84b-497b-bfdd-d2dc4fcb8625\"}, {\"attributes\": {\"plot\": {\"subtype\": \"Figure\", \"type\": \"Plot\", \"id\": \"308aab56-89f9-42ba-b72f-048376f0cdcd\"}, \"legends\": [[\"Train Scores\", [{\"type\": \"GlyphRenderer\", \"id\": \"7b21e195-9735-4a09-b0bc-0b3a00a4905a\"}]], [\"Test Scores\", [{\"type\": \"GlyphRenderer\", \"id\": \"4500df88-17ca-4c6e-a255-19b3264b034f\"}]]]}, \"type\": \"Legend\", \"id\": \"a65b2a47-2495-4d4e-bf64-5f1f8e6019ba\"}, {\"attributes\": {\"callback\": null, \"column_names\": [\"y\", \"x\"], \"data\": {\"y\": [0.9703703703703704, 0.98348623853211, 0.9803680981595093, 0.9706422018348624, 0.9663003663003662, 0.9669724770642201, 0.968062827225131, 0.9701834862385322, 0.9739307535641547, 0.9758241758241757], \"x\": [54, 109, 163, 218, 273, 327, 382, 436, 491, 546]}}, \"type\": \"ColumnDataSource\", \"id\": \"bfbc15b3-f768-46c2-b4aa-ddd3909fe288\"}, {\"attributes\": {\"nonselection_glyph\": {\"type\": \"Line\", \"id\": \"03b40656-5625-4a79-adfc-3cba89544b8c\"}, \"data_source\": {\"type\": \"ColumnDataSource\", \"id\": \"bfbc15b3-f768-46c2-b4aa-ddd3909fe288\"}, \"selection_glyph\": null, \"hover_glyph\": null, \"glyph\": {\"type\": \"Line\", \"id\": \"d4c87882-fd7d-46ca-9026-a3bc851de03b\"}}, \"type\": \"GlyphRenderer\", \"id\": \"68cf24c8-7a2b-4fd1-8950-2859af9af747\"}, {\"attributes\": {\"line_color\": {\"value\": \"#1f77b4\"}, \"line_alpha\": {\"value\": 0.1}, \"y\": {\"field\": \"y\"}, \"x\": {\"field\": \"x\"}}, \"type\": \"Line\", \"id\": \"8f8e1e6b-5318-4391-9beb-577d5f39bad0\"}, {\"attributes\": {\"line_color\": {\"value\": \"red\"}, \"x\": {\"field\": \"x\"}, \"y\": {\"field\": \"y\"}}, \"type\": \"Line\", \"id\": \"e4a2fbd7-702c-445e-9bf0-f9c256a79cf3\"}, {\"attributes\": {\"line_color\": {\"value\": \"red\"}, \"x\": {\"field\": \"x\"}, \"y\": {\"field\": \"y\"}}, \"type\": \"Line\", \"id\": \"d4c87882-fd7d-46ca-9026-a3bc851de03b\"}, {\"attributes\": {\"line_color\": {\"value\": \"#1f77b4\"}, \"line_alpha\": {\"value\": 0.1}, \"y\": {\"field\": \"y\"}, \"x\": {\"field\": \"x\"}}, \"type\": \"Line\", \"id\": \"20be6c1d-8895-4c1e-a448-9028e207e57d\"}, {\"attributes\": {\"plot\": {\"subtype\": \"Figure\", \"type\": \"Plot\", \"id\": \"308aab56-89f9-42ba-b72f-048376f0cdcd\"}, \"ticker\": {\"type\": \"BasicTicker\", \"id\": \"cd05986b-fd12-47fa-af17-417805048d75\"}, \"dimension\": 1}, \"type\": \"Grid\", \"id\": \"fe7733fc-c89c-4c8d-a9b9-5cc9d14ef3f5\"}, {\"attributes\": {\"plot\": {\"subtype\": \"Figure\", \"type\": \"Plot\", \"id\": \"17cce26a-79da-4ea0-8bab-e4065977bcd8\"}, \"formatter\": {\"type\": \"BasicTickFormatter\", \"id\": \"1b54ae76-ee47-43ea-bd58-91b8ede6c83a\"}, \"ticker\": {\"type\": \"BasicTicker\", \"id\": \"fbdbbb82-b4f8-4f04-841b-498044b7f564\"}}, \"type\": \"LinearAxis\", \"id\": \"04c0ed0e-67e4-4e86-afff-7d3a6e0e09a2\"}, {\"attributes\": {}, \"type\": \"BasicTickFormatter\", \"id\": \"64ee479a-42ff-49e7-a76d-6e2600884241\"}, {\"attributes\": {\"plot\": {\"subtype\": \"Figure\", \"type\": \"Plot\", \"id\": \"381fce6c-a852-4279-bc7b-68774fd8c229\"}, \"formatter\": {\"type\": \"BasicTickFormatter\", \"id\": \"49997cb8-938d-4827-a065-1c9370564abf\"}, \"ticker\": {\"type\": \"BasicTicker\", \"id\": \"83822fb1-990c-461f-97d2-b07d6f2cacb5\"}}, \"type\": \"LinearAxis\", \"id\": \"3ce5bedf-70d3-4008-8287-1864578be4a6\"}, {\"attributes\": {\"plot\": {\"subtype\": \"Figure\", \"type\": \"Plot\", \"id\": \"17cce26a-79da-4ea0-8bab-e4065977bcd8\"}}, \"type\": \"ResetTool\", \"id\": \"838ceec0-a71d-46b1-b32f-bdd7c0f0df4f\"}, {\"attributes\": {}, \"type\": \"BasicTicker\", \"id\": \"fbdbbb82-b4f8-4f04-841b-498044b7f564\"}, {\"attributes\": {\"plot\": {\"subtype\": \"Figure\", \"type\": \"Plot\", \"id\": \"17cce26a-79da-4ea0-8bab-e4065977bcd8\"}, \"formatter\": {\"type\": \"BasicTickFormatter\", \"id\": \"f74a21b5-308b-4bb3-90df-bcb4de9c3a8a\"}, \"ticker\": {\"type\": \"BasicTicker\", \"id\": \"97a6cc0e-89ba-4d34-9e7d-a766af6033c8\"}}, \"type\": \"LinearAxis\", \"id\": \"f7b524df-4117-4647-be7a-ddc582e50db5\"}, {\"attributes\": {}, \"type\": \"BasicTicker\", \"id\": \"128b9ba0-8439-43cb-81bc-73e42653f0b5\"}, {\"attributes\": {\"nonselection_glyph\": {\"type\": \"Line\", \"id\": \"ae0b502f-67a4-4844-8baa-2ebab4ecab74\"}, \"data_source\": {\"type\": \"ColumnDataSource\", \"id\": \"81170c8b-981b-4e70-9378-fdbfcc07ad06\"}, \"selection_glyph\": null, \"hover_glyph\": null, \"glyph\": {\"type\": \"Line\", \"id\": \"2a265c68-9319-484c-af6b-576a4b2748c5\"}}, \"type\": \"GlyphRenderer\", \"id\": \"03814cb3-3c83-4d50-af9e-241b89b2752b\"}, {\"attributes\": {}, \"type\": \"BasicTicker\", \"id\": \"83822fb1-990c-461f-97d2-b07d6f2cacb5\"}, {\"attributes\": {}, \"type\": \"BasicTicker\", \"id\": \"97a6cc0e-89ba-4d34-9e7d-a766af6033c8\"}, {\"attributes\": {\"plot\": {\"subtype\": \"Figure\", \"type\": \"Plot\", \"id\": \"308aab56-89f9-42ba-b72f-048376f0cdcd\"}}, \"type\": \"PanTool\", \"id\": \"2bd35793-10a9-41e7-ab47-c5c73f2d0dd6\"}, {\"attributes\": {\"line_color\": {\"value\": \"#1f77b4\"}, \"line_alpha\": {\"value\": 0.1}, \"y\": {\"field\": \"y\"}, \"x\": {\"field\": \"x\"}}, \"type\": \"Line\", \"id\": \"159fe55a-e591-4495-8e36-205be0818941\"}, {\"attributes\": {\"callback\": null, \"column_names\": [\"y\", \"x\"], \"data\": {\"y\": [0.9431521739130435, 0.9240869565217391, 0.9282608695652174, 0.9306832298136646, 0.9206521739130435], \"x\": [1840, 2300, 2760, 3220, 3680]}}, \"type\": \"ColumnDataSource\", \"id\": \"a19ffbdf-a501-4a85-9f64-863cf0702621\"}, {\"attributes\": {\"plot\": {\"subtype\": \"Figure\", \"type\": \"Plot\", \"id\": \"308aab56-89f9-42ba-b72f-048376f0cdcd\"}}, \"type\": \"HelpTool\", \"id\": \"9c5746f5-f193-4a56-a130-4c0a1ac6a33a\"}, {\"attributes\": {\"callback\": null, \"start\": 0.9}, \"type\": \"Range1d\", \"id\": \"712f8623-538f-42c7-a089-34c382c95686\"}, {\"attributes\": {\"plot\": {\"subtype\": \"Figure\", \"type\": \"Plot\", \"id\": \"308aab56-89f9-42ba-b72f-048376f0cdcd\"}, \"formatter\": {\"type\": \"BasicTickFormatter\", \"id\": \"8c13e02b-90c8-473b-bc6b-9f2c4631c326\"}, \"ticker\": {\"type\": \"BasicTicker\", \"id\": \"602d1f14-35cd-46dc-9d75-f449bd9b1eec\"}}, \"type\": \"LinearAxis\", \"id\": \"2caf3732-05c6-4b44-a953-79451d8f6580\"}, {\"attributes\": {}, \"type\": \"ToolEvents\", \"id\": \"4dc16f6a-e256-43ae-8e31-06dd381a948b\"}, {\"attributes\": {\"line_color\": {\"value\": \"blue\"}, \"x\": {\"field\": \"x\"}, \"y\": {\"field\": \"y\"}}, \"type\": \"Line\", \"id\": \"2a265c68-9319-484c-af6b-576a4b2748c5\"}, {\"attributes\": {\"x_range\": {\"type\": \"DataRange1d\", \"id\": \"d4312e3a-4143-4797-a7a8-8efd721d00d7\"}, \"title\": \"Learning Curve\", \"y_range\": {\"type\": \"Range1d\", \"id\": \"a92ee6ef-cf41-41ae-b857-d25acf62d0b6\"}, \"renderers\": [{\"type\": \"LinearAxis\", \"id\": \"7565a9be-7fee-4807-af87-263c9fad7c0c\"}, {\"type\": \"Grid\", \"id\": \"96c25b53-91cc-439d-8c4d-931c28586726\"}, {\"type\": \"LinearAxis\", \"id\": \"3ce5bedf-70d3-4008-8287-1864578be4a6\"}, {\"type\": \"Grid\", \"id\": \"b895f14b-6cd6-45a8-9096-0540ee39664b\"}, {\"type\": \"BoxAnnotation\", \"id\": \"7a50bed9-ccc1-4270-8a83-192f69c32fc0\"}, {\"type\": \"Legend\", \"id\": \"c1c2f1ca-1b17-4a18-9405-485a92a08c89\"}, {\"type\": \"GlyphRenderer\", \"id\": \"455ba4e0-4527-4707-b259-32814ef3571d\"}, {\"type\": \"GlyphRenderer\", \"id\": \"8cac6fb0-7ad7-42ac-91db-77ef875ee0b2\"}], \"below\": [{\"type\": \"LinearAxis\", \"id\": \"7565a9be-7fee-4807-af87-263c9fad7c0c\"}], \"tool_events\": {\"type\": \"ToolEvents\", \"id\": \"29a0976d-ec4f-40cc-82c6-2d7872ee3c92\"}, \"tools\": [{\"type\": \"PanTool\", \"id\": \"75272535-f226-4821-a134-4f692caf7895\"}, {\"type\": \"WheelZoomTool\", \"id\": \"a303fb97-05c3-4ab3-8819-b4c4850e0b97\"}, {\"type\": \"BoxZoomTool\", \"id\": \"66469f68-0e31-4fa9-9f92-e2938f36f762\"}, {\"type\": \"PreviewSaveTool\", \"id\": \"4c0aa976-4fee-4c85-b41c-535b095bdda2\"}, {\"type\": \"ResizeTool\", \"id\": \"dcd97d99-43ef-40a0-987c-f00503b8dc20\"}, {\"type\": \"ResetTool\", \"id\": \"abf8475f-47c2-4904-b5ab-d250f4c288aa\"}, {\"type\": \"HelpTool\", \"id\": \"4cce5b1f-d7ad-48d4-bcf3-377e153c39f3\"}], \"left\": [{\"type\": \"LinearAxis\", \"id\": \"3ce5bedf-70d3-4008-8287-1864578be4a6\"}]}, \"type\": \"Plot\", \"id\": \"381fce6c-a852-4279-bc7b-68774fd8c229\", \"subtype\": \"Figure\"}, {\"attributes\": {\"plot\": {\"subtype\": \"Figure\", \"type\": \"Plot\", \"id\": \"17cce26a-79da-4ea0-8bab-e4065977bcd8\"}}, \"type\": \"WheelZoomTool\", \"id\": \"304ed363-fef2-4f93-b752-d62d8442c25c\"}, {\"attributes\": {\"line_color\": {\"value\": \"blue\"}, \"x\": {\"field\": \"x\"}, \"y\": {\"field\": \"y\"}}, \"type\": \"Line\", \"id\": \"54ddb34d-b721-4662-a3d3-b058476d2cce\"}, {\"attributes\": {\"plot\": {\"subtype\": \"Figure\", \"type\": \"Plot\", \"id\": \"381fce6c-a852-4279-bc7b-68774fd8c229\"}}, \"type\": \"ResetTool\", \"id\": \"abf8475f-47c2-4904-b5ab-d250f4c288aa\"}, {\"attributes\": {\"line_color\": {\"value\": \"black\"}, \"line_alpha\": {\"value\": 1.0}, \"render_mode\": \"css\", \"bottom_units\": \"screen\", \"level\": \"overlay\", \"top_units\": \"screen\", \"fill_alpha\": {\"value\": 0.5}, \"plot\": null, \"left_units\": \"screen\", \"line_dash\": [4, 4], \"line_width\": {\"value\": 2}, \"right_units\": \"screen\", \"fill_color\": {\"value\": \"lightgrey\"}}, \"type\": \"BoxAnnotation\", \"id\": \"60f7f6c2-91e3-48d8-8792-0c35c868e6e9\"}, {\"attributes\": {\"callback\": null, \"start\": 0.7}, \"type\": \"Range1d\", \"id\": \"a92ee6ef-cf41-41ae-b857-d25acf62d0b6\"}, {\"attributes\": {\"callback\": null}, \"type\": \"DataRange1d\", \"id\": \"d4312e3a-4143-4797-a7a8-8efd721d00d7\"}, {\"attributes\": {\"x_range\": {\"type\": \"DataRange1d\", \"id\": \"d0f9f202-5d22-4533-9bbb-041652a0fb6f\"}, \"title\": \"Learning Curve\", \"y_range\": {\"type\": \"Range1d\", \"id\": \"712f8623-538f-42c7-a089-34c382c95686\"}, \"renderers\": [{\"type\": \"LinearAxis\", \"id\": \"04c0ed0e-67e4-4e86-afff-7d3a6e0e09a2\"}, {\"type\": \"Grid\", \"id\": \"197fb179-0933-4b81-8db3-8693db178f01\"}, {\"type\": \"LinearAxis\", \"id\": \"f7b524df-4117-4647-be7a-ddc582e50db5\"}, {\"type\": \"Grid\", \"id\": \"c9a2a226-7673-413b-a8ed-5cb0aaf482a7\"}, {\"type\": \"BoxAnnotation\", \"id\": \"fec25c73-bf5d-48d1-ab43-29b249752ef0\"}, {\"type\": \"Legend\", \"id\": \"87897572-ea8d-41d9-bc30-6a1e8cdd5ea8\"}, {\"type\": \"GlyphRenderer\", \"id\": \"b471f0c7-7960-4e62-a442-84ea5a74dd87\"}, {\"type\": \"GlyphRenderer\", \"id\": \"03814cb3-3c83-4d50-af9e-241b89b2752b\"}], \"below\": [{\"type\": \"LinearAxis\", \"id\": \"04c0ed0e-67e4-4e86-afff-7d3a6e0e09a2\"}], \"tool_events\": {\"type\": \"ToolEvents\", \"id\": \"4dc16f6a-e256-43ae-8e31-06dd381a948b\"}, \"tools\": [{\"type\": \"PanTool\", \"id\": \"56682e55-24be-453b-a6a3-9139ffbc4981\"}, {\"type\": \"WheelZoomTool\", \"id\": \"304ed363-fef2-4f93-b752-d62d8442c25c\"}, {\"type\": \"BoxZoomTool\", \"id\": \"1f40ce4d-8a81-4ac0-b46b-67582af1710a\"}, {\"type\": \"PreviewSaveTool\", \"id\": \"6769ae32-1523-4a85-b41e-ee5d721b6140\"}, {\"type\": \"ResizeTool\", \"id\": \"fa876cbc-47ce-4886-9d8a-5a135358725d\"}, {\"type\": \"ResetTool\", \"id\": \"838ceec0-a71d-46b1-b32f-bdd7c0f0df4f\"}, {\"type\": \"HelpTool\", \"id\": \"ffc92f4b-c55d-4761-80b4-0f1569bb6219\"}], \"left\": [{\"type\": \"LinearAxis\", \"id\": \"f7b524df-4117-4647-be7a-ddc582e50db5\"}]}, \"type\": \"Plot\", \"id\": \"17cce26a-79da-4ea0-8bab-e4065977bcd8\", \"subtype\": \"Figure\"}, {\"attributes\": {\"line_color\": {\"value\": \"#1f77b4\"}, \"line_alpha\": {\"value\": 0.1}, \"y\": {\"field\": \"y\"}, \"x\": {\"field\": \"x\"}}, \"type\": \"Line\", \"id\": \"a4f2c49c-1d43-46f2-a8a0-da2145754911\"}, {\"attributes\": {\"line_color\": {\"value\": \"#1f77b4\"}, \"line_alpha\": {\"value\": 0.1}, \"y\": {\"field\": \"y\"}, \"x\": {\"field\": \"x\"}}, \"type\": \"Line\", \"id\": \"03b40656-5625-4a79-adfc-3cba89544b8c\"}, {\"attributes\": {\"plot\": {\"subtype\": \"Figure\", \"type\": \"Plot\", \"id\": \"17cce26a-79da-4ea0-8bab-e4065977bcd8\"}}, \"type\": \"PanTool\", \"id\": \"56682e55-24be-453b-a6a3-9139ffbc4981\"}, {\"attributes\": {}, \"type\": \"BasicTicker\", \"id\": \"602d1f14-35cd-46dc-9d75-f449bd9b1eec\"}, {\"attributes\": {\"plot\": {\"subtype\": \"Figure\", \"type\": \"Plot\", \"id\": \"e72cd7ae-499c-45d7-9258-58511a421948\"}}, \"type\": \"WheelZoomTool\", \"id\": \"9edfb679-b14a-4aa4-b1b7-10361f7a001f\"}, {\"attributes\": {\"callback\": null, \"column_names\": [\"y\", \"x\"], \"data\": {\"y\": [0.9929347826086957, 0.9294466403162056, 0.9272515527950309, 0.9303708439897698, 0.9206521739130435], \"x\": [1472, 2024, 2576, 3128, 3680]}}, \"type\": \"ColumnDataSource\", \"id\": \"d0e144e9-9d36-45b9-a231-5c30e9200cd3\"}, {\"attributes\": {\"plot\": {\"subtype\": \"Figure\", \"type\": \"Plot\", \"id\": \"381fce6c-a852-4279-bc7b-68774fd8c229\"}, \"legends\": [[\"Train Scores\", [{\"type\": \"GlyphRenderer\", \"id\": \"455ba4e0-4527-4707-b259-32814ef3571d\"}]], [\"Test Scores\", [{\"type\": \"GlyphRenderer\", \"id\": \"8cac6fb0-7ad7-42ac-91db-77ef875ee0b2\"}]]]}, \"type\": \"Legend\", \"id\": \"c1c2f1ca-1b17-4a18-9405-485a92a08c89\"}, {\"attributes\": {\"plot\": {\"subtype\": \"Figure\", \"type\": \"Plot\", \"id\": \"381fce6c-a852-4279-bc7b-68774fd8c229\"}}, \"type\": \"WheelZoomTool\", \"id\": \"a303fb97-05c3-4ab3-8819-b4c4850e0b97\"}, {\"attributes\": {\"plot\": {\"subtype\": \"Figure\", \"type\": \"Plot\", \"id\": \"17cce26a-79da-4ea0-8bab-e4065977bcd8\"}}, \"type\": \"PreviewSaveTool\", \"id\": \"6769ae32-1523-4a85-b41e-ee5d721b6140\"}, {\"attributes\": {\"plot\": {\"subtype\": \"Figure\", \"type\": \"Plot\", \"id\": \"308aab56-89f9-42ba-b72f-048376f0cdcd\"}, \"formatter\": {\"type\": \"BasicTickFormatter\", \"id\": \"eb8a6d08-edbd-4b50-a542-4abd93931997\"}, \"ticker\": {\"type\": \"BasicTicker\", \"id\": \"cd05986b-fd12-47fa-af17-417805048d75\"}}, \"type\": \"LinearAxis\", \"id\": \"a69a0a5f-18d8-40c3-8bc6-3a7fe73a6eec\"}, {\"attributes\": {\"callback\": null, \"start\": 0.9}, \"type\": \"Range1d\", \"id\": \"d9d5c495-e844-4ee1-aa32-91f46bacc6dc\"}, {\"attributes\": {\"callback\": null, \"column_names\": [\"y\", \"x\"], \"data\": {\"y\": [0.8085326187767234, 0.8754778774549592, 0.8952489310597012, 0.9017664245822596, 0.9111111898761696], \"x\": [1840, 2300, 2760, 3220, 3680]}}, \"type\": \"ColumnDataSource\", \"id\": \"81170c8b-981b-4e70-9378-fdbfcc07ad06\"}, {\"attributes\": {\"nonselection_glyph\": {\"type\": \"Line\", \"id\": \"74c9f98f-d50a-44d5-8055-a709006e5fea\"}, \"data_source\": {\"type\": \"ColumnDataSource\", \"id\": \"b0c19dc4-8332-4fc6-a75f-50ba1bdaf829\"}, \"selection_glyph\": null, \"hover_glyph\": null, \"glyph\": {\"type\": \"Line\", \"id\": \"3b7c6e12-e4b5-4a3a-936f-c21d745ce588\"}}, \"type\": \"GlyphRenderer\", \"id\": \"b471f0c7-7960-4e62-a442-84ea5a74dd87\"}, {\"attributes\": {\"plot\": {\"subtype\": \"Figure\", \"type\": \"Plot\", \"id\": \"308aab56-89f9-42ba-b72f-048376f0cdcd\"}}, \"type\": \"PreviewSaveTool\", \"id\": \"fa5a19aa-ad6f-408f-81c5-ccf048bb8d50\"}, {\"attributes\": {}, \"type\": \"ToolEvents\", \"id\": \"d56eede6-e611-471d-9360-fb6694909f3f\"}, {\"attributes\": {\"callback\": null, \"start\": 0.7}, \"type\": \"Range1d\", \"id\": \"3b814519-f361-4ade-948d-f078f045fa5d\"}, {\"attributes\": {\"callback\": null, \"column_names\": [\"y\", \"x\"], \"data\": {\"y\": [0.9663152203298189, 0.9677534468775345, 0.9677750743444176, 0.9662935928629359, 0.969213300892133, 0.9677534468775345, 0.9662935928629359, 0.9662935928629359, 0.9662935928629359, 0.9662935928629359], \"x\": [54, 109, 163, 218, 273, 327, 382, 436, 491, 546]}}, \"type\": \"ColumnDataSource\", \"id\": \"821b69ea-2653-4fbd-8172-4cae600ddbea\"}, {\"attributes\": {\"callback\": null}, \"type\": \"DataRange1d\", \"id\": \"40fa0a6a-40b4-4b80-9855-89d4f0fa38c0\"}, {\"attributes\": {\"plot\": {\"subtype\": \"Figure\", \"type\": \"Plot\", \"id\": \"e72cd7ae-499c-45d7-9258-58511a421948\"}}, \"type\": \"PanTool\", \"id\": \"0acf49ee-09e8-4d39-ac3f-9a548fbaa200\"}, {\"attributes\": {\"line_color\": {\"value\": \"#1f77b4\"}, \"line_alpha\": {\"value\": 0.1}, \"y\": {\"field\": \"y\"}, \"x\": {\"field\": \"x\"}}, \"type\": \"Line\", \"id\": \"d14eb065-5fed-4e50-b93c-4380c509c3e7\"}, {\"attributes\": {\"plot\": {\"subtype\": \"Figure\", \"type\": \"Plot\", \"id\": \"17cce26a-79da-4ea0-8bab-e4065977bcd8\"}}, \"type\": \"ResizeTool\", \"id\": \"fa876cbc-47ce-4886-9d8a-5a135358725d\"}, {\"attributes\": {\"line_color\": {\"value\": \"#1f77b4\"}, \"line_alpha\": {\"value\": 0.1}, \"y\": {\"field\": \"y\"}, \"x\": {\"field\": \"x\"}}, \"type\": \"Line\", \"id\": \"74c9f98f-d50a-44d5-8055-a709006e5fea\"}, {\"attributes\": {\"plot\": {\"subtype\": \"Figure\", \"type\": \"Plot\", \"id\": \"e72cd7ae-499c-45d7-9258-58511a421948\"}}, \"type\": \"ResizeTool\", \"id\": \"8fe20940-0cd6-46cc-a5b3-913c1de7464b\"}, {\"attributes\": {\"plot\": {\"subtype\": \"Figure\", \"type\": \"Plot\", \"id\": \"308aab56-89f9-42ba-b72f-048376f0cdcd\"}, \"overlay\": {\"type\": \"BoxAnnotation\", \"id\": \"60f7f6c2-91e3-48d8-8792-0c35c868e6e9\"}}, \"type\": \"BoxZoomTool\", \"id\": \"fb868522-c74f-4800-8cb2-4b1e6c2e2acb\"}, {\"attributes\": {\"x_range\": {\"type\": \"DataRange1d\", \"id\": \"40fa0a6a-40b4-4b80-9855-89d4f0fa38c0\"}, \"title\": \"Learning Curve\", \"y_range\": {\"type\": \"Range1d\", \"id\": \"3b814519-f361-4ade-948d-f078f045fa5d\"}, \"renderers\": [{\"type\": \"LinearAxis\", \"id\": \"2caf3732-05c6-4b44-a953-79451d8f6580\"}, {\"type\": \"Grid\", \"id\": \"e11fe54d-9e17-4e33-b333-297c4721c38f\"}, {\"type\": \"LinearAxis\", \"id\": \"a69a0a5f-18d8-40c3-8bc6-3a7fe73a6eec\"}, {\"type\": \"Grid\", \"id\": \"fe7733fc-c89c-4c8d-a9b9-5cc9d14ef3f5\"}, {\"type\": \"BoxAnnotation\", \"id\": \"60f7f6c2-91e3-48d8-8792-0c35c868e6e9\"}, {\"type\": \"Legend\", \"id\": \"a65b2a47-2495-4d4e-bf64-5f1f8e6019ba\"}, {\"type\": \"GlyphRenderer\", \"id\": \"7b21e195-9735-4a09-b0bc-0b3a00a4905a\"}, {\"type\": \"GlyphRenderer\", \"id\": \"4500df88-17ca-4c6e-a255-19b3264b034f\"}], \"below\": [{\"type\": \"LinearAxis\", \"id\": \"2caf3732-05c6-4b44-a953-79451d8f6580\"}], \"tool_events\": {\"type\": \"ToolEvents\", \"id\": \"3d848bb6-e3e0-43e7-95a3-ed8ffdec4cb5\"}, \"tools\": [{\"type\": \"PanTool\", \"id\": \"2bd35793-10a9-41e7-ab47-c5c73f2d0dd6\"}, {\"type\": \"WheelZoomTool\", \"id\": \"dfda713b-7a7f-4dcd-95f3-b2e90c2dfdb3\"}, {\"type\": \"BoxZoomTool\", \"id\": \"fb868522-c74f-4800-8cb2-4b1e6c2e2acb\"}, {\"type\": \"PreviewSaveTool\", \"id\": \"fa5a19aa-ad6f-408f-81c5-ccf048bb8d50\"}, {\"type\": \"ResizeTool\", \"id\": \"91ca8f86-954a-4433-b418-ea6cbb61e855\"}, {\"type\": \"ResetTool\", \"id\": \"ba85eb2f-3975-477c-8452-c92bb028f9a1\"}, {\"type\": \"HelpTool\", \"id\": \"9c5746f5-f193-4a56-a130-4c0a1ac6a33a\"}], \"left\": [{\"type\": \"LinearAxis\", \"id\": \"a69a0a5f-18d8-40c3-8bc6-3a7fe73a6eec\"}]}, \"type\": \"Plot\", \"id\": \"308aab56-89f9-42ba-b72f-048376f0cdcd\", \"subtype\": \"Figure\"}, {\"attributes\": {\"plot\": {\"subtype\": \"Figure\", \"type\": \"Plot\", \"id\": \"17cce26a-79da-4ea0-8bab-e4065977bcd8\"}}, \"type\": \"HelpTool\", \"id\": \"ffc92f4b-c55d-4761-80b4-0f1569bb6219\"}, {\"attributes\": {}, \"type\": \"BasicTickFormatter\", \"id\": \"5341d089-19e7-4c90-bfcb-046bc2283f55\"}, {\"attributes\": {\"plot\": {\"subtype\": \"Figure\", \"type\": \"Plot\", \"id\": \"381fce6c-a852-4279-bc7b-68774fd8c229\"}}, \"type\": \"PreviewSaveTool\", \"id\": \"4c0aa976-4fee-4c85-b41c-535b095bdda2\"}, {\"attributes\": {\"line_color\": {\"value\": \"black\"}, \"line_alpha\": {\"value\": 1.0}, \"render_mode\": \"css\", \"bottom_units\": \"screen\", \"level\": \"overlay\", \"top_units\": \"screen\", \"fill_alpha\": {\"value\": 0.5}, \"plot\": null, \"left_units\": \"screen\", \"line_dash\": [4, 4], \"line_width\": {\"value\": 2}, \"right_units\": \"screen\", \"fill_color\": {\"value\": \"lightgrey\"}}, \"type\": \"BoxAnnotation\", \"id\": \"fec25c73-bf5d-48d1-ab43-29b249752ef0\"}, {\"attributes\": {\"nonselection_glyph\": {\"type\": \"Line\", \"id\": \"d14eb065-5fed-4e50-b93c-4380c509c3e7\"}, \"data_source\": {\"type\": \"ColumnDataSource\", \"id\": \"8d515698-c35f-4148-be83-c138062e0f6f\"}, \"selection_glyph\": null, \"hover_glyph\": null, \"glyph\": {\"type\": \"Line\", \"id\": \"76a1a4e6-d6fa-4be1-baf6-4980cb07fe82\"}}, \"type\": \"GlyphRenderer\", \"id\": \"4500df88-17ca-4c6e-a255-19b3264b034f\"}, {\"attributes\": {\"plot\": {\"subtype\": \"Figure\", \"type\": \"Plot\", \"id\": \"e72cd7ae-499c-45d7-9258-58511a421948\"}, \"legends\": [[\"Train Scores\", [{\"type\": \"GlyphRenderer\", \"id\": \"68cf24c8-7a2b-4fd1-8950-2859af9af747\"}]], [\"Test Scores\", [{\"type\": \"GlyphRenderer\", \"id\": \"3768f201-a11b-4ab4-b287-c0b044404d5a\"}]]]}, \"type\": \"Legend\", \"id\": \"000b0f8a-1979-4429-92e9-988788d4d50c\"}, {\"attributes\": {\"plot\": {\"subtype\": \"Figure\", \"type\": \"Plot\", \"id\": \"e72cd7ae-499c-45d7-9258-58511a421948\"}}, \"type\": \"ResetTool\", \"id\": \"151e9a58-ed25-4d4b-a750-64bee26628e5\"}, {\"attributes\": {\"plot\": {\"subtype\": \"Figure\", \"type\": \"Plot\", \"id\": \"381fce6c-a852-4279-bc7b-68774fd8c229\"}}, \"type\": \"ResizeTool\", \"id\": \"dcd97d99-43ef-40a0-987c-f00503b8dc20\"}, {\"attributes\": {}, \"type\": \"BasicTickFormatter\", \"id\": \"eb8a6d08-edbd-4b50-a542-4abd93931997\"}, {\"attributes\": {\"line_color\": {\"value\": \"red\"}, \"x\": {\"field\": \"x\"}, \"y\": {\"field\": \"y\"}}, \"type\": \"Line\", \"id\": \"3b7c6e12-e4b5-4a3a-936f-c21d745ce588\"}, {\"attributes\": {\"x_range\": {\"type\": \"DataRange1d\", \"id\": \"b688ee6d-44c4-4ec2-aec1-8a02120425bd\"}, \"title\": \"Learning Curve\", \"y_range\": {\"type\": \"Range1d\", \"id\": \"d9d5c495-e844-4ee1-aa32-91f46bacc6dc\"}, \"renderers\": [{\"type\": \"LinearAxis\", \"id\": \"19e72879-9e17-4d2b-b269-416643b1736a\"}, {\"type\": \"Grid\", \"id\": \"a57758e1-b32a-4d0d-9a9a-2e0a407509b2\"}, {\"type\": \"LinearAxis\", \"id\": \"dc8d1ef4-f363-4543-a0ee-0f62d647bf8d\"}, {\"type\": \"Grid\", \"id\": \"98a9384c-a84b-497b-bfdd-d2dc4fcb8625\"}, {\"type\": \"BoxAnnotation\", \"id\": \"1b671489-2feb-4578-ab10-22fc6b5ab57e\"}, {\"type\": \"Legend\", \"id\": \"000b0f8a-1979-4429-92e9-988788d4d50c\"}, {\"type\": \"GlyphRenderer\", \"id\": \"68cf24c8-7a2b-4fd1-8950-2859af9af747\"}, {\"type\": \"GlyphRenderer\", \"id\": \"3768f201-a11b-4ab4-b287-c0b044404d5a\"}], \"below\": [{\"type\": \"LinearAxis\", \"id\": \"19e72879-9e17-4d2b-b269-416643b1736a\"}], \"tool_events\": {\"type\": \"ToolEvents\", \"id\": \"d56eede6-e611-471d-9360-fb6694909f3f\"}, \"tools\": [{\"type\": \"PanTool\", \"id\": \"0acf49ee-09e8-4d39-ac3f-9a548fbaa200\"}, {\"type\": \"WheelZoomTool\", \"id\": \"9edfb679-b14a-4aa4-b1b7-10361f7a001f\"}, {\"type\": \"BoxZoomTool\", \"id\": \"876bcd32-777e-414a-9110-8cd96ed7ef57\"}, {\"type\": \"PreviewSaveTool\", \"id\": \"a00918a3-d914-4a51-b4b5-640ca577e1c3\"}, {\"type\": \"ResizeTool\", \"id\": \"8fe20940-0cd6-46cc-a5b3-913c1de7464b\"}, {\"type\": \"ResetTool\", \"id\": \"151e9a58-ed25-4d4b-a750-64bee26628e5\"}, {\"type\": \"HelpTool\", \"id\": \"a573f129-5346-46cb-93ea-ae9a747180e8\"}], \"left\": [{\"type\": \"LinearAxis\", \"id\": \"dc8d1ef4-f363-4543-a0ee-0f62d647bf8d\"}]}, \"type\": \"Plot\", \"id\": \"e72cd7ae-499c-45d7-9258-58511a421948\", \"subtype\": \"Figure\"}, {\"attributes\": {\"plot\": {\"subtype\": \"Figure\", \"type\": \"Plot\", \"id\": \"381fce6c-a852-4279-bc7b-68774fd8c229\"}, \"overlay\": {\"type\": \"BoxAnnotation\", \"id\": \"7a50bed9-ccc1-4270-8a83-192f69c32fc0\"}}, \"type\": \"BoxZoomTool\", \"id\": \"66469f68-0e31-4fa9-9f92-e2938f36f762\"}, {\"attributes\": {\"plot\": {\"subtype\": \"Figure\", \"type\": \"Plot\", \"id\": \"e72cd7ae-499c-45d7-9258-58511a421948\"}, \"formatter\": {\"type\": \"BasicTickFormatter\", \"id\": \"5341d089-19e7-4c90-bfcb-046bc2283f55\"}, \"ticker\": {\"type\": \"BasicTicker\", \"id\": \"128b9ba0-8439-43cb-81bc-73e42653f0b5\"}}, \"type\": \"LinearAxis\", \"id\": \"dc8d1ef4-f363-4543-a0ee-0f62d647bf8d\"}, {\"attributes\": {\"plot\": {\"subtype\": \"Figure\", \"type\": \"Plot\", \"id\": \"17cce26a-79da-4ea0-8bab-e4065977bcd8\"}, \"legends\": [[\"Train Scores\", [{\"type\": \"GlyphRenderer\", \"id\": \"b471f0c7-7960-4e62-a442-84ea5a74dd87\"}]], [\"Test Scores\", [{\"type\": \"GlyphRenderer\", \"id\": \"03814cb3-3c83-4d50-af9e-241b89b2752b\"}]]]}, \"type\": \"Legend\", \"id\": \"87897572-ea8d-41d9-bc30-6a1e8cdd5ea8\"}, {\"attributes\": {\"line_color\": {\"value\": \"blue\"}, \"x\": {\"field\": \"x\"}, \"y\": {\"field\": \"y\"}}, \"type\": \"Line\", \"id\": \"c36af39f-52bd-4545-86c3-8fa5b53ee5ce\"}, {\"attributes\": {\"plot\": {\"subtype\": \"Figure\", \"type\": \"Plot\", \"id\": \"e72cd7ae-499c-45d7-9258-58511a421948\"}}, \"type\": \"HelpTool\", \"id\": \"a573f129-5346-46cb-93ea-ae9a747180e8\"}, {\"attributes\": {\"plot\": {\"subtype\": \"Figure\", \"type\": \"Plot\", \"id\": \"e72cd7ae-499c-45d7-9258-58511a421948\"}, \"overlay\": {\"type\": \"BoxAnnotation\", \"id\": \"1b671489-2feb-4578-ab10-22fc6b5ab57e\"}}, \"type\": \"BoxZoomTool\", \"id\": \"876bcd32-777e-414a-9110-8cd96ed7ef57\"}, {\"attributes\": {}, \"type\": \"ToolEvents\", \"id\": \"29a0976d-ec4f-40cc-82c6-2d7872ee3c92\"}, {\"attributes\": {}, \"type\": \"BasicTickFormatter\", \"id\": \"ee2a2365-9401-446e-bbe1-1b4bddf35f1b\"}, {\"attributes\": {}, \"type\": \"BasicTickFormatter\", \"id\": \"1b54ae76-ee47-43ea-bd58-91b8ede6c83a\"}, {\"attributes\": {}, \"type\": \"BasicTickFormatter\", \"id\": \"f74a21b5-308b-4bb3-90df-bcb4de9c3a8a\"}, {\"attributes\": {}, \"type\": \"BasicTickFormatter\", \"id\": \"49997cb8-938d-4827-a065-1c9370564abf\"}, {\"attributes\": {\"line_color\": {\"value\": \"black\"}, \"line_alpha\": {\"value\": 1.0}, \"render_mode\": \"css\", \"bottom_units\": \"screen\", \"level\": \"overlay\", \"top_units\": \"screen\", \"fill_alpha\": {\"value\": 0.5}, \"plot\": null, \"left_units\": \"screen\", \"line_dash\": [4, 4], \"line_width\": {\"value\": 2}, \"right_units\": \"screen\", \"fill_color\": {\"value\": \"lightgrey\"}}, \"type\": \"BoxAnnotation\", \"id\": \"7a50bed9-ccc1-4270-8a83-192f69c32fc0\"}, {\"attributes\": {\"line_color\": {\"value\": \"#1f77b4\"}, \"line_alpha\": {\"value\": 0.1}, \"y\": {\"field\": \"y\"}, \"x\": {\"field\": \"x\"}}, \"type\": \"Line\", \"id\": \"ae0b502f-67a4-4844-8baa-2ebab4ecab74\"}, {\"attributes\": {\"plot\": {\"subtype\": \"Figure\", \"type\": \"Plot\", \"id\": \"e72cd7ae-499c-45d7-9258-58511a421948\"}}, \"type\": \"PreviewSaveTool\", \"id\": \"a00918a3-d914-4a51-b4b5-640ca577e1c3\"}, {\"attributes\": {\"callback\": null}, \"type\": \"DataRange1d\", \"id\": \"b688ee6d-44c4-4ec2-aec1-8a02120425bd\"}, {\"attributes\": {}, \"type\": \"BasicTicker\", \"id\": \"cd05986b-fd12-47fa-af17-417805048d75\"}, {\"attributes\": {\"callback\": null}, \"type\": \"DataRange1d\", \"id\": \"d0f9f202-5d22-4533-9bbb-041652a0fb6f\"}, {\"attributes\": {\"nonselection_glyph\": {\"type\": \"Line\", \"id\": \"159fe55a-e591-4495-8e36-205be0818941\"}, \"data_source\": {\"type\": \"ColumnDataSource\", \"id\": \"d0e144e9-9d36-45b9-a231-5c30e9200cd3\"}, \"selection_glyph\": null, \"hover_glyph\": null, \"glyph\": {\"type\": \"Line\", \"id\": \"e08294c7-0f0c-41af-98f1-e4876c54a7b0\"}}, \"type\": \"GlyphRenderer\", \"id\": \"7b21e195-9735-4a09-b0bc-0b3a00a4905a\"}, {\"attributes\": {\"plot\": {\"subtype\": \"Figure\", \"type\": \"Plot\", \"id\": \"308aab56-89f9-42ba-b72f-048376f0cdcd\"}}, \"type\": \"ResetTool\", \"id\": \"ba85eb2f-3975-477c-8452-c92bb028f9a1\"}, {\"attributes\": {\"line_color\": {\"value\": \"blue\"}, \"x\": {\"field\": \"x\"}, \"y\": {\"field\": \"y\"}}, \"type\": \"Line\", \"id\": \"76a1a4e6-d6fa-4be1-baf6-4980cb07fe82\"}, {\"attributes\": {\"plot\": {\"subtype\": \"Figure\", \"type\": \"Plot\", \"id\": \"381fce6c-a852-4279-bc7b-68774fd8c229\"}, \"ticker\": {\"type\": \"BasicTicker\", \"id\": \"9267b331-e237-4f53-9b95-9b26a386c38d\"}}, \"type\": \"Grid\", \"id\": \"96c25b53-91cc-439d-8c4d-931c28586726\"}, {\"attributes\": {\"plot\": {\"subtype\": \"Figure\", \"type\": \"Plot\", \"id\": \"381fce6c-a852-4279-bc7b-68774fd8c229\"}, \"formatter\": {\"type\": \"BasicTickFormatter\", \"id\": \"64ee479a-42ff-49e7-a76d-6e2600884241\"}, \"ticker\": {\"type\": \"BasicTicker\", \"id\": \"9267b331-e237-4f53-9b95-9b26a386c38d\"}}, \"type\": \"LinearAxis\", \"id\": \"7565a9be-7fee-4807-af87-263c9fad7c0c\"}]}, \"title\": \"Bokeh Application\"}};\n",
       "            var render_items = [{\"notebook_comms_target\": \"ff9fd138-2448-417c-8170-741c4d93ecab\", \"docid\": \"c5f88601-bb84-4a00-8e28-654f7d5dbb90\", \"elementid\": \"e69d72fd-b37e-455d-810f-3a659bfe4d59\", \"modelid\": \"308aab56-89f9-42ba-b72f-048376f0cdcd\"}];\n",
       "            \n",
       "            Bokeh.embed.embed_items(docs_json, render_items);\n",
       "        });\n",
       "      },\n",
       "      function(Bokeh) {\n",
       "      }\n",
       "    ];\n",
       "  \n",
       "    function run_inline_js() {\n",
       "      for (var i = 0; i < inline_js.length; i++) {\n",
       "        inline_js[i](window.Bokeh);\n",
       "      }\n",
       "    }\n",
       "  \n",
       "    if (window._bokeh_is_loading === 0) {\n",
       "      console.log(\"Bokeh: BokehJS loaded, going straight to plotting\");\n",
       "      run_inline_js();\n",
       "    } else {\n",
       "      load_libs(js_urls, function() {\n",
       "        console.log(\"Bokeh: BokehJS plotting callback run at\", now());\n",
       "        run_inline_js();\n",
       "      });\n",
       "    }\n",
       "  }(this));\n",
       "</script>"
      ]
     },
     "metadata": {},
     "output_type": "display_data"
    }
   ],
   "source": [
    "# display learning curves\n",
    "do_learning_curve(best_model, X_new, y,\n",
    "                  sizes=np.linspace(0.4,1.0,5),\n",
    "                  y_range=(0.7, 1))"
   ]
  },
  {
   "cell_type": "markdown",
   "metadata": {},
   "source": [
    "# Exercise 4\n",
    "Repeat steps 1.a - 1.e for the car dataset. Notice that now features are categorical, not numerical.\n",
    "\n",
    "- Find a suitable way to encode them\n",
    "- How does this change our modeling strategy?\n",
    "\n",
    "Also notice that the target variable `acceptability` has 4 classes. How do we encode them?\n"
   ]
  },
  {
   "cell_type": "code",
   "execution_count": 42,
   "metadata": {
    "collapsed": false
   },
   "outputs": [
    {
     "name": "stdout",
     "output_type": "stream",
     "text": [
      "<class 'pandas.core.frame.DataFrame'>\n",
      "Int64Index: 1728 entries, 0 to 1727\n",
      "Data columns (total 7 columns):\n",
      "buying           1728 non-null object\n",
      "maint            1728 non-null object\n",
      "doors            1728 non-null object\n",
      "persons          1728 non-null object\n",
      "lug_boot         1728 non-null object\n",
      "safety           1728 non-null object\n",
      "acceptability    1728 non-null object\n",
      "dtypes: object(7)\n",
      "memory usage: 108.0+ KB\n"
     ]
    }
   ],
   "source": [
    "df = pd.read_csv('../../assets/datasets/car.csv')\n",
    "df.info()"
   ]
  },
  {
   "cell_type": "code",
   "execution_count": 43,
   "metadata": {
    "collapsed": false
   },
   "outputs": [
    {
     "data": {
      "text/plain": [
       "unacc    0.700231\n",
       "acc      0.222222\n",
       "good     0.039931\n",
       "vgood    0.037616\n",
       "Name: acceptability, dtype: float64"
      ]
     },
     "execution_count": 43,
     "metadata": {},
     "output_type": "execute_result"
    }
   ],
   "source": [
    "df['acceptability'].value_counts() / len(df)"
   ]
  },
  {
   "cell_type": "code",
   "execution_count": 44,
   "metadata": {
    "collapsed": false
   },
   "outputs": [
    {
     "data": {
      "text/plain": [
       "array(['acc', 'good', 'unacc', 'vgood'], dtype=object)"
      ]
     },
     "execution_count": 44,
     "metadata": {},
     "output_type": "execute_result"
    }
   ],
   "source": [
    "from sklearn.preprocessing import LabelEncoder\n",
    "le = LabelEncoder()\n",
    "labels = df['acceptability']\n",
    "le.fit(labels)\n",
    "y = le.transform(labels)\n",
    "le.classes_"
   ]
  },
  {
   "cell_type": "code",
   "execution_count": 45,
   "metadata": {
    "collapsed": false
   },
   "outputs": [],
   "source": [
    "X = pd.get_dummies(df.drop('acceptability', axis = 1))"
   ]
  },
  {
   "cell_type": "code",
   "execution_count": 46,
   "metadata": {
    "collapsed": false
   },
   "outputs": [
    {
     "name": "stdout",
     "output_type": "stream",
     "text": [
      "Best Params: {'svc__kernel': 'rbf', 'svc__C': 10}\n",
      "Best Score: 0.856481481481\n"
     ]
    }
   ],
   "source": [
    "parameters = {'svc__kernel':('linear', 'rbf'), 'svc__C':[0.01, 0.1, 1.0, 10, 100]}\n",
    "pipe = make_pipeline(StandardScaler(), SVC())\n",
    "\n",
    "best_model = do_grid_search(pipe, X, y, parameters)"
   ]
  },
  {
   "cell_type": "code",
   "execution_count": 47,
   "metadata": {
    "collapsed": false
   },
   "outputs": [
    {
     "name": "stdout",
     "output_type": "stream",
     "text": [
      "       pred_acc  pred_good  pred_unacc  pred_vgood\n",
      "acc         127          0           0           0\n",
      "good          1         22           0           0\n",
      "unacc         1          0         399           0\n",
      "vgood         0          0           0          21\n",
      "\n",
      "             precision    recall  f1-score   support\n",
      "\n",
      "          0       0.98      1.00      0.99       127\n",
      "          1       1.00      0.96      0.98        23\n",
      "          2       1.00      1.00      1.00       400\n",
      "          3       1.00      1.00      1.00        21\n",
      "\n",
      "avg / total       1.00      1.00      1.00       571\n",
      "\n"
     ]
    }
   ],
   "source": [
    "do_cm_cr(best_model, X, y, le.classes_)"
   ]
  },
  {
   "cell_type": "code",
   "execution_count": 34,
   "metadata": {
    "collapsed": false
   },
   "outputs": [
    {
     "data": {
      "text/html": [
       "\n",
       "\n",
       "    <div class=\"plotdiv\" id=\"3fabd9a8-8eb2-4afe-8191-0458110bc9b1\"></div>\n",
       "<script type=\"text/javascript\">\n",
       "  \n",
       "  (function(global) {\n",
       "    function now() {\n",
       "      return new Date();\n",
       "    }\n",
       "  \n",
       "    if (typeof (window._bokeh_onload_callbacks) === \"undefined\") {\n",
       "      window._bokeh_onload_callbacks = [];\n",
       "    }\n",
       "  \n",
       "    function run_callbacks() {\n",
       "      window._bokeh_onload_callbacks.forEach(function(callback) { callback() });\n",
       "      delete window._bokeh_onload_callbacks\n",
       "      console.info(\"Bokeh: all callbacks have finished\");\n",
       "    }\n",
       "  \n",
       "    function load_libs(js_urls, callback) {\n",
       "      window._bokeh_onload_callbacks.push(callback);\n",
       "      if (window._bokeh_is_loading > 0) {\n",
       "        console.log(\"Bokeh: BokehJS is being loaded, scheduling callback at\", now());\n",
       "        return null;\n",
       "      }\n",
       "      if (js_urls == null || js_urls.length === 0) {\n",
       "        run_callbacks();\n",
       "        return null;\n",
       "      }\n",
       "      console.log(\"Bokeh: BokehJS not loaded, scheduling load and callback at\", now());\n",
       "      window._bokeh_is_loading = js_urls.length;\n",
       "      for (var i = 0; i < js_urls.length; i++) {\n",
       "        var url = js_urls[i];\n",
       "        var s = document.createElement('script');\n",
       "        s.src = url;\n",
       "        s.async = false;\n",
       "        s.onreadystatechange = s.onload = function() {\n",
       "          window._bokeh_is_loading--;\n",
       "          if (window._bokeh_is_loading === 0) {\n",
       "            console.log(\"Bokeh: all BokehJS libraries loaded\");\n",
       "            run_callbacks()\n",
       "          }\n",
       "        };\n",
       "        s.onerror = function() {\n",
       "          console.warn(\"failed to load library \" + url);\n",
       "        };\n",
       "        console.log(\"Bokeh: injecting script tag for BokehJS library: \", url);\n",
       "        document.getElementsByTagName(\"head\")[0].appendChild(s);\n",
       "      }\n",
       "    };var element = document.getElementById(\"3fabd9a8-8eb2-4afe-8191-0458110bc9b1\");\n",
       "    if (element == null) {\n",
       "      console.log(\"Bokeh: ERROR: autoload.js configured with elementid '3fabd9a8-8eb2-4afe-8191-0458110bc9b1' but no matching script tag was found. \")\n",
       "      return false;\n",
       "    }var js_urls = [];\n",
       "  \n",
       "    var inline_js = [\n",
       "      function(Bokeh) {\n",
       "        Bokeh.$(function() {\n",
       "            var docs_json = {\"4cfa8607-352e-4b35-aa76-9c85358f81a7\": {\"version\": \"0.11.0\", \"roots\": {\"root_ids\": [\"17628419-8cb5-472b-b740-1a246531596b\", \"1c06b4d8-419e-4639-bb4a-17e5e78551c1\"], \"references\": [{\"attributes\": {\"callback\": null, \"column_names\": [\"y\", \"x\"], \"data\": {\"y\": [1.0, 1.0, 1.0, 1.0, 1.0, 1.0, 1.0, 1.0, 1.0, 1.0], \"x\": [345, 460, 575, 691, 806, 921, 1036, 1151, 1266, 1382]}}, \"type\": \"ColumnDataSource\", \"id\": \"02608cb5-bfb3-4aeb-8bcc-7335925ce9bd\"}, {\"attributes\": {\"nonselection_glyph\": {\"type\": \"Line\", \"id\": \"ea92ddc0-7799-4fa9-b86a-ad8e7f1ee184\"}, \"data_source\": {\"type\": \"ColumnDataSource\", \"id\": \"02608cb5-bfb3-4aeb-8bcc-7335925ce9bd\"}, \"selection_glyph\": null, \"hover_glyph\": null, \"glyph\": {\"type\": \"Line\", \"id\": \"67db1b13-2310-417a-bfaa-6e7c3b855102\"}}, \"type\": \"GlyphRenderer\", \"id\": \"255b2aa5-26b0-4e0c-8998-9b4f6158238e\"}, {\"attributes\": {\"plot\": {\"subtype\": \"Figure\", \"type\": \"Plot\", \"id\": \"17628419-8cb5-472b-b740-1a246531596b\"}}, \"type\": \"PanTool\", \"id\": \"f8c380e8-1e8a-4325-9998-3644e41cf58f\"}, {\"attributes\": {\"line_color\": {\"value\": \"#1f77b4\"}, \"line_alpha\": {\"value\": 0.1}, \"y\": {\"field\": \"y\"}, \"x\": {\"field\": \"x\"}}, \"type\": \"Line\", \"id\": \"ebefb766-c544-4a2c-8fe8-358b67720e33\"}, {\"attributes\": {\"plot\": {\"subtype\": \"Figure\", \"type\": \"Plot\", \"id\": \"17628419-8cb5-472b-b740-1a246531596b\"}, \"formatter\": {\"type\": \"BasicTickFormatter\", \"id\": \"450138d9-eff1-4800-ab0c-081c84c55c9a\"}, \"ticker\": {\"type\": \"BasicTicker\", \"id\": \"2e5e8549-6062-4507-a15a-3e936b7fb441\"}}, \"type\": \"LinearAxis\", \"id\": \"157643fc-b9de-4ffa-8959-bfde4183e5d0\"}, {\"attributes\": {\"plot\": {\"subtype\": \"Figure\", \"type\": \"Plot\", \"id\": \"1c06b4d8-419e-4639-bb4a-17e5e78551c1\"}, \"formatter\": {\"type\": \"BasicTickFormatter\", \"id\": \"77e27fb3-a7d7-4ac5-a74f-c6df13789bb6\"}, \"ticker\": {\"type\": \"BasicTicker\", \"id\": \"c6f50cc4-b683-4120-aa31-1a1df39d429a\"}}, \"type\": \"LinearAxis\", \"id\": \"1f0aceaa-2b10-403a-9760-fa1448d50e58\"}, {\"attributes\": {}, \"type\": \"BasicTicker\", \"id\": \"c6f50cc4-b683-4120-aa31-1a1df39d429a\"}, {\"attributes\": {\"x_range\": {\"type\": \"DataRange1d\", \"id\": \"9a3bbb2f-09fe-47c4-878b-e058a65b715b\"}, \"title\": \"Learning Curve\", \"y_range\": {\"type\": \"Range1d\", \"id\": \"e5e6f312-057b-45e5-8acf-b27ed1c615f7\"}, \"renderers\": [{\"type\": \"LinearAxis\", \"id\": \"157643fc-b9de-4ffa-8959-bfde4183e5d0\"}, {\"type\": \"Grid\", \"id\": \"18de0ec7-c3f8-47a3-aa01-b396a27a75a2\"}, {\"type\": \"LinearAxis\", \"id\": \"ce16b84f-34fe-4f43-b729-bb4be3b1209b\"}, {\"type\": \"Grid\", \"id\": \"30c7c335-926d-4d31-acfb-c94f794d3890\"}, {\"type\": \"BoxAnnotation\", \"id\": \"0e9def14-7736-4c9d-813a-75bdc5d1fb78\"}, {\"type\": \"Legend\", \"id\": \"1f9dbd0d-e241-4300-befd-ab4e9687e7dd\"}, {\"type\": \"GlyphRenderer\", \"id\": \"23bdcfbf-007d-437e-bf17-eee3dad67b76\"}, {\"type\": \"GlyphRenderer\", \"id\": \"cea78f1c-c964-45e2-9464-1be7c9af2b3f\"}], \"below\": [{\"type\": \"LinearAxis\", \"id\": \"157643fc-b9de-4ffa-8959-bfde4183e5d0\"}], \"tool_events\": {\"type\": \"ToolEvents\", \"id\": \"d9907d49-c465-47ed-a63b-052e9961b752\"}, \"tools\": [{\"type\": \"PanTool\", \"id\": \"f8c380e8-1e8a-4325-9998-3644e41cf58f\"}, {\"type\": \"WheelZoomTool\", \"id\": \"e7b188ba-7cb1-494c-b5dd-adf0a1710062\"}, {\"type\": \"BoxZoomTool\", \"id\": \"3bd1bdb8-7cfe-4aa8-b5a9-92da9f9fe8bc\"}, {\"type\": \"PreviewSaveTool\", \"id\": \"0c7f2bd4-0c6c-4d56-8c6d-e6ad1b99bdcf\"}, {\"type\": \"ResizeTool\", \"id\": \"3bb3279a-02e7-477f-9f74-df34b1dd7df3\"}, {\"type\": \"ResetTool\", \"id\": \"70e1c261-f000-4fe8-b668-712d7758cab3\"}, {\"type\": \"HelpTool\", \"id\": \"13bd73c2-e104-4c58-8996-b11bb611ee20\"}], \"left\": [{\"type\": \"LinearAxis\", \"id\": \"ce16b84f-34fe-4f43-b729-bb4be3b1209b\"}]}, \"type\": \"Plot\", \"id\": \"17628419-8cb5-472b-b740-1a246531596b\", \"subtype\": \"Figure\"}, {\"attributes\": {\"nonselection_glyph\": {\"type\": \"Line\", \"id\": \"ebefb766-c544-4a2c-8fe8-358b67720e33\"}, \"data_source\": {\"type\": \"ColumnDataSource\", \"id\": \"869143d9-3367-4a0d-bf0d-3cc58d4d9c38\"}, \"selection_glyph\": null, \"hover_glyph\": null, \"glyph\": {\"type\": \"Line\", \"id\": \"c3ba13cd-1298-4d0e-96c5-06122f72fbd3\"}}, \"type\": \"GlyphRenderer\", \"id\": \"23bdcfbf-007d-437e-bf17-eee3dad67b76\"}, {\"attributes\": {\"nonselection_glyph\": {\"type\": \"Line\", \"id\": \"e98e17cb-a8d7-42d0-b6e7-d8824c9bd0de\"}, \"data_source\": {\"type\": \"ColumnDataSource\", \"id\": \"dde498da-1ede-47ac-a8fd-f49e0b74da9e\"}, \"selection_glyph\": null, \"hover_glyph\": null, \"glyph\": {\"type\": \"Line\", \"id\": \"d98f351e-f641-4120-b66a-5b712a801a93\"}}, \"type\": \"GlyphRenderer\", \"id\": \"cea78f1c-c964-45e2-9464-1be7c9af2b3f\"}, {\"attributes\": {\"callback\": null, \"column_names\": [\"y\", \"x\"], \"data\": {\"y\": [0.9703703703703704, 0.98348623853211, 0.9803680981595093, 0.9706422018348624, 0.9663003663003662, 0.9669724770642201, 0.968062827225131, 0.9701834862385322, 0.9739307535641547, 0.9758241758241757], \"x\": [54, 109, 163, 218, 273, 327, 382, 436, 491, 546]}}, \"type\": \"ColumnDataSource\", \"id\": \"869143d9-3367-4a0d-bf0d-3cc58d4d9c38\"}, {\"attributes\": {\"line_color\": {\"value\": \"black\"}, \"line_alpha\": {\"value\": 1.0}, \"render_mode\": \"css\", \"bottom_units\": \"screen\", \"level\": \"overlay\", \"top_units\": \"screen\", \"fill_alpha\": {\"value\": 0.5}, \"plot\": null, \"left_units\": \"screen\", \"line_dash\": [4, 4], \"line_width\": {\"value\": 2}, \"right_units\": \"screen\", \"fill_color\": {\"value\": \"lightgrey\"}}, \"type\": \"BoxAnnotation\", \"id\": \"0e9def14-7736-4c9d-813a-75bdc5d1fb78\"}, {\"attributes\": {\"line_color\": {\"value\": \"red\"}, \"x\": {\"field\": \"x\"}, \"y\": {\"field\": \"y\"}}, \"type\": \"Line\", \"id\": \"c3ba13cd-1298-4d0e-96c5-06122f72fbd3\"}, {\"attributes\": {\"callback\": null, \"column_names\": [\"y\", \"x\"], \"data\": {\"y\": [0.7766232020432854, 0.8078505175426803, 0.8217334319128915, 0.814803737061433, 0.8709302325581396, 0.8836772415647264, 0.8975567952681812, 0.9409665277591074, 0.9838049469014652, 0.9959537572254336], \"x\": [345, 460, 575, 691, 806, 921, 1036, 1151, 1266, 1382]}}, \"type\": \"ColumnDataSource\", \"id\": \"c0d4e8d1-52e1-49cd-80d5-fa96dd67e8fc\"}, {\"attributes\": {}, \"type\": \"ToolEvents\", \"id\": \"d9907d49-c465-47ed-a63b-052e9961b752\"}, {\"attributes\": {\"plot\": {\"subtype\": \"Figure\", \"type\": \"Plot\", \"id\": \"17628419-8cb5-472b-b740-1a246531596b\"}, \"legends\": [[\"Train Scores\", [{\"type\": \"GlyphRenderer\", \"id\": \"23bdcfbf-007d-437e-bf17-eee3dad67b76\"}]], [\"Test Scores\", [{\"type\": \"GlyphRenderer\", \"id\": \"cea78f1c-c964-45e2-9464-1be7c9af2b3f\"}]]]}, \"type\": \"Legend\", \"id\": \"1f9dbd0d-e241-4300-befd-ab4e9687e7dd\"}, {\"attributes\": {\"callback\": null, \"end\": 1.1, \"start\": 0.7}, \"type\": \"Range1d\", \"id\": \"4843936a-0a88-486e-b18c-1d55e988daaf\"}, {\"attributes\": {\"plot\": {\"subtype\": \"Figure\", \"type\": \"Plot\", \"id\": \"17628419-8cb5-472b-b740-1a246531596b\"}}, \"type\": \"PreviewSaveTool\", \"id\": \"0c7f2bd4-0c6c-4d56-8c6d-e6ad1b99bdcf\"}, {\"attributes\": {\"plot\": {\"subtype\": \"Figure\", \"type\": \"Plot\", \"id\": \"1c06b4d8-419e-4639-bb4a-17e5e78551c1\"}, \"legends\": [[\"Train Scores\", [{\"type\": \"GlyphRenderer\", \"id\": \"255b2aa5-26b0-4e0c-8998-9b4f6158238e\"}]], [\"Test Scores\", [{\"type\": \"GlyphRenderer\", \"id\": \"60ae1af1-ccd5-45f4-9c37-3269e87e85aa\"}]]]}, \"type\": \"Legend\", \"id\": \"d94f1cdb-1c58-42c4-b2ef-0b12c4efe562\"}, {\"attributes\": {}, \"type\": \"BasicTickFormatter\", \"id\": \"77e27fb3-a7d7-4ac5-a74f-c6df13789bb6\"}, {\"attributes\": {}, \"type\": \"BasicTickFormatter\", \"id\": \"5d7d3dba-08d3-4a22-b01c-b080756486c3\"}, {\"attributes\": {\"line_color\": {\"value\": \"blue\"}, \"x\": {\"field\": \"x\"}, \"y\": {\"field\": \"y\"}}, \"type\": \"Line\", \"id\": \"b31c423c-982a-4b11-81c1-48bd447824c2\"}, {\"attributes\": {\"nonselection_glyph\": {\"type\": \"Line\", \"id\": \"39df6162-4320-4804-b871-1b22b7215dc9\"}, \"data_source\": {\"type\": \"ColumnDataSource\", \"id\": \"c0d4e8d1-52e1-49cd-80d5-fa96dd67e8fc\"}, \"selection_glyph\": null, \"hover_glyph\": null, \"glyph\": {\"type\": \"Line\", \"id\": \"b31c423c-982a-4b11-81c1-48bd447824c2\"}}, \"type\": \"GlyphRenderer\", \"id\": \"60ae1af1-ccd5-45f4-9c37-3269e87e85aa\"}, {\"attributes\": {\"plot\": {\"subtype\": \"Figure\", \"type\": \"Plot\", \"id\": \"1c06b4d8-419e-4639-bb4a-17e5e78551c1\"}}, \"type\": \"ResetTool\", \"id\": \"79c4dbfd-51bb-4b48-a804-f72d2ddd620a\"}, {\"attributes\": {\"plot\": {\"subtype\": \"Figure\", \"type\": \"Plot\", \"id\": \"17628419-8cb5-472b-b740-1a246531596b\"}, \"ticker\": {\"type\": \"BasicTicker\", \"id\": \"2e5e8549-6062-4507-a15a-3e936b7fb441\"}}, \"type\": \"Grid\", \"id\": \"18de0ec7-c3f8-47a3-aa01-b396a27a75a2\"}, {\"attributes\": {\"line_color\": {\"value\": \"#1f77b4\"}, \"line_alpha\": {\"value\": 0.1}, \"y\": {\"field\": \"y\"}, \"x\": {\"field\": \"x\"}}, \"type\": \"Line\", \"id\": \"ea92ddc0-7799-4fa9-b86a-ad8e7f1ee184\"}, {\"attributes\": {}, \"type\": \"ToolEvents\", \"id\": \"2651e5ab-a435-42ee-95f1-1f50bb490c5e\"}, {\"attributes\": {\"plot\": {\"subtype\": \"Figure\", \"type\": \"Plot\", \"id\": \"17628419-8cb5-472b-b740-1a246531596b\"}}, \"type\": \"WheelZoomTool\", \"id\": \"e7b188ba-7cb1-494c-b5dd-adf0a1710062\"}, {\"attributes\": {\"plot\": {\"subtype\": \"Figure\", \"type\": \"Plot\", \"id\": \"1c06b4d8-419e-4639-bb4a-17e5e78551c1\"}, \"ticker\": {\"type\": \"BasicTicker\", \"id\": \"633029f5-b079-4d1c-9343-9722c2e8a19f\"}}, \"type\": \"Grid\", \"id\": \"9655a749-48e1-4100-a753-b05ec5b8fe0a\"}, {\"attributes\": {\"plot\": {\"subtype\": \"Figure\", \"type\": \"Plot\", \"id\": \"17628419-8cb5-472b-b740-1a246531596b\"}}, \"type\": \"HelpTool\", \"id\": \"13bd73c2-e104-4c58-8996-b11bb611ee20\"}, {\"attributes\": {\"line_color\": {\"value\": \"red\"}, \"x\": {\"field\": \"x\"}, \"y\": {\"field\": \"y\"}}, \"type\": \"Line\", \"id\": \"67db1b13-2310-417a-bfaa-6e7c3b855102\"}, {\"attributes\": {\"x_range\": {\"type\": \"DataRange1d\", \"id\": \"601db46f-a486-4556-94c1-5fb488f5edcd\"}, \"title\": \"Learning Curve\", \"y_range\": {\"type\": \"Range1d\", \"id\": \"4843936a-0a88-486e-b18c-1d55e988daaf\"}, \"renderers\": [{\"type\": \"LinearAxis\", \"id\": \"ca72114a-c9fd-4052-a361-88883ab60e0c\"}, {\"type\": \"Grid\", \"id\": \"9655a749-48e1-4100-a753-b05ec5b8fe0a\"}, {\"type\": \"LinearAxis\", \"id\": \"1f0aceaa-2b10-403a-9760-fa1448d50e58\"}, {\"type\": \"Grid\", \"id\": \"111a0dd2-5b86-424e-bbe5-8536bb885c39\"}, {\"type\": \"BoxAnnotation\", \"id\": \"9067ab4e-f8a7-4e89-9f54-04a7f9325203\"}, {\"type\": \"Legend\", \"id\": \"d94f1cdb-1c58-42c4-b2ef-0b12c4efe562\"}, {\"type\": \"GlyphRenderer\", \"id\": \"255b2aa5-26b0-4e0c-8998-9b4f6158238e\"}, {\"type\": \"GlyphRenderer\", \"id\": \"60ae1af1-ccd5-45f4-9c37-3269e87e85aa\"}], \"below\": [{\"type\": \"LinearAxis\", \"id\": \"ca72114a-c9fd-4052-a361-88883ab60e0c\"}], \"tool_events\": {\"type\": \"ToolEvents\", \"id\": \"2651e5ab-a435-42ee-95f1-1f50bb490c5e\"}, \"tools\": [{\"type\": \"PanTool\", \"id\": \"4284b859-4660-4465-85a7-747c21160ffe\"}, {\"type\": \"WheelZoomTool\", \"id\": \"2c335ef3-cacc-4244-9325-0807418124fa\"}, {\"type\": \"BoxZoomTool\", \"id\": \"10399b39-ca5f-470b-989a-81dbe4f9a74e\"}, {\"type\": \"PreviewSaveTool\", \"id\": \"d307398b-e919-4f7a-b57f-df97ed4d801d\"}, {\"type\": \"ResizeTool\", \"id\": \"7543fc4d-b1bb-4c1e-8659-ac0dbf01eb87\"}, {\"type\": \"ResetTool\", \"id\": \"79c4dbfd-51bb-4b48-a804-f72d2ddd620a\"}, {\"type\": \"HelpTool\", \"id\": \"cacd8d03-21d8-4aa6-b47c-bd11647ae36b\"}], \"left\": [{\"type\": \"LinearAxis\", \"id\": \"1f0aceaa-2b10-403a-9760-fa1448d50e58\"}]}, \"type\": \"Plot\", \"id\": \"1c06b4d8-419e-4639-bb4a-17e5e78551c1\", \"subtype\": \"Figure\"}, {\"attributes\": {\"callback\": null}, \"type\": \"DataRange1d\", \"id\": \"9a3bbb2f-09fe-47c4-878b-e058a65b715b\"}, {\"attributes\": {\"line_color\": {\"value\": \"blue\"}, \"x\": {\"field\": \"x\"}, \"y\": {\"field\": \"y\"}}, \"type\": \"Line\", \"id\": \"d98f351e-f641-4120-b66a-5b712a801a93\"}, {\"attributes\": {\"plot\": {\"subtype\": \"Figure\", \"type\": \"Plot\", \"id\": \"17628419-8cb5-472b-b740-1a246531596b\"}, \"ticker\": {\"type\": \"BasicTicker\", \"id\": \"9e8be059-6e60-4e30-8389-144bee301a56\"}, \"dimension\": 1}, \"type\": \"Grid\", \"id\": \"30c7c335-926d-4d31-acfb-c94f794d3890\"}, {\"attributes\": {}, \"type\": \"BasicTickFormatter\", \"id\": \"8b098050-8e11-4105-a024-9d3b7413da58\"}, {\"attributes\": {\"line_color\": {\"value\": \"#1f77b4\"}, \"line_alpha\": {\"value\": 0.1}, \"y\": {\"field\": \"y\"}, \"x\": {\"field\": \"x\"}}, \"type\": \"Line\", \"id\": \"e98e17cb-a8d7-42d0-b6e7-d8824c9bd0de\"}, {\"attributes\": {\"plot\": {\"subtype\": \"Figure\", \"type\": \"Plot\", \"id\": \"1c06b4d8-419e-4639-bb4a-17e5e78551c1\"}, \"formatter\": {\"type\": \"BasicTickFormatter\", \"id\": \"5d7d3dba-08d3-4a22-b01c-b080756486c3\"}, \"ticker\": {\"type\": \"BasicTicker\", \"id\": \"633029f5-b079-4d1c-9343-9722c2e8a19f\"}}, \"type\": \"LinearAxis\", \"id\": \"ca72114a-c9fd-4052-a361-88883ab60e0c\"}, {\"attributes\": {\"callback\": null}, \"type\": \"DataRange1d\", \"id\": \"601db46f-a486-4556-94c1-5fb488f5edcd\"}, {\"attributes\": {\"plot\": {\"subtype\": \"Figure\", \"type\": \"Plot\", \"id\": \"1c06b4d8-419e-4639-bb4a-17e5e78551c1\"}}, \"type\": \"HelpTool\", \"id\": \"cacd8d03-21d8-4aa6-b47c-bd11647ae36b\"}, {\"attributes\": {\"plot\": {\"subtype\": \"Figure\", \"type\": \"Plot\", \"id\": \"1c06b4d8-419e-4639-bb4a-17e5e78551c1\"}}, \"type\": \"PreviewSaveTool\", \"id\": \"d307398b-e919-4f7a-b57f-df97ed4d801d\"}, {\"attributes\": {\"callback\": null, \"start\": 0.9}, \"type\": \"Range1d\", \"id\": \"e5e6f312-057b-45e5-8acf-b27ed1c615f7\"}, {\"attributes\": {}, \"type\": \"BasicTicker\", \"id\": \"633029f5-b079-4d1c-9343-9722c2e8a19f\"}, {\"attributes\": {\"plot\": {\"subtype\": \"Figure\", \"type\": \"Plot\", \"id\": \"1c06b4d8-419e-4639-bb4a-17e5e78551c1\"}}, \"type\": \"ResizeTool\", \"id\": \"7543fc4d-b1bb-4c1e-8659-ac0dbf01eb87\"}, {\"attributes\": {\"callback\": null, \"column_names\": [\"y\", \"x\"], \"data\": {\"y\": [0.9663152203298189, 0.9677534468775345, 0.9677750743444176, 0.9662935928629359, 0.969213300892133, 0.9677534468775345, 0.9662935928629359, 0.9662935928629359, 0.9662935928629359, 0.9662935928629359], \"x\": [54, 109, 163, 218, 273, 327, 382, 436, 491, 546]}}, \"type\": \"ColumnDataSource\", \"id\": \"dde498da-1ede-47ac-a8fd-f49e0b74da9e\"}, {\"attributes\": {\"plot\": {\"subtype\": \"Figure\", \"type\": \"Plot\", \"id\": \"1c06b4d8-419e-4639-bb4a-17e5e78551c1\"}}, \"type\": \"PanTool\", \"id\": \"4284b859-4660-4465-85a7-747c21160ffe\"}, {\"attributes\": {\"plot\": {\"subtype\": \"Figure\", \"type\": \"Plot\", \"id\": \"17628419-8cb5-472b-b740-1a246531596b\"}, \"overlay\": {\"type\": \"BoxAnnotation\", \"id\": \"0e9def14-7736-4c9d-813a-75bdc5d1fb78\"}}, \"type\": \"BoxZoomTool\", \"id\": \"3bd1bdb8-7cfe-4aa8-b5a9-92da9f9fe8bc\"}, {\"attributes\": {\"line_color\": {\"value\": \"black\"}, \"line_alpha\": {\"value\": 1.0}, \"render_mode\": \"css\", \"bottom_units\": \"screen\", \"level\": \"overlay\", \"top_units\": \"screen\", \"fill_alpha\": {\"value\": 0.5}, \"plot\": null, \"left_units\": \"screen\", \"line_dash\": [4, 4], \"line_width\": {\"value\": 2}, \"right_units\": \"screen\", \"fill_color\": {\"value\": \"lightgrey\"}}, \"type\": \"BoxAnnotation\", \"id\": \"9067ab4e-f8a7-4e89-9f54-04a7f9325203\"}, {\"attributes\": {}, \"type\": \"BasicTicker\", \"id\": \"2e5e8549-6062-4507-a15a-3e936b7fb441\"}, {\"attributes\": {}, \"type\": \"BasicTickFormatter\", \"id\": \"450138d9-eff1-4800-ab0c-081c84c55c9a\"}, {\"attributes\": {\"plot\": {\"subtype\": \"Figure\", \"type\": \"Plot\", \"id\": \"17628419-8cb5-472b-b740-1a246531596b\"}}, \"type\": \"ResetTool\", \"id\": \"70e1c261-f000-4fe8-b668-712d7758cab3\"}, {\"attributes\": {\"plot\": {\"subtype\": \"Figure\", \"type\": \"Plot\", \"id\": \"1c06b4d8-419e-4639-bb4a-17e5e78551c1\"}}, \"type\": \"WheelZoomTool\", \"id\": \"2c335ef3-cacc-4244-9325-0807418124fa\"}, {\"attributes\": {}, \"type\": \"BasicTicker\", \"id\": \"9e8be059-6e60-4e30-8389-144bee301a56\"}, {\"attributes\": {\"plot\": {\"subtype\": \"Figure\", \"type\": \"Plot\", \"id\": \"1c06b4d8-419e-4639-bb4a-17e5e78551c1\"}, \"overlay\": {\"type\": \"BoxAnnotation\", \"id\": \"9067ab4e-f8a7-4e89-9f54-04a7f9325203\"}}, \"type\": \"BoxZoomTool\", \"id\": \"10399b39-ca5f-470b-989a-81dbe4f9a74e\"}, {\"attributes\": {\"plot\": {\"subtype\": \"Figure\", \"type\": \"Plot\", \"id\": \"17628419-8cb5-472b-b740-1a246531596b\"}, \"formatter\": {\"type\": \"BasicTickFormatter\", \"id\": \"8b098050-8e11-4105-a024-9d3b7413da58\"}, \"ticker\": {\"type\": \"BasicTicker\", \"id\": \"9e8be059-6e60-4e30-8389-144bee301a56\"}}, \"type\": \"LinearAxis\", \"id\": \"ce16b84f-34fe-4f43-b729-bb4be3b1209b\"}, {\"attributes\": {\"plot\": {\"subtype\": \"Figure\", \"type\": \"Plot\", \"id\": \"1c06b4d8-419e-4639-bb4a-17e5e78551c1\"}, \"ticker\": {\"type\": \"BasicTicker\", \"id\": \"c6f50cc4-b683-4120-aa31-1a1df39d429a\"}, \"dimension\": 1}, \"type\": \"Grid\", \"id\": \"111a0dd2-5b86-424e-bbe5-8536bb885c39\"}, {\"attributes\": {\"line_color\": {\"value\": \"#1f77b4\"}, \"line_alpha\": {\"value\": 0.1}, \"y\": {\"field\": \"y\"}, \"x\": {\"field\": \"x\"}}, \"type\": \"Line\", \"id\": \"39df6162-4320-4804-b871-1b22b7215dc9\"}, {\"attributes\": {\"plot\": {\"subtype\": \"Figure\", \"type\": \"Plot\", \"id\": \"17628419-8cb5-472b-b740-1a246531596b\"}}, \"type\": \"ResizeTool\", \"id\": \"3bb3279a-02e7-477f-9f74-df34b1dd7df3\"}]}, \"title\": \"Bokeh Application\"}};\n",
       "            var render_items = [{\"notebook_comms_target\": \"27dfca9e-3f92-4800-aa39-4a427b9192c0\", \"docid\": \"4cfa8607-352e-4b35-aa76-9c85358f81a7\", \"elementid\": \"3fabd9a8-8eb2-4afe-8191-0458110bc9b1\", \"modelid\": \"1c06b4d8-419e-4639-bb4a-17e5e78551c1\"}];\n",
       "            \n",
       "            Bokeh.embed.embed_items(docs_json, render_items);\n",
       "        });\n",
       "      },\n",
       "      function(Bokeh) {\n",
       "      }\n",
       "    ];\n",
       "  \n",
       "    function run_inline_js() {\n",
       "      for (var i = 0; i < inline_js.length; i++) {\n",
       "        inline_js[i](window.Bokeh);\n",
       "      }\n",
       "    }\n",
       "  \n",
       "    if (window._bokeh_is_loading === 0) {\n",
       "      console.log(\"Bokeh: BokehJS loaded, going straight to plotting\");\n",
       "      run_inline_js();\n",
       "    } else {\n",
       "      load_libs(js_urls, function() {\n",
       "        console.log(\"Bokeh: BokehJS plotting callback run at\", now());\n",
       "        run_inline_js();\n",
       "      });\n",
       "    }\n",
       "  }(this));\n",
       "</script>"
      ]
     },
     "metadata": {},
     "output_type": "display_data"
    }
   ],
   "source": [
    "do_learning_curve(best_model, X, y, sizes=np.linspace(0.25, 1.0, 10), y_range=(0.7,1.1))"
   ]
  },
  {
   "cell_type": "markdown",
   "metadata": {},
   "source": [
    "# Bonus\n",
    "Repeat steps 1.a - 1.e for the mushroom dataset. Notice that now features are categorical, not numerical. This dataset is quite large.\n",
    "\n",
    "- How does this change our modeling strategy?\n",
    "- Can we use feature selection to improve this?\n"
   ]
  },
  {
   "cell_type": "code",
   "execution_count": null,
   "metadata": {
    "collapsed": true
   },
   "outputs": [],
   "source": []
  }
 ],
 "metadata": {
  "kernelspec": {
   "display_name": "Python 2",
   "language": "python",
   "name": "python2"
  },
  "language_info": {
   "codemirror_mode": {
    "name": "ipython",
    "version": 2
   },
   "file_extension": ".py",
   "mimetype": "text/x-python",
   "name": "python",
   "nbconvert_exporter": "python",
   "pygments_lexer": "ipython2",
   "version": "2.7.11"
  }
 },
 "nbformat": 4,
 "nbformat_minor": 0
}
