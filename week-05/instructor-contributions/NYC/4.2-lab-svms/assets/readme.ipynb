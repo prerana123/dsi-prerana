{
 "cells": [
  {
   "cell_type": "markdown",
   "metadata": {},
   "source": [
    "---\n",
    "title: Support Vector Machines Lab\n",
    "type: lab\n",
    "duration: \"1:25\"\n",
    "creator:\n",
    "    name: Francesco Mosconi\n",
    "    city: SF\n",
    "---"
   ]
  },
  {
   "cell_type": "markdown",
   "metadata": {},
   "source": [
    "# ![](https://ga-dash.s3.amazonaws.com/production/assets/logo-9f88ae6c9c3871690e33280fcf557f33.png) Support Vector Machines Lab"
   ]
  },
  {
   "cell_type": "markdown",
   "metadata": {},
   "source": [
    "## Introduction\n",
    "\n",
    "In this lab we will explore several datasets from the [UCI Machine Learning Repository](http://archive.ics.uci.edu/ml/datasets.html).\n",
    "We will also sharpen our tools creating some useful functions that wrap common machine learning tasks.\n",
    "\n",
    "The assets folder contains several datasets (in order of complexity):\n",
    "\n",
    "1. Breast cancer\n",
    "- Spambase\n",
    "- car evaluation\n",
    "\n",
    "For each of these a `.names` file is provided with details on the origin of data.\n",
    "\n",
    "Work in pairs.\n",
    "\n",
    "> **Instructor notes:**\n",
    "This lab builds gradually on several datasets. Each dataset should take max 25-30 minutes to analyze. If a pair is struggling, feel free to show them part or all of the solution to allow them to advance to the next dataset."
   ]
  },
  {
   "cell_type": "markdown",
   "metadata": {},
   "source": [
    "## Exercise\n",
    "\n",
    "#### Requirements\n",
    "\n",
    "For each dataset you'll be guided through few steps including:\n",
    "- feature extraction\n",
    "- model training (SVM)\n",
    "- accuracy evaluation\n",
    "- learning curves\n",
    "\n",
    "In addition you will learn to streamline your analysis by building wrapper functions around common steps.\n",
    "\n",
    "**Bonus:**\n",
    "\n",
    "The mushroom dataset contains some trickier aspects of data cleaning and preparation. It also contains a lot more features. It is given is bonus if you finish working on the others. Can you tackle it?\n",
    "\n",
    "#### Starter code\n",
    "\n",
    "[Starter Code](./code/starter-code/starter-code-5_2.ipynb)\n",
    "\n",
    "> [Solution Code](./code/solution-code/solution-code-5_2.ipynb)"
   ]
  },
  {
   "cell_type": "code",
   "execution_count": null,
   "metadata": {
    "collapsed": true
   },
   "outputs": [],
   "source": []
  }
 ],
 "metadata": {
  "kernelspec": {
   "display_name": "Python 2",
   "language": "python",
   "name": "python2"
  },
  "language_info": {
   "codemirror_mode": {
    "name": "ipython",
    "version": 2
   },
   "file_extension": ".py",
   "mimetype": "text/x-python",
   "name": "python",
   "nbconvert_exporter": "python",
   "pygments_lexer": "ipython2",
   "version": "2.7.11"
  }
 },
 "nbformat": 4,
 "nbformat_minor": 0
}
