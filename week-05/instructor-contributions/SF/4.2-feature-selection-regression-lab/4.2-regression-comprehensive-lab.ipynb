{
 "cells": [
  {
   "cell_type": "markdown",
   "metadata": {},
   "source": [
    "# Feature selection with regression lab\n",
    "\n",
    "You have been exploring feature selection, regularization, and evaluation metrics with classification this week (and last week).\n",
    "\n",
    "It's time to return to a regression problem.\n",
    "\n",
    "In this lab you will be working with a dataset on **reservoir levels in California**.\n",
    "\n",
    "---\n",
    "\n",
    "### Data summary\n",
    "\n",
    "The dataset contains these columns:\n",
    "\n",
    "    id : the reservoir string id\n",
    "    date : the string date of measurement\n",
    "    month : the month of measurement\n",
    "    year : the year of measurement\n",
    "    reservoir_volume : the current volume of the reservoir\n",
    "    dam : the dam that supplies water to the reservoir\n",
    "    lake : a lake associated with the reservoir\n",
    "    stream : a stream associated with the reservoir\n",
    "    capacity : the total capacity of the reservoir\n",
    "    elevation : the string for elevation of the reservoir\n",
    "    river_basin : string code for basin of the river associated with the reservoir\n",
    "    county : the string county code that the reservoir is in\n",
    "    hydrologic_area : another location string identifier\n",
    "    nearby_city : the city that the reservoir is located near\n",
    "    latitude : the exact latitude of the reservoir\n",
    "    longitude : the exact longitude of the reservoir\n",
    "    operator : the governmental organization that manages the reservoir\n",
    "\n",
    "---\n",
    "\n",
    "### Goal of the lab:\n",
    "\n",
    "Your primary goal is to **predict reservoir levels in 2015 using data from prior years**. Your primary evaluation metric will be **RMSE**, but feel free to try/use others as well.\n",
    "\n",
    "You have learned may useful skills to tackle this!\n",
    "\n",
    "- **Data munging/cleaning**\n",
    "- **EDA**\n",
    "- **Feature engineering**\n",
    "- **Feature selection**\n",
    "- **Regularization/gridsearching**\n",
    "- **Cross-validation**\n",
    "\n",
    "Use whatever you can to get the best predictive power! Godspeed.\n",
    "\n",
    "---\n",
    "\n",
    "### I WILL BE DOING THE LAB AT THE SAME TIME\n",
    "\n",
    "**You are competing with me in this lab to get a better RMSE.**\n",
    "\n",
    "YES, YES, I know it's \"unfair\" or whatever. However, I will be sharing my progress on my screen as I go through, so you have an advantage in that sense, since you can see what I'm doing as I go.\n",
    "\n",
    "#### WORK TOGETHER!!!\n",
    "\n",
    "Good Luck!\n",
    "\n",
    "---"
   ]
  },
  {
   "cell_type": "code",
   "execution_count": 1,
   "metadata": {
    "collapsed": true
   },
   "outputs": [],
   "source": [
    "import pandas as pd\n",
    "import numpy as np"
   ]
  },
  {
   "cell_type": "code",
   "execution_count": 2,
   "metadata": {
    "collapsed": true
   },
   "outputs": [],
   "source": [
    "res = pd.read_csv('./dataset/reservoir_levels.csv')"
   ]
  }
 ],
 "metadata": {
  "kernelspec": {
   "display_name": "Python 2",
   "language": "python",
   "name": "python2"
  },
  "language_info": {
   "codemirror_mode": {
    "name": "ipython",
    "version": 2
   },
   "file_extension": ".py",
   "mimetype": "text/x-python",
   "name": "python",
   "nbconvert_exporter": "python",
   "pygments_lexer": "ipython2",
   "version": "2.7.11"
  }
 },
 "nbformat": 4,
 "nbformat_minor": 0
}
