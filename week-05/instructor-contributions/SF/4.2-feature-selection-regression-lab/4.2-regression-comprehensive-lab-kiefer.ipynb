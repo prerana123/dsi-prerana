{
 "cells": [
  {
   "cell_type": "markdown",
   "metadata": {},
   "source": [
    "# Feature selection with regression lab\n",
    "\n",
    "You have been exploring feature selection, regularization, and evaluation metrics with classification this week (and last week).\n",
    "\n",
    "It's time to return to a regression problem.\n",
    "\n",
    "In this lab you will be working with a dataset on **reservoir levels in California**.\n",
    "\n",
    "---\n",
    "\n",
    "### Data summary\n",
    "\n",
    "The dataset contains these columns:\n",
    "\n",
    "    id : the reservoir string id\n",
    "    date : the string date of measurement\n",
    "    month : the month of measurement\n",
    "    year : the year of measurement\n",
    "    reservoir_volume : the current volume of the reservoir\n",
    "    dam : the dam that supplies water to the reservoir\n",
    "    lake : a lake associated with the reservoir\n",
    "    stream : a stream associated with the reservoir\n",
    "    capacity : the total capacity of the reservoir\n",
    "    elevation : the string for elevation of the reservoir\n",
    "    river_basin : string code for basin of the river associated with the reservoir\n",
    "    county : the string county code that the reservoir is in\n",
    "    hydrologic_area : another location string identifier\n",
    "    nearby_city : the city that the reservoir is located near\n",
    "    latitude : the exact latitude of the reservoir\n",
    "    longitude : the exact longitude of the reservoir\n",
    "    operator : the governmental organization that manages the reservoir\n",
    "\n",
    "---\n",
    "\n",
    "### Goal of the lab:\n",
    "\n",
    "Your primary goal is to **predict reservoir levels in 2015 using data from prior years**. Your primary evaluation metric will be **RMSE**, but feel free to try/use others as well.\n",
    "\n",
    "You have learned may useful skills to tackle this!\n",
    "\n",
    "- **Data munging/cleaning**\n",
    "- **EDA**\n",
    "- **Feature engineering**\n",
    "- **Feature selection**\n",
    "- **Regularization/gridsearching**\n",
    "- **Cross-validation**\n",
    "\n",
    "Use whatever you can to get the best predictive power! Godspeed.\n",
    "\n",
    "---\n",
    "\n",
    "### I WILL BE DOING THE LAB AT THE SAME TIME\n",
    "\n",
    "**You are competing with me in this lab to get a better RMSE.**\n",
    "\n",
    "YES, YES, I know it's \"unfair\" or whatever. However, I will be sharing my progress on my screen as I go through, so you have an advantage in that sense, since you can see what I'm doing as I go.\n",
    "\n",
    "#### WORK TOGETHER!!!\n",
    "\n",
    "Good Luck!\n",
    "\n",
    "---"
   ]
  },
  {
   "cell_type": "code",
   "execution_count": 1,
   "metadata": {
    "collapsed": true
   },
   "outputs": [],
   "source": [
    "import pandas as pd\n",
    "import numpy as np"
   ]
  },
  {
   "cell_type": "code",
   "execution_count": 2,
   "metadata": {
    "collapsed": true
   },
   "outputs": [],
   "source": [
    "res = pd.read_csv('./dataset/reservoir_levels.csv')"
   ]
  },
  {
   "cell_type": "code",
   "execution_count": 3,
   "metadata": {
    "collapsed": false
   },
   "outputs": [
    {
     "data": {
      "text/html": [
       "<div>\n",
       "<table border=\"1\" class=\"dataframe\">\n",
       "  <thead>\n",
       "    <tr style=\"text-align: right;\">\n",
       "      <th></th>\n",
       "      <th>date</th>\n",
       "      <th>month</th>\n",
       "      <th>year</th>\n",
       "      <th>id</th>\n",
       "      <th>reservoir_volume</th>\n",
       "      <th>dam</th>\n",
       "      <th>lake</th>\n",
       "      <th>stream</th>\n",
       "      <th>capacity</th>\n",
       "      <th>elevation</th>\n",
       "      <th>river_basin</th>\n",
       "      <th>county</th>\n",
       "      <th>hydrologic_area</th>\n",
       "      <th>nearby_city</th>\n",
       "      <th>latitude</th>\n",
       "      <th>longitude</th>\n",
       "      <th>operator</th>\n",
       "    </tr>\n",
       "  </thead>\n",
       "  <tbody>\n",
       "    <tr>\n",
       "      <th>0</th>\n",
       "      <td>2000-02</td>\n",
       "      <td>2</td>\n",
       "      <td>2000</td>\n",
       "      <td>APN</td>\n",
       "      <td>8891.0</td>\n",
       "      <td>Alpine</td>\n",
       "      <td>Alpine Lake</td>\n",
       "      <td>Lagunitas Creek</td>\n",
       "      <td>8900</td>\n",
       "      <td>654' ft</td>\n",
       "      <td>COAST-MARIN</td>\n",
       "      <td>MARIN</td>\n",
       "      <td>SAN FRANCISCO BAY</td>\n",
       "      <td>STINSON BEACH</td>\n",
       "      <td>37.94</td>\n",
       "      <td>-122.637</td>\n",
       "      <td>Marin Municipal Water District</td>\n",
       "    </tr>\n",
       "    <tr>\n",
       "      <th>1</th>\n",
       "      <td>2000-03</td>\n",
       "      <td>3</td>\n",
       "      <td>2000</td>\n",
       "      <td>APN</td>\n",
       "      <td>8891.0</td>\n",
       "      <td>Alpine</td>\n",
       "      <td>Alpine Lake</td>\n",
       "      <td>Lagunitas Creek</td>\n",
       "      <td>8900</td>\n",
       "      <td>654' ft</td>\n",
       "      <td>COAST-MARIN</td>\n",
       "      <td>MARIN</td>\n",
       "      <td>SAN FRANCISCO BAY</td>\n",
       "      <td>STINSON BEACH</td>\n",
       "      <td>37.94</td>\n",
       "      <td>-122.637</td>\n",
       "      <td>Marin Municipal Water District</td>\n",
       "    </tr>\n",
       "    <tr>\n",
       "      <th>2</th>\n",
       "      <td>2000-04</td>\n",
       "      <td>4</td>\n",
       "      <td>2000</td>\n",
       "      <td>APN</td>\n",
       "      <td>8891.0</td>\n",
       "      <td>Alpine</td>\n",
       "      <td>Alpine Lake</td>\n",
       "      <td>Lagunitas Creek</td>\n",
       "      <td>8900</td>\n",
       "      <td>654' ft</td>\n",
       "      <td>COAST-MARIN</td>\n",
       "      <td>MARIN</td>\n",
       "      <td>SAN FRANCISCO BAY</td>\n",
       "      <td>STINSON BEACH</td>\n",
       "      <td>37.94</td>\n",
       "      <td>-122.637</td>\n",
       "      <td>Marin Municipal Water District</td>\n",
       "    </tr>\n",
       "    <tr>\n",
       "      <th>3</th>\n",
       "      <td>2000-05</td>\n",
       "      <td>5</td>\n",
       "      <td>2000</td>\n",
       "      <td>APN</td>\n",
       "      <td>8891.0</td>\n",
       "      <td>Alpine</td>\n",
       "      <td>Alpine Lake</td>\n",
       "      <td>Lagunitas Creek</td>\n",
       "      <td>8900</td>\n",
       "      <td>654' ft</td>\n",
       "      <td>COAST-MARIN</td>\n",
       "      <td>MARIN</td>\n",
       "      <td>SAN FRANCISCO BAY</td>\n",
       "      <td>STINSON BEACH</td>\n",
       "      <td>37.94</td>\n",
       "      <td>-122.637</td>\n",
       "      <td>Marin Municipal Water District</td>\n",
       "    </tr>\n",
       "    <tr>\n",
       "      <th>4</th>\n",
       "      <td>2000-06</td>\n",
       "      <td>6</td>\n",
       "      <td>2000</td>\n",
       "      <td>APN</td>\n",
       "      <td>8250.0</td>\n",
       "      <td>Alpine</td>\n",
       "      <td>Alpine Lake</td>\n",
       "      <td>Lagunitas Creek</td>\n",
       "      <td>8900</td>\n",
       "      <td>654' ft</td>\n",
       "      <td>COAST-MARIN</td>\n",
       "      <td>MARIN</td>\n",
       "      <td>SAN FRANCISCO BAY</td>\n",
       "      <td>STINSON BEACH</td>\n",
       "      <td>37.94</td>\n",
       "      <td>-122.637</td>\n",
       "      <td>Marin Municipal Water District</td>\n",
       "    </tr>\n",
       "  </tbody>\n",
       "</table>\n",
       "</div>"
      ],
      "text/plain": [
       "      date  month  year   id  reservoir_volume     dam         lake  \\\n",
       "0  2000-02      2  2000  APN            8891.0  Alpine  Alpine Lake   \n",
       "1  2000-03      3  2000  APN            8891.0  Alpine  Alpine Lake   \n",
       "2  2000-04      4  2000  APN            8891.0  Alpine  Alpine Lake   \n",
       "3  2000-05      5  2000  APN            8891.0  Alpine  Alpine Lake   \n",
       "4  2000-06      6  2000  APN            8250.0  Alpine  Alpine Lake   \n",
       "\n",
       "            stream  capacity elevation  river_basin county    hydrologic_area  \\\n",
       "0  Lagunitas Creek      8900   654' ft  COAST-MARIN  MARIN  SAN FRANCISCO BAY   \n",
       "1  Lagunitas Creek      8900   654' ft  COAST-MARIN  MARIN  SAN FRANCISCO BAY   \n",
       "2  Lagunitas Creek      8900   654' ft  COAST-MARIN  MARIN  SAN FRANCISCO BAY   \n",
       "3  Lagunitas Creek      8900   654' ft  COAST-MARIN  MARIN  SAN FRANCISCO BAY   \n",
       "4  Lagunitas Creek      8900   654' ft  COAST-MARIN  MARIN  SAN FRANCISCO BAY   \n",
       "\n",
       "     nearby_city  latitude  longitude                        operator  \n",
       "0  STINSON BEACH     37.94   -122.637  Marin Municipal Water District  \n",
       "1  STINSON BEACH     37.94   -122.637  Marin Municipal Water District  \n",
       "2  STINSON BEACH     37.94   -122.637  Marin Municipal Water District  \n",
       "3  STINSON BEACH     37.94   -122.637  Marin Municipal Water District  \n",
       "4  STINSON BEACH     37.94   -122.637  Marin Municipal Water District  "
      ]
     },
     "execution_count": 3,
     "metadata": {},
     "output_type": "execute_result"
    }
   ],
   "source": [
    "# look at data head\n",
    "res.head()"
   ]
  },
  {
   "cell_type": "code",
   "execution_count": 4,
   "metadata": {
    "collapsed": false
   },
   "outputs": [
    {
     "data": {
      "text/plain": [
       "array([\"654' ft\", \"654' ft\", \"654' ft\", \"654' ft\", \"654' ft\"], dtype=object)"
      ]
     },
     "execution_count": 4,
     "metadata": {},
     "output_type": "execute_result"
    }
   ],
   "source": [
    "res.elevation.values[0:5]"
   ]
  },
  {
   "cell_type": "code",
   "execution_count": 5,
   "metadata": {
    "collapsed": false
   },
   "outputs": [],
   "source": [
    "def try_convert_elevation(x):\n",
    "    try:\n",
    "        return float(x.split(\"'\")[0])\n",
    "    except:\n",
    "        return np.nan\n",
    "    \n",
    "tmp_elevation = res.elevation.map(try_convert_elevation)"
   ]
  },
  {
   "cell_type": "code",
   "execution_count": 6,
   "metadata": {
    "collapsed": false
   },
   "outputs": [
    {
     "data": {
      "text/plain": [
       "366"
      ]
     },
     "execution_count": 6,
     "metadata": {},
     "output_type": "execute_result"
    }
   ],
   "source": [
    "sum(tmp_elevation.isnull())"
   ]
  },
  {
   "cell_type": "code",
   "execution_count": 7,
   "metadata": {
    "collapsed": false
   },
   "outputs": [
    {
     "data": {
      "text/plain": [
       "(34038, 17)"
      ]
     },
     "execution_count": 7,
     "metadata": {},
     "output_type": "execute_result"
    }
   ],
   "source": [
    "res.shape"
   ]
  },
  {
   "cell_type": "code",
   "execution_count": 8,
   "metadata": {
    "collapsed": false
   },
   "outputs": [
    {
     "data": {
      "text/html": [
       "<div>\n",
       "<table border=\"1\" class=\"dataframe\">\n",
       "  <thead>\n",
       "    <tr style=\"text-align: right;\">\n",
       "      <th></th>\n",
       "      <th>date</th>\n",
       "      <th>month</th>\n",
       "      <th>year</th>\n",
       "      <th>id</th>\n",
       "      <th>reservoir_volume</th>\n",
       "      <th>dam</th>\n",
       "      <th>lake</th>\n",
       "      <th>stream</th>\n",
       "      <th>capacity</th>\n",
       "      <th>elevation</th>\n",
       "      <th>river_basin</th>\n",
       "      <th>county</th>\n",
       "      <th>hydrologic_area</th>\n",
       "      <th>nearby_city</th>\n",
       "      <th>latitude</th>\n",
       "      <th>longitude</th>\n",
       "      <th>operator</th>\n",
       "    </tr>\n",
       "  </thead>\n",
       "  <tbody>\n",
       "    <tr>\n",
       "      <th>10431</th>\n",
       "      <td>2000-02</td>\n",
       "      <td>2</td>\n",
       "      <td>2000</td>\n",
       "      <td>GBR</td>\n",
       "      <td>68758.0</td>\n",
       "      <td>Gerber</td>\n",
       "      <td>Gerber Lake</td>\n",
       "      <td>Klamath River</td>\n",
       "      <td>94300</td>\n",
       "      <td>ft</td>\n",
       "      <td>KLAMATH R</td>\n",
       "      <td>SISKIYOU</td>\n",
       "      <td>NORTH COAST</td>\n",
       "      <td>KLAMATH FALLS</td>\n",
       "      <td>42.205</td>\n",
       "      <td>-121.13</td>\n",
       "      <td>US Bureau of Reclamation</td>\n",
       "    </tr>\n",
       "    <tr>\n",
       "      <th>10432</th>\n",
       "      <td>2000-03</td>\n",
       "      <td>3</td>\n",
       "      <td>2000</td>\n",
       "      <td>GBR</td>\n",
       "      <td>83538.0</td>\n",
       "      <td>Gerber</td>\n",
       "      <td>Gerber Lake</td>\n",
       "      <td>Klamath River</td>\n",
       "      <td>94300</td>\n",
       "      <td>ft</td>\n",
       "      <td>KLAMATH R</td>\n",
       "      <td>SISKIYOU</td>\n",
       "      <td>NORTH COAST</td>\n",
       "      <td>KLAMATH FALLS</td>\n",
       "      <td>42.205</td>\n",
       "      <td>-121.13</td>\n",
       "      <td>US Bureau of Reclamation</td>\n",
       "    </tr>\n",
       "    <tr>\n",
       "      <th>10433</th>\n",
       "      <td>2000-04</td>\n",
       "      <td>4</td>\n",
       "      <td>2000</td>\n",
       "      <td>GBR</td>\n",
       "      <td>92854.0</td>\n",
       "      <td>Gerber</td>\n",
       "      <td>Gerber Lake</td>\n",
       "      <td>Klamath River</td>\n",
       "      <td>94300</td>\n",
       "      <td>ft</td>\n",
       "      <td>KLAMATH R</td>\n",
       "      <td>SISKIYOU</td>\n",
       "      <td>NORTH COAST</td>\n",
       "      <td>KLAMATH FALLS</td>\n",
       "      <td>42.205</td>\n",
       "      <td>-121.13</td>\n",
       "      <td>US Bureau of Reclamation</td>\n",
       "    </tr>\n",
       "    <tr>\n",
       "      <th>10434</th>\n",
       "      <td>2000-05</td>\n",
       "      <td>5</td>\n",
       "      <td>2000</td>\n",
       "      <td>GBR</td>\n",
       "      <td>91410.0</td>\n",
       "      <td>Gerber</td>\n",
       "      <td>Gerber Lake</td>\n",
       "      <td>Klamath River</td>\n",
       "      <td>94300</td>\n",
       "      <td>ft</td>\n",
       "      <td>KLAMATH R</td>\n",
       "      <td>SISKIYOU</td>\n",
       "      <td>NORTH COAST</td>\n",
       "      <td>KLAMATH FALLS</td>\n",
       "      <td>42.205</td>\n",
       "      <td>-121.13</td>\n",
       "      <td>US Bureau of Reclamation</td>\n",
       "    </tr>\n",
       "    <tr>\n",
       "      <th>10435</th>\n",
       "      <td>2000-06</td>\n",
       "      <td>6</td>\n",
       "      <td>2000</td>\n",
       "      <td>GBR</td>\n",
       "      <td>76998.0</td>\n",
       "      <td>Gerber</td>\n",
       "      <td>Gerber Lake</td>\n",
       "      <td>Klamath River</td>\n",
       "      <td>94300</td>\n",
       "      <td>ft</td>\n",
       "      <td>KLAMATH R</td>\n",
       "      <td>SISKIYOU</td>\n",
       "      <td>NORTH COAST</td>\n",
       "      <td>KLAMATH FALLS</td>\n",
       "      <td>42.205</td>\n",
       "      <td>-121.13</td>\n",
       "      <td>US Bureau of Reclamation</td>\n",
       "    </tr>\n",
       "    <tr>\n",
       "      <th>10436</th>\n",
       "      <td>2000-07</td>\n",
       "      <td>7</td>\n",
       "      <td>2000</td>\n",
       "      <td>GBR</td>\n",
       "      <td>67262.0</td>\n",
       "      <td>Gerber</td>\n",
       "      <td>Gerber Lake</td>\n",
       "      <td>Klamath River</td>\n",
       "      <td>94300</td>\n",
       "      <td>ft</td>\n",
       "      <td>KLAMATH R</td>\n",
       "      <td>SISKIYOU</td>\n",
       "      <td>NORTH COAST</td>\n",
       "      <td>KLAMATH FALLS</td>\n",
       "      <td>42.205</td>\n",
       "      <td>-121.13</td>\n",
       "      <td>US Bureau of Reclamation</td>\n",
       "    </tr>\n",
       "    <tr>\n",
       "      <th>10437</th>\n",
       "      <td>2000-08</td>\n",
       "      <td>8</td>\n",
       "      <td>2000</td>\n",
       "      <td>GBR</td>\n",
       "      <td>57364.0</td>\n",
       "      <td>Gerber</td>\n",
       "      <td>Gerber Lake</td>\n",
       "      <td>Klamath River</td>\n",
       "      <td>94300</td>\n",
       "      <td>ft</td>\n",
       "      <td>KLAMATH R</td>\n",
       "      <td>SISKIYOU</td>\n",
       "      <td>NORTH COAST</td>\n",
       "      <td>KLAMATH FALLS</td>\n",
       "      <td>42.205</td>\n",
       "      <td>-121.13</td>\n",
       "      <td>US Bureau of Reclamation</td>\n",
       "    </tr>\n",
       "    <tr>\n",
       "      <th>10438</th>\n",
       "      <td>2000-09</td>\n",
       "      <td>9</td>\n",
       "      <td>2000</td>\n",
       "      <td>GBR</td>\n",
       "      <td>52570.0</td>\n",
       "      <td>Gerber</td>\n",
       "      <td>Gerber Lake</td>\n",
       "      <td>Klamath River</td>\n",
       "      <td>94300</td>\n",
       "      <td>ft</td>\n",
       "      <td>KLAMATH R</td>\n",
       "      <td>SISKIYOU</td>\n",
       "      <td>NORTH COAST</td>\n",
       "      <td>KLAMATH FALLS</td>\n",
       "      <td>42.205</td>\n",
       "      <td>-121.13</td>\n",
       "      <td>US Bureau of Reclamation</td>\n",
       "    </tr>\n",
       "    <tr>\n",
       "      <th>10439</th>\n",
       "      <td>2000-10</td>\n",
       "      <td>10</td>\n",
       "      <td>2000</td>\n",
       "      <td>GBR</td>\n",
       "      <td>51547.0</td>\n",
       "      <td>Gerber</td>\n",
       "      <td>Gerber Lake</td>\n",
       "      <td>Klamath River</td>\n",
       "      <td>94300</td>\n",
       "      <td>ft</td>\n",
       "      <td>KLAMATH R</td>\n",
       "      <td>SISKIYOU</td>\n",
       "      <td>NORTH COAST</td>\n",
       "      <td>KLAMATH FALLS</td>\n",
       "      <td>42.205</td>\n",
       "      <td>-121.13</td>\n",
       "      <td>US Bureau of Reclamation</td>\n",
       "    </tr>\n",
       "    <tr>\n",
       "      <th>10440</th>\n",
       "      <td>2000-11</td>\n",
       "      <td>11</td>\n",
       "      <td>2000</td>\n",
       "      <td>GBR</td>\n",
       "      <td>51733.0</td>\n",
       "      <td>Gerber</td>\n",
       "      <td>Gerber Lake</td>\n",
       "      <td>Klamath River</td>\n",
       "      <td>94300</td>\n",
       "      <td>ft</td>\n",
       "      <td>KLAMATH R</td>\n",
       "      <td>SISKIYOU</td>\n",
       "      <td>NORTH COAST</td>\n",
       "      <td>KLAMATH FALLS</td>\n",
       "      <td>42.205</td>\n",
       "      <td>-121.13</td>\n",
       "      <td>US Bureau of Reclamation</td>\n",
       "    </tr>\n",
       "  </tbody>\n",
       "</table>\n",
       "</div>"
      ],
      "text/plain": [
       "          date  month  year   id  reservoir_volume     dam         lake  \\\n",
       "10431  2000-02      2  2000  GBR           68758.0  Gerber  Gerber Lake   \n",
       "10432  2000-03      3  2000  GBR           83538.0  Gerber  Gerber Lake   \n",
       "10433  2000-04      4  2000  GBR           92854.0  Gerber  Gerber Lake   \n",
       "10434  2000-05      5  2000  GBR           91410.0  Gerber  Gerber Lake   \n",
       "10435  2000-06      6  2000  GBR           76998.0  Gerber  Gerber Lake   \n",
       "10436  2000-07      7  2000  GBR           67262.0  Gerber  Gerber Lake   \n",
       "10437  2000-08      8  2000  GBR           57364.0  Gerber  Gerber Lake   \n",
       "10438  2000-09      9  2000  GBR           52570.0  Gerber  Gerber Lake   \n",
       "10439  2000-10     10  2000  GBR           51547.0  Gerber  Gerber Lake   \n",
       "10440  2000-11     11  2000  GBR           51733.0  Gerber  Gerber Lake   \n",
       "\n",
       "              stream  capacity elevation river_basin    county  \\\n",
       "10431  Klamath River     94300        ft   KLAMATH R  SISKIYOU   \n",
       "10432  Klamath River     94300        ft   KLAMATH R  SISKIYOU   \n",
       "10433  Klamath River     94300        ft   KLAMATH R  SISKIYOU   \n",
       "10434  Klamath River     94300        ft   KLAMATH R  SISKIYOU   \n",
       "10435  Klamath River     94300        ft   KLAMATH R  SISKIYOU   \n",
       "10436  Klamath River     94300        ft   KLAMATH R  SISKIYOU   \n",
       "10437  Klamath River     94300        ft   KLAMATH R  SISKIYOU   \n",
       "10438  Klamath River     94300        ft   KLAMATH R  SISKIYOU   \n",
       "10439  Klamath River     94300        ft   KLAMATH R  SISKIYOU   \n",
       "10440  Klamath River     94300        ft   KLAMATH R  SISKIYOU   \n",
       "\n",
       "      hydrologic_area    nearby_city  latitude  longitude  \\\n",
       "10431     NORTH COAST  KLAMATH FALLS    42.205    -121.13   \n",
       "10432     NORTH COAST  KLAMATH FALLS    42.205    -121.13   \n",
       "10433     NORTH COAST  KLAMATH FALLS    42.205    -121.13   \n",
       "10434     NORTH COAST  KLAMATH FALLS    42.205    -121.13   \n",
       "10435     NORTH COAST  KLAMATH FALLS    42.205    -121.13   \n",
       "10436     NORTH COAST  KLAMATH FALLS    42.205    -121.13   \n",
       "10437     NORTH COAST  KLAMATH FALLS    42.205    -121.13   \n",
       "10438     NORTH COAST  KLAMATH FALLS    42.205    -121.13   \n",
       "10439     NORTH COAST  KLAMATH FALLS    42.205    -121.13   \n",
       "10440     NORTH COAST  KLAMATH FALLS    42.205    -121.13   \n",
       "\n",
       "                       operator  \n",
       "10431  US Bureau of Reclamation  \n",
       "10432  US Bureau of Reclamation  \n",
       "10433  US Bureau of Reclamation  \n",
       "10434  US Bureau of Reclamation  \n",
       "10435  US Bureau of Reclamation  \n",
       "10436  US Bureau of Reclamation  \n",
       "10437  US Bureau of Reclamation  \n",
       "10438  US Bureau of Reclamation  \n",
       "10439  US Bureau of Reclamation  \n",
       "10440  US Bureau of Reclamation  "
      ]
     },
     "execution_count": 8,
     "metadata": {},
     "output_type": "execute_result"
    }
   ],
   "source": [
    "res[tmp_elevation.isnull()].head(10)"
   ]
  },
  {
   "cell_type": "code",
   "execution_count": 9,
   "metadata": {
    "collapsed": true
   },
   "outputs": [],
   "source": [
    "res['elevation'] = tmp_elevation"
   ]
  },
  {
   "cell_type": "code",
   "execution_count": 10,
   "metadata": {
    "collapsed": true
   },
   "outputs": [],
   "source": [
    "elevation_median = np.nanmedian(res.elevation)"
   ]
  },
  {
   "cell_type": "code",
   "execution_count": 11,
   "metadata": {
    "collapsed": false
   },
   "outputs": [
    {
     "name": "stdout",
     "output_type": "stream",
     "text": [
      "1474.5\n"
     ]
    }
   ],
   "source": [
    "print elevation_median"
   ]
  },
  {
   "cell_type": "code",
   "execution_count": 12,
   "metadata": {
    "collapsed": true
   },
   "outputs": [],
   "source": [
    "res.ix[res.elevation.isnull(), 'elevation'] = elevation_median"
   ]
  },
  {
   "cell_type": "code",
   "execution_count": 13,
   "metadata": {
    "collapsed": false
   },
   "outputs": [
    {
     "data": {
      "text/plain": [
       "0"
      ]
     },
     "execution_count": 13,
     "metadata": {},
     "output_type": "execute_result"
    }
   ],
   "source": [
    "sum(res.elevation.isnull())"
   ]
  },
  {
   "cell_type": "code",
   "execution_count": null,
   "metadata": {
    "collapsed": false
   },
   "outputs": [],
   "source": []
  },
  {
   "cell_type": "code",
   "execution_count": null,
   "metadata": {
    "collapsed": true
   },
   "outputs": [],
   "source": []
  },
  {
   "cell_type": "code",
   "execution_count": 14,
   "metadata": {
    "collapsed": true
   },
   "outputs": [],
   "source": [
    "res['pct_capacity'] = res.reservoir_volume/res.capacity"
   ]
  },
  {
   "cell_type": "code",
   "execution_count": 15,
   "metadata": {
    "collapsed": false
   },
   "outputs": [
    {
     "data": {
      "text/html": [
       "<div>\n",
       "<table border=\"1\" class=\"dataframe\">\n",
       "  <thead>\n",
       "    <tr style=\"text-align: right;\">\n",
       "      <th></th>\n",
       "      <th>date</th>\n",
       "      <th>month</th>\n",
       "      <th>year</th>\n",
       "      <th>id</th>\n",
       "      <th>reservoir_volume</th>\n",
       "      <th>dam</th>\n",
       "      <th>lake</th>\n",
       "      <th>stream</th>\n",
       "      <th>capacity</th>\n",
       "      <th>elevation</th>\n",
       "      <th>river_basin</th>\n",
       "      <th>county</th>\n",
       "      <th>hydrologic_area</th>\n",
       "      <th>nearby_city</th>\n",
       "      <th>latitude</th>\n",
       "      <th>longitude</th>\n",
       "      <th>operator</th>\n",
       "      <th>pct_capacity</th>\n",
       "    </tr>\n",
       "  </thead>\n",
       "  <tbody>\n",
       "    <tr>\n",
       "      <th>185</th>\n",
       "      <td>2000-04</td>\n",
       "      <td>4</td>\n",
       "      <td>2000</td>\n",
       "      <td>ANT</td>\n",
       "      <td>23428.0</td>\n",
       "      <td>Antelope</td>\n",
       "      <td>Antelope</td>\n",
       "      <td>Indian Creek</td>\n",
       "      <td>22600</td>\n",
       "      <td>4960.0</td>\n",
       "      <td>FEATHER R</td>\n",
       "      <td>PLUMAS</td>\n",
       "      <td>SACRAMENTO RIVER</td>\n",
       "      <td>SUSANVILLE</td>\n",
       "      <td>40.18</td>\n",
       "      <td>-120.607</td>\n",
       "      <td>CA Dept of Water Resources/O &amp; M</td>\n",
       "      <td>1.036637</td>\n",
       "    </tr>\n",
       "    <tr>\n",
       "      <th>186</th>\n",
       "      <td>2000-05</td>\n",
       "      <td>5</td>\n",
       "      <td>2000</td>\n",
       "      <td>ANT</td>\n",
       "      <td>22853.0</td>\n",
       "      <td>Antelope</td>\n",
       "      <td>Antelope</td>\n",
       "      <td>Indian Creek</td>\n",
       "      <td>22600</td>\n",
       "      <td>4960.0</td>\n",
       "      <td>FEATHER R</td>\n",
       "      <td>PLUMAS</td>\n",
       "      <td>SACRAMENTO RIVER</td>\n",
       "      <td>SUSANVILLE</td>\n",
       "      <td>40.18</td>\n",
       "      <td>-120.607</td>\n",
       "      <td>CA Dept of Water Resources/O &amp; M</td>\n",
       "      <td>1.011195</td>\n",
       "    </tr>\n",
       "    <tr>\n",
       "      <th>209</th>\n",
       "      <td>2002-04</td>\n",
       "      <td>4</td>\n",
       "      <td>2002</td>\n",
       "      <td>ANT</td>\n",
       "      <td>23210.0</td>\n",
       "      <td>Antelope</td>\n",
       "      <td>Antelope</td>\n",
       "      <td>Indian Creek</td>\n",
       "      <td>22600</td>\n",
       "      <td>4960.0</td>\n",
       "      <td>FEATHER R</td>\n",
       "      <td>PLUMAS</td>\n",
       "      <td>SACRAMENTO RIVER</td>\n",
       "      <td>SUSANVILLE</td>\n",
       "      <td>40.18</td>\n",
       "      <td>-120.607</td>\n",
       "      <td>CA Dept of Water Resources/O &amp; M</td>\n",
       "      <td>1.026991</td>\n",
       "    </tr>\n",
       "    <tr>\n",
       "      <th>210</th>\n",
       "      <td>2002-05</td>\n",
       "      <td>5</td>\n",
       "      <td>2002</td>\n",
       "      <td>ANT</td>\n",
       "      <td>22900.0</td>\n",
       "      <td>Antelope</td>\n",
       "      <td>Antelope</td>\n",
       "      <td>Indian Creek</td>\n",
       "      <td>22600</td>\n",
       "      <td>4960.0</td>\n",
       "      <td>FEATHER R</td>\n",
       "      <td>PLUMAS</td>\n",
       "      <td>SACRAMENTO RIVER</td>\n",
       "      <td>SUSANVILLE</td>\n",
       "      <td>40.18</td>\n",
       "      <td>-120.607</td>\n",
       "      <td>CA Dept of Water Resources/O &amp; M</td>\n",
       "      <td>1.013274</td>\n",
       "    </tr>\n",
       "    <tr>\n",
       "      <th>221</th>\n",
       "      <td>2003-04</td>\n",
       "      <td>4</td>\n",
       "      <td>2003</td>\n",
       "      <td>ANT</td>\n",
       "      <td>23239.0</td>\n",
       "      <td>Antelope</td>\n",
       "      <td>Antelope</td>\n",
       "      <td>Indian Creek</td>\n",
       "      <td>22600</td>\n",
       "      <td>4960.0</td>\n",
       "      <td>FEATHER R</td>\n",
       "      <td>PLUMAS</td>\n",
       "      <td>SACRAMENTO RIVER</td>\n",
       "      <td>SUSANVILLE</td>\n",
       "      <td>40.18</td>\n",
       "      <td>-120.607</td>\n",
       "      <td>CA Dept of Water Resources/O &amp; M</td>\n",
       "      <td>1.028274</td>\n",
       "    </tr>\n",
       "  </tbody>\n",
       "</table>\n",
       "</div>"
      ],
      "text/plain": [
       "        date  month  year   id  reservoir_volume       dam      lake  \\\n",
       "185  2000-04      4  2000  ANT           23428.0  Antelope  Antelope   \n",
       "186  2000-05      5  2000  ANT           22853.0  Antelope  Antelope   \n",
       "209  2002-04      4  2002  ANT           23210.0  Antelope  Antelope   \n",
       "210  2002-05      5  2002  ANT           22900.0  Antelope  Antelope   \n",
       "221  2003-04      4  2003  ANT           23239.0  Antelope  Antelope   \n",
       "\n",
       "           stream  capacity  elevation river_basin  county   hydrologic_area  \\\n",
       "185  Indian Creek     22600     4960.0   FEATHER R  PLUMAS  SACRAMENTO RIVER   \n",
       "186  Indian Creek     22600     4960.0   FEATHER R  PLUMAS  SACRAMENTO RIVER   \n",
       "209  Indian Creek     22600     4960.0   FEATHER R  PLUMAS  SACRAMENTO RIVER   \n",
       "210  Indian Creek     22600     4960.0   FEATHER R  PLUMAS  SACRAMENTO RIVER   \n",
       "221  Indian Creek     22600     4960.0   FEATHER R  PLUMAS  SACRAMENTO RIVER   \n",
       "\n",
       "    nearby_city  latitude  longitude                          operator  \\\n",
       "185  SUSANVILLE     40.18   -120.607  CA Dept of Water Resources/O & M   \n",
       "186  SUSANVILLE     40.18   -120.607  CA Dept of Water Resources/O & M   \n",
       "209  SUSANVILLE     40.18   -120.607  CA Dept of Water Resources/O & M   \n",
       "210  SUSANVILLE     40.18   -120.607  CA Dept of Water Resources/O & M   \n",
       "221  SUSANVILLE     40.18   -120.607  CA Dept of Water Resources/O & M   \n",
       "\n",
       "     pct_capacity  \n",
       "185      1.036637  \n",
       "186      1.011195  \n",
       "209      1.026991  \n",
       "210      1.013274  \n",
       "221      1.028274  "
      ]
     },
     "execution_count": 15,
     "metadata": {},
     "output_type": "execute_result"
    }
   ],
   "source": [
    "res[res.pct_capacity > 1].head(5)"
   ]
  },
  {
   "cell_type": "code",
   "execution_count": 16,
   "metadata": {
    "collapsed": true
   },
   "outputs": [],
   "source": [
    "import seaborn as sns\n",
    "import matplotlib.pyplot as plt\n",
    "\n",
    "%matplotlib inline"
   ]
  },
  {
   "cell_type": "code",
   "execution_count": 17,
   "metadata": {
    "collapsed": false
   },
   "outputs": [
    {
     "data": {
      "text/html": [
       "<div>\n",
       "<table border=\"1\" class=\"dataframe\">\n",
       "  <thead>\n",
       "    <tr style=\"text-align: right;\">\n",
       "      <th></th>\n",
       "      <th>longitude</th>\n",
       "      <th>latitude</th>\n",
       "      <th>pct_capacity</th>\n",
       "    </tr>\n",
       "  </thead>\n",
       "  <tbody>\n",
       "    <tr>\n",
       "      <th>longitude</th>\n",
       "      <td>1.000000</td>\n",
       "      <td>-0.738773</td>\n",
       "      <td>-0.156006</td>\n",
       "    </tr>\n",
       "    <tr>\n",
       "      <th>latitude</th>\n",
       "      <td>-0.738773</td>\n",
       "      <td>1.000000</td>\n",
       "      <td>0.090362</td>\n",
       "    </tr>\n",
       "    <tr>\n",
       "      <th>pct_capacity</th>\n",
       "      <td>-0.156006</td>\n",
       "      <td>0.090362</td>\n",
       "      <td>1.000000</td>\n",
       "    </tr>\n",
       "  </tbody>\n",
       "</table>\n",
       "</div>"
      ],
      "text/plain": [
       "              longitude  latitude  pct_capacity\n",
       "longitude      1.000000 -0.738773     -0.156006\n",
       "latitude      -0.738773  1.000000      0.090362\n",
       "pct_capacity  -0.156006  0.090362      1.000000"
      ]
     },
     "execution_count": 17,
     "metadata": {},
     "output_type": "execute_result"
    }
   ],
   "source": [
    "res[['longitude','latitude','pct_capacity']].corr()"
   ]
  },
  {
   "cell_type": "code",
   "execution_count": 18,
   "metadata": {
    "collapsed": false
   },
   "outputs": [
    {
     "data": {
      "text/plain": [
       "Index([u'date', u'month', u'year', u'id', u'reservoir_volume', u'dam', u'lake',\n",
       "       u'stream', u'capacity', u'elevation', u'river_basin', u'county',\n",
       "       u'hydrologic_area', u'nearby_city', u'latitude', u'longitude',\n",
       "       u'operator', u'pct_capacity'],\n",
       "      dtype='object')"
      ]
     },
     "execution_count": 18,
     "metadata": {},
     "output_type": "execute_result"
    }
   ],
   "source": [
    "res.columns"
   ]
  },
  {
   "cell_type": "code",
   "execution_count": 19,
   "metadata": {
    "collapsed": true
   },
   "outputs": [],
   "source": [
    "import patsy\n",
    "import statsmodels.formula.api as smf"
   ]
  },
  {
   "cell_type": "code",
   "execution_count": 20,
   "metadata": {
    "collapsed": true
   },
   "outputs": [],
   "source": [
    "res['elevation_n'] = (res.elevation - res.elevation.mean())/res.elevation.std()\n",
    "res['capacity_c'] = res.capacity - res.capacity.mean()"
   ]
  },
  {
   "cell_type": "code",
   "execution_count": 21,
   "metadata": {
    "collapsed": false,
    "scrolled": true
   },
   "outputs": [
    {
     "name": "stdout",
     "output_type": "stream",
     "text": [
      "                            OLS Regression Results                            \n",
      "==============================================================================\n",
      "Dep. Variable:           pct_capacity   R-squared:                       0.117\n",
      "Model:                            OLS   Adj. R-squared:                  0.117\n",
      "Method:                 Least Squares   F-statistic:                     162.6\n",
      "Date:                Thu, 12 May 2016   Prob (F-statistic):               0.00\n",
      "Time:                        12:47:33   Log-Likelihood:                -1810.5\n",
      "No. Observations:               31839   AIC:                             3675.\n",
      "Df Residuals:                   31812   BIC:                             3901.\n",
      "Df Model:                          26                                         \n",
      "Covariance Type:            nonrobust                                         \n",
      "===================================================================================\n",
      "                      coef    std err          t      P>|t|      [95.0% Conf. Int.]\n",
      "-----------------------------------------------------------------------------------\n",
      "Intercept           0.6354      0.008     82.077      0.000         0.620     0.651\n",
      "C(year)[T.2001]    -0.0756      0.008     -9.495      0.000        -0.091    -0.060\n",
      "C(year)[T.2002]    -0.0850      0.008    -10.658      0.000        -0.101    -0.069\n",
      "C(year)[T.2003]    -0.0486      0.008     -6.090      0.000        -0.064    -0.033\n",
      "C(year)[T.2004]    -0.0774      0.008     -9.699      0.000        -0.093    -0.062\n",
      "C(year)[T.2005]     0.0377      0.008      4.719      0.000         0.022     0.053\n",
      "C(year)[T.2006]     0.0483      0.008      6.047      0.000         0.033     0.064\n",
      "C(year)[T.2007]    -0.0779      0.008     -9.760      0.000        -0.093    -0.062\n",
      "C(year)[T.2008]    -0.0915      0.008    -11.460      0.000        -0.107    -0.076\n",
      "C(year)[T.2009]    -0.0853      0.008    -10.687      0.000        -0.101    -0.070\n",
      "C(year)[T.2010]    -0.0200      0.008     -2.502      0.012        -0.036    -0.004\n",
      "C(year)[T.2011]     0.0454      0.008      5.687      0.000         0.030     0.061\n",
      "C(year)[T.2012]    -0.0320      0.008     -4.012      0.000        -0.048    -0.016\n",
      "C(year)[T.2013]    -0.1066      0.008    -13.343      0.000        -0.122    -0.091\n",
      "C(year)[T.2014]    -0.1717      0.008    -21.486      0.000        -0.187    -0.156\n",
      "C(year)[T.2015]    -0.1375      0.013    -10.645      0.000        -0.163    -0.112\n",
      "C(month)[T.2]       0.0297      0.007      4.256      0.000         0.016     0.043\n",
      "C(month)[T.3]       0.0681      0.007      9.763      0.000         0.054     0.082\n",
      "C(month)[T.4]       0.1143      0.007     16.042      0.000         0.100     0.128\n",
      "C(month)[T.5]       0.1591      0.007     22.350      0.000         0.145     0.173\n",
      "C(month)[T.6]       0.1498      0.007     21.039      0.000         0.136     0.164\n",
      "C(month)[T.7]       0.1005      0.007     14.118      0.000         0.087     0.114\n",
      "C(month)[T.8]       0.0428      0.007      6.005      0.000         0.029     0.057\n",
      "C(month)[T.9]      -0.0088      0.007     -1.230      0.219        -0.023     0.005\n",
      "C(month)[T.10]     -0.0432      0.007     -6.058      0.000        -0.057    -0.029\n",
      "C(month)[T.11]     -0.0537      0.007     -7.535      0.000        -0.068    -0.040\n",
      "C(month)[T.12]     -0.0263      0.007     -3.692      0.000        -0.040    -0.012\n",
      "==============================================================================\n",
      "Omnibus:                     1253.508   Durbin-Watson:                   0.155\n",
      "Prob(Omnibus):                  0.000   Jarque-Bera (JB):             1197.760\n",
      "Skew:                          -0.429   Prob(JB):                    8.12e-261\n",
      "Kurtosis:                       2.592   Cond. No.                         17.8\n",
      "==============================================================================\n",
      "\n",
      "Warnings:\n",
      "[1] Standard Errors assume that the covariance matrix of the errors is correctly specified.\n"
     ]
    }
   ],
   "source": [
    "print smf.ols(formula='pct_capacity ~ C(year) + C(month)', data=res).fit().summary()"
   ]
  },
  {
   "cell_type": "code",
   "execution_count": 22,
   "metadata": {
    "collapsed": true
   },
   "outputs": [],
   "source": [
    "formula = '''\n",
    "reservoir_volume ~ capacity_c + elevation_n + C(id) + C(dam) + C(lake) +\n",
    "C(stream) + C(river_basin) + C(county) + C(hydrologic_area) + C(nearby_city) +\n",
    "C(operator) + C(month) + C(year) - 1'''\n",
    "\n"
   ]
  },
  {
   "cell_type": "code",
   "execution_count": 48,
   "metadata": {
    "collapsed": false
   },
   "outputs": [
    {
     "name": "stdout",
     "output_type": "stream",
     "text": [
      "505\n"
     ]
    }
   ],
   "source": [
    "Y, X = patsy.dmatrices(formula, data=res)\n",
    "\n",
    "X = pd.DataFrame(X, columns=X.design_info.column_names)\n",
    "Y = pd.DataFrame(Y, columns=['is_spam'])\n",
    "\n",
    "Y2015_mask = X['C(year)[T.2015]'] == 1\n",
    "print sum(Y2015_mask)\n",
    "\n",
    "Xtrain, Xtest = X[~Y2015_mask].values, X[Y2015_mask].values\n",
    "Ytrain, Ytest = Y[~Y2015_mask].values, Y[Y2015_mask].values"
   ]
  },
  {
   "cell_type": "code",
   "execution_count": 52,
   "metadata": {
    "collapsed": false
   },
   "outputs": [
    {
     "name": "stdout",
     "output_type": "stream",
     "text": [
      "(30928, 1) (30928, 1018)\n",
      "(30423, 1) (30423, 1018)\n",
      "[[ 8891.]\n",
      " [ 8891.]\n",
      " [ 8891.]] [[ 8765.]\n",
      " [ 8891.]\n",
      " [ 8832.]]\n"
     ]
    }
   ],
   "source": [
    "print Y.shape, X.shape\n",
    "print Ytrain.shape, Xtrain.shape\n",
    "print Ytrain[0:3], Ytest[0:3]"
   ]
  },
  {
   "cell_type": "code",
   "execution_count": 50,
   "metadata": {
    "collapsed": false
   },
   "outputs": [],
   "source": [
    "Xtrain_c = Xtrain - np.mean(Xtrain, axis=0)\n",
    "Xtest_c = Xtest - np.mean(Xtrain, axis=0)"
   ]
  },
  {
   "cell_type": "code",
   "execution_count": 40,
   "metadata": {
    "collapsed": true
   },
   "outputs": [],
   "source": [
    "from sklearn.grid_search import GridSearchCV\n",
    "from sklearn.linear_model import LinearRegression\n",
    "from sklearn.cross_validation import cross_val_score"
   ]
  },
  {
   "cell_type": "code",
   "execution_count": 51,
   "metadata": {
    "collapsed": false
   },
   "outputs": [
    {
     "name": "stdout",
     "output_type": "stream",
     "text": [
      "(30423, 1018) (30423, 1) (30423, 1018)\n",
      "0.865090597856\n"
     ]
    }
   ],
   "source": [
    "print Xtrain_c.shape, Ytrain.shape, Xtrain.shape\n",
    "lm = LinearRegression()\n",
    "lm.fit(Xtrain_c, Ytrain)\n",
    "print lm.score(Xtest_c, Ytest)"
   ]
  },
  {
   "cell_type": "code",
   "execution_count": 53,
   "metadata": {
    "collapsed": true
   },
   "outputs": [],
   "source": [
    "from sklearn.linear_model import RandomizedLasso"
   ]
  },
  {
   "cell_type": "code",
   "execution_count": 62,
   "metadata": {
    "collapsed": false
   },
   "outputs": [
    {
     "name": "stdout",
     "output_type": "stream",
     "text": [
      "........................................"
     ]
    },
    {
     "name": "stderr",
     "output_type": "stream",
     "text": [
      "//anaconda/lib/python2.7/site-packages/sklearn/utils/validation.py:515: DataConversionWarning: A column-vector y was passed when a 1d array was expected. Please change the shape of y to (n_samples, ), for example using ravel().\n",
      "  y = column_or_1d(y, warn=True)\n",
      "[Parallel(n_jobs=1)]: Done  40 tasks       | elapsed:   37.6s\n"
     ]
    },
    {
     "name": "stdout",
     "output_type": "stream",
     "text": [
      "...................................................................................................................................................................................................................................................................................................................................."
     ]
    },
    {
     "name": "stderr",
     "output_type": "stream",
     "text": [
      "[Parallel(n_jobs=1)]: Done 161 tasks       | elapsed:  2.6min\n",
      "[Parallel(n_jobs=1)]: Done 364 tasks       | elapsed:  5.7min\n"
     ]
    },
    {
     "name": "stdout",
     "output_type": "stream",
     "text": [
      "............................................................................................................................................................................................................................................................................................................................................................................................................................................................................................................................................................................................................................................................"
     ]
    },
    {
     "name": "stderr",
     "output_type": "stream",
     "text": [
      "[Parallel(n_jobs=1)]: Done 647 tasks       | elapsed: 10.0min\n",
      "[Parallel(n_jobs=1)]: Done 1000 out of 1000 | elapsed: 15.4min finished\n"
     ]
    },
    {
     "data": {
      "text/plain": [
       "RandomizedLasso(alpha='bic', eps=2.2204460492503131e-16, fit_intercept=True,\n",
       "        max_iter=500, memory=Memory(cachedir=None), n_jobs=1,\n",
       "        n_resampling=1000, normalize=True, pre_dispatch='3*n_jobs',\n",
       "        precompute='auto', random_state=None, sample_fraction=0.7,\n",
       "        scaling=0.5, selection_threshold=0.25, verbose=2)"
      ]
     },
     "execution_count": 62,
     "metadata": {},
     "output_type": "execute_result"
    }
   ],
   "source": [
    "rl = RandomizedLasso(alpha='bic', sample_fraction=0.7, n_resampling=1000, verbose=2)\n",
    "rl.fit(Xtrain_c, Ytrain)"
   ]
  },
  {
   "cell_type": "code",
   "execution_count": 63,
   "metadata": {
    "collapsed": false
   },
   "outputs": [],
   "source": [
    "fi_scores = pd.DataFrame({'feature':X.columns,\n",
    "                          'feat_imp':rl.scores_})"
   ]
  },
  {
   "cell_type": "code",
   "execution_count": 68,
   "metadata": {
    "collapsed": false
   },
   "outputs": [
    {
     "name": "stdout",
     "output_type": "stream",
     "text": [
      "206\n"
     ]
    }
   ],
   "source": [
    "fi_scores.sort_values(by='feat_imp', ascending=False, inplace=True)\n",
    "\n",
    "print sum(fi_scores.feat_imp != 0)"
   ]
  },
  {
   "cell_type": "code",
   "execution_count": 69,
   "metadata": {
    "collapsed": false
   },
   "outputs": [
    {
     "data": {
      "text/html": [
       "<div>\n",
       "<table border=\"1\" class=\"dataframe\">\n",
       "  <thead>\n",
       "    <tr style=\"text-align: right;\">\n",
       "      <th></th>\n",
       "      <th>feat_imp</th>\n",
       "      <th>feature</th>\n",
       "    </tr>\n",
       "  </thead>\n",
       "  <tbody>\n",
       "    <tr>\n",
       "      <th>1016</th>\n",
       "      <td>0.987</td>\n",
       "      <td>capacity_c</td>\n",
       "    </tr>\n",
       "    <tr>\n",
       "      <th>146</th>\n",
       "      <td>0.604</td>\n",
       "      <td>C(id)[SHA]</td>\n",
       "    </tr>\n",
       "    <tr>\n",
       "      <th>1014</th>\n",
       "      <td>0.583</td>\n",
       "      <td>C(year)[T.2014]</td>\n",
       "    </tr>\n",
       "    <tr>\n",
       "      <th>123</th>\n",
       "      <td>0.570</td>\n",
       "      <td>C(id)[ORO]</td>\n",
       "    </tr>\n",
       "    <tr>\n",
       "      <th>569</th>\n",
       "      <td>0.536</td>\n",
       "      <td>C(stream)[T.Colorado River]</td>\n",
       "    </tr>\n",
       "    <tr>\n",
       "      <th>30</th>\n",
       "      <td>0.530</td>\n",
       "      <td>C(id)[CLE]</td>\n",
       "    </tr>\n",
       "    <tr>\n",
       "      <th>1001</th>\n",
       "      <td>0.510</td>\n",
       "      <td>C(year)[T.2001]</td>\n",
       "    </tr>\n",
       "    <tr>\n",
       "      <th>121</th>\n",
       "      <td>0.496</td>\n",
       "      <td>C(id)[NML]</td>\n",
       "    </tr>\n",
       "    <tr>\n",
       "      <th>1008</th>\n",
       "      <td>0.488</td>\n",
       "      <td>C(year)[T.2008]</td>\n",
       "    </tr>\n",
       "    <tr>\n",
       "      <th>47</th>\n",
       "      <td>0.482</td>\n",
       "      <td>C(id)[DNP]</td>\n",
       "    </tr>\n",
       "    <tr>\n",
       "      <th>982</th>\n",
       "      <td>0.469</td>\n",
       "      <td>C(operator)[T.US Bureau of Reclamation]</td>\n",
       "    </tr>\n",
       "    <tr>\n",
       "      <th>1013</th>\n",
       "      <td>0.463</td>\n",
       "      <td>C(year)[T.2013]</td>\n",
       "    </tr>\n",
       "    <tr>\n",
       "      <th>1009</th>\n",
       "      <td>0.460</td>\n",
       "      <td>C(year)[T.2009]</td>\n",
       "    </tr>\n",
       "    <tr>\n",
       "      <th>626</th>\n",
       "      <td>0.451</td>\n",
       "      <td>C(stream)[T.Putah Creek]</td>\n",
       "    </tr>\n",
       "    <tr>\n",
       "      <th>7</th>\n",
       "      <td>0.444</td>\n",
       "      <td>C(id)[BER]</td>\n",
       "    </tr>\n",
       "    <tr>\n",
       "      <th>207</th>\n",
       "      <td>0.422</td>\n",
       "      <td>C(dam)[T.Canyon]</td>\n",
       "    </tr>\n",
       "    <tr>\n",
       "      <th>107</th>\n",
       "      <td>0.399</td>\n",
       "      <td>C(id)[MHV]</td>\n",
       "    </tr>\n",
       "    <tr>\n",
       "      <th>45</th>\n",
       "      <td>0.314</td>\n",
       "      <td>C(id)[DMV]</td>\n",
       "    </tr>\n",
       "    <tr>\n",
       "      <th>709</th>\n",
       "      <td>0.307</td>\n",
       "      <td>C(river_basin)[T.SACRAMENTO R]</td>\n",
       "    </tr>\n",
       "    <tr>\n",
       "      <th>132</th>\n",
       "      <td>0.303</td>\n",
       "      <td>C(id)[PWL]</td>\n",
       "    </tr>\n",
       "    <tr>\n",
       "      <th>783</th>\n",
       "      <td>0.285</td>\n",
       "      <td>C(county)[T.State of Arizona]</td>\n",
       "    </tr>\n",
       "    <tr>\n",
       "      <th>981</th>\n",
       "      <td>0.276</td>\n",
       "      <td>C(operator)[T.US Army Corps of Engineers]</td>\n",
       "    </tr>\n",
       "    <tr>\n",
       "      <th>20</th>\n",
       "      <td>0.274</td>\n",
       "      <td>C(id)[BUL]</td>\n",
       "    </tr>\n",
       "    <tr>\n",
       "      <th>171</th>\n",
       "      <td>0.270</td>\n",
       "      <td>C(id)[TAH]</td>\n",
       "    </tr>\n",
       "    <tr>\n",
       "      <th>78</th>\n",
       "      <td>0.263</td>\n",
       "      <td>C(id)[ISB]</td>\n",
       "    </tr>\n",
       "    <tr>\n",
       "      <th>735</th>\n",
       "      <td>0.263</td>\n",
       "      <td>C(river_basin)[T.TUOLUMNE R]</td>\n",
       "    </tr>\n",
       "    <tr>\n",
       "      <th>293</th>\n",
       "      <td>0.262</td>\n",
       "      <td>C(dam)[T.Montecello]</td>\n",
       "    </tr>\n",
       "    <tr>\n",
       "      <th>998</th>\n",
       "      <td>0.261</td>\n",
       "      <td>C(month)[T.10]</td>\n",
       "    </tr>\n",
       "    <tr>\n",
       "      <th>993</th>\n",
       "      <td>0.254</td>\n",
       "      <td>C(month)[T.5]</td>\n",
       "    </tr>\n",
       "    <tr>\n",
       "      <th>126</th>\n",
       "      <td>0.254</td>\n",
       "      <td>C(id)[PNF]</td>\n",
       "    </tr>\n",
       "    <tr>\n",
       "      <th>...</th>\n",
       "      <td>...</td>\n",
       "      <td>...</td>\n",
       "    </tr>\n",
       "    <tr>\n",
       "      <th>457</th>\n",
       "      <td>0.000</td>\n",
       "      <td>C(lake)[T.Lake Nacimiento]</td>\n",
       "    </tr>\n",
       "    <tr>\n",
       "      <th>458</th>\n",
       "      <td>0.000</td>\n",
       "      <td>C(lake)[T.Lake Natoma]</td>\n",
       "    </tr>\n",
       "    <tr>\n",
       "      <th>69</th>\n",
       "      <td>0.000</td>\n",
       "      <td>C(id)[HNS]</td>\n",
       "    </tr>\n",
       "    <tr>\n",
       "      <th>430</th>\n",
       "      <td>0.000</td>\n",
       "      <td>C(lake)[T.Lagunitas Lake]</td>\n",
       "    </tr>\n",
       "    <tr>\n",
       "      <th>429</th>\n",
       "      <td>0.000</td>\n",
       "      <td>C(lake)[T.Lafayette]</td>\n",
       "    </tr>\n",
       "    <tr>\n",
       "      <th>428</th>\n",
       "      <td>0.000</td>\n",
       "      <td>C(lake)[T.Keswick Reservoir]</td>\n",
       "    </tr>\n",
       "    <tr>\n",
       "      <th>403</th>\n",
       "      <td>0.000</td>\n",
       "      <td>C(lake)[T.El Capitan]</td>\n",
       "    </tr>\n",
       "    <tr>\n",
       "      <th>404</th>\n",
       "      <td>0.000</td>\n",
       "      <td>C(lake)[T.Englebright Lake]</td>\n",
       "    </tr>\n",
       "    <tr>\n",
       "      <th>405</th>\n",
       "      <td>0.000</td>\n",
       "      <td>C(lake)[T.Florence Lake]</td>\n",
       "    </tr>\n",
       "    <tr>\n",
       "      <th>407</th>\n",
       "      <td>0.000</td>\n",
       "      <td>C(lake)[T.French Lake]</td>\n",
       "    </tr>\n",
       "    <tr>\n",
       "      <th>408</th>\n",
       "      <td>0.000</td>\n",
       "      <td>C(lake)[T.French Meadows Reservoir]</td>\n",
       "    </tr>\n",
       "    <tr>\n",
       "      <th>409</th>\n",
       "      <td>0.000</td>\n",
       "      <td>C(lake)[T.Frenchman Lake]</td>\n",
       "    </tr>\n",
       "    <tr>\n",
       "      <th>410</th>\n",
       "      <td>0.000</td>\n",
       "      <td>C(lake)[T.Gem Lake]</td>\n",
       "    </tr>\n",
       "    <tr>\n",
       "      <th>411</th>\n",
       "      <td>0.000</td>\n",
       "      <td>C(lake)[T.Gerber Lake]</td>\n",
       "    </tr>\n",
       "    <tr>\n",
       "      <th>412</th>\n",
       "      <td>0.000</td>\n",
       "      <td>C(lake)[T.Gibraltar Lake]</td>\n",
       "    </tr>\n",
       "    <tr>\n",
       "      <th>413</th>\n",
       "      <td>0.000</td>\n",
       "      <td>C(lake)[T.Grant Lake]</td>\n",
       "    </tr>\n",
       "    <tr>\n",
       "      <th>414</th>\n",
       "      <td>0.000</td>\n",
       "      <td>C(lake)[T.Haiwee Reservoir]</td>\n",
       "    </tr>\n",
       "    <tr>\n",
       "      <th>415</th>\n",
       "      <td>0.000</td>\n",
       "      <td>C(lake)[T.Hell Hole Reservoir]</td>\n",
       "    </tr>\n",
       "    <tr>\n",
       "      <th>416</th>\n",
       "      <td>0.000</td>\n",
       "      <td>C(lake)[T.Helms Creek]</td>\n",
       "    </tr>\n",
       "    <tr>\n",
       "      <th>417</th>\n",
       "      <td>0.000</td>\n",
       "      <td>C(lake)[T.Hensley Lake]</td>\n",
       "    </tr>\n",
       "    <tr>\n",
       "      <th>419</th>\n",
       "      <td>0.000</td>\n",
       "      <td>C(lake)[T.Huntington Lake]</td>\n",
       "    </tr>\n",
       "    <tr>\n",
       "      <th>420</th>\n",
       "      <td>0.000</td>\n",
       "      <td>C(lake)[T.Ice House Reservoir]</td>\n",
       "    </tr>\n",
       "    <tr>\n",
       "      <th>421</th>\n",
       "      <td>0.000</td>\n",
       "      <td>C(lake)[T.Independence Lake]</td>\n",
       "    </tr>\n",
       "    <tr>\n",
       "      <th>422</th>\n",
       "      <td>0.000</td>\n",
       "      <td>C(lake)[T.Indian Valley Reservoir]</td>\n",
       "    </tr>\n",
       "    <tr>\n",
       "      <th>423</th>\n",
       "      <td>0.000</td>\n",
       "      <td>C(lake)[T.Iron Canyon Reservoir]</td>\n",
       "    </tr>\n",
       "    <tr>\n",
       "      <th>424</th>\n",
       "      <td>0.000</td>\n",
       "      <td>C(lake)[T.Jackson Meadows Res]</td>\n",
       "    </tr>\n",
       "    <tr>\n",
       "      <th>425</th>\n",
       "      <td>0.000</td>\n",
       "      <td>C(lake)[T.Jenkinson Lake]</td>\n",
       "    </tr>\n",
       "    <tr>\n",
       "      <th>426</th>\n",
       "      <td>0.000</td>\n",
       "      <td>C(lake)[T.Kent Lake]</td>\n",
       "    </tr>\n",
       "    <tr>\n",
       "      <th>427</th>\n",
       "      <td>0.000</td>\n",
       "      <td>C(lake)[T.Kerckhoff Reservoir]</td>\n",
       "    </tr>\n",
       "    <tr>\n",
       "      <th>509</th>\n",
       "      <td>0.000</td>\n",
       "      <td>C(lake)[T.Saddlebag Lake]</td>\n",
       "    </tr>\n",
       "  </tbody>\n",
       "</table>\n",
       "<p>1018 rows × 2 columns</p>\n",
       "</div>"
      ],
      "text/plain": [
       "      feat_imp                                    feature\n",
       "1016     0.987                                 capacity_c\n",
       "146      0.604                                 C(id)[SHA]\n",
       "1014     0.583                            C(year)[T.2014]\n",
       "123      0.570                                 C(id)[ORO]\n",
       "569      0.536                C(stream)[T.Colorado River]\n",
       "30       0.530                                 C(id)[CLE]\n",
       "1001     0.510                            C(year)[T.2001]\n",
       "121      0.496                                 C(id)[NML]\n",
       "1008     0.488                            C(year)[T.2008]\n",
       "47       0.482                                 C(id)[DNP]\n",
       "982      0.469    C(operator)[T.US Bureau of Reclamation]\n",
       "1013     0.463                            C(year)[T.2013]\n",
       "1009     0.460                            C(year)[T.2009]\n",
       "626      0.451                   C(stream)[T.Putah Creek]\n",
       "7        0.444                                 C(id)[BER]\n",
       "207      0.422                           C(dam)[T.Canyon]\n",
       "107      0.399                                 C(id)[MHV]\n",
       "45       0.314                                 C(id)[DMV]\n",
       "709      0.307             C(river_basin)[T.SACRAMENTO R]\n",
       "132      0.303                                 C(id)[PWL]\n",
       "783      0.285              C(county)[T.State of Arizona]\n",
       "981      0.276  C(operator)[T.US Army Corps of Engineers]\n",
       "20       0.274                                 C(id)[BUL]\n",
       "171      0.270                                 C(id)[TAH]\n",
       "78       0.263                                 C(id)[ISB]\n",
       "735      0.263               C(river_basin)[T.TUOLUMNE R]\n",
       "293      0.262                       C(dam)[T.Montecello]\n",
       "998      0.261                             C(month)[T.10]\n",
       "993      0.254                              C(month)[T.5]\n",
       "126      0.254                                 C(id)[PNF]\n",
       "...        ...                                        ...\n",
       "457      0.000                 C(lake)[T.Lake Nacimiento]\n",
       "458      0.000                     C(lake)[T.Lake Natoma]\n",
       "69       0.000                                 C(id)[HNS]\n",
       "430      0.000                  C(lake)[T.Lagunitas Lake]\n",
       "429      0.000                       C(lake)[T.Lafayette]\n",
       "428      0.000               C(lake)[T.Keswick Reservoir]\n",
       "403      0.000                      C(lake)[T.El Capitan]\n",
       "404      0.000                C(lake)[T.Englebright Lake]\n",
       "405      0.000                   C(lake)[T.Florence Lake]\n",
       "407      0.000                     C(lake)[T.French Lake]\n",
       "408      0.000        C(lake)[T.French Meadows Reservoir]\n",
       "409      0.000                  C(lake)[T.Frenchman Lake]\n",
       "410      0.000                        C(lake)[T.Gem Lake]\n",
       "411      0.000                     C(lake)[T.Gerber Lake]\n",
       "412      0.000                  C(lake)[T.Gibraltar Lake]\n",
       "413      0.000                      C(lake)[T.Grant Lake]\n",
       "414      0.000                C(lake)[T.Haiwee Reservoir]\n",
       "415      0.000             C(lake)[T.Hell Hole Reservoir]\n",
       "416      0.000                     C(lake)[T.Helms Creek]\n",
       "417      0.000                    C(lake)[T.Hensley Lake]\n",
       "419      0.000                 C(lake)[T.Huntington Lake]\n",
       "420      0.000             C(lake)[T.Ice House Reservoir]\n",
       "421      0.000               C(lake)[T.Independence Lake]\n",
       "422      0.000         C(lake)[T.Indian Valley Reservoir]\n",
       "423      0.000           C(lake)[T.Iron Canyon Reservoir]\n",
       "424      0.000             C(lake)[T.Jackson Meadows Res]\n",
       "425      0.000                  C(lake)[T.Jenkinson Lake]\n",
       "426      0.000                       C(lake)[T.Kent Lake]\n",
       "427      0.000             C(lake)[T.Kerckhoff Reservoir]\n",
       "509      0.000                  C(lake)[T.Saddlebag Lake]\n",
       "\n",
       "[1018 rows x 2 columns]"
      ]
     },
     "execution_count": 69,
     "metadata": {},
     "output_type": "execute_result"
    }
   ],
   "source": [
    "fi_scores"
   ]
  },
  {
   "cell_type": "code",
   "execution_count": 71,
   "metadata": {
    "collapsed": false
   },
   "outputs": [],
   "source": [
    "imp_cols = fi_scores[fi_scores.feat_imp > 0].feature.values\n",
    "\n",
    "Xtrain_sub, Xtest_sub = X.ix[~Y2015_mask, imp_cols].values, X.ix[Y2015_mask, imp_cols].values\n",
    "Xtrain_sub_c = Xtrain_sub - np.mean(Xtrain_sub, axis=0)\n",
    "Xtest_sub_c = Xtest_sub - np.mean(Xtrain_sub, axis=0)"
   ]
  },
  {
   "cell_type": "code",
   "execution_count": 72,
   "metadata": {
    "collapsed": false
   },
   "outputs": [
    {
     "name": "stdout",
     "output_type": "stream",
     "text": [
      "(30423, 206) (505, 206)\n"
     ]
    }
   ],
   "source": [
    "print Xtrain_sub.shape, Xtest_sub.shape"
   ]
  },
  {
   "cell_type": "code",
   "execution_count": 73,
   "metadata": {
    "collapsed": true
   },
   "outputs": [],
   "source": [
    "from sklearn.linear_model import ElasticNetCV"
   ]
  },
  {
   "cell_type": "code",
   "execution_count": 81,
   "metadata": {
    "collapsed": false,
    "scrolled": true
   },
   "outputs": [
    {
     "name": "stderr",
     "output_type": "stream",
     "text": [
      "........................................................................................................................................................................................................................................................................................................................................................................................................................................................................................................................................................................................................................................................................................................................................................................................................................................................................................................................................................................................................................................................................................................................................................................................................................................................................................................................................................................................................................................................................................................................................................................................................................................................................................................................................................................................................................................................................................................................................................................................................................................................................................................................................................................................................................................................................................................................................................................................................................................................................................................................................................................................................................................................................................................................................................................................................................................................................................................................................................................................................................................................................................................................................................................................................................................................................................................................................................................................................................................................................................................................................................................................................................................................................................................................................................................................................................................................................................................................................................................................................................................................................................................................................................................................................................................................................................................................................................................................................................................................................................................................................................................................................................................................................................................................................................................................................................................................................................................................................................................................................................................................................................................................................................................................................................................................................................................................................................................................................................................................................................................................................................................................................................................................................................................................................................................................................................................................................................................................................................................................................................................................................................................................................................................................................................................................................................................................................................................................................................................................................................................................................................................................................................................................................................................................................................................................................................................................................................................................................................................................................................................................................................................................................................................................................................................................................................................................................................................................................................................................................................................................................................................................................................................................................................................................................................................................................................................................................................................................................................................................................................................................................................................................................................................................................................................................................................................................................................................................................................................................................................................................................................................................................................................................................................................................................................................................................................................................................................................................................................................................................................................................................................................................................................................................................................................................................................................................................................................................................................................................................................................................................................................................................................................................................................................................................................................................................................................................................................................................................................................................................................................................................................................................................................................................................[Parallel(n_jobs=1)]: Done  49 tasks       | elapsed: 15.8min\n",
      "........................................................................................................................................................................................................................................................................................................................................................................................................................................................................................................................................................................................................................................................................................................................................................................................................................................................................................................................................................................................................................................................................................................................................................................................................................................................................................................................................................................................................................................................................................................................................................................................................................................................................................................................................................................................................................................................................................................................................................................................................................................................................................................................................................................................................................................................................................................................................................................................................................................................................................................................................................................................................................................................................................................................................................................................................................................................................................................................................................................................................................................................................................................................................................................................................................................................................................................................................................................................................................................................................................................................................................................................................................................................................................................................................................................................................................................................................................................................................................................................................................................................................................................................................................................................................................................................................................................................................................................................................................................................................................................................................................................................................................................................................................................................................................................................................................................................................................................................................................................................................................................................................................................................................................................................................................................................................................................................................................................................................................................................................................................................................................................................................................................................................................................................................................................................................................................................................................................................................................................................................................................................................................................................................................................................................................................................................................................................................................................................................................................................................................................................................................................................................................................................................................................................................................................................................................................................................................................................................................................................................................................................................................................................................................................................................................................................................................................................................................................................................................................................................................................................................................................................................................................................................................................................................................................................................................................................................................................................................................................................................................................................................................................................................................................................................................................................................................................................................................................................................................................................................................................................................................................................................................................................................................................................................................................................................................................................................................................................................................................................................................................................................................................................................................................................................................................................................................................................................................................................................................................................................................................................................................................................................................................................................................................................................................................................................................................................................................................................................................................................................................................................................................................................................................................................................................................................................................................................................................................................................................................................................................................................................................................................................................................................................................................................................................................................................................................................................................................................................................................................................................................................................................................................................................................................................................................................................................................................................................................................................................................................................................................................................................................................................................................................................................................................................................................................................................................................................................................................................................................................................................................................................................................................................................................................................................................................................................................................................................................................................................................................................................................................................................................................................................................................................................................................................................................................................................................................................................................................................................................................................................................................................................................................................................................................................................................................................................................................................................................................................................................................................................................................................................................................................................................................................................................................................................................................................................................................................................................................................................................................................................................................................................................................................................................................................................................................................................................................................................................................................................................................................................................................................................................................................................................................................................................................................................................................................................................................................................................................................................................................................................................................................................................................................................................................................................................................................................................................................................................................................................................................................................................................................................................................................................................................................................................................................................................................................................................................................................................................................................................................................................................................................................................................................................................................................................................................................................................................................................................................................................................................................................................................................................................................................................................................................................................................................................................................................................................................................................................................................................................................................................................................................................................................................................................................................................................................................................................................................................................................................................................................................................................................................................................................................................................................................................................................................................................................................................................................................................................................................................................................................................................................................................................................................................................................................................................................................................................................................................................................................................................................................................................................................................................................................................................................................................................................................................................................................................................................................................................................................................................................................................................................................................................................................................................................................................................................................................................................................................................................................................................................................................................................................................................................................................................................................................................................................................................................................................................................................................................................................................................................................................................................................................................................................................................................................................................................................................................................................................................................................................................................................................................................................................................................................................................................................................................................................................................................................................................................................................................................................................................................................................................[Parallel(n_jobs=1)]: Done 150 out of 150 | elapsed: 22.2min finished\n"
     ]
    },
    {
     "data": {
      "text/plain": [
       "ElasticNetCV(alphas=None, copy_X=True, cv=5, eps=0.001, fit_intercept=True,\n",
       "       l1_ratio=array([ 0.     ,  0.03448,  0.06897,  0.10345,  0.13793,  0.17241,\n",
       "        0.2069 ,  0.24138,  0.27586,  0.31034,  0.34483,  0.37931,\n",
       "        0.41379,  0.44828,  0.48276,  0.51724,  0.55172,  0.58621,\n",
       "        0.62069,  0.65517,  0.68966,  0.72414,  0.75862,  0.7931 ,\n",
       "        0.82759,  0.86207,  0.89655,  0.93103,  0.96552,  1.     ]),\n",
       "       max_iter=1000, n_alphas=200, n_jobs=1, normalize=False,\n",
       "       positive=False, precompute='auto', random_state=None,\n",
       "       selection='cyclic', tol=0.0001, verbose=1)"
      ]
     },
     "execution_count": 81,
     "metadata": {},
     "output_type": "execute_result"
    }
   ],
   "source": [
    "enet_cv = ElasticNetCV(l1_ratio=np.linspace(0.,1.,30),\n",
    "                       n_alphas=200, cv=5, verbose=1)\n",
    "\n",
    "enet_cv.fit(Xtrain_c, np.ravel(Ytrain))"
   ]
  },
  {
   "cell_type": "code",
   "execution_count": 82,
   "metadata": {
    "collapsed": false
   },
   "outputs": [
    {
     "name": "stdout",
     "output_type": "stream",
     "text": [
      "54817325299.4\n",
      "0.103448275862\n"
     ]
    }
   ],
   "source": [
    "print enet_cv.alpha_\n",
    "print enet_cv.l1_ratio_"
   ]
  },
  {
   "cell_type": "code",
   "execution_count": 83,
   "metadata": {
    "collapsed": true
   },
   "outputs": [],
   "source": [
    "from sklearn.linear_model import ElasticNet"
   ]
  },
  {
   "cell_type": "code",
   "execution_count": 84,
   "metadata": {
    "collapsed": false
   },
   "outputs": [
    {
     "name": "stdout",
     "output_type": "stream",
     "text": [
      "[ 0.81643763  0.94153735  0.81974675  0.84639086  0.89095637]\n",
      "0.863013793154\n"
     ]
    }
   ],
   "source": [
    "enet = ElasticNet(alpha=enet_cv.alpha_, l1_ratio=enet_cv.l1_ratio_)\n",
    "enet_scores = cross_val_score(enet, Xtrain_c, np.ravel(Ytrain), cv=5)\n",
    "print enet_scores\n",
    "print np.mean(enet_scores)"
   ]
  },
  {
   "cell_type": "code",
   "execution_count": null,
   "metadata": {
    "collapsed": true
   },
   "outputs": [],
   "source": []
  }
 ],
 "metadata": {
  "kernelspec": {
   "display_name": "Python 2",
   "language": "python",
   "name": "python2"
  },
  "language_info": {
   "codemirror_mode": {
    "name": "ipython",
    "version": 2
   },
   "file_extension": ".py",
   "mimetype": "text/x-python",
   "name": "python",
   "nbconvert_exporter": "python",
   "pygments_lexer": "ipython2",
   "version": "2.7.11"
  }
 },
 "nbformat": 4,
 "nbformat_minor": 0
}
