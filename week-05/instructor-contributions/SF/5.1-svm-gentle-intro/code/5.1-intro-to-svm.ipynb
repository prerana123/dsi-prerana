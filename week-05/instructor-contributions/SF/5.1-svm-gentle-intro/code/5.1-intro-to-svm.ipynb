{
 "cells": [
  {
   "cell_type": "markdown",
   "metadata": {
    "slideshow": {
     "slide_type": "skip"
    }
   },
   "source": [
    "# Support vector machines\n",
    "\n",
    "---"
   ]
  },
  {
   "cell_type": "code",
   "execution_count": 1,
   "metadata": {
    "collapsed": true,
    "slideshow": {
     "slide_type": "skip"
    }
   },
   "outputs": [],
   "source": [
    "import pandas as pd\n",
    "import numpy as np\n",
    "import matplotlib.pyplot as plt\n",
    "import seaborn as sns\n",
    "\n",
    "from ipywidgets import *\n",
    "from IPython.display import display\n",
    "\n",
    "from sklearn.svm import SVC\n",
    "\n",
    "%matplotlib inline"
   ]
  },
  {
   "cell_type": "code",
   "execution_count": 2,
   "metadata": {
    "collapsed": true,
    "slideshow": {
     "slide_type": "skip"
    }
   },
   "outputs": [],
   "source": [
    "# set the seaborn style to have a white background\n",
    "sns.set(style=\"ticks\", color_codes=True)"
   ]
  },
  {
   "cell_type": "code",
   "execution_count": 112,
   "metadata": {
    "collapsed": true,
    "slideshow": {
     "slide_type": "skip"
    }
   },
   "outputs": [],
   "source": [
    "def matrix_ranges(X):\n",
    "    x1_min, x2_min = np.amin(X, axis=0) - np.std(X, axis=0)/2\n",
    "    x1_max, x2_max = np.amax(X, axis=0) + np.std(X, axis=0)/2\n",
    "    \n",
    "    x1_range = x1_max - x1_min\n",
    "    x2_range = x2_max - x2_min\n",
    "    \n",
    "    return x1_min, x1_max, x1_range, x2_min, x2_max, x2_range"
   ]
  },
  {
   "cell_type": "code",
   "execution_count": 113,
   "metadata": {
    "collapsed": true,
    "slideshow": {
     "slide_type": "skip"
    }
   },
   "outputs": [],
   "source": [
    "def run_svm(X, Y, kernel='linear', C=1.0):\n",
    "    model = SVC(kernel=kernel, C=C)\n",
    "    model.fit(X, Y)\n",
    "    \n",
    "    # code taken from:\n",
    "    # http://scikit-learn.org/stable/auto_examples/svm/plot_svm_margin.html\n",
    "    margin = 1. / np.sqrt(np.sum(model.coef_ ** 2))\n",
    "    \n",
    "    return model, margin\n",
    "\n",
    "\n",
    "def plot_hyperplane_margins(model, x1_min, x1_max, margin):\n",
    "    \n",
    "    weights = model.coef_[0]\n",
    "    \n",
    "    alpha = -weights[0] / weights[1]\n",
    "    \n",
    "    xx = np.linspace(x1_min, x1_max)\n",
    "    \n",
    "    # Intercept does not mean the same thing in SVM as regression\n",
    "    yy = alpha * xx - (model.intercept_[0]) / weights[1]\n",
    "    \n",
    "    yy_down = yy + alpha * margin\n",
    "    yy_up = yy - alpha * margin\n",
    "    \n",
    "    return xx, yy, yy_down, yy_up\n",
    "    "
   ]
  },
  {
   "cell_type": "code",
   "execution_count": 114,
   "metadata": {
    "collapsed": false,
    "slideshow": {
     "slide_type": "skip"
    }
   },
   "outputs": [],
   "source": [
    "def svm_plot(X, Y, point_size=85, figsize=[9,7], C=1.0):\n",
    "\n",
    "    x1_min, x1_max, x1_r, x2_min, x2_max, x2_r = matrix_ranges(X)\n",
    "\n",
    "    svm, margin = run_svm(X, Y, kernel='linear', C=C)\n",
    "\n",
    "    xx, yy, yy_down, yy_up = plot_hyperplane_margins(svm, x1_min, x1_max, margin)\n",
    "\n",
    "    # Set the figure size to be big enough to see stuff\n",
    "    plt.figure(figsize=figsize)\n",
    "\n",
    "    # plot the line, the points, and the nearest vectors to the plane\n",
    "    plt.plot(xx, yy, 'k-', lw=2)\n",
    "    plt.plot(xx, yy_down, 'k--')\n",
    "    plt.plot(xx, yy_up, 'k--')\n",
    "\n",
    "    plt.scatter(svm.support_vectors_[:, 0], svm.support_vectors_[:, 1],\n",
    "                s=point_size*4, facecolors='none', edgecolors='black',\n",
    "                lw=1.5)\n",
    "\n",
    "    plt.scatter(X[:, 0], X[:, 1], c=Y, cmap=plt.cm.Paired, s=point_size)\n",
    "\n",
    "    # set the axis limits:\n",
    "    plt.xlim(x1_min, x1_max)\n",
    "    plt.ylim(x2_min, x2_max)\n",
    "    \n",
    "    plt.xlabel('weight', fontsize=20)\n",
    "    plt.ylabel('height', fontsize=20)\n",
    "    \n",
    "    plt.tick_params(labelsize=14)\n",
    "\n",
    "    plt.show()"
   ]
  },
  {
   "cell_type": "code",
   "execution_count": 123,
   "metadata": {
    "collapsed": true,
    "slideshow": {
     "slide_type": "skip"
    }
   },
   "outputs": [],
   "source": [
    "class XY():\n",
    "    \n",
    "    def __init__(self):\n",
    "        self.f_hw = None\n",
    "        self.m_hw = None\n",
    "        self.scaler = None\n",
    "        self.X = None\n",
    "        self.Y = None\n",
    "        self.cls_n = 20\n",
    "        \n",
    "    def update_params(self, f_hw, m_hw, scaler):\n",
    "        update = False\n",
    "        if self.f_hw != f_hw:\n",
    "            self.f_hw = f_hw\n",
    "            update = True\n",
    "        if self.m_hw != m_hw:\n",
    "            self.m_hw = m_hw\n",
    "            update = True\n",
    "        if self.scaler != scaler:\n",
    "            self.scaler = scaler\n",
    "            update = True\n",
    "                \n",
    "        if update:\n",
    "            self.update_XY()\n",
    "            \n",
    "    def update_XY(self):\n",
    "        \n",
    "        randM = np.random.randn(self.cls_n, 2)*self.scaler + self.m_hw\n",
    "        randF = np.random.randn(self.cls_n, 2)*self.scaler + self.f_hw\n",
    "        \n",
    "        self.X = np.vstack([randM, randF])\n",
    "        self.Y = np.array([0]*self.cls_n + [1]*self.cls_n)\n",
    "\n",
    "    "
   ]
  },
  {
   "cell_type": "code",
   "execution_count": 126,
   "metadata": {
    "collapsed": false,
    "slideshow": {
     "slide_type": "skip"
    }
   },
   "outputs": [
    {
     "name": "stdout",
     "output_type": "stream",
     "text": [
      "[16, 4] [125.0, 66.0] [175.0, 72.0]\n"
     ]
    },
    {
     "data": {
      "image/png": "[encoded data removed]",
      "text/plain": [
       "<matplotlib.figure.Figure at 0x11baf5690>"
      ]
     },
     "metadata": {},
     "output_type": "display_data"
    }
   ],
   "source": [
    "figsize=[9,7]\n",
    "\n",
    "XY_container = XY()\n",
    "\n",
    "def svm_plotter(log_C=0,\n",
    "                weight_diff=50,\n",
    "                height_diff=6,\n",
    "                weight_std=16,\n",
    "                height_std=4):\n",
    "    \n",
    "    f_hw = [150-(weight_diff/2.), 69-(height_diff/2.)]\n",
    "    m_hw = [150+(weight_diff/2.), 69+(height_diff/2.)]\n",
    "    scaler = [weight_std, height_std]\n",
    "    \n",
    "    XY_container.update_params(f_hw, m_hw, scaler)\n",
    "    \n",
    "    svm_plot(XY_container.X, XY_container.Y, C=10**log_C, figsize=figsize)\n",
    "    \n",
    "widgets.interact(svm_plotter, \n",
    "                 log_C=widgets.FloatSlider(min=-4.0, max=4.0, step=0.1, continuous_update=False, value=0),\n",
    "                 weight_diff=widgets.IntSlider(min=0, max=100, step=5, continuous_update=False, value=50),\n",
    "                 height_diff=widgets.IntSlider(min=0, max=24, step=2, continuous_update=False, value=6),\n",
    "                 weight_std=widgets.IntSlider(min=1, max=20, step=1, continuous_update=False, value=16),\n",
    "                 height_std=widgets.IntSlider(min=1, max=10, step=1, continuous_update=False, value=4))"
   ]
  },
  {
   "cell_type": "markdown",
   "metadata": {
    "slideshow": {
     "slide_type": "slide"
    }
   },
   "source": [
    "---\n",
    "\n",
    "## How does the SVM classify?\n",
    "\n",
    "#### [NOTE] We will first get an intuition for the special _linearly separable_ classification case.\n",
    "\n",
    "---\n",
    "\n",
    "In the linearly separable case, support vector machines fit the **decision boundary** that is defined by the largest margin between the closest points for each class. This is commonly called the **maximum margin hyperplane (MMH)**."
   ]
  },
  {
   "cell_type": "markdown",
   "metadata": {
    "slideshow": {
     "slide_type": "slide"
    }
   },
   "source": [
    "![linearly separable SVM MMH](../assets/images/Margin.png)"
   ]
  },
  {
   "cell_type": "markdown",
   "metadata": {
    "slideshow": {
     "slide_type": "slide"
    }
   },
   "source": [
    "---\n",
    "\n",
    "## MMH function\n",
    "\n",
    "The decision boundary (MMH) is derived by the [discriminant function](https://en.wikipedia.org/wiki/Discriminant_function_analysis#Discriminant_functions) (a linear combination of predictors that maximizes the difference between groups):\n",
    "\n",
    "### $$ f(x) = w^T x + b $$\n",
    "\n",
    "where **`w`** is the weight vector and **`b`** is the bias. \n",
    "\n",
    "Note that _`bias`_ term in the case of SVM is confusingly the equivalent of intercept in regression.\n",
    "\n",
    "The sign of solved `f(x)` for an `x` observation determines the (binary) class label of the observation `x`."
   ]
  },
  {
   "cell_type": "markdown",
   "metadata": {
    "slideshow": {
     "slide_type": "slide"
    }
   },
   "source": [
    "![depiction of discriminant function](../assets/images/mmh.png)"
   ]
  },
  {
   "cell_type": "markdown",
   "metadata": {
    "slideshow": {
     "slide_type": "slide"
    }
   },
   "source": [
    "---\n",
    "\n",
    "## Why discriminate based on this margin?\n",
    "\n",
    "**SVM solves for the decision boundary that minimizes generalization error.** \n",
    "\n",
    "Minimized generalization error is equivalent to the maximum margin. Why?\n",
    "\n",
    "They are equivalent because using the MMH as the decision boundary **minimizes the probability that a small perturbation of an observation will produce a classification error.**"
   ]
  },
  {
   "cell_type": "markdown",
   "metadata": {
    "slideshow": {
     "slide_type": "slide"
    }
   },
   "source": [
    "---\n",
    "\n",
    "## How SVM finds the maximum margin\n",
    "\n",
    "The optimization formula is below:\n",
    "\n",
    "### $$\\text{minimize: } \\space \\frac{1}{2}||w||^2$$ $$\\text{subject to: } y_i(w^T x_i + b) \\geq 1 \\text{ for } i = 1,..,N$$\n",
    "\n",
    "### _But what the hell does this mean??_\n"
   ]
  },
  {
   "cell_type": "markdown",
   "metadata": {
    "slideshow": {
     "slide_type": "slide"
    }
   },
   "source": [
    "### $$\\text{minimize: } \\space \\frac{1}{2}||w||^2$$ $$\\text{subject to: } y_i(w^T x_i + b) \\geq 1 \\text{ for } i = 1,..,N$$\n",
    "\n",
    "**Don't worry about the why the left hand side is 1 right now! Just know that values less than 1 mean that the point falls on the _wrong side of the margin_.**\n",
    "\n",
    "Without getting into the math details, the second portion of the optimization is saying: \n",
    "\n",
    "    first, every point needs to be on the correct side of the margins on either class side.\n",
    "    \n",
    "The first portion of the optimization is saying:\n",
    "\n",
    "    given the class observations fall on the correct sides of the margins, maximize the distance between the margins by modifying the weights\n",
    "\n",
    "Because of this, **the margin depends only on the subset of the training data where the classes are closest to each other.**\n",
    "\n",
    "These points are called the **support vectors**. The other points (further from the decision boundary) don’t affect the construction of the MMH at all.\n",
    "\n",
    "But remember: this formulation only works if the two classes are linearly separable!"
   ]
  },
  {
   "cell_type": "markdown",
   "metadata": {
    "slideshow": {
     "slide_type": "slide"
    }
   },
   "source": [
    "---\n",
    "\n",
    "## SVM optimization without linear separability\n",
    "\n",
    "The modified formula is below:\n",
    "\n",
    "### $$ \\text{minimize: } \\space \\frac{1}{2}||w||^2 + C \\sum_{i=1}^N \\xi_i $$ $$ \\text{subject to: } y_i(w^T x_i + b) \\geq 1 - \\xi_j \\text{ for } i = 1,..,N \\text{ and } \\xi_i > 0 $$\n",
    "\n",
    "Now we have a \"hyper-parameter\" **C** which is called the \"soft-margin constant\". It is a \"penalty\" similar to the penalties in the Ridge or the Lasso. It multiples the **sum of the errors, which are the distances from the margins of the points on the wrong side of their margin.**\n",
    "\n",
    "This allows the SVM to classify non-linearly separable problems by allowing errors to occur. **It is another example of _regularization._** Why? Because changing the C hyper-parameter changes the influence of the errors. The lower the value of C, the more that errors are allowed. This increases the bias of the model!\n",
    "\n",
    "For those interested in exporing the math more, [there is a great tutorial here.](http://www.svm-tutorial.com/2015/06/svm-understanding-math-part-3/#more-457)"
   ]
  },
  {
   "cell_type": "markdown",
   "metadata": {
    "slideshow": {
     "slide_type": "slide"
    }
   },
   "source": [
    "![soft margin](../assets/images/soft_margin.png)"
   ]
  },
  {
   "cell_type": "markdown",
   "metadata": {
    "slideshow": {
     "slide_type": "slide"
    }
   },
   "source": [
    "---\n",
    "\n",
    "## Solving non-linear boundaries with the \"kernel trick\"\n",
    "\n",
    "I'm definitely not going to get into the math behind the kernel trick.\n",
    "\n",
    "All you need to understand here is that with an SVM **you can arbitrarily transform your observations that _have no linear seperability_ by putting them into a different \"dimensional space\".**\n",
    "\n",
    "Yes, confusing I know. The following pictures should give you at least a general intuition of what happens."
   ]
  },
  {
   "cell_type": "markdown",
   "metadata": {
    "slideshow": {
     "slide_type": "slide"
    }
   },
   "source": [
    "![kernel transform viz](../assets/images/kernel_viz.png)"
   ]
  },
  {
   "cell_type": "markdown",
   "metadata": {
    "slideshow": {
     "slide_type": "slide"
    }
   },
   "source": [
    "![polynomial kernel](../assets/images/nonlinear-1.png)"
   ]
  },
  {
   "cell_type": "markdown",
   "metadata": {
    "slideshow": {
     "slide_type": "slide"
    }
   },
   "source": [
    "![gaussian kernel](../assets/images/nonlinear-2.png)"
   ]
  }
 ],
 "metadata": {
  "celltoolbar": "Slideshow",
  "kernelspec": {
   "display_name": "Python 2",
   "language": "python",
   "name": "python2"
  },
  "language_info": {
   "codemirror_mode": {
    "name": "ipython",
    "version": 2
   },
   "file_extension": ".py",
   "mimetype": "text/x-python",
   "name": "python",
   "nbconvert_exporter": "python",
   "pygments_lexer": "ipython2",
   "version": "2.7.11"
  }
 },
 "nbformat": 4,
 "nbformat_minor": 0
}
