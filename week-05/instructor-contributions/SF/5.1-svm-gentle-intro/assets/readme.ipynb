{
 "cells": [
  {
   "cell_type": "markdown",
   "metadata": {},
   "source": [
    "---\n",
    "title: Support Vector Machines\n",
    "duration: \"1:25\"\n",
    "creator:\n",
    "    name: Francesco Mosconi\n",
    "    city: SF\n",
    "---"
   ]
  },
  {
   "cell_type": "markdown",
   "metadata": {},
   "source": [
    "# ![](https://ga-dash.s3.amazonaws.com/production/assets/logo-9f88ae6c9c3871690e33280fcf557f33.png) Support Vector Machines\n",
    "Week 5 | Lesson 5.1"
   ]
  },
  {
   "cell_type": "markdown",
   "metadata": {},
   "source": [
    "### LEARNING OBJECTIVES\n",
    "*After this lesson, you will be able to:*\n",
    "- describe what a Support Vector Machine (SVM) model is\n",
    "- explain the math that powers it\n",
    "- evaluate pros/cons compared to other models\n",
    "- know how to tune it"
   ]
  },
  {
   "cell_type": "markdown",
   "metadata": {},
   "source": [
    "### STUDENT PRE-WORK\n",
    "*Before this lesson, you should already be able to:*\n",
    "- perform regression\n",
    "- perform regularization"
   ]
  },
  {
   "cell_type": "markdown",
   "metadata": {},
   "source": [
    "### INSTRUCTOR PREP\n",
    "*Before this lesson, instructors will need to:*\n",
    "- Read in / Review any dataset(s) & starter/solution code\n",
    "- Generate a brief slide deck\n",
    "- Prepare any specific materials\n",
    "- Provide students with additional resources"
   ]
  },
  {
   "cell_type": "markdown",
   "metadata": {},
   "source": [
    "### LESSON GUIDE\n",
    "| TIMING  | TYPE  | TOPIC  |\n",
    "|:-:|---|---|\n",
    "| 5 mins | [Opening](#opening) | Opening |\n",
    "| 45 mins | [Introduction](#introduction) | Introduction: Support Vector Machines |\n",
    "| 10 mins | [Demo](#demo) | Demo: Linear SVM |\n",
    "| 20 mins | [Guided-practice](#guided-practice) | Guided Practice: Tuning an SVM |\n",
    "| 5 mins | [Conclusion](#conclusion) | Conclusion |"
   ]
  },
  {
   "cell_type": "markdown",
   "metadata": {},
   "source": [
    "<a name=\"opening\"></a>\n",
    "## Opening (5 mins)\n",
    "Today we will learn about Support Vector Machines.\n",
    "\n",
    "**Check** what do you think the name means?\n"
   ]
  },
  {
   "cell_type": "markdown",
   "metadata": {},
   "source": [
    "<a name=\"introduction\"></a>\n",
    "## Introduction: Support Vector Machines (45 mins)\n",
    "\n",
    "A Support vector machine is a binary linear classifier whose decision boundary is explicitly constructed to minimize generalization error.\n",
    "\n",
    "Recall:\n",
    "- binary classifier – solves two-class problem\n",
    "- linear classifier – creates linear decision boundary (in 2d)\n",
    "\n",
    "\n",
    "The decision boundary is derived using geometric reasoning (as opposed to the algebraic reasoning we’ve used to derive other classifiers). The generalization error is equated with the geometric concept of margin, which is the region along the decision boundary that is free of data points.\n",
    "\n",
    "![margin](./images/Margin.png)\n",
    "\n",
    "The goal of an SVM is to create the linear decision boundary with the largest margin. This is commonly called the _maximum margin hyperplane_ (MMH).\n",
    "\n",
    "Nonlinear applications of SVM rely on an implicit (nonlinear) mapping that sends vectors from the original feature space K into a higher-dimensional feature space K’. Nonlinear classification in K is then obtained by creating a linear decision boundary in K’. In practice, this involves no computations in the higher dimensional space, thanks to what is called the _kernel trick_.\n",
    "\n",
    "### Decision Boundary\n",
    "\n",
    "The decision boundary (MMH) is derived by the discriminant function:\n",
    "\n",
    "$$\n",
    "f(x) = w^T x + b\n",
    "$$\n",
    "\n",
    "where `w` is the weight vector and `b` is the bias. The sign of `f(x)` determines the (binary) class label of a record `x`.\n",
    "\n",
    "\n",
    "![mmh](./images/mmh.png)\n",
    "\n",
    "\n",
    "As we said before, SVM solves for the decision boundary that minimizes generalization error, or equivalently, that has the maximum margin. These are equivalent since using the mmh as the decision boundary minimizes the probability that a small perturbation in the position of a point produces a classification error.\n",
    "\n",
    "Selecting the `MMH` is a straightforward exercise in analytic geometry (we won’t go through the details here). In particular, this task reduces to the optimization of the following convex objective function:\n",
    "\n",
    "\n",
    "$$\\text{minimize:  } \\space \\frac{1}{2}||w||^2$$\n",
    "$$\\text{subject to:  } y_i(w^T x_i + b) \\geq 1 \\text{  for  } i = 1,..,N$$\n",
    "\n",
    "Notice that the margin depends only on a subset of the training data; namely, those points that are nearest to the decision boundary.\n",
    "\n",
    "These points are called the _support vectors_. The other points (far from the decision boundary) don’t affect the construction of the `MMH` at all.\n",
    "\n",
    "\n",
    "This formulation only works if the two classes are linearly separable, so that we can indeed find a margin to separate them. Usually however, classes are not separable, and there is partial overlap between them. This requires an extension of the formulation to accommodate for class overlap.\n",
    "\n",
    "### Soft margin, slack variables\n",
    "\n",
    "Class overlap is achieved by relaxing the minimization problem or softening the margin. This amounts to solving the following problem:\n",
    "\n",
    "\n",
    "$$ \\text{minimize:  } \\space \\frac{1}{2}||w||^2 + C \\sum_{i=1}^N \\xi_i $$\n",
    "$$ \\text{subject to:  } y_i(w^T x_i + b) \\geq 1 - \\xi_j \\text{  for  } i = 1,..,N \\text{  and  } \\xi_i > 0 $$\n",
    "\n",
    "The hyper-parameter `C`(soft-margin constant) controls the overall complexity by specifying penalty for training error. This is yet another example of Regularization.\n",
    "\n",
    "![soft margin](./images/soft_margin.png)\n",
    "\n",
    "\n",
    "### Nonlinear SVM\n",
    "\n",
    "The soft-margin optimization problem can be rewritten as:\n",
    "\n",
    "$$ \\text{maximize:  } \\sum_{i=1}^N \\alpha_i\n",
    "   - \\frac{1}{2}\\sum_{i=1}^N\\sum_{j=1}^N y_i y_j \\alpha_i \\alpha_j x^Tx$$\n",
    "$$ \\text{subject to:  } \\sum_{i=1} y_i \\alpha_i = 0, 0 \\leq \\alpha_i \\leq C $$\n",
    "\n",
    "Since the feature vector $x$ only appears in the inner product, we can replace this inner product with a more general function that has the same type of output as the inner product. This is called _kernel trick_.\n",
    "\n",
    "Formally, we can think of the inner product as a map that sends two vectors in the feature space K into the real line $R$. A kernel function is a non-linear map the sends two vectors in a higher-dimensional feature space K’ into the real line $R$.\n",
    "\n",
    "See [here](http://www.cs.columbia.edu/~kathy/cs4701/documents/jason_svm_tutorial.pdf) for a deeper tutorial on the math.\n",
    "\n",
    "\n",
    "\n",
    "#### Some popular kernels\n",
    "\n",
    "- linear kernel: $ k(x, x') = x^T x' $\n",
    "- polynomial kernel: $ k(x, x') = (x^T x' + 1)^d$\n",
    "- gaussian kernel (rbf): $ k(x, x') = \\exp{(-\\gamma||x - x'||^2)} $\n",
    "\n",
    "The hyperparameters $d$ and $\\gamma$ affect the flexibility of the decision boundary.\n",
    "\n",
    "![nonlinear1](./images/nonlinear-1.png)\n",
    "![nonlinear2](./images/nonlinear-2.png)\n",
    "\n"
   ]
  },
  {
   "cell_type": "markdown",
   "metadata": {},
   "source": [
    "<a name=\"demo\"></a>\n",
    "## Demo: Linear SVM (10 mins)"
   ]
  },
  {
   "cell_type": "markdown",
   "metadata": {},
   "source": [
    "Scikit Learn implements support vector machine models in the `svm` package."
   ]
  },
  {
   "cell_type": "code",
   "execution_count": 1,
   "metadata": {
    "collapsed": true
   },
   "outputs": [],
   "source": [
    "import pandas as pd\n",
    "import numpy as np\n",
    "from sklearn.svm import SVC\n",
    "from sklearn.datasets import load_iris\n",
    "\n",
    "iris = load_iris()\n",
    "\n",
    "X = iris.data\n",
    "y = iris.target"
   ]
  },
  {
   "cell_type": "code",
   "execution_count": 2,
   "metadata": {
    "collapsed": false
   },
   "outputs": [
    {
     "data": {
      "text/plain": [
       "SVC(C=1.0, cache_size=200, class_weight=None, coef0=0.0,\n",
       "  decision_function_shape=None, degree=3, gamma='auto', kernel='linear',\n",
       "  max_iter=-1, probability=False, random_state=None, shrinking=True,\n",
       "  tol=0.001, verbose=False)"
      ]
     },
     "execution_count": 2,
     "metadata": {},
     "output_type": "execute_result"
    }
   ],
   "source": [
    "model = SVC(kernel='linear')\n",
    "model.fit(X, y)"
   ]
  },
  {
   "cell_type": "markdown",
   "metadata": {},
   "source": [
    "Notice that the SVC class has several parameters. In particular here we are concerned with two:\n",
    "\n",
    "- `C`: penalty parameter of the error term (regularization)\n",
    "- `kernel`: the type of kernel used (`linear`, `poly`, `rbf`, `sigmoid`, `precomputed` or\n",
    "     a callable.)"
   ]
  },
  {
   "cell_type": "markdown",
   "metadata": {},
   "source": [
    "Notes from the documentation:\n",
    "- In the current implementation the fit time complexity is more than quadratic with the number of samples which makes it hard to scale to dataset with more than a couple of 10000 samples.\n",
    "- The multiclass support is handled according to a one-vs-one scheme."
   ]
  },
  {
   "cell_type": "markdown",
   "metadata": {},
   "source": [
    "As usual we can calculate the cross validated score to judge the quality of the model."
   ]
  },
  {
   "cell_type": "code",
   "execution_count": 3,
   "metadata": {
    "collapsed": false
   },
   "outputs": [
    {
     "name": "stdout",
     "output_type": "stream",
     "text": [
      "CV score: 0.98 +/- 0.0163\n"
     ]
    }
   ],
   "source": [
    "from sklearn.cross_validation import cross_val_score\n",
    "\n",
    "cvscores = cross_val_score(model, X, y, cv = 5, n_jobs=-1)\n",
    "print \"CV score: {:.3} +/- {:.3}\".format(cvscores.mean(), cvscores.std())"
   ]
  },
  {
   "cell_type": "markdown",
   "metadata": {},
   "source": [
    "<a name=\"guided-practice\"></a>\n",
    "## Guided Practice: Tuning an SVM (20 mins)\n",
    "\n",
    "An SVM almost never works without tuning it's parameter.\n",
    "\n",
    "**Check** Try performing a grid search over kernel type and regularization strength to find the optimal score for the above data.\n",
    "\n",
    ">Answer:\n",
    "```python\n",
    "from sklearn.grid_search import GridSearchCV\n",
    "parameters = {'kernel':('linear', 'rbf'), 'C':[0.1, 1, 3, 10]}\n",
    "clf = GridSearchCV(model, parameters, n_jobs=-1)\n",
    "clf.fit(X, y)\n",
    "clf.best_estimator_\n",
    "```\n",
    "\n",
    "**Check** can you think of pros and cons for Support Vector Machines\n",
    "\n",
    "> pros:\n",
    "- very powerful, good performance\n",
    "- can be used for anomaly detection (one-class SVM)\n",
    "- ...\n",
    "\n",
    "> cons:\n",
    "- can get very hard to train with lots of data\n",
    "- prone to overfit (need regularization)\n",
    "- black box\n",
    "- ..."
   ]
  },
  {
   "cell_type": "markdown",
   "metadata": {},
   "source": [
    "<a name=\"conclusion\"></a>\n",
    "## Conclusion (5 mins)\n",
    "\n",
    "In this class we have learned about Support Vector Machines. We've seen how they are powerful in many situations and what can some of their limitations be.\n",
    "\n",
    "Can you think of a way to apply them in business?"
   ]
  },
  {
   "cell_type": "markdown",
   "metadata": {},
   "source": [
    "### ADDITIONAL RESOURCES\n",
    "\n",
    "- [Scikit Learn Documentation](http://scikit-learn.org/stable/modules/svm.html)\n",
    "- [Scikit Learn Example 1](http://scikit-learn.org/stable/auto_examples/svm/plot_iris.html#example-svm-plot-iris-py)\n",
    "- [Scikit Learn Example 2](http://scikit-learn.org/stable/auto_examples/svm/plot_separating_hyperplane.html#example-svm-plot-separating-hyperplane-py)\n",
    "- [A user's guide to SVM](http://pyml.sourceforge.net/doc/howto.pdf)\n",
    "- [Support Vector Machines as probabilistic models](http://www.icml-2011.org/papers/386_icmlpaper.pdf)"
   ]
  }
 ],
 "metadata": {
  "kernelspec": {
   "display_name": "Python 2",
   "language": "python",
   "name": "python2"
  },
  "language_info": {
   "codemirror_mode": {
    "name": "ipython",
    "version": 2
   },
   "file_extension": ".py",
   "mimetype": "text/x-python",
   "name": "python",
   "nbconvert_exporter": "python",
   "pygments_lexer": "ipython2",
   "version": "2.7.11"
  }
 },
 "nbformat": 4,
 "nbformat_minor": 0
}
