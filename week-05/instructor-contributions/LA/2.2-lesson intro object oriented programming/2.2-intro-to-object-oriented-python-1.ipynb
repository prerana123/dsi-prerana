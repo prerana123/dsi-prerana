{
 "cells": [
  {
   "cell_type": "markdown",
   "metadata": {},
   "source": [
    "\n",
    "```\n",
    "title: 5.2 Intro to Object Oriented Python\n",
    "duration: \"1:25\"\n",
    "creator:\n",
    "    name: David Yerrington\n",
    "    city: SF\n",
    "```\n",
    "\n",
    "<img src=\"https://ga-dash.s3.amazonaws.com/production/assets/logo-9f88ae6c9c3871690e33280fcf557f33.png\" style=\"float: left; margin: 10px;\"> \n",
    "\n",
    "# Intro to Object Oriented Python 1\n",
    "\n",
    "---\n",
    "\n",
    "Week 3 - Lesson 5.2\n",
    "\n",
    "\n",
    "### LEARNING OBJECTIVES\n",
    "*After this lesson, you will be able to:*\n",
    "- Understand object oriented concepts\n",
    "- Write object oriented Python\n",
    "\n",
    "\n",
    "> This lesson will be heavily code-driven since we're introducing how to fundamentally code using a new paradigm\n",
    "\n",
    "## Classes and Objects\n",
    "\n",
    "Fundamentally, everything is an object of some **type**.  A class is a type of object and it is the basis of object oriented programming.  Object oriented programming is a vast topic and can be a very useful tool when used correctly.  Knowing how to use object oriented Python is esential to knowing the ins and outs of Python in general but the basics will help you understand how many built-in Python features behave.\n",
    "\n",
    "A class is a type in Python, that is similar to a function.  A class can have these features:\n",
    "\n",
    "- Data\n",
    "- Functions\n",
    "\n",
    "Typically, we try to group these items together in some logical manner, for a specific purpose.  Perhaps we want to bug Kiefer and keep track of how many times we might do that so we don't annoy him too much.  A class can help us organize a set of functions, and data that can be shared between each of the functions.\n",
    "\n",
    "\n",
    "So far know about functions.  Here's a few now:"
   ]
  },
  {
   "cell_type": "code",
   "execution_count": 1,
   "metadata": {
    "collapsed": true
   },
   "outputs": [],
   "source": [
    "def increment_one(number):\n",
    "    return number + 1\n",
    "\n",
    "def print_message(msg=\"Default message\"):\n",
    "    print msg\n",
    "\n",
    "def bug_kiefer(now=True):\n",
    "    \n",
    "    if now:\n",
    "        print \"What do you want?\"\n",
    "        \n",
    "        "
   ]
  },
  {
   "cell_type": "markdown",
   "metadata": {},
   "source": [
    "We can do things like bug Kiefer, print messages, and add 1 to a number using the above code."
   ]
  },
  {
   "cell_type": "code",
   "execution_count": 4,
   "metadata": {
    "collapsed": false
   },
   "outputs": [
    {
     "name": "stdout",
     "output_type": "stream",
     "text": [
      "4\n"
     ]
    }
   ],
   "source": [
    "my_number = 3\n",
    "print increment_one(my_number)"
   ]
  },
  {
   "cell_type": "code",
   "execution_count": 6,
   "metadata": {
    "collapsed": false
   },
   "outputs": [
    {
     "name": "stdout",
     "output_type": "stream",
     "text": [
      "It's almost lunch time!\n"
     ]
    }
   ],
   "source": [
    "print_message(\"It's almost lunch time!\")"
   ]
  },
  {
   "cell_type": "code",
   "execution_count": 8,
   "metadata": {
    "collapsed": false
   },
   "outputs": [],
   "source": [
    "bug_kiefer(False)"
   ]
  },
  {
   "cell_type": "markdown",
   "metadata": {},
   "source": [
    "One way we might write a piece of code using these functions in order to bug Kiefer, is like so:"
   ]
  },
  {
   "cell_type": "code",
   "execution_count": 5,
   "metadata": {
    "collapsed": false
   },
   "outputs": [
    {
     "name": "stdout",
     "output_type": "stream",
     "text": [
      "When do we get free lunch?\n",
      "What do you want?\n",
      "When do we get free lunch?\n",
      "What do you want?\n",
      "When do we get free lunch?\n",
      "What do you want?\n",
      "When do we get free lunch?\n",
      "What do you want?\n",
      "When do we get free lunch?\n",
      "What do you want?\n",
      "When do we get free lunch?\n",
      "What do you want?\n",
      "When do we get free lunch?\n",
      "What do you want?\n",
      "When do we get free lunch?\n",
      "What do you want?\n",
      "When do we get free lunch?\n",
      "What do you want?\n",
      "When do we get free lunch?\n",
      "What do you want?\n",
      "We bugged Kiefer  10  times\n"
     ]
    }
   ],
   "source": [
    "bugs = 0\n",
    "\n",
    "for bug_attempt in range(10):\n",
    " \n",
    "    print_message(\"When do we get free lunch?\")\n",
    "    bug_kiefer(True)\n",
    "    \n",
    "    bugs = increment_one(bugs)\n",
    "    \n",
    "print \"We bugged Kiefer \", bugs, \" times\""
   ]
  },
  {
   "cell_type": "markdown",
   "metadata": {},
   "source": [
    "Let's think about this problem in a more object oriented way."
   ]
  },
  {
   "cell_type": "code",
   "execution_count": 14,
   "metadata": {
    "collapsed": false
   },
   "outputs": [
    {
     "name": "stdout",
     "output_type": "stream",
     "text": [
      "job\n"
     ]
    }
   ],
   "source": [
    "def hello():\n",
    "    print 'job'\n",
    "    \n",
    "hello()"
   ]
  },
  {
   "cell_type": "code",
   "execution_count": 33,
   "metadata": {
    "collapsed": false
   },
   "outputs": [],
   "source": [
    "class bug_person():\n",
    "    \n",
    "    #  These are defaults that will be overwritten\n",
    "    name = \"Jon Doe\"\n",
    "    bug_attempts = 0\n",
    "    question = \"Default question?\"\n",
    "    type_bug = \"poking\"\n",
    "    \n",
    "    def __init__(self, name=name, bug_attempts=bug_attempts, question=question, type_bug=type_bug):\n",
    "        self.name = name\n",
    "        self.bug_attempts = bug_attempts\n",
    "        self.question = question\n",
    "        type_bug = type_bug\n",
    "    \n",
    "    def bug_someone(self):\n",
    "        print self.name, \"What do you want?\"\n",
    "    \n",
    "    def print_same_question(self):\n",
    "        print self.question\n",
    "    \n",
    "    def increment_one(self):\n",
    "        self.bug_attempts += 1\n",
    "    \n",
    "    def commence_bugging_someone(self):\n",
    "        \n",
    "        for attempt in range(self.bug_attempts):\n",
    "            \n",
    "            self.print_same_question()\n",
    "            self.bug_someone()\n",
    "        \n",
    "        print \"We have officially bugged \", self.name, \" \", self.bug_attempts, \"time(s)!\""
   ]
  },
  {
   "cell_type": "markdown",
   "metadata": {},
   "source": [
    "So far we have made a class called `bug_person`.  Let's initialize our class to a new **instance** assigned to a variable we call **bug**.  "
   ]
  },
  {
   "cell_type": "code",
   "execution_count": 31,
   "metadata": {
    "collapsed": false
   },
   "outputs": [
    {
     "name": "stdout",
     "output_type": "stream",
     "text": [
      "output first: R we there yet?\n",
      "output defaults Default question?\n"
     ]
    }
   ],
   "source": [
    "bug = bug_person(\"Kiefer\", 5, \"R we there yet?\")\n",
    "bug2 = bug_person()\n",
    "\n",
    "print 'output first:', bug.question\n",
    "print 'output defaults', bug2.question"
   ]
  },
  {
   "cell_type": "markdown",
   "metadata": {},
   "source": [
    "**bug** is now an object that has 3 **class attributes** (sometimes refered to class variables): \n",
    "* name\n",
    "* bug_attempts\n",
    "* question\n",
    "\n",
    "Also 3 **class methods**:\n",
    "* bug_someone() \n",
    "* print_same_question()\n",
    "* commence_bugging_someone()\n",
    "\n",
    "**Here is what the class attributes look like:**"
   ]
  },
  {
   "cell_type": "code",
   "execution_count": 32,
   "metadata": {
    "collapsed": false
   },
   "outputs": [
    {
     "name": "stdout",
     "output_type": "stream",
     "text": [
      "Kiefer\n",
      "5\n",
      "R we there yet?\n"
     ]
    }
   ],
   "source": [
    "print bug.name\n",
    "print bug.bug_attempts\n",
    "print bug.question\n"
   ]
  },
  {
   "cell_type": "markdown",
   "metadata": {},
   "source": [
    "We can access any of the methods in our **bug_person** class through the object variable we assigned via **bug**:"
   ]
  },
  {
   "cell_type": "code",
   "execution_count": 24,
   "metadata": {
    "collapsed": false
   },
   "outputs": [
    {
     "name": "stdout",
     "output_type": "stream",
     "text": [
      "R we there yet?\n",
      "Kiefer What do you want?\n",
      "R we there yet?\n",
      "Kiefer What do you want?\n",
      "R we there yet?\n",
      "Kiefer What do you want?\n",
      "R we there yet?\n",
      "Kiefer What do you want?\n",
      "R we there yet?\n",
      "Kiefer What do you want?\n",
      "We have officially bugged  Kiefer   5 time(s)!\n"
     ]
    }
   ],
   "source": [
    "bug.commence_bugging_someone()"
   ]
  },
  {
   "cell_type": "code",
   "execution_count": 34,
   "metadata": {
    "collapsed": false
   },
   "outputs": [
    {
     "name": "stdout",
     "output_type": "stream",
     "text": [
      "We have officially bugged  Jon Doe   0 time(s)!\n"
     ]
    }
   ],
   "source": [
    "bug2.commence_bugging_someone()"
   ]
  },
  {
   "cell_type": "markdown",
   "metadata": {},
   "source": [
    "So what about the method \\_\\_init\\_\\_ and all these **self** things going on?  Basically, \\_\\_init\\_\\_ is a special function that we use in classes that runs automatically whenever the class extantiates (after you assign it to a variable and it is intiailized).  Whatever parmaters we initialize / call our class with, are passed to the \\_\\_init\\_\\_() which handles the\n",
    "\n",
    "**Common uses for \\_\\_init\\_\\_ include:**\n",
    "* Setting class attributes\n",
    "* Connecting to databases\n",
    "* Loading files\n",
    "* Reading baseline system statistics \n",
    "\n",
    "**self** is a little involved but for the most part, we use **self** to refer to anything within the class.  It allows us to use variables in the scope of the class and is commonly used to store data that is shared between functions.  A few notes about **self**:\n",
    "\n",
    "* All functions in a class, must have a **self** parameter in order to function properly within a class.\n",
    "* All functions within a class can use **self** to access class attributes.\n",
    "\n"
   ]
  },
  {
   "cell_type": "markdown",
   "metadata": {},
   "source": [
    "## Check-in!  Where are the following:\n",
    "\n",
    "- Class attribute\n",
    "- Intiailization method\n",
    "- Self-reference\n",
    "\n",
    "**Bonus** how do you initialize this class and print out an attribute?"
   ]
  },
  {
   "cell_type": "code",
   "execution_count": 26,
   "metadata": {
    "collapsed": false
   },
   "outputs": [],
   "source": [
    "class my_class_name:\n",
    "    \n",
    "    super_stuff = \"The best stuff\"\n",
    "    \n",
    "    def __init__(self):\n",
    "        \n",
    "        print super_stuff # What will this do?"
   ]
  },
  {
   "cell_type": "markdown",
   "metadata": {},
   "source": [
    "## (15 minutes) Attempt to write your own class\n",
    "\n",
    "Write your own class with a single attribute, and **two methods** called \\_\\_init\\_\\_() and **print_attribute()**, remembering to use **self** to refer to class attributes, and **self** as your 1st parameter to each method.\n",
    "\n",
    "* Set your class attribute in \\_\\_init\\_\\_, using self.whatever_you_named_your_class_attribute = \"something\"\n",
    "* Make your **print_attribute(self)** function print your **self.whatever_you_named_your_class_attribute**"
   ]
  },
  {
   "cell_type": "code",
   "execution_count": null,
   "metadata": {
    "collapsed": true
   },
   "outputs": [],
   "source": []
  },
  {
   "cell_type": "markdown",
   "metadata": {},
   "source": [
    "## A Little Theory\n",
    "\n",
    "You will eventually realize that everything in Python is an object. It means that everything in Python has a class. You can find out which class an object belongs to by using the default property \\_\\_class\\_\\_."
   ]
  },
  {
   "cell_type": "code",
   "execution_count": 27,
   "metadata": {
    "collapsed": false
   },
   "outputs": [
    {
     "data": {
      "text/plain": [
       "<class __main__.bug_person at 0x104c650b8>"
      ]
     },
     "execution_count": 27,
     "metadata": {},
     "output_type": "execute_result"
    }
   ],
   "source": [
    "bug.__class__"
   ]
  },
  {
   "cell_type": "markdown",
   "metadata": {},
   "source": [
    "So yes, [1,2].reverse() is a method of the native class 'list'.  In Pandas, sklearn, statsmodels, everything is bundled into their own classes, which are in essence a collection of attributes (easy to print / view class attributes), and methods."
   ]
  },
  {
   "cell_type": "markdown",
   "metadata": {},
   "source": [
    "## Inspecting a class\n",
    "\n",
    "When we want to know more about a class object, we can use the \"inspect\" module."
   ]
  },
  {
   "cell_type": "code",
   "execution_count": 29,
   "metadata": {
    "collapsed": false
   },
   "outputs": [
    {
     "data": {
      "text/plain": [
       "[('__doc__', None),\n",
       " ('__init__',\n",
       "  <bound method bug_person.__init__ of <__main__.bug_person instance at 0x104c6b908>>),\n",
       " ('__module__', '__main__'),\n",
       " ('bug_attempts', 5),\n",
       " ('bug_someone',\n",
       "  <bound method bug_person.bug_someone of <__main__.bug_person instance at 0x104c6b908>>),\n",
       " ('commence_bugging_someone',\n",
       "  <bound method bug_person.commence_bugging_someone of <__main__.bug_person instance at 0x104c6b908>>),\n",
       " ('increment_one',\n",
       "  <bound method bug_person.increment_one of <__main__.bug_person instance at 0x104c6b908>>),\n",
       " ('name', 'Kiefer'),\n",
       " ('print_same_question',\n",
       "  <bound method bug_person.print_same_question of <__main__.bug_person instance at 0x104c6b908>>),\n",
       " ('question', 'R we there yet?')]"
      ]
     },
     "execution_count": 29,
     "metadata": {},
     "output_type": "execute_result"
    }
   ],
   "source": [
    "import inspect\n",
    "inspect.getmembers(bug)"
   ]
  },
  {
   "cell_type": "markdown",
   "metadata": {},
   "source": [
    "This can be helpful to know what attributes and methods are avaiable and basically, the blueprint of a class object in memory.  Depending on the way the class was implemented, you can usually find useful information hiding inside of `bug.__class__.__dict__` -- which can be easier to look at.  The \"right way\" is to use the \"inspect\" module."
   ]
  },
  {
   "cell_type": "code",
   "execution_count": 33,
   "metadata": {
    "collapsed": false
   },
   "outputs": [
    {
     "data": {
      "text/plain": [
       "{'__doc__': None,\n",
       " '__init__': <function __main__.__init__>,\n",
       " '__module__': '__main__',\n",
       " 'bug_attempts': 0,\n",
       " 'bug_someone': <function __main__.bug_someone>,\n",
       " 'commence_bugging_someone': <function __main__.commence_bugging_someone>,\n",
       " 'increment_one': <function __main__.increment_one>,\n",
       " 'name': 'Jon Doe',\n",
       " 'print_same_question': <function __main__.print_same_question>,\n",
       " 'question': 'Default question?'}"
      ]
     },
     "execution_count": 33,
     "metadata": {},
     "output_type": "execute_result"
    }
   ],
   "source": [
    "bug.__class__.__dict__"
   ]
  },
  {
   "cell_type": "markdown",
   "metadata": {},
   "source": [
    "## Special Class Methods\n",
    "\n",
    "|Method| Description|\n",
    "|--|--|\n",
    "|\\_\\_init\\_\\_ ( self [,args...] )| Constructor (with any optional arguments) Sample Call : obj = className(args)\n",
    "|\\_\\_del\\_\\_( self ) | Destructor, deletes an object Sample Call : del obj\n",
    "|\\_\\_repr\\_\\_( self ) | Evaluatable string representation Sample Call : repr(obj)\n",
    "|\\_\\_str\\_\\_( self ) | Printable string representation Sample Call : str(obj)\n",
    "|\\_\\_cmp\\_\\_ ( self, x ) | Object comparison Sample Call : cmp(obj, x)\n",
    "\n",
    "One notable feature about Python, that can be really annoying, is that developers can write some really obnoxious \"\\_\\_repr\\_\\_\" functions that can be really uninspiring.  The repr() function reports back something descriptive about what the class represents.  You can basically do whatever you want with it but the purpose of it is to convey something descirptive about what your class is about.  Here's an example of such a case."
   ]
  },
  {
   "cell_type": "code",
   "execution_count": 45,
   "metadata": {
    "collapsed": true
   },
   "outputs": [],
   "source": [
    "class generic:\n",
    "    \n",
    "    cool_attribute = \"I'm super cool\"\n",
    "    \n",
    "    def __init__(self):\n",
    "        self.cool_attribute = \"Ok super cool then\"\n",
    "    \n",
    "    def __repr__(self):\n",
    "        return \"You don't get to see what I'm about!\"\n",
    "    "
   ]
  },
  {
   "cell_type": "code",
   "execution_count": 48,
   "metadata": {
    "collapsed": false
   },
   "outputs": [
    {
     "data": {
      "text/plain": [
       "You don't get to see what I'm about!"
      ]
     },
     "execution_count": 48,
     "metadata": {},
     "output_type": "execute_result"
    }
   ],
   "source": [
    "example = generic()\n",
    "example"
   ]
  },
  {
   "cell_type": "markdown",
   "metadata": {},
   "source": [
    "Remember our **Pandas** DataFrame **groupby** object?  Basically, since the groupby class hasn't implemented a way to view the data, what you're left with is it's default \\_\\_repr\\_\\_ that says something to the effect of \"<00000 groupby object etc\".  This \\_\\_repr\\_\\_ method is what you could create, in order to return a useful **str** other than the default \"this is a generic class\"."
   ]
  },
  {
   "cell_type": "markdown",
   "metadata": {},
   "source": [
    "The **\\_\\_del\\_\\_** method, is also a little import too as it relates to \\_\\_init\\_\\_, you can use it to run code once your class is done executing.  Generally it works well but in practice there are a few things to know.  Read more about [safely using Python destructors](http://eli.thegreenplace.net/2009/06/12/safely-using-destructors-in-python)"
   ]
  },
  {
   "cell_type": "markdown",
   "metadata": {},
   "source": [
    "## Decorators\n",
    "\n",
    "Essentially, decorators work as wrappers, modifying the behavior of the code before and after a target function execution, without the need to modify the function itself, augmenting the original functionality, thus decorating it.\n",
    "\n",
    "This is a wierd fuction that is unique to Python.  Many newer languages implement some form of it now but Python was one of the originators of this idea that arbitrarily handles input to your functions.  It can be a really handy way to clean or filter your input to your functions before they run.\n",
    "\n",
    "#### An Example"
   ]
  },
  {
   "cell_type": "code",
   "execution_count": 90,
   "metadata": {
    "collapsed": true
   },
   "outputs": [],
   "source": [
    "def clean_string(calling_function):\n",
    "    \n",
    "    def clean(string):\n",
    "      \n",
    "        # We clean the string here\n",
    "        cleaned_string = string.replace(\"dirty\", \"clean\")\n",
    "        \n",
    "        # we call the original function (in this example we call)\n",
    "        calling_function(cleaned_string)\n",
    "        \n",
    "    return clean\n",
    "\n"
   ]
  },
  {
   "cell_type": "markdown",
   "metadata": {},
   "source": [
    "You can use decorators in class methods or in regular methods.  The above example will replace any string input that has the string \"dirty\" with the string \"clean\"."
   ]
  },
  {
   "cell_type": "code",
   "execution_count": 99,
   "metadata": {
    "collapsed": true
   },
   "outputs": [],
   "source": [
    "def clean_string(calling_function):\n",
    "    \n",
    "    def clean(string):\n",
    "      \n",
    "        # We clean the string here\n",
    "        cleaned_string = string.replace(\"dirty\", \"clean\")\n",
    "        \n",
    "        # we call the original function (in this example we call)\n",
    "        calling_function(cleaned_string)\n",
    "        \n",
    "    return clean\n",
    "\n",
    "# @clean_string\n",
    "def print_string(my_string):\n",
    "    print my_string"
   ]
  },
  {
   "cell_type": "markdown",
   "metadata": {},
   "source": [
    "First let's check out what this will do by itself when we call it with the paramter \"I'm a dirty string\"."
   ]
  },
  {
   "cell_type": "code",
   "execution_count": 100,
   "metadata": {
    "collapsed": false
   },
   "outputs": [
    {
     "name": "stdout",
     "output_type": "stream",
     "text": [
      "I'm a clean string\n"
     ]
    }
   ],
   "source": [
    "\n",
    "print_string(\"I'm a dirty string\")"
   ]
  },
  {
   "cell_type": "markdown",
   "metadata": {},
   "source": [
    "# LET'S DECORATE IT!\n",
    "<img src=\"http://www.clker.com/cliparts/b/n/Y/t/Y/E/festive-bunting-hi.png\">"
   ]
  },
  {
   "cell_type": "code",
   "execution_count": 102,
   "metadata": {
    "collapsed": false
   },
   "outputs": [],
   "source": [
    "@clean_string\n",
    "def print_string(my_string):\n",
    "    print my_string"
   ]
  },
  {
   "cell_type": "markdown",
   "metadata": {},
   "source": [
    "Now let's call our decorator!"
   ]
  },
  {
   "cell_type": "code",
   "execution_count": 103,
   "metadata": {
    "collapsed": false,
    "scrolled": true
   },
   "outputs": [
    {
     "name": "stdout",
     "output_type": "stream",
     "text": [
      "I'm one clean string indeed!  Don't tell Stoney!\n"
     ]
    }
   ],
   "source": [
    "print_string(\"I'm one dirty string indeed!  Don't tell Stoney!\")"
   ]
  },
  {
   "cell_type": "markdown",
   "metadata": {},
   "source": [
    "## (~25 minutes) Independent Practice\n",
    "\n",
    "Write a class with:\n",
    "\n",
    "* At least 3 attributes\n",
    "* An \\_\\_init\\_\\_() function that sets your attributes with parameters\n",
    "* 2 Functions that print different things depending on what you set from your init() method\n",
    "\n",
    "** Bonus **\n",
    "\n",
    "Write a class that: \n",
    "- Takes a dictionary (or another object) as a parameter\n",
    "- Creates a DataFrame\n",
    "  - Sets DataFrame as a class attribute\n",
    "- Write a function that produces at least one summary statistic\n",
    "- Write a function that can plot an sns.pairplot as the output\n",
    "\n",
    "** Bonus Bonus **\n",
    "\n",
    "Extend your bonus class to produce:\n",
    "- Plot summary stastics or text summary statistics based on an attribute being set True or False\n",
    "- Figure out how to use a class method to a DataFrame \".map()\" or \".apply()\""
   ]
  },
  {
   "cell_type": "markdown",
   "metadata": {},
   "source": [
    "## Design Patterns\n",
    "\n",
    "In the future we might talk about object oriented design patterns which are very powerful ways to organize our code.  A very EXCELLENT free resource on this topic, also heavily slanted towards scientific Python programmers such as Data Scientists, is [Object Oriented Design by Bartosz Telenczuk, Niko Wilbert](https://python.g-node.org/python-summerschool-2011/_media/materials/oop/oo_design.pdf).  We highly recommend that you check that out!"
   ]
  },
  {
   "cell_type": "markdown",
   "metadata": {},
   "source": [
    "# Summary\n",
    "\n",
    "- What are some similarities to Pandas and what we just did today?\n",
    "- How do we make a \"class\"?\n",
    "- What do all class methods take as parameters?\n",
    "- How might we use this in the future?"
   ]
  },
  {
   "cell_type": "code",
   "execution_count": null,
   "metadata": {
    "collapsed": true
   },
   "outputs": [],
   "source": []
  }
 ],
 "metadata": {
  "kernelspec": {
   "display_name": "Python 2",
   "language": "python",
   "name": "python2"
  },
  "language_info": {
   "codemirror_mode": {
    "name": "ipython",
    "version": 2
   },
   "file_extension": ".py",
   "mimetype": "text/x-python",
   "name": "python",
   "nbconvert_exporter": "python",
   "pygments_lexer": "ipython2",
   "version": "2.7.5"
  }
 },
 "nbformat": 4,
 "nbformat_minor": 0
}
