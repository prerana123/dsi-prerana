{
 "cells": [
  {
   "cell_type": "markdown",
   "metadata": {},
   "source": [
    "#### pip install texttable"
   ]
  },
  {
   "cell_type": "code",
   "execution_count": 1,
   "metadata": {
    "collapsed": false
   },
   "outputs": [
    {
     "name": "stdout",
     "output_type": "stream",
     "text": [
      "Installed sqlitemagic.py. To use it, type:\n",
      "  %load_ext sqlitemagic\n"
     ]
    },
    {
     "name": "stderr",
     "output_type": "stream",
     "text": [
      "/Users/jam3jam/anaconda/lib/python2.7/site-packages/IPython/core/magics/extension.py:47: UserWarning: %install_ext` is deprecated, please distribute your extension(s)as a python packages.\n",
      "  \"as a python packages.\", UserWarning)\n"
     ]
    }
   ],
   "source": [
    "%install_ext https://raw.github.com/tkf/ipython-sqlitemagic/master/sqlitemagic.py"
   ]
  },
  {
   "cell_type": "code",
   "execution_count": 4,
   "metadata": {
    "collapsed": false
   },
   "outputs": [
    {
     "name": "stdout",
     "output_type": "stream",
     "text": [
      "The sqlitemagic extension is already loaded. To reload it, use:\n",
      "  %reload_ext sqlitemagic\n"
     ]
    }
   ],
   "source": [
    "%load_ext sqlitemagic"
   ]
  },
  {
   "cell_type": "code",
   "execution_count": 6,
   "metadata": {
    "collapsed": true
   },
   "outputs": [],
   "source": [
    "conn = %sqlite_create"
   ]
  },
  {
   "cell_type": "code",
   "execution_count": 7,
   "metadata": {
    "collapsed": false
   },
   "outputs": [],
   "source": [
    "%%sqlite_execute --commit conn\n",
    "CREATE TABLE recipe (name, ingredients)"
   ]
  },
  {
   "cell_type": "code",
   "execution_count": 10,
   "metadata": {
    "collapsed": true
   },
   "outputs": [],
   "source": [
    "%%sqlite_execute --script --commit conn\n",
    "\n",
    "INSERT INTO recipe (name, ingredients)\n",
    "VALUES ('broccoli stew', 'broccoli peppers cheese tomatoes');\n",
    "\n",
    "INSERT INTO recipe (name, ingredients)\n",
    "VALUES ('pumpkin stew', 'pumpkin onions garlic celery');\n",
    "\n",
    "INSERT INTO recipe (name, ingredients)\n",
    "VALUES ('broccoli pie', 'broccoli cheese onions flour');\n",
    "\n",
    "INSERT INTO recipe (name, ingredients)\n",
    "VALUES ('pumpkin pie', 'pumpkin sugar flour butter');"
   ]
  },
  {
   "cell_type": "code",
   "execution_count": 11,
   "metadata": {
    "collapsed": false
   },
   "outputs": [
    {
     "name": "stdout",
     "output_type": "stream",
     "text": [
      "    name                  ingredients            \n",
      "================================================\n",
      "broccoli stew   broccoli peppers cheese tomatoes \n",
      "pumpkin stew    pumpkin onions garlic celery     \n",
      "broccoli pie    broccoli cheese onions flour     \n",
      "pumpkin pie     pumpkin sugar flour butter       \n"
     ]
    }
   ],
   "source": [
    "%%sqlite_execute --commit conn\n",
    "SELECT * FROM recipe"
   ]
  },
  {
   "cell_type": "code",
   "execution_count": 12,
   "metadata": {
    "collapsed": true
   },
   "outputs": [],
   "source": [
    "%%sqlite_execute --commit conn\n",
    "CREATE TABLE store (ingredients, price)"
   ]
  },
  {
   "cell_type": "code",
   "execution_count": 13,
   "metadata": {
    "collapsed": true
   },
   "outputs": [],
   "source": [
    "%%sqlite_execute --script --commit conn\n",
    "\n",
    "INSERT INTO store (ingredients, price)\n",
    "VALUES ('broccoli peppers cheese tomatoes', 12);\n",
    "\n",
    "INSERT INTO store (ingredients, price)\n",
    "VALUES ('pumpkin onions garlic celery', 20);\n",
    "\n",
    "INSERT INTO store (ingredients, price)\n",
    "VALUES ('pumpkin sugar flour butter', 20);"
   ]
  },
  {
   "cell_type": "code",
   "execution_count": 15,
   "metadata": {
    "collapsed": false
   },
   "outputs": [
    {
     "name": "stdout",
     "output_type": "stream",
     "text": [
      "          ingredients              price \n",
      "========================================\n",
      "broccoli peppers cheese tomatoes   12    \n",
      "pumpkin onions garlic celery       20    \n",
      "pumpkin sugar flour butter         20    \n"
     ]
    }
   ],
   "source": [
    "%%sqlite_execute --commit conn\n",
    "\n",
    "SELECT * FROM store"
   ]
  },
  {
   "cell_type": "code",
   "execution_count": 27,
   "metadata": {
    "collapsed": false
   },
   "outputs": [
    {
     "name": "stdout",
     "output_type": "stream",
     "text": [
      "    name        price \n",
      "=====================\n",
      "broccoli stew   12    \n",
      "pumpkin stew    20    \n",
      "broccoli pie    None  \n",
      "pumpkin pie     20    \n"
     ]
    }
   ],
   "source": [
    "%%sqlite_execute conn\n",
    "#version 1\n",
    "SELECT recipe.name, store.price\n",
    "FROM recipe\n",
    "LEFT JOIN store \n",
    "ON store.ingredients=recipe.ingredients;"
   ]
  },
  {
   "cell_type": "code",
   "execution_count": 29,
   "metadata": {
    "collapsed": false
   },
   "outputs": [
    {
     "name": "stdout",
     "output_type": "stream",
     "text": [
      "    name                  ingredients              price \n",
      "========================================================\n",
      "broccoli stew   broccoli peppers cheese tomatoes   12    \n",
      "pumpkin stew    pumpkin onions garlic celery       20    \n",
      "pumpkin pie     pumpkin sugar flour butter         20    \n"
     ]
    }
   ],
   "source": [
    "%%sqlite_execute conn\n",
    "#version 2\n",
    "select recipe.name, recipe.ingredients, store.price\n",
    "from recipe, store\n",
    "where recipe.ingredients = store.ingredients;"
   ]
  },
  {
   "cell_type": "code",
   "execution_count": 30,
   "metadata": {
    "collapsed": false
   },
   "outputs": [
    {
     "name": "stdout",
     "output_type": "stream",
     "text": [
      "/Users/jam3jam/dsi/GA-DSI/dsi-course-materials/curriculum/04-lessons/week-03/3.4-lab/code/starter-code\r\n"
     ]
    }
   ],
   "source": [
    "!pwd"
   ]
  },
  {
   "cell_type": "code",
   "execution_count": null,
   "metadata": {
    "collapsed": true
   },
   "outputs": [],
   "source": []
  }
 ],
 "metadata": {
  "kernelspec": {
   "display_name": "Python 2",
   "language": "python",
   "name": "python2"
  },
  "language_info": {
   "codemirror_mode": {
    "name": "ipython",
    "version": 2
   },
   "file_extension": ".py",
   "mimetype": "text/x-python",
   "name": "python",
   "nbconvert_exporter": "python",
   "pygments_lexer": "ipython2",
   "version": "2.7.11"
  },
  "widgets": {
   "state": {},
   "version": "1.1.2"
  }
 },
 "nbformat": 4,
 "nbformat_minor": 0
}
