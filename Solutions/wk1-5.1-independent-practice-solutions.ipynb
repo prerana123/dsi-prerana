{
 "cells": [
  {
   "cell_type": "markdown",
   "metadata": {},
   "source": [
    "### List comprehension independent practice\n",
    "\n",
    "Each problem should be completed with a single list (or dictionary) comprehension!"
   ]
  },
  {
   "cell_type": "code",
   "execution_count": 1,
   "metadata": {
    "collapsed": true
   },
   "outputs": [],
   "source": [
    "import pandas as pd\n",
    "import numpy as np\n",
    "import string"
   ]
  },
  {
   "cell_type": "markdown",
   "metadata": {},
   "source": [
    "#### Easy problems"
   ]
  },
  {
   "cell_type": "markdown",
   "metadata": {},
   "source": [
    "##### 1. convert each string from lowercase to uppercase\n",
    "\n",
    "[Hint: python strings can be turned to uppercase by appending: .upper(), e.g 'hello'.upper()]"
   ]
  },
  {
   "cell_type": "code",
   "execution_count": 2,
   "metadata": {
    "collapsed": false
   },
   "outputs": [
    {
     "name": "stdout",
     "output_type": "stream",
     "text": [
      "['BLACK', 'YELLOW', 'RED', 'GREEN', 'BLUE']\n"
     ]
    }
   ],
   "source": [
    "strings = ['black','Yellow','ReD','GreeN','BLUe']\n",
    "\n",
    "upper_strings = [x.upper() for x in strings]\n",
    "print(upper_strings)"
   ]
  },
  {
   "cell_type": "markdown",
   "metadata": {},
   "source": [
    "##### 2. take the numbers in the list and keep only the even numbers\n",
    "\n",
    "[Hint: the modulo operator **%** can be used to calculate the remainder, e.g. 5 % 2 == 1]"
   ]
  },
  {
   "cell_type": "code",
   "execution_count": 3,
   "metadata": {
    "collapsed": false
   },
   "outputs": [
    {
     "name": "stdout",
     "output_type": "stream",
     "text": [
      "[2, 4, 6, 8, 10]\n"
     ]
    }
   ],
   "source": [
    "numbers = [1,2,3,4,5,6,7,8,9,10]\n",
    "\n",
    "even_numbers = [x for x in numbers if x % 2 == 0]\n",
    "print(even_numbers)"
   ]
  },
  {
   "cell_type": "markdown",
   "metadata": {},
   "source": [
    "##### 3. convert to 'v' if a character is a vowel and 'c' if a consonant, otherwise convert to '?'"
   ]
  },
  {
   "cell_type": "code",
   "execution_count": 4,
   "metadata": {
    "collapsed": false
   },
   "outputs": [
    {
     "name": "stdout",
     "output_type": "stream",
     "text": [
      "['v', 'c', '?', 'c', 'c', '?', '?', 'v', 'v', '?', 'v', 'c', 'c']\n"
     ]
    }
   ],
   "source": [
    "characters = ['a','f',None,'k','l','1',12,'e','e',-1,'i','b','p']\n",
    "alphabet = list(string.ascii_lowercase)\n",
    "vowels = ['a','e','i','o','u']\n",
    "\n",
    "converted = ['v' if x in vowels else 'c' if (x in alphabet and x not in vowels) else '?' for x in characters]\n",
    "print(converted)"
   ]
  },
  {
   "cell_type": "markdown",
   "metadata": {},
   "source": [
    "#### Medium problems"
   ]
  },
  {
   "cell_type": "markdown",
   "metadata": {},
   "source": [
    "##### 4. calculate the means of the numbers in each list that lie between 0 and 100 (inclusive)"
   ]
  },
  {
   "cell_type": "code",
   "execution_count": 5,
   "metadata": {
    "collapsed": false
   },
   "outputs": [
    {
     "name": "stdout",
     "output_type": "stream",
     "text": [
      "[40.25, 37.0, 55.333333333333336]\n"
     ]
    }
   ],
   "source": [
    "number_sets = [[1,50,-40,20,90], [1004,1002,101,-90,40,34], [-1,-2,34,55,77,109]]\n",
    "\n",
    "means = [np.mean([y for y in x if y >= 0 and y <= 100]) for x in number_sets]\n",
    "print(means)"
   ]
  },
  {
   "cell_type": "markdown",
   "metadata": {},
   "source": [
    "##### 5. for each string in each list, if the index of the strings is even, join them like: 'item1 item2'. Otherwise join them like: 'item2 item1'."
   ]
  },
  {
   "cell_type": "code",
   "execution_count": 6,
   "metadata": {
    "collapsed": false
   },
   "outputs": [
    {
     "name": "stdout",
     "output_type": "stream",
     "text": [
      "['alpha echo', 'foxtrot bravo', 'charlie golf', 'hotel delta']\n"
     ]
    }
   ],
   "source": [
    "strings1 = ['alpha','bravo','charlie','delta']\n",
    "strings2 = ['echo','foxtrot','golf','hotel']\n",
    "\n",
    "joined = [x+' '+y if i % 2 == 0 else y+' '+x for i, (x, y) in enumerate(zip(strings1, strings2))]\n",
    "print(joined)"
   ]
  },
  {
   "cell_type": "markdown",
   "metadata": {},
   "source": [
    "##### 6. create a pandas dataframe from the columns and associated values where each column is the first five multiples of the values:"
   ]
  },
  {
   "cell_type": "code",
   "execution_count": 7,
   "metadata": {
    "collapsed": false
   },
   "outputs": [
    {
     "name": "stdout",
     "output_type": "stream",
     "text": [
      "   five  seven  twelve\n",
      "0     5      7      12\n",
      "1    10     14      24\n",
      "2    15     21      36\n",
      "3    20     28      48\n",
      "4    25     35      60\n"
     ]
    }
   ],
   "source": [
    "columns = ['five','seven','twelve']\n",
    "values = [5, 7, 12]\n",
    "multiples = [1, 2, 3, 4, 5]\n",
    "\n",
    "data = pd.DataFrame({k:[v*x for x in multiples] for k, v in zip(columns, values)})\n",
    "print(data)"
   ]
  },
  {
   "cell_type": "markdown",
   "metadata": {},
   "source": [
    "#### Hard problems"
   ]
  },
  {
   "cell_type": "markdown",
   "metadata": {},
   "source": [
    "##### 7. manually calculate the median of the first n numbers (from list \"N\") in list \"X\""
   ]
  },
  {
   "cell_type": "code",
   "execution_count": 14,
   "metadata": {
    "collapsed": false
   },
   "outputs": [
    {
     "name": "stdout",
     "output_type": "stream",
     "text": [
      "[6.5, 3, 3.5, 4.5, 5.5]\n"
     ]
    }
   ],
   "source": [
    "N = [12, 5, 6, 8, 10]\n",
    "X = [1, 2, 3, 4, 5, 6, 7, 8, 9, 10, 11, 12, 13, 14, 15]\n",
    "\n",
    "middle_index = lambda n: int(n/2. - 0.5)\n",
    "lower_index = lambda n: n/2 - 1\n",
    "upper_index = lambda n: n/2\n",
    "\n",
    "medians = [\n",
    "    X[:n][middle_index(n)] \n",
    "    if n % 2 != 0 \n",
    "    else (X[:n][lower_index(n)] + X[:n][upper_index(n)]) / 2. \n",
    "    for n in N\n",
    "]\n",
    "print(medians)"
   ]
  },
  {
   "cell_type": "markdown",
   "metadata": {},
   "source": [
    "##### 8. combine into a flat list: \n",
    "\n",
    "1. iterate the elements of one list \n",
    "2. iteratively multiply by them by the elements in the second list\n",
    "3. then iteratively subtract the elements in a third list\n",
    "\n",
    "e.g:\n",
    "\n",
    "    a = [1,2]\n",
    "    b = [0,1]\n",
    "    c = [1,2]\n",
    "    output = [0,0,0,-1,0,0,1,0]"
   ]
  },
  {
   "cell_type": "code",
   "execution_count": 16,
   "metadata": {
    "collapsed": false
   },
   "outputs": [
    {
     "name": "stdout",
     "output_type": "stream",
     "text": [
      "[89, 88, 87, 69, 68, 67, 49, 48, 47, 44, 43, 42, 34, 33, 32, 24, 23, 22, 8, 7, 6, 6, 5, 4, 4, 3, 2]\n"
     ]
    }
   ],
   "source": [
    "a = [9,7,5]\n",
    "b = [10,5,1]\n",
    "c = [1,2,3]\n",
    "\n",
    "\n",
    "output = [\n",
    "    (a_ * b_) - c_\n",
    "    for b_ in b\n",
    "    for a_ in a\n",
    "    for c_ in c\n",
    "]\n",
    "\n",
    "print(output)"
   ]
  }
 ],
 "metadata": {
  "kernelspec": {
   "display_name": "Python 2",
   "language": "python",
   "name": "python2"
  },
  "language_info": {
   "codemirror_mode": {
    "name": "ipython",
    "version": 2
   },
   "file_extension": ".py",
   "mimetype": "text/x-python",
   "name": "python",
   "nbconvert_exporter": "python",
   "pygments_lexer": "ipython2",
   "version": "2.7.12"
  }
 },
 "nbformat": 4,
 "nbformat_minor": 0
}
